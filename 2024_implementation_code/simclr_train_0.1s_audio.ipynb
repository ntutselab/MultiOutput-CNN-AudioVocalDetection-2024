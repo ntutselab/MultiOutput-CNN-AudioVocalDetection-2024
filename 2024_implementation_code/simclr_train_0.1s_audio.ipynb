{
 "cells": [
  {
   "cell_type": "code",
   "execution_count": 1,
   "metadata": {},
   "outputs": [],
   "source": [
    "import os\n",
    "import sys\n",
    "os.environ['CUDA_VISIBLE_DEVICES'] = \"0,1,2\"\n",
    "sys.path.append('/root/code')\n",
    "\n",
    "from definitions import LOG_DIR, WEIGHT_DIR\n",
    "import tensorflow as tf\n",
    "from tensorflow import keras\n",
    "import tensorflow.keras.backend as K\n",
    "import time\n",
    "import datetime\n",
    "import numpy\n",
    "from utils.contrastiveLoss import ContrastiveLoss\n",
    "from models.SCNN18 import SCNN18\n",
    "from models.SCNN18_random_aug import SCNN18_random_aug\n",
    "from models.SCNN18_Sigmoid_random_aug import SCNN18_Sigmoid_random_aug\n",
    "import utils.dataset as dataset\n",
    "import logging\n",
    "from logging import handlers"
   ]
  },
  {
   "cell_type": "code",
   "execution_count": 2,
   "metadata": {},
   "outputs": [],
   "source": [
    "LOG = logging.getLogger('root')\n",
    "\n",
    "def initLog(debug=False):\n",
    "    logging.basicConfig(\n",
    "        level=logging.INFO,\n",
    "        format='%(asctime)s %(levelname)s %(message)s',\n",
    "        datefmt='%Y-%m-%d %H:%M',\n",
    "        handlers=[logging.StreamHandler(), handlers.RotatingFileHandler('simclr_0.1s_audio.log', \"w\", 1024 * 1024 * 100, 3, \"utf-8\")]\n",
    "    )\n",
    "    LOG.setLevel(logging.DEBUG if debug else logging.INFO)\n",
    "    tf.get_logger().setLevel('ERROR')"
   ]
  },
  {
   "cell_type": "code",
   "execution_count": 3,
   "metadata": {},
   "outputs": [],
   "source": [
    "initLog()"
   ]
  },
  {
   "cell_type": "code",
   "execution_count": 4,
   "metadata": {},
   "outputs": [],
   "source": [
    "def get_optimizer(optimizer, lr):\n",
    "    optimizer = optimizer.lower()\n",
    "    if optimizer == 'adadelta':\n",
    "        return tf.optimizers.Adadelta() if lr == 0 else tf.optimizers.Adadelta(learning_rate=lr)\n",
    "    elif optimizer == 'adagrad':\n",
    "        return tf.optimizers.Adagrad() if lr == 0 else tf.optimizers.Adagrad(learning_rate=lr)\n",
    "    elif optimizer == 'adam':\n",
    "        return tf.optimizers.Adam() if lr == 0 else tf.optimizers.Adam(learning_rate=lr)\n",
    "    elif optimizer == 'adamax':\n",
    "        return tf.optimizers.Adamax() if lr == 0 else tf.optimizers.Adamax(learning_rate=lr)\n",
    "    elif optimizer == 'sgd':\n",
    "        return tf.optimizers.SGD() if lr == 0 else tf.optimizers.SGD(learning_rate=lr)\n",
    "    elif optimizer == 'rmsprop':\n",
    "        return tf.optimizers.RMSprop() if lr == 0 else tf.optimizers.RMSprop(learning_rate=lr)"
   ]
  },
  {
   "cell_type": "code",
   "execution_count": 5,
   "metadata": {},
   "outputs": [],
   "source": [
    "# Define model architecture & define hyper-parameter\n",
    "lr = 1e-4\n",
    "max_epochs = 360\n",
    "sample_size=[32000, 1]\n",
    "batch_size = 32\n",
    "input_shape = tuple(sample_size)\n",
    "output_shape = 2\n",
    "epoch_loss_values = []\n",
    "step_loss_values = []\n",
    "epoch_cl_loss_values = []\n",
    "epoch_recon_loss_values = []"
   ]
  },
  {
   "cell_type": "code",
   "execution_count": 6,
   "metadata": {},
   "outputs": [],
   "source": [
    "def generate_batched_data(ds_path):\n",
    "    for index, ds in enumerate(ds_path):\n",
    "        if index == 0:\n",
    "            train_ds = dataset.get_dataset_without_label(ds)\n",
    "            slices_ds = tf.data.Dataset.from_tensor_slices((train_ds))\n",
    "        else:\n",
    "            train_ds = dataset.get_dataset_without_label(ds)\n",
    "            add_ds = tf.data.Dataset.from_tensor_slices((train_ds))\n",
    "            slices_ds.concatenate(add_ds)\n",
    "    dataset_length = [i for i, _ in enumerate(slices_ds)][-1] + 1\n",
    "\n",
    "    return slices_ds.shuffle(dataset_length, seed=8, reshuffle_each_iteration=True).batch(batch_size)"
   ]
  },
  {
   "cell_type": "code",
   "execution_count": 7,
   "metadata": {},
   "outputs": [],
   "source": [
    "def generate_ground_truth_batched_data(ds_path):\n",
    "    for index, ds in enumerate(ds_path):\n",
    "        if index == 0:\n",
    "            train_ds = dataset.get_ground_truth(ds)\n",
    "            slices_ds = tf.data.Dataset.from_tensor_slices((train_ds))\n",
    "        else:\n",
    "            train_ds = dataset.get_ground_truth(ds)\n",
    "            add_ds = tf.data.Dataset.from_tensor_slices((train_ds))\n",
    "            slices_ds.concatenate(add_ds)\n",
    "    dataset_length = [i for i, _ in enumerate(slices_ds)][-1] + 1\n",
    "\n",
    "    return dataset_length, slices_ds.shuffle(dataset_length, seed=8, reshuffle_each_iteration=True).batch(batch_size)"
   ]
  },
  {
   "cell_type": "code",
   "execution_count": 8,
   "metadata": {},
   "outputs": [],
   "source": [
    "# generate batched data\n",
    "noise_path = ['./SCNN18_0.1second/SCNN-Jamendo-FMA-train_30s-noise.h5']\n",
    "pitch_path = ['./SCNN18_0.1second/SCNN-Jamendo-FMA-train_30s-pitch.h5']\n",
    "ground_path = ['./SCNN18_0.1second/SCNN-Jamendo-FMA-train_30s.h5']"
   ]
  },
  {
   "cell_type": "code",
   "execution_count": 9,
   "metadata": {},
   "outputs": [],
   "source": [
    "noise_ds = generate_batched_data(noise_path)\n",
    "pitch_ds = generate_batched_data(pitch_path)\n",
    "ds_length, gt_ds = generate_ground_truth_batched_data(ground_path)"
   ]
  },
  {
   "cell_type": "code",
   "execution_count": 10,
   "metadata": {},
   "outputs": [
    {
     "name": "stderr",
     "output_type": "stream",
     "text": [
      "2024-06-07 05:35 INFO Model: \"functional_1\"\n",
      "2024-06-07 05:35 INFO _________________________________________________________________\n",
      "2024-06-07 05:35 INFO Layer (type)                 Output Shape              Param #   \n",
      "2024-06-07 05:35 INFO =================================================================\n",
      "2024-06-07 05:35 INFO input (InputLayer)           [(None, 32000, 1)]        0         \n",
      "2024-06-07 05:35 INFO _________________________________________________________________\n",
      "2024-06-07 05:35 INFO STSA (STSA)                  (None, 63, 1024, 1)       4194304   \n",
      "2024-06-07 05:35 INFO _________________________________________________________________\n",
      "2024-06-07 05:35 INFO random_zoom (RandomZoom)     (None, 63, 1024, 1)       0         \n",
      "2024-06-07 05:35 INFO _________________________________________________________________\n",
      "2024-06-07 05:35 INFO uscl_conv1 (USCLLayer)       (None, 21, 512, 64)       704       \n",
      "2024-06-07 05:35 INFO _________________________________________________________________\n",
      "2024-06-07 05:35 INFO uscl_conv2 (USCLLayer)       (None, 21, 512, 64)       8512      \n",
      "2024-06-07 05:35 INFO _________________________________________________________________\n",
      "2024-06-07 05:35 INFO uscl_conv3 (USCLLayer)       (None, 21, 512, 64)       8512      \n",
      "2024-06-07 05:35 INFO _________________________________________________________________\n",
      "2024-06-07 05:35 INFO uscl_conv4 (USCLLayer)       (None, 21, 256, 64)       8512      \n",
      "2024-06-07 05:35 INFO _________________________________________________________________\n",
      "2024-06-07 05:35 INFO uscl_conv5 (USCLLayer)       (None, 21, 128, 64)       8512      \n",
      "2024-06-07 05:35 INFO _________________________________________________________________\n",
      "2024-06-07 05:35 INFO uscl_conv6 (USCLLayer)       (None, 21, 128, 64)       8512      \n",
      "2024-06-07 05:35 INFO _________________________________________________________________\n",
      "2024-06-07 05:35 INFO uscl_conv7 (USCLLayer)       (None, 21, 64, 64)        8512      \n",
      "2024-06-07 05:35 INFO _________________________________________________________________\n",
      "2024-06-07 05:35 INFO uscl_conv8 (USCLLayer)       (None, 21, 64, 128)       17024     \n",
      "2024-06-07 05:35 INFO _________________________________________________________________\n",
      "2024-06-07 05:35 INFO uscl_conv9 (USCLLayer)       (None, 21, 64, 128)       33408     \n",
      "2024-06-07 05:35 INFO _________________________________________________________________\n",
      "2024-06-07 05:35 INFO uscl_conv10 (USCLLayer)      (None, 21, 32, 128)       33408     \n",
      "2024-06-07 05:35 INFO _________________________________________________________________\n",
      "2024-06-07 05:35 INFO uscl_conv11 (USCLLayer)      (None, 21, 16, 128)       33408     \n",
      "2024-06-07 05:35 INFO _________________________________________________________________\n",
      "2024-06-07 05:35 INFO uscl_conv12 (USCLLayer)      (None, 21, 16, 128)       33408     \n",
      "2024-06-07 05:35 INFO _________________________________________________________________\n",
      "2024-06-07 05:35 INFO uscl_conv13 (USCLLayer)      (None, 21, 8, 128)        33408     \n",
      "2024-06-07 05:35 INFO _________________________________________________________________\n",
      "2024-06-07 05:35 INFO uscl_conv14 (USCLLayer)      (None, 21, 4, 256)        66816     \n",
      "2024-06-07 05:35 INFO _________________________________________________________________\n",
      "2024-06-07 05:35 INFO uscl_conv15 (USCLLayer)      (None, 21, 2, 256)        132352    \n",
      "2024-06-07 05:35 INFO _________________________________________________________________\n",
      "2024-06-07 05:35 INFO uscl_conv16 (USCLLayer)      (None, 21, 2, 256)        132352    \n",
      "2024-06-07 05:35 INFO _________________________________________________________________\n",
      "2024-06-07 05:35 INFO final_uscl (Conv2D)          (None, 21, 2, 256)        393472    \n",
      "2024-06-07 05:35 INFO _________________________________________________________________\n",
      "2024-06-07 05:35 INFO activation (Activation)      (None, 21, 2, 256)        0         \n",
      "2024-06-07 05:35 INFO _________________________________________________________________\n",
      "2024-06-07 05:35 INFO final_uscl_bn (BatchNormaliz (None, 21, 2, 256)        1024      \n",
      "2024-06-07 05:35 INFO _________________________________________________________________\n",
      "2024-06-07 05:35 INFO max_pooling2d_8 (MaxPooling2 (None, 7, 1, 256)         0         \n",
      "2024-06-07 05:35 INFO _________________________________________________________________\n",
      "2024-06-07 05:35 INFO final_conv (Conv2D)          (None, 7, 1, 256)         65792     \n",
      "2024-06-07 05:35 INFO _________________________________________________________________\n",
      "2024-06-07 05:35 INFO activation_1 (Activation)    (None, 7, 1, 256)         0         \n",
      "2024-06-07 05:35 INFO _________________________________________________________________\n",
      "2024-06-07 05:35 INFO final_bn (BatchNormalization (None, 7, 1, 256)         1024      \n",
      "2024-06-07 05:35 INFO _________________________________________________________________\n",
      "2024-06-07 05:35 INFO uscl_dropout (Dropout)       (None, 7, 1, 256)         0         \n",
      "2024-06-07 05:35 INFO _________________________________________________________________\n",
      "2024-06-07 05:35 INFO flatten (Flatten)            (None, 1792)              0         \n",
      "2024-06-07 05:35 INFO _________________________________________________________________\n",
      "2024-06-07 05:35 INFO Dense_2nb (Dense)            (None, 2)                 3586      \n",
      "2024-06-07 05:35 INFO =================================================================\n",
      "2024-06-07 05:35 INFO Total params: 5,226,562\n",
      "2024-06-07 05:35 INFO Trainable params: 1,027,266\n",
      "2024-06-07 05:35 INFO Non-trainable params: 4,199,296\n",
      "2024-06-07 05:35 INFO _________________________________________________________________\n"
     ]
    }
   ],
   "source": [
    "strategy = tf.distribute.MirroredStrategy(devices=[f'/gpu:{i}' for i in range(3)])\n",
    "with strategy.scope():\n",
    "    optimizer = get_optimizer('adam', lr)\n",
    "    model = SCNN18_random_aug(input_shape, output_shape).model()\n",
    "    # Compile the model\n",
    "    # contrastive_loss = ContrastiveLoss(temperature=0.05, reduction = tf.keras.losses.Reduction.SUM)\n",
    "    bin_loss = tf.keras.losses.CategoricalCrossentropy(reduction = tf.keras.losses.Reduction.NONE)\n",
    "    model.compile(optimizer=optimizer, loss='categorical_crossentropy')\n",
    "    model.summary(print_fn=LOG.info)\n",
    "\n",
    "    # Define the metrics\n",
    "    train_loss_metric = tf.keras.metrics.Mean()\n",
    "    val_loss_metric = tf.keras.metrics.Mean()\n",
    "    cl_loss_metric = tf.keras.metrics.Mean()\n",
    "    recon_loss_metric = tf.keras.metrics.Mean()"
   ]
  },
  {
   "cell_type": "code",
   "execution_count": 11,
   "metadata": {},
   "outputs": [],
   "source": [
    "def train_step(inputs, inputs_2, gt_input):\n",
    "    with tf.GradientTape() as tape:\n",
    "        # Forward pass\n",
    "        outputs_v1 = model(inputs)\n",
    "        outputs_v2 = model(inputs_2)\n",
    "        # flat_out_v1 = tf.reshape(outputs_v1, (batch_size, -1))\n",
    "        # flat_out_v2 = tf.reshape(outputs_v2, (batch_size, -1))\n",
    "\n",
    "        # Compute the losses\n",
    "        # r_loss = tf.reduce_mean(keras.losses.CategoricalCrossentropy(outputs_v1, gt_input))\n",
    "        r_loss = K.mean(tf.keras.losses.mean_squared_error(gt_input, outputs_v1))\n",
    "        cl_loss = bin_loss(outputs_v1, outputs_v2)\n",
    "\n",
    "        # Adjust the CL loss by Recon Loss\n",
    "        total_loss = r_loss + cl_loss * r_loss\n",
    "\n",
    "        # Compute the gradients and apply them\n",
    "        grads = tape.gradient(total_loss, model.trainable_variables)\n",
    "        optimizer.apply_gradients(zip(grads, model.trainable_variables))\n",
    "\n",
    "    # Update the metrics\n",
    "    train_loss_metric.update_state(total_loss)\n",
    "    cl_loss_metric.update_state(cl_loss)\n",
    "    recon_loss_metric.update_state(r_loss)"
   ]
  },
  {
   "cell_type": "code",
   "execution_count": 12,
   "metadata": {},
   "outputs": [
    {
     "name": "stdout",
     "output_type": "stream",
     "text": [
      "----------\n",
      "epoch 1/360\n",
      "10/145, train_loss: 0.411871, time taken: 0.8815691471099854s\n",
      "20/145, train_loss: 0.402628, time taken: 0.8965892791748047s\n",
      "30/145, train_loss: 0.398952, time taken: 0.8924219608306885s\n",
      "40/145, train_loss: 0.385682, time taken: 0.8742778301239014s\n",
      "50/145, train_loss: 0.381934, time taken: 0.9114646911621094s\n",
      "60/145, train_loss: 0.377264, time taken: 0.8659765720367432s\n",
      "70/145, train_loss: 0.379949, time taken: 0.8959596157073975s\n",
      "80/145, train_loss: 0.375492, time taken: 0.8858809471130371s\n",
      "90/145, train_loss: 0.370156, time taken: 0.8871195316314697s\n",
      "100/145, train_loss: 0.371753, time taken: 0.8858199119567871s\n",
      "110/145, train_loss: 0.372643, time taken: 0.8858203887939453s\n",
      "120/145, train_loss: 0.372052, time taken: 0.882828950881958s\n",
      "130/145, train_loss: 0.367796, time taken: 0.907569408416748s\n",
      "140/145, train_loss: 0.368171, time taken: 0.9283678531646729s\n"
     ]
    },
    {
     "name": "stderr",
     "output_type": "stream",
     "text": [
      "2024-06-07 05:38 INFO epoch 1 average loss: 0.3822\n"
     ]
    },
    {
     "name": "stdout",
     "output_type": "stream",
     "text": [
      "epoch 1 average loss: 0.3822\n",
      "----------\n",
      "epoch 2/360\n",
      "10/145, train_loss: 0.360794, time taken: 0.913261890411377s\n",
      "20/145, train_loss: 0.354000, time taken: 0.9114460945129395s\n",
      "30/145, train_loss: 0.351119, time taken: 0.9151489734649658s\n",
      "40/145, train_loss: 0.347997, time taken: 0.8862833976745605s\n",
      "50/145, train_loss: 0.352867, time taken: 0.897536039352417s\n",
      "60/145, train_loss: 0.352547, time taken: 0.9375255107879639s\n",
      "70/145, train_loss: 0.354447, time taken: 0.9272825717926025s\n",
      "80/145, train_loss: 0.350443, time taken: 0.9064667224884033s\n",
      "90/145, train_loss: 0.351276, time taken: 0.8924190998077393s\n",
      "100/145, train_loss: 0.351034, time taken: 0.9265968799591064s\n",
      "110/145, train_loss: 0.352292, time taken: 0.9128398895263672s\n",
      "120/145, train_loss: 0.350246, time taken: 0.9425063133239746s\n",
      "130/145, train_loss: 0.346880, time taken: 0.9128317832946777s\n",
      "140/145, train_loss: 0.347714, time taken: 1.0027515888214111s\n"
     ]
    },
    {
     "name": "stderr",
     "output_type": "stream",
     "text": [
      "2024-06-07 05:40 INFO epoch 2 average loss: 0.3506\n"
     ]
    },
    {
     "name": "stdout",
     "output_type": "stream",
     "text": [
      "epoch 2 average loss: 0.3506\n",
      "----------\n",
      "epoch 3/360\n",
      "10/145, train_loss: 0.323580, time taken: 0.9138312339782715s\n",
      "20/145, train_loss: 0.351048, time taken: 0.9151952266693115s\n",
      "30/145, train_loss: 0.332974, time taken: 0.9036111831665039s\n",
      "40/145, train_loss: 0.333961, time taken: 0.9249660968780518s\n",
      "50/145, train_loss: 0.330943, time taken: 0.9121983051300049s\n",
      "60/145, train_loss: 0.324808, time taken: 0.9372608661651611s\n",
      "70/145, train_loss: 0.321483, time taken: 0.9304149150848389s\n",
      "80/145, train_loss: 0.317167, time taken: 0.9176435470581055s\n",
      "90/145, train_loss: 0.311509, time taken: 0.9556434154510498s\n",
      "100/145, train_loss: 0.308932, time taken: 0.9268965721130371s\n",
      "110/145, train_loss: 0.306103, time taken: 0.9277541637420654s\n",
      "120/145, train_loss: 0.301038, time taken: 0.9264254570007324s\n",
      "130/145, train_loss: 0.298009, time taken: 0.9119002819061279s\n",
      "140/145, train_loss: 0.295584, time taken: 0.945716142654419s\n"
     ]
    },
    {
     "name": "stderr",
     "output_type": "stream",
     "text": [
      "2024-06-07 05:42 INFO epoch 3 average loss: 0.3168\n"
     ]
    },
    {
     "name": "stdout",
     "output_type": "stream",
     "text": [
      "epoch 3 average loss: 0.3168\n",
      "----------\n",
      "epoch 4/360\n",
      "10/145, train_loss: 0.227979, time taken: 0.9049875736236572s\n",
      "20/145, train_loss: 0.232116, time taken: 0.9158947467803955s\n",
      "30/145, train_loss: 0.233598, time taken: 0.9119882583618164s\n",
      "40/145, train_loss: 0.236149, time taken: 0.9187257289886475s\n",
      "50/145, train_loss: 0.230831, time taken: 0.9161293506622314s\n",
      "60/145, train_loss: 0.231757, time taken: 0.9487965106964111s\n",
      "70/145, train_loss: 0.226825, time taken: 0.9159741401672363s\n",
      "80/145, train_loss: 0.224415, time taken: 0.9028120040893555s\n",
      "90/145, train_loss: 0.224189, time taken: 0.9083709716796875s\n",
      "100/145, train_loss: 0.217581, time taken: 0.8957779407501221s\n",
      "110/145, train_loss: 0.215033, time taken: 0.9311587810516357s\n",
      "120/145, train_loss: 0.214611, time taken: 0.9151458740234375s\n",
      "130/145, train_loss: 0.212577, time taken: 0.9120144844055176s\n",
      "140/145, train_loss: 0.211087, time taken: 0.9081640243530273s\n"
     ]
    },
    {
     "name": "stderr",
     "output_type": "stream",
     "text": [
      "2024-06-07 05:44 INFO epoch 4 average loss: 0.2235\n"
     ]
    },
    {
     "name": "stdout",
     "output_type": "stream",
     "text": [
      "epoch 4 average loss: 0.2235\n",
      "----------\n",
      "epoch 5/360\n",
      "10/145, train_loss: 0.149408, time taken: 0.9092228412628174s\n",
      "20/145, train_loss: 0.183211, time taken: 0.9435575008392334s\n",
      "30/145, train_loss: 0.187446, time taken: 0.9102902412414551s\n",
      "40/145, train_loss: 0.191407, time taken: 0.907832145690918s\n",
      "50/145, train_loss: 0.189465, time taken: 0.9395253658294678s\n",
      "60/145, train_loss: 0.191960, time taken: 0.9140222072601318s\n",
      "70/145, train_loss: 0.192267, time taken: 0.9217729568481445s\n",
      "80/145, train_loss: 0.189551, time taken: 0.9165499210357666s\n",
      "90/145, train_loss: 0.185667, time taken: 0.9121770858764648s\n",
      "100/145, train_loss: 0.188027, time taken: 0.925311803817749s\n",
      "110/145, train_loss: 0.187085, time taken: 0.9011869430541992s\n",
      "120/145, train_loss: 0.187836, time taken: 0.9233081340789795s\n",
      "130/145, train_loss: 0.185369, time taken: 0.9212422370910645s\n",
      "140/145, train_loss: 0.185338, time taken: 0.9394097328186035s\n"
     ]
    },
    {
     "name": "stderr",
     "output_type": "stream",
     "text": [
      "2024-06-07 05:47 INFO epoch 5 average loss: 0.1853\n"
     ]
    },
    {
     "name": "stdout",
     "output_type": "stream",
     "text": [
      "epoch 5 average loss: 0.1853\n",
      "----------\n",
      "epoch 6/360\n",
      "10/145, train_loss: 0.177832, time taken: 0.9390761852264404s\n",
      "20/145, train_loss: 0.168395, time taken: 1.0097792148590088s\n",
      "30/145, train_loss: 0.163517, time taken: 0.9289901256561279s\n",
      "40/145, train_loss: 0.165656, time taken: 0.9216711521148682s\n",
      "50/145, train_loss: 0.169738, time taken: 0.9159364700317383s\n",
      "60/145, train_loss: 0.171683, time taken: 0.9312796592712402s\n",
      "70/145, train_loss: 0.174639, time taken: 0.9150316715240479s\n",
      "80/145, train_loss: 0.180391, time taken: 0.9137930870056152s\n",
      "90/145, train_loss: 0.183055, time taken: 0.9207115173339844s\n",
      "100/145, train_loss: 0.183182, time taken: 0.9348053932189941s\n",
      "110/145, train_loss: 0.179496, time taken: 0.9257192611694336s\n",
      "120/145, train_loss: 0.175691, time taken: 0.9142563343048096s\n",
      "130/145, train_loss: 0.175629, time taken: 0.9193117618560791s\n",
      "140/145, train_loss: 0.175847, time taken: 0.9345815181732178s\n"
     ]
    },
    {
     "name": "stderr",
     "output_type": "stream",
     "text": [
      "2024-06-07 05:49 INFO epoch 6 average loss: 0.1725\n"
     ]
    },
    {
     "name": "stdout",
     "output_type": "stream",
     "text": [
      "epoch 6 average loss: 0.1725\n",
      "----------\n",
      "epoch 7/360\n",
      "10/145, train_loss: 0.152886, time taken: 0.9224412441253662s\n",
      "20/145, train_loss: 0.175935, time taken: 0.9209182262420654s\n",
      "30/145, train_loss: 0.163175, time taken: 0.919255256652832s\n",
      "40/145, train_loss: 0.163775, time taken: 0.9251172542572021s\n",
      "50/145, train_loss: 0.161156, time taken: 0.9258008003234863s\n",
      "60/145, train_loss: 0.156412, time taken: 0.9162817001342773s\n",
      "70/145, train_loss: 0.158229, time taken: 0.918311595916748s\n",
      "80/145, train_loss: 0.157981, time taken: 0.9282560348510742s\n",
      "90/145, train_loss: 0.160578, time taken: 0.9294042587280273s\n",
      "100/145, train_loss: 0.155861, time taken: 0.9258344173431396s\n",
      "110/145, train_loss: 0.157541, time taken: 0.9214138984680176s\n",
      "120/145, train_loss: 0.157164, time taken: 0.9067118167877197s\n",
      "130/145, train_loss: 0.156941, time taken: 0.9250836372375488s\n",
      "140/145, train_loss: 0.155656, time taken: 0.913217306137085s\n"
     ]
    },
    {
     "name": "stderr",
     "output_type": "stream",
     "text": [
      "2024-06-07 05:51 INFO epoch 7 average loss: 0.1591\n"
     ]
    },
    {
     "name": "stdout",
     "output_type": "stream",
     "text": [
      "epoch 7 average loss: 0.1591\n",
      "----------\n",
      "epoch 8/360\n",
      "10/145, train_loss: 0.168046, time taken: 0.9463074207305908s\n",
      "20/145, train_loss: 0.150592, time taken: 0.9371528625488281s\n",
      "30/145, train_loss: 0.159879, time taken: 0.9210731983184814s\n",
      "40/145, train_loss: 0.158577, time taken: 0.9100284576416016s\n",
      "50/145, train_loss: 0.158753, time taken: 0.9072229862213135s\n",
      "60/145, train_loss: 0.150086, time taken: 0.9452259540557861s\n",
      "70/145, train_loss: 0.149154, time taken: 0.9142136573791504s\n",
      "80/145, train_loss: 0.149540, time taken: 0.9257278442382812s\n",
      "90/145, train_loss: 0.147325, time taken: 0.9266207218170166s\n",
      "100/145, train_loss: 0.146031, time taken: 0.9277231693267822s\n",
      "110/145, train_loss: 0.145727, time taken: 0.9209103584289551s\n",
      "120/145, train_loss: 0.144767, time taken: 0.9210519790649414s\n",
      "130/145, train_loss: 0.146756, time taken: 1.0080349445343018s\n",
      "140/145, train_loss: 0.146630, time taken: 0.9260425567626953s\n"
     ]
    },
    {
     "name": "stderr",
     "output_type": "stream",
     "text": [
      "2024-06-07 05:53 INFO epoch 8 average loss: 0.1523\n"
     ]
    },
    {
     "name": "stdout",
     "output_type": "stream",
     "text": [
      "epoch 8 average loss: 0.1523\n",
      "----------\n",
      "epoch 9/360\n",
      "10/145, train_loss: 0.125524, time taken: 0.924548864364624s\n",
      "20/145, train_loss: 0.138153, time taken: 0.9369468688964844s\n",
      "30/145, train_loss: 0.142632, time taken: 0.9212932586669922s\n",
      "40/145, train_loss: 0.143898, time taken: 0.9265871047973633s\n",
      "50/145, train_loss: 0.143386, time taken: 0.9920752048492432s\n",
      "60/145, train_loss: 0.147127, time taken: 0.9290714263916016s\n",
      "70/145, train_loss: 0.145015, time taken: 0.9150533676147461s\n",
      "80/145, train_loss: 0.149963, time taken: 0.9382257461547852s\n",
      "90/145, train_loss: 0.146974, time taken: 0.9140264987945557s\n",
      "100/145, train_loss: 0.148607, time taken: 0.9221682548522949s\n",
      "110/145, train_loss: 0.149721, time taken: 0.9271509647369385s\n",
      "120/145, train_loss: 0.147634, time taken: 0.9359400272369385s\n",
      "130/145, train_loss: 0.146678, time taken: 0.9247927665710449s\n",
      "140/145, train_loss: 0.146039, time taken: 0.9425182342529297s\n"
     ]
    },
    {
     "name": "stderr",
     "output_type": "stream",
     "text": [
      "2024-06-07 05:56 INFO epoch 9 average loss: 0.1439\n"
     ]
    },
    {
     "name": "stdout",
     "output_type": "stream",
     "text": [
      "epoch 9 average loss: 0.1439\n",
      "----------\n",
      "epoch 10/360\n",
      "10/145, train_loss: 0.138448, time taken: 0.9338867664337158s\n",
      "20/145, train_loss: 0.135624, time taken: 0.9313716888427734s\n",
      "30/145, train_loss: 0.133419, time taken: 0.9259955883026123s\n",
      "40/145, train_loss: 0.133107, time taken: 0.9204568862915039s\n",
      "50/145, train_loss: 0.130164, time taken: 0.9329013824462891s\n",
      "60/145, train_loss: 0.129326, time taken: 0.928255558013916s\n",
      "70/145, train_loss: 0.130561, time taken: 0.9066991806030273s\n",
      "80/145, train_loss: 0.131564, time taken: 0.9146969318389893s\n",
      "90/145, train_loss: 0.132610, time taken: 0.9225144386291504s\n",
      "100/145, train_loss: 0.134658, time taken: 0.9170246124267578s\n",
      "110/145, train_loss: 0.135162, time taken: 0.9196507930755615s\n",
      "120/145, train_loss: 0.135451, time taken: 0.9240784645080566s\n",
      "130/145, train_loss: 0.136589, time taken: 0.9101786613464355s\n",
      "140/145, train_loss: 0.135436, time taken: 0.9185607433319092s\n"
     ]
    },
    {
     "name": "stderr",
     "output_type": "stream",
     "text": [
      "2024-06-07 05:58 INFO epoch 10 average loss: 0.1332\n"
     ]
    },
    {
     "name": "stdout",
     "output_type": "stream",
     "text": [
      "epoch 10 average loss: 0.1332\n",
      "----------\n",
      "epoch 11/360\n",
      "10/145, train_loss: 0.115397, time taken: 0.9147365093231201s\n",
      "20/145, train_loss: 0.104208, time taken: 0.9671854972839355s\n",
      "30/145, train_loss: 0.112513, time taken: 0.9092745780944824s\n",
      "40/145, train_loss: 0.117426, time taken: 0.9030487537384033s\n",
      "50/145, train_loss: 0.117470, time taken: 0.9379432201385498s\n",
      "60/145, train_loss: 0.118958, time taken: 0.9342350959777832s\n",
      "70/145, train_loss: 0.121116, time taken: 0.9218349456787109s\n",
      "80/145, train_loss: 0.125976, time taken: 0.9246232509613037s\n",
      "90/145, train_loss: 0.128279, time taken: 0.9061033725738525s\n",
      "100/145, train_loss: 0.131720, time taken: 0.9329178333282471s\n",
      "110/145, train_loss: 0.132839, time taken: 0.9015140533447266s\n",
      "120/145, train_loss: 0.132547, time taken: 0.9403553009033203s\n",
      "130/145, train_loss: 0.129618, time taken: 0.9193599224090576s\n",
      "140/145, train_loss: 0.131911, time taken: 0.9452846050262451s\n"
     ]
    },
    {
     "name": "stderr",
     "output_type": "stream",
     "text": [
      "2024-06-07 06:00 INFO epoch 11 average loss: 0.1228\n"
     ]
    },
    {
     "name": "stdout",
     "output_type": "stream",
     "text": [
      "epoch 11 average loss: 0.1228\n",
      "----------\n",
      "epoch 12/360\n",
      "10/145, train_loss: 0.158441, time taken: 1.0041701793670654s\n",
      "20/145, train_loss: 0.139733, time taken: 0.9386041164398193s\n",
      "30/145, train_loss: 0.145320, time taken: 0.9270548820495605s\n",
      "40/145, train_loss: 0.135619, time taken: 0.9255666732788086s\n",
      "50/145, train_loss: 0.134179, time taken: 0.9407446384429932s\n",
      "60/145, train_loss: 0.130789, time taken: 0.9381911754608154s\n",
      "70/145, train_loss: 0.130518, time taken: 0.9263551235198975s\n",
      "80/145, train_loss: 0.133749, time taken: 0.912264347076416s\n",
      "90/145, train_loss: 0.133493, time taken: 0.9147789478302002s\n",
      "100/145, train_loss: 0.133234, time taken: 0.9366447925567627s\n",
      "110/145, train_loss: 0.134194, time taken: 0.9052999019622803s\n",
      "120/145, train_loss: 0.136535, time taken: 0.9168546199798584s\n",
      "130/145, train_loss: 0.138574, time taken: 0.9319074153900146s\n",
      "140/145, train_loss: 0.139618, time taken: 0.9329242706298828s\n"
     ]
    },
    {
     "name": "stderr",
     "output_type": "stream",
     "text": [
      "2024-06-07 06:03 INFO epoch 12 average loss: 0.1379\n"
     ]
    },
    {
     "name": "stdout",
     "output_type": "stream",
     "text": [
      "epoch 12 average loss: 0.1379\n",
      "----------\n",
      "epoch 13/360\n",
      "10/145, train_loss: 0.115790, time taken: 0.929868221282959s\n",
      "20/145, train_loss: 0.128537, time taken: 0.9152016639709473s\n",
      "30/145, train_loss: 0.133655, time taken: 0.9163711071014404s\n",
      "40/145, train_loss: 0.131347, time taken: 0.9461135864257812s\n",
      "50/145, train_loss: 0.129450, time taken: 0.9350512027740479s\n",
      "60/145, train_loss: 0.131072, time taken: 0.932192325592041s\n",
      "70/145, train_loss: 0.125957, time taken: 0.9422199726104736s\n",
      "80/145, train_loss: 0.123319, time taken: 0.9252965450286865s\n",
      "90/145, train_loss: 0.127086, time taken: 0.9328591823577881s\n",
      "100/145, train_loss: 0.126860, time taken: 0.9169540405273438s\n",
      "110/145, train_loss: 0.124508, time taken: 0.9062063694000244s\n",
      "120/145, train_loss: 0.123014, time taken: 0.9283347129821777s\n",
      "130/145, train_loss: 0.121400, time taken: 0.9334976673126221s\n",
      "140/145, train_loss: 0.122075, time taken: 0.9350652694702148s\n"
     ]
    },
    {
     "name": "stderr",
     "output_type": "stream",
     "text": [
      "2024-06-07 06:05 INFO epoch 13 average loss: 0.1265\n"
     ]
    },
    {
     "name": "stdout",
     "output_type": "stream",
     "text": [
      "epoch 13 average loss: 0.1265\n",
      "----------\n",
      "epoch 14/360\n",
      "10/145, train_loss: 0.124009, time taken: 0.9259860515594482s\n",
      "20/145, train_loss: 0.135054, time taken: 0.9223976135253906s\n",
      "30/145, train_loss: 0.131950, time taken: 0.9235281944274902s\n",
      "40/145, train_loss: 0.129058, time taken: 0.9154119491577148s\n",
      "50/145, train_loss: 0.127251, time taken: 0.9224603176116943s\n",
      "60/145, train_loss: 0.125109, time taken: 0.9097282886505127s\n",
      "70/145, train_loss: 0.122817, time taken: 0.9202549457550049s\n",
      "80/145, train_loss: 0.121630, time taken: 1.034242868423462s\n",
      "90/145, train_loss: 0.121607, time taken: 0.9273946285247803s\n",
      "100/145, train_loss: 0.120218, time taken: 0.9386131763458252s\n",
      "110/145, train_loss: 0.118018, time taken: 0.945765495300293s\n",
      "120/145, train_loss: 0.117039, time taken: 0.9078826904296875s\n",
      "130/145, train_loss: 0.117333, time taken: 0.9391419887542725s\n",
      "140/145, train_loss: 0.120148, time taken: 0.927126407623291s\n"
     ]
    },
    {
     "name": "stderr",
     "output_type": "stream",
     "text": [
      "2024-06-07 06:07 INFO epoch 14 average loss: 0.1252\n"
     ]
    },
    {
     "name": "stdout",
     "output_type": "stream",
     "text": [
      "epoch 14 average loss: 0.1252\n",
      "----------\n",
      "epoch 15/360\n",
      "10/145, train_loss: 0.102900, time taken: 0.9199428558349609s\n",
      "20/145, train_loss: 0.115517, time taken: 0.9288694858551025s\n",
      "30/145, train_loss: 0.116181, time taken: 0.9287605285644531s\n",
      "40/145, train_loss: 0.112347, time taken: 0.9155261516571045s\n",
      "50/145, train_loss: 0.111816, time taken: 0.9106361865997314s\n",
      "60/145, train_loss: 0.112463, time taken: 0.9130167961120605s\n",
      "70/145, train_loss: 0.116489, time taken: 0.9405345916748047s\n",
      "80/145, train_loss: 0.119504, time taken: 0.9228827953338623s\n",
      "90/145, train_loss: 0.120483, time taken: 0.9232540130615234s\n",
      "100/145, train_loss: 0.125203, time taken: 0.9313154220581055s\n",
      "110/145, train_loss: 0.124843, time taken: 0.9305472373962402s\n",
      "120/145, train_loss: 0.127288, time taken: 0.9346044063568115s\n",
      "130/145, train_loss: 0.128679, time taken: 0.9237174987792969s\n",
      "140/145, train_loss: 0.128369, time taken: 0.9402027130126953s\n"
     ]
    },
    {
     "name": "stderr",
     "output_type": "stream",
     "text": [
      "2024-06-07 06:09 INFO epoch 15 average loss: 0.1168\n"
     ]
    },
    {
     "name": "stdout",
     "output_type": "stream",
     "text": [
      "epoch 15 average loss: 0.1168\n",
      "----------\n",
      "epoch 16/360\n",
      "10/145, train_loss: 0.104643, time taken: 0.9026608467102051s\n",
      "20/145, train_loss: 0.109681, time taken: 0.9120681285858154s\n",
      "30/145, train_loss: 0.114356, time taken: 0.9080028533935547s\n",
      "40/145, train_loss: 0.115932, time taken: 0.9392495155334473s\n",
      "50/145, train_loss: 0.114909, time taken: 0.929807186126709s\n",
      "60/145, train_loss: 0.113394, time taken: 0.947418212890625s\n",
      "70/145, train_loss: 0.114821, time taken: 0.9093945026397705s\n",
      "80/145, train_loss: 0.114680, time taken: 0.9384007453918457s\n",
      "90/145, train_loss: 0.114216, time taken: 0.9337906837463379s\n",
      "100/145, train_loss: 0.115560, time taken: 0.9312491416931152s\n",
      "110/145, train_loss: 0.116293, time taken: 0.9397644996643066s\n",
      "120/145, train_loss: 0.115179, time taken: 0.9236767292022705s\n",
      "130/145, train_loss: 0.115852, time taken: 0.921391487121582s\n",
      "140/145, train_loss: 0.115841, time taken: 0.9127590656280518s\n"
     ]
    },
    {
     "name": "stderr",
     "output_type": "stream",
     "text": [
      "2024-06-07 06:12 INFO epoch 16 average loss: 0.1125\n"
     ]
    },
    {
     "name": "stdout",
     "output_type": "stream",
     "text": [
      "epoch 16 average loss: 0.1125\n",
      "----------\n",
      "epoch 17/360\n",
      "10/145, train_loss: 0.118377, time taken: 0.9346561431884766s\n",
      "20/145, train_loss: 0.118923, time taken: 0.9448113441467285s\n",
      "30/145, train_loss: 0.110123, time taken: 0.9183592796325684s\n",
      "40/145, train_loss: 0.113578, time taken: 0.9122679233551025s\n",
      "50/145, train_loss: 0.118928, time taken: 0.9384613037109375s\n",
      "60/145, train_loss: 0.124409, time taken: 0.9423263072967529s\n",
      "70/145, train_loss: 0.122615, time taken: 0.9092874526977539s\n",
      "80/145, train_loss: 0.120757, time taken: 0.8959755897521973s\n",
      "90/145, train_loss: 0.119954, time taken: 0.9312534332275391s\n",
      "100/145, train_loss: 0.119320, time taken: 0.9357156753540039s\n",
      "110/145, train_loss: 0.116323, time taken: 0.9184539318084717s\n",
      "120/145, train_loss: 0.115365, time taken: 1.0005640983581543s\n",
      "130/145, train_loss: 0.116041, time taken: 0.9294793605804443s\n",
      "140/145, train_loss: 0.116527, time taken: 0.9190177917480469s\n"
     ]
    },
    {
     "name": "stderr",
     "output_type": "stream",
     "text": [
      "2024-06-07 06:14 INFO epoch 17 average loss: 0.1177\n"
     ]
    },
    {
     "name": "stdout",
     "output_type": "stream",
     "text": [
      "epoch 17 average loss: 0.1177\n",
      "----------\n",
      "epoch 18/360\n",
      "10/145, train_loss: 0.105865, time taken: 0.9315884113311768s\n",
      "20/145, train_loss: 0.108547, time taken: 0.9186060428619385s\n",
      "30/145, train_loss: 0.108217, time taken: 0.91937255859375s\n",
      "40/145, train_loss: 0.107282, time taken: 0.9247157573699951s\n",
      "50/145, train_loss: 0.107860, time taken: 0.9353823661804199s\n",
      "60/145, train_loss: 0.104006, time taken: 0.9324603080749512s\n",
      "70/145, train_loss: 0.107649, time taken: 0.903728723526001s\n",
      "80/145, train_loss: 0.107554, time taken: 0.9297764301300049s\n",
      "90/145, train_loss: 0.109758, time taken: 0.9329168796539307s\n",
      "100/145, train_loss: 0.107731, time taken: 0.9413292407989502s\n",
      "110/145, train_loss: 0.106116, time taken: 0.925896167755127s\n",
      "120/145, train_loss: 0.105878, time taken: 0.9298791885375977s\n",
      "130/145, train_loss: 0.105697, time taken: 0.9268083572387695s\n",
      "140/145, train_loss: 0.107691, time taken: 0.9184408187866211s\n"
     ]
    },
    {
     "name": "stderr",
     "output_type": "stream",
     "text": [
      "2024-06-07 06:16 INFO epoch 18 average loss: 0.1073\n"
     ]
    },
    {
     "name": "stdout",
     "output_type": "stream",
     "text": [
      "epoch 18 average loss: 0.1073\n",
      "----------\n",
      "epoch 19/360\n",
      "10/145, train_loss: 0.124971, time taken: 0.9031696319580078s\n",
      "20/145, train_loss: 0.114940, time taken: 0.9191310405731201s\n",
      "30/145, train_loss: 0.127292, time taken: 0.9352264404296875s\n",
      "40/145, train_loss: 0.125576, time taken: 0.9133539199829102s\n",
      "50/145, train_loss: 0.130213, time taken: 0.9045441150665283s\n",
      "60/145, train_loss: 0.135327, time taken: 0.9271233081817627s\n",
      "70/145, train_loss: 0.137082, time taken: 0.9112777709960938s\n",
      "80/145, train_loss: 0.133894, time taken: 0.9151935577392578s\n",
      "90/145, train_loss: 0.130560, time taken: 0.9131150245666504s\n",
      "100/145, train_loss: 0.129377, time taken: 0.9252407550811768s\n",
      "110/145, train_loss: 0.128369, time taken: 0.9493954181671143s\n",
      "120/145, train_loss: 0.126144, time taken: 0.9226629734039307s\n",
      "130/145, train_loss: 0.123933, time taken: 0.9066457748413086s\n",
      "140/145, train_loss: 0.122434, time taken: 0.9403214454650879s\n"
     ]
    },
    {
     "name": "stderr",
     "output_type": "stream",
     "text": [
      "2024-06-07 06:18 INFO epoch 19 average loss: 0.1280\n"
     ]
    },
    {
     "name": "stdout",
     "output_type": "stream",
     "text": [
      "epoch 19 average loss: 0.1280\n",
      "----------\n",
      "epoch 20/360\n",
      "10/145, train_loss: 0.134168, time taken: 0.9309320449829102s\n",
      "20/145, train_loss: 0.121777, time taken: 0.9257957935333252s\n",
      "30/145, train_loss: 0.113685, time taken: 0.9170923233032227s\n",
      "40/145, train_loss: 0.110240, time taken: 0.9150054454803467s\n",
      "50/145, train_loss: 0.107802, time taken: 0.9243946075439453s\n",
      "60/145, train_loss: 0.106513, time taken: 0.9499971866607666s\n",
      "70/145, train_loss: 0.107044, time taken: 0.9306206703186035s\n",
      "80/145, train_loss: 0.110363, time taken: 1.0111520290374756s\n",
      "90/145, train_loss: 0.110008, time taken: 0.9510385990142822s\n",
      "100/145, train_loss: 0.108860, time taken: 0.9274978637695312s\n",
      "110/145, train_loss: 0.107866, time taken: 0.9095830917358398s\n",
      "120/145, train_loss: 0.107378, time taken: 0.9241633415222168s\n",
      "130/145, train_loss: 0.106150, time taken: 0.9458732604980469s\n",
      "140/145, train_loss: 0.108228, time taken: 0.9394328594207764s\n"
     ]
    },
    {
     "name": "stderr",
     "output_type": "stream",
     "text": [
      "2024-06-07 06:21 INFO epoch 20 average loss: 0.1110\n"
     ]
    },
    {
     "name": "stdout",
     "output_type": "stream",
     "text": [
      "epoch 20 average loss: 0.1110\n",
      "----------\n",
      "epoch 21/360\n",
      "10/145, train_loss: 0.085963, time taken: 0.9466450214385986s\n",
      "20/145, train_loss: 0.098263, time taken: 0.9216883182525635s\n",
      "30/145, train_loss: 0.097379, time taken: 0.9231643676757812s\n",
      "40/145, train_loss: 0.098754, time taken: 0.9308295249938965s\n",
      "50/145, train_loss: 0.099354, time taken: 0.8987164497375488s\n",
      "60/145, train_loss: 0.102361, time taken: 0.9369935989379883s\n",
      "70/145, train_loss: 0.105530, time taken: 0.9867215156555176s\n",
      "80/145, train_loss: 0.105658, time taken: 0.9327120780944824s\n",
      "90/145, train_loss: 0.104518, time taken: 0.913905143737793s\n",
      "100/145, train_loss: 0.103029, time taken: 0.917827844619751s\n",
      "110/145, train_loss: 0.107518, time taken: 0.9079692363739014s\n",
      "120/145, train_loss: 0.107015, time taken: 0.9178624153137207s\n",
      "130/145, train_loss: 0.105882, time taken: 0.9199614524841309s\n",
      "140/145, train_loss: 0.105724, time taken: 0.9300103187561035s\n"
     ]
    },
    {
     "name": "stderr",
     "output_type": "stream",
     "text": [
      "2024-06-07 06:23 INFO epoch 21 average loss: 0.1014\n"
     ]
    },
    {
     "name": "stdout",
     "output_type": "stream",
     "text": [
      "epoch 21 average loss: 0.1014\n",
      "----------\n",
      "epoch 22/360\n",
      "10/145, train_loss: 0.112732, time taken: 0.9125845432281494s\n",
      "20/145, train_loss: 0.111230, time taken: 0.9320149421691895s\n",
      "30/145, train_loss: 0.103730, time taken: 0.9351301193237305s\n",
      "40/145, train_loss: 0.104519, time taken: 0.9064342975616455s\n",
      "50/145, train_loss: 0.102692, time taken: 0.9042327404022217s\n",
      "60/145, train_loss: 0.110442, time taken: 0.9289250373840332s\n",
      "70/145, train_loss: 0.111503, time taken: 0.9149668216705322s\n",
      "80/145, train_loss: 0.112172, time taken: 0.9148952960968018s\n",
      "90/145, train_loss: 0.109311, time taken: 0.9068026542663574s\n",
      "100/145, train_loss: 0.108454, time taken: 0.9061155319213867s\n",
      "110/145, train_loss: 0.108703, time taken: 0.941988468170166s\n",
      "120/145, train_loss: 0.109028, time taken: 0.9164810180664062s\n",
      "130/145, train_loss: 0.106856, time taken: 0.9292576313018799s\n",
      "140/145, train_loss: 0.106225, time taken: 0.9222686290740967s\n"
     ]
    },
    {
     "name": "stderr",
     "output_type": "stream",
     "text": [
      "2024-06-07 06:25 INFO epoch 22 average loss: 0.1064\n"
     ]
    },
    {
     "name": "stdout",
     "output_type": "stream",
     "text": [
      "epoch 22 average loss: 0.1064\n",
      "----------\n",
      "epoch 23/360\n",
      "10/145, train_loss: 0.109626, time taken: 0.9276025295257568s\n",
      "20/145, train_loss: 0.109006, time taken: 0.9318649768829346s\n",
      "30/145, train_loss: 0.114215, time taken: 0.9017536640167236s\n",
      "40/145, train_loss: 0.106374, time taken: 0.9263005256652832s\n",
      "50/145, train_loss: 0.105100, time taken: 0.9306726455688477s\n",
      "60/145, train_loss: 0.109387, time taken: 0.9452917575836182s\n",
      "70/145, train_loss: 0.104247, time taken: 0.9084649085998535s\n",
      "80/145, train_loss: 0.105052, time taken: 0.9260516166687012s\n",
      "90/145, train_loss: 0.104777, time taken: 0.9088528156280518s\n",
      "100/145, train_loss: 0.103076, time taken: 0.9348912239074707s\n",
      "110/145, train_loss: 0.103414, time taken: 0.9188394546508789s\n",
      "120/145, train_loss: 0.103320, time taken: 0.9312641620635986s\n",
      "130/145, train_loss: 0.104850, time taken: 0.9313778877258301s\n",
      "140/145, train_loss: 0.104512, time taken: 0.9411251544952393s\n"
     ]
    },
    {
     "name": "stderr",
     "output_type": "stream",
     "text": [
      "2024-06-07 06:28 INFO epoch 23 average loss: 0.1066\n"
     ]
    },
    {
     "name": "stdout",
     "output_type": "stream",
     "text": [
      "epoch 23 average loss: 0.1066\n",
      "----------\n",
      "epoch 24/360\n",
      "10/145, train_loss: 0.095664, time taken: 0.9349231719970703s\n",
      "20/145, train_loss: 0.107940, time taken: 0.9074099063873291s\n",
      "30/145, train_loss: 0.098255, time taken: 0.9116396903991699s\n",
      "40/145, train_loss: 0.107043, time taken: 0.9440150260925293s\n",
      "50/145, train_loss: 0.103825, time taken: 0.9525589942932129s\n",
      "60/145, train_loss: 0.102688, time taken: 0.9069397449493408s\n",
      "70/145, train_loss: 0.098441, time taken: 0.953070878982544s\n",
      "80/145, train_loss: 0.098282, time taken: 0.9265739917755127s\n",
      "90/145, train_loss: 0.097534, time taken: 0.9162862300872803s\n",
      "100/145, train_loss: 0.098521, time taken: 0.9316461086273193s\n",
      "110/145, train_loss: 0.099860, time taken: 0.9140620231628418s\n",
      "120/145, train_loss: 0.100133, time taken: 0.9381425380706787s\n",
      "130/145, train_loss: 0.102649, time taken: 0.915111780166626s\n",
      "140/145, train_loss: 0.104224, time taken: 0.9213428497314453s\n"
     ]
    },
    {
     "name": "stderr",
     "output_type": "stream",
     "text": [
      "2024-06-07 06:30 INFO epoch 24 average loss: 0.1004\n"
     ]
    },
    {
     "name": "stdout",
     "output_type": "stream",
     "text": [
      "epoch 24 average loss: 0.1004\n",
      "----------\n",
      "epoch 25/360\n",
      "10/145, train_loss: 0.095021, time taken: 0.92179274559021s\n",
      "20/145, train_loss: 0.098393, time taken: 0.9255495071411133s\n",
      "30/145, train_loss: 0.097757, time taken: 0.9217207431793213s\n",
      "40/145, train_loss: 0.100754, time taken: 0.9371225833892822s\n",
      "50/145, train_loss: 0.096048, time taken: 0.9291548728942871s\n",
      "60/145, train_loss: 0.096650, time taken: 0.9470703601837158s\n",
      "70/145, train_loss: 0.097923, time taken: 0.9471769332885742s\n",
      "80/145, train_loss: 0.097946, time taken: 0.9077022075653076s\n",
      "90/145, train_loss: 0.098732, time taken: 0.9264121055603027s\n",
      "100/145, train_loss: 0.100440, time taken: 0.8997292518615723s\n",
      "110/145, train_loss: 0.098969, time taken: 0.9171743392944336s\n",
      "120/145, train_loss: 0.096260, time taken: 0.9124135971069336s\n",
      "130/145, train_loss: 0.096236, time taken: 0.9354357719421387s\n",
      "140/145, train_loss: 0.097097, time taken: 0.9376180171966553s\n"
     ]
    },
    {
     "name": "stderr",
     "output_type": "stream",
     "text": [
      "2024-06-07 06:32 INFO epoch 25 average loss: 0.0976\n"
     ]
    },
    {
     "name": "stdout",
     "output_type": "stream",
     "text": [
      "epoch 25 average loss: 0.0976\n",
      "----------\n",
      "epoch 26/360\n",
      "10/145, train_loss: 0.088855, time taken: 1.0326111316680908s\n",
      "20/145, train_loss: 0.090678, time taken: 0.9174482822418213s\n",
      "30/145, train_loss: 0.100462, time taken: 0.9518630504608154s\n",
      "40/145, train_loss: 0.099346, time taken: 0.9359726905822754s\n",
      "50/145, train_loss: 0.099426, time taken: 0.9304399490356445s\n",
      "60/145, train_loss: 0.100164, time taken: 0.9226131439208984s\n",
      "70/145, train_loss: 0.099526, time taken: 0.9318637847900391s\n",
      "80/145, train_loss: 0.095550, time taken: 0.9148581027984619s\n",
      "90/145, train_loss: 0.092049, time taken: 0.9350683689117432s\n",
      "100/145, train_loss: 0.091345, time taken: 0.9184901714324951s\n",
      "110/145, train_loss: 0.091853, time taken: 0.921004056930542s\n",
      "120/145, train_loss: 0.094602, time taken: 0.947838306427002s\n",
      "130/145, train_loss: 0.093244, time taken: 0.9142534732818604s\n",
      "140/145, train_loss: 0.091331, time taken: 0.9166967868804932s\n"
     ]
    },
    {
     "name": "stderr",
     "output_type": "stream",
     "text": [
      "2024-06-07 06:34 INFO epoch 26 average loss: 0.0940\n"
     ]
    },
    {
     "name": "stdout",
     "output_type": "stream",
     "text": [
      "epoch 26 average loss: 0.0940\n",
      "----------\n",
      "epoch 27/360\n",
      "10/145, train_loss: 0.100888, time taken: 0.9166316986083984s\n",
      "20/145, train_loss: 0.118462, time taken: 0.936406135559082s\n",
      "30/145, train_loss: 0.114825, time taken: 0.9166929721832275s\n",
      "40/145, train_loss: 0.101618, time taken: 0.9409077167510986s\n",
      "50/145, train_loss: 0.098092, time taken: 0.9451255798339844s\n",
      "60/145, train_loss: 0.097808, time taken: 0.9184024333953857s\n",
      "70/145, train_loss: 0.096775, time taken: 0.9114010334014893s\n",
      "80/145, train_loss: 0.096405, time taken: 0.9171724319458008s\n",
      "90/145, train_loss: 0.094482, time taken: 0.9406578540802002s\n",
      "100/145, train_loss: 0.094390, time taken: 0.9333107471466064s\n",
      "110/145, train_loss: 0.096542, time taken: 0.9453058242797852s\n",
      "120/145, train_loss: 0.096590, time taken: 0.9314281940460205s\n",
      "130/145, train_loss: 0.096636, time taken: 0.9242017269134521s\n",
      "140/145, train_loss: 0.095993, time taken: 0.9345893859863281s\n"
     ]
    },
    {
     "name": "stderr",
     "output_type": "stream",
     "text": [
      "2024-06-07 06:37 INFO epoch 27 average loss: 0.0995\n"
     ]
    },
    {
     "name": "stdout",
     "output_type": "stream",
     "text": [
      "epoch 27 average loss: 0.0995\n",
      "----------\n",
      "epoch 28/360\n",
      "10/145, train_loss: 0.086825, time taken: 0.8966307640075684s\n",
      "20/145, train_loss: 0.081778, time taken: 0.9192948341369629s\n",
      "30/145, train_loss: 0.090642, time taken: 0.9256014823913574s\n",
      "40/145, train_loss: 0.089046, time taken: 0.9050369262695312s\n",
      "50/145, train_loss: 0.092482, time taken: 0.9084346294403076s\n",
      "60/145, train_loss: 0.094019, time taken: 0.9101817607879639s\n",
      "70/145, train_loss: 0.093777, time taken: 0.9312014579772949s\n",
      "80/145, train_loss: 0.093947, time taken: 1.023749828338623s\n",
      "90/145, train_loss: 0.094253, time taken: 0.9476308822631836s\n",
      "100/145, train_loss: 0.094170, time taken: 0.9218363761901855s\n",
      "110/145, train_loss: 0.093139, time taken: 0.917156457901001s\n",
      "120/145, train_loss: 0.094588, time taken: 0.9176523685455322s\n",
      "130/145, train_loss: 0.094190, time taken: 0.9354939460754395s\n",
      "140/145, train_loss: 0.093377, time taken: 0.9319896697998047s\n"
     ]
    },
    {
     "name": "stderr",
     "output_type": "stream",
     "text": [
      "2024-06-07 06:39 INFO epoch 28 average loss: 0.0906\n"
     ]
    },
    {
     "name": "stdout",
     "output_type": "stream",
     "text": [
      "epoch 28 average loss: 0.0906\n",
      "----------\n",
      "epoch 29/360\n",
      "10/145, train_loss: 0.083793, time taken: 0.913994550704956s\n",
      "20/145, train_loss: 0.079719, time taken: 0.9206850528717041s\n",
      "30/145, train_loss: 0.083162, time taken: 0.951962947845459s\n",
      "40/145, train_loss: 0.089241, time taken: 0.9370822906494141s\n",
      "50/145, train_loss: 0.088487, time taken: 0.9419212341308594s\n",
      "60/145, train_loss: 0.090717, time taken: 0.9320018291473389s\n",
      "70/145, train_loss: 0.089139, time taken: 0.9274775981903076s\n",
      "80/145, train_loss: 0.094059, time taken: 0.9060359001159668s\n",
      "90/145, train_loss: 0.093112, time taken: 0.9361710548400879s\n",
      "100/145, train_loss: 0.091902, time taken: 0.9307610988616943s\n",
      "110/145, train_loss: 0.091103, time taken: 0.9222061634063721s\n",
      "120/145, train_loss: 0.093115, time taken: 0.9179623126983643s\n",
      "130/145, train_loss: 0.093546, time taken: 0.9292643070220947s\n",
      "140/145, train_loss: 0.095182, time taken: 0.9478557109832764s\n"
     ]
    },
    {
     "name": "stderr",
     "output_type": "stream",
     "text": [
      "2024-06-07 06:41 INFO epoch 29 average loss: 0.0891\n"
     ]
    },
    {
     "name": "stdout",
     "output_type": "stream",
     "text": [
      "epoch 29 average loss: 0.0891\n",
      "----------\n",
      "epoch 30/360\n",
      "10/145, train_loss: 0.095814, time taken: 0.9030213356018066s\n",
      "20/145, train_loss: 0.082956, time taken: 0.931922435760498s\n",
      "30/145, train_loss: 0.088588, time taken: 0.9050045013427734s\n",
      "40/145, train_loss: 0.088918, time taken: 0.9168374538421631s\n",
      "50/145, train_loss: 0.090512, time taken: 0.9344785213470459s\n",
      "60/145, train_loss: 0.088808, time taken: 0.9202473163604736s\n",
      "70/145, train_loss: 0.090553, time taken: 0.9143333435058594s\n",
      "80/145, train_loss: 0.093554, time taken: 0.8985776901245117s\n",
      "90/145, train_loss: 0.089590, time taken: 0.8938534259796143s\n",
      "100/145, train_loss: 0.089883, time taken: 0.9102072715759277s\n",
      "110/145, train_loss: 0.090398, time taken: 0.9427487850189209s\n",
      "120/145, train_loss: 0.090769, time taken: 0.9163057804107666s\n",
      "130/145, train_loss: 0.090175, time taken: 0.9306912422180176s\n",
      "140/145, train_loss: 0.090906, time taken: 0.9093244075775146s\n"
     ]
    },
    {
     "name": "stderr",
     "output_type": "stream",
     "text": [
      "2024-06-07 06:44 INFO epoch 30 average loss: 0.0907\n"
     ]
    },
    {
     "name": "stdout",
     "output_type": "stream",
     "text": [
      "epoch 30 average loss: 0.0907\n",
      "----------\n",
      "epoch 31/360\n",
      "10/145, train_loss: 0.115401, time taken: 0.9465210437774658s\n",
      "20/145, train_loss: 0.112056, time taken: 0.9189069271087646s\n",
      "30/145, train_loss: 0.099171, time taken: 0.9569301605224609s\n",
      "40/145, train_loss: 0.097262, time taken: 0.9269747734069824s\n",
      "50/145, train_loss: 0.094688, time taken: 0.9223668575286865s\n",
      "60/145, train_loss: 0.094805, time taken: 0.9278419017791748s\n",
      "70/145, train_loss: 0.094374, time taken: 0.918971061706543s\n",
      "80/145, train_loss: 0.095329, time taken: 0.9290258884429932s\n",
      "90/145, train_loss: 0.095718, time taken: 0.9224801063537598s\n",
      "100/145, train_loss: 0.097166, time taken: 0.9096674919128418s\n",
      "110/145, train_loss: 0.095476, time taken: 0.9268486499786377s\n",
      "120/145, train_loss: 0.093583, time taken: 0.9892852306365967s\n",
      "130/145, train_loss: 0.091553, time taken: 0.9172205924987793s\n",
      "140/145, train_loss: 0.091707, time taken: 0.9345932006835938s\n"
     ]
    },
    {
     "name": "stderr",
     "output_type": "stream",
     "text": [
      "2024-06-07 06:46 INFO epoch 31 average loss: 0.0998\n"
     ]
    },
    {
     "name": "stdout",
     "output_type": "stream",
     "text": [
      "epoch 31 average loss: 0.0998\n",
      "----------\n",
      "epoch 32/360\n",
      "10/145, train_loss: 0.112200, time taken: 0.9086840152740479s\n",
      "20/145, train_loss: 0.105448, time taken: 0.9368889331817627s\n",
      "30/145, train_loss: 0.101010, time taken: 0.9287056922912598s\n",
      "40/145, train_loss: 0.097853, time taken: 0.9546270370483398s\n",
      "50/145, train_loss: 0.097264, time taken: 0.9258425235748291s\n",
      "60/145, train_loss: 0.093966, time taken: 0.931419849395752s\n",
      "70/145, train_loss: 0.091953, time taken: 0.9200093746185303s\n",
      "80/145, train_loss: 0.091289, time taken: 0.9339227676391602s\n",
      "90/145, train_loss: 0.089283, time taken: 0.8991396427154541s\n",
      "100/145, train_loss: 0.089281, time taken: 0.9276063442230225s\n",
      "110/145, train_loss: 0.090461, time taken: 0.9537203311920166s\n",
      "120/145, train_loss: 0.091701, time taken: 0.9209833145141602s\n",
      "130/145, train_loss: 0.092483, time taken: 0.9261515140533447s\n",
      "140/145, train_loss: 0.090924, time taken: 0.9173014163970947s\n"
     ]
    },
    {
     "name": "stderr",
     "output_type": "stream",
     "text": [
      "2024-06-07 06:48 INFO epoch 32 average loss: 0.0959\n"
     ]
    },
    {
     "name": "stdout",
     "output_type": "stream",
     "text": [
      "epoch 32 average loss: 0.0959\n",
      "----------\n",
      "epoch 33/360\n",
      "10/145, train_loss: 0.089554, time taken: 0.9096264839172363s\n",
      "20/145, train_loss: 0.090590, time taken: 0.9148743152618408s\n",
      "30/145, train_loss: 0.086648, time taken: 0.9247055053710938s\n",
      "40/145, train_loss: 0.082987, time taken: 0.916290283203125s\n",
      "50/145, train_loss: 0.080326, time taken: 0.9308211803436279s\n",
      "60/145, train_loss: 0.080830, time taken: 0.9202280044555664s\n",
      "70/145, train_loss: 0.083199, time taken: 0.9383800029754639s\n",
      "80/145, train_loss: 0.082547, time taken: 0.9228904247283936s\n",
      "90/145, train_loss: 0.083991, time taken: 0.9154939651489258s\n",
      "100/145, train_loss: 0.088874, time taken: 0.9405162334442139s\n",
      "110/145, train_loss: 0.088810, time taken: 0.9304354190826416s\n",
      "120/145, train_loss: 0.091005, time taken: 0.9303886890411377s\n",
      "130/145, train_loss: 0.091299, time taken: 0.9248952865600586s\n",
      "140/145, train_loss: 0.092906, time taken: 0.9100682735443115s\n"
     ]
    },
    {
     "name": "stderr",
     "output_type": "stream",
     "text": [
      "2024-06-07 06:50 INFO epoch 33 average loss: 0.0857\n"
     ]
    },
    {
     "name": "stdout",
     "output_type": "stream",
     "text": [
      "epoch 33 average loss: 0.0857\n",
      "----------\n",
      "epoch 34/360\n",
      "10/145, train_loss: 0.089308, time taken: 0.9238970279693604s\n",
      "20/145, train_loss: 0.094222, time taken: 0.9257802963256836s\n",
      "30/145, train_loss: 0.096939, time taken: 0.9272425174713135s\n",
      "40/145, train_loss: 0.091914, time taken: 0.931114673614502s\n",
      "50/145, train_loss: 0.092403, time taken: 0.9240608215332031s\n",
      "60/145, train_loss: 0.091832, time taken: 0.9002816677093506s\n",
      "70/145, train_loss: 0.091772, time taken: 0.9359450340270996s\n",
      "80/145, train_loss: 0.091539, time taken: 1.021559715270996s\n",
      "90/145, train_loss: 0.090150, time taken: 0.9073483943939209s\n",
      "100/145, train_loss: 0.090134, time taken: 0.9143092632293701s\n",
      "110/145, train_loss: 0.089823, time taken: 0.9043087959289551s\n",
      "120/145, train_loss: 0.087467, time taken: 0.9211335182189941s\n",
      "130/145, train_loss: 0.085989, time taken: 0.9250988960266113s\n",
      "140/145, train_loss: 0.086145, time taken: 0.9347405433654785s\n"
     ]
    },
    {
     "name": "stderr",
     "output_type": "stream",
     "text": [
      "2024-06-07 06:53 INFO epoch 34 average loss: 0.0921\n"
     ]
    },
    {
     "name": "stdout",
     "output_type": "stream",
     "text": [
      "epoch 34 average loss: 0.0921\n",
      "----------\n",
      "epoch 35/360\n",
      "10/145, train_loss: 0.092069, time taken: 0.9432954788208008s\n",
      "20/145, train_loss: 0.102594, time taken: 0.9213082790374756s\n",
      "30/145, train_loss: 0.095032, time taken: 0.9354944229125977s\n",
      "40/145, train_loss: 0.091337, time taken: 0.9329710006713867s\n",
      "50/145, train_loss: 0.091617, time taken: 0.9219670295715332s\n",
      "60/145, train_loss: 0.089143, time taken: 0.9221999645233154s\n",
      "70/145, train_loss: 0.090814, time taken: 1.0184268951416016s\n",
      "80/145, train_loss: 0.088972, time taken: 0.9266784191131592s\n",
      "90/145, train_loss: 0.086790, time taken: 0.9351212978363037s\n",
      "100/145, train_loss: 0.087175, time taken: 0.9310116767883301s\n",
      "110/145, train_loss: 0.087584, time taken: 0.9149878025054932s\n",
      "120/145, train_loss: 0.088152, time taken: 0.9075231552124023s\n",
      "130/145, train_loss: 0.087805, time taken: 0.9322590827941895s\n",
      "140/145, train_loss: 0.088134, time taken: 0.9336965084075928s\n"
     ]
    },
    {
     "name": "stderr",
     "output_type": "stream",
     "text": [
      "2024-06-07 06:55 INFO epoch 35 average loss: 0.0917\n"
     ]
    },
    {
     "name": "stdout",
     "output_type": "stream",
     "text": [
      "epoch 35 average loss: 0.0917\n",
      "----------\n",
      "epoch 36/360\n",
      "10/145, train_loss: 0.096763, time taken: 0.9230916500091553s\n",
      "20/145, train_loss: 0.086588, time taken: 0.9464802742004395s\n",
      "30/145, train_loss: 0.081249, time taken: 0.9213986396789551s\n",
      "40/145, train_loss: 0.078681, time taken: 0.92710280418396s\n",
      "50/145, train_loss: 0.082270, time taken: 0.9409763813018799s\n",
      "60/145, train_loss: 0.081524, time taken: 0.9235119819641113s\n",
      "70/145, train_loss: 0.085009, time taken: 0.9272458553314209s\n",
      "80/145, train_loss: 0.084497, time taken: 0.9123926162719727s\n",
      "90/145, train_loss: 0.084612, time taken: 0.9201836585998535s\n",
      "100/145, train_loss: 0.083139, time taken: 0.9176943302154541s\n",
      "110/145, train_loss: 0.084744, time taken: 0.9187054634094238s\n",
      "120/145, train_loss: 0.083111, time taken: 0.9238717555999756s\n",
      "130/145, train_loss: 0.083553, time taken: 0.9119606018066406s\n",
      "140/145, train_loss: 0.081982, time taken: 0.9384300708770752s\n"
     ]
    },
    {
     "name": "stderr",
     "output_type": "stream",
     "text": [
      "2024-06-07 06:57 INFO epoch 36 average loss: 0.0839\n"
     ]
    },
    {
     "name": "stdout",
     "output_type": "stream",
     "text": [
      "epoch 36 average loss: 0.0839\n",
      "----------\n",
      "epoch 37/360\n",
      "10/145, train_loss: 0.077106, time taken: 0.9137084484100342s\n",
      "20/145, train_loss: 0.081206, time taken: 0.9456233978271484s\n",
      "30/145, train_loss: 0.081101, time taken: 0.9188613891601562s\n",
      "40/145, train_loss: 0.077340, time taken: 0.9432797431945801s\n",
      "50/145, train_loss: 0.079226, time taken: 0.9369685649871826s\n",
      "60/145, train_loss: 0.081197, time taken: 0.9442934989929199s\n",
      "70/145, train_loss: 0.081074, time taken: 0.9058756828308105s\n",
      "80/145, train_loss: 0.083029, time taken: 0.9351956844329834s\n",
      "90/145, train_loss: 0.086834, time taken: 0.9300520420074463s\n",
      "100/145, train_loss: 0.084270, time taken: 0.9336962699890137s\n",
      "110/145, train_loss: 0.083711, time taken: 0.9483284950256348s\n",
      "120/145, train_loss: 0.081773, time taken: 0.897794246673584s\n",
      "130/145, train_loss: 0.081308, time taken: 0.929365873336792s\n",
      "140/145, train_loss: 0.080960, time taken: 0.9137296676635742s\n"
     ]
    },
    {
     "name": "stderr",
     "output_type": "stream",
     "text": [
      "2024-06-07 06:59 INFO epoch 37 average loss: 0.0809\n"
     ]
    },
    {
     "name": "stdout",
     "output_type": "stream",
     "text": [
      "epoch 37 average loss: 0.0809\n",
      "----------\n",
      "epoch 38/360\n",
      "10/145, train_loss: 0.074665, time taken: 0.9499502182006836s\n",
      "20/145, train_loss: 0.064114, time taken: 0.9081087112426758s\n",
      "30/145, train_loss: 0.066013, time taken: 0.9350192546844482s\n",
      "40/145, train_loss: 0.070617, time taken: 0.9148755073547363s\n",
      "50/145, train_loss: 0.072815, time taken: 0.9278671741485596s\n",
      "60/145, train_loss: 0.071295, time taken: 0.9580340385437012s\n",
      "70/145, train_loss: 0.073638, time taken: 0.965872049331665s\n",
      "80/145, train_loss: 0.073295, time taken: 0.9512410163879395s\n",
      "90/145, train_loss: 0.074413, time taken: 0.9128198623657227s\n",
      "100/145, train_loss: 0.076290, time taken: 0.9468340873718262s\n",
      "110/145, train_loss: 0.076541, time taken: 0.9335415363311768s\n",
      "120/145, train_loss: 0.076227, time taken: 0.9327459335327148s\n",
      "130/145, train_loss: 0.077669, time taken: 0.9539933204650879s\n",
      "140/145, train_loss: 0.078269, time taken: 0.9243679046630859s\n"
     ]
    },
    {
     "name": "stderr",
     "output_type": "stream",
     "text": [
      "2024-06-07 07:02 INFO epoch 38 average loss: 0.0729\n"
     ]
    },
    {
     "name": "stdout",
     "output_type": "stream",
     "text": [
      "epoch 38 average loss: 0.0729\n",
      "----------\n",
      "epoch 39/360\n",
      "10/145, train_loss: 0.081743, time taken: 0.9185733795166016s\n",
      "20/145, train_loss: 0.085897, time taken: 0.9147787094116211s\n",
      "30/145, train_loss: 0.094065, time taken: 0.9304089546203613s\n",
      "40/145, train_loss: 0.087960, time taken: 0.9213747978210449s\n",
      "50/145, train_loss: 0.089153, time taken: 0.9145939350128174s\n",
      "60/145, train_loss: 0.086937, time taken: 0.9218628406524658s\n",
      "70/145, train_loss: 0.087937, time taken: 0.9304606914520264s\n",
      "80/145, train_loss: 0.086758, time taken: 0.9421734809875488s\n",
      "90/145, train_loss: 0.088431, time taken: 0.9136826992034912s\n",
      "100/145, train_loss: 0.087973, time taken: 0.9145102500915527s\n",
      "110/145, train_loss: 0.084600, time taken: 0.9336700439453125s\n",
      "120/145, train_loss: 0.084090, time taken: 0.9429306983947754s\n",
      "130/145, train_loss: 0.085091, time taken: 0.9125082492828369s\n",
      "140/145, train_loss: 0.085297, time taken: 0.9011638164520264s\n"
     ]
    },
    {
     "name": "stderr",
     "output_type": "stream",
     "text": [
      "2024-06-07 07:04 INFO epoch 39 average loss: 0.0867\n"
     ]
    },
    {
     "name": "stdout",
     "output_type": "stream",
     "text": [
      "epoch 39 average loss: 0.0867\n",
      "----------\n",
      "epoch 40/360\n",
      "10/145, train_loss: 0.101428, time taken: 1.0135436058044434s\n",
      "20/145, train_loss: 0.078702, time taken: 0.951664924621582s\n",
      "30/145, train_loss: 0.075012, time taken: 0.9333534240722656s\n",
      "40/145, train_loss: 0.079915, time taken: 0.9318904876708984s\n",
      "50/145, train_loss: 0.079093, time taken: 0.9235963821411133s\n",
      "60/145, train_loss: 0.079430, time taken: 0.9270057678222656s\n",
      "70/145, train_loss: 0.082815, time taken: 0.9200265407562256s\n",
      "80/145, train_loss: 0.079682, time taken: 0.9275519847869873s\n",
      "90/145, train_loss: 0.082899, time taken: 0.9290356636047363s\n",
      "100/145, train_loss: 0.083938, time taken: 0.9408779144287109s\n",
      "110/145, train_loss: 0.083589, time taken: 0.92527174949646s\n",
      "120/145, train_loss: 0.083517, time taken: 0.9105288982391357s\n",
      "130/145, train_loss: 0.083801, time taken: 0.923882246017456s\n",
      "140/145, train_loss: 0.085325, time taken: 0.9275145530700684s\n"
     ]
    },
    {
     "name": "stderr",
     "output_type": "stream",
     "text": [
      "2024-06-07 07:06 INFO epoch 40 average loss: 0.0821\n"
     ]
    },
    {
     "name": "stdout",
     "output_type": "stream",
     "text": [
      "epoch 40 average loss: 0.0821\n",
      "----------\n",
      "epoch 41/360\n",
      "10/145, train_loss: 0.066947, time taken: 0.9375560283660889s\n",
      "20/145, train_loss: 0.071081, time taken: 0.9489469528198242s\n",
      "30/145, train_loss: 0.077352, time taken: 0.9199364185333252s\n",
      "40/145, train_loss: 0.080478, time taken: 0.9043810367584229s\n",
      "50/145, train_loss: 0.080128, time taken: 0.9247186183929443s\n",
      "60/145, train_loss: 0.083030, time taken: 0.9127311706542969s\n",
      "70/145, train_loss: 0.080636, time taken: 0.9447159767150879s\n",
      "80/145, train_loss: 0.080022, time taken: 0.9405398368835449s\n",
      "90/145, train_loss: 0.077382, time taken: 0.9173929691314697s\n",
      "100/145, train_loss: 0.077663, time taken: 0.9220497608184814s\n",
      "110/145, train_loss: 0.078414, time taken: 0.9296164512634277s\n",
      "120/145, train_loss: 0.077667, time taken: 0.9269313812255859s\n",
      "130/145, train_loss: 0.078526, time taken: 0.9175784587860107s\n",
      "140/145, train_loss: 0.080690, time taken: 0.9485893249511719s\n"
     ]
    },
    {
     "name": "stderr",
     "output_type": "stream",
     "text": [
      "2024-06-07 07:09 INFO epoch 41 average loss: 0.0764\n"
     ]
    },
    {
     "name": "stdout",
     "output_type": "stream",
     "text": [
      "epoch 41 average loss: 0.0764\n",
      "----------\n",
      "epoch 42/360\n",
      "10/145, train_loss: 0.081560, time taken: 0.9459066390991211s\n",
      "20/145, train_loss: 0.080120, time taken: 0.9285659790039062s\n",
      "30/145, train_loss: 0.081267, time taken: 0.9233400821685791s\n",
      "40/145, train_loss: 0.080333, time taken: 0.9388816356658936s\n",
      "50/145, train_loss: 0.084548, time taken: 0.9323503971099854s\n",
      "60/145, train_loss: 0.084481, time taken: 0.9390146732330322s\n",
      "70/145, train_loss: 0.085902, time taken: 0.943673849105835s\n",
      "80/145, train_loss: 0.088310, time taken: 1.0047976970672607s\n",
      "90/145, train_loss: 0.086693, time taken: 0.9288344383239746s\n",
      "100/145, train_loss: 0.087976, time taken: 0.9115903377532959s\n",
      "110/145, train_loss: 0.086380, time taken: 0.9263896942138672s\n",
      "120/145, train_loss: 0.083668, time taken: 0.9187994003295898s\n",
      "130/145, train_loss: 0.085363, time taken: 0.9343836307525635s\n",
      "140/145, train_loss: 0.083976, time taken: 0.9279158115386963s\n"
     ]
    },
    {
     "name": "stderr",
     "output_type": "stream",
     "text": [
      "2024-06-07 07:11 INFO epoch 42 average loss: 0.0840\n"
     ]
    },
    {
     "name": "stdout",
     "output_type": "stream",
     "text": [
      "epoch 42 average loss: 0.0840\n",
      "----------\n",
      "epoch 43/360\n",
      "10/145, train_loss: 0.085993, time taken: 0.9285702705383301s\n",
      "20/145, train_loss: 0.089074, time taken: 0.923259973526001s\n",
      "30/145, train_loss: 0.091612, time taken: 0.9117214679718018s\n",
      "40/145, train_loss: 0.082534, time taken: 0.9246735572814941s\n",
      "50/145, train_loss: 0.075765, time taken: 0.9307889938354492s\n",
      "60/145, train_loss: 0.083226, time taken: 0.9255189895629883s\n",
      "70/145, train_loss: 0.078465, time taken: 0.9470071792602539s\n",
      "80/145, train_loss: 0.077108, time taken: 0.9320981502532959s\n",
      "90/145, train_loss: 0.080032, time taken: 0.9528725147247314s\n",
      "100/145, train_loss: 0.081081, time taken: 0.9221360683441162s\n",
      "110/145, train_loss: 0.085050, time taken: 0.918095588684082s\n",
      "120/145, train_loss: 0.082686, time taken: 0.9146571159362793s\n",
      "130/145, train_loss: 0.082190, time taken: 0.9191925525665283s\n",
      "140/145, train_loss: 0.084666, time taken: 0.9104535579681396s\n"
     ]
    },
    {
     "name": "stderr",
     "output_type": "stream",
     "text": [
      "2024-06-07 07:13 INFO epoch 43 average loss: 0.0810\n"
     ]
    },
    {
     "name": "stdout",
     "output_type": "stream",
     "text": [
      "epoch 43 average loss: 0.0810\n",
      "----------\n",
      "epoch 44/360\n",
      "10/145, train_loss: 0.070310, time taken: 0.9391160011291504s\n",
      "20/145, train_loss: 0.082955, time taken: 0.9270122051239014s\n",
      "30/145, train_loss: 0.072010, time taken: 0.9293551445007324s\n",
      "40/145, train_loss: 0.069543, time taken: 0.9323170185089111s\n",
      "50/145, train_loss: 0.073514, time taken: 0.9393060207366943s\n",
      "60/145, train_loss: 0.082366, time taken: 0.9135630130767822s\n",
      "70/145, train_loss: 0.083393, time taken: 0.9191505908966064s\n",
      "80/145, train_loss: 0.083254, time taken: 0.923792839050293s\n",
      "90/145, train_loss: 0.085040, time taken: 0.9430906772613525s\n",
      "100/145, train_loss: 0.085143, time taken: 0.9522044658660889s\n",
      "110/145, train_loss: 0.084308, time taken: 0.9095771312713623s\n",
      "120/145, train_loss: 0.082687, time taken: 0.9250357151031494s\n",
      "130/145, train_loss: 0.081644, time taken: 0.9236874580383301s\n",
      "140/145, train_loss: 0.080506, time taken: 0.9318301677703857s\n"
     ]
    },
    {
     "name": "stderr",
     "output_type": "stream",
     "text": [
      "2024-06-07 07:15 INFO epoch 44 average loss: 0.0799\n"
     ]
    },
    {
     "name": "stdout",
     "output_type": "stream",
     "text": [
      "epoch 44 average loss: 0.0799\n",
      "----------\n",
      "epoch 45/360\n",
      "10/145, train_loss: 0.122820, time taken: 0.9164073467254639s\n",
      "20/145, train_loss: 0.101948, time taken: 0.920574426651001s\n",
      "30/145, train_loss: 0.092724, time taken: 0.938037633895874s\n",
      "40/145, train_loss: 0.084289, time taken: 0.9441652297973633s\n",
      "50/145, train_loss: 0.083902, time taken: 0.9267575740814209s\n",
      "60/145, train_loss: 0.084536, time taken: 0.9141466617584229s\n",
      "70/145, train_loss: 0.083966, time taken: 0.9342999458312988s\n",
      "80/145, train_loss: 0.083827, time taken: 0.9147329330444336s\n",
      "90/145, train_loss: 0.084427, time taken: 0.8998682498931885s\n",
      "100/145, train_loss: 0.082146, time taken: 0.9564120769500732s\n",
      "110/145, train_loss: 0.081861, time taken: 0.9309437274932861s\n",
      "120/145, train_loss: 0.081503, time taken: 1.0074877738952637s\n",
      "130/145, train_loss: 0.081540, time taken: 0.9017021656036377s\n",
      "140/145, train_loss: 0.079736, time taken: 0.9238817691802979s\n"
     ]
    },
    {
     "name": "stderr",
     "output_type": "stream",
     "text": [
      "2024-06-07 07:18 INFO epoch 45 average loss: 0.0900\n"
     ]
    },
    {
     "name": "stdout",
     "output_type": "stream",
     "text": [
      "epoch 45 average loss: 0.0900\n",
      "----------\n",
      "epoch 46/360\n",
      "10/145, train_loss: 0.064634, time taken: 0.9239010810852051s\n",
      "20/145, train_loss: 0.067341, time taken: 0.9210281372070312s\n",
      "30/145, train_loss: 0.072905, time taken: 0.9422423839569092s\n",
      "40/145, train_loss: 0.074641, time taken: 0.9288194179534912s\n",
      "50/145, train_loss: 0.073441, time taken: 0.9446356296539307s\n",
      "60/145, train_loss: 0.077512, time taken: 0.9330780506134033s\n",
      "70/145, train_loss: 0.077495, time taken: 0.9291024208068848s\n",
      "80/145, train_loss: 0.077785, time taken: 0.9158439636230469s\n",
      "90/145, train_loss: 0.077054, time taken: 0.9247169494628906s\n",
      "100/145, train_loss: 0.078354, time taken: 0.9190714359283447s\n",
      "110/145, train_loss: 0.078773, time taken: 0.9383180141448975s\n",
      "120/145, train_loss: 0.076753, time taken: 0.9172573089599609s\n",
      "130/145, train_loss: 0.077314, time taken: 0.9460883140563965s\n",
      "140/145, train_loss: 0.077181, time taken: 0.9271111488342285s\n"
     ]
    },
    {
     "name": "stderr",
     "output_type": "stream",
     "text": [
      "2024-06-07 07:20 INFO epoch 46 average loss: 0.0743\n"
     ]
    },
    {
     "name": "stdout",
     "output_type": "stream",
     "text": [
      "epoch 46 average loss: 0.0743\n",
      "----------\n",
      "epoch 47/360\n",
      "10/145, train_loss: 0.070926, time taken: 0.9197144508361816s\n",
      "20/145, train_loss: 0.078731, time taken: 0.9737613201141357s\n",
      "30/145, train_loss: 0.076942, time taken: 0.9280643463134766s\n",
      "40/145, train_loss: 0.074650, time taken: 0.9074246883392334s\n",
      "50/145, train_loss: 0.072551, time taken: 0.9352855682373047s\n",
      "60/145, train_loss: 0.071669, time taken: 0.9408836364746094s\n",
      "70/145, train_loss: 0.075363, time taken: 0.9068291187286377s\n",
      "80/145, train_loss: 0.072689, time taken: 0.9416358470916748s\n",
      "90/145, train_loss: 0.072151, time taken: 0.924431324005127s\n",
      "100/145, train_loss: 0.072281, time taken: 0.9297621250152588s\n",
      "110/145, train_loss: 0.071081, time taken: 0.9216716289520264s\n",
      "120/145, train_loss: 0.071114, time taken: 0.9436664581298828s\n",
      "130/145, train_loss: 0.071470, time taken: 0.9250452518463135s\n",
      "140/145, train_loss: 0.072109, time taken: 0.9179668426513672s\n"
     ]
    },
    {
     "name": "stderr",
     "output_type": "stream",
     "text": [
      "2024-06-07 07:22 INFO epoch 47 average loss: 0.0724\n"
     ]
    },
    {
     "name": "stdout",
     "output_type": "stream",
     "text": [
      "epoch 47 average loss: 0.0724\n",
      "----------\n",
      "epoch 48/360\n",
      "10/145, train_loss: 0.061843, time taken: 0.9050428867340088s\n",
      "20/145, train_loss: 0.065797, time taken: 0.9201207160949707s\n",
      "30/145, train_loss: 0.071027, time taken: 0.9246313571929932s\n",
      "40/145, train_loss: 0.073394, time taken: 0.9303419589996338s\n",
      "50/145, train_loss: 0.077079, time taken: 0.9116349220275879s\n",
      "60/145, train_loss: 0.075937, time taken: 0.9254977703094482s\n",
      "70/145, train_loss: 0.076601, time taken: 0.9260818958282471s\n",
      "80/145, train_loss: 0.074435, time taken: 1.0037612915039062s\n",
      "90/145, train_loss: 0.072481, time taken: 0.9426155090332031s\n",
      "100/145, train_loss: 0.068921, time taken: 0.926116943359375s\n",
      "110/145, train_loss: 0.069708, time taken: 0.9126687049865723s\n",
      "120/145, train_loss: 0.070021, time taken: 0.9397988319396973s\n",
      "130/145, train_loss: 0.070928, time taken: 0.9149165153503418s\n",
      "140/145, train_loss: 0.071167, time taken: 0.9061901569366455s\n"
     ]
    },
    {
     "name": "stderr",
     "output_type": "stream",
     "text": [
      "2024-06-07 07:25 INFO epoch 48 average loss: 0.0715\n"
     ]
    },
    {
     "name": "stdout",
     "output_type": "stream",
     "text": [
      "epoch 48 average loss: 0.0715\n",
      "----------\n",
      "epoch 49/360\n",
      "10/145, train_loss: 0.076563, time taken: 0.9436054229736328s\n",
      "20/145, train_loss: 0.063893, time taken: 0.9362096786499023s\n",
      "30/145, train_loss: 0.071365, time taken: 0.9215347766876221s\n",
      "40/145, train_loss: 0.067057, time taken: 0.9585561752319336s\n",
      "50/145, train_loss: 0.072373, time taken: 0.953711748123169s\n",
      "60/145, train_loss: 0.072280, time taken: 0.9301939010620117s\n",
      "70/145, train_loss: 0.075823, time taken: 1.0084173679351807s\n",
      "80/145, train_loss: 0.076513, time taken: 0.918466329574585s\n",
      "90/145, train_loss: 0.073816, time taken: 0.9085612297058105s\n",
      "100/145, train_loss: 0.074526, time taken: 0.9324405193328857s\n",
      "110/145, train_loss: 0.074237, time taken: 0.9406909942626953s\n",
      "120/145, train_loss: 0.075700, time taken: 0.9264805316925049s\n",
      "130/145, train_loss: 0.075157, time taken: 0.945070743560791s\n",
      "140/145, train_loss: 0.076294, time taken: 0.9443340301513672s\n"
     ]
    },
    {
     "name": "stderr",
     "output_type": "stream",
     "text": [
      "2024-06-07 07:27 INFO epoch 49 average loss: 0.0735\n"
     ]
    },
    {
     "name": "stdout",
     "output_type": "stream",
     "text": [
      "epoch 49 average loss: 0.0735\n",
      "----------\n",
      "epoch 50/360\n",
      "10/145, train_loss: 0.065956, time taken: 0.9143640995025635s\n",
      "20/145, train_loss: 0.069743, time taken: 0.9398679733276367s\n",
      "30/145, train_loss: 0.066979, time taken: 0.9133620262145996s\n",
      "40/145, train_loss: 0.068275, time taken: 0.9470090866088867s\n",
      "50/145, train_loss: 0.067481, time taken: 0.9123752117156982s\n",
      "60/145, train_loss: 0.066063, time taken: 0.9210143089294434s\n",
      "70/145, train_loss: 0.064637, time taken: 0.927117109298706s\n",
      "80/145, train_loss: 0.067062, time taken: 0.9367303848266602s\n",
      "90/145, train_loss: 0.064741, time taken: 0.9142060279846191s\n",
      "100/145, train_loss: 0.065221, time taken: 0.9167053699493408s\n",
      "110/145, train_loss: 0.064667, time taken: 0.9055330753326416s\n",
      "120/145, train_loss: 0.062912, time taken: 0.9197931289672852s\n",
      "130/145, train_loss: 0.063020, time taken: 0.9231846332550049s\n",
      "140/145, train_loss: 0.063112, time taken: 0.9429812431335449s\n"
     ]
    },
    {
     "name": "stderr",
     "output_type": "stream",
     "text": [
      "2024-06-07 07:29 INFO epoch 50 average loss: 0.0668\n"
     ]
    },
    {
     "name": "stdout",
     "output_type": "stream",
     "text": [
      "epoch 50 average loss: 0.0668\n",
      "----------\n",
      "epoch 51/360\n",
      "10/145, train_loss: 0.077253, time taken: 0.9161925315856934s\n",
      "20/145, train_loss: 0.069840, time taken: 0.9072525501251221s\n",
      "30/145, train_loss: 0.071334, time taken: 0.9362120628356934s\n",
      "40/145, train_loss: 0.070296, time taken: 0.9127190113067627s\n",
      "50/145, train_loss: 0.065818, time taken: 0.9209961891174316s\n",
      "60/145, train_loss: 0.066142, time taken: 0.9143354892730713s\n",
      "70/145, train_loss: 0.069764, time taken: 0.9352364540100098s\n",
      "80/145, train_loss: 0.069700, time taken: 0.9254584312438965s\n",
      "90/145, train_loss: 0.067300, time taken: 0.9560971260070801s\n",
      "100/145, train_loss: 0.066877, time taken: 0.9155526161193848s\n",
      "110/145, train_loss: 0.067390, time taken: 0.9353306293487549s\n",
      "120/145, train_loss: 0.068731, time taken: 0.9184041023254395s\n",
      "130/145, train_loss: 0.068900, time taken: 0.9368891716003418s\n",
      "140/145, train_loss: 0.071133, time taken: 0.9188761711120605s\n"
     ]
    },
    {
     "name": "stderr",
     "output_type": "stream",
     "text": [
      "2024-06-07 07:31 INFO epoch 51 average loss: 0.0701\n"
     ]
    },
    {
     "name": "stdout",
     "output_type": "stream",
     "text": [
      "epoch 51 average loss: 0.0701\n",
      "----------\n",
      "epoch 52/360\n",
      "10/145, train_loss: 0.054631, time taken: 0.9290239810943604s\n",
      "20/145, train_loss: 0.053488, time taken: 0.9147038459777832s\n",
      "30/145, train_loss: 0.055088, time taken: 0.9097294807434082s\n",
      "40/145, train_loss: 0.054351, time taken: 0.9198801517486572s\n",
      "50/145, train_loss: 0.059652, time taken: 0.9607234001159668s\n",
      "60/145, train_loss: 0.062773, time taken: 0.9278008937835693s\n",
      "70/145, train_loss: 0.062162, time taken: 0.9246063232421875s\n",
      "80/145, train_loss: 0.063657, time taken: 0.9172754287719727s\n",
      "90/145, train_loss: 0.068926, time taken: 0.9399154186248779s\n",
      "100/145, train_loss: 0.070867, time taken: 0.9236149787902832s\n",
      "110/145, train_loss: 0.070642, time taken: 0.9160254001617432s\n",
      "120/145, train_loss: 0.069774, time taken: 0.9214587211608887s\n",
      "130/145, train_loss: 0.071098, time taken: 0.9446959495544434s\n",
      "140/145, train_loss: 0.070902, time taken: 0.9415102005004883s\n"
     ]
    },
    {
     "name": "stderr",
     "output_type": "stream",
     "text": [
      "2024-06-07 07:34 INFO epoch 52 average loss: 0.0628\n"
     ]
    },
    {
     "name": "stdout",
     "output_type": "stream",
     "text": [
      "epoch 52 average loss: 0.0628\n",
      "----------\n",
      "epoch 53/360\n",
      "10/145, train_loss: 0.063570, time taken: 0.927138090133667s\n",
      "20/145, train_loss: 0.066696, time taken: 0.9385561943054199s\n",
      "30/145, train_loss: 0.076880, time taken: 0.9092891216278076s\n",
      "40/145, train_loss: 0.075354, time taken: 0.9274694919586182s\n",
      "50/145, train_loss: 0.072953, time taken: 0.9541468620300293s\n",
      "60/145, train_loss: 0.073734, time taken: 0.9188938140869141s\n",
      "70/145, train_loss: 0.071693, time taken: 0.9439423084259033s\n",
      "80/145, train_loss: 0.072084, time taken: 0.9242842197418213s\n",
      "90/145, train_loss: 0.072156, time taken: 0.9298264980316162s\n",
      "100/145, train_loss: 0.071413, time taken: 0.9323272705078125s\n",
      "110/145, train_loss: 0.070491, time taken: 0.9480013847351074s\n",
      "120/145, train_loss: 0.072696, time taken: 0.9129214286804199s\n",
      "130/145, train_loss: 0.073411, time taken: 0.9208405017852783s\n",
      "140/145, train_loss: 0.073176, time taken: 0.9225456714630127s\n"
     ]
    },
    {
     "name": "stderr",
     "output_type": "stream",
     "text": [
      "2024-06-07 07:36 INFO epoch 53 average loss: 0.0711\n"
     ]
    },
    {
     "name": "stdout",
     "output_type": "stream",
     "text": [
      "epoch 53 average loss: 0.0711\n",
      "----------\n",
      "epoch 54/360\n",
      "10/145, train_loss: 0.044536, time taken: 1.009902000427246s\n",
      "20/145, train_loss: 0.057866, time taken: 0.9211149215698242s\n",
      "30/145, train_loss: 0.062304, time taken: 0.9562852382659912s\n",
      "40/145, train_loss: 0.069826, time taken: 0.9184634685516357s\n",
      "50/145, train_loss: 0.066870, time taken: 0.9302399158477783s\n",
      "60/145, train_loss: 0.067592, time taken: 0.90970778465271s\n",
      "70/145, train_loss: 0.064656, time taken: 0.926872730255127s\n",
      "80/145, train_loss: 0.064307, time taken: 0.9263057708740234s\n",
      "90/145, train_loss: 0.065126, time taken: 0.9338333606719971s\n",
      "100/145, train_loss: 0.064331, time taken: 0.9422991275787354s\n",
      "110/145, train_loss: 0.062789, time taken: 0.9319689273834229s\n",
      "120/145, train_loss: 0.065176, time taken: 0.9309694766998291s\n",
      "130/145, train_loss: 0.065355, time taken: 0.9272608757019043s\n",
      "140/145, train_loss: 0.065439, time taken: 0.9206786155700684s\n"
     ]
    },
    {
     "name": "stderr",
     "output_type": "stream",
     "text": [
      "2024-06-07 07:38 INFO epoch 54 average loss: 0.0633\n"
     ]
    },
    {
     "name": "stdout",
     "output_type": "stream",
     "text": [
      "epoch 54 average loss: 0.0633\n",
      "----------\n",
      "epoch 55/360\n",
      "10/145, train_loss: 0.057032, time taken: 0.928896427154541s\n",
      "20/145, train_loss: 0.058963, time taken: 0.9148502349853516s\n",
      "30/145, train_loss: 0.064130, time taken: 0.927666425704956s\n",
      "40/145, train_loss: 0.066893, time taken: 0.9410779476165771s\n",
      "50/145, train_loss: 0.065447, time taken: 0.9185550212860107s\n",
      "60/145, train_loss: 0.067426, time taken: 0.9297397136688232s\n",
      "70/145, train_loss: 0.067272, time taken: 0.9113707542419434s\n",
      "80/145, train_loss: 0.068197, time taken: 0.929027795791626s\n",
      "90/145, train_loss: 0.068996, time taken: 0.9140379428863525s\n",
      "100/145, train_loss: 0.067744, time taken: 0.9526562690734863s\n",
      "110/145, train_loss: 0.068357, time taken: 0.9099881649017334s\n",
      "120/145, train_loss: 0.068200, time taken: 0.9089717864990234s\n",
      "130/145, train_loss: 0.069741, time taken: 0.9165890216827393s\n",
      "140/145, train_loss: 0.069469, time taken: 0.940619707107544s\n"
     ]
    },
    {
     "name": "stderr",
     "output_type": "stream",
     "text": [
      "2024-06-07 07:41 INFO epoch 55 average loss: 0.0654\n"
     ]
    },
    {
     "name": "stdout",
     "output_type": "stream",
     "text": [
      "epoch 55 average loss: 0.0654\n",
      "----------\n",
      "epoch 56/360\n",
      "10/145, train_loss: 0.085257, time taken: 0.928337812423706s\n",
      "20/145, train_loss: 0.084466, time taken: 0.9088971614837646s\n",
      "30/145, train_loss: 0.079399, time taken: 0.9174096584320068s\n",
      "40/145, train_loss: 0.076061, time taken: 0.9300479888916016s\n",
      "50/145, train_loss: 0.074896, time taken: 0.9095797538757324s\n",
      "60/145, train_loss: 0.075788, time taken: 0.9222240447998047s\n",
      "70/145, train_loss: 0.075120, time taken: 0.9132251739501953s\n",
      "80/145, train_loss: 0.071461, time taken: 1.02070951461792s\n",
      "90/145, train_loss: 0.073224, time taken: 0.9545090198516846s\n",
      "100/145, train_loss: 0.072911, time taken: 0.9218087196350098s\n",
      "110/145, train_loss: 0.072581, time taken: 0.9342634677886963s\n",
      "120/145, train_loss: 0.072043, time taken: 0.9210374355316162s\n",
      "130/145, train_loss: 0.068925, time taken: 0.9084572792053223s\n",
      "140/145, train_loss: 0.067842, time taken: 0.9217472076416016s\n"
     ]
    },
    {
     "name": "stderr",
     "output_type": "stream",
     "text": [
      "2024-06-07 07:43 INFO epoch 56 average loss: 0.0753\n"
     ]
    },
    {
     "name": "stdout",
     "output_type": "stream",
     "text": [
      "epoch 56 average loss: 0.0753\n",
      "----------\n",
      "epoch 57/360\n",
      "10/145, train_loss: 0.054951, time taken: 0.9199478626251221s\n",
      "20/145, train_loss: 0.052070, time taken: 0.9293553829193115s\n",
      "30/145, train_loss: 0.061677, time taken: 0.9270620346069336s\n",
      "40/145, train_loss: 0.065650, time taken: 0.9040749073028564s\n",
      "50/145, train_loss: 0.067613, time taken: 0.9261074066162109s\n",
      "60/145, train_loss: 0.064630, time taken: 0.9309613704681396s\n",
      "70/145, train_loss: 0.066127, time taken: 0.9167478084564209s\n",
      "80/145, train_loss: 0.068052, time taken: 0.9301958084106445s\n",
      "90/145, train_loss: 0.066825, time taken: 0.9157283306121826s\n",
      "100/145, train_loss: 0.064615, time taken: 0.9373018741607666s\n",
      "110/145, train_loss: 0.063437, time taken: 0.9181885719299316s\n",
      "120/145, train_loss: 0.066443, time taken: 0.9424347877502441s\n",
      "130/145, train_loss: 0.066389, time taken: 0.916541576385498s\n",
      "140/145, train_loss: 0.066697, time taken: 0.9115650653839111s\n"
     ]
    },
    {
     "name": "stderr",
     "output_type": "stream",
     "text": [
      "2024-06-07 07:45 INFO epoch 57 average loss: 0.0642\n"
     ]
    },
    {
     "name": "stdout",
     "output_type": "stream",
     "text": [
      "epoch 57 average loss: 0.0642\n",
      "----------\n",
      "epoch 58/360\n",
      "10/145, train_loss: 0.064649, time taken: 0.9187605381011963s\n",
      "20/145, train_loss: 0.065696, time taken: 0.9081614017486572s\n",
      "30/145, train_loss: 0.061853, time taken: 0.9092373847961426s\n",
      "40/145, train_loss: 0.063977, time taken: 0.9120564460754395s\n",
      "50/145, train_loss: 0.066720, time taken: 0.938232421875s\n",
      "60/145, train_loss: 0.065634, time taken: 0.9462752342224121s\n",
      "70/145, train_loss: 0.062560, time taken: 0.912470817565918s\n",
      "80/145, train_loss: 0.065571, time taken: 0.9389553070068359s\n",
      "90/145, train_loss: 0.064577, time taken: 0.9386172294616699s\n",
      "100/145, train_loss: 0.066365, time taken: 0.9388539791107178s\n",
      "110/145, train_loss: 0.066642, time taken: 0.9276971817016602s\n",
      "120/145, train_loss: 0.065539, time taken: 0.931788444519043s\n",
      "130/145, train_loss: 0.064698, time taken: 0.9315133094787598s\n",
      "140/145, train_loss: 0.066224, time taken: 0.9051909446716309s\n"
     ]
    },
    {
     "name": "stderr",
     "output_type": "stream",
     "text": [
      "2024-06-07 07:47 INFO epoch 58 average loss: 0.0654\n"
     ]
    },
    {
     "name": "stdout",
     "output_type": "stream",
     "text": [
      "epoch 58 average loss: 0.0654\n",
      "----------\n",
      "epoch 59/360\n",
      "10/145, train_loss: 0.064446, time taken: 0.9253404140472412s\n",
      "20/145, train_loss: 0.070301, time taken: 0.9093503952026367s\n",
      "30/145, train_loss: 0.063807, time taken: 0.9309868812561035s\n",
      "40/145, train_loss: 0.060999, time taken: 0.9315965175628662s\n",
      "50/145, train_loss: 0.062896, time taken: 0.9352595806121826s\n",
      "60/145, train_loss: 0.065278, time taken: 0.9145174026489258s\n",
      "70/145, train_loss: 0.062371, time taken: 0.9164407253265381s\n",
      "80/145, train_loss: 0.062843, time taken: 0.9287881851196289s\n",
      "90/145, train_loss: 0.063755, time taken: 0.918968915939331s\n",
      "100/145, train_loss: 0.064627, time taken: 0.9463222026824951s\n",
      "110/145, train_loss: 0.061987, time taken: 0.9310290813446045s\n",
      "120/145, train_loss: 0.062668, time taken: 1.01533842086792s\n",
      "130/145, train_loss: 0.063582, time taken: 0.9274616241455078s\n",
      "140/145, train_loss: 0.063414, time taken: 0.9339072704315186s\n"
     ]
    },
    {
     "name": "stderr",
     "output_type": "stream",
     "text": [
      "2024-06-07 07:50 INFO epoch 59 average loss: 0.0639\n"
     ]
    },
    {
     "name": "stdout",
     "output_type": "stream",
     "text": [
      "epoch 59 average loss: 0.0639\n",
      "----------\n",
      "epoch 60/360\n",
      "10/145, train_loss: 0.044005, time taken: 0.9215235710144043s\n",
      "20/145, train_loss: 0.061264, time taken: 0.9396545886993408s\n",
      "30/145, train_loss: 0.065087, time taken: 0.9234671592712402s\n",
      "40/145, train_loss: 0.073818, time taken: 0.9228188991546631s\n",
      "50/145, train_loss: 0.066833, time taken: 0.9405961036682129s\n",
      "60/145, train_loss: 0.065733, time taken: 0.9526817798614502s\n",
      "70/145, train_loss: 0.066633, time taken: 0.9256618022918701s\n",
      "80/145, train_loss: 0.062613, time taken: 0.9541275501251221s\n",
      "90/145, train_loss: 0.063277, time taken: 0.9235517978668213s\n",
      "100/145, train_loss: 0.062657, time taken: 0.9242978096008301s\n",
      "110/145, train_loss: 0.062761, time taken: 0.9514186382293701s\n",
      "120/145, train_loss: 0.061849, time taken: 0.9319248199462891s\n",
      "130/145, train_loss: 0.062887, time taken: 0.9247992038726807s\n",
      "140/145, train_loss: 0.062455, time taken: 0.9252984523773193s\n"
     ]
    },
    {
     "name": "stderr",
     "output_type": "stream",
     "text": [
      "2024-06-07 07:52 INFO epoch 60 average loss: 0.0621\n"
     ]
    },
    {
     "name": "stdout",
     "output_type": "stream",
     "text": [
      "epoch 60 average loss: 0.0621\n",
      "----------\n",
      "epoch 61/360\n",
      "10/145, train_loss: 0.057884, time taken: 0.8996551036834717s\n",
      "20/145, train_loss: 0.064176, time taken: 0.9188952445983887s\n",
      "30/145, train_loss: 0.065592, time taken: 0.9422314167022705s\n",
      "40/145, train_loss: 0.066040, time taken: 0.9447216987609863s\n",
      "50/145, train_loss: 0.065551, time taken: 0.9407825469970703s\n",
      "60/145, train_loss: 0.066010, time taken: 0.9187026023864746s\n",
      "70/145, train_loss: 0.064600, time taken: 0.918311357498169s\n",
      "80/145, train_loss: 0.063618, time taken: 0.9447464942932129s\n",
      "90/145, train_loss: 0.063649, time taken: 0.9327640533447266s\n",
      "100/145, train_loss: 0.062756, time taken: 0.9151256084442139s\n",
      "110/145, train_loss: 0.061144, time taken: 0.9045698642730713s\n",
      "120/145, train_loss: 0.062221, time taken: 0.9389286041259766s\n",
      "130/145, train_loss: 0.062313, time taken: 0.9169132709503174s\n",
      "140/145, train_loss: 0.062375, time taken: 0.9420781135559082s\n"
     ]
    },
    {
     "name": "stderr",
     "output_type": "stream",
     "text": [
      "2024-06-07 07:54 INFO epoch 61 average loss: 0.0636\n"
     ]
    },
    {
     "name": "stdout",
     "output_type": "stream",
     "text": [
      "epoch 61 average loss: 0.0636\n",
      "----------\n",
      "epoch 62/360\n",
      "10/145, train_loss: 0.050768, time taken: 0.9274921417236328s\n",
      "20/145, train_loss: 0.056883, time taken: 0.9575648307800293s\n",
      "30/145, train_loss: 0.060143, time taken: 0.8964142799377441s\n",
      "40/145, train_loss: 0.060144, time taken: 0.9255495071411133s\n",
      "50/145, train_loss: 0.066268, time taken: 0.948523759841919s\n",
      "60/145, train_loss: 0.065380, time taken: 0.9225983619689941s\n",
      "70/145, train_loss: 0.065114, time taken: 0.9088678359985352s\n",
      "80/145, train_loss: 0.064782, time taken: 0.9970204830169678s\n",
      "90/145, train_loss: 0.064334, time taken: 0.931483268737793s\n",
      "100/145, train_loss: 0.064408, time taken: 0.9112071990966797s\n",
      "110/145, train_loss: 0.064630, time taken: 0.9042294025421143s\n",
      "120/145, train_loss: 0.063235, time taken: 0.9225149154663086s\n",
      "130/145, train_loss: 0.064209, time taken: 0.9236600399017334s\n",
      "140/145, train_loss: 0.063516, time taken: 0.9076299667358398s\n"
     ]
    },
    {
     "name": "stderr",
     "output_type": "stream",
     "text": [
      "2024-06-07 07:57 INFO epoch 62 average loss: 0.0612\n"
     ]
    },
    {
     "name": "stdout",
     "output_type": "stream",
     "text": [
      "epoch 62 average loss: 0.0612\n",
      "----------\n",
      "epoch 63/360\n",
      "10/145, train_loss: 0.038487, time taken: 0.9127955436706543s\n",
      "20/145, train_loss: 0.044744, time taken: 0.9269638061523438s\n",
      "30/145, train_loss: 0.050583, time taken: 0.9270355701446533s\n",
      "40/145, train_loss: 0.052555, time taken: 0.9112071990966797s\n",
      "50/145, train_loss: 0.058530, time taken: 0.9330267906188965s\n",
      "60/145, train_loss: 0.055872, time taken: 0.9213523864746094s\n",
      "70/145, train_loss: 0.054244, time taken: 1.0230436325073242s\n",
      "80/145, train_loss: 0.056079, time taken: 0.9183292388916016s\n",
      "90/145, train_loss: 0.056552, time taken: 0.92496657371521s\n",
      "100/145, train_loss: 0.054416, time taken: 0.9071075916290283s\n",
      "110/145, train_loss: 0.055257, time taken: 0.9150385856628418s\n",
      "120/145, train_loss: 0.054988, time taken: 0.9186391830444336s\n",
      "130/145, train_loss: 0.054955, time taken: 0.9056441783905029s\n",
      "140/145, train_loss: 0.054660, time taken: 0.9485781192779541s\n"
     ]
    },
    {
     "name": "stderr",
     "output_type": "stream",
     "text": [
      "2024-06-07 07:59 INFO epoch 63 average loss: 0.0530\n"
     ]
    },
    {
     "name": "stdout",
     "output_type": "stream",
     "text": [
      "epoch 63 average loss: 0.0530\n",
      "----------\n",
      "epoch 64/360\n",
      "10/145, train_loss: 0.055528, time taken: 0.906019926071167s\n",
      "20/145, train_loss: 0.063954, time taken: 0.9135122299194336s\n",
      "30/145, train_loss: 0.058145, time taken: 0.9319071769714355s\n",
      "40/145, train_loss: 0.062152, time taken: 0.9157404899597168s\n",
      "50/145, train_loss: 0.065330, time taken: 0.93408203125s\n",
      "60/145, train_loss: 0.062602, time taken: 0.9212467670440674s\n",
      "70/145, train_loss: 0.063535, time taken: 0.9261248111724854s\n",
      "80/145, train_loss: 0.061009, time taken: 0.9290907382965088s\n",
      "90/145, train_loss: 0.058932, time taken: 0.916740894317627s\n",
      "100/145, train_loss: 0.058908, time taken: 0.9401974678039551s\n",
      "110/145, train_loss: 0.060210, time taken: 0.9425487518310547s\n",
      "120/145, train_loss: 0.061980, time taken: 0.9141674041748047s\n",
      "130/145, train_loss: 0.061977, time taken: 0.94004225730896s\n",
      "140/145, train_loss: 0.062381, time taken: 0.9303555488586426s\n"
     ]
    },
    {
     "name": "stderr",
     "output_type": "stream",
     "text": [
      "2024-06-07 08:01 INFO epoch 64 average loss: 0.0604\n"
     ]
    },
    {
     "name": "stdout",
     "output_type": "stream",
     "text": [
      "epoch 64 average loss: 0.0604\n",
      "----------\n",
      "epoch 65/360\n",
      "10/145, train_loss: 0.049483, time taken: 0.9241118431091309s\n",
      "20/145, train_loss: 0.058199, time taken: 0.9553401470184326s\n",
      "30/145, train_loss: 0.060417, time taken: 0.9263660907745361s\n",
      "40/145, train_loss: 0.058618, time taken: 0.9203000068664551s\n",
      "50/145, train_loss: 0.054450, time taken: 0.9184024333953857s\n",
      "60/145, train_loss: 0.054121, time taken: 0.9488222599029541s\n",
      "70/145, train_loss: 0.057153, time taken: 0.9427564144134521s\n",
      "80/145, train_loss: 0.057285, time taken: 0.9159913063049316s\n",
      "90/145, train_loss: 0.056494, time taken: 0.9166202545166016s\n",
      "100/145, train_loss: 0.056530, time taken: 0.9059114456176758s\n",
      "110/145, train_loss: 0.056968, time taken: 0.9397485256195068s\n",
      "120/145, train_loss: 0.058931, time taken: 0.9328880310058594s\n",
      "130/145, train_loss: 0.058435, time taken: 0.9335625171661377s\n",
      "140/145, train_loss: 0.059444, time taken: 0.9288902282714844s\n"
     ]
    },
    {
     "name": "stderr",
     "output_type": "stream",
     "text": [
      "2024-06-07 08:03 INFO epoch 65 average loss: 0.0576\n"
     ]
    },
    {
     "name": "stdout",
     "output_type": "stream",
     "text": [
      "epoch 65 average loss: 0.0576\n",
      "----------\n",
      "epoch 66/360\n",
      "10/145, train_loss: 0.053393, time taken: 0.9441399574279785s\n",
      "20/145, train_loss: 0.060569, time taken: 0.930363655090332s\n",
      "30/145, train_loss: 0.056813, time taken: 0.9095058441162109s\n",
      "40/145, train_loss: 0.060914, time taken: 0.9616663455963135s\n",
      "50/145, train_loss: 0.062437, time taken: 0.903684139251709s\n",
      "60/145, train_loss: 0.059362, time taken: 0.9339914321899414s\n",
      "70/145, train_loss: 0.057740, time taken: 0.9260296821594238s\n",
      "80/145, train_loss: 0.058796, time taken: 0.9269592761993408s\n",
      "90/145, train_loss: 0.059123, time taken: 0.9284868240356445s\n",
      "100/145, train_loss: 0.059065, time taken: 0.9210867881774902s\n",
      "110/145, train_loss: 0.058026, time taken: 0.9332282543182373s\n",
      "120/145, train_loss: 0.058236, time taken: 0.9013350009918213s\n",
      "130/145, train_loss: 0.058817, time taken: 0.9078054428100586s\n",
      "140/145, train_loss: 0.059095, time taken: 0.9361720085144043s\n"
     ]
    },
    {
     "name": "stderr",
     "output_type": "stream",
     "text": [
      "2024-06-07 08:06 INFO epoch 66 average loss: 0.0588\n"
     ]
    },
    {
     "name": "stdout",
     "output_type": "stream",
     "text": [
      "epoch 66 average loss: 0.0588\n",
      "----------\n",
      "epoch 67/360\n",
      "10/145, train_loss: 0.114980, time taken: 0.9268143177032471s\n",
      "20/145, train_loss: 0.093948, time taken: 0.9254114627838135s\n",
      "30/145, train_loss: 0.084396, time taken: 0.9227662086486816s\n",
      "40/145, train_loss: 0.080436, time taken: 0.9236881732940674s\n",
      "50/145, train_loss: 0.074895, time taken: 0.9597935676574707s\n",
      "60/145, train_loss: 0.075353, time taken: 0.9387829303741455s\n",
      "70/145, train_loss: 0.071057, time taken: 0.9144172668457031s\n",
      "80/145, train_loss: 0.070405, time taken: 0.9402306079864502s\n",
      "90/145, train_loss: 0.068313, time taken: 0.9224672317504883s\n",
      "100/145, train_loss: 0.067184, time taken: 0.922419548034668s\n",
      "110/145, train_loss: 0.066251, time taken: 0.9281320571899414s\n",
      "120/145, train_loss: 0.066183, time taken: 0.9270448684692383s\n",
      "130/145, train_loss: 0.064529, time taken: 0.9252686500549316s\n",
      "140/145, train_loss: 0.063816, time taken: 0.925910472869873s\n"
     ]
    },
    {
     "name": "stderr",
     "output_type": "stream",
     "text": [
      "2024-06-07 08:08 INFO epoch 67 average loss: 0.0784\n"
     ]
    },
    {
     "name": "stdout",
     "output_type": "stream",
     "text": [
      "epoch 67 average loss: 0.0784\n",
      "----------\n",
      "epoch 68/360\n",
      "10/145, train_loss: 0.066743, time taken: 1.0305025577545166s\n",
      "20/145, train_loss: 0.057432, time taken: 0.9385206699371338s\n",
      "30/145, train_loss: 0.049911, time taken: 0.9186298847198486s\n",
      "40/145, train_loss: 0.050724, time taken: 0.9266576766967773s\n",
      "50/145, train_loss: 0.055650, time taken: 0.9154787063598633s\n",
      "60/145, train_loss: 0.060443, time taken: 0.9327511787414551s\n",
      "70/145, train_loss: 0.061595, time taken: 0.910301685333252s\n",
      "80/145, train_loss: 0.063144, time taken: 0.9417121410369873s\n",
      "90/145, train_loss: 0.062868, time taken: 0.9469430446624756s\n",
      "100/145, train_loss: 0.061565, time taken: 0.924933671951294s\n",
      "110/145, train_loss: 0.061498, time taken: 0.8987569808959961s\n",
      "120/145, train_loss: 0.060964, time taken: 0.9322183132171631s\n",
      "130/145, train_loss: 0.061392, time taken: 0.9170103073120117s\n",
      "140/145, train_loss: 0.061798, time taken: 0.9703350067138672s\n"
     ]
    },
    {
     "name": "stderr",
     "output_type": "stream",
     "text": [
      "2024-06-07 08:10 INFO epoch 68 average loss: 0.0598\n"
     ]
    },
    {
     "name": "stdout",
     "output_type": "stream",
     "text": [
      "epoch 68 average loss: 0.0598\n",
      "----------\n",
      "epoch 69/360\n",
      "10/145, train_loss: 0.057201, time taken: 0.9183874130249023s\n",
      "20/145, train_loss: 0.052156, time taken: 0.9357869625091553s\n",
      "30/145, train_loss: 0.054894, time taken: 0.9357483386993408s\n",
      "40/145, train_loss: 0.055564, time taken: 0.9079127311706543s\n",
      "50/145, train_loss: 0.056205, time taken: 0.9174723625183105s\n",
      "60/145, train_loss: 0.055891, time taken: 0.9397523403167725s\n",
      "70/145, train_loss: 0.054754, time taken: 0.9528241157531738s\n",
      "80/145, train_loss: 0.052442, time taken: 0.9242231845855713s\n",
      "90/145, train_loss: 0.053145, time taken: 0.9236571788787842s\n",
      "100/145, train_loss: 0.051225, time taken: 0.9411404132843018s\n",
      "110/145, train_loss: 0.050962, time taken: 0.9294400215148926s\n",
      "120/145, train_loss: 0.050129, time taken: 0.9288568496704102s\n",
      "130/145, train_loss: 0.051891, time taken: 0.9236152172088623s\n",
      "140/145, train_loss: 0.051050, time taken: 0.9138007164001465s\n"
     ]
    },
    {
     "name": "stderr",
     "output_type": "stream",
     "text": [
      "2024-06-07 08:13 INFO epoch 69 average loss: 0.0533\n"
     ]
    },
    {
     "name": "stdout",
     "output_type": "stream",
     "text": [
      "epoch 69 average loss: 0.0533\n",
      "----------\n",
      "epoch 70/360\n",
      "10/145, train_loss: 0.055844, time taken: 0.9542312622070312s\n",
      "20/145, train_loss: 0.052147, time taken: 0.9450962543487549s\n",
      "30/145, train_loss: 0.052136, time taken: 0.9047896862030029s\n",
      "40/145, train_loss: 0.058195, time taken: 0.9318411350250244s\n",
      "50/145, train_loss: 0.065895, time taken: 0.9273996353149414s\n",
      "60/145, train_loss: 0.070458, time taken: 0.9308030605316162s\n",
      "70/145, train_loss: 0.067174, time taken: 0.9119317531585693s\n",
      "80/145, train_loss: 0.066025, time taken: 1.0122380256652832s\n",
      "90/145, train_loss: 0.063790, time taken: 0.9101946353912354s\n",
      "100/145, train_loss: 0.065638, time taken: 0.9381313323974609s\n",
      "110/145, train_loss: 0.065849, time taken: 0.925757646560669s\n",
      "120/145, train_loss: 0.065688, time taken: 0.911912202835083s\n",
      "130/145, train_loss: 0.063879, time taken: 0.9227457046508789s\n",
      "140/145, train_loss: 0.063136, time taken: 0.9331190586090088s\n"
     ]
    },
    {
     "name": "stderr",
     "output_type": "stream",
     "text": [
      "2024-06-07 08:15 INFO epoch 70 average loss: 0.0631\n"
     ]
    },
    {
     "name": "stdout",
     "output_type": "stream",
     "text": [
      "epoch 70 average loss: 0.0631\n",
      "----------\n",
      "epoch 71/360\n",
      "10/145, train_loss: 0.036093, time taken: 0.9574069976806641s\n",
      "20/145, train_loss: 0.056095, time taken: 0.9472897052764893s\n",
      "30/145, train_loss: 0.054319, time taken: 0.9300687313079834s\n",
      "40/145, train_loss: 0.053642, time taken: 0.9118852615356445s\n",
      "50/145, train_loss: 0.052004, time taken: 0.9196953773498535s\n",
      "60/145, train_loss: 0.052835, time taken: 0.9023022651672363s\n",
      "70/145, train_loss: 0.051134, time taken: 0.9508349895477295s\n",
      "80/145, train_loss: 0.051880, time taken: 0.8964083194732666s\n",
      "90/145, train_loss: 0.052745, time taken: 0.9301941394805908s\n",
      "100/145, train_loss: 0.051408, time taken: 0.9125409126281738s\n",
      "110/145, train_loss: 0.053023, time taken: 0.934328556060791s\n",
      "120/145, train_loss: 0.052011, time taken: 0.9277536869049072s\n",
      "130/145, train_loss: 0.053990, time taken: 0.9133820533752441s\n",
      "140/145, train_loss: 0.054736, time taken: 0.9309084415435791s\n"
     ]
    },
    {
     "name": "stderr",
     "output_type": "stream",
     "text": [
      "2024-06-07 08:17 INFO epoch 71 average loss: 0.0508\n"
     ]
    },
    {
     "name": "stdout",
     "output_type": "stream",
     "text": [
      "epoch 71 average loss: 0.0508\n",
      "----------\n",
      "epoch 72/360\n",
      "10/145, train_loss: 0.095321, time taken: 0.9082820415496826s\n",
      "20/145, train_loss: 0.075384, time taken: 0.925163984298706s\n",
      "30/145, train_loss: 0.062864, time taken: 0.9195590019226074s\n",
      "40/145, train_loss: 0.057276, time taken: 0.924227237701416s\n",
      "50/145, train_loss: 0.053476, time taken: 0.9488649368286133s\n",
      "60/145, train_loss: 0.049259, time taken: 0.9239823818206787s\n",
      "70/145, train_loss: 0.047300, time taken: 0.9230804443359375s\n",
      "80/145, train_loss: 0.047271, time taken: 0.9259519577026367s\n",
      "90/145, train_loss: 0.047745, time taken: 0.927330493927002s\n",
      "100/145, train_loss: 0.049933, time taken: 0.9357199668884277s\n",
      "110/145, train_loss: 0.049668, time taken: 0.9240176677703857s\n",
      "120/145, train_loss: 0.050908, time taken: 0.9173526763916016s\n",
      "130/145, train_loss: 0.051811, time taken: 0.9228744506835938s\n",
      "140/145, train_loss: 0.051796, time taken: 0.9272711277008057s\n"
     ]
    },
    {
     "name": "stderr",
     "output_type": "stream",
     "text": [
      "2024-06-07 08:19 INFO epoch 72 average loss: 0.0568\n"
     ]
    },
    {
     "name": "stdout",
     "output_type": "stream",
     "text": [
      "epoch 72 average loss: 0.0568\n",
      "----------\n",
      "epoch 73/360\n",
      "10/145, train_loss: 0.049150, time taken: 0.9128601551055908s\n",
      "20/145, train_loss: 0.053359, time taken: 0.9364292621612549s\n",
      "30/145, train_loss: 0.057475, time taken: 0.9332125186920166s\n",
      "40/145, train_loss: 0.054858, time taken: 0.922980785369873s\n",
      "50/145, train_loss: 0.055366, time taken: 0.9478445053100586s\n",
      "60/145, train_loss: 0.051852, time taken: 0.9321422576904297s\n",
      "70/145, train_loss: 0.052434, time taken: 0.9040994644165039s\n",
      "80/145, train_loss: 0.054657, time taken: 0.9287030696868896s\n",
      "90/145, train_loss: 0.056152, time taken: 0.9297490119934082s\n",
      "100/145, train_loss: 0.057429, time taken: 0.9320797920227051s\n",
      "110/145, train_loss: 0.057804, time taken: 0.924689769744873s\n",
      "120/145, train_loss: 0.057238, time taken: 1.024017095565796s\n",
      "130/145, train_loss: 0.056616, time taken: 0.9511089324951172s\n",
      "140/145, train_loss: 0.055722, time taken: 0.9216446876525879s\n"
     ]
    },
    {
     "name": "stderr",
     "output_type": "stream",
     "text": [
      "2024-06-07 08:22 INFO epoch 73 average loss: 0.0543\n"
     ]
    },
    {
     "name": "stdout",
     "output_type": "stream",
     "text": [
      "epoch 73 average loss: 0.0543\n",
      "----------\n",
      "epoch 74/360\n",
      "10/145, train_loss: 0.046325, time taken: 0.9388439655303955s\n",
      "20/145, train_loss: 0.044950, time taken: 0.9140145778656006s\n",
      "30/145, train_loss: 0.044556, time taken: 0.921074628829956s\n",
      "40/145, train_loss: 0.043993, time taken: 0.9390690326690674s\n",
      "50/145, train_loss: 0.043400, time taken: 0.915522575378418s\n",
      "60/145, train_loss: 0.045308, time taken: 0.9261949062347412s\n",
      "70/145, train_loss: 0.045137, time taken: 0.9133164882659912s\n",
      "80/145, train_loss: 0.045636, time taken: 0.9233982563018799s\n",
      "90/145, train_loss: 0.047456, time taken: 0.9146480560302734s\n",
      "100/145, train_loss: 0.050472, time taken: 0.9366228580474854s\n",
      "110/145, train_loss: 0.053538, time taken: 0.9575977325439453s\n",
      "120/145, train_loss: 0.057560, time taken: 0.9440040588378906s\n",
      "130/145, train_loss: 0.057240, time taken: 0.9142739772796631s\n",
      "140/145, train_loss: 0.056546, time taken: 0.9338095188140869s\n"
     ]
    },
    {
     "name": "stderr",
     "output_type": "stream",
     "text": [
      "2024-06-07 08:24 INFO epoch 74 average loss: 0.0483\n"
     ]
    },
    {
     "name": "stdout",
     "output_type": "stream",
     "text": [
      "epoch 74 average loss: 0.0483\n",
      "----------\n",
      "epoch 75/360\n",
      "10/145, train_loss: 0.055109, time taken: 0.9132418632507324s\n",
      "20/145, train_loss: 0.052858, time taken: 0.9390568733215332s\n",
      "30/145, train_loss: 0.053439, time taken: 0.9507734775543213s\n",
      "40/145, train_loss: 0.048736, time taken: 0.9316089153289795s\n",
      "50/145, train_loss: 0.046776, time taken: 0.9128427505493164s\n",
      "60/145, train_loss: 0.053889, time taken: 0.9492132663726807s\n",
      "70/145, train_loss: 0.057840, time taken: 0.923478364944458s\n",
      "80/145, train_loss: 0.057172, time taken: 0.9132776260375977s\n",
      "90/145, train_loss: 0.057434, time taken: 0.9102897644042969s\n",
      "100/145, train_loss: 0.057754, time taken: 0.9210922718048096s\n",
      "110/145, train_loss: 0.055509, time taken: 0.9384775161743164s\n",
      "120/145, train_loss: 0.055339, time taken: 0.9395160675048828s\n",
      "130/145, train_loss: 0.054862, time taken: 0.9130947589874268s\n",
      "140/145, train_loss: 0.054454, time taken: 0.9052858352661133s\n"
     ]
    },
    {
     "name": "stderr",
     "output_type": "stream",
     "text": [
      "2024-06-07 08:26 INFO epoch 75 average loss: 0.0539\n"
     ]
    },
    {
     "name": "stdout",
     "output_type": "stream",
     "text": [
      "epoch 75 average loss: 0.0539\n",
      "----------\n",
      "epoch 76/360\n",
      "10/145, train_loss: 0.033375, time taken: 0.9299266338348389s\n",
      "20/145, train_loss: 0.062610, time taken: 0.9155933856964111s\n",
      "30/145, train_loss: 0.060683, time taken: 0.9035153388977051s\n",
      "40/145, train_loss: 0.068031, time taken: 0.9352660179138184s\n",
      "50/145, train_loss: 0.068591, time taken: 0.9169988632202148s\n",
      "60/145, train_loss: 0.065010, time taken: 0.9015328884124756s\n",
      "70/145, train_loss: 0.064104, time taken: 0.9249212741851807s\n",
      "80/145, train_loss: 0.062077, time taken: 1.009314775466919s\n",
      "90/145, train_loss: 0.061050, time taken: 0.911325216293335s\n",
      "100/145, train_loss: 0.060354, time taken: 0.9160475730895996s\n",
      "110/145, train_loss: 0.060298, time taken: 0.946666955947876s\n",
      "120/145, train_loss: 0.060005, time taken: 0.9453256130218506s\n",
      "130/145, train_loss: 0.059675, time taken: 0.9109747409820557s\n",
      "140/145, train_loss: 0.059040, time taken: 0.9124510288238525s\n"
     ]
    },
    {
     "name": "stderr",
     "output_type": "stream",
     "text": [
      "2024-06-07 08:29 INFO epoch 76 average loss: 0.0591\n"
     ]
    },
    {
     "name": "stdout",
     "output_type": "stream",
     "text": [
      "epoch 76 average loss: 0.0591\n",
      "----------\n",
      "epoch 77/360\n",
      "10/145, train_loss: 0.047634, time taken: 0.9532883167266846s\n",
      "20/145, train_loss: 0.042160, time taken: 0.9241490364074707s\n",
      "30/145, train_loss: 0.046608, time taken: 0.9193437099456787s\n",
      "40/145, train_loss: 0.048941, time taken: 0.9199278354644775s\n",
      "50/145, train_loss: 0.046080, time taken: 0.9150710105895996s\n",
      "60/145, train_loss: 0.045850, time taken: 0.9386556148529053s\n",
      "70/145, train_loss: 0.045631, time taken: 1.0170438289642334s\n",
      "80/145, train_loss: 0.046378, time taken: 0.9301927089691162s\n",
      "90/145, train_loss: 0.047378, time taken: 0.9483997821807861s\n",
      "100/145, train_loss: 0.048008, time taken: 0.9177632331848145s\n",
      "110/145, train_loss: 0.047969, time taken: 0.9048082828521729s\n",
      "120/145, train_loss: 0.048167, time taken: 0.9162132740020752s\n",
      "130/145, train_loss: 0.048620, time taken: 0.9256622791290283s\n",
      "140/145, train_loss: 0.049004, time taken: 0.936920166015625s\n"
     ]
    },
    {
     "name": "stderr",
     "output_type": "stream",
     "text": [
      "2024-06-07 08:31 INFO epoch 77 average loss: 0.0470\n"
     ]
    },
    {
     "name": "stdout",
     "output_type": "stream",
     "text": [
      "epoch 77 average loss: 0.0470\n",
      "----------\n",
      "epoch 78/360\n",
      "10/145, train_loss: 0.085069, time taken: 0.9228649139404297s\n",
      "20/145, train_loss: 0.067920, time taken: 0.9204142093658447s\n",
      "30/145, train_loss: 0.066411, time taken: 0.8992640972137451s\n",
      "40/145, train_loss: 0.064897, time taken: 0.9319376945495605s\n",
      "50/145, train_loss: 0.063579, time taken: 0.9040813446044922s\n",
      "60/145, train_loss: 0.061335, time taken: 0.9439685344696045s\n",
      "70/145, train_loss: 0.059095, time taken: 0.9263622760772705s\n",
      "80/145, train_loss: 0.056101, time taken: 0.9328103065490723s\n",
      "90/145, train_loss: 0.055416, time taken: 0.904181957244873s\n",
      "100/145, train_loss: 0.054876, time taken: 0.936060905456543s\n",
      "110/145, train_loss: 0.053940, time taken: 0.8989462852478027s\n",
      "120/145, train_loss: 0.054559, time taken: 0.9254653453826904s\n",
      "130/145, train_loss: 0.053427, time taken: 0.9302849769592285s\n",
      "140/145, train_loss: 0.056235, time taken: 0.9305036067962646s\n"
     ]
    },
    {
     "name": "stderr",
     "output_type": "stream",
     "text": [
      "2024-06-07 08:33 INFO epoch 78 average loss: 0.0611\n"
     ]
    },
    {
     "name": "stdout",
     "output_type": "stream",
     "text": [
      "epoch 78 average loss: 0.0611\n",
      "----------\n",
      "epoch 79/360\n",
      "10/145, train_loss: 0.050154, time taken: 0.938805103302002s\n",
      "20/145, train_loss: 0.047607, time taken: 0.9380836486816406s\n",
      "30/145, train_loss: 0.045262, time taken: 0.9156420230865479s\n",
      "40/145, train_loss: 0.045698, time taken: 0.916236162185669s\n",
      "50/145, train_loss: 0.051391, time taken: 0.9284441471099854s\n",
      "60/145, train_loss: 0.052509, time taken: 0.9384617805480957s\n",
      "70/145, train_loss: 0.052239, time taken: 0.9078750610351562s\n",
      "80/145, train_loss: 0.053246, time taken: 0.9131643772125244s\n",
      "90/145, train_loss: 0.052387, time taken: 0.9122679233551025s\n",
      "100/145, train_loss: 0.052848, time taken: 0.9318828582763672s\n",
      "110/145, train_loss: 0.051065, time taken: 0.9340841770172119s\n",
      "120/145, train_loss: 0.050365, time taken: 0.9160230159759521s\n",
      "130/145, train_loss: 0.051917, time taken: 0.918187141418457s\n",
      "140/145, train_loss: 0.051315, time taken: 0.9439065456390381s\n"
     ]
    },
    {
     "name": "stderr",
     "output_type": "stream",
     "text": [
      "2024-06-07 08:35 INFO epoch 79 average loss: 0.0496\n"
     ]
    },
    {
     "name": "stdout",
     "output_type": "stream",
     "text": [
      "epoch 79 average loss: 0.0496\n",
      "----------\n",
      "epoch 80/360\n",
      "10/145, train_loss: 0.041200, time taken: 0.9336202144622803s\n",
      "20/145, train_loss: 0.046221, time taken: 0.9244754314422607s\n",
      "30/145, train_loss: 0.043687, time taken: 0.9059743881225586s\n",
      "40/145, train_loss: 0.046546, time taken: 0.9183697700500488s\n",
      "50/145, train_loss: 0.049626, time taken: 0.9203977584838867s\n",
      "60/145, train_loss: 0.049205, time taken: 0.9370591640472412s\n",
      "70/145, train_loss: 0.048451, time taken: 0.931713342666626s\n",
      "80/145, train_loss: 0.047431, time taken: 0.9254436492919922s\n",
      "90/145, train_loss: 0.047340, time taken: 0.9371480941772461s\n",
      "100/145, train_loss: 0.050579, time taken: 0.9309275150299072s\n",
      "110/145, train_loss: 0.052612, time taken: 0.9224853515625s\n",
      "120/145, train_loss: 0.052047, time taken: 0.9309735298156738s\n",
      "130/145, train_loss: 0.051262, time taken: 0.9055335521697998s\n",
      "140/145, train_loss: 0.050503, time taken: 0.941495418548584s\n"
     ]
    },
    {
     "name": "stderr",
     "output_type": "stream",
     "text": [
      "2024-06-07 08:38 INFO epoch 80 average loss: 0.0482\n"
     ]
    },
    {
     "name": "stdout",
     "output_type": "stream",
     "text": [
      "epoch 80 average loss: 0.0482\n",
      "----------\n",
      "epoch 81/360\n",
      "10/145, train_loss: 0.039471, time taken: 0.9381732940673828s\n",
      "20/145, train_loss: 0.051896, time taken: 0.937347412109375s\n",
      "30/145, train_loss: 0.045669, time taken: 0.9526617527008057s\n",
      "40/145, train_loss: 0.049978, time taken: 0.929309606552124s\n",
      "50/145, train_loss: 0.047793, time taken: 0.9076268672943115s\n",
      "60/145, train_loss: 0.049929, time taken: 0.9322664737701416s\n",
      "70/145, train_loss: 0.050119, time taken: 0.9201891422271729s\n",
      "80/145, train_loss: 0.052834, time taken: 0.9465107917785645s\n",
      "90/145, train_loss: 0.053026, time taken: 0.946575403213501s\n",
      "100/145, train_loss: 0.054228, time taken: 0.9165318012237549s\n",
      "110/145, train_loss: 0.056786, time taken: 0.9054267406463623s\n",
      "120/145, train_loss: 0.056652, time taken: 0.93684983253479s\n",
      "130/145, train_loss: 0.055975, time taken: 0.9244966506958008s\n",
      "140/145, train_loss: 0.055042, time taken: 0.9122490882873535s\n"
     ]
    },
    {
     "name": "stderr",
     "output_type": "stream",
     "text": [
      "2024-06-07 08:40 INFO epoch 81 average loss: 0.0506\n"
     ]
    },
    {
     "name": "stdout",
     "output_type": "stream",
     "text": [
      "epoch 81 average loss: 0.0506\n",
      "----------\n",
      "epoch 82/360\n",
      "10/145, train_loss: 0.048079, time taken: 0.9930605888366699s\n",
      "20/145, train_loss: 0.051621, time taken: 0.9022259712219238s\n",
      "30/145, train_loss: 0.044084, time taken: 0.9442384243011475s\n",
      "40/145, train_loss: 0.047659, time taken: 0.9266726970672607s\n",
      "50/145, train_loss: 0.049291, time taken: 0.9478940963745117s\n",
      "60/145, train_loss: 0.049615, time taken: 0.9163663387298584s\n",
      "70/145, train_loss: 0.049251, time taken: 0.932600736618042s\n",
      "80/145, train_loss: 0.047648, time taken: 0.9130172729492188s\n",
      "90/145, train_loss: 0.047548, time taken: 0.9192025661468506s\n",
      "100/145, train_loss: 0.047748, time taken: 0.9140188694000244s\n",
      "110/145, train_loss: 0.047585, time taken: 0.9269313812255859s\n",
      "120/145, train_loss: 0.047589, time taken: 0.9112036228179932s\n",
      "130/145, train_loss: 0.046787, time taken: 0.9296643733978271s\n",
      "140/145, train_loss: 0.047049, time taken: 0.9114632606506348s\n"
     ]
    },
    {
     "name": "stderr",
     "output_type": "stream",
     "text": [
      "2024-06-07 08:42 INFO epoch 82 average loss: 0.0482\n"
     ]
    },
    {
     "name": "stdout",
     "output_type": "stream",
     "text": [
      "epoch 82 average loss: 0.0482\n",
      "----------\n",
      "epoch 83/360\n",
      "10/145, train_loss: 0.027787, time taken: 0.9147145748138428s\n",
      "20/145, train_loss: 0.041365, time taken: 0.9079406261444092s\n",
      "30/145, train_loss: 0.041375, time taken: 0.9467973709106445s\n",
      "40/145, train_loss: 0.047172, time taken: 0.9200074672698975s\n",
      "50/145, train_loss: 0.049439, time taken: 0.9308431148529053s\n",
      "60/145, train_loss: 0.048375, time taken: 0.9273416996002197s\n",
      "70/145, train_loss: 0.049800, time taken: 0.930957555770874s\n",
      "80/145, train_loss: 0.049055, time taken: 0.9191439151763916s\n",
      "90/145, train_loss: 0.047826, time taken: 0.9184978008270264s\n",
      "100/145, train_loss: 0.049878, time taken: 0.9502549171447754s\n",
      "110/145, train_loss: 0.051230, time taken: 0.9089953899383545s\n",
      "120/145, train_loss: 0.051353, time taken: 0.9410316944122314s\n",
      "130/145, train_loss: 0.051451, time taken: 0.9243359565734863s\n",
      "140/145, train_loss: 0.050436, time taken: 0.9336297512054443s\n"
     ]
    },
    {
     "name": "stderr",
     "output_type": "stream",
     "text": [
      "2024-06-07 08:45 INFO epoch 83 average loss: 0.0469\n"
     ]
    },
    {
     "name": "stdout",
     "output_type": "stream",
     "text": [
      "epoch 83 average loss: 0.0469\n",
      "----------\n",
      "epoch 84/360\n",
      "10/145, train_loss: 0.042220, time taken: 0.9370200634002686s\n",
      "20/145, train_loss: 0.043012, time taken: 0.925386905670166s\n",
      "30/145, train_loss: 0.043620, time taken: 0.9456436634063721s\n",
      "40/145, train_loss: 0.043930, time taken: 0.9199743270874023s\n",
      "50/145, train_loss: 0.041989, time taken: 0.941288948059082s\n",
      "60/145, train_loss: 0.042126, time taken: 0.9097070693969727s\n",
      "70/145, train_loss: 0.041151, time taken: 0.9110302925109863s\n",
      "80/145, train_loss: 0.041041, time taken: 1.0236656665802002s\n",
      "90/145, train_loss: 0.040787, time taken: 0.9194679260253906s\n",
      "100/145, train_loss: 0.043002, time taken: 0.9243624210357666s\n",
      "110/145, train_loss: 0.044196, time taken: 0.9421975612640381s\n",
      "120/145, train_loss: 0.043959, time taken: 0.9261157512664795s\n",
      "130/145, train_loss: 0.045395, time taken: 0.9215559959411621s\n",
      "140/145, train_loss: 0.048396, time taken: 0.9185092449188232s\n"
     ]
    },
    {
     "name": "stderr",
     "output_type": "stream",
     "text": [
      "2024-06-07 08:47 INFO epoch 84 average loss: 0.0431\n"
     ]
    },
    {
     "name": "stdout",
     "output_type": "stream",
     "text": [
      "epoch 84 average loss: 0.0431\n",
      "----------\n",
      "epoch 85/360\n",
      "10/145, train_loss: 0.037860, time taken: 0.9221508502960205s\n",
      "20/145, train_loss: 0.045419, time taken: 0.9368150234222412s\n",
      "30/145, train_loss: 0.043125, time taken: 0.9252994060516357s\n",
      "40/145, train_loss: 0.045939, time taken: 0.9148464202880859s\n",
      "50/145, train_loss: 0.048401, time taken: 0.9238266944885254s\n",
      "60/145, train_loss: 0.048430, time taken: 0.9207980632781982s\n",
      "70/145, train_loss: 0.048484, time taken: 0.9334392547607422s\n",
      "80/145, train_loss: 0.047277, time taken: 0.9259264469146729s\n",
      "90/145, train_loss: 0.049136, time taken: 0.9288425445556641s\n",
      "100/145, train_loss: 0.049279, time taken: 0.9395699501037598s\n",
      "110/145, train_loss: 0.047963, time taken: 0.9498081207275391s\n",
      "120/145, train_loss: 0.048917, time taken: 0.9223074913024902s\n",
      "130/145, train_loss: 0.050264, time taken: 0.9109106063842773s\n",
      "140/145, train_loss: 0.050075, time taken: 0.9087224006652832s\n"
     ]
    },
    {
     "name": "stderr",
     "output_type": "stream",
     "text": [
      "2024-06-07 08:49 INFO epoch 85 average loss: 0.0467\n"
     ]
    },
    {
     "name": "stdout",
     "output_type": "stream",
     "text": [
      "epoch 85 average loss: 0.0467\n",
      "----------\n",
      "epoch 86/360\n",
      "10/145, train_loss: 0.059243, time taken: 0.9255828857421875s\n",
      "20/145, train_loss: 0.050659, time taken: 0.9237310886383057s\n",
      "30/145, train_loss: 0.045229, time taken: 0.9190144538879395s\n",
      "40/145, train_loss: 0.050327, time taken: 0.936455488204956s\n",
      "50/145, train_loss: 0.047822, time taken: 0.9276754856109619s\n",
      "60/145, train_loss: 0.050678, time taken: 0.9122943878173828s\n",
      "70/145, train_loss: 0.050538, time taken: 0.9166076183319092s\n",
      "80/145, train_loss: 0.051344, time taken: 0.9383339881896973s\n",
      "90/145, train_loss: 0.051187, time taken: 0.9421298503875732s\n",
      "100/145, train_loss: 0.051503, time taken: 0.9279384613037109s\n",
      "110/145, train_loss: 0.051288, time taken: 0.9510400295257568s\n",
      "120/145, train_loss: 0.050620, time taken: 0.9263815879821777s\n",
      "130/145, train_loss: 0.050248, time taken: 0.9352245330810547s\n",
      "140/145, train_loss: 0.050151, time taken: 0.9417569637298584s\n"
     ]
    },
    {
     "name": "stderr",
     "output_type": "stream",
     "text": [
      "2024-06-07 08:51 INFO epoch 86 average loss: 0.0514\n"
     ]
    },
    {
     "name": "stdout",
     "output_type": "stream",
     "text": [
      "epoch 86 average loss: 0.0514\n",
      "----------\n",
      "epoch 87/360\n",
      "10/145, train_loss: 0.076233, time taken: 0.9428834915161133s\n",
      "20/145, train_loss: 0.052074, time taken: 0.9237377643585205s\n",
      "30/145, train_loss: 0.046616, time taken: 0.9474287033081055s\n",
      "40/145, train_loss: 0.045353, time taken: 0.9347622394561768s\n",
      "50/145, train_loss: 0.047732, time taken: 0.934532880783081s\n",
      "60/145, train_loss: 0.049933, time taken: 0.9220044612884521s\n",
      "70/145, train_loss: 0.048042, time taken: 0.9219875335693359s\n",
      "80/145, train_loss: 0.047731, time taken: 0.907581090927124s\n",
      "90/145, train_loss: 0.048945, time taken: 0.9073140621185303s\n",
      "100/145, train_loss: 0.048975, time taken: 0.9272112846374512s\n",
      "110/145, train_loss: 0.048741, time taken: 0.9139325618743896s\n",
      "120/145, train_loss: 0.049278, time taken: 1.0052342414855957s\n",
      "130/145, train_loss: 0.050056, time taken: 0.9351644515991211s\n",
      "140/145, train_loss: 0.049621, time taken: 0.9314908981323242s\n"
     ]
    },
    {
     "name": "stderr",
     "output_type": "stream",
     "text": [
      "2024-06-07 08:54 INFO epoch 87 average loss: 0.0518\n"
     ]
    },
    {
     "name": "stdout",
     "output_type": "stream",
     "text": [
      "epoch 87 average loss: 0.0518\n",
      "----------\n",
      "epoch 88/360\n",
      "10/145, train_loss: 0.036561, time taken: 0.9211068153381348s\n",
      "20/145, train_loss: 0.047075, time taken: 0.9300611019134521s\n",
      "30/145, train_loss: 0.049134, time taken: 0.924335241317749s\n",
      "40/145, train_loss: 0.046953, time taken: 0.9389553070068359s\n",
      "50/145, train_loss: 0.047380, time taken: 0.9413223266601562s\n",
      "60/145, train_loss: 0.046113, time taken: 0.9218275547027588s\n",
      "70/145, train_loss: 0.045431, time taken: 0.9188086986541748s\n",
      "80/145, train_loss: 0.043358, time taken: 0.9318480491638184s\n",
      "90/145, train_loss: 0.042382, time taken: 0.9336178302764893s\n",
      "100/145, train_loss: 0.042157, time taken: 0.9282841682434082s\n",
      "110/145, train_loss: 0.041685, time taken: 0.9331073760986328s\n",
      "120/145, train_loss: 0.042336, time taken: 0.9417018890380859s\n",
      "130/145, train_loss: 0.042845, time taken: 0.9239118099212646s\n",
      "140/145, train_loss: 0.043916, time taken: 0.9127557277679443s\n"
     ]
    },
    {
     "name": "stderr",
     "output_type": "stream",
     "text": [
      "2024-06-07 08:56 INFO epoch 88 average loss: 0.0443\n"
     ]
    },
    {
     "name": "stdout",
     "output_type": "stream",
     "text": [
      "epoch 88 average loss: 0.0443\n",
      "----------\n",
      "epoch 89/360\n",
      "10/145, train_loss: 0.034480, time taken: 0.9304604530334473s\n",
      "20/145, train_loss: 0.043638, time taken: 0.908860445022583s\n",
      "30/145, train_loss: 0.041429, time taken: 0.9376592636108398s\n",
      "40/145, train_loss: 0.039671, time taken: 0.9260096549987793s\n",
      "50/145, train_loss: 0.040479, time taken: 0.929633617401123s\n",
      "60/145, train_loss: 0.036066, time taken: 0.9587528705596924s\n",
      "70/145, train_loss: 0.036420, time taken: 0.9212164878845215s\n",
      "80/145, train_loss: 0.035661, time taken: 0.9450843334197998s\n",
      "90/145, train_loss: 0.036014, time taken: 0.9278008937835693s\n",
      "100/145, train_loss: 0.038498, time taken: 0.9156997203826904s\n",
      "110/145, train_loss: 0.038612, time taken: 0.9306704998016357s\n",
      "120/145, train_loss: 0.038095, time taken: 0.9236171245574951s\n",
      "130/145, train_loss: 0.037630, time taken: 0.9454152584075928s\n",
      "140/145, train_loss: 0.037534, time taken: 0.9158978462219238s\n"
     ]
    },
    {
     "name": "stderr",
     "output_type": "stream",
     "text": [
      "2024-06-07 08:58 INFO epoch 89 average loss: 0.0373\n"
     ]
    },
    {
     "name": "stdout",
     "output_type": "stream",
     "text": [
      "epoch 89 average loss: 0.0373\n",
      "----------\n",
      "epoch 90/360\n",
      "10/145, train_loss: 0.050999, time taken: 0.9332737922668457s\n",
      "20/145, train_loss: 0.042106, time taken: 0.9265956878662109s\n",
      "30/145, train_loss: 0.044959, time taken: 0.9405457973480225s\n",
      "40/145, train_loss: 0.043371, time taken: 0.9198856353759766s\n",
      "50/145, train_loss: 0.041709, time taken: 0.9230823516845703s\n",
      "60/145, train_loss: 0.045135, time taken: 0.9374144077301025s\n",
      "70/145, train_loss: 0.043534, time taken: 0.9267046451568604s\n",
      "80/145, train_loss: 0.041274, time taken: 0.9920506477355957s\n",
      "90/145, train_loss: 0.041065, time taken: 0.9174094200134277s\n",
      "100/145, train_loss: 0.040828, time taken: 0.9374122619628906s\n",
      "110/145, train_loss: 0.041329, time taken: 0.92936110496521s\n",
      "120/145, train_loss: 0.040652, time taken: 0.9538161754608154s\n",
      "130/145, train_loss: 0.042335, time taken: 0.9150471687316895s\n",
      "140/145, train_loss: 0.042327, time taken: 0.9109175205230713s\n"
     ]
    },
    {
     "name": "stderr",
     "output_type": "stream",
     "text": [
      "2024-06-07 09:00 INFO epoch 90 average loss: 0.0434\n"
     ]
    },
    {
     "name": "stdout",
     "output_type": "stream",
     "text": [
      "epoch 90 average loss: 0.0434\n",
      "----------\n",
      "epoch 91/360\n",
      "10/145, train_loss: 0.028087, time taken: 0.9107725620269775s\n",
      "20/145, train_loss: 0.038594, time taken: 0.9214346408843994s\n",
      "30/145, train_loss: 0.038982, time taken: 0.917424201965332s\n",
      "40/145, train_loss: 0.041640, time taken: 0.9424638748168945s\n",
      "50/145, train_loss: 0.041445, time taken: 0.9031028747558594s\n",
      "60/145, train_loss: 0.041494, time taken: 0.9411501884460449s\n",
      "70/145, train_loss: 0.041864, time taken: 1.0073952674865723s\n",
      "80/145, train_loss: 0.042553, time taken: 0.9204363822937012s\n",
      "90/145, train_loss: 0.042123, time taken: 0.918694019317627s\n",
      "100/145, train_loss: 0.042192, time taken: 0.9154112339019775s\n",
      "110/145, train_loss: 0.042601, time taken: 0.9470996856689453s\n",
      "120/145, train_loss: 0.042117, time taken: 0.9287099838256836s\n",
      "130/145, train_loss: 0.041012, time taken: 0.9169340133666992s\n",
      "140/145, train_loss: 0.041770, time taken: 0.9179956912994385s\n"
     ]
    },
    {
     "name": "stderr",
     "output_type": "stream",
     "text": [
      "2024-06-07 09:03 INFO epoch 91 average loss: 0.0405\n"
     ]
    },
    {
     "name": "stdout",
     "output_type": "stream",
     "text": [
      "epoch 91 average loss: 0.0405\n",
      "----------\n",
      "epoch 92/360\n",
      "10/145, train_loss: 0.048946, time taken: 0.9321675300598145s\n",
      "20/145, train_loss: 0.040959, time taken: 0.9250977039337158s\n",
      "30/145, train_loss: 0.040168, time taken: 0.9061102867126465s\n",
      "40/145, train_loss: 0.041377, time taken: 0.9309170246124268s\n",
      "50/145, train_loss: 0.042809, time taken: 0.930426836013794s\n",
      "60/145, train_loss: 0.047582, time taken: 0.9240005016326904s\n",
      "70/145, train_loss: 0.046701, time taken: 0.932119607925415s\n",
      "80/145, train_loss: 0.047490, time taken: 0.931668758392334s\n",
      "90/145, train_loss: 0.046316, time taken: 0.9512042999267578s\n",
      "100/145, train_loss: 0.047136, time taken: 0.9272134304046631s\n",
      "110/145, train_loss: 0.047843, time taken: 0.9326834678649902s\n",
      "120/145, train_loss: 0.048594, time taken: 0.9296853542327881s\n",
      "130/145, train_loss: 0.047801, time taken: 0.9218041896820068s\n",
      "140/145, train_loss: 0.047979, time taken: 0.9088993072509766s\n"
     ]
    },
    {
     "name": "stderr",
     "output_type": "stream",
     "text": [
      "2024-06-07 09:05 INFO epoch 92 average loss: 0.0452\n"
     ]
    },
    {
     "name": "stdout",
     "output_type": "stream",
     "text": [
      "epoch 92 average loss: 0.0452\n",
      "----------\n",
      "epoch 93/360\n",
      "10/145, train_loss: 0.037191, time taken: 0.9193992614746094s\n",
      "20/145, train_loss: 0.042610, time taken: 0.9242932796478271s\n",
      "30/145, train_loss: 0.041164, time taken: 0.9432656764984131s\n",
      "40/145, train_loss: 0.039452, time taken: 0.9168121814727783s\n",
      "50/145, train_loss: 0.039855, time taken: 0.9300715923309326s\n",
      "60/145, train_loss: 0.040971, time taken: 0.9337072372436523s\n",
      "70/145, train_loss: 0.044772, time taken: 0.9228882789611816s\n",
      "80/145, train_loss: 0.043754, time taken: 0.9127788543701172s\n",
      "90/145, train_loss: 0.044199, time taken: 0.9433465003967285s\n",
      "100/145, train_loss: 0.042668, time taken: 0.9095239639282227s\n",
      "110/145, train_loss: 0.043300, time taken: 0.9078059196472168s\n",
      "120/145, train_loss: 0.045899, time taken: 0.9101247787475586s\n",
      "130/145, train_loss: 0.045436, time taken: 0.9509341716766357s\n",
      "140/145, train_loss: 0.045203, time taken: 0.9637539386749268s\n"
     ]
    },
    {
     "name": "stderr",
     "output_type": "stream",
     "text": [
      "2024-06-07 09:07 INFO epoch 93 average loss: 0.0433\n"
     ]
    },
    {
     "name": "stdout",
     "output_type": "stream",
     "text": [
      "epoch 93 average loss: 0.0433\n",
      "----------\n",
      "epoch 94/360\n",
      "10/145, train_loss: 0.068364, time taken: 0.9279193878173828s\n",
      "20/145, train_loss: 0.048227, time taken: 0.9186060428619385s\n",
      "30/145, train_loss: 0.043669, time taken: 0.9232268333435059s\n",
      "40/145, train_loss: 0.043703, time taken: 0.919649600982666s\n",
      "50/145, train_loss: 0.040197, time taken: 0.9297006130218506s\n",
      "60/145, train_loss: 0.038733, time taken: 0.9379739761352539s\n",
      "70/145, train_loss: 0.041578, time taken: 0.9334509372711182s\n",
      "80/145, train_loss: 0.041796, time taken: 0.9179244041442871s\n",
      "90/145, train_loss: 0.041969, time taken: 0.9355044364929199s\n",
      "100/145, train_loss: 0.040526, time taken: 0.9084701538085938s\n",
      "110/145, train_loss: 0.039382, time taken: 0.9102253913879395s\n",
      "120/145, train_loss: 0.040360, time taken: 0.9246304035186768s\n",
      "130/145, train_loss: 0.040679, time taken: 0.9454240798950195s\n",
      "140/145, train_loss: 0.041599, time taken: 0.9247283935546875s\n"
     ]
    },
    {
     "name": "stderr",
     "output_type": "stream",
     "text": [
      "2024-06-07 09:10 INFO epoch 94 average loss: 0.0443\n"
     ]
    },
    {
     "name": "stdout",
     "output_type": "stream",
     "text": [
      "epoch 94 average loss: 0.0443\n",
      "----------\n",
      "epoch 95/360\n",
      "10/145, train_loss: 0.039394, time taken: 0.9191975593566895s\n",
      "20/145, train_loss: 0.040142, time taken: 0.919231653213501s\n",
      "30/145, train_loss: 0.037918, time taken: 0.9038026332855225s\n",
      "40/145, train_loss: 0.042594, time taken: 0.946880578994751s\n",
      "50/145, train_loss: 0.042517, time taken: 0.9088127613067627s\n",
      "60/145, train_loss: 0.044577, time taken: 0.9190387725830078s\n",
      "70/145, train_loss: 0.045042, time taken: 0.9197914600372314s\n",
      "80/145, train_loss: 0.043701, time taken: 0.9421546459197998s\n",
      "90/145, train_loss: 0.045089, time taken: 0.9058558940887451s\n",
      "100/145, train_loss: 0.045702, time taken: 0.9278514385223389s\n",
      "110/145, train_loss: 0.047837, time taken: 0.9132900238037109s\n",
      "120/145, train_loss: 0.046486, time taken: 0.9287705421447754s\n",
      "130/145, train_loss: 0.045792, time taken: 0.9224715232849121s\n",
      "140/145, train_loss: 0.045082, time taken: 0.9267163276672363s\n"
     ]
    },
    {
     "name": "stderr",
     "output_type": "stream",
     "text": [
      "2024-06-07 09:12 INFO epoch 95 average loss: 0.0435\n"
     ]
    },
    {
     "name": "stdout",
     "output_type": "stream",
     "text": [
      "epoch 95 average loss: 0.0435\n",
      "----------\n",
      "epoch 96/360\n",
      "10/145, train_loss: 0.049680, time taken: 1.0215392112731934s\n",
      "20/145, train_loss: 0.047823, time taken: 0.9364070892333984s\n",
      "30/145, train_loss: 0.052173, time taken: 0.9259650707244873s\n",
      "40/145, train_loss: 0.049226, time taken: 0.9156956672668457s\n",
      "50/145, train_loss: 0.044073, time taken: 0.9181337356567383s\n",
      "60/145, train_loss: 0.043605, time taken: 0.9023342132568359s\n",
      "70/145, train_loss: 0.043458, time taken: 0.9373085498809814s\n",
      "80/145, train_loss: 0.042465, time taken: 0.921987771987915s\n",
      "90/145, train_loss: 0.043589, time taken: 0.914600133895874s\n",
      "100/145, train_loss: 0.043792, time taken: 0.9030013084411621s\n",
      "110/145, train_loss: 0.043040, time taken: 0.9355030059814453s\n",
      "120/145, train_loss: 0.043871, time taken: 0.9544336795806885s\n",
      "130/145, train_loss: 0.044274, time taken: 0.9019041061401367s\n",
      "140/145, train_loss: 0.043308, time taken: 0.9313597679138184s\n"
     ]
    },
    {
     "name": "stderr",
     "output_type": "stream",
     "text": [
      "2024-06-07 09:14 INFO epoch 96 average loss: 0.0454\n"
     ]
    },
    {
     "name": "stdout",
     "output_type": "stream",
     "text": [
      "epoch 96 average loss: 0.0454\n",
      "----------\n",
      "epoch 97/360\n",
      "10/145, train_loss: 0.035262, time taken: 0.9470491409301758s\n",
      "20/145, train_loss: 0.037424, time taken: 0.9421253204345703s\n",
      "30/145, train_loss: 0.038565, time taken: 0.9219756126403809s\n",
      "40/145, train_loss: 0.037645, time taken: 0.9156143665313721s\n",
      "50/145, train_loss: 0.039919, time taken: 0.9106872081756592s\n",
      "60/145, train_loss: 0.039615, time taken: 0.9219419956207275s\n",
      "70/145, train_loss: 0.040469, time taken: 0.9237797260284424s\n",
      "80/145, train_loss: 0.039068, time taken: 0.9288413524627686s\n",
      "90/145, train_loss: 0.038234, time taken: 0.9328477382659912s\n",
      "100/145, train_loss: 0.038391, time taken: 0.9302139282226562s\n",
      "110/145, train_loss: 0.037873, time taken: 0.9260869026184082s\n",
      "120/145, train_loss: 0.037507, time taken: 0.9221193790435791s\n",
      "130/145, train_loss: 0.038906, time taken: 0.9383130073547363s\n",
      "140/145, train_loss: 0.038281, time taken: 0.9212436676025391s\n"
     ]
    },
    {
     "name": "stderr",
     "output_type": "stream",
     "text": [
      "2024-06-07 09:16 INFO epoch 97 average loss: 0.0391\n"
     ]
    },
    {
     "name": "stdout",
     "output_type": "stream",
     "text": [
      "epoch 97 average loss: 0.0391\n",
      "----------\n",
      "epoch 98/360\n",
      "10/145, train_loss: 0.062085, time taken: 0.9309859275817871s\n",
      "20/145, train_loss: 0.053817, time taken: 0.9270420074462891s\n",
      "30/145, train_loss: 0.052758, time taken: 0.8975749015808105s\n",
      "40/145, train_loss: 0.045547, time taken: 0.913923978805542s\n",
      "50/145, train_loss: 0.043382, time taken: 0.9466190338134766s\n",
      "60/145, train_loss: 0.043653, time taken: 0.9172332286834717s\n",
      "70/145, train_loss: 0.043660, time taken: 0.9161672592163086s\n",
      "80/145, train_loss: 0.041503, time taken: 1.0006935596466064s\n",
      "90/145, train_loss: 0.042869, time taken: 0.9352505207061768s\n",
      "100/145, train_loss: 0.042677, time taken: 0.9349815845489502s\n",
      "110/145, train_loss: 0.042524, time taken: 0.9229345321655273s\n",
      "120/145, train_loss: 0.041339, time taken: 0.9270167350769043s\n",
      "130/145, train_loss: 0.041057, time taken: 0.8986115455627441s\n",
      "140/145, train_loss: 0.039347, time taken: 0.920356273651123s\n"
     ]
    },
    {
     "name": "stderr",
     "output_type": "stream",
     "text": [
      "2024-06-07 09:19 INFO epoch 98 average loss: 0.0461\n"
     ]
    },
    {
     "name": "stdout",
     "output_type": "stream",
     "text": [
      "epoch 98 average loss: 0.0461\n",
      "----------\n",
      "epoch 99/360\n",
      "10/145, train_loss: 0.013680, time taken: 0.956171989440918s\n",
      "20/145, train_loss: 0.019847, time taken: 0.9147894382476807s\n",
      "30/145, train_loss: 0.031326, time taken: 0.9144840240478516s\n",
      "40/145, train_loss: 0.032887, time taken: 0.9252490997314453s\n",
      "50/145, train_loss: 0.034724, time taken: 0.9294843673706055s\n",
      "60/145, train_loss: 0.034979, time taken: 0.9183316230773926s\n",
      "70/145, train_loss: 0.035114, time taken: 0.9507262706756592s\n",
      "80/145, train_loss: 0.035547, time taken: 0.9249916076660156s\n",
      "90/145, train_loss: 0.037336, time taken: 0.9102833271026611s\n",
      "100/145, train_loss: 0.036998, time taken: 0.9409546852111816s\n",
      "110/145, train_loss: 0.038713, time taken: 0.9223368167877197s\n",
      "120/145, train_loss: 0.038735, time taken: 0.9211201667785645s\n",
      "130/145, train_loss: 0.039298, time taken: 0.9152772426605225s\n",
      "140/145, train_loss: 0.040484, time taken: 0.9218311309814453s\n"
     ]
    },
    {
     "name": "stderr",
     "output_type": "stream",
     "text": [
      "2024-06-07 09:21 INFO epoch 99 average loss: 0.0330\n"
     ]
    },
    {
     "name": "stdout",
     "output_type": "stream",
     "text": [
      "epoch 99 average loss: 0.0330\n",
      "----------\n",
      "epoch 100/360\n",
      "10/145, train_loss: 0.042714, time taken: 0.9362847805023193s\n",
      "20/145, train_loss: 0.046475, time taken: 0.9224460124969482s\n",
      "30/145, train_loss: 0.041369, time taken: 0.9268906116485596s\n",
      "40/145, train_loss: 0.040131, time taken: 0.9214365482330322s\n",
      "50/145, train_loss: 0.035589, time taken: 0.9120831489562988s\n",
      "60/145, train_loss: 0.036033, time taken: 0.914992094039917s\n",
      "70/145, train_loss: 0.033817, time taken: 0.9110934734344482s\n",
      "80/145, train_loss: 0.033442, time taken: 0.9463911056518555s\n",
      "90/145, train_loss: 0.033769, time taken: 0.9219419956207275s\n",
      "100/145, train_loss: 0.034341, time taken: 0.906430721282959s\n",
      "110/145, train_loss: 0.033607, time taken: 0.9169800281524658s\n",
      "120/145, train_loss: 0.032699, time taken: 0.8955848217010498s\n",
      "130/145, train_loss: 0.033388, time taken: 0.9494795799255371s\n",
      "140/145, train_loss: 0.034448, time taken: 0.9150631427764893s\n"
     ]
    },
    {
     "name": "stderr",
     "output_type": "stream",
     "text": [
      "2024-06-07 09:23 INFO epoch 100 average loss: 0.0363\n"
     ]
    },
    {
     "name": "stdout",
     "output_type": "stream",
     "text": [
      "epoch 100 average loss: 0.0363\n",
      "----------\n",
      "epoch 101/360\n",
      "10/145, train_loss: 0.028062, time taken: 0.9159727096557617s\n",
      "20/145, train_loss: 0.034382, time taken: 0.9145078659057617s\n",
      "30/145, train_loss: 0.034009, time taken: 0.9086456298828125s\n",
      "40/145, train_loss: 0.034559, time taken: 0.9040710926055908s\n",
      "50/145, train_loss: 0.037103, time taken: 0.9067134857177734s\n",
      "60/145, train_loss: 0.035370, time taken: 0.9218440055847168s\n",
      "70/145, train_loss: 0.035939, time taken: 0.9042360782623291s\n",
      "80/145, train_loss: 0.036246, time taken: 0.9395236968994141s\n",
      "90/145, train_loss: 0.037551, time taken: 0.9133090972900391s\n",
      "100/145, train_loss: 0.038311, time taken: 0.9134602546691895s\n",
      "110/145, train_loss: 0.037645, time taken: 0.9203734397888184s\n",
      "120/145, train_loss: 0.037589, time taken: 1.0050501823425293s\n",
      "130/145, train_loss: 0.038220, time taken: 0.9304695129394531s\n",
      "140/145, train_loss: 0.038425, time taken: 0.9212076663970947s\n"
     ]
    },
    {
     "name": "stderr",
     "output_type": "stream",
     "text": [
      "2024-06-07 09:26 INFO epoch 101 average loss: 0.0356\n"
     ]
    },
    {
     "name": "stdout",
     "output_type": "stream",
     "text": [
      "epoch 101 average loss: 0.0356\n",
      "----------\n",
      "epoch 102/360\n",
      "10/145, train_loss: 0.034513, time taken: 0.8797168731689453s\n",
      "20/145, train_loss: 0.036460, time taken: 0.9022717475891113s\n",
      "30/145, train_loss: 0.036362, time taken: 0.884570837020874s\n",
      "40/145, train_loss: 0.035833, time taken: 0.9032430648803711s\n",
      "50/145, train_loss: 0.035619, time taken: 0.9216916561126709s\n",
      "60/145, train_loss: 0.035341, time taken: 0.9015190601348877s\n",
      "70/145, train_loss: 0.035210, time taken: 0.8912467956542969s\n",
      "80/145, train_loss: 0.036616, time taken: 0.8921165466308594s\n",
      "90/145, train_loss: 0.036500, time taken: 0.9199130535125732s\n",
      "100/145, train_loss: 0.036446, time taken: 0.9031295776367188s\n",
      "110/145, train_loss: 0.036912, time taken: 0.8918068408966064s\n",
      "120/145, train_loss: 0.038288, time taken: 0.9158036708831787s\n",
      "130/145, train_loss: 0.039067, time taken: 0.8818409442901611s\n",
      "140/145, train_loss: 0.038886, time taken: 0.8990428447723389s\n"
     ]
    },
    {
     "name": "stderr",
     "output_type": "stream",
     "text": [
      "2024-06-07 09:28 INFO epoch 102 average loss: 0.0374\n"
     ]
    },
    {
     "name": "stdout",
     "output_type": "stream",
     "text": [
      "epoch 102 average loss: 0.0374\n",
      "----------\n",
      "epoch 103/360\n",
      "10/145, train_loss: 0.026701, time taken: 0.9029333591461182s\n",
      "20/145, train_loss: 0.026877, time taken: 0.8690497875213623s\n",
      "30/145, train_loss: 0.025985, time taken: 0.8923482894897461s\n",
      "40/145, train_loss: 0.031017, time taken: 0.908794641494751s\n",
      "50/145, train_loss: 0.032264, time taken: 0.8969748020172119s\n",
      "60/145, train_loss: 0.034393, time taken: 0.8981180191040039s\n",
      "70/145, train_loss: 0.034161, time taken: 0.8703293800354004s\n",
      "80/145, train_loss: 0.032898, time taken: 0.9274945259094238s\n",
      "90/145, train_loss: 0.034435, time taken: 0.9173617362976074s\n",
      "100/145, train_loss: 0.034893, time taken: 0.8890388011932373s\n",
      "110/145, train_loss: 0.034294, time taken: 0.8956422805786133s\n",
      "120/145, train_loss: 0.037349, time taken: 0.9102230072021484s\n",
      "130/145, train_loss: 0.038652, time taken: 0.9012730121612549s\n",
      "140/145, train_loss: 0.040373, time taken: 0.9073452949523926s\n"
     ]
    },
    {
     "name": "stderr",
     "output_type": "stream",
     "text": [
      "2024-06-07 09:30 INFO epoch 103 average loss: 0.0319\n"
     ]
    },
    {
     "name": "stdout",
     "output_type": "stream",
     "text": [
      "epoch 103 average loss: 0.0319\n",
      "----------\n",
      "epoch 104/360\n",
      "10/145, train_loss: 0.036920, time taken: 0.9004180431365967s\n",
      "20/145, train_loss: 0.030941, time taken: 0.8929660320281982s\n",
      "30/145, train_loss: 0.037333, time taken: 0.8823268413543701s\n",
      "40/145, train_loss: 0.036339, time taken: 0.9265005588531494s\n",
      "50/145, train_loss: 0.036889, time taken: 0.8901011943817139s\n",
      "60/145, train_loss: 0.038181, time taken: 0.9233453273773193s\n",
      "70/145, train_loss: 0.037665, time taken: 0.9150815010070801s\n",
      "80/145, train_loss: 0.037666, time taken: 0.9905200004577637s\n",
      "90/145, train_loss: 0.038378, time taken: 0.9146022796630859s\n",
      "100/145, train_loss: 0.037347, time taken: 0.9047839641571045s\n",
      "110/145, train_loss: 0.038455, time taken: 0.8784401416778564s\n",
      "120/145, train_loss: 0.038891, time taken: 0.8982377052307129s\n",
      "130/145, train_loss: 0.038293, time taken: 0.8942718505859375s\n",
      "140/145, train_loss: 0.037099, time taken: 0.8907368183135986s\n"
     ]
    },
    {
     "name": "stderr",
     "output_type": "stream",
     "text": [
      "2024-06-07 09:32 INFO epoch 104 average loss: 0.0376\n"
     ]
    },
    {
     "name": "stdout",
     "output_type": "stream",
     "text": [
      "epoch 104 average loss: 0.0376\n",
      "----------\n",
      "epoch 105/360\n",
      "10/145, train_loss: 0.024636, time taken: 0.9152162075042725s\n",
      "20/145, train_loss: 0.027065, time taken: 0.9294068813323975s\n",
      "30/145, train_loss: 0.031155, time taken: 0.88946533203125s\n",
      "40/145, train_loss: 0.029425, time taken: 0.9018185138702393s\n",
      "50/145, train_loss: 0.029340, time taken: 0.8800232410430908s\n",
      "60/145, train_loss: 0.029863, time taken: 0.8830680847167969s\n",
      "70/145, train_loss: 0.029601, time taken: 1.0041770935058594s\n",
      "80/145, train_loss: 0.028909, time taken: 0.9108169078826904s\n",
      "90/145, train_loss: 0.030340, time taken: 0.907245397567749s\n",
      "100/145, train_loss: 0.030180, time taken: 0.8955380916595459s\n",
      "110/145, train_loss: 0.029776, time taken: 0.9032702445983887s\n",
      "120/145, train_loss: 0.029976, time taken: 0.8962142467498779s\n",
      "130/145, train_loss: 0.031037, time taken: 0.8811662197113037s\n",
      "140/145, train_loss: 0.031567, time taken: 0.899390459060669s\n"
     ]
    },
    {
     "name": "stderr",
     "output_type": "stream",
     "text": [
      "2024-06-07 09:34 INFO epoch 105 average loss: 0.0296\n"
     ]
    },
    {
     "name": "stdout",
     "output_type": "stream",
     "text": [
      "epoch 105 average loss: 0.0296\n",
      "----------\n",
      "epoch 106/360\n",
      "10/145, train_loss: 0.053375, time taken: 0.8949358463287354s\n",
      "20/145, train_loss: 0.040425, time taken: 0.880901575088501s\n",
      "30/145, train_loss: 0.035320, time taken: 0.9068324565887451s\n",
      "40/145, train_loss: 0.041262, time taken: 0.9200541973114014s\n",
      "50/145, train_loss: 0.041218, time taken: 0.9013586044311523s\n",
      "60/145, train_loss: 0.041153, time taken: 0.8909533023834229s\n",
      "70/145, train_loss: 0.039980, time taken: 0.8961412906646729s\n",
      "80/145, train_loss: 0.041145, time taken: 0.8938906192779541s\n",
      "90/145, train_loss: 0.041101, time taken: 0.8938982486724854s\n",
      "100/145, train_loss: 0.039750, time taken: 0.8977105617523193s\n",
      "110/145, train_loss: 0.038388, time taken: 0.8937575817108154s\n",
      "120/145, train_loss: 0.038231, time taken: 0.9103395938873291s\n",
      "130/145, train_loss: 0.038874, time taken: 0.8709235191345215s\n",
      "140/145, train_loss: 0.038252, time taken: 0.8849835395812988s\n"
     ]
    },
    {
     "name": "stderr",
     "output_type": "stream",
     "text": [
      "2024-06-07 09:37 INFO epoch 106 average loss: 0.0417\n"
     ]
    },
    {
     "name": "stdout",
     "output_type": "stream",
     "text": [
      "epoch 106 average loss: 0.0417\n",
      "----------\n",
      "epoch 107/360\n",
      "10/145, train_loss: 0.033429, time taken: 0.9152567386627197s\n",
      "20/145, train_loss: 0.035172, time taken: 0.9225077629089355s\n",
      "30/145, train_loss: 0.040360, time taken: 0.8954308032989502s\n",
      "40/145, train_loss: 0.034082, time taken: 0.9134092330932617s\n",
      "50/145, train_loss: 0.036546, time taken: 0.9086389541625977s\n",
      "60/145, train_loss: 0.034402, time taken: 0.8862600326538086s\n",
      "70/145, train_loss: 0.035624, time taken: 0.8862860202789307s\n",
      "80/145, train_loss: 0.035614, time taken: 0.9114115238189697s\n",
      "90/145, train_loss: 0.036170, time taken: 0.894554615020752s\n",
      "100/145, train_loss: 0.036795, time taken: 0.9034531116485596s\n",
      "110/145, train_loss: 0.035778, time taken: 0.890084981918335s\n",
      "120/145, train_loss: 0.036134, time taken: 0.8848614692687988s\n",
      "130/145, train_loss: 0.037046, time taken: 0.898648738861084s\n",
      "140/145, train_loss: 0.036569, time taken: 0.905357837677002s\n"
     ]
    },
    {
     "name": "stderr",
     "output_type": "stream",
     "text": [
      "2024-06-07 09:39 INFO epoch 107 average loss: 0.0360\n"
     ]
    },
    {
     "name": "stdout",
     "output_type": "stream",
     "text": [
      "epoch 107 average loss: 0.0360\n",
      "----------\n",
      "epoch 108/360\n",
      "10/145, train_loss: 0.033111, time taken: 0.8883318901062012s\n",
      "20/145, train_loss: 0.032178, time taken: 0.8959767818450928s\n",
      "30/145, train_loss: 0.037278, time taken: 0.8910627365112305s\n",
      "40/145, train_loss: 0.037245, time taken: 0.9065756797790527s\n",
      "50/145, train_loss: 0.036054, time taken: 0.8851273059844971s\n",
      "60/145, train_loss: 0.034931, time taken: 0.8821651935577393s\n",
      "70/145, train_loss: 0.035487, time taken: 0.9006214141845703s\n",
      "80/145, train_loss: 0.034802, time taken: 0.9045112133026123s\n",
      "90/145, train_loss: 0.036506, time taken: 0.9117031097412109s\n",
      "100/145, train_loss: 0.039172, time taken: 0.8998372554779053s\n",
      "110/145, train_loss: 0.038519, time taken: 0.8866684436798096s\n",
      "120/145, train_loss: 0.039104, time taken: 0.8710825443267822s\n",
      "130/145, train_loss: 0.038127, time taken: 0.9062142372131348s\n",
      "140/145, train_loss: 0.036940, time taken: 0.9035184383392334s\n"
     ]
    },
    {
     "name": "stderr",
     "output_type": "stream",
     "text": [
      "2024-06-07 09:41 INFO epoch 108 average loss: 0.0356\n"
     ]
    },
    {
     "name": "stdout",
     "output_type": "stream",
     "text": [
      "epoch 108 average loss: 0.0356\n",
      "----------\n",
      "epoch 109/360\n",
      "10/145, train_loss: 0.035891, time taken: 0.8926045894622803s\n",
      "20/145, train_loss: 0.028990, time taken: 0.8854386806488037s\n",
      "30/145, train_loss: 0.034829, time taken: 0.8733291625976562s\n",
      "40/145, train_loss: 0.036191, time taken: 0.87595534324646s\n",
      "50/145, train_loss: 0.036206, time taken: 0.8891415596008301s\n",
      "60/145, train_loss: 0.039121, time taken: 0.8897249698638916s\n",
      "70/145, train_loss: 0.037152, time taken: 0.8801472187042236s\n",
      "80/145, train_loss: 0.036633, time taken: 0.8983654975891113s\n",
      "90/145, train_loss: 0.035781, time taken: 0.9046130180358887s\n",
      "100/145, train_loss: 0.034733, time taken: 0.9276862144470215s\n",
      "110/145, train_loss: 0.034556, time taken: 0.9247710704803467s\n",
      "120/145, train_loss: 0.034082, time taken: 0.8869884014129639s\n",
      "130/145, train_loss: 0.037713, time taken: 0.8878247737884521s\n",
      "140/145, train_loss: 0.039532, time taken: 0.8810012340545654s\n"
     ]
    },
    {
     "name": "stderr",
     "output_type": "stream",
     "text": [
      "2024-06-07 09:43 INFO epoch 109 average loss: 0.0359\n"
     ]
    },
    {
     "name": "stdout",
     "output_type": "stream",
     "text": [
      "epoch 109 average loss: 0.0359\n",
      "----------\n",
      "epoch 110/360\n",
      "10/145, train_loss: 0.027265, time taken: 0.9886088371276855s\n",
      "20/145, train_loss: 0.026021, time taken: 0.8920137882232666s\n",
      "30/145, train_loss: 0.031162, time taken: 0.9333889484405518s\n",
      "40/145, train_loss: 0.030580, time taken: 0.9066934585571289s\n",
      "50/145, train_loss: 0.030989, time taken: 0.8874127864837646s\n",
      "60/145, train_loss: 0.030209, time taken: 0.8845906257629395s\n",
      "70/145, train_loss: 0.030058, time taken: 0.9217040538787842s\n",
      "80/145, train_loss: 0.029828, time taken: 0.888646125793457s\n",
      "90/145, train_loss: 0.030807, time taken: 0.8820798397064209s\n",
      "100/145, train_loss: 0.030074, time taken: 0.9014263153076172s\n",
      "110/145, train_loss: 0.030861, time taken: 0.9130764007568359s\n",
      "120/145, train_loss: 0.031965, time taken: 0.8652510643005371s\n",
      "130/145, train_loss: 0.032144, time taken: 0.9000508785247803s\n",
      "140/145, train_loss: 0.031484, time taken: 0.9062163829803467s\n"
     ]
    },
    {
     "name": "stderr",
     "output_type": "stream",
     "text": [
      "2024-06-07 09:45 INFO epoch 110 average loss: 0.0300\n"
     ]
    },
    {
     "name": "stdout",
     "output_type": "stream",
     "text": [
      "epoch 110 average loss: 0.0300\n",
      "----------\n",
      "epoch 111/360\n",
      "10/145, train_loss: 0.034378, time taken: 0.9065470695495605s\n",
      "20/145, train_loss: 0.027892, time taken: 0.8705859184265137s\n",
      "30/145, train_loss: 0.033432, time taken: 0.907280683517456s\n",
      "40/145, train_loss: 0.032628, time taken: 0.9191110134124756s\n",
      "50/145, train_loss: 0.033455, time taken: 0.9020705223083496s\n",
      "60/145, train_loss: 0.032107, time taken: 0.8869574069976807s\n",
      "70/145, train_loss: 0.032459, time taken: 0.8912549018859863s\n",
      "80/145, train_loss: 0.032788, time taken: 0.9098179340362549s\n",
      "90/145, train_loss: 0.033950, time taken: 0.893878698348999s\n",
      "100/145, train_loss: 0.034149, time taken: 0.8924350738525391s\n",
      "110/145, train_loss: 0.033906, time taken: 0.8836474418640137s\n",
      "120/145, train_loss: 0.034659, time taken: 0.9025752544403076s\n",
      "130/145, train_loss: 0.034819, time taken: 0.8799550533294678s\n",
      "140/145, train_loss: 0.034376, time taken: 0.8964238166809082s\n"
     ]
    },
    {
     "name": "stderr",
     "output_type": "stream",
     "text": [
      "2024-06-07 09:48 INFO epoch 111 average loss: 0.0340\n"
     ]
    },
    {
     "name": "stdout",
     "output_type": "stream",
     "text": [
      "epoch 111 average loss: 0.0340\n",
      "----------\n",
      "epoch 112/360\n",
      "10/145, train_loss: 0.023018, time taken: 0.8781836032867432s\n",
      "20/145, train_loss: 0.028257, time taken: 0.8998303413391113s\n",
      "30/145, train_loss: 0.029783, time taken: 0.8956918716430664s\n",
      "40/145, train_loss: 0.030771, time taken: 0.8918986320495605s\n",
      "50/145, train_loss: 0.031860, time taken: 0.8692464828491211s\n",
      "60/145, train_loss: 0.030019, time taken: 0.8967709541320801s\n",
      "70/145, train_loss: 0.030228, time taken: 0.9123570919036865s\n",
      "80/145, train_loss: 0.029498, time taken: 0.9642460346221924s\n",
      "90/145, train_loss: 0.028657, time taken: 0.8985786437988281s\n",
      "100/145, train_loss: 0.030923, time taken: 0.8789565563201904s\n",
      "110/145, train_loss: 0.031033, time taken: 0.9421277046203613s\n",
      "120/145, train_loss: 0.030851, time taken: 0.8965709209442139s\n",
      "130/145, train_loss: 0.031182, time taken: 0.8902313709259033s\n",
      "140/145, train_loss: 0.031248, time taken: 0.9037168025970459s\n"
     ]
    },
    {
     "name": "stderr",
     "output_type": "stream",
     "text": [
      "2024-06-07 09:50 INFO epoch 112 average loss: 0.0293\n"
     ]
    },
    {
     "name": "stdout",
     "output_type": "stream",
     "text": [
      "epoch 112 average loss: 0.0293\n",
      "----------\n",
      "epoch 113/360\n",
      "10/145, train_loss: 0.033033, time taken: 0.882185697555542s\n",
      "20/145, train_loss: 0.036162, time taken: 0.8833200931549072s\n",
      "30/145, train_loss: 0.036481, time taken: 0.9033913612365723s\n",
      "40/145, train_loss: 0.029951, time taken: 0.8959493637084961s\n",
      "50/145, train_loss: 0.030675, time taken: 0.901308536529541s\n",
      "60/145, train_loss: 0.029921, time taken: 0.8861830234527588s\n",
      "70/145, train_loss: 0.031702, time taken: 0.8789138793945312s\n",
      "80/145, train_loss: 0.033370, time taken: 0.9112637042999268s\n",
      "90/145, train_loss: 0.033407, time taken: 0.8940200805664062s\n",
      "100/145, train_loss: 0.033007, time taken: 0.8894309997558594s\n",
      "110/145, train_loss: 0.032537, time taken: 0.9169902801513672s\n",
      "120/145, train_loss: 0.033001, time taken: 0.9055464267730713s\n",
      "130/145, train_loss: 0.032621, time taken: 0.9280683994293213s\n",
      "140/145, train_loss: 0.031618, time taken: 0.881277322769165s\n"
     ]
    },
    {
     "name": "stderr",
     "output_type": "stream",
     "text": [
      "2024-06-07 09:52 INFO epoch 113 average loss: 0.0335\n"
     ]
    },
    {
     "name": "stdout",
     "output_type": "stream",
     "text": [
      "epoch 113 average loss: 0.0335\n",
      "----------\n",
      "epoch 114/360\n",
      "10/145, train_loss: 0.038684, time taken: 0.8976461887359619s\n",
      "20/145, train_loss: 0.039969, time taken: 0.9224393367767334s\n",
      "30/145, train_loss: 0.044990, time taken: 0.9078810214996338s\n",
      "40/145, train_loss: 0.041854, time taken: 0.8958394527435303s\n",
      "50/145, train_loss: 0.040675, time taken: 0.8793137073516846s\n",
      "60/145, train_loss: 0.041512, time taken: 0.9004056453704834s\n",
      "70/145, train_loss: 0.041676, time taken: 0.8878905773162842s\n",
      "80/145, train_loss: 0.040261, time taken: 0.8895347118377686s\n",
      "90/145, train_loss: 0.037685, time taken: 0.902972936630249s\n",
      "100/145, train_loss: 0.038285, time taken: 0.8807427883148193s\n",
      "110/145, train_loss: 0.038704, time taken: 0.9086039066314697s\n",
      "120/145, train_loss: 0.039380, time taken: 0.8940730094909668s\n",
      "130/145, train_loss: 0.039602, time taken: 0.9071493148803711s\n",
      "140/145, train_loss: 0.039532, time taken: 0.908473014831543s\n"
     ]
    },
    {
     "name": "stderr",
     "output_type": "stream",
     "text": [
      "2024-06-07 09:54 INFO epoch 114 average loss: 0.0403\n"
     ]
    },
    {
     "name": "stdout",
     "output_type": "stream",
     "text": [
      "epoch 114 average loss: 0.0403\n",
      "----------\n",
      "epoch 115/360\n",
      "10/145, train_loss: 0.013640, time taken: 0.8982865810394287s\n",
      "20/145, train_loss: 0.019394, time taken: 0.885420560836792s\n",
      "30/145, train_loss: 0.028605, time taken: 0.890294075012207s\n",
      "40/145, train_loss: 0.027076, time taken: 0.8690876960754395s\n",
      "50/145, train_loss: 0.030936, time taken: 0.8852248191833496s\n",
      "60/145, train_loss: 0.030395, time taken: 0.8905990123748779s\n",
      "70/145, train_loss: 0.031029, time taken: 0.9478800296783447s\n",
      "80/145, train_loss: 0.031605, time taken: 0.9051735401153564s\n",
      "90/145, train_loss: 0.032673, time taken: 0.895172119140625s\n",
      "100/145, train_loss: 0.032954, time taken: 0.8759441375732422s\n",
      "110/145, train_loss: 0.033546, time taken: 0.8659543991088867s\n",
      "120/145, train_loss: 0.032701, time taken: 0.9693570137023926s\n",
      "130/145, train_loss: 0.033229, time taken: 0.9072372913360596s\n",
      "140/145, train_loss: 0.033028, time taken: 0.9055335521697998s\n"
     ]
    },
    {
     "name": "stderr",
     "output_type": "stream",
     "text": [
      "2024-06-07 09:56 INFO epoch 115 average loss: 0.0291\n"
     ]
    },
    {
     "name": "stdout",
     "output_type": "stream",
     "text": [
      "epoch 115 average loss: 0.0291\n",
      "----------\n",
      "epoch 116/360\n",
      "10/145, train_loss: 0.013929, time taken: 0.8966856002807617s\n",
      "20/145, train_loss: 0.028217, time taken: 0.9092881679534912s\n",
      "30/145, train_loss: 0.026108, time taken: 0.8797357082366943s\n",
      "40/145, train_loss: 0.027526, time taken: 0.8866772651672363s\n",
      "50/145, train_loss: 0.028045, time taken: 0.9095585346221924s\n",
      "60/145, train_loss: 0.027300, time taken: 0.8935809135437012s\n",
      "70/145, train_loss: 0.027800, time taken: 0.8691670894622803s\n",
      "80/145, train_loss: 0.029936, time taken: 0.8907597064971924s\n",
      "90/145, train_loss: 0.031054, time taken: 0.9040231704711914s\n",
      "100/145, train_loss: 0.031605, time taken: 0.8854665756225586s\n",
      "110/145, train_loss: 0.032451, time taken: 0.9044396877288818s\n",
      "120/145, train_loss: 0.033022, time taken: 0.8856446743011475s\n",
      "130/145, train_loss: 0.032885, time taken: 0.911475419998169s\n",
      "140/145, train_loss: 0.031755, time taken: 0.884427547454834s\n"
     ]
    },
    {
     "name": "stderr",
     "output_type": "stream",
     "text": [
      "2024-06-07 09:59 INFO epoch 116 average loss: 0.0291\n"
     ]
    },
    {
     "name": "stdout",
     "output_type": "stream",
     "text": [
      "epoch 116 average loss: 0.0291\n",
      "----------\n",
      "epoch 117/360\n",
      "10/145, train_loss: 0.039404, time taken: 0.9082157611846924s\n",
      "20/145, train_loss: 0.033745, time taken: 0.8881568908691406s\n",
      "30/145, train_loss: 0.030162, time taken: 0.8834748268127441s\n",
      "40/145, train_loss: 0.031629, time taken: 0.9048399925231934s\n",
      "50/145, train_loss: 0.032371, time taken: 0.8850288391113281s\n",
      "60/145, train_loss: 0.031674, time taken: 0.9028029441833496s\n",
      "70/145, train_loss: 0.031693, time taken: 0.9297502040863037s\n",
      "80/145, train_loss: 0.029698, time taken: 0.8946521282196045s\n",
      "90/145, train_loss: 0.029774, time taken: 0.8777637481689453s\n",
      "100/145, train_loss: 0.030921, time taken: 0.8947830200195312s\n",
      "110/145, train_loss: 0.031187, time taken: 0.8721153736114502s\n",
      "120/145, train_loss: 0.032126, time taken: 0.8751533031463623s\n",
      "130/145, train_loss: 0.032157, time taken: 0.9013910293579102s\n",
      "140/145, train_loss: 0.033542, time taken: 0.8848001956939697s\n"
     ]
    },
    {
     "name": "stderr",
     "output_type": "stream",
     "text": [
      "2024-06-07 10:01 INFO epoch 117 average loss: 0.0326\n"
     ]
    },
    {
     "name": "stdout",
     "output_type": "stream",
     "text": [
      "epoch 117 average loss: 0.0326\n",
      "----------\n",
      "epoch 118/360\n",
      "10/145, train_loss: 0.042175, time taken: 0.9063146114349365s\n",
      "20/145, train_loss: 0.034208, time taken: 0.9144842624664307s\n",
      "30/145, train_loss: 0.035101, time taken: 0.895892858505249s\n",
      "40/145, train_loss: 0.037078, time taken: 0.9228482246398926s\n",
      "50/145, train_loss: 0.038458, time taken: 0.9018194675445557s\n",
      "60/145, train_loss: 0.035435, time taken: 0.8878982067108154s\n",
      "70/145, train_loss: 0.034621, time taken: 0.8929915428161621s\n",
      "80/145, train_loss: 0.033349, time taken: 0.9702708721160889s\n",
      "90/145, train_loss: 0.033286, time taken: 0.9093136787414551s\n",
      "100/145, train_loss: 0.036052, time taken: 0.8937094211578369s\n",
      "110/145, train_loss: 0.036501, time taken: 0.9014608860015869s\n",
      "120/145, train_loss: 0.037898, time taken: 0.9053244590759277s\n",
      "130/145, train_loss: 0.038575, time taken: 0.8975729942321777s\n",
      "140/145, train_loss: 0.037803, time taken: 0.8836464881896973s\n"
     ]
    },
    {
     "name": "stderr",
     "output_type": "stream",
     "text": [
      "2024-06-07 10:03 INFO epoch 118 average loss: 0.0364\n"
     ]
    },
    {
     "name": "stdout",
     "output_type": "stream",
     "text": [
      "epoch 118 average loss: 0.0364\n",
      "----------\n",
      "epoch 119/360\n",
      "10/145, train_loss: 0.034044, time taken: 0.9007480144500732s\n",
      "20/145, train_loss: 0.033757, time taken: 0.9150383472442627s\n",
      "30/145, train_loss: 0.038314, time taken: 0.9103212356567383s\n",
      "40/145, train_loss: 0.033312, time taken: 0.8959767818450928s\n",
      "50/145, train_loss: 0.032667, time taken: 0.8960022926330566s\n",
      "60/145, train_loss: 0.031948, time taken: 0.8681252002716064s\n",
      "70/145, train_loss: 0.031961, time taken: 0.9875555038452148s\n",
      "80/145, train_loss: 0.033787, time taken: 0.8873336315155029s\n",
      "90/145, train_loss: 0.035966, time taken: 0.8899860382080078s\n",
      "100/145, train_loss: 0.037229, time taken: 0.8922185897827148s\n",
      "110/145, train_loss: 0.038100, time taken: 0.9166076183319092s\n",
      "120/145, train_loss: 0.037687, time taken: 0.9086470603942871s\n",
      "130/145, train_loss: 0.037836, time taken: 0.9063067436218262s\n",
      "140/145, train_loss: 0.038943, time taken: 0.8802201747894287s\n"
     ]
    },
    {
     "name": "stderr",
     "output_type": "stream",
     "text": [
      "2024-06-07 10:05 INFO epoch 119 average loss: 0.0353\n"
     ]
    },
    {
     "name": "stdout",
     "output_type": "stream",
     "text": [
      "epoch 119 average loss: 0.0353\n",
      "----------\n",
      "epoch 120/360\n",
      "10/145, train_loss: 0.020974, time taken: 0.8984332084655762s\n",
      "20/145, train_loss: 0.021316, time taken: 0.8955345153808594s\n",
      "30/145, train_loss: 0.024825, time taken: 0.8954997062683105s\n",
      "40/145, train_loss: 0.027625, time taken: 0.9003844261169434s\n",
      "50/145, train_loss: 0.029227, time taken: 0.8745384216308594s\n",
      "60/145, train_loss: 0.027974, time taken: 0.8881814479827881s\n",
      "70/145, train_loss: 0.029522, time taken: 0.880258321762085s\n",
      "80/145, train_loss: 0.029858, time taken: 0.8904037475585938s\n",
      "90/145, train_loss: 0.028437, time taken: 0.8747985363006592s\n",
      "100/145, train_loss: 0.027926, time taken: 0.9050662517547607s\n",
      "110/145, train_loss: 0.027476, time taken: 0.8955621719360352s\n",
      "120/145, train_loss: 0.027372, time taken: 0.8811287879943848s\n",
      "130/145, train_loss: 0.027450, time taken: 0.9114837646484375s\n",
      "140/145, train_loss: 0.028771, time taken: 0.88631272315979s\n"
     ]
    },
    {
     "name": "stderr",
     "output_type": "stream",
     "text": [
      "2024-06-07 10:07 INFO epoch 120 average loss: 0.0266\n"
     ]
    },
    {
     "name": "stdout",
     "output_type": "stream",
     "text": [
      "epoch 120 average loss: 0.0266\n",
      "----------\n",
      "epoch 121/360\n",
      "10/145, train_loss: 0.011360, time taken: 0.8879058361053467s\n",
      "20/145, train_loss: 0.020613, time taken: 0.8914377689361572s\n",
      "30/145, train_loss: 0.022963, time taken: 0.8986072540283203s\n",
      "40/145, train_loss: 0.026480, time taken: 0.8945960998535156s\n",
      "50/145, train_loss: 0.025853, time taken: 0.8949153423309326s\n",
      "60/145, train_loss: 0.028225, time taken: 0.9071619510650635s\n",
      "70/145, train_loss: 0.030317, time taken: 0.8836627006530762s\n",
      "80/145, train_loss: 0.031412, time taken: 0.8971924781799316s\n",
      "90/145, train_loss: 0.030432, time taken: 0.8806359767913818s\n",
      "100/145, train_loss: 0.030379, time taken: 0.8823540210723877s\n",
      "110/145, train_loss: 0.030089, time taken: 0.8777923583984375s\n",
      "120/145, train_loss: 0.030383, time taken: 0.8827693462371826s\n",
      "130/145, train_loss: 0.031081, time taken: 0.8851559162139893s\n",
      "140/145, train_loss: 0.032473, time taken: 0.8841142654418945s\n"
     ]
    },
    {
     "name": "stderr",
     "output_type": "stream",
     "text": [
      "2024-06-07 10:10 INFO epoch 121 average loss: 0.0271\n"
     ]
    },
    {
     "name": "stdout",
     "output_type": "stream",
     "text": [
      "epoch 121 average loss: 0.0271\n",
      "----------\n",
      "epoch 122/360\n",
      "10/145, train_loss: 0.025147, time taken: 0.8751342296600342s\n",
      "20/145, train_loss: 0.032150, time taken: 0.9017062187194824s\n",
      "30/145, train_loss: 0.026514, time taken: 0.8964405059814453s\n",
      "40/145, train_loss: 0.028007, time taken: 0.8861250877380371s\n",
      "50/145, train_loss: 0.028001, time taken: 0.8860232830047607s\n",
      "60/145, train_loss: 0.027492, time taken: 0.8889009952545166s\n",
      "70/145, train_loss: 0.026863, time taken: 0.9056422710418701s\n",
      "80/145, train_loss: 0.028683, time taken: 0.8728921413421631s\n",
      "90/145, train_loss: 0.028823, time taken: 0.8995559215545654s\n",
      "100/145, train_loss: 0.029547, time taken: 0.8947060108184814s\n",
      "110/145, train_loss: 0.029627, time taken: 0.9041798114776611s\n",
      "120/145, train_loss: 0.030520, time taken: 0.8913872241973877s\n",
      "130/145, train_loss: 0.030210, time taken: 0.88739013671875s\n",
      "140/145, train_loss: 0.031656, time taken: 0.8982422351837158s\n"
     ]
    },
    {
     "name": "stderr",
     "output_type": "stream",
     "text": [
      "2024-06-07 10:12 INFO epoch 122 average loss: 0.0284\n"
     ]
    },
    {
     "name": "stdout",
     "output_type": "stream",
     "text": [
      "epoch 122 average loss: 0.0284\n",
      "----------\n",
      "epoch 123/360\n",
      "10/145, train_loss: 0.024312, time taken: 0.9031941890716553s\n",
      "20/145, train_loss: 0.030651, time taken: 0.8895535469055176s\n",
      "30/145, train_loss: 0.032144, time taken: 0.8969454765319824s\n",
      "40/145, train_loss: 0.029720, time taken: 0.9173648357391357s\n",
      "50/145, train_loss: 0.026840, time taken: 0.8979058265686035s\n",
      "60/145, train_loss: 0.027484, time taken: 0.8826239109039307s\n",
      "70/145, train_loss: 0.026824, time taken: 0.9085276126861572s\n",
      "80/145, train_loss: 0.025757, time taken: 0.8789708614349365s\n",
      "90/145, train_loss: 0.026041, time taken: 0.9043748378753662s\n",
      "100/145, train_loss: 0.025841, time taken: 0.8791522979736328s\n",
      "110/145, train_loss: 0.027002, time taken: 0.8997721672058105s\n",
      "120/145, train_loss: 0.027221, time taken: 0.8809425830841064s\n",
      "130/145, train_loss: 0.026769, time taken: 0.8979678153991699s\n",
      "140/145, train_loss: 0.027093, time taken: 0.8840558528900146s\n"
     ]
    },
    {
     "name": "stderr",
     "output_type": "stream",
     "text": [
      "2024-06-07 10:14 INFO epoch 123 average loss: 0.0276\n"
     ]
    },
    {
     "name": "stdout",
     "output_type": "stream",
     "text": [
      "epoch 123 average loss: 0.0276\n",
      "----------\n",
      "epoch 124/360\n",
      "10/145, train_loss: 0.021624, time taken: 0.9976353645324707s\n",
      "20/145, train_loss: 0.025534, time taken: 0.9217681884765625s\n",
      "30/145, train_loss: 0.025190, time taken: 0.881201982498169s\n",
      "40/145, train_loss: 0.024235, time taken: 0.8840315341949463s\n",
      "50/145, train_loss: 0.024657, time taken: 0.9042849540710449s\n",
      "60/145, train_loss: 0.021600, time taken: 0.8908605575561523s\n",
      "70/145, train_loss: 0.022972, time taken: 0.9001123905181885s\n",
      "80/145, train_loss: 0.021513, time taken: 0.8934371471405029s\n",
      "90/145, train_loss: 0.020267, time taken: 0.9279561042785645s\n",
      "100/145, train_loss: 0.020813, time taken: 0.9118177890777588s\n",
      "110/145, train_loss: 0.021119, time taken: 0.8930075168609619s\n",
      "120/145, train_loss: 0.021750, time taken: 0.8946287631988525s\n",
      "130/145, train_loss: 0.021960, time taken: 0.9092774391174316s\n",
      "140/145, train_loss: 0.023910, time taken: 0.8872706890106201s\n"
     ]
    },
    {
     "name": "stderr",
     "output_type": "stream",
     "text": [
      "2024-06-07 10:16 INFO epoch 124 average loss: 0.0220\n"
     ]
    },
    {
     "name": "stdout",
     "output_type": "stream",
     "text": [
      "epoch 124 average loss: 0.0220\n",
      "----------\n",
      "epoch 125/360\n",
      "10/145, train_loss: 0.031894, time taken: 0.8884091377258301s\n",
      "20/145, train_loss: 0.020367, time taken: 0.9017238616943359s\n",
      "30/145, train_loss: 0.022572, time taken: 0.9016165733337402s\n",
      "40/145, train_loss: 0.021001, time taken: 0.8864588737487793s\n",
      "50/145, train_loss: 0.025113, time taken: 0.9148907661437988s\n",
      "60/145, train_loss: 0.026668, time taken: 0.8815054893493652s\n",
      "70/145, train_loss: 0.025164, time taken: 0.8961331844329834s\n",
      "80/145, train_loss: 0.027105, time taken: 0.8777866363525391s\n",
      "90/145, train_loss: 0.026287, time taken: 0.89874267578125s\n",
      "100/145, train_loss: 0.026760, time taken: 0.8728277683258057s\n",
      "110/145, train_loss: 0.026011, time taken: 0.8719909191131592s\n",
      "120/145, train_loss: 0.025951, time taken: 0.9152302742004395s\n",
      "130/145, train_loss: 0.028090, time taken: 0.8973846435546875s\n",
      "140/145, train_loss: 0.028619, time taken: 0.9086406230926514s\n"
     ]
    },
    {
     "name": "stderr",
     "output_type": "stream",
     "text": [
      "2024-06-07 10:18 INFO epoch 125 average loss: 0.0267\n"
     ]
    },
    {
     "name": "stdout",
     "output_type": "stream",
     "text": [
      "epoch 125 average loss: 0.0267\n",
      "----------\n",
      "epoch 126/360\n",
      "10/145, train_loss: 0.024137, time taken: 0.8724827766418457s\n",
      "20/145, train_loss: 0.018969, time taken: 0.8734745979309082s\n",
      "30/145, train_loss: 0.020689, time taken: 0.8837740421295166s\n",
      "40/145, train_loss: 0.022257, time taken: 0.8819680213928223s\n",
      "50/145, train_loss: 0.028104, time taken: 0.8823466300964355s\n",
      "60/145, train_loss: 0.030142, time taken: 0.9039616584777832s\n",
      "70/145, train_loss: 0.032106, time taken: 0.8940041065216064s\n",
      "80/145, train_loss: 0.032449, time taken: 0.9847724437713623s\n",
      "90/145, train_loss: 0.032105, time taken: 0.9132330417633057s\n",
      "100/145, train_loss: 0.029950, time taken: 0.898465633392334s\n",
      "110/145, train_loss: 0.029792, time taken: 0.8904995918273926s\n",
      "120/145, train_loss: 0.030209, time taken: 0.8885045051574707s\n",
      "130/145, train_loss: 0.029357, time taken: 0.8957040309906006s\n",
      "140/145, train_loss: 0.029849, time taken: 0.8710582256317139s\n"
     ]
    },
    {
     "name": "stderr",
     "output_type": "stream",
     "text": [
      "2024-06-07 10:21 INFO epoch 126 average loss: 0.0277\n"
     ]
    },
    {
     "name": "stdout",
     "output_type": "stream",
     "text": [
      "epoch 126 average loss: 0.0277\n",
      "----------\n",
      "epoch 127/360\n",
      "10/145, train_loss: 0.022064, time taken: 0.8829469680786133s\n",
      "20/145, train_loss: 0.017201, time taken: 0.8859374523162842s\n",
      "30/145, train_loss: 0.023794, time taken: 0.904444694519043s\n",
      "40/145, train_loss: 0.022155, time taken: 0.9075026512145996s\n",
      "50/145, train_loss: 0.024225, time taken: 0.8794879913330078s\n",
      "60/145, train_loss: 0.025512, time taken: 0.8806703090667725s\n",
      "70/145, train_loss: 0.025807, time taken: 0.875025749206543s\n",
      "80/145, train_loss: 0.024712, time taken: 0.8673129081726074s\n",
      "90/145, train_loss: 0.025903, time taken: 0.9063069820404053s\n",
      "100/145, train_loss: 0.027254, time taken: 0.8986148834228516s\n",
      "110/145, train_loss: 0.028285, time taken: 0.8890879154205322s\n",
      "120/145, train_loss: 0.027703, time taken: 0.9078388214111328s\n",
      "130/145, train_loss: 0.028533, time taken: 0.9040629863739014s\n",
      "140/145, train_loss: 0.028082, time taken: 0.8719496726989746s\n"
     ]
    },
    {
     "name": "stderr",
     "output_type": "stream",
     "text": [
      "2024-06-07 10:23 INFO epoch 127 average loss: 0.0250\n"
     ]
    },
    {
     "name": "stdout",
     "output_type": "stream",
     "text": [
      "epoch 127 average loss: 0.0250\n",
      "----------\n",
      "epoch 128/360\n",
      "10/145, train_loss: 0.033783, time taken: 0.8910832405090332s\n",
      "20/145, train_loss: 0.026878, time taken: 0.902897834777832s\n",
      "30/145, train_loss: 0.021421, time taken: 0.8961379528045654s\n",
      "40/145, train_loss: 0.022709, time taken: 0.8931756019592285s\n",
      "50/145, train_loss: 0.022389, time taken: 0.9153084754943848s\n",
      "60/145, train_loss: 0.025695, time taken: 0.8857817649841309s\n",
      "70/145, train_loss: 0.026947, time taken: 0.8739051818847656s\n",
      "80/145, train_loss: 0.026453, time taken: 0.8852443695068359s\n",
      "90/145, train_loss: 0.026855, time taken: 0.9216070175170898s\n",
      "100/145, train_loss: 0.025580, time taken: 0.8783466815948486s\n",
      "110/145, train_loss: 0.026944, time taken: 0.8673224449157715s\n",
      "120/145, train_loss: 0.026878, time taken: 0.8892624378204346s\n",
      "130/145, train_loss: 0.026865, time taken: 0.8819127082824707s\n",
      "140/145, train_loss: 0.026443, time taken: 0.8915207386016846s\n"
     ]
    },
    {
     "name": "stderr",
     "output_type": "stream",
     "text": [
      "2024-06-07 10:25 INFO epoch 128 average loss: 0.0254\n"
     ]
    },
    {
     "name": "stdout",
     "output_type": "stream",
     "text": [
      "epoch 128 average loss: 0.0254\n",
      "----------\n",
      "epoch 129/360\n",
      "10/145, train_loss: 0.020495, time taken: 0.9010207653045654s\n",
      "20/145, train_loss: 0.020357, time taken: 0.8857312202453613s\n",
      "30/145, train_loss: 0.018496, time taken: 0.900017499923706s\n",
      "40/145, train_loss: 0.020854, time taken: 0.8913276195526123s\n",
      "50/145, train_loss: 0.023854, time taken: 0.893662691116333s\n",
      "60/145, train_loss: 0.021773, time taken: 0.8940467834472656s\n",
      "70/145, train_loss: 0.023635, time taken: 0.9069192409515381s\n",
      "80/145, train_loss: 0.023698, time taken: 0.8951289653778076s\n",
      "90/145, train_loss: 0.024056, time taken: 0.9233360290527344s\n",
      "100/145, train_loss: 0.024413, time taken: 0.8928368091583252s\n",
      "110/145, train_loss: 0.024285, time taken: 0.9232392311096191s\n",
      "120/145, train_loss: 0.023493, time taken: 0.9889063835144043s\n",
      "130/145, train_loss: 0.023957, time taken: 0.8736100196838379s\n",
      "140/145, train_loss: 0.024822, time taken: 0.879601240158081s\n"
     ]
    },
    {
     "name": "stderr",
     "output_type": "stream",
     "text": [
      "2024-06-07 10:27 INFO epoch 129 average loss: 0.0226\n"
     ]
    },
    {
     "name": "stdout",
     "output_type": "stream",
     "text": [
      "epoch 129 average loss: 0.0226\n",
      "----------\n",
      "epoch 130/360\n",
      "10/145, train_loss: 0.026700, time taken: 0.8939943313598633s\n",
      "20/145, train_loss: 0.030451, time taken: 0.866398811340332s\n",
      "30/145, train_loss: 0.029875, time taken: 0.9080572128295898s\n",
      "40/145, train_loss: 0.031295, time taken: 0.890643835067749s\n",
      "50/145, train_loss: 0.030964, time taken: 0.8882710933685303s\n",
      "60/145, train_loss: 0.028761, time taken: 0.8981492519378662s\n",
      "70/145, train_loss: 0.027089, time taken: 0.8954453468322754s\n",
      "80/145, train_loss: 0.025855, time taken: 0.8946371078491211s\n",
      "90/145, train_loss: 0.026361, time taken: 0.8847427368164062s\n",
      "100/145, train_loss: 0.025951, time taken: 0.8960721492767334s\n",
      "110/145, train_loss: 0.025273, time taken: 0.8717107772827148s\n",
      "120/145, train_loss: 0.025910, time taken: 0.8896374702453613s\n",
      "130/145, train_loss: 0.025975, time taken: 0.8933525085449219s\n",
      "140/145, train_loss: 0.025760, time taken: 0.8782691955566406s\n"
     ]
    },
    {
     "name": "stderr",
     "output_type": "stream",
     "text": [
      "2024-06-07 10:29 INFO epoch 130 average loss: 0.0274\n"
     ]
    },
    {
     "name": "stdout",
     "output_type": "stream",
     "text": [
      "epoch 130 average loss: 0.0274\n",
      "----------\n",
      "epoch 131/360\n",
      "10/145, train_loss: 0.026991, time taken: 0.8989489078521729s\n",
      "20/145, train_loss: 0.031233, time taken: 0.9014246463775635s\n",
      "30/145, train_loss: 0.035010, time taken: 0.8841359615325928s\n",
      "40/145, train_loss: 0.036820, time taken: 0.8909251689910889s\n",
      "50/145, train_loss: 0.036983, time taken: 0.903954267501831s\n",
      "60/145, train_loss: 0.035123, time taken: 0.8980212211608887s\n",
      "70/145, train_loss: 0.034669, time taken: 0.904057502746582s\n",
      "80/145, train_loss: 0.033097, time taken: 0.9117932319641113s\n",
      "90/145, train_loss: 0.032716, time taken: 0.9008822441101074s\n",
      "100/145, train_loss: 0.031391, time taken: 0.9126451015472412s\n",
      "110/145, train_loss: 0.031687, time taken: 0.8804466724395752s\n",
      "120/145, train_loss: 0.032643, time taken: 0.9070851802825928s\n",
      "130/145, train_loss: 0.032141, time taken: 0.897782564163208s\n",
      "140/145, train_loss: 0.032530, time taken: 0.8857870101928711s\n"
     ]
    },
    {
     "name": "stderr",
     "output_type": "stream",
     "text": [
      "2024-06-07 10:32 INFO epoch 131 average loss: 0.0324\n"
     ]
    },
    {
     "name": "stdout",
     "output_type": "stream",
     "text": [
      "epoch 131 average loss: 0.0324\n",
      "----------\n",
      "epoch 132/360\n",
      "10/145, train_loss: 0.032116, time taken: 0.9151225090026855s\n",
      "20/145, train_loss: 0.027113, time taken: 0.8797366619110107s\n",
      "30/145, train_loss: 0.023963, time taken: 0.872316837310791s\n",
      "40/145, train_loss: 0.025608, time taken: 0.8842120170593262s\n",
      "50/145, train_loss: 0.026104, time taken: 0.885218620300293s\n",
      "60/145, train_loss: 0.027476, time taken: 0.8876392841339111s\n",
      "70/145, train_loss: 0.029514, time taken: 0.8807635307312012s\n",
      "80/145, train_loss: 0.028411, time taken: 0.9716901779174805s\n",
      "90/145, train_loss: 0.028773, time taken: 0.8862323760986328s\n",
      "100/145, train_loss: 0.029420, time taken: 0.8810040950775146s\n",
      "110/145, train_loss: 0.029683, time taken: 0.8805840015411377s\n",
      "120/145, train_loss: 0.029795, time taken: 0.8642098903656006s\n",
      "130/145, train_loss: 0.030408, time taken: 0.890134334564209s\n",
      "140/145, train_loss: 0.029779, time taken: 0.9257967472076416s\n"
     ]
    },
    {
     "name": "stderr",
     "output_type": "stream",
     "text": [
      "2024-06-07 10:34 INFO epoch 132 average loss: 0.0278\n"
     ]
    },
    {
     "name": "stdout",
     "output_type": "stream",
     "text": [
      "epoch 132 average loss: 0.0278\n",
      "----------\n",
      "epoch 133/360\n",
      "10/145, train_loss: 0.017189, time taken: 0.8874764442443848s\n",
      "20/145, train_loss: 0.022154, time taken: 0.8810932636260986s\n",
      "30/145, train_loss: 0.027227, time taken: 0.8943302631378174s\n",
      "40/145, train_loss: 0.026615, time taken: 0.9010682106018066s\n",
      "50/145, train_loss: 0.024008, time taken: 0.8925650119781494s\n",
      "60/145, train_loss: 0.024538, time taken: 0.8738324642181396s\n",
      "70/145, train_loss: 0.024799, time taken: 0.9810419082641602s\n",
      "80/145, train_loss: 0.023315, time taken: 0.9037179946899414s\n",
      "90/145, train_loss: 0.022345, time taken: 0.8915376663208008s\n",
      "100/145, train_loss: 0.022974, time taken: 0.919482946395874s\n",
      "110/145, train_loss: 0.023513, time taken: 0.8847556114196777s\n",
      "120/145, train_loss: 0.023249, time taken: 0.8875150680541992s\n",
      "130/145, train_loss: 0.024114, time taken: 0.8935980796813965s\n",
      "140/145, train_loss: 0.024077, time taken: 0.9074597358703613s\n"
     ]
    },
    {
     "name": "stderr",
     "output_type": "stream",
     "text": [
      "2024-06-07 10:36 INFO epoch 133 average loss: 0.0233\n"
     ]
    },
    {
     "name": "stdout",
     "output_type": "stream",
     "text": [
      "epoch 133 average loss: 0.0233\n",
      "----------\n",
      "epoch 134/360\n",
      "10/145, train_loss: 0.018898, time taken: 0.9076690673828125s\n",
      "20/145, train_loss: 0.025332, time taken: 0.9107067584991455s\n",
      "30/145, train_loss: 0.024583, time taken: 0.8962781429290771s\n",
      "40/145, train_loss: 0.022583, time taken: 0.8768656253814697s\n",
      "50/145, train_loss: 0.026654, time taken: 0.8819615840911865s\n",
      "60/145, train_loss: 0.027732, time taken: 0.8843843936920166s\n",
      "70/145, train_loss: 0.026926, time taken: 0.900510311126709s\n",
      "80/145, train_loss: 0.026328, time taken: 0.8928186893463135s\n",
      "90/145, train_loss: 0.027391, time taken: 0.895122766494751s\n",
      "100/145, train_loss: 0.027548, time taken: 0.893688440322876s\n",
      "110/145, train_loss: 0.028944, time taken: 0.9259982109069824s\n",
      "120/145, train_loss: 0.028480, time taken: 0.8758728504180908s\n",
      "130/145, train_loss: 0.027570, time taken: 0.8769774436950684s\n",
      "140/145, train_loss: 0.028068, time taken: 0.8820705413818359s\n"
     ]
    },
    {
     "name": "stderr",
     "output_type": "stream",
     "text": [
      "2024-06-07 10:38 INFO epoch 134 average loss: 0.0265\n"
     ]
    },
    {
     "name": "stdout",
     "output_type": "stream",
     "text": [
      "epoch 134 average loss: 0.0265\n",
      "----------\n",
      "epoch 135/360\n",
      "10/145, train_loss: 0.015075, time taken: 0.8989653587341309s\n",
      "20/145, train_loss: 0.021177, time taken: 0.8951106071472168s\n",
      "30/145, train_loss: 0.020918, time taken: 0.9085705280303955s\n",
      "40/145, train_loss: 0.020837, time taken: 0.9074099063873291s\n",
      "50/145, train_loss: 0.020400, time taken: 0.9123451709747314s\n",
      "60/145, train_loss: 0.020583, time taken: 0.8965744972229004s\n",
      "70/145, train_loss: 0.021935, time taken: 0.8753054141998291s\n",
      "80/145, train_loss: 0.022649, time taken: 0.8920948505401611s\n",
      "90/145, train_loss: 0.022740, time taken: 0.8808014392852783s\n",
      "100/145, train_loss: 0.023124, time taken: 0.8765990734100342s\n",
      "110/145, train_loss: 0.023604, time taken: 0.8871402740478516s\n",
      "120/145, train_loss: 0.024329, time taken: 0.8918046951293945s\n",
      "130/145, train_loss: 0.024385, time taken: 0.8863301277160645s\n",
      "140/145, train_loss: 0.024470, time taken: 0.8984086513519287s\n"
     ]
    },
    {
     "name": "stderr",
     "output_type": "stream",
     "text": [
      "2024-06-07 10:40 INFO epoch 135 average loss: 0.0213\n"
     ]
    },
    {
     "name": "stdout",
     "output_type": "stream",
     "text": [
      "epoch 135 average loss: 0.0213\n",
      "----------\n",
      "epoch 136/360\n",
      "10/145, train_loss: 0.035056, time taken: 0.9027948379516602s\n",
      "20/145, train_loss: 0.026942, time taken: 0.8949685096740723s\n",
      "30/145, train_loss: 0.027237, time taken: 0.8882381916046143s\n",
      "40/145, train_loss: 0.028677, time taken: 0.8893325328826904s\n",
      "50/145, train_loss: 0.027013, time taken: 0.8785727024078369s\n",
      "60/145, train_loss: 0.027355, time taken: 0.9123756885528564s\n",
      "70/145, train_loss: 0.027165, time taken: 0.8889443874359131s\n",
      "80/145, train_loss: 0.027420, time taken: 0.91904616355896s\n",
      "90/145, train_loss: 0.026916, time taken: 0.8833730220794678s\n",
      "100/145, train_loss: 0.027210, time taken: 0.9031867980957031s\n",
      "110/145, train_loss: 0.027346, time taken: 0.877655029296875s\n",
      "120/145, train_loss: 0.026243, time taken: 0.8739297389984131s\n",
      "130/145, train_loss: 0.025341, time taken: 0.9102938175201416s\n",
      "140/145, train_loss: 0.025638, time taken: 0.890174150466919s\n"
     ]
    },
    {
     "name": "stderr",
     "output_type": "stream",
     "text": [
      "2024-06-07 10:43 INFO epoch 136 average loss: 0.0278\n"
     ]
    },
    {
     "name": "stdout",
     "output_type": "stream",
     "text": [
      "epoch 136 average loss: 0.0278\n",
      "----------\n",
      "epoch 137/360\n",
      "10/145, train_loss: 0.017379, time taken: 0.8858680725097656s\n",
      "20/145, train_loss: 0.024866, time taken: 0.8862090110778809s\n",
      "30/145, train_loss: 0.026716, time taken: 0.8907084465026855s\n",
      "40/145, train_loss: 0.026331, time taken: 0.8907537460327148s\n",
      "50/145, train_loss: 0.025602, time taken: 0.8964710235595703s\n",
      "60/145, train_loss: 0.028744, time taken: 0.8806540966033936s\n",
      "70/145, train_loss: 0.027384, time taken: 0.8870892524719238s\n",
      "80/145, train_loss: 0.026501, time taken: 0.9004757404327393s\n",
      "90/145, train_loss: 0.027625, time taken: 0.8821365833282471s\n",
      "100/145, train_loss: 0.027067, time taken: 0.8946743011474609s\n",
      "110/145, train_loss: 0.025491, time taken: 0.875739574432373s\n",
      "120/145, train_loss: 0.024830, time taken: 0.8905491828918457s\n",
      "130/145, train_loss: 0.025084, time taken: 0.9167747497558594s\n",
      "140/145, train_loss: 0.025351, time taken: 0.8799498081207275s\n"
     ]
    },
    {
     "name": "stderr",
     "output_type": "stream",
     "text": [
      "2024-06-07 10:45 INFO epoch 137 average loss: 0.0253\n"
     ]
    },
    {
     "name": "stdout",
     "output_type": "stream",
     "text": [
      "epoch 137 average loss: 0.0253\n",
      "----------\n",
      "epoch 138/360\n",
      "10/145, train_loss: 0.024071, time taken: 0.9890444278717041s\n",
      "20/145, train_loss: 0.022483, time taken: 0.8921940326690674s\n",
      "30/145, train_loss: 0.022625, time taken: 0.8938143253326416s\n",
      "40/145, train_loss: 0.028763, time taken: 0.8711130619049072s\n",
      "50/145, train_loss: 0.028379, time taken: 0.909907341003418s\n",
      "60/145, train_loss: 0.027493, time taken: 0.9088959693908691s\n",
      "70/145, train_loss: 0.026839, time taken: 0.9074499607086182s\n",
      "80/145, train_loss: 0.030243, time taken: 0.886474609375s\n",
      "90/145, train_loss: 0.029313, time taken: 0.9040117263793945s\n",
      "100/145, train_loss: 0.027943, time taken: 0.9094984531402588s\n",
      "110/145, train_loss: 0.027763, time taken: 0.8694756031036377s\n",
      "120/145, train_loss: 0.027507, time taken: 0.9025089740753174s\n",
      "130/145, train_loss: 0.027147, time taken: 0.8996977806091309s\n",
      "140/145, train_loss: 0.027436, time taken: 0.9054832458496094s\n"
     ]
    },
    {
     "name": "stderr",
     "output_type": "stream",
     "text": [
      "2024-06-07 10:47 INFO epoch 138 average loss: 0.0269\n"
     ]
    },
    {
     "name": "stdout",
     "output_type": "stream",
     "text": [
      "epoch 138 average loss: 0.0269\n",
      "----------\n",
      "epoch 139/360\n",
      "10/145, train_loss: 0.024670, time taken: 0.8985421657562256s\n",
      "20/145, train_loss: 0.025024, time taken: 0.894028902053833s\n",
      "30/145, train_loss: 0.023562, time taken: 0.8847382068634033s\n",
      "40/145, train_loss: 0.022437, time taken: 0.8925826549530029s\n",
      "50/145, train_loss: 0.022462, time taken: 0.8886456489562988s\n",
      "60/145, train_loss: 0.022272, time taken: 0.8869953155517578s\n",
      "70/145, train_loss: 0.022660, time taken: 0.8834059238433838s\n",
      "80/145, train_loss: 0.022088, time taken: 0.8824734687805176s\n",
      "90/145, train_loss: 0.022870, time taken: 0.9031693935394287s\n",
      "100/145, train_loss: 0.022828, time taken: 0.8905279636383057s\n",
      "110/145, train_loss: 0.022977, time taken: 0.8875586986541748s\n",
      "120/145, train_loss: 0.021775, time taken: 0.883577823638916s\n",
      "130/145, train_loss: 0.022109, time taken: 0.8757369518280029s\n",
      "140/145, train_loss: 0.022315, time taken: 0.8840348720550537s\n"
     ]
    },
    {
     "name": "stderr",
     "output_type": "stream",
     "text": [
      "2024-06-07 10:49 INFO epoch 139 average loss: 0.0228\n"
     ]
    },
    {
     "name": "stdout",
     "output_type": "stream",
     "text": [
      "epoch 139 average loss: 0.0228\n",
      "----------\n",
      "epoch 140/360\n",
      "10/145, train_loss: 0.019593, time taken: 0.8831729888916016s\n",
      "20/145, train_loss: 0.016029, time taken: 0.8906838893890381s\n",
      "30/145, train_loss: 0.016734, time taken: 0.8805317878723145s\n",
      "40/145, train_loss: 0.021093, time taken: 0.9041566848754883s\n",
      "50/145, train_loss: 0.021889, time taken: 0.89304518699646s\n",
      "60/145, train_loss: 0.022079, time taken: 0.8866806030273438s\n",
      "70/145, train_loss: 0.025095, time taken: 0.8942062854766846s\n",
      "80/145, train_loss: 0.025378, time taken: 0.9765398502349854s\n",
      "90/145, train_loss: 0.024688, time taken: 0.8998022079467773s\n",
      "100/145, train_loss: 0.024874, time taken: 0.8694219589233398s\n",
      "110/145, train_loss: 0.024837, time taken: 0.8747081756591797s\n",
      "120/145, train_loss: 0.025366, time taken: 0.8746993541717529s\n",
      "130/145, train_loss: 0.025299, time taken: 0.8811254501342773s\n",
      "140/145, train_loss: 0.024667, time taken: 0.9302427768707275s\n"
     ]
    },
    {
     "name": "stderr",
     "output_type": "stream",
     "text": [
      "2024-06-07 10:51 INFO epoch 140 average loss: 0.0233\n"
     ]
    },
    {
     "name": "stdout",
     "output_type": "stream",
     "text": [
      "epoch 140 average loss: 0.0233\n",
      "----------\n",
      "epoch 141/360\n",
      "10/145, train_loss: 0.030274, time taken: 0.884150505065918s\n",
      "20/145, train_loss: 0.025242, time taken: 0.9054765701293945s\n",
      "30/145, train_loss: 0.021513, time taken: 0.884397029876709s\n",
      "40/145, train_loss: 0.018410, time taken: 0.8906092643737793s\n",
      "50/145, train_loss: 0.018256, time taken: 0.8834826946258545s\n",
      "60/145, train_loss: 0.017520, time taken: 0.8792598247528076s\n",
      "70/145, train_loss: 0.018191, time taken: 0.8779332637786865s\n",
      "80/145, train_loss: 0.020269, time taken: 0.9062471389770508s\n",
      "90/145, train_loss: 0.020260, time taken: 0.8701455593109131s\n",
      "100/145, train_loss: 0.021377, time taken: 0.8887856006622314s\n",
      "110/145, train_loss: 0.021086, time taken: 0.8954412937164307s\n",
      "120/145, train_loss: 0.021907, time taken: 0.8992836475372314s\n",
      "130/145, train_loss: 0.022457, time taken: 0.8878183364868164s\n",
      "140/145, train_loss: 0.023176, time taken: 0.8776333332061768s\n"
     ]
    },
    {
     "name": "stderr",
     "output_type": "stream",
     "text": [
      "2024-06-07 10:54 INFO epoch 141 average loss: 0.0218\n"
     ]
    },
    {
     "name": "stdout",
     "output_type": "stream",
     "text": [
      "epoch 141 average loss: 0.0218\n",
      "----------\n",
      "epoch 142/360\n",
      "10/145, train_loss: 0.043270, time taken: 0.8817682266235352s\n",
      "20/145, train_loss: 0.029360, time taken: 0.9241979122161865s\n",
      "30/145, train_loss: 0.033417, time taken: 0.9020159244537354s\n",
      "40/145, train_loss: 0.029312, time taken: 0.8937122821807861s\n",
      "50/145, train_loss: 0.025876, time taken: 0.8860809803009033s\n",
      "60/145, train_loss: 0.025606, time taken: 0.9289391040802002s\n",
      "70/145, train_loss: 0.025240, time taken: 0.8938689231872559s\n",
      "80/145, train_loss: 0.025434, time taken: 0.9054970741271973s\n",
      "90/145, train_loss: 0.024647, time taken: 0.9049298763275146s\n",
      "100/145, train_loss: 0.025931, time taken: 0.8963971138000488s\n",
      "110/145, train_loss: 0.027438, time taken: 0.8645119667053223s\n",
      "120/145, train_loss: 0.027014, time taken: 0.8880066871643066s\n",
      "130/145, train_loss: 0.026961, time taken: 0.9039182662963867s\n",
      "140/145, train_loss: 0.027210, time taken: 0.8927912712097168s\n"
     ]
    },
    {
     "name": "stderr",
     "output_type": "stream",
     "text": [
      "2024-06-07 10:56 INFO epoch 142 average loss: 0.0290\n"
     ]
    },
    {
     "name": "stdout",
     "output_type": "stream",
     "text": [
      "epoch 142 average loss: 0.0290\n",
      "----------\n",
      "epoch 143/360\n",
      "10/145, train_loss: 0.030965, time taken: 0.8888249397277832s\n",
      "20/145, train_loss: 0.026847, time taken: 0.9035704135894775s\n",
      "30/145, train_loss: 0.028733, time taken: 0.8826041221618652s\n",
      "40/145, train_loss: 0.031972, time taken: 0.8966901302337646s\n",
      "50/145, train_loss: 0.031197, time taken: 0.8827886581420898s\n",
      "60/145, train_loss: 0.029494, time taken: 0.894742488861084s\n",
      "70/145, train_loss: 0.029033, time taken: 0.8984174728393555s\n",
      "80/145, train_loss: 0.029246, time taken: 0.9058222770690918s\n",
      "90/145, train_loss: 0.029980, time taken: 0.9100406169891357s\n",
      "100/145, train_loss: 0.030346, time taken: 0.8832533359527588s\n",
      "110/145, train_loss: 0.030230, time taken: 0.893242597579956s\n",
      "120/145, train_loss: 0.029325, time taken: 0.9630105495452881s\n",
      "130/145, train_loss: 0.030414, time taken: 0.9101974964141846s\n",
      "140/145, train_loss: 0.030738, time taken: 0.8860006332397461s\n"
     ]
    },
    {
     "name": "stderr",
     "output_type": "stream",
     "text": [
      "2024-06-07 10:58 INFO epoch 143 average loss: 0.0305\n"
     ]
    },
    {
     "name": "stdout",
     "output_type": "stream",
     "text": [
      "epoch 143 average loss: 0.0305\n",
      "----------\n",
      "epoch 144/360\n",
      "10/145, train_loss: 0.027566, time taken: 0.8841321468353271s\n",
      "20/145, train_loss: 0.025642, time taken: 0.8939805030822754s\n",
      "30/145, train_loss: 0.028448, time taken: 0.9102106094360352s\n",
      "40/145, train_loss: 0.025443, time taken: 0.8923461437225342s\n",
      "50/145, train_loss: 0.025101, time taken: 0.8844058513641357s\n",
      "60/145, train_loss: 0.025809, time taken: 0.8932778835296631s\n",
      "70/145, train_loss: 0.024255, time taken: 0.887923002243042s\n",
      "80/145, train_loss: 0.024430, time taken: 0.9064555168151855s\n",
      "90/145, train_loss: 0.024090, time taken: 0.8821470737457275s\n",
      "100/145, train_loss: 0.023953, time taken: 0.9041144847869873s\n",
      "110/145, train_loss: 0.023326, time taken: 0.9072816371917725s\n",
      "120/145, train_loss: 0.023830, time taken: 0.9009418487548828s\n",
      "130/145, train_loss: 0.023923, time taken: 0.8824167251586914s\n",
      "140/145, train_loss: 0.023700, time taken: 0.9245479106903076s\n"
     ]
    },
    {
     "name": "stderr",
     "output_type": "stream",
     "text": [
      "2024-06-07 11:00 INFO epoch 144 average loss: 0.0245\n"
     ]
    },
    {
     "name": "stdout",
     "output_type": "stream",
     "text": [
      "epoch 144 average loss: 0.0245\n",
      "----------\n",
      "epoch 145/360\n",
      "10/145, train_loss: 0.028093, time taken: 0.8820064067840576s\n",
      "20/145, train_loss: 0.023586, time taken: 0.9074873924255371s\n",
      "30/145, train_loss: 0.024514, time taken: 0.8921031951904297s\n",
      "40/145, train_loss: 0.021093, time taken: 0.8896338939666748s\n",
      "50/145, train_loss: 0.019310, time taken: 0.8934428691864014s\n",
      "60/145, train_loss: 0.021015, time taken: 0.8795807361602783s\n",
      "70/145, train_loss: 0.020147, time taken: 0.8706364631652832s\n",
      "80/145, train_loss: 0.020791, time taken: 0.8694610595703125s\n",
      "90/145, train_loss: 0.020978, time taken: 0.9110839366912842s\n",
      "100/145, train_loss: 0.021167, time taken: 0.8954427242279053s\n",
      "110/145, train_loss: 0.020342, time taken: 0.8786332607269287s\n",
      "120/145, train_loss: 0.021305, time taken: 0.8917295932769775s\n",
      "130/145, train_loss: 0.023393, time taken: 0.9079880714416504s\n",
      "140/145, train_loss: 0.023190, time taken: 0.8812112808227539s\n"
     ]
    },
    {
     "name": "stderr",
     "output_type": "stream",
     "text": [
      "2024-06-07 11:02 INFO epoch 145 average loss: 0.0232\n"
     ]
    },
    {
     "name": "stdout",
     "output_type": "stream",
     "text": [
      "epoch 145 average loss: 0.0232\n",
      "----------\n",
      "epoch 146/360\n",
      "10/145, train_loss: 0.012558, time taken: 0.8886153697967529s\n",
      "20/145, train_loss: 0.018505, time taken: 0.8769543170928955s\n",
      "30/145, train_loss: 0.017315, time taken: 0.8840863704681396s\n",
      "40/145, train_loss: 0.017884, time taken: 0.9056825637817383s\n",
      "50/145, train_loss: 0.019515, time taken: 0.8832306861877441s\n",
      "60/145, train_loss: 0.022872, time taken: 0.9086399078369141s\n",
      "70/145, train_loss: 0.022164, time taken: 0.9140958786010742s\n",
      "80/145, train_loss: 0.022399, time taken: 0.9778094291687012s\n",
      "90/145, train_loss: 0.023438, time taken: 0.8940768241882324s\n",
      "100/145, train_loss: 0.023419, time taken: 0.8911683559417725s\n",
      "110/145, train_loss: 0.024116, time taken: 0.8899996280670166s\n",
      "120/145, train_loss: 0.024947, time taken: 0.9160940647125244s\n",
      "130/145, train_loss: 0.024764, time taken: 0.9201862812042236s\n",
      "140/145, train_loss: 0.024427, time taken: 0.9063138961791992s\n"
     ]
    },
    {
     "name": "stderr",
     "output_type": "stream",
     "text": [
      "2024-06-07 11:05 INFO epoch 146 average loss: 0.0214\n"
     ]
    },
    {
     "name": "stdout",
     "output_type": "stream",
     "text": [
      "epoch 146 average loss: 0.0214\n",
      "----------\n",
      "epoch 147/360\n",
      "10/145, train_loss: 0.015347, time taken: 0.8931441307067871s\n",
      "20/145, train_loss: 0.014568, time taken: 0.8811252117156982s\n",
      "30/145, train_loss: 0.014369, time taken: 0.9027347564697266s\n",
      "40/145, train_loss: 0.015639, time taken: 0.8738338947296143s\n",
      "50/145, train_loss: 0.015589, time taken: 0.8860495090484619s\n",
      "60/145, train_loss: 0.016237, time taken: 0.8952722549438477s\n",
      "70/145, train_loss: 0.016950, time taken: 0.9643721580505371s\n",
      "80/145, train_loss: 0.016643, time taken: 0.8817555904388428s\n",
      "90/145, train_loss: 0.016707, time taken: 0.9052131175994873s\n",
      "100/145, train_loss: 0.017238, time taken: 0.8844311237335205s\n",
      "110/145, train_loss: 0.017151, time taken: 0.9091169834136963s\n",
      "120/145, train_loss: 0.017291, time taken: 0.8759992122650146s\n",
      "130/145, train_loss: 0.018159, time taken: 0.8828949928283691s\n",
      "140/145, train_loss: 0.018924, time taken: 0.9009566307067871s\n"
     ]
    },
    {
     "name": "stderr",
     "output_type": "stream",
     "text": [
      "2024-06-07 11:07 INFO epoch 147 average loss: 0.0162\n"
     ]
    },
    {
     "name": "stdout",
     "output_type": "stream",
     "text": [
      "epoch 147 average loss: 0.0162\n",
      "----------\n",
      "epoch 148/360\n",
      "10/145, train_loss: 0.036597, time taken: 0.8951869010925293s\n",
      "20/145, train_loss: 0.033248, time taken: 0.8910763263702393s\n",
      "30/145, train_loss: 0.035953, time taken: 0.8975377082824707s\n",
      "40/145, train_loss: 0.035588, time taken: 0.922637939453125s\n",
      "50/145, train_loss: 0.034306, time taken: 0.8883802890777588s\n",
      "60/145, train_loss: 0.034158, time taken: 0.8771111965179443s\n",
      "70/145, train_loss: 0.033373, time taken: 0.8971700668334961s\n",
      "80/145, train_loss: 0.030768, time taken: 0.8954524993896484s\n",
      "90/145, train_loss: 0.028677, time taken: 0.9063436985015869s\n",
      "100/145, train_loss: 0.028023, time taken: 0.8973226547241211s\n",
      "110/145, train_loss: 0.027412, time taken: 0.9155874252319336s\n",
      "120/145, train_loss: 0.027725, time taken: 0.8966920375823975s\n",
      "130/145, train_loss: 0.027167, time taken: 0.8936095237731934s\n",
      "140/145, train_loss: 0.026511, time taken: 0.88486647605896s\n"
     ]
    },
    {
     "name": "stderr",
     "output_type": "stream",
     "text": [
      "2024-06-07 11:09 INFO epoch 148 average loss: 0.0321\n"
     ]
    },
    {
     "name": "stdout",
     "output_type": "stream",
     "text": [
      "epoch 148 average loss: 0.0321\n",
      "----------\n",
      "epoch 149/360\n",
      "10/145, train_loss: 0.015823, time taken: 0.9114642143249512s\n",
      "20/145, train_loss: 0.014063, time taken: 0.8859314918518066s\n",
      "30/145, train_loss: 0.015787, time taken: 0.8940262794494629s\n",
      "40/145, train_loss: 0.018767, time taken: 0.8678231239318848s\n",
      "50/145, train_loss: 0.019037, time taken: 0.8871514797210693s\n",
      "60/145, train_loss: 0.016558, time taken: 0.8917884826660156s\n",
      "70/145, train_loss: 0.017815, time taken: 0.8947935104370117s\n",
      "80/145, train_loss: 0.018312, time taken: 0.8926286697387695s\n",
      "90/145, train_loss: 0.019424, time taken: 0.8986504077911377s\n",
      "100/145, train_loss: 0.019544, time taken: 0.8950989246368408s\n",
      "110/145, train_loss: 0.019935, time taken: 0.8616106510162354s\n",
      "120/145, train_loss: 0.020792, time taken: 0.9061746597290039s\n",
      "130/145, train_loss: 0.021229, time taken: 0.9135358333587646s\n",
      "140/145, train_loss: 0.020794, time taken: 0.894312858581543s\n"
     ]
    },
    {
     "name": "stderr",
     "output_type": "stream",
     "text": [
      "2024-06-07 11:11 INFO epoch 149 average loss: 0.0179\n"
     ]
    },
    {
     "name": "stdout",
     "output_type": "stream",
     "text": [
      "epoch 149 average loss: 0.0179\n",
      "----------\n",
      "epoch 150/360\n",
      "10/145, train_loss: 0.017255, time taken: 0.8825609683990479s\n",
      "20/145, train_loss: 0.017856, time taken: 0.8874492645263672s\n",
      "30/145, train_loss: 0.018735, time taken: 0.8873734474182129s\n",
      "40/145, train_loss: 0.019072, time taken: 0.893683910369873s\n",
      "50/145, train_loss: 0.016954, time taken: 0.895254373550415s\n",
      "60/145, train_loss: 0.016288, time taken: 0.9055757522583008s\n",
      "70/145, train_loss: 0.017735, time taken: 0.8792009353637695s\n",
      "80/145, train_loss: 0.018190, time taken: 0.8880043029785156s\n",
      "90/145, train_loss: 0.019119, time taken: 0.8647885322570801s\n",
      "100/145, train_loss: 0.020115, time taken: 0.9091281890869141s\n",
      "110/145, train_loss: 0.019875, time taken: 0.9023642539978027s\n",
      "120/145, train_loss: 0.020297, time taken: 0.8818364143371582s\n",
      "130/145, train_loss: 0.021091, time taken: 0.9075517654418945s\n",
      "140/145, train_loss: 0.021459, time taken: 0.8770325183868408s\n"
     ]
    },
    {
     "name": "stderr",
     "output_type": "stream",
     "text": [
      "2024-06-07 11:13 INFO epoch 150 average loss: 0.0186\n"
     ]
    },
    {
     "name": "stdout",
     "output_type": "stream",
     "text": [
      "epoch 150 average loss: 0.0186\n",
      "----------\n",
      "epoch 151/360\n",
      "10/145, train_loss: 0.013633, time taken: 0.8816561698913574s\n",
      "20/145, train_loss: 0.015403, time taken: 0.8991923332214355s\n",
      "30/145, train_loss: 0.018159, time taken: 0.8763434886932373s\n",
      "40/145, train_loss: 0.019872, time taken: 0.877906322479248s\n",
      "50/145, train_loss: 0.018292, time taken: 0.9214320182800293s\n",
      "60/145, train_loss: 0.018356, time taken: 0.9027228355407715s\n",
      "70/145, train_loss: 0.018416, time taken: 0.900076150894165s\n",
      "80/145, train_loss: 0.018683, time taken: 0.9130940437316895s\n",
      "90/145, train_loss: 0.018730, time taken: 0.9221744537353516s\n",
      "100/145, train_loss: 0.018811, time taken: 0.89066481590271s\n",
      "110/145, train_loss: 0.019258, time taken: 0.9143879413604736s\n",
      "120/145, train_loss: 0.019345, time taken: 0.8934309482574463s\n",
      "130/145, train_loss: 0.019640, time taken: 0.8919751644134521s\n",
      "140/145, train_loss: 0.019857, time taken: 0.8842551708221436s\n"
     ]
    },
    {
     "name": "stderr",
     "output_type": "stream",
     "text": [
      "2024-06-07 11:16 INFO epoch 151 average loss: 0.0184\n"
     ]
    },
    {
     "name": "stdout",
     "output_type": "stream",
     "text": [
      "epoch 151 average loss: 0.0184\n",
      "----------\n",
      "epoch 152/360\n",
      "10/145, train_loss: 0.023845, time taken: 0.9936928749084473s\n",
      "20/145, train_loss: 0.018229, time taken: 0.9022073745727539s\n",
      "30/145, train_loss: 0.017895, time taken: 0.8928041458129883s\n",
      "40/145, train_loss: 0.022755, time taken: 0.8950912952423096s\n",
      "50/145, train_loss: 0.023267, time taken: 0.8981447219848633s\n",
      "60/145, train_loss: 0.025989, time taken: 0.8989763259887695s\n",
      "70/145, train_loss: 0.026273, time taken: 0.9138951301574707s\n",
      "80/145, train_loss: 0.024982, time taken: 0.8961608409881592s\n",
      "90/145, train_loss: 0.024796, time taken: 0.8945660591125488s\n",
      "100/145, train_loss: 0.024780, time taken: 0.8895301818847656s\n",
      "110/145, train_loss: 0.024415, time taken: 0.8989901542663574s\n",
      "120/145, train_loss: 0.025858, time taken: 0.8931114673614502s\n",
      "130/145, train_loss: 0.026380, time taken: 0.8958146572113037s\n",
      "140/145, train_loss: 0.025437, time taken: 0.8993983268737793s\n"
     ]
    },
    {
     "name": "stderr",
     "output_type": "stream",
     "text": [
      "2024-06-07 11:18 INFO epoch 152 average loss: 0.0250\n"
     ]
    },
    {
     "name": "stdout",
     "output_type": "stream",
     "text": [
      "epoch 152 average loss: 0.0250\n",
      "----------\n",
      "epoch 153/360\n",
      "10/145, train_loss: 0.014826, time taken: 0.8928735256195068s\n",
      "20/145, train_loss: 0.021888, time taken: 0.887603759765625s\n",
      "30/145, train_loss: 0.021693, time taken: 0.8913404941558838s\n",
      "40/145, train_loss: 0.021220, time taken: 0.8848986625671387s\n",
      "50/145, train_loss: 0.020517, time taken: 0.8882660865783691s\n",
      "60/145, train_loss: 0.021078, time taken: 0.8811111450195312s\n",
      "70/145, train_loss: 0.020442, time taken: 0.9077439308166504s\n",
      "80/145, train_loss: 0.020890, time taken: 0.8990683555603027s\n",
      "90/145, train_loss: 0.021177, time taken: 0.8610856533050537s\n",
      "100/145, train_loss: 0.021318, time taken: 0.8938655853271484s\n",
      "110/145, train_loss: 0.021469, time taken: 0.8813190460205078s\n",
      "120/145, train_loss: 0.020607, time taken: 0.888404130935669s\n",
      "130/145, train_loss: 0.020719, time taken: 0.9001455307006836s\n",
      "140/145, train_loss: 0.021013, time taken: 0.897653341293335s\n"
     ]
    },
    {
     "name": "stderr",
     "output_type": "stream",
     "text": [
      "2024-06-07 11:20 INFO epoch 153 average loss: 0.0201\n"
     ]
    },
    {
     "name": "stdout",
     "output_type": "stream",
     "text": [
      "epoch 153 average loss: 0.0201\n",
      "----------\n",
      "epoch 154/360\n",
      "10/145, train_loss: 0.016074, time taken: 0.9132189750671387s\n",
      "20/145, train_loss: 0.015165, time taken: 0.878939151763916s\n",
      "30/145, train_loss: 0.011268, time taken: 0.9064266681671143s\n",
      "40/145, train_loss: 0.014893, time taken: 0.8690228462219238s\n",
      "50/145, train_loss: 0.014759, time taken: 0.9050712585449219s\n",
      "60/145, train_loss: 0.015967, time taken: 0.9312164783477783s\n",
      "70/145, train_loss: 0.014971, time taken: 0.9075362682342529s\n",
      "80/145, train_loss: 0.014778, time taken: 0.959538459777832s\n",
      "90/145, train_loss: 0.014690, time taken: 0.8886761665344238s\n",
      "100/145, train_loss: 0.014615, time taken: 0.9029216766357422s\n",
      "110/145, train_loss: 0.014987, time taken: 0.8898353576660156s\n",
      "120/145, train_loss: 0.015322, time taken: 0.8845922946929932s\n",
      "130/145, train_loss: 0.016200, time taken: 0.8945529460906982s\n",
      "140/145, train_loss: 0.016027, time taken: 0.9108879566192627s\n"
     ]
    },
    {
     "name": "stderr",
     "output_type": "stream",
     "text": [
      "2024-06-07 11:22 INFO epoch 154 average loss: 0.0154\n"
     ]
    },
    {
     "name": "stdout",
     "output_type": "stream",
     "text": [
      "epoch 154 average loss: 0.0154\n",
      "----------\n",
      "epoch 155/360\n",
      "10/145, train_loss: 0.012712, time taken: 0.8934922218322754s\n",
      "20/145, train_loss: 0.011730, time taken: 0.8955225944519043s\n",
      "30/145, train_loss: 0.016089, time taken: 0.8816161155700684s\n",
      "40/145, train_loss: 0.015088, time taken: 0.8893454074859619s\n",
      "50/145, train_loss: 0.013539, time taken: 0.9064521789550781s\n",
      "60/145, train_loss: 0.014640, time taken: 0.8680675029754639s\n",
      "70/145, train_loss: 0.014367, time taken: 0.8990097045898438s\n",
      "80/145, train_loss: 0.013657, time taken: 0.8959472179412842s\n",
      "90/145, train_loss: 0.013362, time taken: 0.88083815574646s\n",
      "100/145, train_loss: 0.014685, time taken: 0.8873183727264404s\n",
      "110/145, train_loss: 0.016149, time taken: 0.879492998123169s\n",
      "120/145, train_loss: 0.016127, time taken: 0.9002597332000732s\n",
      "130/145, train_loss: 0.015925, time taken: 0.8804688453674316s\n",
      "140/145, train_loss: 0.015849, time taken: 0.8836696147918701s\n"
     ]
    },
    {
     "name": "stderr",
     "output_type": "stream",
     "text": [
      "2024-06-07 11:24 INFO epoch 155 average loss: 0.0145\n"
     ]
    },
    {
     "name": "stdout",
     "output_type": "stream",
     "text": [
      "epoch 155 average loss: 0.0145\n",
      "----------\n",
      "epoch 156/360\n",
      "10/145, train_loss: 0.027197, time taken: 0.8912591934204102s\n",
      "20/145, train_loss: 0.034645, time taken: 0.8879544734954834s\n",
      "30/145, train_loss: 0.026065, time taken: 0.8941280841827393s\n",
      "40/145, train_loss: 0.025989, time taken: 0.8773937225341797s\n",
      "50/145, train_loss: 0.026067, time taken: 0.8917570114135742s\n",
      "60/145, train_loss: 0.023337, time taken: 0.8778178691864014s\n",
      "70/145, train_loss: 0.023269, time taken: 0.8831536769866943s\n",
      "80/145, train_loss: 0.024112, time taken: 0.8877358436584473s\n",
      "90/145, train_loss: 0.024502, time taken: 0.9165253639221191s\n",
      "100/145, train_loss: 0.024418, time taken: 0.8916802406311035s\n",
      "110/145, train_loss: 0.023415, time taken: 0.9104106426239014s\n",
      "120/145, train_loss: 0.023561, time taken: 0.9133107662200928s\n",
      "130/145, train_loss: 0.023325, time taken: 0.9002714157104492s\n",
      "140/145, train_loss: 0.022734, time taken: 0.895474910736084s\n"
     ]
    },
    {
     "name": "stderr",
     "output_type": "stream",
     "text": [
      "2024-06-07 11:27 INFO epoch 156 average loss: 0.0254\n"
     ]
    },
    {
     "name": "stdout",
     "output_type": "stream",
     "text": [
      "epoch 156 average loss: 0.0254\n",
      "----------\n",
      "epoch 157/360\n",
      "10/145, train_loss: 0.015249, time taken: 0.9305558204650879s\n",
      "20/145, train_loss: 0.014114, time taken: 0.8883943557739258s\n",
      "30/145, train_loss: 0.018539, time taken: 0.8819968700408936s\n",
      "40/145, train_loss: 0.017132, time taken: 0.8938295841217041s\n",
      "50/145, train_loss: 0.016299, time taken: 0.8895175457000732s\n",
      "60/145, train_loss: 0.018218, time taken: 0.9073002338409424s\n",
      "70/145, train_loss: 0.017401, time taken: 0.9010975360870361s\n",
      "80/145, train_loss: 0.019078, time taken: 0.8775582313537598s\n",
      "90/145, train_loss: 0.019473, time taken: 0.8682167530059814s\n",
      "100/145, train_loss: 0.018798, time taken: 0.8919038772583008s\n",
      "110/145, train_loss: 0.017490, time taken: 0.8927230834960938s\n",
      "120/145, train_loss: 0.016900, time taken: 0.9645810127258301s\n",
      "130/145, train_loss: 0.016310, time taken: 0.893439769744873s\n",
      "140/145, train_loss: 0.016002, time taken: 0.9070782661437988s\n"
     ]
    },
    {
     "name": "stderr",
     "output_type": "stream",
     "text": [
      "2024-06-07 11:29 INFO epoch 157 average loss: 0.0172\n"
     ]
    },
    {
     "name": "stdout",
     "output_type": "stream",
     "text": [
      "epoch 157 average loss: 0.0172\n",
      "----------\n",
      "epoch 158/360\n",
      "10/145, train_loss: 0.021485, time taken: 0.8994648456573486s\n",
      "20/145, train_loss: 0.025109, time taken: 0.8955330848693848s\n",
      "30/145, train_loss: 0.023699, time taken: 0.877596378326416s\n",
      "40/145, train_loss: 0.022326, time taken: 0.916853666305542s\n",
      "50/145, train_loss: 0.020942, time taken: 0.8770480155944824s\n",
      "60/145, train_loss: 0.020930, time taken: 0.9023740291595459s\n",
      "70/145, train_loss: 0.020787, time taken: 0.8791229724884033s\n",
      "80/145, train_loss: 0.019738, time taken: 0.9012138843536377s\n",
      "90/145, train_loss: 0.019592, time taken: 0.8925137519836426s\n",
      "100/145, train_loss: 0.018751, time taken: 0.9094576835632324s\n",
      "110/145, train_loss: 0.019321, time taken: 0.9143228530883789s\n",
      "120/145, train_loss: 0.018548, time taken: 0.873401403427124s\n",
      "130/145, train_loss: 0.018388, time taken: 0.9014766216278076s\n",
      "140/145, train_loss: 0.019989, time taken: 0.901447057723999s\n"
     ]
    },
    {
     "name": "stderr",
     "output_type": "stream",
     "text": [
      "2024-06-07 11:31 INFO epoch 158 average loss: 0.0210\n"
     ]
    },
    {
     "name": "stdout",
     "output_type": "stream",
     "text": [
      "epoch 158 average loss: 0.0210\n",
      "----------\n",
      "epoch 159/360\n",
      "10/145, train_loss: 0.030267, time taken: 0.876643180847168s\n",
      "20/145, train_loss: 0.030231, time taken: 0.8814425468444824s\n",
      "30/145, train_loss: 0.027409, time taken: 0.8991923332214355s\n",
      "40/145, train_loss: 0.026874, time taken: 0.9022188186645508s\n",
      "50/145, train_loss: 0.025701, time taken: 0.8847150802612305s\n",
      "60/145, train_loss: 0.025158, time taken: 0.8912224769592285s\n",
      "70/145, train_loss: 0.025289, time taken: 0.8814246654510498s\n",
      "80/145, train_loss: 0.023740, time taken: 0.8966119289398193s\n",
      "90/145, train_loss: 0.022816, time taken: 0.8871607780456543s\n",
      "100/145, train_loss: 0.021912, time taken: 0.8976078033447266s\n",
      "110/145, train_loss: 0.021055, time taken: 0.8811700344085693s\n",
      "120/145, train_loss: 0.021527, time taken: 0.8875441551208496s\n",
      "130/145, train_loss: 0.022848, time taken: 0.9029591083526611s\n",
      "140/145, train_loss: 0.023804, time taken: 0.8831567764282227s\n"
     ]
    },
    {
     "name": "stderr",
     "output_type": "stream",
     "text": [
      "2024-06-07 11:33 INFO epoch 159 average loss: 0.0247\n"
     ]
    },
    {
     "name": "stdout",
     "output_type": "stream",
     "text": [
      "epoch 159 average loss: 0.0247\n",
      "----------\n",
      "epoch 160/360\n",
      "10/145, train_loss: 0.045461, time taken: 0.8900344371795654s\n",
      "20/145, train_loss: 0.036070, time taken: 0.872417688369751s\n",
      "30/145, train_loss: 0.037762, time taken: 0.9054479598999023s\n",
      "40/145, train_loss: 0.039180, time taken: 0.9106869697570801s\n",
      "50/145, train_loss: 0.037422, time taken: 0.8958408832550049s\n",
      "60/145, train_loss: 0.034997, time taken: 0.8938772678375244s\n",
      "70/145, train_loss: 0.032212, time taken: 0.9102790355682373s\n",
      "80/145, train_loss: 0.030126, time taken: 0.9761648178100586s\n",
      "90/145, train_loss: 0.029048, time taken: 0.9069411754608154s\n",
      "100/145, train_loss: 0.027754, time taken: 0.8915412425994873s\n",
      "110/145, train_loss: 0.027779, time taken: 0.8868474960327148s\n",
      "120/145, train_loss: 0.027412, time taken: 0.8884162902832031s\n",
      "130/145, train_loss: 0.027490, time taken: 0.9007389545440674s\n",
      "140/145, train_loss: 0.028376, time taken: 0.8981378078460693s\n"
     ]
    },
    {
     "name": "stderr",
     "output_type": "stream",
     "text": [
      "2024-06-07 11:35 INFO epoch 160 average loss: 0.0334\n"
     ]
    },
    {
     "name": "stdout",
     "output_type": "stream",
     "text": [
      "epoch 160 average loss: 0.0334\n",
      "----------\n",
      "epoch 161/360\n",
      "10/145, train_loss: 0.023670, time taken: 0.9008934497833252s\n",
      "20/145, train_loss: 0.033100, time taken: 0.9400980472564697s\n",
      "30/145, train_loss: 0.033387, time taken: 0.8879008293151855s\n",
      "40/145, train_loss: 0.029153, time taken: 0.8835079669952393s\n",
      "50/145, train_loss: 0.027663, time taken: 0.8820500373840332s\n",
      "60/145, train_loss: 0.026190, time taken: 0.9024777412414551s\n",
      "70/145, train_loss: 0.024211, time taken: 0.9955844879150391s\n",
      "80/145, train_loss: 0.023746, time taken: 0.8757331371307373s\n",
      "90/145, train_loss: 0.022856, time taken: 0.8933413028717041s\n",
      "100/145, train_loss: 0.023207, time taken: 0.9092502593994141s\n",
      "110/145, train_loss: 0.023784, time taken: 0.8848915100097656s\n",
      "120/145, train_loss: 0.024009, time taken: 0.8824918270111084s\n",
      "130/145, train_loss: 0.023984, time taken: 0.9012730121612549s\n",
      "140/145, train_loss: 0.023507, time taken: 0.8905036449432373s\n"
     ]
    },
    {
     "name": "stderr",
     "output_type": "stream",
     "text": [
      "2024-06-07 11:38 INFO epoch 161 average loss: 0.0255\n"
     ]
    },
    {
     "name": "stdout",
     "output_type": "stream",
     "text": [
      "epoch 161 average loss: 0.0255\n",
      "----------\n",
      "epoch 162/360\n",
      "10/145, train_loss: 0.010060, time taken: 0.8863511085510254s\n",
      "20/145, train_loss: 0.021326, time taken: 0.8985066413879395s\n",
      "30/145, train_loss: 0.024465, time taken: 0.8899075984954834s\n",
      "40/145, train_loss: 0.021852, time taken: 0.9235856533050537s\n",
      "50/145, train_loss: 0.020755, time taken: 0.882319450378418s\n",
      "60/145, train_loss: 0.020393, time taken: 0.9143707752227783s\n",
      "70/145, train_loss: 0.018997, time taken: 0.8817205429077148s\n",
      "80/145, train_loss: 0.017332, time taken: 0.889134407043457s\n",
      "90/145, train_loss: 0.017106, time taken: 0.883063554763794s\n",
      "100/145, train_loss: 0.017189, time taken: 0.8954436779022217s\n",
      "110/145, train_loss: 0.016881, time taken: 0.8939008712768555s\n",
      "120/145, train_loss: 0.016889, time taken: 0.9029808044433594s\n",
      "130/145, train_loss: 0.017176, time taken: 0.8681378364562988s\n",
      "140/145, train_loss: 0.017790, time taken: 0.883155345916748s\n"
     ]
    },
    {
     "name": "stderr",
     "output_type": "stream",
     "text": [
      "2024-06-07 11:40 INFO epoch 162 average loss: 0.0179\n"
     ]
    },
    {
     "name": "stdout",
     "output_type": "stream",
     "text": [
      "epoch 162 average loss: 0.0179\n",
      "----------\n",
      "epoch 163/360\n",
      "10/145, train_loss: 0.017887, time taken: 0.9003374576568604s\n",
      "20/145, train_loss: 0.014752, time taken: 0.8957765102386475s\n",
      "30/145, train_loss: 0.015180, time taken: 0.9126541614532471s\n",
      "40/145, train_loss: 0.015115, time taken: 0.8724532127380371s\n",
      "50/145, train_loss: 0.015316, time taken: 0.9029891490936279s\n",
      "60/145, train_loss: 0.018989, time taken: 0.8926761150360107s\n",
      "70/145, train_loss: 0.019009, time taken: 0.8854732513427734s\n",
      "80/145, train_loss: 0.019142, time taken: 0.8806066513061523s\n",
      "90/145, train_loss: 0.018706, time taken: 0.8895010948181152s\n",
      "100/145, train_loss: 0.017456, time taken: 0.908470630645752s\n",
      "110/145, train_loss: 0.017601, time taken: 0.8921866416931152s\n",
      "120/145, train_loss: 0.017227, time taken: 0.871436357498169s\n",
      "130/145, train_loss: 0.018669, time taken: 0.9080507755279541s\n",
      "140/145, train_loss: 0.018700, time taken: 0.9107828140258789s\n"
     ]
    },
    {
     "name": "stderr",
     "output_type": "stream",
     "text": [
      "2024-06-07 11:42 INFO epoch 163 average loss: 0.0176\n"
     ]
    },
    {
     "name": "stdout",
     "output_type": "stream",
     "text": [
      "epoch 163 average loss: 0.0176\n",
      "----------\n",
      "epoch 164/360\n",
      "10/145, train_loss: 0.012032, time taken: 0.88382887840271s\n",
      "20/145, train_loss: 0.016713, time taken: 0.8929319381713867s\n",
      "30/145, train_loss: 0.018936, time taken: 0.8758163452148438s\n",
      "40/145, train_loss: 0.019082, time taken: 0.9051513671875s\n",
      "50/145, train_loss: 0.017427, time taken: 0.9079878330230713s\n",
      "60/145, train_loss: 0.017659, time taken: 0.889815092086792s\n",
      "70/145, train_loss: 0.016155, time taken: 0.8848845958709717s\n",
      "80/145, train_loss: 0.017126, time taken: 0.8874642848968506s\n",
      "90/145, train_loss: 0.017451, time taken: 0.8948233127593994s\n",
      "100/145, train_loss: 0.017657, time taken: 0.8750948905944824s\n",
      "110/145, train_loss: 0.017412, time taken: 0.8967640399932861s\n",
      "120/145, train_loss: 0.017496, time taken: 0.8919532299041748s\n",
      "130/145, train_loss: 0.017039, time taken: 0.8912580013275146s\n",
      "140/145, train_loss: 0.017154, time taken: 0.8981385231018066s\n"
     ]
    },
    {
     "name": "stderr",
     "output_type": "stream",
     "text": [
      "2024-06-07 11:44 INFO epoch 164 average loss: 0.0168\n"
     ]
    },
    {
     "name": "stdout",
     "output_type": "stream",
     "text": [
      "epoch 164 average loss: 0.0168\n",
      "----------\n",
      "epoch 165/360\n",
      "10/145, train_loss: 0.031547, time taken: 0.8855295181274414s\n",
      "20/145, train_loss: 0.026080, time taken: 0.8915553092956543s\n",
      "30/145, train_loss: 0.021314, time taken: 0.9130306243896484s\n",
      "40/145, train_loss: 0.021545, time taken: 0.8951048851013184s\n",
      "50/145, train_loss: 0.021965, time taken: 0.8949215412139893s\n",
      "60/145, train_loss: 0.021645, time taken: 0.891291618347168s\n",
      "70/145, train_loss: 0.019569, time taken: 0.8800325393676758s\n",
      "80/145, train_loss: 0.019544, time taken: 0.8879783153533936s\n",
      "90/145, train_loss: 0.020132, time taken: 0.8866345882415771s\n",
      "100/145, train_loss: 0.021242, time taken: 0.9025835990905762s\n",
      "110/145, train_loss: 0.021823, time taken: 0.872830867767334s\n",
      "120/145, train_loss: 0.023068, time taken: 0.9125745296478271s\n",
      "130/145, train_loss: 0.022423, time taken: 0.909905195236206s\n",
      "140/145, train_loss: 0.022280, time taken: 0.8964486122131348s\n"
     ]
    },
    {
     "name": "stderr",
     "output_type": "stream",
     "text": [
      "2024-06-07 11:46 INFO epoch 165 average loss: 0.0234\n"
     ]
    },
    {
     "name": "stdout",
     "output_type": "stream",
     "text": [
      "epoch 165 average loss: 0.0234\n",
      "----------\n",
      "epoch 166/360\n",
      "10/145, train_loss: 0.022307, time taken: 0.9596462249755859s\n",
      "20/145, train_loss: 0.019832, time taken: 0.9044911861419678s\n",
      "30/145, train_loss: 0.020795, time taken: 0.8826344013214111s\n",
      "40/145, train_loss: 0.021194, time taken: 0.9067277908325195s\n",
      "50/145, train_loss: 0.019525, time taken: 0.894179105758667s\n",
      "60/145, train_loss: 0.019664, time taken: 0.9033198356628418s\n",
      "70/145, train_loss: 0.020428, time taken: 0.8808932304382324s\n",
      "80/145, train_loss: 0.020548, time taken: 0.9053826332092285s\n",
      "90/145, train_loss: 0.019390, time taken: 0.8979372978210449s\n",
      "100/145, train_loss: 0.019690, time taken: 0.9076387882232666s\n",
      "110/145, train_loss: 0.018981, time taken: 0.8886232376098633s\n",
      "120/145, train_loss: 0.018926, time taken: 0.9085495471954346s\n",
      "130/145, train_loss: 0.019461, time taken: 0.8769845962524414s\n",
      "140/145, train_loss: 0.019183, time taken: 0.901806116104126s\n"
     ]
    },
    {
     "name": "stderr",
     "output_type": "stream",
     "text": [
      "2024-06-07 11:49 INFO epoch 166 average loss: 0.0202\n"
     ]
    },
    {
     "name": "stdout",
     "output_type": "stream",
     "text": [
      "epoch 166 average loss: 0.0202\n",
      "----------\n",
      "epoch 167/360\n",
      "10/145, train_loss: 0.019476, time taken: 0.8830211162567139s\n",
      "20/145, train_loss: 0.017823, time taken: 0.9094483852386475s\n",
      "30/145, train_loss: 0.018543, time taken: 0.880441427230835s\n",
      "40/145, train_loss: 0.017497, time taken: 0.9033067226409912s\n",
      "50/145, train_loss: 0.020297, time taken: 0.8926520347595215s\n",
      "60/145, train_loss: 0.020372, time taken: 0.8913018703460693s\n",
      "70/145, train_loss: 0.019896, time taken: 0.8786964416503906s\n",
      "80/145, train_loss: 0.018209, time taken: 0.8837528228759766s\n",
      "90/145, train_loss: 0.016493, time taken: 0.8943455219268799s\n",
      "100/145, train_loss: 0.016187, time taken: 0.9047892093658447s\n",
      "110/145, train_loss: 0.015674, time taken: 0.8842823505401611s\n",
      "120/145, train_loss: 0.015291, time taken: 0.8804886341094971s\n",
      "130/145, train_loss: 0.015658, time taken: 0.9018983840942383s\n",
      "140/145, train_loss: 0.016094, time taken: 0.9112441539764404s\n"
     ]
    },
    {
     "name": "stderr",
     "output_type": "stream",
     "text": [
      "2024-06-07 11:51 INFO epoch 167 average loss: 0.0178\n"
     ]
    },
    {
     "name": "stdout",
     "output_type": "stream",
     "text": [
      "epoch 167 average loss: 0.0178\n",
      "----------\n",
      "epoch 168/360\n",
      "10/145, train_loss: 0.017272, time taken: 0.8706505298614502s\n",
      "20/145, train_loss: 0.018762, time taken: 0.8915469646453857s\n",
      "30/145, train_loss: 0.018820, time taken: 0.8814148902893066s\n",
      "40/145, train_loss: 0.018361, time taken: 0.8901524543762207s\n",
      "50/145, train_loss: 0.021845, time taken: 0.8886151313781738s\n",
      "60/145, train_loss: 0.020413, time taken: 0.8831048011779785s\n",
      "70/145, train_loss: 0.021706, time taken: 0.8796050548553467s\n",
      "80/145, train_loss: 0.021222, time taken: 0.9570374488830566s\n",
      "90/145, train_loss: 0.019549, time taken: 0.8742671012878418s\n",
      "100/145, train_loss: 0.019009, time taken: 0.9104750156402588s\n",
      "110/145, train_loss: 0.017999, time taken: 0.9000959396362305s\n",
      "120/145, train_loss: 0.017883, time taken: 0.8913862705230713s\n",
      "130/145, train_loss: 0.017955, time taken: 0.8787307739257812s\n",
      "140/145, train_loss: 0.018018, time taken: 0.8849880695343018s\n"
     ]
    },
    {
     "name": "stderr",
     "output_type": "stream",
     "text": [
      "2024-06-07 11:53 INFO epoch 168 average loss: 0.0190\n"
     ]
    },
    {
     "name": "stdout",
     "output_type": "stream",
     "text": [
      "epoch 168 average loss: 0.0190\n",
      "----------\n",
      "epoch 169/360\n",
      "10/145, train_loss: 0.017430, time taken: 0.8743040561676025s\n",
      "20/145, train_loss: 0.020774, time taken: 0.8844223022460938s\n",
      "30/145, train_loss: 0.017711, time taken: 0.8810520172119141s\n",
      "40/145, train_loss: 0.016590, time taken: 0.887486457824707s\n",
      "50/145, train_loss: 0.018314, time taken: 0.8903472423553467s\n",
      "60/145, train_loss: 0.018667, time taken: 0.9018609523773193s\n",
      "70/145, train_loss: 0.018416, time taken: 0.9044170379638672s\n",
      "80/145, train_loss: 0.019684, time taken: 0.8917942047119141s\n",
      "90/145, train_loss: 0.019541, time taken: 0.889840841293335s\n",
      "100/145, train_loss: 0.018544, time taken: 0.9188666343688965s\n",
      "110/145, train_loss: 0.018906, time taken: 0.877155065536499s\n",
      "120/145, train_loss: 0.020466, time taken: 0.9250431060791016s\n",
      "130/145, train_loss: 0.021289, time taken: 0.8988037109375s\n",
      "140/145, train_loss: 0.021148, time taken: 0.9051241874694824s\n"
     ]
    },
    {
     "name": "stderr",
     "output_type": "stream",
     "text": [
      "2024-06-07 11:55 INFO epoch 169 average loss: 0.0189\n"
     ]
    },
    {
     "name": "stdout",
     "output_type": "stream",
     "text": [
      "epoch 169 average loss: 0.0189\n",
      "----------\n",
      "epoch 170/360\n",
      "10/145, train_loss: 0.027555, time taken: 0.8996462821960449s\n",
      "20/145, train_loss: 0.020098, time taken: 0.8896927833557129s\n",
      "30/145, train_loss: 0.020038, time taken: 0.8990912437438965s\n",
      "40/145, train_loss: 0.017722, time taken: 0.891413688659668s\n",
      "50/145, train_loss: 0.016817, time taken: 0.9019243717193604s\n",
      "60/145, train_loss: 0.015820, time taken: 0.8846180438995361s\n",
      "70/145, train_loss: 0.017178, time taken: 0.8825802803039551s\n",
      "80/145, train_loss: 0.017861, time taken: 0.9204175472259521s\n",
      "90/145, train_loss: 0.017532, time taken: 0.8891892433166504s\n",
      "100/145, train_loss: 0.017909, time taken: 0.8894345760345459s\n",
      "110/145, train_loss: 0.017137, time taken: 0.8963930606842041s\n",
      "120/145, train_loss: 0.016729, time taken: 0.903900146484375s\n",
      "130/145, train_loss: 0.016557, time taken: 0.8902058601379395s\n",
      "140/145, train_loss: 0.017260, time taken: 0.9072422981262207s\n"
     ]
    },
    {
     "name": "stderr",
     "output_type": "stream",
     "text": [
      "2024-06-07 11:57 INFO epoch 170 average loss: 0.0185\n"
     ]
    },
    {
     "name": "stdout",
     "output_type": "stream",
     "text": [
      "epoch 170 average loss: 0.0185\n",
      "----------\n",
      "epoch 171/360\n",
      "10/145, train_loss: 0.006922, time taken: 0.8997046947479248s\n",
      "20/145, train_loss: 0.011319, time taken: 0.8936583995819092s\n",
      "30/145, train_loss: 0.014579, time taken: 0.9051697254180908s\n",
      "40/145, train_loss: 0.013699, time taken: 0.9042296409606934s\n",
      "50/145, train_loss: 0.013631, time taken: 0.8905689716339111s\n",
      "60/145, train_loss: 0.013842, time taken: 0.8827743530273438s\n",
      "70/145, train_loss: 0.013934, time taken: 0.8943557739257812s\n",
      "80/145, train_loss: 0.013885, time taken: 0.9010434150695801s\n",
      "90/145, train_loss: 0.013844, time taken: 0.8884804248809814s\n",
      "100/145, train_loss: 0.014929, time taken: 0.8855817317962646s\n",
      "110/145, train_loss: 0.015029, time taken: 0.9186215400695801s\n",
      "120/145, train_loss: 0.014432, time taken: 0.9801199436187744s\n",
      "130/145, train_loss: 0.015054, time taken: 0.8861243724822998s\n",
      "140/145, train_loss: 0.014844, time taken: 0.9084975719451904s\n"
     ]
    },
    {
     "name": "stderr",
     "output_type": "stream",
     "text": [
      "2024-06-07 12:00 INFO epoch 171 average loss: 0.0133\n"
     ]
    },
    {
     "name": "stdout",
     "output_type": "stream",
     "text": [
      "epoch 171 average loss: 0.0133\n",
      "----------\n",
      "epoch 172/360\n",
      "10/145, train_loss: 0.024921, time taken: 0.8784244060516357s\n",
      "20/145, train_loss: 0.018285, time taken: 0.8945162296295166s\n",
      "30/145, train_loss: 0.017928, time taken: 0.893404483795166s\n",
      "40/145, train_loss: 0.019352, time taken: 0.8953371047973633s\n",
      "50/145, train_loss: 0.019126, time taken: 0.8749117851257324s\n",
      "60/145, train_loss: 0.019403, time taken: 0.8883121013641357s\n",
      "70/145, train_loss: 0.018884, time taken: 0.9162702560424805s\n",
      "80/145, train_loss: 0.018911, time taken: 0.875678300857544s\n",
      "90/145, train_loss: 0.017860, time taken: 0.91465163230896s\n",
      "100/145, train_loss: 0.018132, time taken: 0.8871684074401855s\n",
      "110/145, train_loss: 0.017376, time taken: 0.8861382007598877s\n",
      "120/145, train_loss: 0.016966, time taken: 0.874718189239502s\n",
      "130/145, train_loss: 0.017414, time taken: 0.9016118049621582s\n",
      "140/145, train_loss: 0.017203, time taken: 0.888127326965332s\n"
     ]
    },
    {
     "name": "stderr",
     "output_type": "stream",
     "text": [
      "2024-06-07 12:02 INFO epoch 172 average loss: 0.0182\n"
     ]
    },
    {
     "name": "stdout",
     "output_type": "stream",
     "text": [
      "epoch 172 average loss: 0.0182\n",
      "----------\n",
      "epoch 173/360\n",
      "10/145, train_loss: 0.010530, time taken: 0.897331953048706s\n",
      "20/145, train_loss: 0.012412, time taken: 0.8956236839294434s\n",
      "30/145, train_loss: 0.014992, time taken: 0.903090238571167s\n",
      "40/145, train_loss: 0.014783, time taken: 0.8991022109985352s\n",
      "50/145, train_loss: 0.014240, time taken: 0.8891603946685791s\n",
      "60/145, train_loss: 0.013967, time taken: 0.8935675621032715s\n",
      "70/145, train_loss: 0.015109, time taken: 0.8757679462432861s\n",
      "80/145, train_loss: 0.015572, time taken: 0.8912830352783203s\n",
      "90/145, train_loss: 0.014831, time taken: 0.9036555290222168s\n",
      "100/145, train_loss: 0.014019, time taken: 0.9135279655456543s\n",
      "110/145, train_loss: 0.014391, time taken: 0.8747634887695312s\n",
      "120/145, train_loss: 0.014215, time taken: 0.8964354991912842s\n",
      "130/145, train_loss: 0.014422, time taken: 0.8974032402038574s\n",
      "140/145, train_loss: 0.014865, time taken: 0.9223008155822754s\n"
     ]
    },
    {
     "name": "stderr",
     "output_type": "stream",
     "text": [
      "2024-06-07 12:04 INFO epoch 173 average loss: 0.0139\n"
     ]
    },
    {
     "name": "stdout",
     "output_type": "stream",
     "text": [
      "epoch 173 average loss: 0.0139\n",
      "----------\n",
      "epoch 174/360\n",
      "10/145, train_loss: 0.015218, time taken: 0.8766539096832275s\n",
      "20/145, train_loss: 0.013177, time taken: 0.903723955154419s\n",
      "30/145, train_loss: 0.013667, time taken: 0.901066780090332s\n",
      "40/145, train_loss: 0.016632, time taken: 0.9082820415496826s\n",
      "50/145, train_loss: 0.014912, time taken: 0.8887262344360352s\n",
      "60/145, train_loss: 0.015687, time taken: 0.8830146789550781s\n",
      "70/145, train_loss: 0.016968, time taken: 0.8892712593078613s\n",
      "80/145, train_loss: 0.017263, time taken: 1.001786470413208s\n",
      "90/145, train_loss: 0.018418, time taken: 0.8912711143493652s\n",
      "100/145, train_loss: 0.018982, time taken: 0.8838703632354736s\n",
      "110/145, train_loss: 0.019040, time taken: 0.8896539211273193s\n",
      "120/145, train_loss: 0.018700, time taken: 0.8735377788543701s\n",
      "130/145, train_loss: 0.019096, time taken: 0.87380051612854s\n",
      "140/145, train_loss: 0.019374, time taken: 0.8861563205718994s\n"
     ]
    },
    {
     "name": "stderr",
     "output_type": "stream",
     "text": [
      "2024-06-07 12:06 INFO epoch 174 average loss: 0.0170\n"
     ]
    },
    {
     "name": "stdout",
     "output_type": "stream",
     "text": [
      "epoch 174 average loss: 0.0170\n",
      "----------\n",
      "epoch 175/360\n",
      "10/145, train_loss: 0.046540, time taken: 0.8943426609039307s\n",
      "20/145, train_loss: 0.033504, time taken: 0.8792920112609863s\n",
      "30/145, train_loss: 0.028232, time taken: 0.8835902214050293s\n",
      "40/145, train_loss: 0.022819, time taken: 0.8777046203613281s\n",
      "50/145, train_loss: 0.019435, time taken: 0.90362548828125s\n",
      "60/145, train_loss: 0.018937, time taken: 0.8949124813079834s\n",
      "70/145, train_loss: 0.019037, time taken: 0.973862886428833s\n",
      "80/145, train_loss: 0.019035, time taken: 0.900256872177124s\n",
      "90/145, train_loss: 0.017889, time taken: 0.8741152286529541s\n",
      "100/145, train_loss: 0.017967, time taken: 0.9417505264282227s\n",
      "110/145, train_loss: 0.018438, time taken: 0.9207079410552979s\n",
      "120/145, train_loss: 0.017540, time taken: 0.8970363140106201s\n",
      "130/145, train_loss: 0.017344, time taken: 0.8899135589599609s\n",
      "140/145, train_loss: 0.017174, time taken: 0.9044189453125s\n"
     ]
    },
    {
     "name": "stderr",
     "output_type": "stream",
     "text": [
      "2024-06-07 12:08 INFO epoch 175 average loss: 0.0231\n"
     ]
    },
    {
     "name": "stdout",
     "output_type": "stream",
     "text": [
      "epoch 175 average loss: 0.0231\n",
      "----------\n",
      "epoch 176/360\n",
      "10/145, train_loss: 0.008535, time taken: 0.8845551013946533s\n",
      "20/145, train_loss: 0.012400, time taken: 0.8950643539428711s\n",
      "30/145, train_loss: 0.015394, time taken: 0.8801414966583252s\n",
      "40/145, train_loss: 0.015466, time taken: 0.8912382125854492s\n",
      "50/145, train_loss: 0.015584, time taken: 0.8866117000579834s\n",
      "60/145, train_loss: 0.015177, time taken: 0.8931245803833008s\n",
      "70/145, train_loss: 0.013923, time taken: 0.9077520370483398s\n",
      "80/145, train_loss: 0.014927, time taken: 0.9110703468322754s\n",
      "90/145, train_loss: 0.015883, time taken: 0.8818395137786865s\n",
      "100/145, train_loss: 0.016965, time taken: 0.901547908782959s\n",
      "110/145, train_loss: 0.017032, time taken: 0.8973839282989502s\n",
      "120/145, train_loss: 0.017322, time taken: 0.9071872234344482s\n",
      "130/145, train_loss: 0.017431, time taken: 0.8878173828125s\n",
      "140/145, train_loss: 0.017351, time taken: 0.8936793804168701s\n"
     ]
    },
    {
     "name": "stderr",
     "output_type": "stream",
     "text": [
      "2024-06-07 12:11 INFO epoch 176 average loss: 0.0151\n"
     ]
    },
    {
     "name": "stdout",
     "output_type": "stream",
     "text": [
      "epoch 176 average loss: 0.0151\n",
      "----------\n",
      "epoch 177/360\n",
      "10/145, train_loss: 0.013491, time taken: 0.8911781311035156s\n",
      "20/145, train_loss: 0.013848, time taken: 0.8972294330596924s\n",
      "30/145, train_loss: 0.020454, time taken: 0.9000301361083984s\n",
      "40/145, train_loss: 0.017768, time taken: 0.8847377300262451s\n",
      "50/145, train_loss: 0.017821, time taken: 0.8847877979278564s\n",
      "60/145, train_loss: 0.016054, time taken: 0.9123952388763428s\n",
      "70/145, train_loss: 0.016029, time taken: 0.8855710029602051s\n",
      "80/145, train_loss: 0.015624, time taken: 0.9234311580657959s\n",
      "90/145, train_loss: 0.014886, time taken: 0.9367630481719971s\n",
      "100/145, train_loss: 0.015289, time taken: 0.8927366733551025s\n",
      "110/145, train_loss: 0.015258, time taken: 0.9165387153625488s\n",
      "120/145, train_loss: 0.015105, time taken: 0.8922183513641357s\n",
      "130/145, train_loss: 0.015373, time taken: 0.9057450294494629s\n",
      "140/145, train_loss: 0.015104, time taken: 0.8784048557281494s\n"
     ]
    },
    {
     "name": "stderr",
     "output_type": "stream",
     "text": [
      "2024-06-07 12:13 INFO epoch 177 average loss: 0.0159\n"
     ]
    },
    {
     "name": "stdout",
     "output_type": "stream",
     "text": [
      "epoch 177 average loss: 0.0159\n",
      "----------\n",
      "epoch 178/360\n",
      "10/145, train_loss: 0.019129, time taken: 0.8737504482269287s\n",
      "20/145, train_loss: 0.017786, time taken: 0.8828480243682861s\n",
      "30/145, train_loss: 0.015308, time taken: 0.8844835758209229s\n",
      "40/145, train_loss: 0.015784, time taken: 0.8928086757659912s\n",
      "50/145, train_loss: 0.016974, time taken: 0.9036636352539062s\n",
      "60/145, train_loss: 0.016650, time taken: 0.8965380191802979s\n",
      "70/145, train_loss: 0.016944, time taken: 0.9033935070037842s\n",
      "80/145, train_loss: 0.016112, time taken: 0.8941943645477295s\n",
      "90/145, train_loss: 0.016553, time taken: 0.8771877288818359s\n",
      "100/145, train_loss: 0.015784, time taken: 0.8874166011810303s\n",
      "110/145, train_loss: 0.016610, time taken: 0.9018723964691162s\n",
      "120/145, train_loss: 0.016694, time taken: 0.8840153217315674s\n",
      "130/145, train_loss: 0.016901, time taken: 0.8902885913848877s\n",
      "140/145, train_loss: 0.016650, time taken: 0.8739421367645264s\n"
     ]
    },
    {
     "name": "stderr",
     "output_type": "stream",
     "text": [
      "2024-06-07 12:15 INFO epoch 178 average loss: 0.0162\n"
     ]
    },
    {
     "name": "stdout",
     "output_type": "stream",
     "text": [
      "epoch 178 average loss: 0.0162\n",
      "----------\n",
      "epoch 179/360\n",
      "10/145, train_loss: 0.024713, time taken: 0.8884251117706299s\n",
      "20/145, train_loss: 0.018370, time taken: 0.8844001293182373s\n",
      "30/145, train_loss: 0.021342, time taken: 0.9150793552398682s\n",
      "40/145, train_loss: 0.018581, time taken: 0.8749828338623047s\n",
      "50/145, train_loss: 0.016639, time taken: 0.8867614269256592s\n",
      "60/145, train_loss: 0.015996, time taken: 0.8778913021087646s\n",
      "70/145, train_loss: 0.015942, time taken: 0.8928475379943848s\n",
      "80/145, train_loss: 0.014943, time taken: 0.8947417736053467s\n",
      "90/145, train_loss: 0.015775, time taken: 0.9213323593139648s\n",
      "100/145, train_loss: 0.016882, time taken: 0.9166085720062256s\n",
      "110/145, train_loss: 0.017390, time taken: 0.9077742099761963s\n",
      "120/145, train_loss: 0.017814, time taken: 0.9006593227386475s\n",
      "130/145, train_loss: 0.017545, time taken: 0.9048254489898682s\n",
      "140/145, train_loss: 0.017264, time taken: 0.8992984294891357s\n"
     ]
    },
    {
     "name": "stderr",
     "output_type": "stream",
     "text": [
      "2024-06-07 12:17 INFO epoch 179 average loss: 0.0175\n"
     ]
    },
    {
     "name": "stdout",
     "output_type": "stream",
     "text": [
      "epoch 179 average loss: 0.0175\n",
      "----------\n",
      "epoch 180/360\n",
      "10/145, train_loss: 0.024688, time taken: 0.9560179710388184s\n",
      "20/145, train_loss: 0.022816, time taken: 0.9161858558654785s\n",
      "30/145, train_loss: 0.021777, time taken: 0.9053411483764648s\n",
      "40/145, train_loss: 0.018600, time taken: 0.8805193901062012s\n",
      "50/145, train_loss: 0.019748, time taken: 0.9240989685058594s\n",
      "60/145, train_loss: 0.019610, time taken: 0.8835344314575195s\n",
      "70/145, train_loss: 0.018953, time taken: 0.8809502124786377s\n",
      "80/145, train_loss: 0.019054, time taken: 0.9101653099060059s\n",
      "90/145, train_loss: 0.019873, time taken: 0.8816616535186768s\n",
      "100/145, train_loss: 0.019678, time taken: 0.8925251960754395s\n",
      "110/145, train_loss: 0.019392, time taken: 0.8687164783477783s\n",
      "120/145, train_loss: 0.019373, time taken: 0.8790009021759033s\n",
      "130/145, train_loss: 0.019372, time taken: 0.8982861042022705s\n",
      "140/145, train_loss: 0.019188, time taken: 0.8987951278686523s\n"
     ]
    },
    {
     "name": "stderr",
     "output_type": "stream",
     "text": [
      "2024-06-07 12:19 INFO epoch 180 average loss: 0.0200\n"
     ]
    },
    {
     "name": "stdout",
     "output_type": "stream",
     "text": [
      "epoch 180 average loss: 0.0200\n",
      "----------\n",
      "epoch 181/360\n",
      "10/145, train_loss: 0.009983, time taken: 0.9004650115966797s\n",
      "20/145, train_loss: 0.007389, time taken: 0.9196474552154541s\n",
      "30/145, train_loss: 0.007414, time taken: 0.8884353637695312s\n",
      "40/145, train_loss: 0.007902, time taken: 0.8889801502227783s\n",
      "50/145, train_loss: 0.009745, time taken: 0.8831126689910889s\n",
      "60/145, train_loss: 0.013215, time taken: 0.8902103900909424s\n",
      "70/145, train_loss: 0.016132, time taken: 0.9237720966339111s\n",
      "80/145, train_loss: 0.018476, time taken: 0.891411304473877s\n",
      "90/145, train_loss: 0.017887, time taken: 0.8999073505401611s\n",
      "100/145, train_loss: 0.017116, time taken: 0.9001610279083252s\n",
      "110/145, train_loss: 0.017854, time taken: 0.9093866348266602s\n",
      "120/145, train_loss: 0.018376, time taken: 0.9157814979553223s\n",
      "130/145, train_loss: 0.018819, time taken: 0.887711763381958s\n",
      "140/145, train_loss: 0.020170, time taken: 0.8895044326782227s\n"
     ]
    },
    {
     "name": "stderr",
     "output_type": "stream",
     "text": [
      "2024-06-07 12:22 INFO epoch 181 average loss: 0.0142\n"
     ]
    },
    {
     "name": "stdout",
     "output_type": "stream",
     "text": [
      "epoch 181 average loss: 0.0142\n",
      "----------\n",
      "epoch 182/360\n",
      "10/145, train_loss: 0.021111, time taken: 0.9016687870025635s\n",
      "20/145, train_loss: 0.020342, time taken: 0.8956389427185059s\n",
      "30/145, train_loss: 0.017579, time taken: 0.9034159183502197s\n",
      "40/145, train_loss: 0.019248, time taken: 0.9185001850128174s\n",
      "50/145, train_loss: 0.018593, time taken: 0.8880667686462402s\n",
      "60/145, train_loss: 0.016295, time taken: 0.8997805118560791s\n",
      "70/145, train_loss: 0.017711, time taken: 0.8837344646453857s\n",
      "80/145, train_loss: 0.017426, time taken: 0.9519312381744385s\n",
      "90/145, train_loss: 0.017261, time taken: 0.8924016952514648s\n",
      "100/145, train_loss: 0.017600, time taken: 0.8812370300292969s\n",
      "110/145, train_loss: 0.017878, time taken: 0.8791601657867432s\n",
      "120/145, train_loss: 0.017901, time taken: 0.903186559677124s\n",
      "130/145, train_loss: 0.017701, time taken: 0.8847551345825195s\n",
      "140/145, train_loss: 0.017618, time taken: 0.8977901935577393s\n"
     ]
    },
    {
     "name": "stderr",
     "output_type": "stream",
     "text": [
      "2024-06-07 12:24 INFO epoch 182 average loss: 0.0184\n"
     ]
    },
    {
     "name": "stdout",
     "output_type": "stream",
     "text": [
      "epoch 182 average loss: 0.0184\n",
      "----------\n",
      "epoch 183/360\n",
      "10/145, train_loss: 0.020179, time taken: 0.8997905254364014s\n",
      "20/145, train_loss: 0.022300, time taken: 0.9014537334442139s\n",
      "30/145, train_loss: 0.021370, time taken: 0.8998856544494629s\n",
      "40/145, train_loss: 0.021179, time taken: 0.9167540073394775s\n",
      "50/145, train_loss: 0.019764, time taken: 0.8788020610809326s\n",
      "60/145, train_loss: 0.017573, time taken: 0.8766236305236816s\n",
      "70/145, train_loss: 0.016877, time taken: 0.8937301635742188s\n",
      "80/145, train_loss: 0.015824, time taken: 0.880795955657959s\n",
      "90/145, train_loss: 0.015935, time taken: 0.9146230220794678s\n",
      "100/145, train_loss: 0.015828, time taken: 0.8883626461029053s\n",
      "110/145, train_loss: 0.015455, time taken: 0.8898367881774902s\n",
      "120/145, train_loss: 0.015390, time taken: 0.899336576461792s\n",
      "130/145, train_loss: 0.015103, time taken: 0.9038794040679932s\n",
      "140/145, train_loss: 0.014905, time taken: 0.8880167007446289s\n"
     ]
    },
    {
     "name": "stderr",
     "output_type": "stream",
     "text": [
      "2024-06-07 12:26 INFO epoch 183 average loss: 0.0177\n"
     ]
    },
    {
     "name": "stdout",
     "output_type": "stream",
     "text": [
      "epoch 183 average loss: 0.0177\n",
      "----------\n",
      "epoch 184/360\n",
      "10/145, train_loss: 0.010804, time taken: 0.8965210914611816s\n",
      "20/145, train_loss: 0.010297, time taken: 0.9187784194946289s\n",
      "30/145, train_loss: 0.012480, time taken: 0.9010064601898193s\n",
      "40/145, train_loss: 0.012816, time taken: 0.8817627429962158s\n",
      "50/145, train_loss: 0.011887, time taken: 0.9188282489776611s\n",
      "60/145, train_loss: 0.012262, time taken: 0.9233133792877197s\n",
      "70/145, train_loss: 0.012436, time taken: 0.9154491424560547s\n",
      "80/145, train_loss: 0.012735, time taken: 0.8790946006774902s\n",
      "90/145, train_loss: 0.012204, time taken: 0.8694577217102051s\n",
      "100/145, train_loss: 0.013977, time taken: 0.8910455703735352s\n",
      "110/145, train_loss: 0.013082, time taken: 0.8712043762207031s\n",
      "120/145, train_loss: 0.012628, time taken: 0.8764243125915527s\n",
      "130/145, train_loss: 0.012320, time taken: 0.8728909492492676s\n",
      "140/145, train_loss: 0.012246, time taken: 0.8724055290222168s\n"
     ]
    },
    {
     "name": "stderr",
     "output_type": "stream",
     "text": [
      "2024-06-07 12:28 INFO epoch 184 average loss: 0.0121\n"
     ]
    },
    {
     "name": "stdout",
     "output_type": "stream",
     "text": [
      "epoch 184 average loss: 0.0121\n",
      "----------\n",
      "epoch 185/360\n",
      "10/145, train_loss: 0.011043, time taken: 0.8973760604858398s\n",
      "20/145, train_loss: 0.015446, time taken: 0.8845458030700684s\n",
      "30/145, train_loss: 0.017999, time taken: 0.8829662799835205s\n",
      "40/145, train_loss: 0.017486, time taken: 0.8693816661834717s\n",
      "50/145, train_loss: 0.017443, time taken: 0.8879492282867432s\n",
      "60/145, train_loss: 0.014772, time taken: 0.9015274047851562s\n",
      "70/145, train_loss: 0.014305, time taken: 0.9008221626281738s\n",
      "80/145, train_loss: 0.013923, time taken: 0.8897786140441895s\n",
      "90/145, train_loss: 0.013361, time taken: 0.9092261791229248s\n",
      "100/145, train_loss: 0.013034, time taken: 0.9109632968902588s\n",
      "110/145, train_loss: 0.012629, time taken: 0.8995366096496582s\n",
      "120/145, train_loss: 0.012995, time taken: 0.9583449363708496s\n",
      "130/145, train_loss: 0.013297, time taken: 0.8725359439849854s\n",
      "140/145, train_loss: 0.012666, time taken: 0.8914873600006104s\n"
     ]
    },
    {
     "name": "stderr",
     "output_type": "stream",
     "text": [
      "2024-06-07 12:31 INFO epoch 185 average loss: 0.0141\n"
     ]
    },
    {
     "name": "stdout",
     "output_type": "stream",
     "text": [
      "epoch 185 average loss: 0.0141\n",
      "----------\n",
      "epoch 186/360\n",
      "10/145, train_loss: 0.006262, time taken: 0.9251890182495117s\n",
      "20/145, train_loss: 0.011546, time taken: 0.88942551612854s\n",
      "30/145, train_loss: 0.011587, time taken: 0.8747315406799316s\n",
      "40/145, train_loss: 0.012343, time taken: 0.907477617263794s\n",
      "50/145, train_loss: 0.015058, time taken: 0.9282727241516113s\n",
      "60/145, train_loss: 0.017630, time taken: 0.8960928916931152s\n",
      "70/145, train_loss: 0.017038, time taken: 0.8786954879760742s\n",
      "80/145, train_loss: 0.018634, time taken: 0.89455246925354s\n",
      "90/145, train_loss: 0.017843, time taken: 0.8771395683288574s\n",
      "100/145, train_loss: 0.018247, time taken: 0.8791604042053223s\n",
      "110/145, train_loss: 0.017655, time taken: 0.8887593746185303s\n",
      "120/145, train_loss: 0.017658, time taken: 0.8969099521636963s\n",
      "130/145, train_loss: 0.017891, time taken: 0.8746559619903564s\n",
      "140/145, train_loss: 0.018433, time taken: 0.883500337600708s\n"
     ]
    },
    {
     "name": "stderr",
     "output_type": "stream",
     "text": [
      "2024-06-07 12:33 INFO epoch 186 average loss: 0.0155\n"
     ]
    },
    {
     "name": "stdout",
     "output_type": "stream",
     "text": [
      "epoch 186 average loss: 0.0155\n",
      "----------\n",
      "epoch 187/360\n",
      "10/145, train_loss: 0.022834, time taken: 0.9104716777801514s\n",
      "20/145, train_loss: 0.023493, time taken: 0.8810904026031494s\n",
      "30/145, train_loss: 0.022942, time taken: 0.8990604877471924s\n",
      "40/145, train_loss: 0.022194, time taken: 0.8812499046325684s\n",
      "50/145, train_loss: 0.020339, time taken: 0.8847615718841553s\n",
      "60/145, train_loss: 0.018865, time taken: 0.874697208404541s\n",
      "70/145, train_loss: 0.018616, time taken: 0.9038293361663818s\n",
      "80/145, train_loss: 0.017668, time taken: 0.9029347896575928s\n",
      "90/145, train_loss: 0.016877, time taken: 0.8998420238494873s\n",
      "100/145, train_loss: 0.016875, time taken: 0.8948967456817627s\n",
      "110/145, train_loss: 0.018560, time taken: 0.8823180198669434s\n",
      "120/145, train_loss: 0.019645, time taken: 0.8881397247314453s\n",
      "130/145, train_loss: 0.019672, time taken: 0.8812413215637207s\n",
      "140/145, train_loss: 0.019210, time taken: 0.9112322330474854s\n"
     ]
    },
    {
     "name": "stderr",
     "output_type": "stream",
     "text": [
      "2024-06-07 12:35 INFO epoch 187 average loss: 0.0197\n"
     ]
    },
    {
     "name": "stdout",
     "output_type": "stream",
     "text": [
      "epoch 187 average loss: 0.0197\n",
      "----------\n",
      "epoch 188/360\n",
      "10/145, train_loss: 0.027675, time taken: 0.8939192295074463s\n",
      "20/145, train_loss: 0.025436, time taken: 0.887455940246582s\n",
      "30/145, train_loss: 0.020557, time taken: 0.8894789218902588s\n",
      "40/145, train_loss: 0.018988, time taken: 0.9090280532836914s\n",
      "50/145, train_loss: 0.019340, time taken: 0.9034061431884766s\n",
      "60/145, train_loss: 0.018156, time taken: 0.90531325340271s\n",
      "70/145, train_loss: 0.017650, time taken: 0.8796515464782715s\n",
      "80/145, train_loss: 0.016742, time taken: 0.9665675163269043s\n",
      "90/145, train_loss: 0.016543, time taken: 0.8890304565429688s\n",
      "100/145, train_loss: 0.016039, time taken: 0.8690447807312012s\n",
      "110/145, train_loss: 0.015199, time taken: 0.8939049243927002s\n",
      "120/145, train_loss: 0.015056, time taken: 0.900970458984375s\n",
      "130/145, train_loss: 0.015123, time taken: 0.8943896293640137s\n",
      "140/145, train_loss: 0.014682, time taken: 0.9046626091003418s\n"
     ]
    },
    {
     "name": "stderr",
     "output_type": "stream",
     "text": [
      "2024-06-07 12:37 INFO epoch 188 average loss: 0.0177\n"
     ]
    },
    {
     "name": "stdout",
     "output_type": "stream",
     "text": [
      "epoch 188 average loss: 0.0177\n",
      "----------\n",
      "epoch 189/360\n",
      "10/145, train_loss: 0.013664, time taken: 0.888681173324585s\n",
      "20/145, train_loss: 0.014044, time taken: 0.8815171718597412s\n",
      "30/145, train_loss: 0.012048, time taken: 0.8934497833251953s\n",
      "40/145, train_loss: 0.013129, time taken: 0.9068677425384521s\n",
      "50/145, train_loss: 0.011983, time taken: 0.9021596908569336s\n",
      "60/145, train_loss: 0.011953, time taken: 0.8788394927978516s\n",
      "70/145, train_loss: 0.011431, time taken: 0.9744446277618408s\n",
      "80/145, train_loss: 0.012845, time taken: 0.8918371200561523s\n",
      "90/145, train_loss: 0.012080, time taken: 0.8871920108795166s\n",
      "100/145, train_loss: 0.013049, time taken: 0.8995571136474609s\n",
      "110/145, train_loss: 0.013058, time taken: 0.8828692436218262s\n",
      "120/145, train_loss: 0.013073, time taken: 0.9024455547332764s\n",
      "130/145, train_loss: 0.013512, time taken: 0.8651933670043945s\n",
      "140/145, train_loss: 0.013077, time taken: 0.8853282928466797s\n"
     ]
    },
    {
     "name": "stderr",
     "output_type": "stream",
     "text": [
      "2024-06-07 12:39 INFO epoch 189 average loss: 0.0124\n"
     ]
    },
    {
     "name": "stdout",
     "output_type": "stream",
     "text": [
      "epoch 189 average loss: 0.0124\n",
      "----------\n",
      "epoch 190/360\n",
      "10/145, train_loss: 0.019790, time taken: 0.8852956295013428s\n",
      "20/145, train_loss: 0.014918, time taken: 0.8758821487426758s\n",
      "30/145, train_loss: 0.015564, time taken: 0.9103622436523438s\n",
      "40/145, train_loss: 0.013623, time taken: 0.934490442276001s\n",
      "50/145, train_loss: 0.013703, time taken: 0.8948285579681396s\n",
      "60/145, train_loss: 0.014345, time taken: 0.9038896560668945s\n",
      "70/145, train_loss: 0.015077, time taken: 0.8843507766723633s\n",
      "80/145, train_loss: 0.013830, time taken: 0.9016220569610596s\n",
      "90/145, train_loss: 0.013979, time taken: 0.8901896476745605s\n",
      "100/145, train_loss: 0.013700, time taken: 0.9026541709899902s\n",
      "110/145, train_loss: 0.014019, time taken: 0.8731684684753418s\n",
      "120/145, train_loss: 0.013469, time taken: 0.8875465393066406s\n",
      "130/145, train_loss: 0.013911, time taken: 0.9258608818054199s\n",
      "140/145, train_loss: 0.013884, time taken: 0.8994343280792236s\n"
     ]
    },
    {
     "name": "stderr",
     "output_type": "stream",
     "text": [
      "2024-06-07 12:42 INFO epoch 190 average loss: 0.0146\n"
     ]
    },
    {
     "name": "stdout",
     "output_type": "stream",
     "text": [
      "epoch 190 average loss: 0.0146\n",
      "----------\n",
      "epoch 191/360\n",
      "10/145, train_loss: 0.025277, time taken: 0.8944816589355469s\n",
      "20/145, train_loss: 0.015086, time taken: 0.8937206268310547s\n",
      "30/145, train_loss: 0.011224, time taken: 0.8993918895721436s\n",
      "40/145, train_loss: 0.009816, time taken: 0.8870787620544434s\n",
      "50/145, train_loss: 0.009450, time taken: 0.8846743106842041s\n",
      "60/145, train_loss: 0.009797, time taken: 0.9017236232757568s\n",
      "70/145, train_loss: 0.010389, time taken: 0.8961923122406006s\n",
      "80/145, train_loss: 0.010830, time taken: 0.8994216918945312s\n",
      "90/145, train_loss: 0.012450, time taken: 0.8936104774475098s\n",
      "100/145, train_loss: 0.014181, time taken: 0.8751676082611084s\n",
      "110/145, train_loss: 0.016007, time taken: 0.8911504745483398s\n",
      "120/145, train_loss: 0.016851, time taken: 0.8893582820892334s\n",
      "130/145, train_loss: 0.016396, time taken: 0.9002876281738281s\n",
      "140/145, train_loss: 0.016154, time taken: 0.9202241897583008s\n"
     ]
    },
    {
     "name": "stderr",
     "output_type": "stream",
     "text": [
      "2024-06-07 12:44 INFO epoch 191 average loss: 0.0134\n"
     ]
    },
    {
     "name": "stdout",
     "output_type": "stream",
     "text": [
      "epoch 191 average loss: 0.0134\n",
      "----------\n",
      "epoch 192/360\n",
      "10/145, train_loss: 0.008382, time taken: 0.8744041919708252s\n",
      "20/145, train_loss: 0.012440, time taken: 0.9046635627746582s\n",
      "30/145, train_loss: 0.015490, time taken: 0.8940422534942627s\n",
      "40/145, train_loss: 0.016870, time taken: 0.8750414848327637s\n",
      "50/145, train_loss: 0.016275, time taken: 0.8938114643096924s\n",
      "60/145, train_loss: 0.015438, time taken: 0.9286816120147705s\n",
      "70/145, train_loss: 0.016437, time taken: 0.911832332611084s\n",
      "80/145, train_loss: 0.017350, time taken: 0.8949251174926758s\n",
      "90/145, train_loss: 0.016642, time taken: 0.8976476192474365s\n",
      "100/145, train_loss: 0.016995, time taken: 0.8988223075866699s\n",
      "110/145, train_loss: 0.017148, time taken: 0.910003662109375s\n",
      "120/145, train_loss: 0.016475, time taken: 0.8984169960021973s\n",
      "130/145, train_loss: 0.015902, time taken: 0.9142069816589355s\n",
      "140/145, train_loss: 0.015126, time taken: 0.8878593444824219s\n"
     ]
    },
    {
     "name": "stderr",
     "output_type": "stream",
     "text": [
      "2024-06-07 12:46 INFO epoch 192 average loss: 0.0152\n"
     ]
    },
    {
     "name": "stdout",
     "output_type": "stream",
     "text": [
      "epoch 192 average loss: 0.0152\n",
      "----------\n",
      "epoch 193/360\n",
      "10/145, train_loss: 0.018196, time taken: 0.8811171054840088s\n",
      "20/145, train_loss: 0.019000, time taken: 0.8864872455596924s\n",
      "30/145, train_loss: 0.015861, time taken: 0.888617992401123s\n",
      "40/145, train_loss: 0.014668, time taken: 0.9001352787017822s\n",
      "50/145, train_loss: 0.012717, time taken: 0.8840339183807373s\n",
      "60/145, train_loss: 0.012033, time taken: 0.8977489471435547s\n",
      "70/145, train_loss: 0.012474, time taken: 0.8957910537719727s\n",
      "80/145, train_loss: 0.011922, time taken: 0.8765358924865723s\n",
      "90/145, train_loss: 0.012415, time taken: 0.8930492401123047s\n",
      "100/145, train_loss: 0.012978, time taken: 0.884566068649292s\n",
      "110/145, train_loss: 0.012484, time taken: 0.9043245315551758s\n",
      "120/145, train_loss: 0.012706, time taken: 0.9210443496704102s\n",
      "130/145, train_loss: 0.012867, time taken: 0.8797013759613037s\n",
      "140/145, train_loss: 0.012665, time taken: 0.8982837200164795s\n"
     ]
    },
    {
     "name": "stderr",
     "output_type": "stream",
     "text": [
      "2024-06-07 12:48 INFO epoch 193 average loss: 0.0139\n"
     ]
    },
    {
     "name": "stdout",
     "output_type": "stream",
     "text": [
      "epoch 193 average loss: 0.0139\n",
      "----------\n",
      "epoch 194/360\n",
      "10/145, train_loss: 0.006988, time taken: 0.9835898876190186s\n",
      "20/145, train_loss: 0.014941, time taken: 0.8759081363677979s\n",
      "30/145, train_loss: 0.015893, time taken: 0.9170279502868652s\n",
      "40/145, train_loss: 0.014290, time taken: 0.8698475360870361s\n",
      "50/145, train_loss: 0.016380, time taken: 0.8850247859954834s\n",
      "60/145, train_loss: 0.018514, time taken: 0.911309003829956s\n",
      "70/145, train_loss: 0.019938, time taken: 0.8797087669372559s\n",
      "80/145, train_loss: 0.019824, time taken: 0.8775496482849121s\n",
      "90/145, train_loss: 0.019006, time taken: 0.8809566497802734s\n",
      "100/145, train_loss: 0.021020, time taken: 0.8806455135345459s\n",
      "110/145, train_loss: 0.021928, time taken: 0.9169197082519531s\n",
      "120/145, train_loss: 0.021979, time taken: 0.8872420787811279s\n",
      "130/145, train_loss: 0.022177, time taken: 0.8904995918273926s\n",
      "140/145, train_loss: 0.022182, time taken: 0.8957762718200684s\n"
     ]
    },
    {
     "name": "stderr",
     "output_type": "stream",
     "text": [
      "2024-06-07 12:50 INFO epoch 194 average loss: 0.0186\n"
     ]
    },
    {
     "name": "stdout",
     "output_type": "stream",
     "text": [
      "epoch 194 average loss: 0.0186\n",
      "----------\n",
      "epoch 195/360\n",
      "10/145, train_loss: 0.014578, time taken: 0.8780803680419922s\n",
      "20/145, train_loss: 0.013696, time taken: 0.8895249366760254s\n",
      "30/145, train_loss: 0.012142, time taken: 0.8827638626098633s\n",
      "40/145, train_loss: 0.012003, time taken: 0.8871974945068359s\n",
      "50/145, train_loss: 0.011119, time taken: 0.8943917751312256s\n",
      "60/145, train_loss: 0.011441, time taken: 0.906163215637207s\n",
      "70/145, train_loss: 0.011310, time taken: 0.9116721153259277s\n",
      "80/145, train_loss: 0.011161, time taken: 0.8787381649017334s\n",
      "90/145, train_loss: 0.011453, time taken: 0.8889877796173096s\n",
      "100/145, train_loss: 0.012588, time taken: 0.876152515411377s\n",
      "110/145, train_loss: 0.012506, time taken: 0.8855273723602295s\n",
      "120/145, train_loss: 0.012771, time taken: 0.9016110897064209s\n",
      "130/145, train_loss: 0.012528, time taken: 0.9037411212921143s\n",
      "140/145, train_loss: 0.012865, time taken: 0.8919074535369873s\n"
     ]
    },
    {
     "name": "stderr",
     "output_type": "stream",
     "text": [
      "2024-06-07 12:53 INFO epoch 195 average loss: 0.0124\n"
     ]
    },
    {
     "name": "stdout",
     "output_type": "stream",
     "text": [
      "epoch 195 average loss: 0.0124\n",
      "----------\n",
      "epoch 196/360\n",
      "10/145, train_loss: 0.001205, time taken: 0.8881499767303467s\n",
      "20/145, train_loss: 0.005057, time taken: 0.8664295673370361s\n",
      "30/145, train_loss: 0.006229, time taken: 0.8858568668365479s\n",
      "40/145, train_loss: 0.007656, time taken: 0.8864006996154785s\n",
      "50/145, train_loss: 0.008030, time taken: 0.8963539600372314s\n",
      "60/145, train_loss: 0.007648, time taken: 0.8678936958312988s\n",
      "70/145, train_loss: 0.007431, time taken: 0.8919873237609863s\n",
      "80/145, train_loss: 0.008259, time taken: 0.9807233810424805s\n",
      "90/145, train_loss: 0.008641, time taken: 0.8888864517211914s\n",
      "100/145, train_loss: 0.009406, time taken: 0.8820421695709229s\n",
      "110/145, train_loss: 0.009895, time taken: 0.909388542175293s\n",
      "120/145, train_loss: 0.010016, time taken: 0.8921856880187988s\n",
      "130/145, train_loss: 0.010217, time taken: 0.9070520401000977s\n",
      "140/145, train_loss: 0.010604, time taken: 0.8767797946929932s\n"
     ]
    },
    {
     "name": "stderr",
     "output_type": "stream",
     "text": [
      "2024-06-07 12:55 INFO epoch 196 average loss: 0.0079\n"
     ]
    },
    {
     "name": "stdout",
     "output_type": "stream",
     "text": [
      "epoch 196 average loss: 0.0079\n",
      "----------\n",
      "epoch 197/360\n",
      "10/145, train_loss: 0.011951, time taken: 0.8766229152679443s\n",
      "20/145, train_loss: 0.009488, time taken: 0.8974339962005615s\n",
      "30/145, train_loss: 0.011161, time taken: 0.8872506618499756s\n",
      "40/145, train_loss: 0.011290, time taken: 0.8988568782806396s\n",
      "50/145, train_loss: 0.011906, time taken: 0.8892841339111328s\n",
      "60/145, train_loss: 0.011166, time taken: 0.8745930194854736s\n",
      "70/145, train_loss: 0.011698, time taken: 0.89235520362854s\n",
      "80/145, train_loss: 0.010902, time taken: 0.8964922428131104s\n",
      "90/145, train_loss: 0.010192, time taken: 0.904381513595581s\n",
      "100/145, train_loss: 0.011172, time taken: 0.8963217735290527s\n",
      "110/145, train_loss: 0.011129, time taken: 0.8922178745269775s\n",
      "120/145, train_loss: 0.011406, time taken: 0.8853027820587158s\n",
      "130/145, train_loss: 0.011382, time taken: 0.8934335708618164s\n",
      "140/145, train_loss: 0.011743, time taken: 0.8971202373504639s\n"
     ]
    },
    {
     "name": "stderr",
     "output_type": "stream",
     "text": [
      "2024-06-07 12:57 INFO epoch 197 average loss: 0.0110\n"
     ]
    },
    {
     "name": "stdout",
     "output_type": "stream",
     "text": [
      "epoch 197 average loss: 0.0110\n",
      "----------\n",
      "epoch 198/360\n",
      "10/145, train_loss: 0.010129, time taken: 0.8972063064575195s\n",
      "20/145, train_loss: 0.014787, time taken: 0.9133453369140625s\n",
      "30/145, train_loss: 0.014514, time taken: 0.8970129489898682s\n",
      "40/145, train_loss: 0.012398, time taken: 0.8983039855957031s\n",
      "50/145, train_loss: 0.011931, time taken: 0.8774819374084473s\n",
      "60/145, train_loss: 0.012931, time taken: 0.9019644260406494s\n",
      "70/145, train_loss: 0.014270, time taken: 0.8858609199523926s\n",
      "80/145, train_loss: 0.013751, time taken: 0.8952040672302246s\n",
      "90/145, train_loss: 0.013850, time taken: 0.8909933567047119s\n",
      "100/145, train_loss: 0.014750, time taken: 0.8874459266662598s\n",
      "110/145, train_loss: 0.014830, time taken: 0.8800830841064453s\n",
      "120/145, train_loss: 0.015191, time taken: 0.8834085464477539s\n",
      "130/145, train_loss: 0.015148, time taken: 0.9117395877838135s\n",
      "140/145, train_loss: 0.015321, time taken: 0.875399112701416s\n"
     ]
    },
    {
     "name": "stderr",
     "output_type": "stream",
     "text": [
      "2024-06-07 12:59 INFO epoch 198 average loss: 0.0138\n"
     ]
    },
    {
     "name": "stdout",
     "output_type": "stream",
     "text": [
      "epoch 198 average loss: 0.0138\n",
      "----------\n",
      "epoch 199/360\n",
      "10/145, train_loss: 0.006163, time taken: 0.8834242820739746s\n",
      "20/145, train_loss: 0.011882, time taken: 0.8691654205322266s\n",
      "30/145, train_loss: 0.014002, time taken: 0.886605978012085s\n",
      "40/145, train_loss: 0.012207, time taken: 0.9026603698730469s\n",
      "50/145, train_loss: 0.012240, time taken: 0.9163751602172852s\n",
      "60/145, train_loss: 0.012778, time taken: 0.9002373218536377s\n",
      "70/145, train_loss: 0.013565, time taken: 0.9064497947692871s\n",
      "80/145, train_loss: 0.012749, time taken: 0.89013671875s\n",
      "90/145, train_loss: 0.012465, time taken: 0.893890380859375s\n",
      "100/145, train_loss: 0.015101, time taken: 0.9075653553009033s\n",
      "110/145, train_loss: 0.016074, time taken: 0.8873128890991211s\n",
      "120/145, train_loss: 0.015203, time taken: 0.9782311916351318s\n",
      "130/145, train_loss: 0.016086, time taken: 0.8792133331298828s\n",
      "140/145, train_loss: 0.015661, time taken: 0.9127171039581299s\n"
     ]
    },
    {
     "name": "stderr",
     "output_type": "stream",
     "text": [
      "2024-06-07 13:01 INFO epoch 199 average loss: 0.0133\n"
     ]
    },
    {
     "name": "stdout",
     "output_type": "stream",
     "text": [
      "epoch 199 average loss: 0.0133\n",
      "----------\n",
      "epoch 200/360\n",
      "10/145, train_loss: 0.008201, time taken: 0.894040584564209s\n",
      "20/145, train_loss: 0.012241, time taken: 0.8760931491851807s\n",
      "30/145, train_loss: 0.012815, time taken: 0.8886172771453857s\n",
      "40/145, train_loss: 0.012430, time taken: 0.8870174884796143s\n",
      "50/145, train_loss: 0.011602, time taken: 0.89544677734375s\n",
      "60/145, train_loss: 0.012392, time taken: 0.8911936283111572s\n",
      "70/145, train_loss: 0.012245, time taken: 0.8707332611083984s\n",
      "80/145, train_loss: 0.011518, time taken: 0.8850429058074951s\n",
      "90/145, train_loss: 0.011538, time taken: 0.8976151943206787s\n",
      "100/145, train_loss: 0.010667, time taken: 0.8719098567962646s\n",
      "110/145, train_loss: 0.010783, time taken: 0.8956732749938965s\n",
      "120/145, train_loss: 0.010477, time taken: 0.9122524261474609s\n",
      "130/145, train_loss: 0.010037, time taken: 0.9031631946563721s\n",
      "140/145, train_loss: 0.010674, time taken: 0.8855962753295898s\n"
     ]
    },
    {
     "name": "stderr",
     "output_type": "stream",
     "text": [
      "2024-06-07 13:04 INFO epoch 200 average loss: 0.0109\n"
     ]
    },
    {
     "name": "stdout",
     "output_type": "stream",
     "text": [
      "epoch 200 average loss: 0.0109\n",
      "----------\n",
      "epoch 201/360\n",
      "10/145, train_loss: 0.007813, time taken: 0.8921842575073242s\n",
      "20/145, train_loss: 0.005802, time taken: 0.8741018772125244s\n",
      "30/145, train_loss: 0.008953, time taken: 0.8868858814239502s\n",
      "40/145, train_loss: 0.011433, time taken: 0.8908593654632568s\n",
      "50/145, train_loss: 0.010980, time taken: 0.8942406177520752s\n",
      "60/145, train_loss: 0.010557, time taken: 0.900151252746582s\n",
      "70/145, train_loss: 0.010760, time taken: 0.8759274482727051s\n",
      "80/145, train_loss: 0.010840, time taken: 0.892343282699585s\n",
      "90/145, train_loss: 0.013836, time taken: 0.9069662094116211s\n",
      "100/145, train_loss: 0.014704, time taken: 0.8900425434112549s\n",
      "110/145, train_loss: 0.014492, time taken: 0.907289981842041s\n",
      "120/145, train_loss: 0.014584, time taken: 0.895118236541748s\n",
      "130/145, train_loss: 0.014824, time taken: 0.925053596496582s\n",
      "140/145, train_loss: 0.015261, time taken: 0.9090142250061035s\n"
     ]
    },
    {
     "name": "stderr",
     "output_type": "stream",
     "text": [
      "2024-06-07 13:06 INFO epoch 201 average loss: 0.0115\n"
     ]
    },
    {
     "name": "stdout",
     "output_type": "stream",
     "text": [
      "epoch 201 average loss: 0.0115\n",
      "----------\n",
      "epoch 202/360\n",
      "10/145, train_loss: 0.012123, time taken: 0.9009218215942383s\n",
      "20/145, train_loss: 0.011194, time taken: 0.8669726848602295s\n",
      "30/145, train_loss: 0.014752, time taken: 0.9411029815673828s\n",
      "40/145, train_loss: 0.015492, time taken: 0.9102864265441895s\n",
      "50/145, train_loss: 0.016525, time taken: 0.9024193286895752s\n",
      "60/145, train_loss: 0.018627, time taken: 0.8713381290435791s\n",
      "70/145, train_loss: 0.020230, time taken: 0.8859820365905762s\n",
      "80/145, train_loss: 0.021071, time taken: 0.9985141754150391s\n",
      "90/145, train_loss: 0.022073, time taken: 0.8869857788085938s\n",
      "100/145, train_loss: 0.022476, time taken: 0.8853425979614258s\n",
      "110/145, train_loss: 0.021107, time taken: 0.8818371295928955s\n",
      "120/145, train_loss: 0.019538, time taken: 0.8887522220611572s\n",
      "130/145, train_loss: 0.019438, time taken: 0.8788051605224609s\n",
      "140/145, train_loss: 0.018607, time taken: 0.9103810787200928s\n"
     ]
    },
    {
     "name": "stderr",
     "output_type": "stream",
     "text": [
      "2024-06-07 13:08 INFO epoch 202 average loss: 0.0178\n"
     ]
    },
    {
     "name": "stdout",
     "output_type": "stream",
     "text": [
      "epoch 202 average loss: 0.0178\n",
      "----------\n",
      "epoch 203/360\n",
      "10/145, train_loss: 0.012008, time taken: 0.8691534996032715s\n",
      "20/145, train_loss: 0.010822, time taken: 0.8940954208374023s\n",
      "30/145, train_loss: 0.009042, time taken: 0.8787927627563477s\n",
      "40/145, train_loss: 0.013105, time taken: 0.897144079208374s\n",
      "50/145, train_loss: 0.013888, time taken: 0.8922929763793945s\n",
      "60/145, train_loss: 0.014202, time taken: 0.8851058483123779s\n",
      "70/145, train_loss: 0.013110, time taken: 0.98002028465271s\n",
      "80/145, train_loss: 0.014252, time taken: 0.9087963104248047s\n",
      "90/145, train_loss: 0.015958, time taken: 0.8830685615539551s\n",
      "100/145, train_loss: 0.018336, time taken: 0.8797295093536377s\n",
      "110/145, train_loss: 0.017496, time taken: 0.9105818271636963s\n",
      "120/145, train_loss: 0.017768, time taken: 0.8956117630004883s\n",
      "130/145, train_loss: 0.017524, time taken: 0.9218394756317139s\n",
      "140/145, train_loss: 0.017270, time taken: 0.9104704856872559s\n"
     ]
    },
    {
     "name": "stderr",
     "output_type": "stream",
     "text": [
      "2024-06-07 13:10 INFO epoch 203 average loss: 0.0145\n"
     ]
    },
    {
     "name": "stdout",
     "output_type": "stream",
     "text": [
      "epoch 203 average loss: 0.0145\n",
      "----------\n",
      "epoch 204/360\n",
      "10/145, train_loss: 0.017603, time taken: 0.8848176002502441s\n",
      "20/145, train_loss: 0.014850, time taken: 0.8891685009002686s\n",
      "30/145, train_loss: 0.011278, time taken: 0.870764970779419s\n",
      "40/145, train_loss: 0.014000, time taken: 0.88309645652771s\n",
      "50/145, train_loss: 0.013310, time taken: 0.8897197246551514s\n",
      "60/145, train_loss: 0.013426, time taken: 0.891862154006958s\n",
      "70/145, train_loss: 0.013810, time taken: 0.8827142715454102s\n",
      "80/145, train_loss: 0.014216, time taken: 0.9032766819000244s\n",
      "90/145, train_loss: 0.014367, time taken: 0.8655850887298584s\n",
      "100/145, train_loss: 0.013909, time taken: 0.8865466117858887s\n",
      "110/145, train_loss: 0.014045, time taken: 0.9212086200714111s\n",
      "120/145, train_loss: 0.013656, time taken: 0.8940505981445312s\n",
      "130/145, train_loss: 0.013455, time taken: 0.9080526828765869s\n",
      "140/145, train_loss: 0.014238, time taken: 0.9049327373504639s\n"
     ]
    },
    {
     "name": "stderr",
     "output_type": "stream",
     "text": [
      "2024-06-07 13:12 INFO epoch 204 average loss: 0.0147\n"
     ]
    },
    {
     "name": "stdout",
     "output_type": "stream",
     "text": [
      "epoch 204 average loss: 0.0147\n",
      "----------\n",
      "epoch 205/360\n",
      "10/145, train_loss: 0.018845, time taken: 0.8826682567596436s\n",
      "20/145, train_loss: 0.020499, time taken: 0.9007112979888916s\n",
      "30/145, train_loss: 0.023038, time taken: 0.8804566860198975s\n",
      "40/145, train_loss: 0.021231, time taken: 0.8929362297058105s\n",
      "50/145, train_loss: 0.019426, time taken: 0.9119641780853271s\n",
      "60/145, train_loss: 0.019755, time taken: 0.8719954490661621s\n",
      "70/145, train_loss: 0.018995, time taken: 0.9117753505706787s\n",
      "80/145, train_loss: 0.019342, time taken: 0.9038078784942627s\n",
      "90/145, train_loss: 0.019266, time taken: 0.9059758186340332s\n",
      "100/145, train_loss: 0.020343, time taken: 0.9008049964904785s\n",
      "110/145, train_loss: 0.020192, time taken: 0.8931443691253662s\n",
      "120/145, train_loss: 0.018771, time taken: 0.8896946907043457s\n",
      "130/145, train_loss: 0.018107, time taken: 0.8816320896148682s\n",
      "140/145, train_loss: 0.017442, time taken: 0.8835277557373047s\n"
     ]
    },
    {
     "name": "stderr",
     "output_type": "stream",
     "text": [
      "2024-06-07 13:15 INFO epoch 205 average loss: 0.0194\n"
     ]
    },
    {
     "name": "stdout",
     "output_type": "stream",
     "text": [
      "epoch 205 average loss: 0.0194\n",
      "----------\n",
      "epoch 206/360\n",
      "10/145, train_loss: 0.006903, time taken: 0.9002752304077148s\n",
      "20/145, train_loss: 0.005609, time taken: 0.917069673538208s\n",
      "30/145, train_loss: 0.007437, time taken: 0.8867948055267334s\n",
      "40/145, train_loss: 0.009722, time taken: 0.9020693302154541s\n",
      "50/145, train_loss: 0.014163, time taken: 0.8896141052246094s\n",
      "60/145, train_loss: 0.013973, time taken: 0.8749957084655762s\n",
      "70/145, train_loss: 0.015497, time taken: 0.8951816558837891s\n",
      "80/145, train_loss: 0.016761, time taken: 0.8942642211914062s\n",
      "90/145, train_loss: 0.017420, time taken: 0.8730015754699707s\n",
      "100/145, train_loss: 0.016742, time taken: 0.9125473499298096s\n",
      "110/145, train_loss: 0.017152, time taken: 0.8970417976379395s\n",
      "120/145, train_loss: 0.016666, time taken: 0.881864070892334s\n",
      "130/145, train_loss: 0.016738, time taken: 0.8761725425720215s\n",
      "140/145, train_loss: 0.017121, time taken: 0.8792672157287598s\n"
     ]
    },
    {
     "name": "stderr",
     "output_type": "stream",
     "text": [
      "2024-06-07 13:17 INFO epoch 206 average loss: 0.0133\n"
     ]
    },
    {
     "name": "stdout",
     "output_type": "stream",
     "text": [
      "epoch 206 average loss: 0.0133\n",
      "----------\n",
      "epoch 207/360\n",
      "10/145, train_loss: 0.024326, time taken: 0.8985786437988281s\n",
      "20/145, train_loss: 0.017260, time taken: 0.8869755268096924s\n",
      "30/145, train_loss: 0.017094, time taken: 0.905947208404541s\n",
      "40/145, train_loss: 0.014724, time taken: 0.8862111568450928s\n",
      "50/145, train_loss: 0.013587, time taken: 0.88142991065979s\n",
      "60/145, train_loss: 0.013774, time taken: 0.9128515720367432s\n",
      "70/145, train_loss: 0.014143, time taken: 0.9165620803833008s\n",
      "80/145, train_loss: 0.012917, time taken: 0.8921046257019043s\n",
      "90/145, train_loss: 0.012228, time taken: 0.8950467109680176s\n",
      "100/145, train_loss: 0.012707, time taken: 0.9018774032592773s\n",
      "110/145, train_loss: 0.013001, time taken: 0.8937196731567383s\n",
      "120/145, train_loss: 0.012137, time taken: 0.8896589279174805s\n",
      "130/145, train_loss: 0.013161, time taken: 0.8810205459594727s\n",
      "140/145, train_loss: 0.013162, time taken: 0.8741738796234131s\n"
     ]
    },
    {
     "name": "stderr",
     "output_type": "stream",
     "text": [
      "2024-06-07 13:19 INFO epoch 207 average loss: 0.0157\n"
     ]
    },
    {
     "name": "stdout",
     "output_type": "stream",
     "text": [
      "epoch 207 average loss: 0.0157\n",
      "----------\n",
      "epoch 208/360\n",
      "10/145, train_loss: 0.012363, time taken: 0.9716165065765381s\n",
      "20/145, train_loss: 0.015747, time taken: 0.8845417499542236s\n",
      "30/145, train_loss: 0.015445, time taken: 0.9045515060424805s\n",
      "40/145, train_loss: 0.014865, time taken: 0.870924711227417s\n",
      "50/145, train_loss: 0.017503, time taken: 0.8954143524169922s\n",
      "60/145, train_loss: 0.017244, time taken: 0.9112827777862549s\n",
      "70/145, train_loss: 0.016228, time taken: 0.9026141166687012s\n",
      "80/145, train_loss: 0.015538, time taken: 0.9066991806030273s\n",
      "90/145, train_loss: 0.015197, time taken: 0.8944010734558105s\n",
      "100/145, train_loss: 0.014496, time taken: 0.8745284080505371s\n",
      "110/145, train_loss: 0.013934, time taken: 0.9144916534423828s\n",
      "120/145, train_loss: 0.014228, time taken: 0.8865363597869873s\n",
      "130/145, train_loss: 0.013708, time taken: 0.881716251373291s\n",
      "140/145, train_loss: 0.013543, time taken: 0.8829696178436279s\n"
     ]
    },
    {
     "name": "stderr",
     "output_type": "stream",
     "text": [
      "2024-06-07 13:21 INFO epoch 208 average loss: 0.0153\n"
     ]
    },
    {
     "name": "stdout",
     "output_type": "stream",
     "text": [
      "epoch 208 average loss: 0.0153\n",
      "----------\n",
      "epoch 209/360\n",
      "10/145, train_loss: 0.015649, time taken: 0.8961372375488281s\n",
      "20/145, train_loss: 0.013248, time taken: 0.9254670143127441s\n",
      "30/145, train_loss: 0.014294, time taken: 0.8954119682312012s\n",
      "40/145, train_loss: 0.015356, time taken: 0.8975732326507568s\n",
      "50/145, train_loss: 0.014307, time taken: 0.9075272083282471s\n",
      "60/145, train_loss: 0.013194, time taken: 0.8895270824432373s\n",
      "70/145, train_loss: 0.013256, time taken: 0.8891000747680664s\n",
      "80/145, train_loss: 0.014916, time taken: 0.89272141456604s\n",
      "90/145, train_loss: 0.014199, time taken: 0.8919835090637207s\n",
      "100/145, train_loss: 0.014309, time taken: 0.9156734943389893s\n",
      "110/145, train_loss: 0.013696, time taken: 0.8965489864349365s\n",
      "120/145, train_loss: 0.012935, time taken: 0.9154303073883057s\n",
      "130/145, train_loss: 0.013381, time taken: 0.8719959259033203s\n",
      "140/145, train_loss: 0.013712, time taken: 0.8758351802825928s\n"
     ]
    },
    {
     "name": "stderr",
     "output_type": "stream",
     "text": [
      "2024-06-07 13:23 INFO epoch 209 average loss: 0.0141\n"
     ]
    },
    {
     "name": "stdout",
     "output_type": "stream",
     "text": [
      "epoch 209 average loss: 0.0141\n",
      "----------\n",
      "epoch 210/360\n",
      "10/145, train_loss: 0.015670, time taken: 0.8767387866973877s\n",
      "20/145, train_loss: 0.010490, time taken: 0.8781013488769531s\n",
      "30/145, train_loss: 0.013058, time taken: 0.8885340690612793s\n",
      "40/145, train_loss: 0.011649, time taken: 0.8903279304504395s\n",
      "50/145, train_loss: 0.010330, time taken: 0.8928134441375732s\n",
      "60/145, train_loss: 0.010590, time taken: 0.871570348739624s\n",
      "70/145, train_loss: 0.010832, time taken: 0.9100840091705322s\n",
      "80/145, train_loss: 0.010413, time taken: 0.9582924842834473s\n",
      "90/145, train_loss: 0.010465, time taken: 0.8978304862976074s\n",
      "100/145, train_loss: 0.010934, time taken: 0.897249698638916s\n",
      "110/145, train_loss: 0.011607, time taken: 0.8916058540344238s\n",
      "120/145, train_loss: 0.011765, time taken: 0.9302377700805664s\n",
      "130/145, train_loss: 0.011921, time taken: 0.900503396987915s\n",
      "140/145, train_loss: 0.011561, time taken: 0.8735146522521973s\n"
     ]
    },
    {
     "name": "stderr",
     "output_type": "stream",
     "text": [
      "2024-06-07 13:26 INFO epoch 210 average loss: 0.0117\n"
     ]
    },
    {
     "name": "stdout",
     "output_type": "stream",
     "text": [
      "epoch 210 average loss: 0.0117\n",
      "----------\n",
      "epoch 211/360\n",
      "10/145, train_loss: 0.014011, time taken: 0.8939414024353027s\n",
      "20/145, train_loss: 0.014755, time taken: 0.8899636268615723s\n",
      "30/145, train_loss: 0.011352, time taken: 0.9149692058563232s\n",
      "40/145, train_loss: 0.010104, time taken: 0.8897809982299805s\n",
      "50/145, train_loss: 0.009575, time taken: 0.8977189064025879s\n",
      "60/145, train_loss: 0.009619, time taken: 0.9037370681762695s\n",
      "70/145, train_loss: 0.009361, time taken: 0.889617919921875s\n",
      "80/145, train_loss: 0.011213, time taken: 0.907252311706543s\n",
      "90/145, train_loss: 0.010472, time taken: 0.8806920051574707s\n",
      "100/145, train_loss: 0.010412, time taken: 0.8829779624938965s\n",
      "110/145, train_loss: 0.011030, time taken: 0.8755366802215576s\n",
      "120/145, train_loss: 0.011450, time taken: 0.9114112854003906s\n",
      "130/145, train_loss: 0.010866, time taken: 0.9194483757019043s\n",
      "140/145, train_loss: 0.010962, time taken: 0.8886983394622803s\n"
     ]
    },
    {
     "name": "stderr",
     "output_type": "stream",
     "text": [
      "2024-06-07 13:28 INFO epoch 211 average loss: 0.0106\n"
     ]
    },
    {
     "name": "stdout",
     "output_type": "stream",
     "text": [
      "epoch 211 average loss: 0.0106\n",
      "----------\n",
      "epoch 212/360\n",
      "10/145, train_loss: 0.008064, time taken: 0.8846826553344727s\n",
      "20/145, train_loss: 0.005121, time taken: 0.9131815433502197s\n",
      "30/145, train_loss: 0.006955, time taken: 0.9063742160797119s\n",
      "40/145, train_loss: 0.007134, time taken: 0.9313147068023682s\n",
      "50/145, train_loss: 0.008311, time taken: 0.9052705764770508s\n",
      "60/145, train_loss: 0.007985, time taken: 0.9057474136352539s\n",
      "70/145, train_loss: 0.011191, time taken: 0.8947544097900391s\n",
      "80/145, train_loss: 0.011781, time taken: 0.8851749897003174s\n",
      "90/145, train_loss: 0.011959, time taken: 0.8916754722595215s\n",
      "100/145, train_loss: 0.012083, time taken: 0.8936843872070312s\n",
      "110/145, train_loss: 0.013006, time taken: 0.8748760223388672s\n",
      "120/145, train_loss: 0.012950, time taken: 0.8910496234893799s\n",
      "130/145, train_loss: 0.013223, time taken: 0.8930926322937012s\n",
      "140/145, train_loss: 0.013165, time taken: 0.8951866626739502s\n"
     ]
    },
    {
     "name": "stderr",
     "output_type": "stream",
     "text": [
      "2024-06-07 13:30 INFO epoch 212 average loss: 0.0101\n"
     ]
    },
    {
     "name": "stdout",
     "output_type": "stream",
     "text": [
      "epoch 212 average loss: 0.0101\n",
      "----------\n",
      "epoch 213/360\n",
      "10/145, train_loss: 0.009772, time taken: 0.8892221450805664s\n",
      "20/145, train_loss: 0.007692, time taken: 0.9062819480895996s\n",
      "30/145, train_loss: 0.008772, time taken: 0.9003069400787354s\n",
      "40/145, train_loss: 0.011197, time taken: 0.8911423683166504s\n",
      "50/145, train_loss: 0.011353, time taken: 0.8985311985015869s\n",
      "60/145, train_loss: 0.011704, time taken: 0.8789660930633545s\n",
      "70/145, train_loss: 0.011219, time taken: 0.9158363342285156s\n",
      "80/145, train_loss: 0.011534, time taken: 0.8887181282043457s\n",
      "90/145, train_loss: 0.011753, time taken: 0.88840651512146s\n",
      "100/145, train_loss: 0.011871, time taken: 0.9155652523040771s\n",
      "110/145, train_loss: 0.012687, time taken: 0.8924891948699951s\n",
      "120/145, train_loss: 0.013040, time taken: 0.9855031967163086s\n",
      "130/145, train_loss: 0.012918, time taken: 0.9171006679534912s\n",
      "140/145, train_loss: 0.013258, time taken: 0.8864293098449707s\n"
     ]
    },
    {
     "name": "stderr",
     "output_type": "stream",
     "text": [
      "2024-06-07 13:32 INFO epoch 213 average loss: 0.0109\n"
     ]
    },
    {
     "name": "stdout",
     "output_type": "stream",
     "text": [
      "epoch 213 average loss: 0.0109\n",
      "----------\n",
      "epoch 214/360\n",
      "10/145, train_loss: 0.005595, time taken: 0.9116754531860352s\n",
      "20/145, train_loss: 0.012223, time taken: 0.8824052810668945s\n",
      "30/145, train_loss: 0.012023, time taken: 0.9226706027984619s\n",
      "40/145, train_loss: 0.013026, time taken: 0.8844048976898193s\n",
      "50/145, train_loss: 0.013565, time taken: 0.8834753036499023s\n",
      "60/145, train_loss: 0.011513, time taken: 0.9025492668151855s\n",
      "70/145, train_loss: 0.011742, time taken: 0.8854842185974121s\n",
      "80/145, train_loss: 0.012115, time taken: 0.8977317810058594s\n",
      "90/145, train_loss: 0.012420, time taken: 0.8726444244384766s\n",
      "100/145, train_loss: 0.011544, time taken: 0.8981461524963379s\n",
      "110/145, train_loss: 0.011078, time taken: 0.875420093536377s\n",
      "120/145, train_loss: 0.011685, time taken: 0.8919005393981934s\n",
      "130/145, train_loss: 0.011604, time taken: 0.8957695960998535s\n",
      "140/145, train_loss: 0.012179, time taken: 0.8931150436401367s\n"
     ]
    },
    {
     "name": "stderr",
     "output_type": "stream",
     "text": [
      "2024-06-07 13:34 INFO epoch 214 average loss: 0.0112\n"
     ]
    },
    {
     "name": "stdout",
     "output_type": "stream",
     "text": [
      "epoch 214 average loss: 0.0112\n",
      "----------\n",
      "epoch 215/360\n",
      "10/145, train_loss: 0.007617, time taken: 0.872622013092041s\n",
      "20/145, train_loss: 0.014134, time taken: 0.8992323875427246s\n",
      "30/145, train_loss: 0.014059, time taken: 0.9235854148864746s\n",
      "40/145, train_loss: 0.013133, time taken: 0.8958485126495361s\n",
      "50/145, train_loss: 0.015051, time taken: 0.8898880481719971s\n",
      "60/145, train_loss: 0.016167, time taken: 0.8799533843994141s\n",
      "70/145, train_loss: 0.015918, time taken: 0.891608476638794s\n",
      "80/145, train_loss: 0.015420, time taken: 0.8787071704864502s\n",
      "90/145, train_loss: 0.015476, time taken: 0.8906905651092529s\n",
      "100/145, train_loss: 0.016999, time taken: 0.8800263404846191s\n",
      "110/145, train_loss: 0.016591, time taken: 0.8921446800231934s\n",
      "120/145, train_loss: 0.016584, time taken: 0.8795897960662842s\n",
      "130/145, train_loss: 0.016103, time taken: 0.9132072925567627s\n",
      "140/145, train_loss: 0.016198, time taken: 0.8979153633117676s\n"
     ]
    },
    {
     "name": "stderr",
     "output_type": "stream",
     "text": [
      "2024-06-07 13:37 INFO epoch 215 average loss: 0.0147\n"
     ]
    },
    {
     "name": "stdout",
     "output_type": "stream",
     "text": [
      "epoch 215 average loss: 0.0147\n",
      "----------\n",
      "epoch 216/360\n",
      "10/145, train_loss: 0.015393, time taken: 0.8942391872406006s\n",
      "20/145, train_loss: 0.017857, time taken: 0.9000449180603027s\n",
      "30/145, train_loss: 0.019315, time taken: 0.9001679420471191s\n",
      "40/145, train_loss: 0.016369, time taken: 0.9019749164581299s\n",
      "50/145, train_loss: 0.020650, time taken: 0.9125354290008545s\n",
      "60/145, train_loss: 0.022769, time taken: 0.9042088985443115s\n",
      "70/145, train_loss: 0.022092, time taken: 0.8950648307800293s\n",
      "80/145, train_loss: 0.021269, time taken: 1.0021758079528809s\n",
      "90/145, train_loss: 0.019974, time taken: 0.9183773994445801s\n",
      "100/145, train_loss: 0.020695, time taken: 0.8747859001159668s\n",
      "110/145, train_loss: 0.019945, time taken: 0.917076587677002s\n",
      "120/145, train_loss: 0.019506, time taken: 0.8929672241210938s\n",
      "130/145, train_loss: 0.018364, time taken: 0.893212080001831s\n",
      "140/145, train_loss: 0.017722, time taken: 0.8978683948516846s\n"
     ]
    },
    {
     "name": "stderr",
     "output_type": "stream",
     "text": [
      "2024-06-07 13:39 INFO epoch 216 average loss: 0.0199\n"
     ]
    },
    {
     "name": "stdout",
     "output_type": "stream",
     "text": [
      "epoch 216 average loss: 0.0199\n",
      "----------\n",
      "epoch 217/360\n",
      "10/145, train_loss: 0.009597, time taken: 0.8792572021484375s\n",
      "20/145, train_loss: 0.007141, time taken: 0.8911809921264648s\n",
      "30/145, train_loss: 0.006404, time taken: 0.899925947189331s\n",
      "40/145, train_loss: 0.006355, time taken: 0.8943748474121094s\n",
      "50/145, train_loss: 0.007642, time taken: 0.8917415142059326s\n",
      "60/145, train_loss: 0.007769, time taken: 0.8890810012817383s\n",
      "70/145, train_loss: 0.009961, time taken: 0.9815592765808105s\n",
      "80/145, train_loss: 0.009274, time taken: 0.9075064659118652s\n",
      "90/145, train_loss: 0.008748, time taken: 0.9030070304870605s\n",
      "100/145, train_loss: 0.009206, time taken: 0.8977296352386475s\n",
      "110/145, train_loss: 0.008954, time taken: 0.8852722644805908s\n",
      "120/145, train_loss: 0.008507, time taken: 0.8775837421417236s\n",
      "130/145, train_loss: 0.008103, time taken: 0.8907158374786377s\n",
      "140/145, train_loss: 0.007916, time taken: 0.899299144744873s\n"
     ]
    },
    {
     "name": "stderr",
     "output_type": "stream",
     "text": [
      "2024-06-07 13:41 INFO epoch 217 average loss: 0.0079\n"
     ]
    },
    {
     "name": "stdout",
     "output_type": "stream",
     "text": [
      "epoch 217 average loss: 0.0079\n",
      "----------\n",
      "epoch 218/360\n",
      "10/145, train_loss: 0.011413, time taken: 0.9036951065063477s\n",
      "20/145, train_loss: 0.007988, time taken: 0.8896439075469971s\n",
      "30/145, train_loss: 0.008332, time taken: 0.9011311531066895s\n",
      "40/145, train_loss: 0.009621, time taken: 0.8875095844268799s\n",
      "50/145, train_loss: 0.009407, time taken: 0.9128336906433105s\n",
      "60/145, train_loss: 0.008679, time taken: 0.9138762950897217s\n",
      "70/145, train_loss: 0.008374, time taken: 0.887624979019165s\n",
      "80/145, train_loss: 0.008867, time taken: 0.9031493663787842s\n",
      "90/145, train_loss: 0.008629, time taken: 0.899355411529541s\n",
      "100/145, train_loss: 0.009369, time taken: 0.8982923030853271s\n",
      "110/145, train_loss: 0.010280, time taken: 0.892301082611084s\n",
      "120/145, train_loss: 0.010251, time taken: 0.8906562328338623s\n",
      "130/145, train_loss: 0.010143, time taken: 0.8889095783233643s\n",
      "140/145, train_loss: 0.010044, time taken: 0.8692035675048828s\n"
     ]
    },
    {
     "name": "stderr",
     "output_type": "stream",
     "text": [
      "2024-06-07 13:43 INFO epoch 218 average loss: 0.0097\n"
     ]
    },
    {
     "name": "stdout",
     "output_type": "stream",
     "text": [
      "epoch 218 average loss: 0.0097\n",
      "----------\n",
      "epoch 219/360\n",
      "10/145, train_loss: 0.010286, time taken: 0.9074113368988037s\n",
      "20/145, train_loss: 0.010898, time taken: 0.8994936943054199s\n",
      "30/145, train_loss: 0.011281, time taken: 0.8911416530609131s\n",
      "40/145, train_loss: 0.010368, time taken: 0.8722579479217529s\n",
      "50/145, train_loss: 0.009656, time taken: 0.8711538314819336s\n",
      "60/145, train_loss: 0.008828, time taken: 0.9280719757080078s\n",
      "70/145, train_loss: 0.010107, time taken: 0.891139030456543s\n",
      "80/145, train_loss: 0.010568, time taken: 0.9247241020202637s\n",
      "90/145, train_loss: 0.011665, time taken: 0.8963134288787842s\n",
      "100/145, train_loss: 0.011258, time taken: 0.8775110244750977s\n",
      "110/145, train_loss: 0.011569, time taken: 0.9058694839477539s\n",
      "120/145, train_loss: 0.012587, time taken: 0.8771088123321533s\n",
      "130/145, train_loss: 0.012653, time taken: 0.8945446014404297s\n",
      "140/145, train_loss: 0.012455, time taken: 0.877826452255249s\n"
     ]
    },
    {
     "name": "stderr",
     "output_type": "stream",
     "text": [
      "2024-06-07 13:45 INFO epoch 219 average loss: 0.0112\n"
     ]
    },
    {
     "name": "stdout",
     "output_type": "stream",
     "text": [
      "epoch 219 average loss: 0.0112\n",
      "----------\n",
      "epoch 220/360\n",
      "10/145, train_loss: 0.010629, time taken: 0.9063613414764404s\n",
      "20/145, train_loss: 0.016779, time taken: 0.8953900337219238s\n",
      "30/145, train_loss: 0.014379, time taken: 0.9152874946594238s\n",
      "40/145, train_loss: 0.012302, time taken: 0.9068942070007324s\n",
      "50/145, train_loss: 0.011795, time taken: 0.8945600986480713s\n",
      "60/145, train_loss: 0.011587, time taken: 0.8945705890655518s\n",
      "70/145, train_loss: 0.011361, time taken: 0.8868203163146973s\n",
      "80/145, train_loss: 0.010836, time taken: 0.8929827213287354s\n",
      "90/145, train_loss: 0.010145, time taken: 0.9062790870666504s\n",
      "100/145, train_loss: 0.010137, time taken: 0.909888505935669s\n",
      "110/145, train_loss: 0.009904, time taken: 0.9092550277709961s\n",
      "120/145, train_loss: 0.009414, time taken: 0.888275146484375s\n",
      "130/145, train_loss: 0.009048, time taken: 0.8720734119415283s\n",
      "140/145, train_loss: 0.009402, time taken: 0.8715798854827881s\n"
     ]
    },
    {
     "name": "stderr",
     "output_type": "stream",
     "text": [
      "2024-06-07 13:48 INFO epoch 220 average loss: 0.0112\n"
     ]
    },
    {
     "name": "stdout",
     "output_type": "stream",
     "text": [
      "epoch 220 average loss: 0.0112\n",
      "----------\n",
      "epoch 221/360\n",
      "10/145, train_loss: 0.002494, time taken: 0.9169940948486328s\n",
      "20/145, train_loss: 0.006458, time taken: 0.8917026519775391s\n",
      "30/145, train_loss: 0.008918, time taken: 0.9059977531433105s\n",
      "40/145, train_loss: 0.007307, time taken: 0.9046616554260254s\n",
      "50/145, train_loss: 0.009197, time taken: 0.9257044792175293s\n",
      "60/145, train_loss: 0.008278, time taken: 0.8969788551330566s\n",
      "70/145, train_loss: 0.007761, time taken: 0.8858437538146973s\n",
      "80/145, train_loss: 0.009351, time taken: 0.9028682708740234s\n",
      "90/145, train_loss: 0.009443, time taken: 0.9078607559204102s\n",
      "100/145, train_loss: 0.009101, time taken: 0.8974041938781738s\n",
      "110/145, train_loss: 0.008691, time taken: 0.8957922458648682s\n",
      "120/145, train_loss: 0.009006, time taken: 0.9068121910095215s\n",
      "130/145, train_loss: 0.008932, time taken: 0.9006032943725586s\n",
      "140/145, train_loss: 0.009305, time taken: 0.9115240573883057s\n"
     ]
    },
    {
     "name": "stderr",
     "output_type": "stream",
     "text": [
      "2024-06-07 13:50 INFO epoch 221 average loss: 0.0082\n"
     ]
    },
    {
     "name": "stdout",
     "output_type": "stream",
     "text": [
      "epoch 221 average loss: 0.0082\n",
      "----------\n",
      "epoch 222/360\n",
      "10/145, train_loss: 0.007789, time taken: 0.9891467094421387s\n",
      "20/145, train_loss: 0.007328, time taken: 0.875176191329956s\n",
      "30/145, train_loss: 0.009975, time taken: 0.8895940780639648s\n",
      "40/145, train_loss: 0.008433, time taken: 0.8954992294311523s\n",
      "50/145, train_loss: 0.008679, time taken: 0.8843598365783691s\n",
      "60/145, train_loss: 0.010577, time taken: 0.8883209228515625s\n",
      "70/145, train_loss: 0.011369, time taken: 0.8861720561981201s\n",
      "80/145, train_loss: 0.012269, time taken: 0.8805782794952393s\n",
      "90/145, train_loss: 0.012171, time taken: 0.9013807773590088s\n",
      "100/145, train_loss: 0.011754, time taken: 0.8978385925292969s\n",
      "110/145, train_loss: 0.011644, time taken: 0.9277071952819824s\n",
      "120/145, train_loss: 0.012428, time taken: 0.9076197147369385s\n",
      "130/145, train_loss: 0.012960, time taken: 0.8896293640136719s\n",
      "140/145, train_loss: 0.012769, time taken: 0.8909931182861328s\n"
     ]
    },
    {
     "name": "stderr",
     "output_type": "stream",
     "text": [
      "2024-06-07 13:52 INFO epoch 222 average loss: 0.0110\n"
     ]
    },
    {
     "name": "stdout",
     "output_type": "stream",
     "text": [
      "epoch 222 average loss: 0.0110\n",
      "----------\n",
      "epoch 223/360\n",
      "10/145, train_loss: 0.019056, time taken: 0.9065923690795898s\n",
      "20/145, train_loss: 0.013538, time taken: 0.8823468685150146s\n",
      "30/145, train_loss: 0.012468, time taken: 0.8920321464538574s\n",
      "40/145, train_loss: 0.012158, time taken: 0.8871002197265625s\n",
      "50/145, train_loss: 0.012587, time taken: 0.9065282344818115s\n",
      "60/145, train_loss: 0.012984, time taken: 0.8901262283325195s\n",
      "70/145, train_loss: 0.012741, time taken: 0.8937008380889893s\n",
      "80/145, train_loss: 0.012195, time taken: 0.8908922672271729s\n",
      "90/145, train_loss: 0.011458, time taken: 0.8877277374267578s\n",
      "100/145, train_loss: 0.011164, time taken: 0.8866763114929199s\n",
      "110/145, train_loss: 0.010952, time taken: 0.8922634124755859s\n",
      "120/145, train_loss: 0.011156, time taken: 0.871157169342041s\n",
      "130/145, train_loss: 0.010947, time taken: 0.880183219909668s\n",
      "140/145, train_loss: 0.010218, time taken: 0.8762257099151611s\n"
     ]
    },
    {
     "name": "stderr",
     "output_type": "stream",
     "text": [
      "2024-06-07 13:54 INFO epoch 223 average loss: 0.0125\n"
     ]
    },
    {
     "name": "stdout",
     "output_type": "stream",
     "text": [
      "epoch 223 average loss: 0.0125\n",
      "----------\n",
      "epoch 224/360\n",
      "10/145, train_loss: 0.008345, time taken: 0.9029037952423096s\n",
      "20/145, train_loss: 0.005356, time taken: 0.9391169548034668s\n",
      "30/145, train_loss: 0.007416, time taken: 0.8672454357147217s\n",
      "40/145, train_loss: 0.007580, time taken: 0.9017221927642822s\n",
      "50/145, train_loss: 0.007436, time taken: 0.903548002243042s\n",
      "60/145, train_loss: 0.007266, time taken: 0.9013931751251221s\n",
      "70/145, train_loss: 0.008019, time taken: 0.8840525150299072s\n",
      "80/145, train_loss: 0.008449, time taken: 0.9723358154296875s\n",
      "90/145, train_loss: 0.008704, time taken: 0.9084689617156982s\n",
      "100/145, train_loss: 0.009380, time taken: 0.9064605236053467s\n",
      "110/145, train_loss: 0.012022, time taken: 0.9048783779144287s\n",
      "120/145, train_loss: 0.012526, time taken: 0.8992938995361328s\n",
      "130/145, train_loss: 0.013547, time taken: 0.9062743186950684s\n",
      "140/145, train_loss: 0.013072, time taken: 0.874401330947876s\n"
     ]
    },
    {
     "name": "stderr",
     "output_type": "stream",
     "text": [
      "2024-06-07 13:56 INFO epoch 224 average loss: 0.0091\n"
     ]
    },
    {
     "name": "stdout",
     "output_type": "stream",
     "text": [
      "epoch 224 average loss: 0.0091\n",
      "----------\n",
      "epoch 225/360\n",
      "10/145, train_loss: 0.013290, time taken: 0.8906195163726807s\n",
      "20/145, train_loss: 0.014890, time taken: 0.9164092540740967s\n",
      "30/145, train_loss: 0.014153, time taken: 0.9101197719573975s\n",
      "40/145, train_loss: 0.012269, time taken: 0.9082443714141846s\n",
      "50/145, train_loss: 0.012232, time taken: 0.923579216003418s\n",
      "60/145, train_loss: 0.012753, time taken: 0.9058020114898682s\n",
      "70/145, train_loss: 0.013231, time taken: 0.9104206562042236s\n",
      "80/145, train_loss: 0.012965, time taken: 0.9123985767364502s\n",
      "90/145, train_loss: 0.013436, time taken: 0.8829867839813232s\n",
      "100/145, train_loss: 0.013753, time taken: 0.9191231727600098s\n",
      "110/145, train_loss: 0.013418, time taken: 0.8888528347015381s\n",
      "120/145, train_loss: 0.013218, time taken: 0.8762400150299072s\n",
      "130/145, train_loss: 0.013361, time taken: 0.8853464126586914s\n",
      "140/145, train_loss: 0.013478, time taken: 0.9043171405792236s\n"
     ]
    },
    {
     "name": "stderr",
     "output_type": "stream",
     "text": [
      "2024-06-07 13:59 INFO epoch 225 average loss: 0.0136\n"
     ]
    },
    {
     "name": "stdout",
     "output_type": "stream",
     "text": [
      "epoch 225 average loss: 0.0136\n",
      "----------\n",
      "epoch 226/360\n",
      "10/145, train_loss: 0.017878, time taken: 0.8807051181793213s\n",
      "20/145, train_loss: 0.013742, time taken: 0.8763024806976318s\n",
      "30/145, train_loss: 0.014562, time taken: 0.8749241828918457s\n",
      "40/145, train_loss: 0.012159, time taken: 0.8851447105407715s\n",
      "50/145, train_loss: 0.011310, time taken: 0.8827188014984131s\n",
      "60/145, train_loss: 0.011724, time taken: 0.8948204517364502s\n",
      "70/145, train_loss: 0.012703, time taken: 0.9172782897949219s\n",
      "80/145, train_loss: 0.012730, time taken: 0.8819000720977783s\n",
      "90/145, train_loss: 0.011747, time taken: 0.8799285888671875s\n",
      "100/145, train_loss: 0.012184, time taken: 0.8964898586273193s\n",
      "110/145, train_loss: 0.012094, time taken: 0.8742930889129639s\n",
      "120/145, train_loss: 0.011293, time taken: 0.9075801372528076s\n",
      "130/145, train_loss: 0.011110, time taken: 0.8868300914764404s\n",
      "140/145, train_loss: 0.011238, time taken: 0.8766207695007324s\n"
     ]
    },
    {
     "name": "stderr",
     "output_type": "stream",
     "text": [
      "2024-06-07 14:01 INFO epoch 226 average loss: 0.0135\n"
     ]
    },
    {
     "name": "stdout",
     "output_type": "stream",
     "text": [
      "epoch 226 average loss: 0.0135\n",
      "----------\n",
      "epoch 227/360\n",
      "10/145, train_loss: 0.007225, time taken: 0.9050757884979248s\n",
      "20/145, train_loss: 0.005570, time taken: 0.8736281394958496s\n",
      "30/145, train_loss: 0.005497, time taken: 0.8958816528320312s\n",
      "40/145, train_loss: 0.007740, time taken: 0.9008181095123291s\n",
      "50/145, train_loss: 0.009029, time taken: 0.9123327732086182s\n",
      "60/145, train_loss: 0.008854, time taken: 0.9156811237335205s\n",
      "70/145, train_loss: 0.009143, time taken: 0.9103150367736816s\n",
      "80/145, train_loss: 0.010387, time taken: 0.8822154998779297s\n",
      "90/145, train_loss: 0.011707, time taken: 0.9214382171630859s\n",
      "100/145, train_loss: 0.012856, time taken: 0.8725664615631104s\n",
      "110/145, train_loss: 0.012756, time taken: 0.8956880569458008s\n",
      "120/145, train_loss: 0.012836, time taken: 0.9938719272613525s\n",
      "130/145, train_loss: 0.013371, time taken: 0.9016339778900146s\n",
      "140/145, train_loss: 0.012783, time taken: 0.8874619007110596s\n"
     ]
    },
    {
     "name": "stderr",
     "output_type": "stream",
     "text": [
      "2024-06-07 14:03 INFO epoch 227 average loss: 0.0098\n"
     ]
    },
    {
     "name": "stdout",
     "output_type": "stream",
     "text": [
      "epoch 227 average loss: 0.0098\n",
      "----------\n",
      "epoch 228/360\n",
      "10/145, train_loss: 0.014373, time taken: 0.8757810592651367s\n",
      "20/145, train_loss: 0.019988, time taken: 0.9036471843719482s\n",
      "30/145, train_loss: 0.019575, time taken: 0.8994522094726562s\n",
      "40/145, train_loss: 0.018163, time taken: 0.9063100814819336s\n",
      "50/145, train_loss: 0.016486, time taken: 0.8863999843597412s\n",
      "60/145, train_loss: 0.014619, time taken: 0.8930721282958984s\n",
      "70/145, train_loss: 0.014192, time taken: 0.8813769817352295s\n",
      "80/145, train_loss: 0.013723, time taken: 0.8768539428710938s\n",
      "90/145, train_loss: 0.012973, time taken: 0.8771841526031494s\n",
      "100/145, train_loss: 0.012358, time taken: 0.8823797702789307s\n",
      "110/145, train_loss: 0.011985, time taken: 0.8792734146118164s\n",
      "120/145, train_loss: 0.011622, time taken: 0.8943347930908203s\n",
      "130/145, train_loss: 0.011664, time taken: 0.906541109085083s\n",
      "140/145, train_loss: 0.012104, time taken: 0.9065485000610352s\n"
     ]
    },
    {
     "name": "stderr",
     "output_type": "stream",
     "text": [
      "2024-06-07 14:05 INFO epoch 228 average loss: 0.0155\n"
     ]
    },
    {
     "name": "stdout",
     "output_type": "stream",
     "text": [
      "epoch 228 average loss: 0.0155\n",
      "----------\n",
      "epoch 229/360\n",
      "10/145, train_loss: 0.014731, time taken: 0.8891706466674805s\n",
      "20/145, train_loss: 0.013008, time taken: 0.8972644805908203s\n",
      "30/145, train_loss: 0.008980, time taken: 0.8920948505401611s\n",
      "40/145, train_loss: 0.009018, time taken: 0.8964812755584717s\n",
      "50/145, train_loss: 0.007757, time taken: 0.9059581756591797s\n",
      "60/145, train_loss: 0.008934, time taken: 0.883944034576416s\n",
      "70/145, train_loss: 0.010128, time taken: 0.9179270267486572s\n",
      "80/145, train_loss: 0.010863, time taken: 0.8835110664367676s\n",
      "90/145, train_loss: 0.011543, time taken: 0.9064157009124756s\n",
      "100/145, train_loss: 0.011776, time taken: 0.9000861644744873s\n",
      "110/145, train_loss: 0.010885, time taken: 0.8815433979034424s\n",
      "120/145, train_loss: 0.010615, time taken: 0.9001836776733398s\n",
      "130/145, train_loss: 0.010650, time taken: 0.8887560367584229s\n",
      "140/145, train_loss: 0.010816, time taken: 0.8874094486236572s\n"
     ]
    },
    {
     "name": "stderr",
     "output_type": "stream",
     "text": [
      "2024-06-07 14:07 INFO epoch 229 average loss: 0.0109\n"
     ]
    },
    {
     "name": "stdout",
     "output_type": "stream",
     "text": [
      "epoch 229 average loss: 0.0109\n",
      "----------\n",
      "epoch 230/360\n",
      "10/145, train_loss: 0.008106, time taken: 0.9040141105651855s\n",
      "20/145, train_loss: 0.013462, time taken: 0.8843221664428711s\n",
      "30/145, train_loss: 0.017705, time taken: 0.8739080429077148s\n",
      "40/145, train_loss: 0.016145, time taken: 0.8728656768798828s\n",
      "50/145, train_loss: 0.015583, time taken: 0.9129879474639893s\n",
      "60/145, train_loss: 0.014082, time taken: 0.8944222927093506s\n",
      "70/145, train_loss: 0.012535, time taken: 0.8854959011077881s\n",
      "80/145, train_loss: 0.011856, time taken: 0.9715368747711182s\n",
      "90/145, train_loss: 0.012583, time taken: 0.9000535011291504s\n",
      "100/145, train_loss: 0.012382, time taken: 0.8873453140258789s\n",
      "110/145, train_loss: 0.012162, time taken: 0.8754842281341553s\n",
      "120/145, train_loss: 0.011389, time taken: 0.8918642997741699s\n",
      "130/145, train_loss: 0.010879, time taken: 0.8894200325012207s\n",
      "140/145, train_loss: 0.010481, time taken: 0.8762998580932617s\n"
     ]
    },
    {
     "name": "stderr",
     "output_type": "stream",
     "text": [
      "2024-06-07 14:10 INFO epoch 230 average loss: 0.0134\n"
     ]
    },
    {
     "name": "stdout",
     "output_type": "stream",
     "text": [
      "epoch 230 average loss: 0.0134\n",
      "----------\n",
      "epoch 231/360\n",
      "10/145, train_loss: 0.009381, time taken: 0.931466817855835s\n",
      "20/145, train_loss: 0.009985, time taken: 0.8892345428466797s\n",
      "30/145, train_loss: 0.007186, time taken: 0.8849692344665527s\n",
      "40/145, train_loss: 0.006742, time taken: 0.8859167098999023s\n",
      "50/145, train_loss: 0.006291, time taken: 0.8890633583068848s\n",
      "60/145, train_loss: 0.006137, time taken: 0.8753499984741211s\n",
      "70/145, train_loss: 0.006156, time taken: 0.9792017936706543s\n",
      "80/145, train_loss: 0.008539, time taken: 0.8869485855102539s\n",
      "90/145, train_loss: 0.010339, time taken: 0.9220445156097412s\n",
      "100/145, train_loss: 0.010271, time taken: 0.8680763244628906s\n",
      "110/145, train_loss: 0.010867, time taken: 0.8729712963104248s\n",
      "120/145, train_loss: 0.012139, time taken: 0.9158987998962402s\n",
      "130/145, train_loss: 0.012346, time taken: 0.886223316192627s\n",
      "140/145, train_loss: 0.012170, time taken: 0.890892744064331s\n"
     ]
    },
    {
     "name": "stderr",
     "output_type": "stream",
     "text": [
      "2024-06-07 14:12 INFO epoch 231 average loss: 0.0091\n"
     ]
    },
    {
     "name": "stdout",
     "output_type": "stream",
     "text": [
      "epoch 231 average loss: 0.0091\n",
      "----------\n",
      "epoch 232/360\n",
      "10/145, train_loss: 0.013504, time taken: 0.9077084064483643s\n",
      "20/145, train_loss: 0.012236, time taken: 0.9082126617431641s\n",
      "30/145, train_loss: 0.011780, time taken: 0.9116075038909912s\n",
      "40/145, train_loss: 0.011682, time taken: 0.9018764495849609s\n",
      "50/145, train_loss: 0.012236, time taken: 0.9009573459625244s\n",
      "60/145, train_loss: 0.011234, time taken: 0.8978509902954102s\n",
      "70/145, train_loss: 0.011819, time taken: 0.8866183757781982s\n",
      "80/145, train_loss: 0.012107, time taken: 0.898181676864624s\n",
      "90/145, train_loss: 0.011445, time taken: 0.8808667659759521s\n",
      "100/145, train_loss: 0.011413, time taken: 0.9103002548217773s\n",
      "110/145, train_loss: 0.011531, time taken: 0.9135239124298096s\n",
      "120/145, train_loss: 0.011063, time taken: 0.9006800651550293s\n",
      "130/145, train_loss: 0.011076, time taken: 0.8872926235198975s\n",
      "140/145, train_loss: 0.011986, time taken: 0.8821961879730225s\n"
     ]
    },
    {
     "name": "stderr",
     "output_type": "stream",
     "text": [
      "2024-06-07 14:14 INFO epoch 232 average loss: 0.0117\n"
     ]
    },
    {
     "name": "stdout",
     "output_type": "stream",
     "text": [
      "epoch 232 average loss: 0.0117\n",
      "----------\n",
      "epoch 233/360\n",
      "10/145, train_loss: 0.008939, time taken: 0.8774464130401611s\n",
      "20/145, train_loss: 0.011571, time taken: 0.9133050441741943s\n",
      "30/145, train_loss: 0.020486, time taken: 0.8992202281951904s\n",
      "40/145, train_loss: 0.017814, time taken: 0.8995180130004883s\n",
      "50/145, train_loss: 0.016293, time taken: 0.893449068069458s\n",
      "60/145, train_loss: 0.014900, time taken: 0.888084888458252s\n",
      "70/145, train_loss: 0.014740, time taken: 0.879767894744873s\n",
      "80/145, train_loss: 0.015179, time taken: 0.9001908302307129s\n",
      "90/145, train_loss: 0.014662, time taken: 0.885113000869751s\n",
      "100/145, train_loss: 0.015886, time taken: 0.8915901184082031s\n",
      "110/145, train_loss: 0.017368, time taken: 0.8997128009796143s\n",
      "120/145, train_loss: 0.017824, time taken: 0.883674144744873s\n",
      "130/145, train_loss: 0.017360, time taken: 0.9078719615936279s\n",
      "140/145, train_loss: 0.016705, time taken: 0.9046022891998291s\n"
     ]
    },
    {
     "name": "stderr",
     "output_type": "stream",
     "text": [
      "2024-06-07 14:16 INFO epoch 233 average loss: 0.0156\n"
     ]
    },
    {
     "name": "stdout",
     "output_type": "stream",
     "text": [
      "epoch 233 average loss: 0.0156\n",
      "----------\n",
      "epoch 234/360\n",
      "10/145, train_loss: 0.013545, time taken: 0.9035172462463379s\n",
      "20/145, train_loss: 0.010573, time taken: 0.8976564407348633s\n",
      "30/145, train_loss: 0.010221, time taken: 0.8876287937164307s\n",
      "40/145, train_loss: 0.009540, time taken: 0.9030201435089111s\n",
      "50/145, train_loss: 0.008227, time taken: 0.8921661376953125s\n",
      "60/145, train_loss: 0.007241, time taken: 0.9160985946655273s\n",
      "70/145, train_loss: 0.006618, time taken: 0.8954060077667236s\n",
      "80/145, train_loss: 0.007463, time taken: 0.894749641418457s\n",
      "90/145, train_loss: 0.007750, time taken: 0.9168088436126709s\n",
      "100/145, train_loss: 0.007227, time taken: 0.8986470699310303s\n",
      "110/145, train_loss: 0.007139, time taken: 0.8967268466949463s\n",
      "120/145, train_loss: 0.007108, time taken: 0.8944168090820312s\n",
      "130/145, train_loss: 0.006921, time taken: 0.8986015319824219s\n",
      "140/145, train_loss: 0.006686, time taken: 0.884211540222168s\n"
     ]
    },
    {
     "name": "stderr",
     "output_type": "stream",
     "text": [
      "2024-06-07 14:18 INFO epoch 234 average loss: 0.0078\n"
     ]
    },
    {
     "name": "stdout",
     "output_type": "stream",
     "text": [
      "epoch 234 average loss: 0.0078\n",
      "----------\n",
      "epoch 235/360\n",
      "10/145, train_loss: 0.006141, time taken: 0.8835749626159668s\n",
      "20/145, train_loss: 0.005542, time taken: 0.8775424957275391s\n",
      "30/145, train_loss: 0.009262, time taken: 0.8832097053527832s\n",
      "40/145, train_loss: 0.010569, time taken: 0.8743891716003418s\n",
      "50/145, train_loss: 0.010472, time taken: 0.8939695358276367s\n",
      "60/145, train_loss: 0.010037, time taken: 0.883831262588501s\n",
      "70/145, train_loss: 0.009804, time taken: 0.8769447803497314s\n",
      "80/145, train_loss: 0.009803, time taken: 0.8983442783355713s\n",
      "90/145, train_loss: 0.009283, time taken: 0.8824589252471924s\n",
      "100/145, train_loss: 0.009731, time taken: 0.9092154502868652s\n",
      "110/145, train_loss: 0.010075, time taken: 0.887376070022583s\n",
      "120/145, train_loss: 0.011153, time taken: 0.887951135635376s\n",
      "130/145, train_loss: 0.011069, time taken: 0.8909626007080078s\n",
      "140/145, train_loss: 0.011050, time taken: 0.8852534294128418s\n"
     ]
    },
    {
     "name": "stderr",
     "output_type": "stream",
     "text": [
      "2024-06-07 14:21 INFO epoch 235 average loss: 0.0094\n"
     ]
    },
    {
     "name": "stdout",
     "output_type": "stream",
     "text": [
      "epoch 235 average loss: 0.0094\n",
      "----------\n",
      "epoch 236/360\n",
      "10/145, train_loss: 0.015130, time taken: 0.987778902053833s\n",
      "20/145, train_loss: 0.011678, time taken: 0.8833374977111816s\n",
      "30/145, train_loss: 0.015614, time taken: 0.8987472057342529s\n",
      "40/145, train_loss: 0.015274, time taken: 0.9046497344970703s\n",
      "50/145, train_loss: 0.013345, time taken: 0.9207649230957031s\n",
      "60/145, train_loss: 0.011797, time taken: 0.9120733737945557s\n",
      "70/145, train_loss: 0.010857, time taken: 0.8890323638916016s\n",
      "80/145, train_loss: 0.010394, time taken: 0.910637378692627s\n",
      "90/145, train_loss: 0.010535, time taken: 0.8852157592773438s\n",
      "100/145, train_loss: 0.009656, time taken: 0.8870790004730225s\n",
      "110/145, train_loss: 0.009335, time taken: 0.8874917030334473s\n",
      "120/145, train_loss: 0.009686, time taken: 0.9041132926940918s\n",
      "130/145, train_loss: 0.009473, time taken: 0.9073312282562256s\n",
      "140/145, train_loss: 0.009333, time taken: 0.869469165802002s\n"
     ]
    },
    {
     "name": "stderr",
     "output_type": "stream",
     "text": [
      "2024-06-07 14:23 INFO epoch 236 average loss: 0.0121\n"
     ]
    },
    {
     "name": "stdout",
     "output_type": "stream",
     "text": [
      "epoch 236 average loss: 0.0121\n",
      "----------\n",
      "epoch 237/360\n",
      "10/145, train_loss: 0.004268, time taken: 0.8783106803894043s\n",
      "20/145, train_loss: 0.006765, time taken: 0.8772790431976318s\n",
      "30/145, train_loss: 0.006473, time taken: 0.8858942985534668s\n",
      "40/145, train_loss: 0.006168, time taken: 0.8881423473358154s\n",
      "50/145, train_loss: 0.007038, time taken: 0.8955104351043701s\n",
      "60/145, train_loss: 0.011304, time taken: 0.8752000331878662s\n",
      "70/145, train_loss: 0.010604, time taken: 0.8989207744598389s\n",
      "80/145, train_loss: 0.010718, time taken: 0.8800883293151855s\n",
      "90/145, train_loss: 0.010462, time taken: 0.910696268081665s\n",
      "100/145, train_loss: 0.010919, time taken: 0.8799765110015869s\n",
      "110/145, train_loss: 0.011372, time taken: 0.8688342571258545s\n",
      "120/145, train_loss: 0.010949, time taken: 0.887021541595459s\n",
      "130/145, train_loss: 0.010975, time taken: 0.900221586227417s\n",
      "140/145, train_loss: 0.011072, time taken: 0.9023613929748535s\n"
     ]
    },
    {
     "name": "stderr",
     "output_type": "stream",
     "text": [
      "2024-06-07 14:25 INFO epoch 237 average loss: 0.0092\n"
     ]
    },
    {
     "name": "stdout",
     "output_type": "stream",
     "text": [
      "epoch 237 average loss: 0.0092\n",
      "----------\n",
      "epoch 238/360\n",
      "10/145, train_loss: 0.018147, time taken: 0.9037172794342041s\n",
      "20/145, train_loss: 0.015250, time taken: 0.8908717632293701s\n",
      "30/145, train_loss: 0.013332, time taken: 0.8826205730438232s\n",
      "40/145, train_loss: 0.011499, time taken: 0.8855416774749756s\n",
      "50/145, train_loss: 0.014495, time taken: 0.9098875522613525s\n",
      "60/145, train_loss: 0.014879, time taken: 0.8812637329101562s\n",
      "70/145, train_loss: 0.015125, time taken: 0.897789478302002s\n",
      "80/145, train_loss: 0.015053, time taken: 0.9990522861480713s\n",
      "90/145, train_loss: 0.014107, time taken: 0.8892500400543213s\n",
      "100/145, train_loss: 0.014490, time taken: 0.8870298862457275s\n",
      "110/145, train_loss: 0.014270, time taken: 0.9094400405883789s\n",
      "120/145, train_loss: 0.013490, time taken: 0.8772406578063965s\n",
      "130/145, train_loss: 0.013101, time taken: 0.8899705410003662s\n",
      "140/145, train_loss: 0.013273, time taken: 0.9122445583343506s\n"
     ]
    },
    {
     "name": "stderr",
     "output_type": "stream",
     "text": [
      "2024-06-07 14:27 INFO epoch 238 average loss: 0.0144\n"
     ]
    },
    {
     "name": "stdout",
     "output_type": "stream",
     "text": [
      "epoch 238 average loss: 0.0144\n",
      "----------\n",
      "epoch 239/360\n",
      "10/145, train_loss: 0.009168, time taken: 0.9131803512573242s\n",
      "20/145, train_loss: 0.007734, time taken: 0.8842263221740723s\n",
      "30/145, train_loss: 0.010435, time taken: 0.8727307319641113s\n",
      "40/145, train_loss: 0.008830, time taken: 0.9055900573730469s\n",
      "50/145, train_loss: 0.010888, time taken: 0.8901407718658447s\n",
      "60/145, train_loss: 0.010206, time taken: 0.9046721458435059s\n",
      "70/145, train_loss: 0.009777, time taken: 0.9062967300415039s\n",
      "80/145, train_loss: 0.009320, time taken: 0.9126596450805664s\n",
      "90/145, train_loss: 0.009818, time taken: 0.8967337608337402s\n",
      "100/145, train_loss: 0.009963, time taken: 0.9024229049682617s\n",
      "110/145, train_loss: 0.009856, time taken: 0.8761012554168701s\n",
      "120/145, train_loss: 0.010108, time taken: 0.8947641849517822s\n",
      "130/145, train_loss: 0.009691, time taken: 0.885303258895874s\n",
      "140/145, train_loss: 0.009607, time taken: 0.8843016624450684s\n"
     ]
    },
    {
     "name": "stderr",
     "output_type": "stream",
     "text": [
      "2024-06-07 14:29 INFO epoch 239 average loss: 0.0094\n"
     ]
    },
    {
     "name": "stdout",
     "output_type": "stream",
     "text": [
      "epoch 239 average loss: 0.0094\n",
      "----------\n",
      "epoch 240/360\n",
      "10/145, train_loss: 0.003670, time taken: 0.8803977966308594s\n",
      "20/145, train_loss: 0.006407, time taken: 0.8932521343231201s\n",
      "30/145, train_loss: 0.008672, time taken: 0.8983285427093506s\n",
      "40/145, train_loss: 0.011603, time taken: 0.8921356201171875s\n",
      "50/145, train_loss: 0.012107, time taken: 0.8796751499176025s\n",
      "60/145, train_loss: 0.012934, time taken: 0.8799359798431396s\n",
      "70/145, train_loss: 0.012761, time taken: 0.8833553791046143s\n",
      "80/145, train_loss: 0.012141, time taken: 0.8756554126739502s\n",
      "90/145, train_loss: 0.012347, time taken: 0.9026343822479248s\n",
      "100/145, train_loss: 0.011588, time taken: 0.8860766887664795s\n",
      "110/145, train_loss: 0.012120, time taken: 0.9097201824188232s\n",
      "120/145, train_loss: 0.011948, time taken: 0.8799748420715332s\n",
      "130/145, train_loss: 0.011389, time taken: 0.9467194080352783s\n",
      "140/145, train_loss: 0.011545, time taken: 0.88309645652771s\n"
     ]
    },
    {
     "name": "stderr",
     "output_type": "stream",
     "text": [
      "2024-06-07 14:32 INFO epoch 240 average loss: 0.0105\n"
     ]
    },
    {
     "name": "stdout",
     "output_type": "stream",
     "text": [
      "epoch 240 average loss: 0.0105\n",
      "----------\n",
      "epoch 241/360\n",
      "10/145, train_loss: 0.019320, time taken: 0.894181489944458s\n",
      "20/145, train_loss: 0.020904, time taken: 0.8813169002532959s\n",
      "30/145, train_loss: 0.020248, time taken: 0.9081978797912598s\n",
      "40/145, train_loss: 0.017159, time taken: 0.8968491554260254s\n",
      "50/145, train_loss: 0.016804, time taken: 0.8750979900360107s\n",
      "60/145, train_loss: 0.016146, time taken: 0.8750252723693848s\n",
      "70/145, train_loss: 0.014752, time taken: 0.9223721027374268s\n",
      "80/145, train_loss: 0.013886, time taken: 0.9082562923431396s\n",
      "90/145, train_loss: 0.012873, time taken: 0.8860406875610352s\n",
      "100/145, train_loss: 0.012187, time taken: 0.9122700691223145s\n",
      "110/145, train_loss: 0.011706, time taken: 0.8818628787994385s\n",
      "120/145, train_loss: 0.011304, time taken: 0.9760866165161133s\n",
      "130/145, train_loss: 0.011280, time taken: 0.9374589920043945s\n",
      "140/145, train_loss: 0.010736, time taken: 0.9016554355621338s\n"
     ]
    },
    {
     "name": "stderr",
     "output_type": "stream",
     "text": [
      "2024-06-07 14:34 INFO epoch 241 average loss: 0.0149\n"
     ]
    },
    {
     "name": "stdout",
     "output_type": "stream",
     "text": [
      "epoch 241 average loss: 0.0149\n",
      "----------\n",
      "epoch 242/360\n",
      "10/145, train_loss: 0.006611, time taken: 0.8793392181396484s\n",
      "20/145, train_loss: 0.008888, time taken: 0.8908689022064209s\n",
      "30/145, train_loss: 0.013865, time taken: 0.886253833770752s\n",
      "40/145, train_loss: 0.015167, time taken: 0.88258957862854s\n",
      "50/145, train_loss: 0.014287, time taken: 0.8724942207336426s\n",
      "60/145, train_loss: 0.012898, time taken: 0.8905694484710693s\n",
      "70/145, train_loss: 0.012479, time taken: 0.9029138088226318s\n",
      "80/145, train_loss: 0.011357, time taken: 0.88608717918396s\n",
      "90/145, train_loss: 0.011222, time taken: 0.8943657875061035s\n",
      "100/145, train_loss: 0.011339, time taken: 0.9036495685577393s\n",
      "110/145, train_loss: 0.010747, time taken: 0.9016671180725098s\n",
      "120/145, train_loss: 0.012411, time taken: 0.8837223052978516s\n",
      "130/145, train_loss: 0.014676, time taken: 0.8888366222381592s\n",
      "140/145, train_loss: 0.016226, time taken: 0.8949170112609863s\n"
     ]
    },
    {
     "name": "stderr",
     "output_type": "stream",
     "text": [
      "2024-06-07 14:36 INFO epoch 242 average loss: 0.0124\n"
     ]
    },
    {
     "name": "stdout",
     "output_type": "stream",
     "text": [
      "epoch 242 average loss: 0.0124\n",
      "----------\n",
      "epoch 243/360\n",
      "10/145, train_loss: 0.017563, time taken: 0.8879377841949463s\n",
      "20/145, train_loss: 0.023194, time taken: 0.8895020484924316s\n",
      "30/145, train_loss: 0.022475, time taken: 0.9116706848144531s\n",
      "40/145, train_loss: 0.020198, time taken: 0.894477128982544s\n",
      "50/145, train_loss: 0.020233, time taken: 0.8880906105041504s\n",
      "60/145, train_loss: 0.021870, time taken: 0.8851444721221924s\n",
      "70/145, train_loss: 0.021852, time taken: 0.8653934001922607s\n",
      "80/145, train_loss: 0.022191, time taken: 0.878300666809082s\n",
      "90/145, train_loss: 0.020344, time taken: 0.9061112403869629s\n",
      "100/145, train_loss: 0.019536, time taken: 0.9033124446868896s\n",
      "110/145, train_loss: 0.018989, time taken: 0.8931663036346436s\n",
      "120/145, train_loss: 0.018616, time taken: 0.8828017711639404s\n",
      "130/145, train_loss: 0.018690, time taken: 0.8972394466400146s\n",
      "140/145, train_loss: 0.018883, time taken: 0.9068500995635986s\n"
     ]
    },
    {
     "name": "stderr",
     "output_type": "stream",
     "text": [
      "2024-06-07 14:38 INFO epoch 243 average loss: 0.0199\n"
     ]
    },
    {
     "name": "stdout",
     "output_type": "stream",
     "text": [
      "epoch 243 average loss: 0.0199\n",
      "----------\n",
      "epoch 244/360\n",
      "10/145, train_loss: 0.012915, time taken: 0.9358510971069336s\n",
      "20/145, train_loss: 0.010814, time taken: 0.8870060443878174s\n",
      "30/145, train_loss: 0.009449, time taken: 0.8813390731811523s\n",
      "40/145, train_loss: 0.009152, time taken: 0.9011173248291016s\n",
      "50/145, train_loss: 0.010616, time taken: 0.8707327842712402s\n",
      "60/145, train_loss: 0.013251, time taken: 0.8997745513916016s\n",
      "70/145, train_loss: 0.012855, time taken: 0.9074842929840088s\n",
      "80/145, train_loss: 0.013618, time taken: 0.9649362564086914s\n",
      "90/145, train_loss: 0.014463, time taken: 0.914663553237915s\n",
      "100/145, train_loss: 0.014069, time taken: 0.8810763359069824s\n",
      "110/145, train_loss: 0.013021, time taken: 0.9147541522979736s\n",
      "120/145, train_loss: 0.013262, time taken: 0.9009475708007812s\n",
      "130/145, train_loss: 0.012901, time taken: 0.8884236812591553s\n",
      "140/145, train_loss: 0.012704, time taken: 0.8831527233123779s\n"
     ]
    },
    {
     "name": "stderr",
     "output_type": "stream",
     "text": [
      "2024-06-07 14:40 INFO epoch 244 average loss: 0.0129\n"
     ]
    },
    {
     "name": "stdout",
     "output_type": "stream",
     "text": [
      "epoch 244 average loss: 0.0129\n",
      "----------\n",
      "epoch 245/360\n",
      "10/145, train_loss: 0.007317, time taken: 0.8907291889190674s\n",
      "20/145, train_loss: 0.008877, time taken: 0.897418737411499s\n",
      "30/145, train_loss: 0.010784, time taken: 0.8911685943603516s\n",
      "40/145, train_loss: 0.011142, time taken: 0.8891198635101318s\n",
      "50/145, train_loss: 0.011548, time taken: 0.8729186058044434s\n",
      "60/145, train_loss: 0.013031, time taken: 0.904822826385498s\n",
      "70/145, train_loss: 0.013738, time taken: 0.9819273948669434s\n",
      "80/145, train_loss: 0.013263, time taken: 0.8787057399749756s\n",
      "90/145, train_loss: 0.013469, time taken: 0.8942773342132568s\n",
      "100/145, train_loss: 0.013106, time taken: 0.8709220886230469s\n",
      "110/145, train_loss: 0.012530, time taken: 0.928748607635498s\n",
      "120/145, train_loss: 0.012974, time taken: 0.9013180732727051s\n",
      "130/145, train_loss: 0.012549, time taken: 0.8820538520812988s\n",
      "140/145, train_loss: 0.013071, time taken: 0.900599479675293s\n"
     ]
    },
    {
     "name": "stderr",
     "output_type": "stream",
     "text": [
      "2024-06-07 14:43 INFO epoch 245 average loss: 0.0115\n"
     ]
    },
    {
     "name": "stdout",
     "output_type": "stream",
     "text": [
      "epoch 245 average loss: 0.0115\n",
      "----------\n",
      "epoch 246/360\n",
      "10/145, train_loss: 0.013110, time taken: 0.9062767028808594s\n",
      "20/145, train_loss: 0.009339, time taken: 0.8877503871917725s\n",
      "30/145, train_loss: 0.010435, time taken: 0.8805174827575684s\n",
      "40/145, train_loss: 0.011051, time taken: 0.8986225128173828s\n",
      "50/145, train_loss: 0.009435, time taken: 0.9005641937255859s\n",
      "60/145, train_loss: 0.011049, time taken: 0.8945174217224121s\n",
      "70/145, train_loss: 0.010213, time taken: 0.8908979892730713s\n",
      "80/145, train_loss: 0.012970, time taken: 0.878582239151001s\n",
      "90/145, train_loss: 0.013500, time taken: 0.892296314239502s\n",
      "100/145, train_loss: 0.014006, time taken: 0.8890855312347412s\n",
      "110/145, train_loss: 0.013528, time taken: 0.8864443302154541s\n",
      "120/145, train_loss: 0.012991, time taken: 0.8932909965515137s\n",
      "130/145, train_loss: 0.013066, time taken: 0.8909151554107666s\n",
      "140/145, train_loss: 0.012448, time taken: 0.8873851299285889s\n"
     ]
    },
    {
     "name": "stderr",
     "output_type": "stream",
     "text": [
      "2024-06-07 14:45 INFO epoch 246 average loss: 0.0123\n"
     ]
    },
    {
     "name": "stdout",
     "output_type": "stream",
     "text": [
      "epoch 246 average loss: 0.0123\n",
      "----------\n",
      "epoch 247/360\n",
      "10/145, train_loss: 0.006444, time taken: 0.9065401554107666s\n",
      "20/145, train_loss: 0.008663, time taken: 0.9067504405975342s\n",
      "30/145, train_loss: 0.009394, time taken: 0.9222192764282227s\n",
      "40/145, train_loss: 0.011180, time taken: 0.8950009346008301s\n",
      "50/145, train_loss: 0.009272, time taken: 0.8942604064941406s\n",
      "60/145, train_loss: 0.009062, time taken: 0.9024622440338135s\n",
      "70/145, train_loss: 0.010445, time taken: 0.8908448219299316s\n",
      "80/145, train_loss: 0.009723, time taken: 0.8937442302703857s\n",
      "90/145, train_loss: 0.009820, time taken: 0.8997516632080078s\n",
      "100/145, train_loss: 0.010426, time taken: 0.8961472511291504s\n",
      "110/145, train_loss: 0.010679, time taken: 0.8848445415496826s\n",
      "120/145, train_loss: 0.011158, time taken: 0.9287664890289307s\n",
      "130/145, train_loss: 0.010568, time taken: 0.9005839824676514s\n",
      "140/145, train_loss: 0.010622, time taken: 0.9050934314727783s\n"
     ]
    },
    {
     "name": "stderr",
     "output_type": "stream",
     "text": [
      "2024-06-07 14:47 INFO epoch 247 average loss: 0.0100\n"
     ]
    },
    {
     "name": "stdout",
     "output_type": "stream",
     "text": [
      "epoch 247 average loss: 0.0100\n",
      "----------\n",
      "epoch 248/360\n",
      "10/145, train_loss: 0.005386, time taken: 0.8934593200683594s\n",
      "20/145, train_loss: 0.005124, time taken: 0.9066009521484375s\n",
      "30/145, train_loss: 0.007855, time taken: 0.8693451881408691s\n",
      "40/145, train_loss: 0.007595, time taken: 0.8990442752838135s\n",
      "50/145, train_loss: 0.008518, time taken: 0.8886725902557373s\n",
      "60/145, train_loss: 0.009713, time taken: 0.8861856460571289s\n",
      "70/145, train_loss: 0.008409, time taken: 0.8624074459075928s\n",
      "80/145, train_loss: 0.008276, time taken: 0.8755111694335938s\n",
      "90/145, train_loss: 0.008088, time taken: 0.9034898281097412s\n",
      "100/145, train_loss: 0.008310, time taken: 0.8881800174713135s\n",
      "110/145, train_loss: 0.008198, time taken: 0.8813107013702393s\n",
      "120/145, train_loss: 0.007920, time taken: 0.8915364742279053s\n",
      "130/145, train_loss: 0.007439, time taken: 0.8929505348205566s\n",
      "140/145, train_loss: 0.007765, time taken: 0.891430139541626s\n"
     ]
    },
    {
     "name": "stderr",
     "output_type": "stream",
     "text": [
      "2024-06-07 14:49 INFO epoch 248 average loss: 0.0074\n"
     ]
    },
    {
     "name": "stdout",
     "output_type": "stream",
     "text": [
      "epoch 248 average loss: 0.0074\n",
      "----------\n",
      "epoch 249/360\n",
      "10/145, train_loss: 0.007814, time taken: 0.8698389530181885s\n",
      "20/145, train_loss: 0.012930, time taken: 0.9179682731628418s\n",
      "30/145, train_loss: 0.014099, time taken: 0.9110221862792969s\n",
      "40/145, train_loss: 0.013235, time taken: 0.8941903114318848s\n",
      "50/145, train_loss: 0.012464, time taken: 0.8992807865142822s\n",
      "60/145, train_loss: 0.011769, time taken: 0.897352933883667s\n",
      "70/145, train_loss: 0.010373, time taken: 0.9026069641113281s\n",
      "80/145, train_loss: 0.010494, time taken: 0.9218709468841553s\n",
      "90/145, train_loss: 0.010336, time taken: 0.8996763229370117s\n",
      "100/145, train_loss: 0.010527, time taken: 0.906728982925415s\n",
      "110/145, train_loss: 0.009719, time taken: 0.9147195816040039s\n",
      "120/145, train_loss: 0.009905, time taken: 0.9069352149963379s\n",
      "130/145, train_loss: 0.009606, time taken: 0.8967995643615723s\n",
      "140/145, train_loss: 0.009488, time taken: 0.8820362091064453s\n"
     ]
    },
    {
     "name": "stderr",
     "output_type": "stream",
     "text": [
      "2024-06-07 14:51 INFO epoch 249 average loss: 0.0105\n"
     ]
    },
    {
     "name": "stdout",
     "output_type": "stream",
     "text": [
      "epoch 249 average loss: 0.0105\n",
      "----------\n",
      "epoch 250/360\n",
      "10/145, train_loss: 0.003289, time taken: 0.981177806854248s\n",
      "20/145, train_loss: 0.002244, time taken: 0.8986129760742188s\n",
      "30/145, train_loss: 0.004124, time taken: 0.9008922576904297s\n",
      "40/145, train_loss: 0.003499, time taken: 0.8954355716705322s\n",
      "50/145, train_loss: 0.004412, time taken: 0.878364086151123s\n",
      "60/145, train_loss: 0.004506, time taken: 0.8921515941619873s\n",
      "70/145, train_loss: 0.006695, time taken: 0.8961305618286133s\n",
      "80/145, train_loss: 0.006235, time taken: 0.9018168449401855s\n",
      "90/145, train_loss: 0.007648, time taken: 0.86423659324646s\n",
      "100/145, train_loss: 0.007967, time taken: 0.8817605972290039s\n",
      "110/145, train_loss: 0.008338, time taken: 0.8987026214599609s\n",
      "120/145, train_loss: 0.008531, time taken: 0.8934428691864014s\n",
      "130/145, train_loss: 0.009208, time taken: 0.8994214534759521s\n",
      "140/145, train_loss: 0.009126, time taken: 0.9115843772888184s\n"
     ]
    },
    {
     "name": "stderr",
     "output_type": "stream",
     "text": [
      "2024-06-07 14:54 INFO epoch 250 average loss: 0.0059\n"
     ]
    },
    {
     "name": "stdout",
     "output_type": "stream",
     "text": [
      "epoch 250 average loss: 0.0059\n",
      "----------\n",
      "epoch 251/360\n",
      "10/145, train_loss: 0.011252, time taken: 0.8772659301757812s\n",
      "20/145, train_loss: 0.013002, time taken: 0.8991484642028809s\n",
      "30/145, train_loss: 0.012487, time taken: 0.9079976081848145s\n",
      "40/145, train_loss: 0.011932, time taken: 0.890554666519165s\n",
      "50/145, train_loss: 0.011757, time taken: 0.8899209499359131s\n",
      "60/145, train_loss: 0.010658, time taken: 0.8932616710662842s\n",
      "70/145, train_loss: 0.010763, time taken: 0.8985753059387207s\n",
      "80/145, train_loss: 0.009491, time taken: 0.906848669052124s\n",
      "90/145, train_loss: 0.008970, time taken: 0.9033684730529785s\n",
      "100/145, train_loss: 0.009244, time taken: 0.8948819637298584s\n",
      "110/145, train_loss: 0.008957, time taken: 0.9009525775909424s\n",
      "120/145, train_loss: 0.009669, time taken: 0.8852756023406982s\n",
      "130/145, train_loss: 0.009851, time taken: 0.9087350368499756s\n",
      "140/145, train_loss: 0.009333, time taken: 0.8881556987762451s\n"
     ]
    },
    {
     "name": "stderr",
     "output_type": "stream",
     "text": [
      "2024-06-07 14:56 INFO epoch 251 average loss: 0.0107\n"
     ]
    },
    {
     "name": "stdout",
     "output_type": "stream",
     "text": [
      "epoch 251 average loss: 0.0107\n",
      "----------\n",
      "epoch 252/360\n",
      "10/145, train_loss: 0.016818, time taken: 0.8895354270935059s\n",
      "20/145, train_loss: 0.013313, time taken: 0.885826826095581s\n",
      "30/145, train_loss: 0.014161, time taken: 0.892711877822876s\n",
      "40/145, train_loss: 0.013695, time taken: 0.9118325710296631s\n",
      "50/145, train_loss: 0.014374, time taken: 0.8924376964569092s\n",
      "60/145, train_loss: 0.013719, time taken: 0.9178004264831543s\n",
      "70/145, train_loss: 0.012500, time taken: 0.8980076313018799s\n",
      "80/145, train_loss: 0.012577, time taken: 0.9879481792449951s\n",
      "90/145, train_loss: 0.012709, time taken: 0.8903002738952637s\n",
      "100/145, train_loss: 0.012072, time taken: 0.9130702018737793s\n",
      "110/145, train_loss: 0.011106, time taken: 0.9040482044219971s\n",
      "120/145, train_loss: 0.011867, time taken: 0.8835067749023438s\n",
      "130/145, train_loss: 0.011837, time taken: 0.8800055980682373s\n",
      "140/145, train_loss: 0.011301, time taken: 0.8980684280395508s\n"
     ]
    },
    {
     "name": "stderr",
     "output_type": "stream",
     "text": [
      "2024-06-07 14:58 INFO epoch 252 average loss: 0.0137\n"
     ]
    },
    {
     "name": "stdout",
     "output_type": "stream",
     "text": [
      "epoch 252 average loss: 0.0137\n",
      "----------\n",
      "epoch 253/360\n",
      "10/145, train_loss: 0.007155, time taken: 0.8805136680603027s\n",
      "20/145, train_loss: 0.008544, time taken: 0.9024145603179932s\n",
      "30/145, train_loss: 0.010036, time taken: 0.9105930328369141s\n",
      "40/145, train_loss: 0.012647, time taken: 0.885573148727417s\n",
      "50/145, train_loss: 0.013097, time taken: 0.9024083614349365s\n",
      "60/145, train_loss: 0.013414, time taken: 0.8926751613616943s\n",
      "70/145, train_loss: 0.012541, time taken: 0.8923697471618652s\n",
      "80/145, train_loss: 0.012433, time taken: 0.9137742519378662s\n",
      "90/145, train_loss: 0.011793, time taken: 0.8838329315185547s\n",
      "100/145, train_loss: 0.011914, time taken: 0.913139820098877s\n",
      "110/145, train_loss: 0.011334, time taken: 0.9249763488769531s\n",
      "120/145, train_loss: 0.011326, time taken: 0.9071619510650635s\n",
      "130/145, train_loss: 0.011409, time taken: 0.8922019004821777s\n",
      "140/145, train_loss: 0.011603, time taken: 0.9318175315856934s\n"
     ]
    },
    {
     "name": "stderr",
     "output_type": "stream",
     "text": [
      "2024-06-07 15:00 INFO epoch 253 average loss: 0.0114\n"
     ]
    },
    {
     "name": "stdout",
     "output_type": "stream",
     "text": [
      "epoch 253 average loss: 0.0114\n",
      "----------\n",
      "epoch 254/360\n",
      "10/145, train_loss: 0.010707, time taken: 0.8694407939910889s\n",
      "20/145, train_loss: 0.013826, time taken: 0.8874607086181641s\n",
      "30/145, train_loss: 0.015157, time taken: 0.8989408016204834s\n",
      "40/145, train_loss: 0.018079, time taken: 0.8745832443237305s\n",
      "50/145, train_loss: 0.017275, time taken: 0.8779726028442383s\n",
      "60/145, train_loss: 0.015902, time taken: 0.8772737979888916s\n",
      "70/145, train_loss: 0.015350, time taken: 0.8806374073028564s\n",
      "80/145, train_loss: 0.014876, time taken: 0.8999531269073486s\n",
      "90/145, train_loss: 0.013371, time taken: 0.9079113006591797s\n",
      "100/145, train_loss: 0.013146, time taken: 0.9122481346130371s\n",
      "110/145, train_loss: 0.013507, time taken: 0.9104917049407959s\n",
      "120/145, train_loss: 0.013162, time taken: 0.9316160678863525s\n",
      "130/145, train_loss: 0.012900, time taken: 0.903515100479126s\n",
      "140/145, train_loss: 0.013166, time taken: 0.8937225341796875s\n"
     ]
    },
    {
     "name": "stderr",
     "output_type": "stream",
     "text": [
      "2024-06-07 15:02 INFO epoch 254 average loss: 0.0140\n"
     ]
    },
    {
     "name": "stdout",
     "output_type": "stream",
     "text": [
      "epoch 254 average loss: 0.0140\n",
      "----------\n",
      "epoch 255/360\n",
      "10/145, train_loss: 0.015780, time taken: 0.8848412036895752s\n",
      "20/145, train_loss: 0.017628, time taken: 0.8722643852233887s\n",
      "30/145, train_loss: 0.018429, time taken: 0.8934469223022461s\n",
      "40/145, train_loss: 0.014754, time taken: 0.8911700248718262s\n",
      "50/145, train_loss: 0.013533, time taken: 0.9084482192993164s\n",
      "60/145, train_loss: 0.014705, time taken: 0.8900003433227539s\n",
      "70/145, train_loss: 0.014340, time taken: 0.8941216468811035s\n",
      "80/145, train_loss: 0.013631, time taken: 0.8890492916107178s\n",
      "90/145, train_loss: 0.013982, time taken: 0.8902196884155273s\n",
      "100/145, train_loss: 0.013632, time taken: 0.9068758487701416s\n",
      "110/145, train_loss: 0.013453, time taken: 0.9026186466217041s\n",
      "120/145, train_loss: 0.012939, time taken: 0.9927444458007812s\n",
      "130/145, train_loss: 0.012693, time taken: 0.8852818012237549s\n",
      "140/145, train_loss: 0.012014, time taken: 0.9088883399963379s\n"
     ]
    },
    {
     "name": "stderr",
     "output_type": "stream",
     "text": [
      "2024-06-07 15:05 INFO epoch 255 average loss: 0.0144\n"
     ]
    },
    {
     "name": "stdout",
     "output_type": "stream",
     "text": [
      "epoch 255 average loss: 0.0144\n",
      "----------\n",
      "epoch 256/360\n",
      "10/145, train_loss: 0.012506, time taken: 0.8881340026855469s\n",
      "20/145, train_loss: 0.008280, time taken: 0.8844597339630127s\n",
      "30/145, train_loss: 0.008846, time taken: 0.8970112800598145s\n",
      "40/145, train_loss: 0.008614, time taken: 0.8986434936523438s\n",
      "50/145, train_loss: 0.008883, time taken: 0.8980252742767334s\n",
      "60/145, train_loss: 0.009179, time taken: 0.9211955070495605s\n",
      "70/145, train_loss: 0.009272, time taken: 0.9021461009979248s\n",
      "80/145, train_loss: 0.008288, time taken: 0.9016468524932861s\n",
      "90/145, train_loss: 0.008506, time taken: 0.8770456314086914s\n",
      "100/145, train_loss: 0.009022, time taken: 0.890007495880127s\n",
      "110/145, train_loss: 0.008826, time taken: 0.8840644359588623s\n",
      "120/145, train_loss: 0.009412, time taken: 0.9101223945617676s\n",
      "130/145, train_loss: 0.008977, time taken: 0.8805232048034668s\n",
      "140/145, train_loss: 0.008753, time taken: 0.8698139190673828s\n"
     ]
    },
    {
     "name": "stderr",
     "output_type": "stream",
     "text": [
      "2024-06-07 15:07 INFO epoch 256 average loss: 0.0094\n"
     ]
    },
    {
     "name": "stdout",
     "output_type": "stream",
     "text": [
      "epoch 256 average loss: 0.0094\n",
      "----------\n",
      "epoch 257/360\n",
      "10/145, train_loss: 0.013860, time taken: 0.9035961627960205s\n",
      "20/145, train_loss: 0.013830, time taken: 0.8789272308349609s\n",
      "30/145, train_loss: 0.012107, time taken: 0.8862786293029785s\n",
      "40/145, train_loss: 0.010314, time taken: 0.8933694362640381s\n",
      "50/145, train_loss: 0.010683, time taken: 0.8779833316802979s\n",
      "60/145, train_loss: 0.011695, time taken: 0.8942487239837646s\n",
      "70/145, train_loss: 0.014506, time taken: 0.8835692405700684s\n",
      "80/145, train_loss: 0.016906, time taken: 0.8940646648406982s\n",
      "90/145, train_loss: 0.017350, time taken: 0.8893232345581055s\n",
      "100/145, train_loss: 0.018676, time taken: 0.8946864604949951s\n",
      "110/145, train_loss: 0.017939, time taken: 0.8977596759796143s\n",
      "120/145, train_loss: 0.017191, time taken: 0.8769919872283936s\n",
      "130/145, train_loss: 0.017491, time taken: 0.8969922065734863s\n",
      "140/145, train_loss: 0.016606, time taken: 0.8926639556884766s\n"
     ]
    },
    {
     "name": "stderr",
     "output_type": "stream",
     "text": [
      "2024-06-07 15:09 INFO epoch 257 average loss: 0.0151\n"
     ]
    },
    {
     "name": "stdout",
     "output_type": "stream",
     "text": [
      "epoch 257 average loss: 0.0151\n",
      "----------\n",
      "epoch 258/360\n",
      "10/145, train_loss: 0.004802, time taken: 0.882972002029419s\n",
      "20/145, train_loss: 0.005246, time taken: 0.8645834922790527s\n",
      "30/145, train_loss: 0.006970, time taken: 0.9113833904266357s\n",
      "40/145, train_loss: 0.012737, time taken: 0.8980216979980469s\n",
      "50/145, train_loss: 0.013180, time taken: 0.8660154342651367s\n",
      "60/145, train_loss: 0.014128, time taken: 0.8869054317474365s\n",
      "70/145, train_loss: 0.015242, time taken: 0.8891675472259521s\n",
      "80/145, train_loss: 0.015039, time taken: 0.9775583744049072s\n",
      "90/145, train_loss: 0.014069, time taken: 0.8972816467285156s\n",
      "100/145, train_loss: 0.013398, time taken: 0.9186005592346191s\n",
      "110/145, train_loss: 0.014109, time taken: 0.8833909034729004s\n",
      "120/145, train_loss: 0.013803, time taken: 0.8886535167694092s\n",
      "130/145, train_loss: 0.013579, time taken: 0.9068975448608398s\n",
      "140/145, train_loss: 0.013342, time taken: 0.872025728225708s\n"
     ]
    },
    {
     "name": "stderr",
     "output_type": "stream",
     "text": [
      "2024-06-07 15:11 INFO epoch 258 average loss: 0.0118\n"
     ]
    },
    {
     "name": "stdout",
     "output_type": "stream",
     "text": [
      "epoch 258 average loss: 0.0118\n",
      "----------\n",
      "epoch 259/360\n",
      "10/145, train_loss: 0.005224, time taken: 0.8930630683898926s\n",
      "20/145, train_loss: 0.009172, time taken: 0.8963477611541748s\n",
      "30/145, train_loss: 0.008545, time taken: 0.8854207992553711s\n",
      "40/145, train_loss: 0.007231, time taken: 0.8821611404418945s\n",
      "50/145, train_loss: 0.006160, time taken: 0.8806419372558594s\n",
      "60/145, train_loss: 0.007808, time taken: 0.8916525840759277s\n",
      "70/145, train_loss: 0.008373, time taken: 0.9914968013763428s\n",
      "80/145, train_loss: 0.008061, time taken: 0.891329288482666s\n",
      "90/145, train_loss: 0.008240, time taken: 0.882171630859375s\n",
      "100/145, train_loss: 0.009097, time taken: 0.8704020977020264s\n",
      "110/145, train_loss: 0.009511, time taken: 0.9023418426513672s\n",
      "120/145, train_loss: 0.009801, time taken: 0.894218921661377s\n",
      "130/145, train_loss: 0.009854, time taken: 0.8933465480804443s\n",
      "140/145, train_loss: 0.009592, time taken: 0.8932127952575684s\n"
     ]
    },
    {
     "name": "stderr",
     "output_type": "stream",
     "text": [
      "2024-06-07 15:14 INFO epoch 259 average loss: 0.0080\n"
     ]
    },
    {
     "name": "stdout",
     "output_type": "stream",
     "text": [
      "epoch 259 average loss: 0.0080\n",
      "----------\n",
      "epoch 260/360\n",
      "10/145, train_loss: 0.008464, time taken: 0.9195687770843506s\n",
      "20/145, train_loss: 0.007617, time taken: 0.8829021453857422s\n",
      "30/145, train_loss: 0.010262, time taken: 0.881598711013794s\n",
      "40/145, train_loss: 0.011743, time taken: 0.8840601444244385s\n",
      "50/145, train_loss: 0.012206, time taken: 0.8839554786682129s\n",
      "60/145, train_loss: 0.011908, time taken: 0.8776018619537354s\n",
      "70/145, train_loss: 0.010961, time taken: 0.8964505195617676s\n",
      "80/145, train_loss: 0.010325, time taken: 0.8975036144256592s\n",
      "90/145, train_loss: 0.009999, time taken: 0.903146505355835s\n",
      "100/145, train_loss: 0.009513, time taken: 0.8987743854522705s\n",
      "110/145, train_loss: 0.008985, time taken: 0.885033369064331s\n",
      "120/145, train_loss: 0.009163, time taken: 0.8888494968414307s\n",
      "130/145, train_loss: 0.008914, time taken: 0.8811616897583008s\n",
      "140/145, train_loss: 0.009418, time taken: 0.8759713172912598s\n"
     ]
    },
    {
     "name": "stderr",
     "output_type": "stream",
     "text": [
      "2024-06-07 15:16 INFO epoch 260 average loss: 0.0101\n"
     ]
    },
    {
     "name": "stdout",
     "output_type": "stream",
     "text": [
      "epoch 260 average loss: 0.0101\n",
      "----------\n",
      "epoch 261/360\n",
      "10/145, train_loss: 0.001140, time taken: 0.9052274227142334s\n",
      "20/145, train_loss: 0.004363, time taken: 0.891493558883667s\n",
      "30/145, train_loss: 0.006479, time taken: 0.8914258480072021s\n",
      "40/145, train_loss: 0.013419, time taken: 0.8972218036651611s\n",
      "50/145, train_loss: 0.011955, time taken: 0.9019417762756348s\n",
      "60/145, train_loss: 0.011650, time taken: 0.9014585018157959s\n",
      "70/145, train_loss: 0.012012, time taken: 0.8984637260437012s\n",
      "80/145, train_loss: 0.011880, time taken: 0.8763349056243896s\n",
      "90/145, train_loss: 0.011333, time taken: 0.8897247314453125s\n",
      "100/145, train_loss: 0.010765, time taken: 0.9106860160827637s\n",
      "110/145, train_loss: 0.010297, time taken: 0.8854820728302002s\n",
      "120/145, train_loss: 0.009791, time taken: 0.9005584716796875s\n",
      "130/145, train_loss: 0.009764, time taken: 0.8778111934661865s\n",
      "140/145, train_loss: 0.010391, time taken: 0.8850681781768799s\n"
     ]
    },
    {
     "name": "stderr",
     "output_type": "stream",
     "text": [
      "2024-06-07 15:18 INFO epoch 261 average loss: 0.0095\n"
     ]
    },
    {
     "name": "stdout",
     "output_type": "stream",
     "text": [
      "epoch 261 average loss: 0.0095\n",
      "----------\n",
      "epoch 262/360\n",
      "10/145, train_loss: 0.010304, time taken: 0.8969290256500244s\n",
      "20/145, train_loss: 0.015064, time taken: 0.9049880504608154s\n",
      "30/145, train_loss: 0.014880, time taken: 0.9087181091308594s\n",
      "40/145, train_loss: 0.014011, time taken: 0.8775932788848877s\n",
      "50/145, train_loss: 0.014990, time taken: 0.8698642253875732s\n",
      "60/145, train_loss: 0.016988, time taken: 0.8771696090698242s\n",
      "70/145, train_loss: 0.015938, time taken: 0.9165267944335938s\n",
      "80/145, train_loss: 0.014875, time taken: 0.897099494934082s\n",
      "90/145, train_loss: 0.014085, time taken: 0.9026894569396973s\n",
      "100/145, train_loss: 0.013866, time taken: 0.9200856685638428s\n",
      "110/145, train_loss: 0.012939, time taken: 0.8832244873046875s\n",
      "120/145, train_loss: 0.012213, time taken: 0.8941521644592285s\n",
      "130/145, train_loss: 0.011741, time taken: 0.8994972705841064s\n",
      "140/145, train_loss: 0.011403, time taken: 0.8901996612548828s\n"
     ]
    },
    {
     "name": "stderr",
     "output_type": "stream",
     "text": [
      "2024-06-07 15:20 INFO epoch 262 average loss: 0.0138\n"
     ]
    },
    {
     "name": "stdout",
     "output_type": "stream",
     "text": [
      "epoch 262 average loss: 0.0138\n",
      "----------\n",
      "epoch 263/360\n",
      "10/145, train_loss: 0.011246, time taken: 0.8835089206695557s\n",
      "20/145, train_loss: 0.009400, time taken: 0.904871940612793s\n",
      "30/145, train_loss: 0.008144, time taken: 0.9038128852844238s\n",
      "40/145, train_loss: 0.008232, time taken: 0.8945844173431396s\n",
      "50/145, train_loss: 0.008931, time taken: 0.88810133934021s\n",
      "60/145, train_loss: 0.008555, time taken: 0.891002893447876s\n",
      "70/145, train_loss: 0.009398, time taken: 0.8967719078063965s\n",
      "80/145, train_loss: 0.008824, time taken: 0.9011955261230469s\n",
      "90/145, train_loss: 0.008884, time taken: 0.8700263500213623s\n",
      "100/145, train_loss: 0.009478, time taken: 0.890779972076416s\n",
      "110/145, train_loss: 0.009382, time taken: 0.8925392627716064s\n",
      "120/145, train_loss: 0.009899, time taken: 0.8834352493286133s\n",
      "130/145, train_loss: 0.010173, time taken: 0.8986611366271973s\n",
      "140/145, train_loss: 0.009971, time taken: 0.9002606868743896s\n"
     ]
    },
    {
     "name": "stderr",
     "output_type": "stream",
     "text": [
      "2024-06-07 15:22 INFO epoch 263 average loss: 0.0089\n"
     ]
    },
    {
     "name": "stdout",
     "output_type": "stream",
     "text": [
      "epoch 263 average loss: 0.0089\n",
      "----------\n",
      "epoch 264/360\n",
      "10/145, train_loss: 0.013520, time taken: 0.9876017570495605s\n",
      "20/145, train_loss: 0.008795, time taken: 0.863983154296875s\n",
      "30/145, train_loss: 0.006211, time taken: 0.9323155879974365s\n",
      "40/145, train_loss: 0.007855, time taken: 0.9001626968383789s\n",
      "50/145, train_loss: 0.007710, time taken: 0.9190711975097656s\n",
      "60/145, train_loss: 0.007370, time taken: 0.8849027156829834s\n",
      "70/145, train_loss: 0.007779, time taken: 0.908066987991333s\n",
      "80/145, train_loss: 0.009374, time taken: 0.889378547668457s\n",
      "90/145, train_loss: 0.008724, time taken: 0.8991782665252686s\n",
      "100/145, train_loss: 0.008719, time taken: 0.895965576171875s\n",
      "110/145, train_loss: 0.008478, time taken: 0.8841710090637207s\n",
      "120/145, train_loss: 0.008767, time taken: 0.8796353340148926s\n",
      "130/145, train_loss: 0.009152, time taken: 0.924353837966919s\n",
      "140/145, train_loss: 0.009688, time taken: 0.8930351734161377s\n"
     ]
    },
    {
     "name": "stderr",
     "output_type": "stream",
     "text": [
      "2024-06-07 15:25 INFO epoch 264 average loss: 0.0091\n"
     ]
    },
    {
     "name": "stdout",
     "output_type": "stream",
     "text": [
      "epoch 264 average loss: 0.0091\n",
      "----------\n",
      "epoch 265/360\n",
      "10/145, train_loss: 0.012778, time taken: 0.8786013126373291s\n",
      "20/145, train_loss: 0.014329, time taken: 0.9047510623931885s\n",
      "30/145, train_loss: 0.012526, time taken: 0.8978805541992188s\n",
      "40/145, train_loss: 0.010952, time taken: 0.901775598526001s\n",
      "50/145, train_loss: 0.012624, time taken: 0.8903052806854248s\n",
      "60/145, train_loss: 0.012715, time taken: 0.880314826965332s\n",
      "70/145, train_loss: 0.012195, time taken: 0.8882038593292236s\n",
      "80/145, train_loss: 0.012087, time taken: 0.9184494018554688s\n",
      "90/145, train_loss: 0.011107, time taken: 0.8861868381500244s\n",
      "100/145, train_loss: 0.010948, time taken: 0.896507978439331s\n",
      "110/145, train_loss: 0.010286, time taken: 0.89145827293396s\n",
      "120/145, train_loss: 0.009774, time taken: 0.8983807563781738s\n",
      "130/145, train_loss: 0.009551, time taken: 0.902432918548584s\n",
      "140/145, train_loss: 0.009210, time taken: 0.885906457901001s\n"
     ]
    },
    {
     "name": "stderr",
     "output_type": "stream",
     "text": [
      "2024-06-07 15:27 INFO epoch 265 average loss: 0.0113\n"
     ]
    },
    {
     "name": "stdout",
     "output_type": "stream",
     "text": [
      "epoch 265 average loss: 0.0113\n",
      "----------\n",
      "epoch 266/360\n",
      "10/145, train_loss: 0.012265, time taken: 0.9072747230529785s\n",
      "20/145, train_loss: 0.009901, time taken: 0.8818378448486328s\n",
      "30/145, train_loss: 0.007127, time taken: 0.8960578441619873s\n",
      "40/145, train_loss: 0.005844, time taken: 0.8890171051025391s\n",
      "50/145, train_loss: 0.007609, time taken: 0.8777735233306885s\n",
      "60/145, train_loss: 0.007549, time taken: 0.870898962020874s\n",
      "70/145, train_loss: 0.007213, time taken: 0.918163537979126s\n",
      "80/145, train_loss: 0.007059, time taken: 0.9810488224029541s\n",
      "90/145, train_loss: 0.006363, time taken: 0.8815960884094238s\n",
      "100/145, train_loss: 0.006481, time taken: 0.9046669006347656s\n",
      "110/145, train_loss: 0.006495, time taken: 0.8962433338165283s\n",
      "120/145, train_loss: 0.006348, time taken: 0.8947103023529053s\n",
      "130/145, train_loss: 0.006424, time taken: 0.8841462135314941s\n",
      "140/145, train_loss: 0.006537, time taken: 0.8981897830963135s\n"
     ]
    },
    {
     "name": "stderr",
     "output_type": "stream",
     "text": [
      "2024-06-07 15:29 INFO epoch 266 average loss: 0.0074\n"
     ]
    },
    {
     "name": "stdout",
     "output_type": "stream",
     "text": [
      "epoch 266 average loss: 0.0074\n",
      "----------\n",
      "epoch 267/360\n",
      "10/145, train_loss: 0.008139, time taken: 0.8895125389099121s\n",
      "20/145, train_loss: 0.006526, time taken: 0.8965928554534912s\n",
      "30/145, train_loss: 0.006262, time taken: 0.8960216045379639s\n",
      "40/145, train_loss: 0.007138, time taken: 0.9011344909667969s\n",
      "50/145, train_loss: 0.007666, time taken: 0.8937036991119385s\n",
      "60/145, train_loss: 0.007901, time taken: 0.8915977478027344s\n",
      "70/145, train_loss: 0.009133, time taken: 0.9073529243469238s\n",
      "80/145, train_loss: 0.009978, time taken: 0.8809797763824463s\n",
      "90/145, train_loss: 0.010445, time taken: 0.9072115421295166s\n",
      "100/145, train_loss: 0.009520, time taken: 0.8927726745605469s\n",
      "110/145, train_loss: 0.009180, time taken: 0.9156684875488281s\n",
      "120/145, train_loss: 0.009253, time taken: 0.9183690547943115s\n",
      "130/145, train_loss: 0.008769, time taken: 0.9251353740692139s\n",
      "140/145, train_loss: 0.008309, time taken: 0.8843269348144531s\n"
     ]
    },
    {
     "name": "stderr",
     "output_type": "stream",
     "text": [
      "2024-06-07 15:31 INFO epoch 267 average loss: 0.0082\n"
     ]
    },
    {
     "name": "stdout",
     "output_type": "stream",
     "text": [
      "epoch 267 average loss: 0.0082\n",
      "----------\n",
      "epoch 268/360\n",
      "10/145, train_loss: 0.009798, time taken: 0.8923516273498535s\n",
      "20/145, train_loss: 0.012267, time taken: 0.88041090965271s\n",
      "30/145, train_loss: 0.009151, time taken: 0.8967816829681396s\n",
      "40/145, train_loss: 0.008575, time taken: 0.892038106918335s\n",
      "50/145, train_loss: 0.009643, time taken: 0.8846900463104248s\n",
      "60/145, train_loss: 0.010054, time taken: 0.889744758605957s\n",
      "70/145, train_loss: 0.009178, time taken: 0.8827545642852783s\n",
      "80/145, train_loss: 0.008698, time taken: 0.8681695461273193s\n",
      "90/145, train_loss: 0.008574, time taken: 0.8762571811676025s\n",
      "100/145, train_loss: 0.009096, time taken: 0.9097878932952881s\n",
      "110/145, train_loss: 0.009311, time taken: 0.8886668682098389s\n",
      "120/145, train_loss: 0.009984, time taken: 0.8930182456970215s\n",
      "130/145, train_loss: 0.009755, time taken: 0.8978602886199951s\n",
      "140/145, train_loss: 0.009242, time taken: 0.8793458938598633s\n"
     ]
    },
    {
     "name": "stderr",
     "output_type": "stream",
     "text": [
      "2024-06-07 15:33 INFO epoch 268 average loss: 0.0093\n"
     ]
    },
    {
     "name": "stdout",
     "output_type": "stream",
     "text": [
      "epoch 268 average loss: 0.0093\n",
      "----------\n",
      "epoch 269/360\n",
      "10/145, train_loss: 0.019721, time taken: 0.8931431770324707s\n",
      "20/145, train_loss: 0.010202, time taken: 0.880944013595581s\n",
      "30/145, train_loss: 0.011900, time taken: 0.898730993270874s\n",
      "40/145, train_loss: 0.010808, time taken: 0.8966639041900635s\n",
      "50/145, train_loss: 0.009145, time taken: 0.867933988571167s\n",
      "60/145, train_loss: 0.007943, time taken: 0.9060382843017578s\n",
      "70/145, train_loss: 0.007086, time taken: 0.8909480571746826s\n",
      "80/145, train_loss: 0.006748, time taken: 0.8903322219848633s\n",
      "90/145, train_loss: 0.006636, time taken: 0.8990836143493652s\n",
      "100/145, train_loss: 0.006124, time taken: 0.8813276290893555s\n",
      "110/145, train_loss: 0.006581, time taken: 0.8882105350494385s\n",
      "120/145, train_loss: 0.006400, time taken: 0.9564065933227539s\n",
      "130/145, train_loss: 0.006548, time taken: 0.8788580894470215s\n",
      "140/145, train_loss: 0.006846, time taken: 0.8923017978668213s\n"
     ]
    },
    {
     "name": "stderr",
     "output_type": "stream",
     "text": [
      "2024-06-07 15:36 INFO epoch 269 average loss: 0.0086\n"
     ]
    },
    {
     "name": "stdout",
     "output_type": "stream",
     "text": [
      "epoch 269 average loss: 0.0086\n",
      "----------\n",
      "epoch 270/360\n",
      "10/145, train_loss: 0.012737, time taken: 0.9037413597106934s\n",
      "20/145, train_loss: 0.008157, time taken: 0.9067389965057373s\n",
      "30/145, train_loss: 0.005959, time taken: 0.8958890438079834s\n",
      "40/145, train_loss: 0.008320, time taken: 0.9075593948364258s\n",
      "50/145, train_loss: 0.008717, time taken: 0.8949570655822754s\n",
      "60/145, train_loss: 0.009088, time taken: 0.8771851062774658s\n",
      "70/145, train_loss: 0.010237, time taken: 0.9020340442657471s\n",
      "80/145, train_loss: 0.010244, time taken: 0.900749921798706s\n",
      "90/145, train_loss: 0.011236, time taken: 0.8978345394134521s\n",
      "100/145, train_loss: 0.011062, time taken: 0.9097836017608643s\n",
      "110/145, train_loss: 0.010612, time taken: 0.9085934162139893s\n",
      "120/145, train_loss: 0.010364, time taken: 0.8855555057525635s\n",
      "130/145, train_loss: 0.010273, time taken: 0.9222922325134277s\n",
      "140/145, train_loss: 0.010922, time taken: 0.8750259876251221s\n"
     ]
    },
    {
     "name": "stderr",
     "output_type": "stream",
     "text": [
      "2024-06-07 15:38 INFO epoch 270 average loss: 0.0101\n"
     ]
    },
    {
     "name": "stdout",
     "output_type": "stream",
     "text": [
      "epoch 270 average loss: 0.0101\n",
      "----------\n",
      "epoch 271/360\n",
      "10/145, train_loss: 0.004179, time taken: 0.9031863212585449s\n",
      "20/145, train_loss: 0.003663, time taken: 0.8836374282836914s\n",
      "30/145, train_loss: 0.004753, time taken: 0.8805603981018066s\n",
      "40/145, train_loss: 0.004992, time taken: 0.9006073474884033s\n",
      "50/145, train_loss: 0.006551, time taken: 0.929607629776001s\n",
      "60/145, train_loss: 0.006769, time taken: 0.890845537185669s\n",
      "70/145, train_loss: 0.007580, time taken: 0.9010512828826904s\n",
      "80/145, train_loss: 0.008400, time taken: 0.9058325290679932s\n",
      "90/145, train_loss: 0.010318, time taken: 0.9250626564025879s\n",
      "100/145, train_loss: 0.010070, time taken: 0.8883700370788574s\n",
      "110/145, train_loss: 0.009998, time taken: 0.8877086639404297s\n",
      "120/145, train_loss: 0.009969, time taken: 0.8963241577148438s\n",
      "130/145, train_loss: 0.010399, time taken: 0.8837478160858154s\n",
      "140/145, train_loss: 0.010772, time taken: 0.8967223167419434s\n"
     ]
    },
    {
     "name": "stderr",
     "output_type": "stream",
     "text": [
      "2024-06-07 15:40 INFO epoch 271 average loss: 0.0079\n"
     ]
    },
    {
     "name": "stdout",
     "output_type": "stream",
     "text": [
      "epoch 271 average loss: 0.0079\n",
      "----------\n",
      "epoch 272/360\n",
      "10/145, train_loss: 0.015265, time taken: 0.8822338581085205s\n",
      "20/145, train_loss: 0.011140, time taken: 0.894667387008667s\n",
      "30/145, train_loss: 0.012596, time taken: 0.881925106048584s\n",
      "40/145, train_loss: 0.015340, time taken: 0.8883838653564453s\n",
      "50/145, train_loss: 0.012778, time taken: 0.8749871253967285s\n",
      "60/145, train_loss: 0.013496, time taken: 0.9046616554260254s\n",
      "70/145, train_loss: 0.013626, time taken: 0.8836286067962646s\n",
      "80/145, train_loss: 0.013239, time taken: 0.9711754322052002s\n",
      "90/145, train_loss: 0.013938, time taken: 0.9050416946411133s\n",
      "100/145, train_loss: 0.013229, time taken: 0.8884396553039551s\n",
      "110/145, train_loss: 0.012241, time taken: 0.8871347904205322s\n",
      "120/145, train_loss: 0.012588, time taken: 0.8798871040344238s\n",
      "130/145, train_loss: 0.011913, time taken: 0.9088733196258545s\n",
      "140/145, train_loss: 0.011605, time taken: 0.9047117233276367s\n"
     ]
    },
    {
     "name": "stderr",
     "output_type": "stream",
     "text": [
      "2024-06-07 15:42 INFO epoch 272 average loss: 0.0124\n"
     ]
    },
    {
     "name": "stdout",
     "output_type": "stream",
     "text": [
      "epoch 272 average loss: 0.0124\n",
      "----------\n",
      "epoch 273/360\n",
      "10/145, train_loss: 0.005104, time taken: 0.8865633010864258s\n",
      "20/145, train_loss: 0.005288, time taken: 0.8917553424835205s\n",
      "30/145, train_loss: 0.006189, time taken: 0.887854814529419s\n",
      "40/145, train_loss: 0.007560, time taken: 0.8880159854888916s\n",
      "50/145, train_loss: 0.007491, time taken: 0.897653341293335s\n",
      "60/145, train_loss: 0.007560, time taken: 0.911381721496582s\n",
      "70/145, train_loss: 0.009045, time taken: 1.0111148357391357s\n",
      "80/145, train_loss: 0.010544, time taken: 0.8933861255645752s\n",
      "90/145, train_loss: 0.011886, time taken: 0.8764796257019043s\n",
      "100/145, train_loss: 0.012342, time taken: 0.8815634250640869s\n",
      "110/145, train_loss: 0.011868, time taken: 0.8890082836151123s\n",
      "120/145, train_loss: 0.013319, time taken: 0.9076142311096191s\n",
      "130/145, train_loss: 0.013746, time taken: 0.8767096996307373s\n",
      "140/145, train_loss: 0.013467, time taken: 0.9012625217437744s\n"
     ]
    },
    {
     "name": "stderr",
     "output_type": "stream",
     "text": [
      "2024-06-07 15:44 INFO epoch 273 average loss: 0.0100\n"
     ]
    },
    {
     "name": "stdout",
     "output_type": "stream",
     "text": [
      "epoch 273 average loss: 0.0100\n",
      "----------\n",
      "epoch 274/360\n",
      "10/145, train_loss: 0.007776, time taken: 0.8948104381561279s\n",
      "20/145, train_loss: 0.005201, time taken: 0.9033102989196777s\n",
      "30/145, train_loss: 0.006988, time taken: 0.8862531185150146s\n",
      "40/145, train_loss: 0.007240, time taken: 0.8964247703552246s\n",
      "50/145, train_loss: 0.008183, time taken: 0.8826982975006104s\n",
      "60/145, train_loss: 0.007777, time taken: 0.8950374126434326s\n",
      "70/145, train_loss: 0.008354, time taken: 0.8690884113311768s\n",
      "80/145, train_loss: 0.007532, time taken: 0.8819704055786133s\n",
      "90/145, train_loss: 0.007582, time taken: 0.9181194305419922s\n",
      "100/145, train_loss: 0.007550, time taken: 0.9006500244140625s\n",
      "110/145, train_loss: 0.007241, time taken: 0.8872582912445068s\n",
      "120/145, train_loss: 0.007578, time taken: 0.8957629203796387s\n",
      "130/145, train_loss: 0.007810, time taken: 0.8878514766693115s\n",
      "140/145, train_loss: 0.008048, time taken: 0.9031429290771484s\n"
     ]
    },
    {
     "name": "stderr",
     "output_type": "stream",
     "text": [
      "2024-06-07 15:47 INFO epoch 274 average loss: 0.0075\n"
     ]
    },
    {
     "name": "stdout",
     "output_type": "stream",
     "text": [
      "epoch 274 average loss: 0.0075\n",
      "----------\n",
      "epoch 275/360\n",
      "10/145, train_loss: 0.006419, time taken: 0.8755166530609131s\n",
      "20/145, train_loss: 0.004281, time taken: 0.8935620784759521s\n",
      "30/145, train_loss: 0.005298, time taken: 0.8909714221954346s\n",
      "40/145, train_loss: 0.007593, time taken: 0.9367325305938721s\n",
      "50/145, train_loss: 0.007827, time taken: 0.8900330066680908s\n",
      "60/145, train_loss: 0.006699, time taken: 0.8843426704406738s\n",
      "70/145, train_loss: 0.006795, time taken: 0.8942914009094238s\n",
      "80/145, train_loss: 0.006439, time taken: 0.8950972557067871s\n",
      "90/145, train_loss: 0.006638, time taken: 0.9112989902496338s\n",
      "100/145, train_loss: 0.006362, time taken: 0.89748215675354s\n",
      "110/145, train_loss: 0.006986, time taken: 0.8992302417755127s\n",
      "120/145, train_loss: 0.007613, time taken: 0.8931140899658203s\n",
      "130/145, train_loss: 0.007672, time taken: 0.880615234375s\n",
      "140/145, train_loss: 0.007361, time taken: 0.9135878086090088s\n"
     ]
    },
    {
     "name": "stderr",
     "output_type": "stream",
     "text": [
      "2024-06-07 15:49 INFO epoch 275 average loss: 0.0071\n"
     ]
    },
    {
     "name": "stdout",
     "output_type": "stream",
     "text": [
      "epoch 275 average loss: 0.0071\n",
      "----------\n",
      "epoch 276/360\n",
      "10/145, train_loss: 0.007885, time taken: 0.8968911170959473s\n",
      "20/145, train_loss: 0.007932, time taken: 0.8931887149810791s\n",
      "30/145, train_loss: 0.005750, time taken: 0.8989582061767578s\n",
      "40/145, train_loss: 0.006305, time taken: 0.8807892799377441s\n",
      "50/145, train_loss: 0.007250, time taken: 0.8806395530700684s\n",
      "60/145, train_loss: 0.008199, time taken: 0.8894739151000977s\n",
      "70/145, train_loss: 0.008818, time taken: 0.898155689239502s\n",
      "80/145, train_loss: 0.009626, time taken: 0.8976435661315918s\n",
      "90/145, train_loss: 0.009770, time taken: 0.8925905227661133s\n",
      "100/145, train_loss: 0.009804, time taken: 0.879873514175415s\n",
      "110/145, train_loss: 0.009287, time taken: 0.9011642932891846s\n",
      "120/145, train_loss: 0.010181, time taken: 0.9005801677703857s\n",
      "130/145, train_loss: 0.010221, time taken: 0.8831217288970947s\n",
      "140/145, train_loss: 0.009840, time taken: 0.917102575302124s\n"
     ]
    },
    {
     "name": "stderr",
     "output_type": "stream",
     "text": [
      "2024-06-07 15:51 INFO epoch 276 average loss: 0.0083\n"
     ]
    },
    {
     "name": "stdout",
     "output_type": "stream",
     "text": [
      "epoch 276 average loss: 0.0083\n",
      "----------\n",
      "epoch 277/360\n",
      "10/145, train_loss: 0.004698, time taken: 0.8874499797821045s\n",
      "20/145, train_loss: 0.011602, time taken: 0.8942089080810547s\n",
      "30/145, train_loss: 0.013553, time taken: 0.9010193347930908s\n",
      "40/145, train_loss: 0.013784, time taken: 0.8969805240631104s\n",
      "50/145, train_loss: 0.011738, time taken: 0.9001073837280273s\n",
      "60/145, train_loss: 0.012028, time taken: 0.878760576248169s\n",
      "70/145, train_loss: 0.013928, time taken: 0.8835287094116211s\n",
      "80/145, train_loss: 0.014209, time taken: 0.8784141540527344s\n",
      "90/145, train_loss: 0.012880, time taken: 0.8864250183105469s\n",
      "100/145, train_loss: 0.012416, time taken: 0.8854012489318848s\n",
      "110/145, train_loss: 0.012246, time taken: 0.9094388484954834s\n",
      "120/145, train_loss: 0.011440, time taken: 0.9392068386077881s\n",
      "130/145, train_loss: 0.011160, time taken: 0.8752522468566895s\n",
      "140/145, train_loss: 0.011839, time taken: 0.8810663223266602s\n"
     ]
    },
    {
     "name": "stderr",
     "output_type": "stream",
     "text": [
      "2024-06-07 15:53 INFO epoch 277 average loss: 0.0118\n"
     ]
    },
    {
     "name": "stdout",
     "output_type": "stream",
     "text": [
      "epoch 277 average loss: 0.0118\n",
      "----------\n",
      "epoch 278/360\n",
      "10/145, train_loss: 0.006184, time taken: 1.0103058815002441s\n",
      "20/145, train_loss: 0.009364, time taken: 0.9036083221435547s\n",
      "30/145, train_loss: 0.009461, time taken: 0.8843154907226562s\n",
      "40/145, train_loss: 0.009514, time taken: 0.8911690711975098s\n",
      "50/145, train_loss: 0.010209, time taken: 0.8943305015563965s\n",
      "60/145, train_loss: 0.010611, time taken: 0.9006130695343018s\n",
      "70/145, train_loss: 0.012093, time taken: 0.9258556365966797s\n",
      "80/145, train_loss: 0.011763, time taken: 0.8855915069580078s\n",
      "90/145, train_loss: 0.010947, time taken: 0.888371467590332s\n",
      "100/145, train_loss: 0.011376, time taken: 0.8821470737457275s\n",
      "110/145, train_loss: 0.011111, time taken: 0.8934204578399658s\n",
      "120/145, train_loss: 0.011534, time taken: 0.9061477184295654s\n",
      "130/145, train_loss: 0.011490, time taken: 0.9091265201568604s\n",
      "140/145, train_loss: 0.011993, time taken: 0.9001836776733398s\n"
     ]
    },
    {
     "name": "stderr",
     "output_type": "stream",
     "text": [
      "2024-06-07 15:55 INFO epoch 278 average loss: 0.0105\n"
     ]
    },
    {
     "name": "stdout",
     "output_type": "stream",
     "text": [
      "epoch 278 average loss: 0.0105\n",
      "----------\n",
      "epoch 279/360\n",
      "10/145, train_loss: 0.008642, time taken: 0.8864176273345947s\n",
      "20/145, train_loss: 0.008286, time taken: 0.9132857322692871s\n",
      "30/145, train_loss: 0.009443, time taken: 0.8950717449188232s\n",
      "40/145, train_loss: 0.014242, time taken: 0.9010944366455078s\n",
      "50/145, train_loss: 0.013388, time taken: 0.8832559585571289s\n",
      "60/145, train_loss: 0.013601, time taken: 0.8979613780975342s\n",
      "70/145, train_loss: 0.013322, time taken: 0.8979673385620117s\n",
      "80/145, train_loss: 0.013803, time taken: 0.8840787410736084s\n",
      "90/145, train_loss: 0.013420, time taken: 0.9009885787963867s\n",
      "100/145, train_loss: 0.013015, time taken: 0.9086265563964844s\n",
      "110/145, train_loss: 0.012215, time taken: 0.8921816349029541s\n",
      "120/145, train_loss: 0.013120, time taken: 0.9177308082580566s\n",
      "130/145, train_loss: 0.013854, time taken: 0.8865740299224854s\n",
      "140/145, train_loss: 0.013013, time taken: 0.8923215866088867s\n"
     ]
    },
    {
     "name": "stderr",
     "output_type": "stream",
     "text": [
      "2024-06-07 15:58 INFO epoch 279 average loss: 0.0122\n"
     ]
    },
    {
     "name": "stdout",
     "output_type": "stream",
     "text": [
      "epoch 279 average loss: 0.0122\n",
      "----------\n",
      "epoch 280/360\n",
      "10/145, train_loss: 0.003121, time taken: 0.8886098861694336s\n",
      "20/145, train_loss: 0.011694, time taken: 0.9067847728729248s\n",
      "30/145, train_loss: 0.009765, time taken: 0.9030799865722656s\n",
      "40/145, train_loss: 0.009636, time taken: 0.8989195823669434s\n",
      "50/145, train_loss: 0.008055, time taken: 0.8861610889434814s\n",
      "60/145, train_loss: 0.008706, time taken: 0.8944578170776367s\n",
      "70/145, train_loss: 0.009451, time taken: 0.9018096923828125s\n",
      "80/145, train_loss: 0.010031, time taken: 0.9696815013885498s\n",
      "90/145, train_loss: 0.011538, time taken: 0.9077801704406738s\n",
      "100/145, train_loss: 0.011382, time taken: 0.9220778942108154s\n",
      "110/145, train_loss: 0.011507, time taken: 0.904656171798706s\n",
      "120/145, train_loss: 0.011618, time taken: 0.9095664024353027s\n",
      "130/145, train_loss: 0.011323, time taken: 0.8892786502838135s\n",
      "140/145, train_loss: 0.011309, time taken: 0.892669677734375s\n"
     ]
    },
    {
     "name": "stderr",
     "output_type": "stream",
     "text": [
      "2024-06-07 16:00 INFO epoch 280 average loss: 0.0098\n"
     ]
    },
    {
     "name": "stdout",
     "output_type": "stream",
     "text": [
      "epoch 280 average loss: 0.0098\n",
      "----------\n",
      "epoch 281/360\n",
      "10/145, train_loss: 0.007862, time taken: 0.8913815021514893s\n",
      "20/145, train_loss: 0.007097, time taken: 0.8931760787963867s\n",
      "30/145, train_loss: 0.004900, time taken: 0.8833787441253662s\n",
      "40/145, train_loss: 0.006081, time taken: 0.9046087265014648s\n",
      "50/145, train_loss: 0.007264, time taken: 0.8803412914276123s\n",
      "60/145, train_loss: 0.007668, time taken: 0.8914310932159424s\n",
      "70/145, train_loss: 0.007053, time taken: 0.8839545249938965s\n",
      "80/145, train_loss: 0.006344, time taken: 0.9086740016937256s\n",
      "90/145, train_loss: 0.006118, time taken: 0.89327073097229s\n",
      "100/145, train_loss: 0.005678, time taken: 0.8738012313842773s\n",
      "110/145, train_loss: 0.005639, time taken: 0.908886194229126s\n",
      "120/145, train_loss: 0.005762, time taken: 0.9209036827087402s\n",
      "130/145, train_loss: 0.005868, time taken: 0.9039785861968994s\n",
      "140/145, train_loss: 0.006103, time taken: 0.8831784725189209s\n"
     ]
    },
    {
     "name": "stderr",
     "output_type": "stream",
     "text": [
      "2024-06-07 16:02 INFO epoch 281 average loss: 0.0061\n"
     ]
    },
    {
     "name": "stdout",
     "output_type": "stream",
     "text": [
      "epoch 281 average loss: 0.0061\n",
      "----------\n",
      "epoch 282/360\n",
      "10/145, train_loss: 0.000264, time taken: 0.9107620716094971s\n",
      "20/145, train_loss: 0.000886, time taken: 0.8732728958129883s\n",
      "30/145, train_loss: 0.003342, time taken: 0.8919854164123535s\n",
      "40/145, train_loss: 0.004902, time taken: 0.8776490688323975s\n",
      "50/145, train_loss: 0.005188, time taken: 0.901777982711792s\n",
      "60/145, train_loss: 0.006019, time taken: 0.8748371601104736s\n",
      "70/145, train_loss: 0.005787, time taken: 0.8775544166564941s\n",
      "80/145, train_loss: 0.005886, time taken: 0.8942861557006836s\n",
      "90/145, train_loss: 0.005741, time taken: 0.8876252174377441s\n",
      "100/145, train_loss: 0.006214, time taken: 0.9006905555725098s\n",
      "110/145, train_loss: 0.006557, time taken: 0.8980245590209961s\n",
      "120/145, train_loss: 0.006564, time taken: 0.9200799465179443s\n",
      "130/145, train_loss: 0.006589, time taken: 0.8812496662139893s\n",
      "140/145, train_loss: 0.006193, time taken: 0.8991873264312744s\n"
     ]
    },
    {
     "name": "stderr",
     "output_type": "stream",
     "text": [
      "2024-06-07 16:04 INFO epoch 282 average loss: 0.0048\n"
     ]
    },
    {
     "name": "stdout",
     "output_type": "stream",
     "text": [
      "epoch 282 average loss: 0.0048\n",
      "----------\n",
      "epoch 283/360\n",
      "10/145, train_loss: 0.001322, time taken: 0.8768370151519775s\n",
      "20/145, train_loss: 0.007500, time taken: 0.8795187473297119s\n",
      "30/145, train_loss: 0.005291, time taken: 0.8979511260986328s\n",
      "40/145, train_loss: 0.005608, time taken: 0.889167070388794s\n",
      "50/145, train_loss: 0.004838, time taken: 0.8869221210479736s\n",
      "60/145, train_loss: 0.005091, time taken: 0.8662023544311523s\n",
      "70/145, train_loss: 0.004411, time taken: 0.8980648517608643s\n",
      "80/145, train_loss: 0.003959, time taken: 0.874497652053833s\n",
      "90/145, train_loss: 0.003684, time taken: 0.8937690258026123s\n",
      "100/145, train_loss: 0.004297, time taken: 0.9056289196014404s\n",
      "110/145, train_loss: 0.004251, time taken: 0.8875885009765625s\n",
      "120/145, train_loss: 0.004500, time taken: 0.9950816631317139s\n",
      "130/145, train_loss: 0.005687, time taken: 0.8966696262359619s\n",
      "140/145, train_loss: 0.005703, time taken: 0.8741252422332764s\n"
     ]
    },
    {
     "name": "stderr",
     "output_type": "stream",
     "text": [
      "2024-06-07 16:06 INFO epoch 283 average loss: 0.0047\n"
     ]
    },
    {
     "name": "stdout",
     "output_type": "stream",
     "text": [
      "epoch 283 average loss: 0.0047\n",
      "----------\n",
      "epoch 284/360\n",
      "10/145, train_loss: 0.007199, time taken: 0.8925325870513916s\n",
      "20/145, train_loss: 0.006111, time taken: 0.9039971828460693s\n",
      "30/145, train_loss: 0.005999, time taken: 0.9041321277618408s\n",
      "40/145, train_loss: 0.005728, time taken: 0.8983578681945801s\n",
      "50/145, train_loss: 0.005199, time taken: 0.9080417156219482s\n",
      "60/145, train_loss: 0.007077, time taken: 0.9017274379730225s\n",
      "70/145, train_loss: 0.006593, time taken: 0.8807764053344727s\n",
      "80/145, train_loss: 0.006677, time taken: 0.8768322467803955s\n",
      "90/145, train_loss: 0.007335, time taken: 0.8861863613128662s\n",
      "100/145, train_loss: 0.008411, time taken: 0.8831007480621338s\n",
      "110/145, train_loss: 0.008509, time taken: 0.8932645320892334s\n",
      "120/145, train_loss: 0.008641, time taken: 0.9008495807647705s\n",
      "130/145, train_loss: 0.009193, time taken: 0.8752644062042236s\n",
      "140/145, train_loss: 0.009498, time taken: 0.8779251575469971s\n"
     ]
    },
    {
     "name": "stderr",
     "output_type": "stream",
     "text": [
      "2024-06-07 16:09 INFO epoch 284 average loss: 0.0077\n"
     ]
    },
    {
     "name": "stdout",
     "output_type": "stream",
     "text": [
      "epoch 284 average loss: 0.0077\n",
      "----------\n",
      "epoch 285/360\n",
      "10/145, train_loss: 0.003772, time taken: 0.9013736248016357s\n",
      "20/145, train_loss: 0.005503, time taken: 0.9138541221618652s\n",
      "30/145, train_loss: 0.004849, time taken: 0.8986904621124268s\n",
      "40/145, train_loss: 0.005113, time taken: 0.9016790390014648s\n",
      "50/145, train_loss: 0.005153, time taken: 0.8861713409423828s\n",
      "60/145, train_loss: 0.006308, time taken: 0.8707523345947266s\n",
      "70/145, train_loss: 0.007293, time taken: 0.9037697315216064s\n",
      "80/145, train_loss: 0.007268, time taken: 0.9026076793670654s\n",
      "90/145, train_loss: 0.007792, time taken: 0.8797001838684082s\n",
      "100/145, train_loss: 0.007283, time taken: 0.8948817253112793s\n",
      "110/145, train_loss: 0.007170, time taken: 0.8781583309173584s\n",
      "120/145, train_loss: 0.007701, time taken: 0.884845495223999s\n",
      "130/145, train_loss: 0.008224, time taken: 0.8893163204193115s\n",
      "140/145, train_loss: 0.007852, time taken: 0.8842806816101074s\n"
     ]
    },
    {
     "name": "stderr",
     "output_type": "stream",
     "text": [
      "2024-06-07 16:11 INFO epoch 285 average loss: 0.0065\n"
     ]
    },
    {
     "name": "stdout",
     "output_type": "stream",
     "text": [
      "epoch 285 average loss: 0.0065\n",
      "----------\n",
      "epoch 286/360\n",
      "10/145, train_loss: 0.002348, time taken: 0.9096300601959229s\n",
      "20/145, train_loss: 0.005089, time taken: 0.8972513675689697s\n",
      "30/145, train_loss: 0.005639, time taken: 0.8853144645690918s\n",
      "40/145, train_loss: 0.007489, time taken: 0.9259583950042725s\n",
      "50/145, train_loss: 0.008627, time taken: 0.9013662338256836s\n",
      "60/145, train_loss: 0.008644, time taken: 0.8904983997344971s\n",
      "70/145, train_loss: 0.009194, time taken: 0.9066367149353027s\n",
      "80/145, train_loss: 0.008919, time taken: 0.9862089157104492s\n",
      "90/145, train_loss: 0.008180, time taken: 0.8969287872314453s\n",
      "100/145, train_loss: 0.008008, time taken: 0.8736979961395264s\n",
      "110/145, train_loss: 0.008076, time taken: 0.8875834941864014s\n",
      "120/145, train_loss: 0.007668, time taken: 0.9247887134552002s\n",
      "130/145, train_loss: 0.007167, time taken: 0.8967039585113525s\n",
      "140/145, train_loss: 0.007074, time taken: 0.8881137371063232s\n"
     ]
    },
    {
     "name": "stderr",
     "output_type": "stream",
     "text": [
      "2024-06-07 16:13 INFO epoch 286 average loss: 0.0071\n"
     ]
    },
    {
     "name": "stdout",
     "output_type": "stream",
     "text": [
      "epoch 286 average loss: 0.0071\n",
      "----------\n",
      "epoch 287/360\n",
      "10/145, train_loss: 0.007322, time taken: 0.8946692943572998s\n",
      "20/145, train_loss: 0.007861, time taken: 0.9106287956237793s\n",
      "30/145, train_loss: 0.006738, time taken: 0.8923897743225098s\n",
      "40/145, train_loss: 0.009145, time taken: 0.8921632766723633s\n",
      "50/145, train_loss: 0.009446, time taken: 0.9135797023773193s\n",
      "60/145, train_loss: 0.009451, time taken: 0.8959918022155762s\n",
      "70/145, train_loss: 0.008900, time taken: 0.9929440021514893s\n",
      "80/145, train_loss: 0.008110, time taken: 0.8962702751159668s\n",
      "90/145, train_loss: 0.007887, time taken: 0.9025692939758301s\n",
      "100/145, train_loss: 0.007391, time taken: 0.8740260601043701s\n",
      "110/145, train_loss: 0.006978, time taken: 0.9067010879516602s\n",
      "120/145, train_loss: 0.006846, time taken: 0.8783783912658691s\n",
      "130/145, train_loss: 0.006759, time taken: 0.8931765556335449s\n",
      "140/145, train_loss: 0.006647, time taken: 0.8842873573303223s\n"
     ]
    },
    {
     "name": "stderr",
     "output_type": "stream",
     "text": [
      "2024-06-07 16:15 INFO epoch 287 average loss: 0.0078\n"
     ]
    },
    {
     "name": "stdout",
     "output_type": "stream",
     "text": [
      "epoch 287 average loss: 0.0078\n",
      "----------\n",
      "epoch 288/360\n",
      "10/145, train_loss: 0.008712, time taken: 0.8978052139282227s\n",
      "20/145, train_loss: 0.009539, time taken: 0.8716466426849365s\n",
      "30/145, train_loss: 0.007323, time taken: 0.8953919410705566s\n",
      "40/145, train_loss: 0.006150, time taken: 0.9233198165893555s\n",
      "50/145, train_loss: 0.006649, time taken: 0.8825373649597168s\n",
      "60/145, train_loss: 0.007738, time taken: 0.8698010444641113s\n",
      "70/145, train_loss: 0.007800, time taken: 0.8985536098480225s\n",
      "80/145, train_loss: 0.007579, time taken: 0.9060225486755371s\n",
      "90/145, train_loss: 0.007456, time taken: 0.8912994861602783s\n",
      "100/145, train_loss: 0.007386, time taken: 0.8818590641021729s\n",
      "110/145, train_loss: 0.008471, time taken: 0.870368242263794s\n",
      "120/145, train_loss: 0.009336, time taken: 0.9042725563049316s\n",
      "130/145, train_loss: 0.009838, time taken: 0.9126381874084473s\n",
      "140/145, train_loss: 0.010730, time taken: 0.8914895057678223s\n"
     ]
    },
    {
     "name": "stderr",
     "output_type": "stream",
     "text": [
      "2024-06-07 16:17 INFO epoch 288 average loss: 0.0085\n"
     ]
    },
    {
     "name": "stdout",
     "output_type": "stream",
     "text": [
      "epoch 288 average loss: 0.0085\n",
      "----------\n",
      "epoch 289/360\n",
      "10/145, train_loss: 0.002837, time taken: 0.89145827293396s\n",
      "20/145, train_loss: 0.003095, time taken: 0.8816475868225098s\n",
      "30/145, train_loss: 0.005111, time taken: 0.8854026794433594s\n",
      "40/145, train_loss: 0.004645, time taken: 0.8818264007568359s\n",
      "50/145, train_loss: 0.004941, time taken: 0.8921911716461182s\n",
      "60/145, train_loss: 0.005758, time taken: 0.8868546485900879s\n",
      "70/145, train_loss: 0.007329, time taken: 0.9009687900543213s\n",
      "80/145, train_loss: 0.007680, time taken: 0.8728854656219482s\n",
      "90/145, train_loss: 0.008295, time taken: 0.9045143127441406s\n",
      "100/145, train_loss: 0.008227, time taken: 0.8963377475738525s\n",
      "110/145, train_loss: 0.008373, time taken: 0.8972513675689697s\n",
      "120/145, train_loss: 0.008674, time taken: 0.9017155170440674s\n",
      "130/145, train_loss: 0.009332, time taken: 0.9058759212493896s\n",
      "140/145, train_loss: 0.009442, time taken: 0.8992483615875244s\n"
     ]
    },
    {
     "name": "stderr",
     "output_type": "stream",
     "text": [
      "2024-06-07 16:20 INFO epoch 289 average loss: 0.0066\n"
     ]
    },
    {
     "name": "stdout",
     "output_type": "stream",
     "text": [
      "epoch 289 average loss: 0.0066\n",
      "----------\n",
      "epoch 290/360\n",
      "10/145, train_loss: 0.003522, time taken: 0.9010171890258789s\n",
      "20/145, train_loss: 0.006616, time taken: 0.8988165855407715s\n",
      "30/145, train_loss: 0.009024, time taken: 0.9210655689239502s\n",
      "40/145, train_loss: 0.007754, time taken: 0.9016766548156738s\n",
      "50/145, train_loss: 0.006832, time taken: 0.8796653747558594s\n",
      "60/145, train_loss: 0.007702, time taken: 0.8737859725952148s\n",
      "70/145, train_loss: 0.008711, time taken: 0.9184689521789551s\n",
      "80/145, train_loss: 0.008843, time taken: 0.9147043228149414s\n",
      "90/145, train_loss: 0.009071, time taken: 0.8736255168914795s\n",
      "100/145, train_loss: 0.009191, time taken: 0.9046776294708252s\n",
      "110/145, train_loss: 0.008801, time taken: 0.9049432277679443s\n",
      "120/145, train_loss: 0.008086, time taken: 0.899003267288208s\n",
      "130/145, train_loss: 0.008579, time taken: 0.8968205451965332s\n",
      "140/145, train_loss: 0.008896, time taken: 0.8845822811126709s\n"
     ]
    },
    {
     "name": "stderr",
     "output_type": "stream",
     "text": [
      "2024-06-07 16:22 INFO epoch 290 average loss: 0.0081\n"
     ]
    },
    {
     "name": "stdout",
     "output_type": "stream",
     "text": [
      "epoch 290 average loss: 0.0081\n",
      "----------\n",
      "epoch 291/360\n",
      "10/145, train_loss: 0.010875, time taken: 0.9116761684417725s\n",
      "20/145, train_loss: 0.007326, time taken: 0.8991312980651855s\n",
      "30/145, train_loss: 0.005225, time taken: 0.8955874443054199s\n",
      "40/145, train_loss: 0.004842, time taken: 0.8975517749786377s\n",
      "50/145, train_loss: 0.007511, time taken: 0.9083926677703857s\n",
      "60/145, train_loss: 0.006661, time taken: 0.8839128017425537s\n",
      "70/145, train_loss: 0.007136, time taken: 0.8892841339111328s\n",
      "80/145, train_loss: 0.007317, time taken: 0.8873083591461182s\n",
      "90/145, train_loss: 0.007178, time taken: 0.8789160251617432s\n",
      "100/145, train_loss: 0.006990, time taken: 0.9118289947509766s\n",
      "110/145, train_loss: 0.006636, time taken: 0.8838841915130615s\n",
      "120/145, train_loss: 0.007002, time taken: 0.9030003547668457s\n",
      "130/145, train_loss: 0.007369, time taken: 0.8988332748413086s\n",
      "140/145, train_loss: 0.007468, time taken: 0.8872861862182617s\n"
     ]
    },
    {
     "name": "stderr",
     "output_type": "stream",
     "text": [
      "2024-06-07 16:24 INFO epoch 291 average loss: 0.0075\n"
     ]
    },
    {
     "name": "stdout",
     "output_type": "stream",
     "text": [
      "epoch 291 average loss: 0.0075\n",
      "----------\n",
      "epoch 292/360\n",
      "10/145, train_loss: 0.000802, time taken: 0.9624209403991699s\n",
      "20/145, train_loss: 0.002212, time taken: 0.8930153846740723s\n",
      "30/145, train_loss: 0.001682, time taken: 0.8893585205078125s\n",
      "40/145, train_loss: 0.002625, time taken: 0.9000439643859863s\n",
      "50/145, train_loss: 0.002881, time taken: 0.9007589817047119s\n",
      "60/145, train_loss: 0.004431, time taken: 0.8774664402008057s\n",
      "70/145, train_loss: 0.004389, time taken: 0.8948748111724854s\n",
      "80/145, train_loss: 0.004668, time taken: 0.8886475563049316s\n",
      "90/145, train_loss: 0.005219, time taken: 0.9065122604370117s\n",
      "100/145, train_loss: 0.007322, time taken: 0.8804948329925537s\n",
      "110/145, train_loss: 0.007101, time taken: 0.8938913345336914s\n",
      "120/145, train_loss: 0.007488, time taken: 0.8949921131134033s\n",
      "130/145, train_loss: 0.008068, time taken: 0.882274866104126s\n",
      "140/145, train_loss: 0.008042, time taken: 0.9165711402893066s\n"
     ]
    },
    {
     "name": "stderr",
     "output_type": "stream",
     "text": [
      "2024-06-07 16:26 INFO epoch 292 average loss: 0.0047\n"
     ]
    },
    {
     "name": "stdout",
     "output_type": "stream",
     "text": [
      "epoch 292 average loss: 0.0047\n",
      "----------\n",
      "epoch 293/360\n",
      "10/145, train_loss: 0.005057, time taken: 0.8719370365142822s\n",
      "20/145, train_loss: 0.009175, time taken: 0.9246969223022461s\n",
      "30/145, train_loss: 0.009036, time taken: 0.9002766609191895s\n",
      "40/145, train_loss: 0.008525, time taken: 0.8976466655731201s\n",
      "50/145, train_loss: 0.008934, time taken: 0.883812665939331s\n",
      "60/145, train_loss: 0.009220, time taken: 0.8925752639770508s\n",
      "70/145, train_loss: 0.007968, time taken: 0.8819980621337891s\n",
      "80/145, train_loss: 0.007864, time taken: 0.8924224376678467s\n",
      "90/145, train_loss: 0.007448, time taken: 0.8936872482299805s\n",
      "100/145, train_loss: 0.008262, time taken: 0.9099094867706299s\n",
      "110/145, train_loss: 0.007981, time taken: 0.8783152103424072s\n",
      "120/145, train_loss: 0.007970, time taken: 0.8724708557128906s\n",
      "130/145, train_loss: 0.008300, time taken: 0.8900167942047119s\n",
      "140/145, train_loss: 0.008925, time taken: 0.8815865516662598s\n"
     ]
    },
    {
     "name": "stderr",
     "output_type": "stream",
     "text": [
      "2024-06-07 16:28 INFO epoch 293 average loss: 0.0082\n"
     ]
    },
    {
     "name": "stdout",
     "output_type": "stream",
     "text": [
      "epoch 293 average loss: 0.0082\n",
      "----------\n",
      "epoch 294/360\n",
      "10/145, train_loss: 0.007717, time taken: 0.8932240009307861s\n",
      "20/145, train_loss: 0.010351, time taken: 0.8924624919891357s\n",
      "30/145, train_loss: 0.011057, time taken: 0.8969907760620117s\n",
      "40/145, train_loss: 0.010914, time taken: 0.8841629028320312s\n",
      "50/145, train_loss: 0.009445, time taken: 0.8752052783966064s\n",
      "60/145, train_loss: 0.009183, time taken: 0.8871850967407227s\n",
      "70/145, train_loss: 0.010494, time taken: 0.8834478855133057s\n",
      "80/145, train_loss: 0.009680, time taken: 0.9724030494689941s\n",
      "90/145, train_loss: 0.009266, time taken: 0.9260079860687256s\n",
      "100/145, train_loss: 0.008823, time taken: 0.887723445892334s\n",
      "110/145, train_loss: 0.008043, time taken: 0.9406454563140869s\n",
      "120/145, train_loss: 0.007551, time taken: 0.8861238956451416s\n",
      "130/145, train_loss: 0.007721, time taken: 0.9016373157501221s\n",
      "140/145, train_loss: 0.007253, time taken: 0.8785269260406494s\n"
     ]
    },
    {
     "name": "stderr",
     "output_type": "stream",
     "text": [
      "2024-06-07 16:31 INFO epoch 294 average loss: 0.0089\n"
     ]
    },
    {
     "name": "stdout",
     "output_type": "stream",
     "text": [
      "epoch 294 average loss: 0.0089\n",
      "----------\n",
      "epoch 295/360\n",
      "10/145, train_loss: 0.000986, time taken: 0.9119596481323242s\n",
      "20/145, train_loss: 0.001104, time taken: 0.9236865043640137s\n",
      "30/145, train_loss: 0.003787, time taken: 0.8974864482879639s\n",
      "40/145, train_loss: 0.004734, time taken: 0.9076526165008545s\n",
      "50/145, train_loss: 0.004161, time taken: 0.8926284313201904s\n",
      "60/145, train_loss: 0.004646, time taken: 0.885936975479126s\n",
      "70/145, train_loss: 0.005438, time taken: 0.892164945602417s\n",
      "80/145, train_loss: 0.005560, time taken: 0.890286922454834s\n",
      "90/145, train_loss: 0.006189, time taken: 0.8781507015228271s\n",
      "100/145, train_loss: 0.005920, time taken: 0.8867487907409668s\n",
      "110/145, train_loss: 0.005910, time taken: 0.8848762512207031s\n",
      "120/145, train_loss: 0.006538, time taken: 0.8932895660400391s\n",
      "130/145, train_loss: 0.006294, time taken: 0.8804965019226074s\n",
      "140/145, train_loss: 0.006677, time taken: 0.9132640361785889s\n"
     ]
    },
    {
     "name": "stderr",
     "output_type": "stream",
     "text": [
      "2024-06-07 16:33 INFO epoch 295 average loss: 0.0048\n"
     ]
    },
    {
     "name": "stdout",
     "output_type": "stream",
     "text": [
      "epoch 295 average loss: 0.0048\n",
      "----------\n",
      "epoch 296/360\n",
      "10/145, train_loss: 0.001471, time taken: 0.8939633369445801s\n",
      "20/145, train_loss: 0.002384, time taken: 0.9046609401702881s\n",
      "30/145, train_loss: 0.001854, time taken: 0.889702558517456s\n",
      "40/145, train_loss: 0.001853, time taken: 0.9190058708190918s\n",
      "50/145, train_loss: 0.002748, time taken: 0.862713098526001s\n",
      "60/145, train_loss: 0.003079, time taken: 0.8805294036865234s\n",
      "70/145, train_loss: 0.002762, time taken: 0.8711085319519043s\n",
      "80/145, train_loss: 0.002633, time taken: 0.8743853569030762s\n",
      "90/145, train_loss: 0.003038, time taken: 0.894115686416626s\n",
      "100/145, train_loss: 0.003387, time taken: 0.8787143230438232s\n",
      "110/145, train_loss: 0.003694, time taken: 0.8889100551605225s\n",
      "120/145, train_loss: 0.003782, time taken: 0.8848655223846436s\n",
      "130/145, train_loss: 0.005314, time taken: 0.886533260345459s\n",
      "140/145, train_loss: 0.006438, time taken: 0.8813958168029785s\n"
     ]
    },
    {
     "name": "stderr",
     "output_type": "stream",
     "text": [
      "2024-06-07 16:35 INFO epoch 296 average loss: 0.0032\n"
     ]
    },
    {
     "name": "stdout",
     "output_type": "stream",
     "text": [
      "epoch 296 average loss: 0.0032\n",
      "----------\n",
      "epoch 297/360\n",
      "10/145, train_loss: 0.004104, time taken: 0.8941478729248047s\n",
      "20/145, train_loss: 0.005347, time taken: 0.8701426982879639s\n",
      "30/145, train_loss: 0.005207, time taken: 0.8743331432342529s\n",
      "40/145, train_loss: 0.005315, time taken: 0.8866801261901855s\n",
      "50/145, train_loss: 0.004838, time taken: 0.8746507167816162s\n",
      "60/145, train_loss: 0.004193, time taken: 0.8907747268676758s\n",
      "70/145, train_loss: 0.004400, time taken: 0.8757646083831787s\n",
      "80/145, train_loss: 0.003943, time taken: 0.8861634731292725s\n",
      "90/145, train_loss: 0.003971, time taken: 0.8991756439208984s\n",
      "100/145, train_loss: 0.004079, time taken: 0.9077043533325195s\n",
      "110/145, train_loss: 0.004633, time taken: 0.8914060592651367s\n",
      "120/145, train_loss: 0.005392, time taken: 0.9750282764434814s\n",
      "130/145, train_loss: 0.006170, time taken: 0.874506950378418s\n",
      "140/145, train_loss: 0.006708, time taken: 0.9153604507446289s\n"
     ]
    },
    {
     "name": "stderr",
     "output_type": "stream",
     "text": [
      "2024-06-07 16:37 INFO epoch 297 average loss: 0.0050\n"
     ]
    },
    {
     "name": "stdout",
     "output_type": "stream",
     "text": [
      "epoch 297 average loss: 0.0050\n",
      "----------\n",
      "epoch 298/360\n",
      "10/145, train_loss: 0.013040, time taken: 0.8861191272735596s\n",
      "20/145, train_loss: 0.018274, time taken: 0.9045937061309814s\n",
      "30/145, train_loss: 0.021259, time taken: 0.8820223808288574s\n",
      "40/145, train_loss: 0.018049, time taken: 0.9178519248962402s\n",
      "50/145, train_loss: 0.015579, time taken: 0.9026379585266113s\n",
      "60/145, train_loss: 0.014220, time taken: 0.873976469039917s\n",
      "70/145, train_loss: 0.012723, time taken: 0.8809318542480469s\n",
      "80/145, train_loss: 0.012664, time taken: 0.8915560245513916s\n",
      "90/145, train_loss: 0.012501, time taken: 0.8859267234802246s\n",
      "100/145, train_loss: 0.012400, time taken: 0.9044759273529053s\n",
      "110/145, train_loss: 0.012544, time taken: 0.8998866081237793s\n",
      "120/145, train_loss: 0.012466, time taken: 0.8783824443817139s\n",
      "130/145, train_loss: 0.013489, time taken: 0.8806462287902832s\n",
      "140/145, train_loss: 0.014099, time taken: 0.883162260055542s\n"
     ]
    },
    {
     "name": "stderr",
     "output_type": "stream",
     "text": [
      "2024-06-07 16:39 INFO epoch 298 average loss: 0.0146\n"
     ]
    },
    {
     "name": "stdout",
     "output_type": "stream",
     "text": [
      "epoch 298 average loss: 0.0146\n",
      "----------\n",
      "epoch 299/360\n",
      "10/145, train_loss: 0.004338, time taken: 0.8884837627410889s\n",
      "20/145, train_loss: 0.006714, time taken: 0.895153284072876s\n",
      "30/145, train_loss: 0.010014, time taken: 0.9092502593994141s\n",
      "40/145, train_loss: 0.011229, time taken: 0.8816869258880615s\n",
      "50/145, train_loss: 0.011569, time taken: 0.8887784481048584s\n",
      "60/145, train_loss: 0.010643, time taken: 0.8782691955566406s\n",
      "70/145, train_loss: 0.011389, time taken: 0.9076805114746094s\n",
      "80/145, train_loss: 0.010816, time taken: 0.8903594017028809s\n",
      "90/145, train_loss: 0.010610, time taken: 0.9180722236633301s\n",
      "100/145, train_loss: 0.011123, time taken: 0.9040358066558838s\n",
      "110/145, train_loss: 0.011085, time taken: 0.8900225162506104s\n",
      "120/145, train_loss: 0.010349, time taken: 0.9138655662536621s\n",
      "130/145, train_loss: 0.009984, time taken: 0.8759253025054932s\n",
      "140/145, train_loss: 0.009980, time taken: 0.8973615169525146s\n"
     ]
    },
    {
     "name": "stderr",
     "output_type": "stream",
     "text": [
      "2024-06-07 16:42 INFO epoch 299 average loss: 0.0098\n"
     ]
    },
    {
     "name": "stdout",
     "output_type": "stream",
     "text": [
      "epoch 299 average loss: 0.0098\n",
      "----------\n",
      "epoch 300/360\n",
      "10/145, train_loss: 0.015261, time taken: 0.9026854038238525s\n",
      "20/145, train_loss: 0.015661, time taken: 0.8892638683319092s\n",
      "30/145, train_loss: 0.013529, time taken: 0.9120998382568359s\n",
      "40/145, train_loss: 0.015610, time taken: 0.8940346240997314s\n",
      "50/145, train_loss: 0.013316, time taken: 0.8910763263702393s\n",
      "60/145, train_loss: 0.012994, time taken: 0.896136999130249s\n",
      "70/145, train_loss: 0.011544, time taken: 0.9164338111877441s\n",
      "80/145, train_loss: 0.010562, time taken: 0.9759316444396973s\n",
      "90/145, train_loss: 0.009981, time taken: 0.9043786525726318s\n",
      "100/145, train_loss: 0.009534, time taken: 0.9061076641082764s\n",
      "110/145, train_loss: 0.009178, time taken: 0.8977668285369873s\n",
      "120/145, train_loss: 0.009117, time taken: 0.8819785118103027s\n",
      "130/145, train_loss: 0.009518, time taken: 0.8905830383300781s\n",
      "140/145, train_loss: 0.009228, time taken: 0.8973426818847656s\n"
     ]
    },
    {
     "name": "stderr",
     "output_type": "stream",
     "text": [
      "2024-06-07 16:44 INFO epoch 300 average loss: 0.0116\n"
     ]
    },
    {
     "name": "stdout",
     "output_type": "stream",
     "text": [
      "epoch 300 average loss: 0.0116\n",
      "----------\n",
      "epoch 301/360\n",
      "10/145, train_loss: 0.015640, time taken: 0.9110355377197266s\n",
      "20/145, train_loss: 0.016443, time taken: 0.8864586353302002s\n",
      "30/145, train_loss: 0.013169, time taken: 0.8932440280914307s\n",
      "40/145, train_loss: 0.012859, time taken: 0.9023144245147705s\n",
      "50/145, train_loss: 0.012055, time taken: 0.8831405639648438s\n",
      "60/145, train_loss: 0.012060, time taken: 0.8792562484741211s\n",
      "70/145, train_loss: 0.011068, time taken: 0.9766428470611572s\n",
      "80/145, train_loss: 0.010368, time taken: 0.8892738819122314s\n",
      "90/145, train_loss: 0.009631, time taken: 0.8957235813140869s\n",
      "100/145, train_loss: 0.009101, time taken: 0.8769145011901855s\n",
      "110/145, train_loss: 0.008569, time taken: 0.8778173923492432s\n",
      "120/145, train_loss: 0.008473, time taken: 0.8916406631469727s\n",
      "130/145, train_loss: 0.008050, time taken: 0.8764646053314209s\n",
      "140/145, train_loss: 0.008225, time taken: 0.8961963653564453s\n"
     ]
    },
    {
     "name": "stderr",
     "output_type": "stream",
     "text": [
      "2024-06-07 16:46 INFO epoch 301 average loss: 0.0114\n"
     ]
    },
    {
     "name": "stdout",
     "output_type": "stream",
     "text": [
      "epoch 301 average loss: 0.0114\n",
      "----------\n",
      "epoch 302/360\n",
      "10/145, train_loss: 0.003636, time taken: 0.8945963382720947s\n",
      "20/145, train_loss: 0.003469, time taken: 0.9031999111175537s\n",
      "30/145, train_loss: 0.005912, time taken: 0.8925538063049316s\n",
      "40/145, train_loss: 0.005517, time taken: 0.8985621929168701s\n",
      "50/145, train_loss: 0.007003, time taken: 0.8971428871154785s\n",
      "60/145, train_loss: 0.007609, time taken: 0.8941869735717773s\n",
      "70/145, train_loss: 0.006884, time taken: 0.8883562088012695s\n",
      "80/145, train_loss: 0.007110, time taken: 0.9044480323791504s\n",
      "90/145, train_loss: 0.007904, time taken: 0.9130828380584717s\n",
      "100/145, train_loss: 0.007232, time taken: 0.8875870704650879s\n",
      "110/145, train_loss: 0.006770, time taken: 0.8835372924804688s\n",
      "120/145, train_loss: 0.006467, time taken: 0.8806476593017578s\n",
      "130/145, train_loss: 0.006555, time taken: 0.9176337718963623s\n",
      "140/145, train_loss: 0.006671, time taken: 0.9091601371765137s\n"
     ]
    },
    {
     "name": "stderr",
     "output_type": "stream",
     "text": [
      "2024-06-07 16:48 INFO epoch 302 average loss: 0.0060\n"
     ]
    },
    {
     "name": "stdout",
     "output_type": "stream",
     "text": [
      "epoch 302 average loss: 0.0060\n",
      "----------\n",
      "epoch 303/360\n",
      "10/145, train_loss: 0.002833, time taken: 0.8881022930145264s\n",
      "20/145, train_loss: 0.007284, time taken: 0.9079334735870361s\n",
      "30/145, train_loss: 0.008128, time taken: 0.9040224552154541s\n",
      "40/145, train_loss: 0.007284, time taken: 0.8938970565795898s\n",
      "50/145, train_loss: 0.006087, time taken: 0.9019441604614258s\n",
      "60/145, train_loss: 0.006046, time taken: 0.8697199821472168s\n",
      "70/145, train_loss: 0.005730, time taken: 0.901069164276123s\n",
      "80/145, train_loss: 0.006191, time taken: 0.8887770175933838s\n",
      "90/145, train_loss: 0.006857, time taken: 0.8797063827514648s\n",
      "100/145, train_loss: 0.006781, time taken: 0.8839244842529297s\n",
      "110/145, train_loss: 0.006301, time taken: 0.8823213577270508s\n",
      "120/145, train_loss: 0.006389, time taken: 0.8766517639160156s\n",
      "130/145, train_loss: 0.006184, time taken: 0.8909568786621094s\n",
      "140/145, train_loss: 0.006418, time taken: 0.8991813659667969s\n"
     ]
    },
    {
     "name": "stderr",
     "output_type": "stream",
     "text": [
      "2024-06-07 16:50 INFO epoch 303 average loss: 0.0065\n"
     ]
    },
    {
     "name": "stdout",
     "output_type": "stream",
     "text": [
      "epoch 303 average loss: 0.0065\n",
      "----------\n",
      "epoch 304/360\n",
      "10/145, train_loss: 0.009495, time taken: 0.8935914039611816s\n",
      "20/145, train_loss: 0.010537, time taken: 0.9250891208648682s\n",
      "30/145, train_loss: 0.009313, time taken: 0.9006772041320801s\n",
      "40/145, train_loss: 0.009450, time taken: 0.8910191059112549s\n",
      "50/145, train_loss: 0.008566, time taken: 0.9121348857879639s\n",
      "60/145, train_loss: 0.008339, time taken: 0.8969590663909912s\n",
      "70/145, train_loss: 0.009304, time taken: 0.8815832138061523s\n",
      "80/145, train_loss: 0.008718, time taken: 0.8796794414520264s\n",
      "90/145, train_loss: 0.008248, time taken: 0.8831896781921387s\n",
      "100/145, train_loss: 0.008069, time taken: 0.9066298007965088s\n",
      "110/145, train_loss: 0.007645, time taken: 0.88789963722229s\n",
      "120/145, train_loss: 0.007913, time taken: 0.8605678081512451s\n",
      "130/145, train_loss: 0.008010, time taken: 0.8883066177368164s\n",
      "140/145, train_loss: 0.008714, time taken: 0.8720986843109131s\n"
     ]
    },
    {
     "name": "stderr",
     "output_type": "stream",
     "text": [
      "2024-06-07 16:53 INFO epoch 304 average loss: 0.0086\n"
     ]
    },
    {
     "name": "stdout",
     "output_type": "stream",
     "text": [
      "epoch 304 average loss: 0.0086\n",
      "----------\n",
      "epoch 305/360\n",
      "10/145, train_loss: 0.019811, time taken: 0.8918240070343018s\n",
      "20/145, train_loss: 0.012741, time taken: 0.8832747936248779s\n",
      "30/145, train_loss: 0.010925, time taken: 0.8913242816925049s\n",
      "40/145, train_loss: 0.010558, time taken: 0.8774540424346924s\n",
      "50/145, train_loss: 0.009768, time taken: 0.9124996662139893s\n",
      "60/145, train_loss: 0.009679, time taken: 0.8864209651947021s\n",
      "70/145, train_loss: 0.009992, time taken: 0.8826148509979248s\n",
      "80/145, train_loss: 0.010077, time taken: 0.9006445407867432s\n",
      "90/145, train_loss: 0.009472, time taken: 0.8973124027252197s\n",
      "100/145, train_loss: 0.009479, time taken: 0.9028065204620361s\n",
      "110/145, train_loss: 0.008824, time taken: 0.8843469619750977s\n",
      "120/145, train_loss: 0.008944, time taken: 0.9055497646331787s\n",
      "130/145, train_loss: 0.008835, time taken: 0.8640046119689941s\n",
      "140/145, train_loss: 0.008733, time taken: 0.8819580078125s\n"
     ]
    },
    {
     "name": "stderr",
     "output_type": "stream",
     "text": [
      "2024-06-07 16:55 INFO epoch 305 average loss: 0.0117\n"
     ]
    },
    {
     "name": "stdout",
     "output_type": "stream",
     "text": [
      "epoch 305 average loss: 0.0117\n",
      "----------\n",
      "epoch 306/360\n",
      "10/145, train_loss: 0.009943, time taken: 0.9850461483001709s\n",
      "20/145, train_loss: 0.012158, time taken: 0.8889214992523193s\n",
      "30/145, train_loss: 0.012361, time taken: 0.9056103229522705s\n",
      "40/145, train_loss: 0.010174, time taken: 0.898449182510376s\n",
      "50/145, train_loss: 0.010641, time taken: 0.8930158615112305s\n",
      "60/145, train_loss: 0.011043, time taken: 0.8967020511627197s\n",
      "70/145, train_loss: 0.010946, time taken: 0.9068729877471924s\n",
      "80/145, train_loss: 0.010982, time taken: 0.871835470199585s\n",
      "90/145, train_loss: 0.011199, time taken: 0.9150600433349609s\n",
      "100/145, train_loss: 0.010660, time taken: 0.9099655151367188s\n",
      "110/145, train_loss: 0.010112, time taken: 0.9192121028900146s\n",
      "120/145, train_loss: 0.009935, time taken: 0.872028112411499s\n",
      "130/145, train_loss: 0.009912, time taken: 0.9030771255493164s\n",
      "140/145, train_loss: 0.009503, time taken: 0.8802356719970703s\n"
     ]
    },
    {
     "name": "stderr",
     "output_type": "stream",
     "text": [
      "2024-06-07 16:57 INFO epoch 306 average loss: 0.0111\n"
     ]
    },
    {
     "name": "stdout",
     "output_type": "stream",
     "text": [
      "epoch 306 average loss: 0.0111\n",
      "----------\n",
      "epoch 307/360\n",
      "10/145, train_loss: 0.002383, time taken: 0.8820676803588867s\n",
      "20/145, train_loss: 0.003072, time taken: 0.8950920104980469s\n",
      "30/145, train_loss: 0.003965, time taken: 0.888171911239624s\n",
      "40/145, train_loss: 0.005391, time taken: 0.9015102386474609s\n",
      "50/145, train_loss: 0.007525, time taken: 0.8821637630462646s\n",
      "60/145, train_loss: 0.008108, time taken: 0.8819882869720459s\n",
      "70/145, train_loss: 0.007413, time taken: 0.8896543979644775s\n",
      "80/145, train_loss: 0.008296, time taken: 0.87945556640625s\n",
      "90/145, train_loss: 0.008605, time taken: 0.8962235450744629s\n",
      "100/145, train_loss: 0.008035, time taken: 0.8865797519683838s\n",
      "110/145, train_loss: 0.008360, time taken: 0.8945565223693848s\n",
      "120/145, train_loss: 0.008665, time taken: 0.900322437286377s\n",
      "130/145, train_loss: 0.008156, time taken: 0.8888368606567383s\n",
      "140/145, train_loss: 0.009455, time taken: 0.872455358505249s\n"
     ]
    },
    {
     "name": "stderr",
     "output_type": "stream",
     "text": [
      "2024-06-07 16:59 INFO epoch 307 average loss: 0.0070\n"
     ]
    },
    {
     "name": "stdout",
     "output_type": "stream",
     "text": [
      "epoch 307 average loss: 0.0070\n",
      "----------\n",
      "epoch 308/360\n",
      "10/145, train_loss: 0.007610, time taken: 0.9024307727813721s\n",
      "20/145, train_loss: 0.010803, time taken: 0.9083466529846191s\n",
      "30/145, train_loss: 0.009582, time taken: 0.8895299434661865s\n",
      "40/145, train_loss: 0.008801, time taken: 0.901043176651001s\n",
      "50/145, train_loss: 0.008674, time taken: 0.8999648094177246s\n",
      "60/145, train_loss: 0.008396, time taken: 0.8986928462982178s\n",
      "70/145, train_loss: 0.007352, time taken: 0.8720753192901611s\n",
      "80/145, train_loss: 0.006519, time taken: 0.9905776977539062s\n",
      "90/145, train_loss: 0.006410, time taken: 0.8889493942260742s\n",
      "100/145, train_loss: 0.006285, time taken: 0.8987157344818115s\n",
      "110/145, train_loss: 0.006064, time taken: 0.9258840084075928s\n",
      "120/145, train_loss: 0.006126, time taken: 0.8983786106109619s\n",
      "130/145, train_loss: 0.006062, time taken: 0.8963527679443359s\n",
      "140/145, train_loss: 0.006061, time taken: 0.882134199142456s\n"
     ]
    },
    {
     "name": "stderr",
     "output_type": "stream",
     "text": [
      "2024-06-07 17:01 INFO epoch 308 average loss: 0.0071\n"
     ]
    },
    {
     "name": "stdout",
     "output_type": "stream",
     "text": [
      "epoch 308 average loss: 0.0071\n",
      "----------\n",
      "epoch 309/360\n",
      "10/145, train_loss: 0.003525, time taken: 0.897066593170166s\n",
      "20/145, train_loss: 0.003770, time taken: 0.8989288806915283s\n",
      "30/145, train_loss: 0.005827, time taken: 0.8845133781433105s\n",
      "40/145, train_loss: 0.009418, time taken: 0.8700928688049316s\n",
      "50/145, train_loss: 0.008258, time taken: 0.915109395980835s\n",
      "60/145, train_loss: 0.007819, time taken: 0.8960416316986084s\n",
      "70/145, train_loss: 0.006810, time taken: 0.9130051136016846s\n",
      "80/145, train_loss: 0.006685, time taken: 0.8977546691894531s\n",
      "90/145, train_loss: 0.006828, time taken: 0.8681142330169678s\n",
      "100/145, train_loss: 0.006501, time taken: 0.8835160732269287s\n",
      "110/145, train_loss: 0.006345, time taken: 0.9200446605682373s\n",
      "120/145, train_loss: 0.006009, time taken: 0.8845920562744141s\n",
      "130/145, train_loss: 0.006358, time taken: 0.8939187526702881s\n",
      "140/145, train_loss: 0.006100, time taken: 0.9082520008087158s\n"
     ]
    },
    {
     "name": "stderr",
     "output_type": "stream",
     "text": [
      "2024-06-07 17:04 INFO epoch 309 average loss: 0.0064\n"
     ]
    },
    {
     "name": "stdout",
     "output_type": "stream",
     "text": [
      "epoch 309 average loss: 0.0064\n",
      "----------\n",
      "epoch 310/360\n",
      "10/145, train_loss: 0.000434, time taken: 0.9352946281433105s\n",
      "20/145, train_loss: 0.004445, time taken: 0.8879985809326172s\n",
      "30/145, train_loss: 0.003944, time taken: 0.9041213989257812s\n",
      "40/145, train_loss: 0.003735, time taken: 0.8837995529174805s\n",
      "50/145, train_loss: 0.004373, time taken: 0.9249897003173828s\n",
      "60/145, train_loss: 0.004296, time taken: 0.8798079490661621s\n",
      "70/145, train_loss: 0.004115, time taken: 0.888925313949585s\n",
      "80/145, train_loss: 0.003986, time taken: 0.8849918842315674s\n",
      "90/145, train_loss: 0.004233, time taken: 0.9028513431549072s\n",
      "100/145, train_loss: 0.005035, time taken: 0.8773484230041504s\n",
      "110/145, train_loss: 0.005615, time taken: 0.8843390941619873s\n",
      "120/145, train_loss: 0.005463, time taken: 0.8895108699798584s\n",
      "130/145, train_loss: 0.005749, time taken: 0.8994438648223877s\n",
      "140/145, train_loss: 0.005867, time taken: 0.9235951900482178s\n"
     ]
    },
    {
     "name": "stderr",
     "output_type": "stream",
     "text": [
      "2024-06-07 17:06 INFO epoch 310 average loss: 0.0043\n"
     ]
    },
    {
     "name": "stdout",
     "output_type": "stream",
     "text": [
      "epoch 310 average loss: 0.0043\n",
      "----------\n",
      "epoch 311/360\n",
      "10/145, train_loss: 0.010210, time taken: 0.871382474899292s\n",
      "20/145, train_loss: 0.007544, time taken: 0.8715314865112305s\n",
      "30/145, train_loss: 0.006288, time taken: 0.876511812210083s\n",
      "40/145, train_loss: 0.006271, time taken: 0.8828575611114502s\n",
      "50/145, train_loss: 0.007731, time taken: 0.9001846313476562s\n",
      "60/145, train_loss: 0.007035, time taken: 0.8681466579437256s\n",
      "70/145, train_loss: 0.007144, time taken: 0.8640890121459961s\n",
      "80/145, train_loss: 0.008283, time taken: 0.8938713073730469s\n",
      "90/145, train_loss: 0.007768, time taken: 0.9006450176239014s\n",
      "100/145, train_loss: 0.007551, time taken: 0.9151721000671387s\n",
      "110/145, train_loss: 0.008264, time taken: 0.8879489898681641s\n",
      "120/145, train_loss: 0.008494, time taken: 0.9800987243652344s\n",
      "130/145, train_loss: 0.008564, time taken: 0.8828368186950684s\n",
      "140/145, train_loss: 0.008956, time taken: 0.8928391933441162s\n"
     ]
    },
    {
     "name": "stderr",
     "output_type": "stream",
     "text": [
      "2024-06-07 17:08 INFO epoch 311 average loss: 0.0078\n"
     ]
    },
    {
     "name": "stdout",
     "output_type": "stream",
     "text": [
      "epoch 311 average loss: 0.0078\n",
      "----------\n",
      "epoch 312/360\n",
      "10/145, train_loss: 0.005087, time taken: 0.8843896389007568s\n",
      "20/145, train_loss: 0.006120, time taken: 0.87986159324646s\n",
      "30/145, train_loss: 0.006821, time taken: 0.9058926105499268s\n",
      "40/145, train_loss: 0.007593, time taken: 0.9301633834838867s\n",
      "50/145, train_loss: 0.008286, time taken: 0.8904602527618408s\n",
      "60/145, train_loss: 0.012032, time taken: 0.8847367763519287s\n",
      "70/145, train_loss: 0.013926, time taken: 0.9078679084777832s\n",
      "80/145, train_loss: 0.014556, time taken: 0.8876080513000488s\n",
      "90/145, train_loss: 0.013826, time taken: 0.9228641986846924s\n",
      "100/145, train_loss: 0.013416, time taken: 0.8972418308258057s\n",
      "110/145, train_loss: 0.013013, time taken: 0.8835012912750244s\n",
      "120/145, train_loss: 0.012856, time taken: 0.8784492015838623s\n",
      "130/145, train_loss: 0.012161, time taken: 0.9146056175231934s\n",
      "140/145, train_loss: 0.012367, time taken: 0.9037394523620605s\n"
     ]
    },
    {
     "name": "stderr",
     "output_type": "stream",
     "text": [
      "2024-06-07 17:10 INFO epoch 312 average loss: 0.0106\n"
     ]
    },
    {
     "name": "stdout",
     "output_type": "stream",
     "text": [
      "epoch 312 average loss: 0.0106\n",
      "----------\n",
      "epoch 313/360\n",
      "10/145, train_loss: 0.016851, time taken: 0.8993721008300781s\n",
      "20/145, train_loss: 0.010434, time taken: 0.8728783130645752s\n",
      "30/145, train_loss: 0.007527, time taken: 0.8868837356567383s\n",
      "40/145, train_loss: 0.006874, time taken: 0.8862905502319336s\n",
      "50/145, train_loss: 0.006213, time taken: 0.8897016048431396s\n",
      "60/145, train_loss: 0.005635, time taken: 0.9153757095336914s\n",
      "70/145, train_loss: 0.005724, time taken: 0.8924250602722168s\n",
      "80/145, train_loss: 0.005689, time taken: 0.8991603851318359s\n",
      "90/145, train_loss: 0.005707, time taken: 0.8891410827636719s\n",
      "100/145, train_loss: 0.005657, time taken: 0.9023652076721191s\n",
      "110/145, train_loss: 0.006026, time taken: 0.8929409980773926s\n",
      "120/145, train_loss: 0.006423, time taken: 0.8999309539794922s\n",
      "130/145, train_loss: 0.006098, time taken: 0.8861629962921143s\n",
      "140/145, train_loss: 0.006323, time taken: 0.8902349472045898s\n"
     ]
    },
    {
     "name": "stderr",
     "output_type": "stream",
     "text": [
      "2024-06-07 17:12 INFO epoch 313 average loss: 0.0072\n"
     ]
    },
    {
     "name": "stdout",
     "output_type": "stream",
     "text": [
      "epoch 313 average loss: 0.0072\n",
      "----------\n",
      "epoch 314/360\n",
      "10/145, train_loss: 0.008112, time taken: 0.8933939933776855s\n",
      "20/145, train_loss: 0.006257, time taken: 0.897071361541748s\n",
      "30/145, train_loss: 0.006051, time taken: 0.8713757991790771s\n",
      "40/145, train_loss: 0.004941, time taken: 0.9059808254241943s\n",
      "50/145, train_loss: 0.004757, time taken: 0.8997526168823242s\n",
      "60/145, train_loss: 0.004513, time taken: 0.8973100185394287s\n",
      "70/145, train_loss: 0.003971, time taken: 0.9074110984802246s\n",
      "80/145, train_loss: 0.004397, time taken: 0.9970641136169434s\n",
      "90/145, train_loss: 0.004724, time taken: 0.9107084274291992s\n",
      "100/145, train_loss: 0.004454, time taken: 0.8828957080841064s\n",
      "110/145, train_loss: 0.004231, time taken: 0.8765342235565186s\n",
      "120/145, train_loss: 0.004176, time taken: 0.8760862350463867s\n",
      "130/145, train_loss: 0.004145, time taken: 0.917036771774292s\n",
      "140/145, train_loss: 0.003888, time taken: 0.9017257690429688s\n"
     ]
    },
    {
     "name": "stderr",
     "output_type": "stream",
     "text": [
      "2024-06-07 17:15 INFO epoch 314 average loss: 0.0047\n"
     ]
    },
    {
     "name": "stdout",
     "output_type": "stream",
     "text": [
      "epoch 314 average loss: 0.0047\n",
      "----------\n",
      "epoch 315/360\n",
      "10/145, train_loss: 0.001192, time taken: 0.9075877666473389s\n",
      "20/145, train_loss: 0.003059, time taken: 0.900252103805542s\n",
      "30/145, train_loss: 0.004913, time taken: 0.8933084011077881s\n",
      "40/145, train_loss: 0.003767, time taken: 0.8873441219329834s\n",
      "50/145, train_loss: 0.003576, time taken: 0.8901736736297607s\n",
      "60/145, train_loss: 0.004294, time taken: 0.8866722583770752s\n",
      "70/145, train_loss: 0.003966, time taken: 0.9988894462585449s\n",
      "80/145, train_loss: 0.004054, time taken: 0.9075150489807129s\n",
      "90/145, train_loss: 0.005072, time taken: 0.9021284580230713s\n",
      "100/145, train_loss: 0.005238, time taken: 0.8823072910308838s\n",
      "110/145, train_loss: 0.007056, time taken: 0.8971796035766602s\n",
      "120/145, train_loss: 0.007985, time taken: 0.9102699756622314s\n",
      "130/145, train_loss: 0.008482, time taken: 0.9072797298431396s\n",
      "140/145, train_loss: 0.010301, time taken: 0.9027805328369141s\n"
     ]
    },
    {
     "name": "stderr",
     "output_type": "stream",
     "text": [
      "2024-06-07 17:17 INFO epoch 315 average loss: 0.0051\n"
     ]
    },
    {
     "name": "stdout",
     "output_type": "stream",
     "text": [
      "epoch 315 average loss: 0.0051\n",
      "----------\n",
      "epoch 316/360\n",
      "10/145, train_loss: 0.006951, time taken: 0.8915820121765137s\n",
      "20/145, train_loss: 0.006668, time taken: 0.8792271614074707s\n",
      "30/145, train_loss: 0.007783, time taken: 0.8756623268127441s\n",
      "40/145, train_loss: 0.008132, time taken: 0.8821947574615479s\n",
      "50/145, train_loss: 0.010022, time taken: 0.8906121253967285s\n",
      "60/145, train_loss: 0.010185, time taken: 0.9040026664733887s\n",
      "70/145, train_loss: 0.009915, time taken: 0.899911642074585s\n",
      "80/145, train_loss: 0.009848, time taken: 0.8923757076263428s\n",
      "90/145, train_loss: 0.009823, time taken: 0.9034237861633301s\n",
      "100/145, train_loss: 0.011437, time taken: 0.8900487422943115s\n",
      "110/145, train_loss: 0.011467, time taken: 0.8910830020904541s\n",
      "120/145, train_loss: 0.012397, time taken: 0.8874080181121826s\n",
      "130/145, train_loss: 0.013241, time taken: 0.887664794921875s\n",
      "140/145, train_loss: 0.013084, time taken: 0.9042260646820068s\n"
     ]
    },
    {
     "name": "stderr",
     "output_type": "stream",
     "text": [
      "2024-06-07 17:19 INFO epoch 316 average loss: 0.0100\n"
     ]
    },
    {
     "name": "stdout",
     "output_type": "stream",
     "text": [
      "epoch 316 average loss: 0.0100\n",
      "----------\n",
      "epoch 317/360\n",
      "10/145, train_loss: 0.003656, time taken: 0.8749804496765137s\n",
      "20/145, train_loss: 0.004187, time taken: 0.9017174243927002s\n",
      "30/145, train_loss: 0.004926, time taken: 0.8883655071258545s\n",
      "40/145, train_loss: 0.006013, time taken: 0.9026350975036621s\n",
      "50/145, train_loss: 0.006273, time taken: 0.8848874568939209s\n",
      "60/145, train_loss: 0.007749, time taken: 0.8910262584686279s\n",
      "70/145, train_loss: 0.007874, time taken: 0.8852038383483887s\n",
      "80/145, train_loss: 0.008539, time taken: 0.889855146408081s\n",
      "90/145, train_loss: 0.012614, time taken: 0.8807690143585205s\n",
      "100/145, train_loss: 0.013510, time taken: 0.8938384056091309s\n",
      "110/145, train_loss: 0.013096, time taken: 0.8841590881347656s\n",
      "120/145, train_loss: 0.012543, time taken: 0.8926317691802979s\n",
      "130/145, train_loss: 0.012375, time taken: 0.8892335891723633s\n",
      "140/145, train_loss: 0.013022, time taken: 0.9031715393066406s\n"
     ]
    },
    {
     "name": "stderr",
     "output_type": "stream",
     "text": [
      "2024-06-07 17:21 INFO epoch 317 average loss: 0.0090\n"
     ]
    },
    {
     "name": "stdout",
     "output_type": "stream",
     "text": [
      "epoch 317 average loss: 0.0090\n",
      "----------\n",
      "epoch 318/360\n",
      "10/145, train_loss: 0.008424, time taken: 0.8927748203277588s\n",
      "20/145, train_loss: 0.012377, time taken: 0.8923685550689697s\n",
      "30/145, train_loss: 0.010012, time taken: 0.8813967704772949s\n",
      "40/145, train_loss: 0.009660, time taken: 0.8662815093994141s\n",
      "50/145, train_loss: 0.008996, time taken: 0.8849096298217773s\n",
      "60/145, train_loss: 0.009122, time taken: 0.8963885307312012s\n",
      "70/145, train_loss: 0.009027, time taken: 0.8936142921447754s\n",
      "80/145, train_loss: 0.008911, time taken: 0.880751371383667s\n",
      "90/145, train_loss: 0.008981, time taken: 0.8858330249786377s\n",
      "100/145, train_loss: 0.008877, time taken: 0.8882772922515869s\n",
      "110/145, train_loss: 0.009094, time taken: 0.8768272399902344s\n",
      "120/145, train_loss: 0.009408, time taken: 0.8842475414276123s\n",
      "130/145, train_loss: 0.009035, time taken: 0.9011726379394531s\n",
      "140/145, train_loss: 0.008743, time taken: 0.8882312774658203s\n"
     ]
    },
    {
     "name": "stderr",
     "output_type": "stream",
     "text": [
      "2024-06-07 17:23 INFO epoch 318 average loss: 0.0097\n"
     ]
    },
    {
     "name": "stdout",
     "output_type": "stream",
     "text": [
      "epoch 318 average loss: 0.0097\n",
      "----------\n",
      "epoch 319/360\n",
      "10/145, train_loss: 0.009047, time taken: 0.8903825283050537s\n",
      "20/145, train_loss: 0.007792, time taken: 0.8919782638549805s\n",
      "30/145, train_loss: 0.008058, time taken: 0.8903634548187256s\n",
      "40/145, train_loss: 0.007169, time taken: 0.8992412090301514s\n",
      "50/145, train_loss: 0.007228, time taken: 0.8864502906799316s\n",
      "60/145, train_loss: 0.006945, time taken: 0.8964722156524658s\n",
      "70/145, train_loss: 0.006017, time taken: 0.9165928363800049s\n",
      "80/145, train_loss: 0.005349, time taken: 0.8909623622894287s\n",
      "90/145, train_loss: 0.004985, time taken: 0.8857834339141846s\n",
      "100/145, train_loss: 0.005057, time taken: 0.8843948841094971s\n",
      "110/145, train_loss: 0.005563, time taken: 0.9014637470245361s\n",
      "120/145, train_loss: 0.005458, time taken: 0.9193096160888672s\n",
      "130/145, train_loss: 0.005518, time taken: 0.8867964744567871s\n",
      "140/145, train_loss: 0.005595, time taken: 0.87870192527771s\n"
     ]
    },
    {
     "name": "stderr",
     "output_type": "stream",
     "text": [
      "2024-06-07 17:26 INFO epoch 319 average loss: 0.0064\n"
     ]
    },
    {
     "name": "stdout",
     "output_type": "stream",
     "text": [
      "epoch 319 average loss: 0.0064\n",
      "----------\n",
      "epoch 320/360\n",
      "10/145, train_loss: 0.003689, time taken: 0.9998235702514648s\n",
      "20/145, train_loss: 0.004481, time taken: 0.9086165428161621s\n",
      "30/145, train_loss: 0.005477, time taken: 0.9096739292144775s\n",
      "40/145, train_loss: 0.004590, time taken: 0.9134132862091064s\n",
      "50/145, train_loss: 0.004742, time taken: 0.8968429565429688s\n",
      "60/145, train_loss: 0.004675, time taken: 0.9057939052581787s\n",
      "70/145, train_loss: 0.004845, time taken: 0.8808891773223877s\n",
      "80/145, train_loss: 0.004780, time taken: 0.881206750869751s\n",
      "90/145, train_loss: 0.004728, time taken: 0.9034981727600098s\n",
      "100/145, train_loss: 0.004444, time taken: 0.8849964141845703s\n",
      "110/145, train_loss: 0.004692, time taken: 0.8789656162261963s\n",
      "120/145, train_loss: 0.004812, time taken: 0.905980110168457s\n",
      "130/145, train_loss: 0.005040, time taken: 0.9057466983795166s\n",
      "140/145, train_loss: 0.005174, time taken: 0.8984358310699463s\n"
     ]
    },
    {
     "name": "stderr",
     "output_type": "stream",
     "text": [
      "2024-06-07 17:28 INFO epoch 320 average loss: 0.0045\n"
     ]
    },
    {
     "name": "stdout",
     "output_type": "stream",
     "text": [
      "epoch 320 average loss: 0.0045\n",
      "----------\n",
      "epoch 321/360\n",
      "10/145, train_loss: 0.003229, time taken: 0.9031186103820801s\n",
      "20/145, train_loss: 0.016647, time taken: 0.9138226509094238s\n",
      "30/145, train_loss: 0.015747, time taken: 0.8893718719482422s\n",
      "40/145, train_loss: 0.012600, time taken: 0.8753488063812256s\n",
      "50/145, train_loss: 0.010808, time taken: 0.9054980278015137s\n",
      "60/145, train_loss: 0.010919, time taken: 0.9085099697113037s\n",
      "70/145, train_loss: 0.010385, time taken: 0.8848187923431396s\n",
      "80/145, train_loss: 0.009787, time taken: 0.9001030921936035s\n",
      "90/145, train_loss: 0.009872, time taken: 0.8781263828277588s\n",
      "100/145, train_loss: 0.010420, time taken: 0.8878624439239502s\n",
      "110/145, train_loss: 0.010975, time taken: 0.8835480213165283s\n",
      "120/145, train_loss: 0.010530, time taken: 0.9095346927642822s\n",
      "130/145, train_loss: 0.009840, time taken: 0.919337272644043s\n",
      "140/145, train_loss: 0.009260, time taken: 0.8879237174987793s\n"
     ]
    },
    {
     "name": "stderr",
     "output_type": "stream",
     "text": [
      "2024-06-07 17:30 INFO epoch 321 average loss: 0.0107\n"
     ]
    },
    {
     "name": "stdout",
     "output_type": "stream",
     "text": [
      "epoch 321 average loss: 0.0107\n",
      "----------\n",
      "epoch 322/360\n",
      "10/145, train_loss: 0.005550, time taken: 0.8925375938415527s\n",
      "20/145, train_loss: 0.004478, time taken: 0.876596212387085s\n",
      "30/145, train_loss: 0.003877, time taken: 0.8802423477172852s\n",
      "40/145, train_loss: 0.004658, time taken: 0.8882675170898438s\n",
      "50/145, train_loss: 0.004324, time taken: 0.897454023361206s\n",
      "60/145, train_loss: 0.004384, time taken: 0.885706901550293s\n",
      "70/145, train_loss: 0.004738, time taken: 0.8785684108734131s\n",
      "80/145, train_loss: 0.005155, time taken: 0.9725930690765381s\n",
      "90/145, train_loss: 0.005549, time taken: 0.8846075534820557s\n",
      "100/145, train_loss: 0.006346, time taken: 0.8932199478149414s\n",
      "110/145, train_loss: 0.006822, time taken: 0.9020700454711914s\n",
      "120/145, train_loss: 0.006583, time taken: 0.8837072849273682s\n",
      "130/145, train_loss: 0.006514, time taken: 0.8995459079742432s\n",
      "140/145, train_loss: 0.006232, time taken: 0.8838927745819092s\n"
     ]
    },
    {
     "name": "stderr",
     "output_type": "stream",
     "text": [
      "2024-06-07 17:32 INFO epoch 322 average loss: 0.0059\n"
     ]
    },
    {
     "name": "stdout",
     "output_type": "stream",
     "text": [
      "epoch 322 average loss: 0.0059\n",
      "----------\n",
      "epoch 323/360\n",
      "10/145, train_loss: 0.004064, time taken: 0.9020576477050781s\n",
      "20/145, train_loss: 0.005117, time taken: 0.872197151184082s\n",
      "30/145, train_loss: 0.005060, time taken: 0.8950490951538086s\n",
      "40/145, train_loss: 0.005763, time taken: 0.90814208984375s\n",
      "50/145, train_loss: 0.006235, time taken: 0.878042459487915s\n",
      "60/145, train_loss: 0.007203, time taken: 0.8955948352813721s\n",
      "70/145, train_loss: 0.006798, time taken: 0.9044487476348877s\n",
      "80/145, train_loss: 0.006692, time taken: 0.8970978260040283s\n",
      "90/145, train_loss: 0.005978, time taken: 0.8944628238677979s\n",
      "100/145, train_loss: 0.005982, time taken: 0.8801314830780029s\n",
      "110/145, train_loss: 0.005968, time taken: 0.8968932628631592s\n",
      "120/145, train_loss: 0.006469, time taken: 0.8901176452636719s\n",
      "130/145, train_loss: 0.006564, time taken: 0.9053633213043213s\n",
      "140/145, train_loss: 0.006553, time taken: 0.8858456611633301s\n"
     ]
    },
    {
     "name": "stderr",
     "output_type": "stream",
     "text": [
      "2024-06-07 17:34 INFO epoch 323 average loss: 0.0061\n"
     ]
    },
    {
     "name": "stdout",
     "output_type": "stream",
     "text": [
      "epoch 323 average loss: 0.0061\n",
      "----------\n",
      "epoch 324/360\n",
      "10/145, train_loss: 0.005261, time taken: 0.8730535507202148s\n",
      "20/145, train_loss: 0.004747, time taken: 0.9029824733734131s\n",
      "30/145, train_loss: 0.003961, time taken: 0.9183931350708008s\n",
      "40/145, train_loss: 0.004630, time taken: 0.8745920658111572s\n",
      "50/145, train_loss: 0.005685, time taken: 0.8871006965637207s\n",
      "60/145, train_loss: 0.005701, time taken: 0.884380578994751s\n",
      "70/145, train_loss: 0.005221, time taken: 0.8869128227233887s\n",
      "80/145, train_loss: 0.006192, time taken: 0.9029335975646973s\n",
      "90/145, train_loss: 0.005686, time taken: 0.8957500457763672s\n",
      "100/145, train_loss: 0.005594, time taken: 0.9026334285736084s\n",
      "110/145, train_loss: 0.006160, time taken: 0.8954887390136719s\n",
      "120/145, train_loss: 0.006378, time taken: 0.9082431793212891s\n",
      "130/145, train_loss: 0.005993, time taken: 0.8855106830596924s\n",
      "140/145, train_loss: 0.005595, time taken: 0.8774352073669434s\n"
     ]
    },
    {
     "name": "stderr",
     "output_type": "stream",
     "text": [
      "2024-06-07 17:37 INFO epoch 324 average loss: 0.0060\n"
     ]
    },
    {
     "name": "stdout",
     "output_type": "stream",
     "text": [
      "epoch 324 average loss: 0.0060\n",
      "----------\n",
      "epoch 325/360\n",
      "10/145, train_loss: 0.014863, time taken: 0.8862292766571045s\n",
      "20/145, train_loss: 0.013273, time taken: 0.8738589286804199s\n",
      "30/145, train_loss: 0.010066, time taken: 0.8918423652648926s\n",
      "40/145, train_loss: 0.008659, time taken: 0.8857214450836182s\n",
      "50/145, train_loss: 0.007214, time taken: 0.9014205932617188s\n",
      "60/145, train_loss: 0.007012, time taken: 0.9137136936187744s\n",
      "70/145, train_loss: 0.006538, time taken: 0.9063169956207275s\n",
      "80/145, train_loss: 0.006587, time taken: 0.9099600315093994s\n",
      "90/145, train_loss: 0.006186, time taken: 0.8938419818878174s\n",
      "100/145, train_loss: 0.006073, time taken: 0.9086239337921143s\n",
      "110/145, train_loss: 0.005735, time taken: 0.8841397762298584s\n",
      "120/145, train_loss: 0.005434, time taken: 0.9890720844268799s\n",
      "130/145, train_loss: 0.005201, time taken: 0.9050490856170654s\n",
      "140/145, train_loss: 0.005544, time taken: 0.9023170471191406s\n"
     ]
    },
    {
     "name": "stderr",
     "output_type": "stream",
     "text": [
      "2024-06-07 17:39 INFO epoch 325 average loss: 0.0079\n"
     ]
    },
    {
     "name": "stdout",
     "output_type": "stream",
     "text": [
      "epoch 325 average loss: 0.0079\n",
      "----------\n",
      "epoch 326/360\n",
      "10/145, train_loss: 0.009481, time taken: 0.8716268539428711s\n",
      "20/145, train_loss: 0.008548, time taken: 0.9235048294067383s\n",
      "30/145, train_loss: 0.007912, time taken: 0.884131669998169s\n",
      "40/145, train_loss: 0.009432, time taken: 0.8949563503265381s\n",
      "50/145, train_loss: 0.009728, time taken: 0.8928933143615723s\n",
      "60/145, train_loss: 0.009993, time taken: 0.878180980682373s\n",
      "70/145, train_loss: 0.009686, time taken: 0.8913059234619141s\n",
      "80/145, train_loss: 0.010107, time taken: 0.8803918361663818s\n",
      "90/145, train_loss: 0.009839, time taken: 0.8967876434326172s\n",
      "100/145, train_loss: 0.010452, time taken: 0.886894941329956s\n",
      "110/145, train_loss: 0.010069, time taken: 0.8764533996582031s\n",
      "120/145, train_loss: 0.009757, time taken: 0.8865458965301514s\n",
      "130/145, train_loss: 0.009508, time taken: 0.8904561996459961s\n",
      "140/145, train_loss: 0.009455, time taken: 0.8783066272735596s\n"
     ]
    },
    {
     "name": "stderr",
     "output_type": "stream",
     "text": [
      "2024-06-07 17:41 INFO epoch 326 average loss: 0.0100\n"
     ]
    },
    {
     "name": "stdout",
     "output_type": "stream",
     "text": [
      "epoch 326 average loss: 0.0100\n",
      "----------\n",
      "epoch 327/360\n",
      "10/145, train_loss: 0.007357, time taken: 0.8874802589416504s\n",
      "20/145, train_loss: 0.005118, time taken: 0.8764662742614746s\n",
      "30/145, train_loss: 0.007972, time taken: 0.9176414012908936s\n",
      "40/145, train_loss: 0.007385, time taken: 0.8826117515563965s\n",
      "50/145, train_loss: 0.006202, time taken: 0.8824646472930908s\n",
      "60/145, train_loss: 0.005505, time taken: 0.8726294040679932s\n",
      "70/145, train_loss: 0.005678, time taken: 0.9008865356445312s\n",
      "80/145, train_loss: 0.005702, time taken: 0.8809964656829834s\n",
      "90/145, train_loss: 0.005618, time taken: 0.898979902267456s\n",
      "100/145, train_loss: 0.005575, time taken: 0.8847663402557373s\n",
      "110/145, train_loss: 0.005513, time taken: 0.8958926200866699s\n",
      "120/145, train_loss: 0.005637, time taken: 0.8907442092895508s\n",
      "130/145, train_loss: 0.005485, time taken: 0.8977541923522949s\n",
      "140/145, train_loss: 0.005710, time taken: 0.8920114040374756s\n"
     ]
    },
    {
     "name": "stderr",
     "output_type": "stream",
     "text": [
      "2024-06-07 17:43 INFO epoch 327 average loss: 0.0062\n"
     ]
    },
    {
     "name": "stdout",
     "output_type": "stream",
     "text": [
      "epoch 327 average loss: 0.0062\n",
      "----------\n",
      "epoch 328/360\n",
      "10/145, train_loss: 0.009849, time taken: 0.8825397491455078s\n",
      "20/145, train_loss: 0.007284, time taken: 0.8840153217315674s\n",
      "30/145, train_loss: 0.005155, time taken: 0.8845415115356445s\n",
      "40/145, train_loss: 0.005091, time taken: 0.8802809715270996s\n",
      "50/145, train_loss: 0.005311, time taken: 0.9052858352661133s\n",
      "60/145, train_loss: 0.005864, time taken: 0.9074463844299316s\n",
      "70/145, train_loss: 0.006744, time taken: 0.9036364555358887s\n",
      "80/145, train_loss: 0.007863, time taken: 0.9919500350952148s\n",
      "90/145, train_loss: 0.007166, time taken: 0.8849234580993652s\n",
      "100/145, train_loss: 0.007173, time taken: 0.9029068946838379s\n",
      "110/145, train_loss: 0.007833, time taken: 0.891399621963501s\n",
      "120/145, train_loss: 0.008980, time taken: 0.8929641246795654s\n",
      "130/145, train_loss: 0.008774, time taken: 0.9021027088165283s\n",
      "140/145, train_loss: 0.009116, time taken: 0.8999652862548828s\n"
     ]
    },
    {
     "name": "stderr",
     "output_type": "stream",
     "text": [
      "2024-06-07 17:45 INFO epoch 328 average loss: 0.0069\n"
     ]
    },
    {
     "name": "stdout",
     "output_type": "stream",
     "text": [
      "epoch 328 average loss: 0.0069\n",
      "----------\n",
      "epoch 329/360\n",
      "10/145, train_loss: 0.014066, time taken: 0.9015071392059326s\n",
      "20/145, train_loss: 0.010631, time taken: 0.8922374248504639s\n",
      "30/145, train_loss: 0.009585, time taken: 0.8961546421051025s\n",
      "40/145, train_loss: 0.010051, time taken: 0.8953447341918945s\n",
      "50/145, train_loss: 0.010317, time taken: 0.9165229797363281s\n",
      "60/145, train_loss: 0.008935, time taken: 0.8932831287384033s\n",
      "70/145, train_loss: 0.008890, time taken: 0.9820282459259033s\n",
      "80/145, train_loss: 0.008800, time taken: 0.8866641521453857s\n",
      "90/145, train_loss: 0.008452, time taken: 0.8856954574584961s\n",
      "100/145, train_loss: 0.008106, time taken: 0.8900196552276611s\n",
      "110/145, train_loss: 0.007498, time taken: 0.8795580863952637s\n",
      "120/145, train_loss: 0.007453, time taken: 0.8924107551574707s\n",
      "130/145, train_loss: 0.007128, time taken: 0.8810288906097412s\n",
      "140/145, train_loss: 0.006993, time taken: 0.8976912498474121s\n"
     ]
    },
    {
     "name": "stderr",
     "output_type": "stream",
     "text": [
      "2024-06-07 17:48 INFO epoch 329 average loss: 0.0096\n"
     ]
    },
    {
     "name": "stdout",
     "output_type": "stream",
     "text": [
      "epoch 329 average loss: 0.0096\n",
      "----------\n",
      "epoch 330/360\n",
      "10/145, train_loss: 0.007160, time taken: 0.9062645435333252s\n",
      "20/145, train_loss: 0.006696, time taken: 0.8966445922851562s\n",
      "30/145, train_loss: 0.005996, time taken: 0.9062132835388184s\n",
      "40/145, train_loss: 0.007025, time taken: 0.8949563503265381s\n",
      "50/145, train_loss: 0.006275, time taken: 0.9119832515716553s\n",
      "60/145, train_loss: 0.005411, time taken: 0.8857042789459229s\n",
      "70/145, train_loss: 0.006109, time taken: 0.8878483772277832s\n",
      "80/145, train_loss: 0.006752, time taken: 0.8893494606018066s\n",
      "90/145, train_loss: 0.006214, time taken: 0.8891022205352783s\n",
      "100/145, train_loss: 0.005809, time taken: 0.9240608215332031s\n",
      "110/145, train_loss: 0.006248, time taken: 0.8948392868041992s\n",
      "120/145, train_loss: 0.006374, time taken: 0.8918650150299072s\n",
      "130/145, train_loss: 0.006130, time taken: 0.9103679656982422s\n",
      "140/145, train_loss: 0.006258, time taken: 0.8876214027404785s\n"
     ]
    },
    {
     "name": "stderr",
     "output_type": "stream",
     "text": [
      "2024-06-07 17:50 INFO epoch 330 average loss: 0.0063\n"
     ]
    },
    {
     "name": "stdout",
     "output_type": "stream",
     "text": [
      "epoch 330 average loss: 0.0063\n",
      "----------\n",
      "epoch 331/360\n",
      "10/145, train_loss: 0.001749, time taken: 0.9163181781768799s\n",
      "20/145, train_loss: 0.008522, time taken: 0.9099359512329102s\n",
      "30/145, train_loss: 0.007645, time taken: 0.893348217010498s\n",
      "40/145, train_loss: 0.006142, time taken: 0.8932547569274902s\n",
      "50/145, train_loss: 0.005133, time taken: 0.8946597576141357s\n",
      "60/145, train_loss: 0.006176, time taken: 0.8930010795593262s\n",
      "70/145, train_loss: 0.006599, time taken: 0.8829278945922852s\n",
      "80/145, train_loss: 0.007563, time taken: 0.8938822746276855s\n",
      "90/145, train_loss: 0.008627, time taken: 0.900871992111206s\n",
      "100/145, train_loss: 0.007922, time taken: 0.894174337387085s\n",
      "110/145, train_loss: 0.008015, time taken: 0.894050121307373s\n",
      "120/145, train_loss: 0.008222, time taken: 0.8911759853363037s\n",
      "130/145, train_loss: 0.008504, time taken: 0.9076790809631348s\n",
      "140/145, train_loss: 0.008492, time taken: 0.9190986156463623s\n"
     ]
    },
    {
     "name": "stderr",
     "output_type": "stream",
     "text": [
      "2024-06-07 17:52 INFO epoch 331 average loss: 0.0068\n"
     ]
    },
    {
     "name": "stdout",
     "output_type": "stream",
     "text": [
      "epoch 331 average loss: 0.0068\n",
      "----------\n",
      "epoch 332/360\n",
      "10/145, train_loss: 0.005608, time taken: 0.8871710300445557s\n",
      "20/145, train_loss: 0.005605, time taken: 0.8950636386871338s\n",
      "30/145, train_loss: 0.006235, time taken: 0.906580924987793s\n",
      "40/145, train_loss: 0.007304, time taken: 0.8839964866638184s\n",
      "50/145, train_loss: 0.006133, time taken: 0.8935024738311768s\n",
      "60/145, train_loss: 0.006693, time taken: 0.906036376953125s\n",
      "70/145, train_loss: 0.006890, time taken: 0.8708381652832031s\n",
      "80/145, train_loss: 0.007793, time taken: 0.8909180164337158s\n",
      "90/145, train_loss: 0.008642, time taken: 0.898087739944458s\n",
      "100/145, train_loss: 0.010777, time taken: 0.9103908538818359s\n",
      "110/145, train_loss: 0.011384, time taken: 0.8809282779693604s\n",
      "120/145, train_loss: 0.012417, time taken: 0.8808801174163818s\n",
      "130/145, train_loss: 0.012596, time taken: 0.8844377994537354s\n",
      "140/145, train_loss: 0.012060, time taken: 0.8826580047607422s\n"
     ]
    },
    {
     "name": "stderr",
     "output_type": "stream",
     "text": [
      "2024-06-07 17:54 INFO epoch 332 average loss: 0.0084\n"
     ]
    },
    {
     "name": "stdout",
     "output_type": "stream",
     "text": [
      "epoch 332 average loss: 0.0084\n",
      "----------\n",
      "epoch 333/360\n",
      "10/145, train_loss: 0.012167, time taken: 0.8888459205627441s\n",
      "20/145, train_loss: 0.008501, time taken: 0.9125823974609375s\n",
      "30/145, train_loss: 0.006875, time taken: 0.899817943572998s\n",
      "40/145, train_loss: 0.006199, time taken: 0.8993780612945557s\n",
      "50/145, train_loss: 0.006310, time taken: 0.8931233882904053s\n",
      "60/145, train_loss: 0.006009, time taken: 0.8916201591491699s\n",
      "70/145, train_loss: 0.006005, time taken: 0.894338846206665s\n",
      "80/145, train_loss: 0.005455, time taken: 0.8920798301696777s\n",
      "90/145, train_loss: 0.005034, time taken: 0.8847019672393799s\n",
      "100/145, train_loss: 0.005415, time taken: 0.8814566135406494s\n",
      "110/145, train_loss: 0.005779, time taken: 0.8939499855041504s\n",
      "120/145, train_loss: 0.005578, time taken: 0.9160466194152832s\n",
      "130/145, train_loss: 0.005478, time taken: 0.8865039348602295s\n",
      "140/145, train_loss: 0.005640, time taken: 0.914935827255249s\n"
     ]
    },
    {
     "name": "stderr",
     "output_type": "stream",
     "text": [
      "2024-06-07 17:56 INFO epoch 333 average loss: 0.0064\n"
     ]
    },
    {
     "name": "stdout",
     "output_type": "stream",
     "text": [
      "epoch 333 average loss: 0.0064\n",
      "----------\n",
      "epoch 334/360\n",
      "10/145, train_loss: 0.000757, time taken: 0.9621617794036865s\n",
      "20/145, train_loss: 0.007959, time taken: 0.9126434326171875s\n",
      "30/145, train_loss: 0.007135, time taken: 0.9025883674621582s\n",
      "40/145, train_loss: 0.006520, time taken: 0.902545690536499s\n",
      "50/145, train_loss: 0.005939, time taken: 0.9079322814941406s\n",
      "60/145, train_loss: 0.008704, time taken: 0.8844201564788818s\n",
      "70/145, train_loss: 0.008575, time taken: 0.8916640281677246s\n",
      "80/145, train_loss: 0.008566, time taken: 0.8876709938049316s\n",
      "90/145, train_loss: 0.008169, time taken: 0.9082908630371094s\n",
      "100/145, train_loss: 0.008247, time taken: 0.8887629508972168s\n",
      "110/145, train_loss: 0.007890, time taken: 0.9136693477630615s\n",
      "120/145, train_loss: 0.008226, time taken: 0.9019858837127686s\n",
      "130/145, train_loss: 0.008373, time taken: 0.8814029693603516s\n",
      "140/145, train_loss: 0.008459, time taken: 0.9144232273101807s\n"
     ]
    },
    {
     "name": "stderr",
     "output_type": "stream",
     "text": [
      "2024-06-07 17:59 INFO epoch 334 average loss: 0.0072\n"
     ]
    },
    {
     "name": "stdout",
     "output_type": "stream",
     "text": [
      "epoch 334 average loss: 0.0072\n",
      "----------\n",
      "epoch 335/360\n",
      "10/145, train_loss: 0.019482, time taken: 0.9154040813446045s\n",
      "20/145, train_loss: 0.012670, time taken: 0.9109830856323242s\n",
      "30/145, train_loss: 0.012388, time taken: 0.9055635929107666s\n",
      "40/145, train_loss: 0.012373, time taken: 0.8988931179046631s\n",
      "50/145, train_loss: 0.010940, time taken: 0.8994410037994385s\n",
      "60/145, train_loss: 0.010195, time taken: 0.8883349895477295s\n",
      "70/145, train_loss: 0.010682, time taken: 0.9017927646636963s\n",
      "80/145, train_loss: 0.011288, time taken: 0.8846838474273682s\n",
      "90/145, train_loss: 0.012571, time taken: 0.8758125305175781s\n",
      "100/145, train_loss: 0.013053, time taken: 0.9081463813781738s\n",
      "110/145, train_loss: 0.011935, time taken: 0.9053821563720703s\n",
      "120/145, train_loss: 0.011164, time taken: 0.90995192527771s\n",
      "130/145, train_loss: 0.010655, time taken: 0.8940463066101074s\n",
      "140/145, train_loss: 0.010553, time taken: 0.8850662708282471s\n"
     ]
    },
    {
     "name": "stderr",
     "output_type": "stream",
     "text": [
      "2024-06-07 18:01 INFO epoch 335 average loss: 0.0120\n"
     ]
    },
    {
     "name": "stdout",
     "output_type": "stream",
     "text": [
      "epoch 335 average loss: 0.0120\n",
      "----------\n",
      "epoch 336/360\n",
      "10/145, train_loss: 0.008551, time taken: 0.896040678024292s\n",
      "20/145, train_loss: 0.009235, time taken: 0.9074018001556396s\n",
      "30/145, train_loss: 0.009614, time taken: 0.9004602432250977s\n",
      "40/145, train_loss: 0.009000, time taken: 0.8933758735656738s\n",
      "50/145, train_loss: 0.007886, time taken: 0.8998684883117676s\n",
      "60/145, train_loss: 0.007556, time taken: 0.8838214874267578s\n",
      "70/145, train_loss: 0.007623, time taken: 0.8821406364440918s\n",
      "80/145, train_loss: 0.008058, time taken: 0.9910483360290527s\n",
      "90/145, train_loss: 0.007255, time taken: 0.9016923904418945s\n",
      "100/145, train_loss: 0.006598, time taken: 0.895348072052002s\n",
      "110/145, train_loss: 0.006818, time taken: 0.8857729434967041s\n",
      "120/145, train_loss: 0.006639, time taken: 0.8645989894866943s\n",
      "130/145, train_loss: 0.006437, time taken: 0.8924322128295898s\n",
      "140/145, train_loss: 0.006690, time taken: 0.8928086757659912s\n"
     ]
    },
    {
     "name": "stderr",
     "output_type": "stream",
     "text": [
      "2024-06-07 18:03 INFO epoch 336 average loss: 0.0077\n"
     ]
    },
    {
     "name": "stdout",
     "output_type": "stream",
     "text": [
      "epoch 336 average loss: 0.0077\n",
      "----------\n",
      "epoch 337/360\n",
      "10/145, train_loss: 0.000376, time taken: 0.8729851245880127s\n",
      "20/145, train_loss: 0.004004, time taken: 0.902998685836792s\n",
      "30/145, train_loss: 0.004076, time taken: 0.8799457550048828s\n",
      "40/145, train_loss: 0.004197, time taken: 0.9038827419281006s\n",
      "50/145, train_loss: 0.003912, time taken: 0.9085237979888916s\n",
      "60/145, train_loss: 0.004693, time taken: 0.9148292541503906s\n",
      "70/145, train_loss: 0.005179, time taken: 0.9018192291259766s\n",
      "80/145, train_loss: 0.004795, time taken: 0.9116296768188477s\n",
      "90/145, train_loss: 0.005046, time taken: 0.8884499073028564s\n",
      "100/145, train_loss: 0.005278, time taken: 0.8776137828826904s\n",
      "110/145, train_loss: 0.005286, time taken: 0.8866286277770996s\n",
      "120/145, train_loss: 0.005498, time taken: 0.8946328163146973s\n",
      "130/145, train_loss: 0.006065, time taken: 0.8903300762176514s\n",
      "140/145, train_loss: 0.006809, time taken: 0.860140323638916s\n"
     ]
    },
    {
     "name": "stderr",
     "output_type": "stream",
     "text": [
      "2024-06-07 18:05 INFO epoch 337 average loss: 0.0044\n"
     ]
    },
    {
     "name": "stdout",
     "output_type": "stream",
     "text": [
      "epoch 337 average loss: 0.0044\n",
      "----------\n",
      "epoch 338/360\n",
      "10/145, train_loss: 0.000214, time taken: 0.9003612995147705s\n",
      "20/145, train_loss: 0.003337, time taken: 0.8870692253112793s\n",
      "30/145, train_loss: 0.004129, time taken: 0.8719568252563477s\n",
      "40/145, train_loss: 0.006933, time taken: 0.8934485912322998s\n",
      "50/145, train_loss: 0.009782, time taken: 0.9107587337493896s\n",
      "60/145, train_loss: 0.011803, time taken: 0.8917453289031982s\n",
      "70/145, train_loss: 0.011048, time taken: 0.9156219959259033s\n",
      "80/145, train_loss: 0.010879, time taken: 0.8920023441314697s\n",
      "90/145, train_loss: 0.010296, time taken: 0.8904705047607422s\n",
      "100/145, train_loss: 0.010211, time taken: 0.8971867561340332s\n",
      "110/145, train_loss: 0.009532, time taken: 0.893852710723877s\n",
      "120/145, train_loss: 0.009625, time taken: 0.8885064125061035s\n",
      "130/145, train_loss: 0.010023, time taken: 0.8867595195770264s\n",
      "140/145, train_loss: 0.010218, time taken: 0.8817393779754639s\n"
     ]
    },
    {
     "name": "stderr",
     "output_type": "stream",
     "text": [
      "2024-06-07 18:07 INFO epoch 338 average loss: 0.0083\n"
     ]
    },
    {
     "name": "stdout",
     "output_type": "stream",
     "text": [
      "epoch 338 average loss: 0.0083\n",
      "----------\n",
      "epoch 339/360\n",
      "10/145, train_loss: 0.012600, time taken: 0.886775016784668s\n",
      "20/145, train_loss: 0.010639, time taken: 0.906987190246582s\n",
      "30/145, train_loss: 0.009203, time taken: 0.8969192504882812s\n",
      "40/145, train_loss: 0.008472, time taken: 0.9084174633026123s\n",
      "50/145, train_loss: 0.006993, time taken: 0.9143838882446289s\n",
      "60/145, train_loss: 0.007391, time taken: 0.8891377449035645s\n",
      "70/145, train_loss: 0.007595, time taken: 0.8980529308319092s\n",
      "80/145, train_loss: 0.009543, time taken: 0.9117753505706787s\n",
      "90/145, train_loss: 0.008915, time taken: 0.8929083347320557s\n",
      "100/145, train_loss: 0.008900, time taken: 0.8994803428649902s\n",
      "110/145, train_loss: 0.008375, time taken: 0.9245352745056152s\n",
      "120/145, train_loss: 0.008517, time taken: 0.9734973907470703s\n",
      "130/145, train_loss: 0.009006, time taken: 0.9049839973449707s\n",
      "140/145, train_loss: 0.009103, time taken: 0.8775970935821533s\n"
     ]
    },
    {
     "name": "stderr",
     "output_type": "stream",
     "text": [
      "2024-06-07 18:10 INFO epoch 339 average loss: 0.0090\n"
     ]
    },
    {
     "name": "stdout",
     "output_type": "stream",
     "text": [
      "epoch 339 average loss: 0.0090\n",
      "----------\n",
      "epoch 340/360\n",
      "10/145, train_loss: 0.000299, time taken: 0.8911309242248535s\n",
      "20/145, train_loss: 0.001394, time taken: 0.8901526927947998s\n",
      "30/145, train_loss: 0.002133, time taken: 0.9051964282989502s\n",
      "40/145, train_loss: 0.003077, time taken: 0.8905513286590576s\n",
      "50/145, train_loss: 0.004256, time taken: 0.898402214050293s\n",
      "60/145, train_loss: 0.003787, time taken: 0.8873090744018555s\n",
      "70/145, train_loss: 0.004367, time taken: 0.8821389675140381s\n",
      "80/145, train_loss: 0.005193, time taken: 0.8858156204223633s\n",
      "90/145, train_loss: 0.004718, time taken: 0.8919370174407959s\n",
      "100/145, train_loss: 0.005245, time taken: 0.892385721206665s\n",
      "110/145, train_loss: 0.005704, time taken: 0.8898441791534424s\n",
      "120/145, train_loss: 0.005730, time taken: 0.8872866630554199s\n",
      "130/145, train_loss: 0.005803, time taken: 0.8960826396942139s\n",
      "140/145, train_loss: 0.005605, time taken: 0.9020192623138428s\n"
     ]
    },
    {
     "name": "stderr",
     "output_type": "stream",
     "text": [
      "2024-06-07 18:12 INFO epoch 340 average loss: 0.0041\n"
     ]
    },
    {
     "name": "stdout",
     "output_type": "stream",
     "text": [
      "epoch 340 average loss: 0.0041\n",
      "----------\n",
      "epoch 341/360\n",
      "10/145, train_loss: 0.004662, time taken: 0.8753788471221924s\n",
      "20/145, train_loss: 0.007107, time taken: 0.8745026588439941s\n",
      "30/145, train_loss: 0.007907, time taken: 0.8961005210876465s\n",
      "40/145, train_loss: 0.006225, time taken: 0.9085240364074707s\n",
      "50/145, train_loss: 0.006622, time taken: 0.8920016288757324s\n",
      "60/145, train_loss: 0.006039, time taken: 0.8663992881774902s\n",
      "70/145, train_loss: 0.005918, time taken: 0.8903665542602539s\n",
      "80/145, train_loss: 0.005753, time taken: 0.8799073696136475s\n",
      "90/145, train_loss: 0.005835, time taken: 0.9191417694091797s\n",
      "100/145, train_loss: 0.005822, time taken: 0.8905553817749023s\n",
      "110/145, train_loss: 0.006424, time taken: 0.8969075679779053s\n",
      "120/145, train_loss: 0.006161, time taken: 0.8738336563110352s\n",
      "130/145, train_loss: 0.006075, time taken: 0.9026975631713867s\n",
      "140/145, train_loss: 0.005683, time taken: 0.8770616054534912s\n"
     ]
    },
    {
     "name": "stderr",
     "output_type": "stream",
     "text": [
      "2024-06-07 18:14 INFO epoch 341 average loss: 0.0063\n"
     ]
    },
    {
     "name": "stdout",
     "output_type": "stream",
     "text": [
      "epoch 341 average loss: 0.0063\n",
      "----------\n",
      "epoch 342/360\n",
      "10/145, train_loss: 0.006394, time taken: 0.8791093826293945s\n",
      "20/145, train_loss: 0.004877, time taken: 0.8864412307739258s\n",
      "30/145, train_loss: 0.004719, time taken: 0.8868575096130371s\n",
      "40/145, train_loss: 0.004288, time taken: 0.9167540073394775s\n",
      "50/145, train_loss: 0.004604, time taken: 0.9015114307403564s\n",
      "60/145, train_loss: 0.005372, time taken: 0.8968017101287842s\n",
      "70/145, train_loss: 0.006208, time taken: 0.8925094604492188s\n",
      "80/145, train_loss: 0.007018, time taken: 0.9901373386383057s\n",
      "90/145, train_loss: 0.006722, time taken: 0.9030313491821289s\n",
      "100/145, train_loss: 0.006484, time taken: 0.8880488872528076s\n",
      "110/145, train_loss: 0.006229, time taken: 0.8969559669494629s\n",
      "120/145, train_loss: 0.005851, time taken: 0.8974530696868896s\n",
      "130/145, train_loss: 0.005491, time taken: 0.8998534679412842s\n",
      "140/145, train_loss: 0.005372, time taken: 0.899315357208252s\n"
     ]
    },
    {
     "name": "stderr",
     "output_type": "stream",
     "text": [
      "2024-06-07 18:16 INFO epoch 342 average loss: 0.0054\n"
     ]
    },
    {
     "name": "stdout",
     "output_type": "stream",
     "text": [
      "epoch 342 average loss: 0.0054\n",
      "----------\n",
      "epoch 343/360\n",
      "10/145, train_loss: 0.005552, time taken: 0.8984153270721436s\n",
      "20/145, train_loss: 0.008068, time taken: 0.8936328887939453s\n",
      "30/145, train_loss: 0.007549, time taken: 0.8790023326873779s\n",
      "40/145, train_loss: 0.010387, time taken: 0.9240703582763672s\n",
      "50/145, train_loss: 0.009519, time taken: 0.9092044830322266s\n",
      "60/145, train_loss: 0.009748, time taken: 0.8991351127624512s\n",
      "70/145, train_loss: 0.011336, time taken: 0.9979324340820312s\n",
      "80/145, train_loss: 0.013132, time taken: 0.9189436435699463s\n",
      "90/145, train_loss: 0.013064, time taken: 0.898202657699585s\n",
      "100/145, train_loss: 0.013114, time taken: 0.8913693428039551s\n",
      "110/145, train_loss: 0.012819, time taken: 0.8927593231201172s\n",
      "120/145, train_loss: 0.012641, time taken: 0.8743536472320557s\n",
      "130/145, train_loss: 0.012880, time taken: 0.9126601219177246s\n",
      "140/145, train_loss: 0.012703, time taken: 0.9216971397399902s\n"
     ]
    },
    {
     "name": "stderr",
     "output_type": "stream",
     "text": [
      "2024-06-07 18:18 INFO epoch 343 average loss: 0.0108\n"
     ]
    },
    {
     "name": "stdout",
     "output_type": "stream",
     "text": [
      "epoch 343 average loss: 0.0108\n",
      "----------\n",
      "epoch 344/360\n",
      "10/145, train_loss: 0.006283, time taken: 0.8924548625946045s\n",
      "20/145, train_loss: 0.003722, time taken: 0.8903870582580566s\n",
      "30/145, train_loss: 0.004031, time taken: 0.8946959972381592s\n",
      "40/145, train_loss: 0.009116, time taken: 0.8855910301208496s\n",
      "50/145, train_loss: 0.009387, time taken: 0.8873507976531982s\n",
      "60/145, train_loss: 0.007983, time taken: 0.9010045528411865s\n",
      "70/145, train_loss: 0.007983, time taken: 0.8667709827423096s\n",
      "80/145, train_loss: 0.008607, time taken: 0.8718476295471191s\n",
      "90/145, train_loss: 0.008308, time taken: 0.8998379707336426s\n",
      "100/145, train_loss: 0.008647, time taken: 0.8784999847412109s\n",
      "110/145, train_loss: 0.008154, time taken: 0.891355037689209s\n",
      "120/145, train_loss: 0.007743, time taken: 0.8934018611907959s\n",
      "130/145, train_loss: 0.007965, time taken: 0.8825550079345703s\n",
      "140/145, train_loss: 0.008402, time taken: 0.9072866439819336s\n"
     ]
    },
    {
     "name": "stderr",
     "output_type": "stream",
     "text": [
      "2024-06-07 18:21 INFO epoch 344 average loss: 0.0074\n"
     ]
    },
    {
     "name": "stdout",
     "output_type": "stream",
     "text": [
      "epoch 344 average loss: 0.0074\n",
      "----------\n",
      "epoch 345/360\n",
      "10/145, train_loss: 0.013377, time taken: 0.9072966575622559s\n",
      "20/145, train_loss: 0.011630, time taken: 0.9027974605560303s\n",
      "30/145, train_loss: 0.008820, time taken: 0.9024045467376709s\n",
      "40/145, train_loss: 0.007462, time taken: 0.8798766136169434s\n",
      "50/145, train_loss: 0.006804, time taken: 0.8766748905181885s\n",
      "60/145, train_loss: 0.007333, time taken: 0.881495475769043s\n",
      "70/145, train_loss: 0.008307, time taken: 0.9084615707397461s\n",
      "80/145, train_loss: 0.007847, time taken: 0.9072084426879883s\n",
      "90/145, train_loss: 0.007085, time taken: 0.8874030113220215s\n",
      "100/145, train_loss: 0.007034, time taken: 0.8884775638580322s\n",
      "110/145, train_loss: 0.006893, time taken: 0.8965194225311279s\n",
      "120/145, train_loss: 0.006677, time taken: 0.8794639110565186s\n",
      "130/145, train_loss: 0.006670, time taken: 0.8829500675201416s\n",
      "140/145, train_loss: 0.007130, time taken: 0.8762941360473633s\n"
     ]
    },
    {
     "name": "stderr",
     "output_type": "stream",
     "text": [
      "2024-06-07 18:23 INFO epoch 345 average loss: 0.0078\n"
     ]
    },
    {
     "name": "stdout",
     "output_type": "stream",
     "text": [
      "epoch 345 average loss: 0.0078\n",
      "----------\n",
      "epoch 346/360\n",
      "10/145, train_loss: 0.012719, time taken: 0.8938992023468018s\n",
      "20/145, train_loss: 0.010426, time taken: 0.8810281753540039s\n",
      "30/145, train_loss: 0.007297, time taken: 0.9152061939239502s\n",
      "40/145, train_loss: 0.006253, time taken: 0.8875830173492432s\n",
      "50/145, train_loss: 0.005904, time taken: 0.9087376594543457s\n",
      "60/145, train_loss: 0.005583, time taken: 0.8882219791412354s\n",
      "70/145, train_loss: 0.006459, time taken: 0.8749804496765137s\n",
      "80/145, train_loss: 0.006815, time taken: 0.8855185508728027s\n",
      "90/145, train_loss: 0.006908, time taken: 0.889984130859375s\n",
      "100/145, train_loss: 0.007172, time taken: 0.8839256763458252s\n",
      "110/145, train_loss: 0.006980, time taken: 0.8856186866760254s\n",
      "120/145, train_loss: 0.006835, time taken: 0.8828413486480713s\n",
      "130/145, train_loss: 0.006474, time taken: 0.8904039859771729s\n",
      "140/145, train_loss: 0.006707, time taken: 0.9027214050292969s\n"
     ]
    },
    {
     "name": "stderr",
     "output_type": "stream",
     "text": [
      "2024-06-07 18:25 INFO epoch 346 average loss: 0.0078\n"
     ]
    },
    {
     "name": "stdout",
     "output_type": "stream",
     "text": [
      "epoch 346 average loss: 0.0078\n",
      "----------\n",
      "epoch 347/360\n",
      "10/145, train_loss: 0.007311, time taken: 0.9225554466247559s\n",
      "20/145, train_loss: 0.003949, time taken: 0.9056706428527832s\n",
      "30/145, train_loss: 0.004372, time taken: 0.8990106582641602s\n",
      "40/145, train_loss: 0.004093, time taken: 0.9000439643859863s\n",
      "50/145, train_loss: 0.004295, time taken: 0.8799352645874023s\n",
      "60/145, train_loss: 0.004354, time taken: 0.8930280208587646s\n",
      "70/145, train_loss: 0.005447, time taken: 0.8842473030090332s\n",
      "80/145, train_loss: 0.005357, time taken: 0.912686824798584s\n",
      "90/145, train_loss: 0.006039, time taken: 0.8968827724456787s\n",
      "100/145, train_loss: 0.006444, time taken: 0.8741097450256348s\n",
      "110/145, train_loss: 0.006072, time taken: 0.8841390609741211s\n",
      "120/145, train_loss: 0.005656, time taken: 0.8758561611175537s\n",
      "130/145, train_loss: 0.006604, time taken: 0.8905034065246582s\n",
      "140/145, train_loss: 0.007036, time taken: 0.922713041305542s\n"
     ]
    },
    {
     "name": "stderr",
     "output_type": "stream",
     "text": [
      "2024-06-07 18:27 INFO epoch 347 average loss: 0.0062\n"
     ]
    },
    {
     "name": "stdout",
     "output_type": "stream",
     "text": [
      "epoch 347 average loss: 0.0062\n",
      "----------\n",
      "epoch 348/360\n",
      "10/145, train_loss: 0.012737, time taken: 0.967642068862915s\n",
      "20/145, train_loss: 0.008816, time taken: 0.8923254013061523s\n",
      "30/145, train_loss: 0.008805, time taken: 0.8821737766265869s\n",
      "40/145, train_loss: 0.007213, time taken: 0.9096720218658447s\n",
      "50/145, train_loss: 0.007281, time taken: 0.8830127716064453s\n",
      "60/145, train_loss: 0.007790, time taken: 0.9091312885284424s\n",
      "70/145, train_loss: 0.007030, time taken: 0.9411382675170898s\n",
      "80/145, train_loss: 0.006367, time taken: 0.885206937789917s\n",
      "90/145, train_loss: 0.007916, time taken: 0.8728563785552979s\n",
      "100/145, train_loss: 0.007306, time taken: 0.8937046527862549s\n",
      "110/145, train_loss: 0.007281, time taken: 0.8969593048095703s\n",
      "120/145, train_loss: 0.007265, time taken: 0.900017499923706s\n",
      "130/145, train_loss: 0.007150, time taken: 0.8882904052734375s\n",
      "140/145, train_loss: 0.007126, time taken: 0.9014215469360352s\n"
     ]
    },
    {
     "name": "stderr",
     "output_type": "stream",
     "text": [
      "2024-06-07 18:29 INFO epoch 348 average loss: 0.0080\n"
     ]
    },
    {
     "name": "stdout",
     "output_type": "stream",
     "text": [
      "epoch 348 average loss: 0.0080\n",
      "----------\n",
      "epoch 349/360\n",
      "10/145, train_loss: 0.004010, time taken: 0.887805700302124s\n",
      "20/145, train_loss: 0.006333, time taken: 0.8882451057434082s\n",
      "30/145, train_loss: 0.007583, time taken: 0.891777515411377s\n",
      "40/145, train_loss: 0.009457, time taken: 0.8918542861938477s\n",
      "50/145, train_loss: 0.008483, time taken: 0.8795380592346191s\n",
      "60/145, train_loss: 0.007143, time taken: 0.8779823780059814s\n",
      "70/145, train_loss: 0.007179, time taken: 0.8961975574493408s\n",
      "80/145, train_loss: 0.007022, time taken: 0.8838894367218018s\n",
      "90/145, train_loss: 0.006920, time taken: 0.8836379051208496s\n",
      "100/145, train_loss: 0.007138, time taken: 0.8978307247161865s\n",
      "110/145, train_loss: 0.006746, time taken: 0.8752400875091553s\n",
      "120/145, train_loss: 0.006692, time taken: 0.9053239822387695s\n",
      "130/145, train_loss: 0.006620, time taken: 0.8917086124420166s\n",
      "140/145, train_loss: 0.006946, time taken: 0.8796300888061523s\n"
     ]
    },
    {
     "name": "stderr",
     "output_type": "stream",
     "text": [
      "2024-06-07 18:32 INFO epoch 349 average loss: 0.0068\n"
     ]
    },
    {
     "name": "stdout",
     "output_type": "stream",
     "text": [
      "epoch 349 average loss: 0.0068\n",
      "----------\n",
      "epoch 350/360\n",
      "10/145, train_loss: 0.006657, time taken: 0.9194824695587158s\n",
      "20/145, train_loss: 0.004212, time taken: 0.8873441219329834s\n",
      "30/145, train_loss: 0.003156, time taken: 0.8771102428436279s\n",
      "40/145, train_loss: 0.003214, time taken: 0.8922607898712158s\n",
      "50/145, train_loss: 0.002594, time taken: 0.8918759822845459s\n",
      "60/145, train_loss: 0.002595, time taken: 0.8841567039489746s\n",
      "70/145, train_loss: 0.002702, time taken: 0.8949844837188721s\n",
      "80/145, train_loss: 0.004288, time taken: 0.9702565670013428s\n",
      "90/145, train_loss: 0.003992, time taken: 0.8903524875640869s\n",
      "100/145, train_loss: 0.004028, time taken: 0.906245231628418s\n",
      "110/145, train_loss: 0.004085, time taken: 0.8837199211120605s\n",
      "120/145, train_loss: 0.004217, time taken: 0.8924803733825684s\n",
      "130/145, train_loss: 0.004286, time taken: 0.8881020545959473s\n",
      "140/145, train_loss: 0.004278, time taken: 0.8941574096679688s\n"
     ]
    },
    {
     "name": "stderr",
     "output_type": "stream",
     "text": [
      "2024-06-07 18:34 INFO epoch 350 average loss: 0.0036\n"
     ]
    },
    {
     "name": "stdout",
     "output_type": "stream",
     "text": [
      "epoch 350 average loss: 0.0036\n",
      "----------\n",
      "epoch 351/360\n",
      "10/145, train_loss: 0.005322, time taken: 0.8826792240142822s\n",
      "20/145, train_loss: 0.003597, time taken: 0.8960146903991699s\n",
      "30/145, train_loss: 0.003101, time taken: 0.8900389671325684s\n",
      "40/145, train_loss: 0.003833, time taken: 0.9104270935058594s\n",
      "50/145, train_loss: 0.003162, time taken: 0.9043281078338623s\n",
      "60/145, train_loss: 0.003098, time taken: 0.9064347743988037s\n",
      "70/145, train_loss: 0.003402, time taken: 0.8958818912506104s\n",
      "80/145, train_loss: 0.003875, time taken: 0.891463041305542s\n",
      "90/145, train_loss: 0.004637, time taken: 0.8815140724182129s\n",
      "100/145, train_loss: 0.004841, time taken: 0.8838393688201904s\n",
      "110/145, train_loss: 0.005359, time taken: 0.8806729316711426s\n",
      "120/145, train_loss: 0.005671, time taken: 0.8898918628692627s\n",
      "130/145, train_loss: 0.005278, time taken: 0.9115076065063477s\n",
      "140/145, train_loss: 0.006005, time taken: 0.9029858112335205s\n"
     ]
    },
    {
     "name": "stderr",
     "output_type": "stream",
     "text": [
      "2024-06-07 18:36 INFO epoch 351 average loss: 0.0048\n"
     ]
    },
    {
     "name": "stdout",
     "output_type": "stream",
     "text": [
      "epoch 351 average loss: 0.0048\n",
      "----------\n",
      "epoch 352/360\n",
      "10/145, train_loss: 0.011466, time taken: 0.886775016784668s\n",
      "20/145, train_loss: 0.011713, time taken: 0.8931541442871094s\n",
      "30/145, train_loss: 0.010142, time taken: 0.9156019687652588s\n",
      "40/145, train_loss: 0.009954, time taken: 0.8825170993804932s\n",
      "50/145, train_loss: 0.009867, time taken: 0.8977184295654297s\n",
      "60/145, train_loss: 0.009236, time taken: 0.891026496887207s\n",
      "70/145, train_loss: 0.009068, time taken: 0.8989222049713135s\n",
      "80/145, train_loss: 0.008285, time taken: 0.9004571437835693s\n",
      "90/145, train_loss: 0.008641, time taken: 0.910207986831665s\n",
      "100/145, train_loss: 0.007999, time taken: 0.8973104953765869s\n",
      "110/145, train_loss: 0.007821, time taken: 0.8992159366607666s\n",
      "120/145, train_loss: 0.007694, time taken: 0.8928568363189697s\n",
      "130/145, train_loss: 0.007469, time taken: 0.8923392295837402s\n",
      "140/145, train_loss: 0.007626, time taken: 0.8941988945007324s\n"
     ]
    },
    {
     "name": "stderr",
     "output_type": "stream",
     "text": [
      "2024-06-07 18:38 INFO epoch 352 average loss: 0.0091\n"
     ]
    },
    {
     "name": "stdout",
     "output_type": "stream",
     "text": [
      "epoch 352 average loss: 0.0091\n",
      "----------\n",
      "epoch 353/360\n",
      "10/145, train_loss: 0.011481, time taken: 0.9024860858917236s\n",
      "20/145, train_loss: 0.009449, time taken: 0.8916935920715332s\n",
      "30/145, train_loss: 0.008351, time taken: 0.8834939002990723s\n",
      "40/145, train_loss: 0.007425, time taken: 0.8832318782806396s\n",
      "50/145, train_loss: 0.006455, time taken: 0.8867332935333252s\n",
      "60/145, train_loss: 0.005476, time taken: 0.8817968368530273s\n",
      "70/145, train_loss: 0.005129, time taken: 0.8784439563751221s\n",
      "80/145, train_loss: 0.004584, time taken: 0.896690845489502s\n",
      "90/145, train_loss: 0.004297, time taken: 0.8905086517333984s\n",
      "100/145, train_loss: 0.004431, time taken: 0.8846700191497803s\n",
      "110/145, train_loss: 0.004535, time taken: 0.8858180046081543s\n",
      "120/145, train_loss: 0.004389, time taken: 0.9957935810089111s\n",
      "130/145, train_loss: 0.004352, time taken: 0.8909347057342529s\n",
      "140/145, train_loss: 0.004329, time taken: 0.8895504474639893s\n"
     ]
    },
    {
     "name": "stderr",
     "output_type": "stream",
     "text": [
      "2024-06-07 18:40 INFO epoch 353 average loss: 0.0059\n"
     ]
    },
    {
     "name": "stdout",
     "output_type": "stream",
     "text": [
      "epoch 353 average loss: 0.0059\n",
      "----------\n",
      "epoch 354/360\n",
      "10/145, train_loss: 0.000447, time taken: 0.9040398597717285s\n",
      "20/145, train_loss: 0.001350, time taken: 0.8726844787597656s\n",
      "30/145, train_loss: 0.002710, time taken: 0.8999812602996826s\n",
      "40/145, train_loss: 0.003107, time taken: 0.8789863586425781s\n",
      "50/145, train_loss: 0.004275, time taken: 0.8979380130767822s\n",
      "60/145, train_loss: 0.004668, time taken: 0.9097867012023926s\n",
      "70/145, train_loss: 0.004664, time taken: 0.8903393745422363s\n",
      "80/145, train_loss: 0.004639, time taken: 0.8734757900238037s\n",
      "90/145, train_loss: 0.004538, time taken: 0.8910279273986816s\n",
      "100/145, train_loss: 0.005105, time taken: 0.9015531539916992s\n",
      "110/145, train_loss: 0.004863, time taken: 0.8904595375061035s\n",
      "120/145, train_loss: 0.004663, time taken: 0.8682496547698975s\n",
      "130/145, train_loss: 0.004889, time taken: 0.9065389633178711s\n",
      "140/145, train_loss: 0.004606, time taken: 0.8841910362243652s\n"
     ]
    },
    {
     "name": "stderr",
     "output_type": "stream",
     "text": [
      "2024-06-07 18:43 INFO epoch 354 average loss: 0.0038\n"
     ]
    },
    {
     "name": "stdout",
     "output_type": "stream",
     "text": [
      "epoch 354 average loss: 0.0038\n",
      "----------\n",
      "epoch 355/360\n",
      "10/145, train_loss: 0.002472, time taken: 0.8963780403137207s\n",
      "20/145, train_loss: 0.001854, time taken: 0.8830974102020264s\n",
      "30/145, train_loss: 0.002948, time taken: 0.8961484432220459s\n",
      "40/145, train_loss: 0.002877, time taken: 0.884606122970581s\n",
      "50/145, train_loss: 0.002716, time taken: 0.891183614730835s\n",
      "60/145, train_loss: 0.002611, time taken: 0.8941469192504883s\n",
      "70/145, train_loss: 0.002648, time taken: 0.8995270729064941s\n",
      "80/145, train_loss: 0.002637, time taken: 0.8975627422332764s\n",
      "90/145, train_loss: 0.003562, time taken: 0.8781473636627197s\n",
      "100/145, train_loss: 0.003286, time taken: 0.8768742084503174s\n",
      "110/145, train_loss: 0.003427, time taken: 0.897620439529419s\n",
      "120/145, train_loss: 0.003646, time taken: 0.8777320384979248s\n",
      "130/145, train_loss: 0.004020, time taken: 0.8727774620056152s\n",
      "140/145, train_loss: 0.004352, time taken: 0.8900027275085449s\n"
     ]
    },
    {
     "name": "stderr",
     "output_type": "stream",
     "text": [
      "2024-06-07 18:45 INFO epoch 355 average loss: 0.0029\n"
     ]
    },
    {
     "name": "stdout",
     "output_type": "stream",
     "text": [
      "epoch 355 average loss: 0.0029\n",
      "----------\n",
      "epoch 356/360\n",
      "10/145, train_loss: 0.006981, time taken: 0.8985154628753662s\n",
      "20/145, train_loss: 0.008171, time taken: 0.8918874263763428s\n",
      "30/145, train_loss: 0.009263, time taken: 0.897803544998169s\n",
      "40/145, train_loss: 0.007983, time taken: 0.9045138359069824s\n",
      "50/145, train_loss: 0.008005, time taken: 0.8917734622955322s\n",
      "60/145, train_loss: 0.007726, time taken: 0.9017038345336914s\n",
      "70/145, train_loss: 0.007185, time taken: 0.8976833820343018s\n",
      "80/145, train_loss: 0.007585, time taken: 0.969463586807251s\n",
      "90/145, train_loss: 0.007869, time taken: 0.9122607707977295s\n",
      "100/145, train_loss: 0.008362, time taken: 0.882836103439331s\n",
      "110/145, train_loss: 0.008273, time taken: 0.9169166088104248s\n",
      "120/145, train_loss: 0.007919, time taken: 0.8840126991271973s\n",
      "130/145, train_loss: 0.008331, time taken: 0.9202349185943604s\n",
      "140/145, train_loss: 0.008090, time taken: 0.8712527751922607s\n"
     ]
    },
    {
     "name": "stderr",
     "output_type": "stream",
     "text": [
      "2024-06-07 18:47 INFO epoch 356 average loss: 0.0079\n"
     ]
    },
    {
     "name": "stdout",
     "output_type": "stream",
     "text": [
      "epoch 356 average loss: 0.0079\n",
      "----------\n",
      "epoch 357/360\n",
      "10/145, train_loss: 0.008361, time taken: 0.9067199230194092s\n",
      "20/145, train_loss: 0.008793, time taken: 0.8939237594604492s\n",
      "30/145, train_loss: 0.007764, time taken: 0.8744227886199951s\n",
      "40/145, train_loss: 0.007528, time taken: 0.9101362228393555s\n",
      "50/145, train_loss: 0.006396, time taken: 0.9169871807098389s\n",
      "60/145, train_loss: 0.006833, time taken: 0.9007744789123535s\n",
      "70/145, train_loss: 0.007040, time taken: 1.002260446548462s\n",
      "80/145, train_loss: 0.006491, time taken: 0.8911871910095215s\n",
      "90/145, train_loss: 0.006199, time taken: 0.9146826267242432s\n",
      "100/145, train_loss: 0.006095, time taken: 0.9015605449676514s\n",
      "110/145, train_loss: 0.006847, time taken: 0.8855853080749512s\n",
      "120/145, train_loss: 0.007041, time taken: 0.8862018585205078s\n",
      "130/145, train_loss: 0.007283, time taken: 0.8798563480377197s\n",
      "140/145, train_loss: 0.007091, time taken: 0.9092626571655273s\n"
     ]
    },
    {
     "name": "stderr",
     "output_type": "stream",
     "text": [
      "2024-06-07 18:49 INFO epoch 357 average loss: 0.0069\n"
     ]
    },
    {
     "name": "stdout",
     "output_type": "stream",
     "text": [
      "epoch 357 average loss: 0.0069\n",
      "----------\n",
      "epoch 358/360\n",
      "10/145, train_loss: 0.004225, time taken: 0.8783435821533203s\n",
      "20/145, train_loss: 0.004723, time taken: 0.8718457221984863s\n",
      "30/145, train_loss: 0.004430, time taken: 0.8800270557403564s\n",
      "40/145, train_loss: 0.004361, time taken: 0.8791184425354004s\n",
      "50/145, train_loss: 0.003718, time taken: 0.8860385417938232s\n",
      "60/145, train_loss: 0.003753, time taken: 0.9001941680908203s\n",
      "70/145, train_loss: 0.003296, time taken: 0.887845516204834s\n",
      "80/145, train_loss: 0.003689, time taken: 0.912330150604248s\n",
      "90/145, train_loss: 0.003483, time taken: 0.8879985809326172s\n",
      "100/145, train_loss: 0.004062, time taken: 0.8691942691802979s\n",
      "110/145, train_loss: 0.005152, time taken: 0.8862013816833496s\n",
      "120/145, train_loss: 0.005792, time taken: 0.9019021987915039s\n",
      "130/145, train_loss: 0.005885, time taken: 0.8808417320251465s\n",
      "140/145, train_loss: 0.006037, time taken: 0.8964476585388184s\n"
     ]
    },
    {
     "name": "stderr",
     "output_type": "stream",
     "text": [
      "2024-06-07 18:51 INFO epoch 358 average loss: 0.0047\n"
     ]
    },
    {
     "name": "stdout",
     "output_type": "stream",
     "text": [
      "epoch 358 average loss: 0.0047\n",
      "----------\n",
      "epoch 359/360\n",
      "10/145, train_loss: 0.002987, time taken: 0.9015119075775146s\n",
      "20/145, train_loss: 0.005488, time taken: 0.8905935287475586s\n",
      "30/145, train_loss: 0.007657, time taken: 0.8793292045593262s\n",
      "40/145, train_loss: 0.008166, time taken: 0.9157619476318359s\n",
      "50/145, train_loss: 0.008115, time taken: 0.8903489112854004s\n",
      "60/145, train_loss: 0.007210, time taken: 0.9057607650756836s\n",
      "70/145, train_loss: 0.008912, time taken: 0.9029715061187744s\n",
      "80/145, train_loss: 0.008764, time taken: 0.8996989727020264s\n",
      "90/145, train_loss: 0.008408, time taken: 0.9028434753417969s\n",
      "100/145, train_loss: 0.008681, time taken: 0.891516923904419s\n",
      "110/145, train_loss: 0.008276, time taken: 0.87701416015625s\n",
      "120/145, train_loss: 0.008039, time taken: 0.890388011932373s\n",
      "130/145, train_loss: 0.008039, time taken: 0.9047825336456299s\n",
      "140/145, train_loss: 0.008538, time taken: 0.8928039073944092s\n"
     ]
    },
    {
     "name": "stderr",
     "output_type": "stream",
     "text": [
      "2024-06-07 18:54 INFO epoch 359 average loss: 0.0075\n"
     ]
    },
    {
     "name": "stdout",
     "output_type": "stream",
     "text": [
      "epoch 359 average loss: 0.0075\n",
      "----------\n",
      "epoch 360/360\n",
      "10/145, train_loss: 0.004778, time taken: 0.9081461429595947s\n",
      "20/145, train_loss: 0.004076, time taken: 0.8833141326904297s\n",
      "30/145, train_loss: 0.003334, time taken: 0.8890707492828369s\n",
      "40/145, train_loss: 0.003659, time taken: 0.8996446132659912s\n",
      "50/145, train_loss: 0.004247, time taken: 0.8957943916320801s\n",
      "60/145, train_loss: 0.004922, time taken: 0.9071390628814697s\n",
      "70/145, train_loss: 0.005823, time taken: 0.9035732746124268s\n",
      "80/145, train_loss: 0.006750, time taken: 0.8840358257293701s\n",
      "90/145, train_loss: 0.006358, time taken: 0.914196252822876s\n",
      "100/145, train_loss: 0.006090, time taken: 0.85787034034729s\n",
      "110/145, train_loss: 0.005902, time taken: 0.8822014331817627s\n",
      "120/145, train_loss: 0.005713, time taken: 0.8860993385314941s\n",
      "130/145, train_loss: 0.005587, time taken: 0.9071855545043945s\n",
      "140/145, train_loss: 0.005498, time taken: 0.8959920406341553s\n"
     ]
    },
    {
     "name": "stderr",
     "output_type": "stream",
     "text": [
      "2024-06-07 18:56 INFO epoch 360 average loss: 0.0055\n"
     ]
    },
    {
     "name": "stdout",
     "output_type": "stream",
     "text": [
      "epoch 360 average loss: 0.0055\n"
     ]
    }
   ],
   "source": [
    "# train\n",
    "for epoch in range(max_epochs):\n",
    "    print(\"-\" * 10)\n",
    "    print(f\"epoch {epoch + 1}/{max_epochs}\")\n",
    "    epoch_loss = 0\n",
    "    epoch_cl_loss = 0\n",
    "    epoch_recon_loss = 0\n",
    "    step = 0\n",
    "\n",
    "    # Reset the metrics at the start of each epoch\n",
    "    train_loss_metric.reset_states()\n",
    "    cl_loss_metric.reset_states()\n",
    "    recon_loss_metric.reset_states()\n",
    "\n",
    "    # Train the model\n",
    "    for n_batch, p_batch, gt_batch in zip(noise_ds, pitch_ds, gt_ds):\n",
    "        step += 1\n",
    "        start_time = time.time()\n",
    "\n",
    "        inputs, inputs_2, gt_input = (\n",
    "            tf.convert_to_tensor(n_batch, dtype=tf.float32),\n",
    "            tf.convert_to_tensor(p_batch, dtype=tf.float32),\n",
    "            tf.convert_to_tensor(gt_batch, dtype=tf.float32),\n",
    "        )\n",
    "        strategy.run(train_step, args=(inputs, inputs_2, gt_input))\n",
    "\n",
    "\n",
    "        epoch_loss += train_loss_metric.result().numpy()\n",
    "        step_loss_values.append(train_loss_metric.result().numpy())\n",
    "\n",
    "        # CL & Recon Loss Storage of Value\n",
    "        epoch_cl_loss += cl_loss_metric.result().numpy()\n",
    "        epoch_recon_loss += recon_loss_metric.result().numpy()\n",
    "\n",
    "        end_time = time.time()\n",
    "        if step % 10 == 0:\n",
    "            print(\n",
    "                f\"{step}/{ds_length // batch_size}, \"\n",
    "                f\"train_loss: {train_loss_metric.result().numpy():.6f}, \"\n",
    "                f\"time taken: {end_time-start_time}s\"\n",
    "            )\n",
    "\n",
    "    # if (epoch + 1) % 5 == 0:\n",
    "    #     print(\"Entering Validation for epoch: {}\".format(epoch + 1))\n",
    "    #     valstep = 0\n",
    "    #     for n_batch, p_batch, gt_batch in zip(val_noise_ds, val_pitch_ds, val_gt_ds):\n",
    "    #         valstep += 1\n",
    "    #         start_time = time.time()\n",
    "\n",
    "    #         inputs, inputs_2, gt_input = (\n",
    "    #             tf.convert_to_tensor(n_batch, dtype=tf.float32),\n",
    "    #             tf.convert_to_tensor(p_batch, dtype=tf.float32),\n",
    "    #             tf.convert_to_tensor(gt_batch, dtype=tf.float32),\n",
    "    #         )\n",
    "    #         strategy.run(val_step, args=(inputs, inputs_2, gt_input))\n",
    "    #     end_time = time.time()\n",
    "    #     LOG.info(f\"epoch {epoch + 1} Validation avg loss: {val_loss_metric.result().numpy():.4f}, \" f\"time taken: {end_time-start_time}s\")\n",
    "    #     val_loss_metric.reset_states()\n",
    "\n",
    "    epoch_loss /= step\n",
    "    epoch_cl_loss /= step\n",
    "    epoch_recon_loss /= step\n",
    "\n",
    "    epoch_loss_values.append(epoch_loss)\n",
    "    epoch_cl_loss_values.append(epoch_cl_loss)\n",
    "    epoch_recon_loss_values.append(epoch_recon_loss)\n",
    "    print(f\"epoch {epoch + 1} average loss: {epoch_loss:.4f}\")\n",
    "    LOG.info(f\"epoch {epoch + 1} average loss: {epoch_loss:.4f}\")\n",
    "\n",
    "# model.save_weights(os.path.join(WEIGHT_DIR, f\"{str(datetime.date.today())}_SIMCLR_SCNN_pretrain.h5\"))\n",
    "model.save_weights(os.path.join(WEIGHT_DIR, f\"{str(datetime.date.today())}_SIMCLR_SCNN_Jamendo_FMA_30s_pretrain.h5\"))"
   ]
  }
 ],
 "metadata": {
  "kernelspec": {
   "display_name": "Python 3",
   "language": "python",
   "name": "python3"
  },
  "language_info": {
   "codemirror_mode": {
    "name": "ipython",
    "version": 3
   },
   "file_extension": ".py",
   "mimetype": "text/x-python",
   "name": "python",
   "nbconvert_exporter": "python",
   "pygments_lexer": "ipython3",
   "version": "3.8.10"
  }
 },
 "nbformat": 4,
 "nbformat_minor": 2
}
