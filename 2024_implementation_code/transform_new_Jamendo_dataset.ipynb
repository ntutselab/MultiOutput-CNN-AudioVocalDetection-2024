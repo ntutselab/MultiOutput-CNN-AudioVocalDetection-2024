{
 "cells": [
  {
   "cell_type": "code",
   "execution_count": 4,
   "metadata": {},
   "outputs": [],
   "source": [
    "import os\n",
    "import sys\n",
    "sys.path.append('/root/code')\n",
    "\n",
    "import numpy as np\n",
    "import librosa\n",
    "import soundfile as sf\n",
    "import h5py as h5\n",
    "import json\n",
    "from definitions import LOG_DIR, WEIGHT_DIR, DATA_DIR, DATASET_DIR"
   ]
  },
  {
   "cell_type": "code",
   "execution_count": 5,
   "metadata": {},
   "outputs": [],
   "source": [
    "def add_data_to_dataset(data, label, x_dataset, y_dataset):\n",
    "    x_dataset.resize(x_dataset.shape[0] + 1, axis=0)\n",
    "    x_dataset[-1:] = data\n",
    "    y_dataset.resize(y_dataset.shape[0] + 1, axis=0)\n",
    "    y_dataset[-1:] = label"
   ]
  },
  {
   "cell_type": "code",
   "execution_count": 6,
   "metadata": {},
   "outputs": [
    {
     "name": "stdout",
     "output_type": "stream",
     "text": [
      "(35625, 32000, 1)\n",
      "(35625, 2)\n"
     ]
    }
   ],
   "source": [
    "x_ds = []\n",
    "y_ds = []\n",
    "y_data = []\n",
    "x_datas = []\n",
    "y_datas = []\n",
    "dataset_path = os.path.join(DATASET_DIR, './SCNN18_0.1second/SCNNR-Jamendo-twoSecond-oneOutput-test.h5')\n",
    "\n",
    "with h5.File(dataset_path, 'r') as hf:\n",
    "    x_ds = hf['X'][:]\n",
    "    y_ds = hf['Y'][:]\n",
    "\n",
    "# for index in y_ds:\n",
    "#     y_data = []\n",
    "#     for label in index:\n",
    "#         y_data.append(label[1])\n",
    "#     y_datas.append(y_data)\n",
    "\n",
    "for label in y_ds:\n",
    "    if(label == 0):\n",
    "        y_datas.append([1., 0.])\n",
    "    elif(label == 1):\n",
    "        y_datas.append([0., 1.])\n",
    "\n",
    "x_datas = x_ds\n",
    "y_datas = np.array(y_datas)\n",
    "\n",
    "print(x_datas.shape)\n",
    "print(y_datas.shape)"
   ]
  },
  {
   "cell_type": "code",
   "execution_count": 7,
   "metadata": {},
   "outputs": [],
   "source": [
    "dataset_path = os.path.join(DATASET_DIR, './SCNN18_0.1second/SCNN-Jamendo-twoSecond-oneOutput-test.h5')\n",
    "\n",
    "with h5.File(dataset_path, 'w') as hf:\n",
    "    x_ds = hf.create_dataset('X', (0, 32000, 1), maxshape=(None, 32000, 1))\n",
    "    y_ds = hf.create_dataset('Y', (0, 2), maxshape= (None, 2))\n",
    "    for _x, _y in zip(x_datas, y_datas):\n",
    "        add_data_to_dataset(_x, _y, x_ds, y_ds)"
   ]
  },
  {
   "cell_type": "code",
   "execution_count": 8,
   "metadata": {},
   "outputs": [
    {
     "name": "stdout",
     "output_type": "stream",
     "text": [
      "(35625, 32000, 1)\n",
      "(35625, 2)\n"
     ]
    }
   ],
   "source": [
    "dataset_path = os.path.join(DATASET_DIR, './SCNN18_0.1second/SCNN-Jamendo-twoSecond-oneOutput-test.h5')\n",
    "\n",
    "with h5.File(dataset_path, 'r') as hf:\n",
    "    x_ds = hf['X']\n",
    "    y_ds = hf['Y']\n",
    "    print(x_ds.shape)\n",
    "    print(y_ds.shape)"
   ]
  }
 ],
 "metadata": {
  "kernelspec": {
   "display_name": "Python 3",
   "language": "python",
   "name": "python3"
  },
  "language_info": {
   "codemirror_mode": {
    "name": "ipython",
    "version": 3
   },
   "file_extension": ".py",
   "mimetype": "text/x-python",
   "name": "python",
   "nbconvert_exporter": "python",
   "pygments_lexer": "ipython3",
   "version": "3.8.10"
  }
 },
 "nbformat": 4,
 "nbformat_minor": 2
}
