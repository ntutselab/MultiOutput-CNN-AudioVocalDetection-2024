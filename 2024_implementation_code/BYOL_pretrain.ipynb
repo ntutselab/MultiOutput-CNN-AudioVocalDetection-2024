{
 "cells": [
  {
   "cell_type": "code",
   "execution_count": 1,
   "metadata": {},
   "outputs": [],
   "source": [
    "import os\n",
    "import sys\n",
    "os.environ['CUDA_VISIBLE_DEVICES'] = \"0,1,2\"\n",
    "sys.path.append('/root/code')\n",
    "\n",
    "from definitions import LOG_DIR, WEIGHT_DIR\n",
    "import tensorflow as tf\n",
    "from tensorflow import keras\n",
    "import tensorflow.keras.backend as K\n",
    "import time\n",
    "import datetime\n",
    "import numpy\n",
    "from utils.contrastiveLoss import ContrastiveLoss\n",
    "from models.SCNN18_Flatten import SCNN18_Flatten\n",
    "from models.BYOL import BYOL\n",
    "from models.SCNN18_random_aug import SCNN18_random_aug\n",
    "import utils.dataset as dataset\n",
    "import logging\n",
    "from logging import handlers"
   ]
  },
  {
   "cell_type": "code",
   "execution_count": 2,
   "metadata": {},
   "outputs": [],
   "source": [
    "LOG = logging.getLogger('root')\n",
    "\n",
    "def initLog(debug=False):\n",
    "    logging.basicConfig(\n",
    "        level=logging.INFO,\n",
    "        format='%(asctime)s %(levelname)s %(message)s',\n",
    "        datefmt='%Y-%m-%d %H:%M',\n",
    "        handlers=[logging.StreamHandler(), handlers.RotatingFileHandler('BYOL.log', \"w\", 1024 * 1024 * 100, 3, \"utf-8\")]\n",
    "    )\n",
    "    LOG.setLevel(logging.DEBUG if debug else logging.INFO)\n",
    "    tf.get_logger().setLevel('ERROR')"
   ]
  },
  {
   "cell_type": "code",
   "execution_count": 3,
   "metadata": {},
   "outputs": [],
   "source": [
    "initLog()"
   ]
  },
  {
   "cell_type": "code",
   "execution_count": 4,
   "metadata": {},
   "outputs": [],
   "source": [
    "def get_optimizer(optimizer, lr):\n",
    "    optimizer = optimizer.lower()\n",
    "    if optimizer == 'adadelta':\n",
    "        return tf.optimizers.Adadelta() if lr == 0 else tf.optimizers.Adadelta(learning_rate=lr)\n",
    "    elif optimizer == 'adagrad':\n",
    "        return tf.optimizers.Adagrad() if lr == 0 else tf.optimizers.Adagrad(learning_rate=lr)\n",
    "    elif optimizer == 'adam':\n",
    "        return tf.optimizers.Adam() if lr == 0 else tf.optimizers.Adam(learning_rate=lr)\n",
    "    elif optimizer == 'adamax':\n",
    "        return tf.optimizers.Adamax() if lr == 0 else tf.optimizers.Adamax(learning_rate=lr)\n",
    "    elif optimizer == 'sgd':\n",
    "        return tf.optimizers.SGD() if lr == 0 else tf.optimizers.SGD(learning_rate=lr)\n",
    "    elif optimizer == 'rmsprop':\n",
    "        return tf.optimizers.RMSprop() if lr == 0 else tf.optimizers.RMSprop(learning_rate=lr)"
   ]
  },
  {
   "cell_type": "code",
   "execution_count": 5,
   "metadata": {},
   "outputs": [],
   "source": [
    "# Define model architecture & define hyper-parameter\n",
    "lr = 1e-5\n",
    "max_epochs = 50\n",
    "sample_size=[32000, 1]\n",
    "batch_size = 64\n",
    "input_shape = tuple(sample_size)\n",
    "output_shape = 2"
   ]
  },
  {
   "cell_type": "code",
   "execution_count": 6,
   "metadata": {},
   "outputs": [],
   "source": [
    "origin_path = ['./SCNN18_0.1second/SCNN-BYOL-Jamendo-FMA-train_30s.h5']\n",
    "random_augment_path = ['./SCNN18_0.1second/SCNN-BYOL-Jamendo-FMA-train_30s-random_augment.h5']"
   ]
  },
  {
   "cell_type": "code",
   "execution_count": 7,
   "metadata": {},
   "outputs": [],
   "source": [
    "def generate_batched_data(ds_path):\n",
    "    for index, ds in enumerate(ds_path):\n",
    "        if index == 0:\n",
    "            train_ds = dataset.get_dataset_without_label(ds)\n",
    "            slices_ds = tf.data.Dataset.from_tensor_slices((train_ds))\n",
    "        else:\n",
    "            train_ds = dataset.get_dataset_without_label(ds)\n",
    "            add_ds = tf.data.Dataset.from_tensor_slices((train_ds))\n",
    "            slices_ds.concatenate(add_ds)\n",
    "    dataset_length = [i for i, _ in enumerate(slices_ds)][-1] + 1\n",
    "\n",
    "    return dataset_length, slices_ds.shuffle(dataset_length, seed=8, reshuffle_each_iteration=True).batch(batch_size)"
   ]
  },
  {
   "cell_type": "code",
   "execution_count": 8,
   "metadata": {},
   "outputs": [],
   "source": [
    "ds_length, origin_ds = generate_batched_data(origin_path)\n",
    "ds_length, random_augment_ds = generate_batched_data(random_augment_path)"
   ]
  },
  {
   "cell_type": "code",
   "execution_count": 9,
   "metadata": {},
   "outputs": [
    {
     "name": "stdout",
     "output_type": "stream",
     "text": [
      "Epoch 1, Step 10/44, Loss: 2.3254237174987793, taken_time: 1.939\n",
      "Epoch 1, Step 20/44, Loss: 1.5065809488296509, taken_time: 1.911\n",
      "Epoch 1, Step 30/44, Loss: 1.3159046173095703, taken_time: 1.951\n",
      "Epoch 1, Step 40/44, Loss: 0.9632480144500732, taken_time: 1.971\n"
     ]
    },
    {
     "name": "stderr",
     "output_type": "stream",
     "text": [
      "2024-07-28 08:58 INFO Epoch 1, Loss: 0.7915165424346924\n"
     ]
    },
    {
     "name": "stdout",
     "output_type": "stream",
     "text": [
      "Epoch 2, Step 10/44, Loss: 0.5248597860336304, taken_time: 1.997\n",
      "Epoch 2, Step 20/44, Loss: 0.38934096693992615, taken_time: 1.988\n",
      "Epoch 2, Step 30/44, Loss: 0.25765368342399597, taken_time: 1.977\n",
      "Epoch 2, Step 40/44, Loss: 0.18287543952465057, taken_time: 2.028\n"
     ]
    },
    {
     "name": "stderr",
     "output_type": "stream",
     "text": [
      "2024-07-28 08:59 INFO Epoch 2, Loss: 0.1660401076078415\n"
     ]
    },
    {
     "name": "stdout",
     "output_type": "stream",
     "text": [
      "Epoch 3, Step 10/44, Loss: 0.13221341371536255, taken_time: 1.997\n",
      "Epoch 3, Step 20/44, Loss: 0.11530232429504395, taken_time: 2.029\n",
      "Epoch 3, Step 30/44, Loss: 0.09465350955724716, taken_time: 2.020\n",
      "Epoch 3, Step 40/44, Loss: 0.08176670223474503, taken_time: 2.012\n"
     ]
    },
    {
     "name": "stderr",
     "output_type": "stream",
     "text": [
      "2024-07-28 09:01 INFO Epoch 3, Loss: 0.07427093386650085\n"
     ]
    },
    {
     "name": "stdout",
     "output_type": "stream",
     "text": [
      "Epoch 4, Step 10/44, Loss: 0.06582700461149216, taken_time: 2.118\n",
      "Epoch 4, Step 20/44, Loss: 0.052933961153030396, taken_time: 2.000\n",
      "Epoch 4, Step 30/44, Loss: 0.043033625930547714, taken_time: 2.022\n",
      "Epoch 4, Step 40/44, Loss: 0.03772173449397087, taken_time: 1.999\n"
     ]
    },
    {
     "name": "stderr",
     "output_type": "stream",
     "text": [
      "2024-07-28 09:02 INFO Epoch 4, Loss: 0.03431796282529831\n"
     ]
    },
    {
     "name": "stdout",
     "output_type": "stream",
     "text": [
      "Epoch 5, Step 10/44, Loss: 0.02774573303759098, taken_time: 2.011\n",
      "Epoch 5, Step 20/44, Loss: 0.02371051162481308, taken_time: 2.026\n",
      "Epoch 5, Step 30/44, Loss: 0.02520514465868473, taken_time: 2.020\n",
      "Epoch 5, Step 40/44, Loss: 0.016442513093352318, taken_time: 1.988\n"
     ]
    },
    {
     "name": "stderr",
     "output_type": "stream",
     "text": [
      "2024-07-28 09:04 INFO Epoch 5, Loss: 0.02073695883154869\n"
     ]
    },
    {
     "name": "stdout",
     "output_type": "stream",
     "text": [
      "Epoch 6, Step 10/44, Loss: 0.013771362602710724, taken_time: 2.020\n",
      "Epoch 6, Step 20/44, Loss: 0.010887444019317627, taken_time: 2.032\n",
      "Epoch 6, Step 30/44, Loss: 0.00982043705880642, taken_time: 2.061\n",
      "Epoch 6, Step 40/44, Loss: 0.00872274860739708, taken_time: 2.051\n"
     ]
    },
    {
     "name": "stderr",
     "output_type": "stream",
     "text": [
      "2024-07-28 09:06 INFO Epoch 6, Loss: 0.00668737618252635\n"
     ]
    },
    {
     "name": "stdout",
     "output_type": "stream",
     "text": [
      "Epoch 7, Step 10/44, Loss: 0.008398612961173058, taken_time: 2.012\n",
      "Epoch 7, Step 20/44, Loss: 0.006927995011210442, taken_time: 2.141\n",
      "Epoch 7, Step 30/44, Loss: 0.005621111020445824, taken_time: 1.996\n",
      "Epoch 7, Step 40/44, Loss: 0.00573376752436161, taken_time: 2.030\n"
     ]
    },
    {
     "name": "stderr",
     "output_type": "stream",
     "text": [
      "2024-07-28 09:07 INFO Epoch 7, Loss: 0.009922795929014683\n"
     ]
    },
    {
     "name": "stdout",
     "output_type": "stream",
     "text": [
      "Epoch 8, Step 10/44, Loss: 0.004646088927984238, taken_time: 2.016\n",
      "Epoch 8, Step 20/44, Loss: 0.005237055942416191, taken_time: 2.036\n",
      "Epoch 8, Step 30/44, Loss: 0.0044832900166511536, taken_time: 2.013\n",
      "Epoch 8, Step 40/44, Loss: 0.004887795075774193, taken_time: 2.047\n"
     ]
    },
    {
     "name": "stderr",
     "output_type": "stream",
     "text": [
      "2024-07-28 09:09 INFO Epoch 8, Loss: 0.0041834148578345776\n"
     ]
    },
    {
     "name": "stdout",
     "output_type": "stream",
     "text": [
      "Epoch 9, Step 10/44, Loss: 0.003984477370977402, taken_time: 2.017\n",
      "Epoch 9, Step 20/44, Loss: 0.004437068477272987, taken_time: 2.046\n",
      "Epoch 9, Step 30/44, Loss: 0.004511326551437378, taken_time: 2.013\n",
      "Epoch 9, Step 40/44, Loss: 0.010744448751211166, taken_time: 2.027\n"
     ]
    },
    {
     "name": "stderr",
     "output_type": "stream",
     "text": [
      "2024-07-28 09:10 INFO Epoch 9, Loss: 0.004004312679171562\n"
     ]
    },
    {
     "name": "stdout",
     "output_type": "stream",
     "text": [
      "Epoch 10, Step 10/44, Loss: 0.005248710513114929, taken_time: 1.988\n",
      "Epoch 10, Step 20/44, Loss: 0.0033644847571849823, taken_time: 1.996\n",
      "Epoch 10, Step 30/44, Loss: 0.007612314075231552, taken_time: 2.008\n",
      "Epoch 10, Step 40/44, Loss: 0.005281249061226845, taken_time: 2.033\n"
     ]
    },
    {
     "name": "stderr",
     "output_type": "stream",
     "text": [
      "2024-07-28 09:12 INFO Epoch 10, Loss: 0.016676535829901695\n"
     ]
    },
    {
     "name": "stdout",
     "output_type": "stream",
     "text": [
      "Epoch 11, Step 10/44, Loss: 0.004226997494697571, taken_time: 2.004\n",
      "Epoch 11, Step 20/44, Loss: 0.004490358754992485, taken_time: 1.981\n",
      "Epoch 11, Step 30/44, Loss: 0.01619715616106987, taken_time: 2.029\n",
      "Epoch 11, Step 40/44, Loss: 0.007200848311185837, taken_time: 2.028\n"
     ]
    },
    {
     "name": "stderr",
     "output_type": "stream",
     "text": [
      "2024-07-28 09:13 INFO Epoch 11, Loss: 0.0035244524478912354\n"
     ]
    },
    {
     "name": "stdout",
     "output_type": "stream",
     "text": [
      "Epoch 12, Step 10/44, Loss: 0.003546411171555519, taken_time: 2.021\n",
      "Epoch 12, Step 20/44, Loss: 0.004097850993275642, taken_time: 2.044\n",
      "Epoch 12, Step 30/44, Loss: 0.006105830892920494, taken_time: 2.001\n",
      "Epoch 12, Step 40/44, Loss: 0.004001434892416, taken_time: 1.997\n"
     ]
    },
    {
     "name": "stderr",
     "output_type": "stream",
     "text": [
      "2024-07-28 09:15 INFO Epoch 12, Loss: 0.0056589641608297825\n"
     ]
    },
    {
     "name": "stdout",
     "output_type": "stream",
     "text": [
      "Epoch 13, Step 10/44, Loss: 0.0033616162836551666, taken_time: 2.041\n",
      "Epoch 13, Step 20/44, Loss: 0.003063010051846504, taken_time: 1.996\n",
      "Epoch 13, Step 30/44, Loss: 0.0032680686563253403, taken_time: 2.019\n",
      "Epoch 13, Step 40/44, Loss: 0.012718193233013153, taken_time: 2.030\n"
     ]
    },
    {
     "name": "stderr",
     "output_type": "stream",
     "text": [
      "2024-07-28 09:16 INFO Epoch 13, Loss: 0.0019677679520100355\n"
     ]
    },
    {
     "name": "stdout",
     "output_type": "stream",
     "text": [
      "Epoch 14, Step 10/44, Loss: 0.0024947505444288254, taken_time: 2.033\n",
      "Epoch 14, Step 20/44, Loss: 0.0031710397452116013, taken_time: 1.991\n",
      "Epoch 14, Step 30/44, Loss: 0.003969894722104073, taken_time: 2.009\n",
      "Epoch 14, Step 40/44, Loss: 0.00527336448431015, taken_time: 2.043\n"
     ]
    },
    {
     "name": "stderr",
     "output_type": "stream",
     "text": [
      "2024-07-28 09:18 INFO Epoch 14, Loss: 0.013064119964838028\n"
     ]
    },
    {
     "name": "stdout",
     "output_type": "stream",
     "text": [
      "Epoch 15, Step 10/44, Loss: 0.0020658429712057114, taken_time: 1.993\n",
      "Epoch 15, Step 20/44, Loss: 0.004872506484389305, taken_time: 2.015\n",
      "Epoch 15, Step 30/44, Loss: 0.0024974700063467026, taken_time: 2.027\n",
      "Epoch 15, Step 40/44, Loss: 0.004214102402329445, taken_time: 2.013\n"
     ]
    },
    {
     "name": "stderr",
     "output_type": "stream",
     "text": [
      "2024-07-28 09:19 INFO Epoch 15, Loss: 0.0041819978505373\n"
     ]
    },
    {
     "name": "stdout",
     "output_type": "stream",
     "text": [
      "Epoch 16, Step 10/44, Loss: 0.005100153386592865, taken_time: 1.993\n",
      "Epoch 16, Step 20/44, Loss: 0.0034996457397937775, taken_time: 2.018\n",
      "Epoch 16, Step 30/44, Loss: 0.003884941339492798, taken_time: 2.012\n",
      "Epoch 16, Step 40/44, Loss: 0.0022864602506160736, taken_time: 2.039\n"
     ]
    },
    {
     "name": "stderr",
     "output_type": "stream",
     "text": [
      "2024-07-28 09:21 INFO Epoch 16, Loss: 0.0029837919864803553\n"
     ]
    },
    {
     "name": "stdout",
     "output_type": "stream",
     "text": [
      "Epoch 17, Step 10/44, Loss: 0.006997862830758095, taken_time: 2.018\n",
      "Epoch 17, Step 20/44, Loss: 0.0025948844850063324, taken_time: 2.001\n",
      "Epoch 17, Step 30/44, Loss: 0.004802355542778969, taken_time: 1.955\n",
      "Epoch 17, Step 40/44, Loss: 0.003034450113773346, taken_time: 2.001\n"
     ]
    },
    {
     "name": "stderr",
     "output_type": "stream",
     "text": [
      "2024-07-28 09:22 INFO Epoch 17, Loss: 0.0015456014079973102\n"
     ]
    },
    {
     "name": "stdout",
     "output_type": "stream",
     "text": [
      "Epoch 18, Step 10/44, Loss: 0.003286018967628479, taken_time: 2.029\n",
      "Epoch 18, Step 20/44, Loss: 0.0033307913690805435, taken_time: 2.002\n",
      "Epoch 18, Step 30/44, Loss: 0.004223860800266266, taken_time: 2.001\n",
      "Epoch 18, Step 40/44, Loss: 0.0023806504905223846, taken_time: 2.086\n"
     ]
    },
    {
     "name": "stderr",
     "output_type": "stream",
     "text": [
      "2024-07-28 09:24 INFO Epoch 18, Loss: 0.002742479322478175\n"
     ]
    },
    {
     "name": "stdout",
     "output_type": "stream",
     "text": [
      "Epoch 19, Step 10/44, Loss: 0.0026124492287635803, taken_time: 2.020\n",
      "Epoch 19, Step 20/44, Loss: 0.0029780808836221695, taken_time: 1.996\n",
      "Epoch 19, Step 30/44, Loss: 0.004676520824432373, taken_time: 2.036\n",
      "Epoch 19, Step 40/44, Loss: 0.0024651233106851578, taken_time: 2.003\n"
     ]
    },
    {
     "name": "stderr",
     "output_type": "stream",
     "text": [
      "2024-07-28 09:25 INFO Epoch 19, Loss: 0.0024517145939171314\n"
     ]
    },
    {
     "name": "stdout",
     "output_type": "stream",
     "text": [
      "Epoch 20, Step 10/44, Loss: 0.0033669471740722656, taken_time: 2.008\n",
      "Epoch 20, Step 20/44, Loss: 0.001755300909280777, taken_time: 2.025\n",
      "Epoch 20, Step 30/44, Loss: 0.0021529849618673325, taken_time: 1.988\n",
      "Epoch 20, Step 40/44, Loss: 0.0019757691770792007, taken_time: 1.995\n"
     ]
    },
    {
     "name": "stderr",
     "output_type": "stream",
     "text": [
      "2024-07-28 09:27 INFO Epoch 20, Loss: 0.005986303091049194\n"
     ]
    },
    {
     "name": "stdout",
     "output_type": "stream",
     "text": [
      "Epoch 21, Step 10/44, Loss: 0.004196407273411751, taken_time: 2.046\n",
      "Epoch 21, Step 20/44, Loss: 0.0029821693897247314, taken_time: 2.024\n",
      "Epoch 21, Step 30/44, Loss: 0.0017596036195755005, taken_time: 1.977\n",
      "Epoch 21, Step 40/44, Loss: 0.0018246155232191086, taken_time: 2.006\n"
     ]
    },
    {
     "name": "stderr",
     "output_type": "stream",
     "text": [
      "2024-07-28 09:28 INFO Epoch 21, Loss: 0.002084016799926758\n"
     ]
    },
    {
     "name": "stdout",
     "output_type": "stream",
     "text": [
      "Epoch 22, Step 10/44, Loss: 0.004443913698196411, taken_time: 1.988\n",
      "Epoch 22, Step 20/44, Loss: 0.002640245482325554, taken_time: 2.024\n",
      "Epoch 22, Step 30/44, Loss: 0.0014508049935102463, taken_time: 2.029\n",
      "Epoch 22, Step 40/44, Loss: 0.002331947907805443, taken_time: 2.013\n"
     ]
    },
    {
     "name": "stderr",
     "output_type": "stream",
     "text": [
      "2024-07-28 09:30 INFO Epoch 22, Loss: 0.0012070635566487908\n"
     ]
    },
    {
     "name": "stdout",
     "output_type": "stream",
     "text": [
      "Epoch 23, Step 10/44, Loss: 0.001993713900446892, taken_time: 2.026\n",
      "Epoch 23, Step 20/44, Loss: 0.0016725119203329086, taken_time: 2.033\n",
      "Epoch 23, Step 30/44, Loss: 0.001106930896639824, taken_time: 2.001\n",
      "Epoch 23, Step 40/44, Loss: 0.006323406472802162, taken_time: 1.985\n"
     ]
    },
    {
     "name": "stderr",
     "output_type": "stream",
     "text": [
      "2024-07-28 09:31 INFO Epoch 23, Loss: 0.0013262364082038403\n"
     ]
    },
    {
     "name": "stdout",
     "output_type": "stream",
     "text": [
      "Epoch 24, Step 10/44, Loss: 0.002574719488620758, taken_time: 2.008\n",
      "Epoch 24, Step 20/44, Loss: 0.004569802433252335, taken_time: 2.008\n",
      "Epoch 24, Step 30/44, Loss: 0.0018283762037754059, taken_time: 1.991\n",
      "Epoch 24, Step 40/44, Loss: 0.002413123846054077, taken_time: 2.152\n"
     ]
    },
    {
     "name": "stderr",
     "output_type": "stream",
     "text": [
      "2024-07-28 09:33 INFO Epoch 24, Loss: 0.0011979705886915326\n"
     ]
    },
    {
     "name": "stdout",
     "output_type": "stream",
     "text": [
      "Epoch 25, Step 10/44, Loss: 0.0025834720581769943, taken_time: 1.992\n",
      "Epoch 25, Step 20/44, Loss: 0.0019489489495754242, taken_time: 1.983\n",
      "Epoch 25, Step 30/44, Loss: 0.002011200413107872, taken_time: 2.039\n",
      "Epoch 25, Step 40/44, Loss: 0.001188386231660843, taken_time: 2.028\n"
     ]
    },
    {
     "name": "stderr",
     "output_type": "stream",
     "text": [
      "2024-07-28 09:34 INFO Epoch 25, Loss: 0.016505790874361992\n"
     ]
    },
    {
     "name": "stdout",
     "output_type": "stream",
     "text": [
      "Epoch 26, Step 10/44, Loss: 0.0014971811324357986, taken_time: 2.025\n",
      "Epoch 26, Step 20/44, Loss: 0.0022588148713111877, taken_time: 2.033\n",
      "Epoch 26, Step 30/44, Loss: 0.0012771710753440857, taken_time: 2.016\n",
      "Epoch 26, Step 40/44, Loss: 0.0021602604538202286, taken_time: 1.977\n"
     ]
    },
    {
     "name": "stderr",
     "output_type": "stream",
     "text": [
      "2024-07-28 09:36 INFO Epoch 26, Loss: 0.0010934637393802404\n"
     ]
    },
    {
     "name": "stdout",
     "output_type": "stream",
     "text": [
      "Epoch 27, Step 10/44, Loss: 0.0011897198855876923, taken_time: 2.014\n",
      "Epoch 27, Step 20/44, Loss: 0.0013011433184146881, taken_time: 2.016\n",
      "Epoch 27, Step 30/44, Loss: 0.0015771836042404175, taken_time: 1.995\n",
      "Epoch 27, Step 40/44, Loss: 0.0012476686388254166, taken_time: 2.016\n"
     ]
    },
    {
     "name": "stderr",
     "output_type": "stream",
     "text": [
      "2024-07-28 09:37 INFO Epoch 27, Loss: 0.001397384679876268\n"
     ]
    },
    {
     "name": "stdout",
     "output_type": "stream",
     "text": [
      "Epoch 28, Step 10/44, Loss: 0.004447953775525093, taken_time: 1.998\n",
      "Epoch 28, Step 20/44, Loss: 0.0007919147610664368, taken_time: 2.010\n",
      "Epoch 28, Step 30/44, Loss: 0.0023900140076875687, taken_time: 2.005\n",
      "Epoch 28, Step 40/44, Loss: 0.0015964116901159286, taken_time: 2.036\n"
     ]
    },
    {
     "name": "stderr",
     "output_type": "stream",
     "text": [
      "2024-07-28 09:39 INFO Epoch 28, Loss: 0.002911842428147793\n"
     ]
    },
    {
     "name": "stdout",
     "output_type": "stream",
     "text": [
      "Epoch 29, Step 10/44, Loss: 0.0008081626147031784, taken_time: 2.017\n",
      "Epoch 29, Step 20/44, Loss: 0.001990118995308876, taken_time: 2.008\n",
      "Epoch 29, Step 30/44, Loss: 0.0009456612169742584, taken_time: 2.032\n",
      "Epoch 29, Step 40/44, Loss: 0.001205654814839363, taken_time: 1.987\n"
     ]
    },
    {
     "name": "stderr",
     "output_type": "stream",
     "text": [
      "2024-07-28 09:40 INFO Epoch 29, Loss: 0.0011838740902021527\n"
     ]
    },
    {
     "name": "stdout",
     "output_type": "stream",
     "text": [
      "Epoch 30, Step 10/44, Loss: 0.0027642417699098587, taken_time: 1.988\n",
      "Epoch 30, Step 20/44, Loss: 0.0015776418149471283, taken_time: 2.023\n",
      "Epoch 30, Step 30/44, Loss: 0.0010992325842380524, taken_time: 2.007\n",
      "Epoch 30, Step 40/44, Loss: 0.002368580549955368, taken_time: 1.997\n"
     ]
    },
    {
     "name": "stderr",
     "output_type": "stream",
     "text": [
      "2024-07-28 09:42 INFO Epoch 30, Loss: 0.0021518999710679054\n"
     ]
    },
    {
     "name": "stdout",
     "output_type": "stream",
     "text": [
      "Training complete. Weights saved to 'BYOL_SCNN_pretrain.h5'.\n"
     ]
    }
   ],
   "source": [
    "strategy = tf.distribute.MirroredStrategy(devices=[f'/gpu:{i}' for i in range(3)])\n",
    "with strategy.scope():\n",
    "    optimizer = get_optimizer('adam', lr)\n",
    "\n",
    "    # 创建 BYOL 模型\n",
    "    byol_model = BYOL(input_shape=input_shape)\n",
    "    byol_model.compile(optimizer=optimizer)\n",
    "\n",
    "    # 分布式训练循环\n",
    "    for epoch in range(max_epochs):\n",
    "        step = 0\n",
    "        for o_batch, ra_batch in zip(origin_ds, random_augment_ds):\n",
    "            step += 1\n",
    "            start_time = time.time()\n",
    "\n",
    "            inputs_1 = tf.convert_to_tensor(o_batch, dtype=tf.float32)\n",
    "            inputs_2 = tf.convert_to_tensor(ra_batch, dtype=tf.float32)\n",
    "\n",
    "            def distributed_train_step(inputs_1, inputs_2):\n",
    "                with tf.GradientTape() as tape:\n",
    "                    loss = byol_model(inputs_1, inputs_2)\n",
    "                grads = tape.gradient(loss, byol_model.trainable_variables)\n",
    "                byol_model.optimizer.apply_gradients(zip(grads, byol_model.trainable_variables))\n",
    "                byol_model.update_target_network()\n",
    "                return loss\n",
    "\n",
    "            per_replica_losses = strategy.run(distributed_train_step, args=(inputs_1, inputs_2))\n",
    "            mean_loss = strategy.reduce(tf.distribute.ReduceOp.MEAN, per_replica_losses, axis=None)\n",
    "\n",
    "            end_time = time.time()\n",
    "\n",
    "            if step % 10 == 0:\n",
    "                print(f\"Epoch {epoch + 1}, Step {step}/{ds_length // batch_size}, Loss: {mean_loss.numpy()}, taken_time: {end_time - start_time:.3f}\")\n",
    "\n",
    "        LOG.info(f\"Epoch {epoch + 1}, Loss: {mean_loss.numpy()}\")\n",
    "\n",
    "    # 保存权重\n",
    "    byol_model.save_weights(os.path.join(WEIGHT_DIR, f\"{str(datetime.date.today())}_SCNN_BYOL_Jamendo_FMA_pretrain_30epochs_lr=1e-5.h5\"))\n",
    "    print(\"Training complete. Weights saved to 'BYOL_SCNN_pretrain.h5'.\")"
   ]
  }
 ],
 "metadata": {
  "kernelspec": {
   "display_name": "Python 3",
   "language": "python",
   "name": "python3"
  },
  "language_info": {
   "codemirror_mode": {
    "name": "ipython",
    "version": 3
   },
   "file_extension": ".py",
   "mimetype": "text/x-python",
   "name": "python",
   "nbconvert_exporter": "python",
   "pygments_lexer": "ipython3",
   "version": "3.8.10"
  }
 },
 "nbformat": 4,
 "nbformat_minor": 2
}
