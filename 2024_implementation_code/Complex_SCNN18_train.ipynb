{
 "cells": [
  {
   "cell_type": "code",
   "execution_count": 1,
   "metadata": {},
   "outputs": [],
   "source": [
    "import os\n",
    "import sys\n",
    "os.environ['CUDA_VISIBLE_DEVICES'] = \"0,1,2\"\n",
    "sys.path.append('/root/code')\n",
    "\n",
    "import h5py as h5\n",
    "from definitions import LOG_DIR, WEIGHT_DIR, DATASET_DIR\n",
    "import tensorflow as tf\n",
    "from tensorflow import keras\n",
    "import tensorflow.keras.backend as K\n",
    "import time\n",
    "import datetime\n",
    "import numpy as np\n",
    "from utils.contrastiveLoss import ContrastiveLoss\n",
    "from models.Complex_SCNN18_Sigmoid import Complex_SCNN18_Sigmoid\n",
    "from models.Complex_SCNN18 import Complex_SCNN18\n",
    "from sklearn.model_selection import train_test_split\n",
    "from tensorflow.keras.models import Model\n",
    "from tensorflow.keras.layers import Input\n",
    "from tensorflow.keras.callbacks import Callback\n",
    "import utils.dataset as dataset\n",
    "import logging\n",
    "from logging import handlers"
   ]
  },
  {
   "cell_type": "code",
   "execution_count": 2,
   "metadata": {},
   "outputs": [],
   "source": [
    "LOG = logging.getLogger('root')\n",
    "\n",
    "def initLog(debug=False):\n",
    "    logging.basicConfig(\n",
    "        level=logging.INFO,\n",
    "        format='%(asctime)s %(levelname)s %(message).150s',\n",
    "        datefmt='%Y-%m-%d %H:%M',\n",
    "        handlers=[logging.StreamHandler(), handlers.RotatingFileHandler('Complex_SCNN18.log', \"w\", 1024 * 1024 * 100, 3, \"utf-8\")]\n",
    "    )\n",
    "    LOG.setLevel(logging.DEBUG if debug else logging.INFO)\n",
    "    tf.get_logger().setLevel('ERROR')"
   ]
  },
  {
   "cell_type": "code",
   "execution_count": 3,
   "metadata": {},
   "outputs": [],
   "source": [
    "initLog()"
   ]
  },
  {
   "cell_type": "code",
   "execution_count": 4,
   "metadata": {},
   "outputs": [],
   "source": [
    "class TrainingStepLogger(Callback):\n",
    "    def on_epoch_end(self, epoch, logs=None):\n",
    "        LOG.info(f'End of Epoch {epoch + 1} - Loss: {logs[\"loss\"]:.4f}')"
   ]
  },
  {
   "cell_type": "code",
   "execution_count": 5,
   "metadata": {},
   "outputs": [],
   "source": [
    "def get_optimizer(optimizer, lr):\n",
    "    optimizer = optimizer.lower()\n",
    "    if optimizer == 'adadelta':\n",
    "        return tf.optimizers.Adadelta() if lr == 0 else tf.optimizers.Adadelta(learning_rate=lr)\n",
    "    elif optimizer == 'adagrad':\n",
    "        return tf.optimizers.Adagrad() if lr == 0 else tf.optimizers.Adagrad(learning_rate=lr)\n",
    "    elif optimizer == 'adam':\n",
    "        return tf.optimizers.Adam() if lr == 0 else tf.optimizers.Adam(learning_rate=lr)\n",
    "    elif optimizer == 'adamax':\n",
    "        return tf.optimizers.Adamax() if lr == 0 else tf.optimizers.Adamax(learning_rate=lr)\n",
    "    elif optimizer == 'sgd':\n",
    "        return tf.optimizers.SGD() if lr == 0 else tf.optimizers.SGD(learning_rate=lr)\n",
    "    elif optimizer == 'rmsprop':\n",
    "        return tf.optimizers.RMSprop() if lr == 0 else tf.optimizers.RMSprop(learning_rate=lr)"
   ]
  },
  {
   "cell_type": "code",
   "execution_count": 6,
   "metadata": {},
   "outputs": [],
   "source": [
    "# Define hyper-parameter\n",
    "lr = 0.1\n",
    "max_epochs = 1600\n",
    "batch_size = 100\n",
    "input_height = 32000\n",
    "input_width = 1\n",
    "nb_classes = 1"
   ]
  },
  {
   "cell_type": "code",
   "execution_count": 7,
   "metadata": {},
   "outputs": [
    {
     "name": "stdout",
     "output_type": "stream",
     "text": [
      "7044\n"
     ]
    }
   ],
   "source": [
    "train_ds = dataset.load('./SCNN18_0.1second/SCNNR-Jamendo-twoSecond-oneOutput-train.h5')\n",
    "dataset_length = [i for i, _ in enumerate(train_ds)][-1] + 1\n",
    "train_ds = train_ds.take(int(dataset_length / 10))\n",
    "\n",
    "# train_data = dataset.get_dataset_without_label('./SCNN18_0.1second/SCNNR-Jamendo-twoSecond-oneOutput-train.h5')\n",
    "# train_label = dataset.get_ground_truth('./SCNN18_0.1second/SCNNR-Jamendo-twoSecond-oneOutput-train.h5')\n",
    "\n",
    "dataset_length = [i for i, _ in enumerate(train_ds)][-1] + 1\n",
    "print(dataset_length)\n",
    "\n",
    "# val_ds = dataset.load('./SCNN18_0.1second/SCNNR-Jamendo-twoSecond-oneOutput-test.h5')\n",
    "\n",
    "# val_data = dataset.get_dataset_without_label('./SCNN18_0.1second/SCNNR-Jamendo-test.h5')\n",
    "# val_label = dataset.get_ground_truth('./SCNN18_0.1second/SCNNR-Jamendo-test.h5')\n",
    "# val_ds = tf.data.Dataset.from_tensor_slices((val_data, val_label[:, 0]))\n",
    "\n",
    "# dataset_length = [i for i, _ in enumerate(val_ds)][-1] + 1\n",
    "# print(dataset_length)\n",
    "\n",
    "train_ds = train_ds.batch(batch_size)\n",
    "# train_ds = train_ds.batch(batch_size).shuffle(\n",
    "#     dataset_length, reshuffle_each_iteration=False)\n",
    "# val_ds = val_ds.batch(batch_size)"
   ]
  },
  {
   "cell_type": "code",
   "execution_count": 8,
   "metadata": {},
   "outputs": [
    {
     "name": "stderr",
     "output_type": "stream",
     "text": [
      "2024-03-11 16:09 INFO Model: \"functional_1\"\n",
      "2024-03-11 16:09 INFO ______________________________________________________________________________________________________________________________________________________\n",
      "2024-03-11 16:09 INFO Layer (type)                                                                      Output Shape                                           Param #      \n",
      "2024-03-11 16:09 INFO ======================================================================================================================================================\n",
      "2024-03-11 16:09 INFO input (InputLayer)                                                                [(None, 32000, 1)]                                     0            \n",
      "2024-03-11 16:09 INFO ______________________________________________________________________________________________________________________________________________________\n",
      "2024-03-11 16:09 INFO stft_network (STFT_network)                                                       ((None, 63, 1024, 1), (None, 63, 1024, 1))             4196352      \n",
      "2024-03-11 16:09 INFO ______________________________________________________________________________________________________________________________________________________\n",
      "2024-03-11 16:09 INFO cuscl_conv1 (complex_USCLLayer)                                                   ((None, 21, 512, 64), (None, 21, 512, 64))             1408         \n",
      "2024-03-11 16:09 INFO                                                                                                                                                       \n",
      "2024-03-11 16:09 INFO ______________________________________________________________________________________________________________________________________________________\n",
      "2024-03-11 16:09 INFO cuscl_conv2 (complex_USCLLayer)                                                   ((None, 21, 512, 64), (None, 21, 512, 64))             17024        \n",
      "2024-03-11 16:09 INFO                                                                                                                                                       \n",
      "2024-03-11 16:09 INFO ______________________________________________________________________________________________________________________________________________________\n",
      "2024-03-11 16:09 INFO cuscl_conv3 (complex_USCLLayer)                                                   ((None, 21, 512, 64), (None, 21, 512, 64))             17024        \n",
      "2024-03-11 16:09 INFO                                                                                                                                                       \n",
      "2024-03-11 16:09 INFO ______________________________________________________________________________________________________________________________________________________\n",
      "2024-03-11 16:09 INFO cuscl_conv4 (complex_USCLLayer)                                                   ((None, 21, 256, 64), (None, 21, 256, 64))             17024        \n",
      "2024-03-11 16:09 INFO                                                                                                                                                       \n",
      "2024-03-11 16:09 INFO ______________________________________________________________________________________________________________________________________________________\n",
      "2024-03-11 16:09 INFO cuscl_conv5 (complex_USCLLayer)                                                   ((None, 21, 128, 64), (None, 21, 128, 64))             17024        \n",
      "2024-03-11 16:09 INFO                                                                                                                                                       \n",
      "2024-03-11 16:09 INFO ______________________________________________________________________________________________________________________________________________________\n",
      "2024-03-11 16:09 INFO cuscl_conv6 (complex_USCLLayer)                                                   ((None, 21, 128, 64), (None, 21, 128, 64))             17024        \n",
      "2024-03-11 16:09 INFO                                                                                                                                                       \n",
      "2024-03-11 16:09 INFO ______________________________________________________________________________________________________________________________________________________\n",
      "2024-03-11 16:09 INFO cuscl_conv7 (complex_USCLLayer)                                                   ((None, 21, 64, 64), (None, 21, 64, 64))               17024        \n",
      "2024-03-11 16:09 INFO                                                                                                                                                       \n",
      "2024-03-11 16:09 INFO ______________________________________________________________________________________________________________________________________________________\n",
      "2024-03-11 16:09 INFO cuscl_conv8 (complex_USCLLayer)                                                   ((None, 21, 64, 128), (None, 21, 64, 128))             34048        \n",
      "2024-03-11 16:09 INFO                                                                                                                                                       \n",
      "2024-03-11 16:09 INFO ______________________________________________________________________________________________________________________________________________________\n",
      "2024-03-11 16:09 INFO cuscl_conv9 (complex_USCLLayer)                                                   ((None, 21, 64, 128), (None, 21, 64, 128))             66816        \n",
      "2024-03-11 16:09 INFO                                                                                                                                                       \n",
      "2024-03-11 16:09 INFO ______________________________________________________________________________________________________________________________________________________\n",
      "2024-03-11 16:09 INFO cuscl_conv10 (complex_USCLLayer)                                                  ((None, 21, 32, 128), (None, 21, 32, 128))             66816        \n",
      "2024-03-11 16:09 INFO                                                                                                                                                       \n",
      "2024-03-11 16:09 INFO ______________________________________________________________________________________________________________________________________________________\n",
      "2024-03-11 16:09 INFO cuscl_conv11 (complex_USCLLayer)                                                  ((None, 21, 16, 128), (None, 21, 16, 128))             66816        \n",
      "2024-03-11 16:09 INFO                                                                                                                                                       \n",
      "2024-03-11 16:09 INFO ______________________________________________________________________________________________________________________________________________________\n",
      "2024-03-11 16:09 INFO cuscl_conv12 (complex_USCLLayer)                                                  ((None, 21, 16, 128), (None, 21, 16, 128))             66816        \n",
      "2024-03-11 16:09 INFO                                                                                                                                                       \n",
      "2024-03-11 16:09 INFO ______________________________________________________________________________________________________________________________________________________\n",
      "2024-03-11 16:09 INFO cuscl_conv13 (complex_USCLLayer)                                                  ((None, 21, 8, 128), (None, 21, 8, 128))               66816        \n",
      "2024-03-11 16:09 INFO                                                                                                                                                       \n",
      "2024-03-11 16:09 INFO ______________________________________________________________________________________________________________________________________________________\n",
      "2024-03-11 16:09 INFO cuscl_conv14 (complex_USCLLayer)                                                  ((None, 21, 4, 256), (None, 21, 4, 256))               133632       \n",
      "2024-03-11 16:09 INFO                                                                                                                                                       \n",
      "2024-03-11 16:09 INFO ______________________________________________________________________________________________________________________________________________________\n",
      "2024-03-11 16:09 INFO cuscl_conv15 (complex_USCLLayer)                                                  ((None, 21, 2, 256), (None, 21, 2, 256))               264704       \n",
      "2024-03-11 16:09 INFO                                                                                                                                                       \n",
      "2024-03-11 16:09 INFO ______________________________________________________________________________________________________________________________________________________\n",
      "2024-03-11 16:09 INFO cuscl_conv16 (complex_USCLLayer)                                                  ((None, 21, 2, 256), (None, 21, 2, 256))               264704       \n",
      "2024-03-11 16:09 INFO                                                                                                                                                       \n",
      "2024-03-11 16:09 INFO ______________________________________________________________________________________________________________________________________________________\n",
      "2024-03-11 16:09 INFO final_cuscl (complex_Conv2D)                                                      ((None, 21, 2, 256), (None, 21, 2, 256))               786944       \n",
      "2024-03-11 16:09 INFO                                                                                                                                                       \n",
      "2024-03-11 16:09 INFO ______________________________________________________________________________________________________________________________________________________\n",
      "2024-03-11 16:09 INFO complex__activation (complex_Activation)                                          ((None, 21, 2, 256), (None, 21, 2, 256))               0            \n",
      "2024-03-11 16:09 INFO                                                                                                                                                       \n",
      "2024-03-11 16:09 INFO ______________________________________________________________________________________________________________________________________________________\n",
      "2024-03-11 16:09 INFO final_cuscl_bn (complex_NaiveBatchNormalization)                                  ((None, 21, 2, 256), (None, 21, 2, 256))               2048         \n",
      "2024-03-11 16:09 INFO                                                                                                                                                       \n",
      "2024-03-11 16:09 INFO ______________________________________________________________________________________________________________________________________________________\n",
      "2024-03-11 16:09 INFO complex__max_pooling_8 (complex_MaxPooling)                                       ((None, 7, 1, 256), (None, 7, 1, 256))                 0            \n",
      "2024-03-11 16:09 INFO                                                                                                                                                       \n",
      "2024-03-11 16:09 INFO ______________________________________________________________________________________________________________________________________________________\n",
      "2024-03-11 16:09 INFO final_cconv (complex_Conv2D)                                                      ((None, 7, 1, 256), (None, 7, 1, 256))                 131584       \n",
      "2024-03-11 16:09 INFO                                                                                                                                                       \n",
      "2024-03-11 16:09 INFO ______________________________________________________________________________________________________________________________________________________\n",
      "2024-03-11 16:09 INFO complex__activation_1 (complex_Activation)                                        ((None, 7, 1, 256), (None, 7, 1, 256))                 0            \n",
      "2024-03-11 16:09 INFO                                                                                                                                                       \n",
      "2024-03-11 16:09 INFO ______________________________________________________________________________________________________________________________________________________\n",
      "2024-03-11 16:09 INFO final_cbn (complex_NaiveBatchNormalization)                                       ((None, 7, 1, 256), (None, 7, 1, 256))                 2048         \n",
      "2024-03-11 16:09 INFO                                                                                                                                                       \n",
      "2024-03-11 16:09 INFO ______________________________________________________________________________________________________________________________________________________\n",
      "2024-03-11 16:09 INFO cuscl_dropout (complex_Dropout)                                                   ((None, 7, 1, 256), (None, 7, 1, 256))                 0            \n",
      "2024-03-11 16:09 INFO                                                                                                                                                       \n",
      "2024-03-11 16:09 INFO ______________________________________________________________________________________________________________________________________________________\n",
      "2024-03-11 16:09 INFO cflatten (complex_Flatten)                                                        ((None, 1792), (None, 1792))                           0            \n",
      "2024-03-11 16:09 INFO                                                                                                                                                       \n",
      "2024-03-11 16:09 INFO ______________________________________________________________________________________________________________________________________________________\n",
      "2024-03-11 16:09 INFO square (Lambda)                                                                   (None, 1792)                                           0            \n",
      "2024-03-11 16:09 INFO                                                                                                                                                       \n",
      "2024-03-11 16:09 INFO ______________________________________________________________________________________________________________________________________________________\n",
      "2024-03-11 16:09 INFO add (Add)                                                                         (None, 1792)                                           0            \n",
      "2024-03-11 16:09 INFO                                                                                                                                                       \n",
      "2024-03-11 16:09 INFO ______________________________________________________________________________________________________________________________________________________\n",
      "2024-03-11 16:09 INFO final_bn (BatchNormalization)                                                     (None, 1792)                                           7168         \n",
      "2024-03-11 16:09 INFO ______________________________________________________________________________________________________________________________________________________\n",
      "2024-03-11 16:09 INFO Dense_2nb_sigmoid (Dense)                                                         (None, 1)                                              1793         \n",
      "2024-03-11 16:09 INFO ======================================================================================================================================================\n",
      "2024-03-11 16:09 INFO Total params: 6,262,657\n",
      "2024-03-11 16:09 INFO Trainable params: 2,052,737\n",
      "2024-03-11 16:09 INFO Non-trainable params: 4,209,920\n",
      "2024-03-11 16:09 INFO ______________________________________________________________________________________________________________________________________________________\n"
     ]
    },
    {
     "name": "stdout",
     "output_type": "stream",
     "text": [
      "Epoch 1/1600\n",
      "71/71 [==============================] - ETA: 0s - loss: 8.4984 - accuracy: 0.5070"
     ]
    },
    {
     "name": "stderr",
     "output_type": "stream",
     "text": [
      "2024-03-11 16:10 INFO End of Epoch 1 - Loss: 8.4984\n"
     ]
    },
    {
     "name": "stdout",
     "output_type": "stream",
     "text": [
      "71/71 [==============================] - 20s 287ms/step - loss: 8.4984 - accuracy: 0.5070\n",
      "Epoch 2/1600\n",
      "71/71 [==============================] - ETA: 0s - loss: 2.7854 - accuracy: 0.5772"
     ]
    },
    {
     "name": "stderr",
     "output_type": "stream",
     "text": [
      "2024-03-11 16:10 INFO End of Epoch 2 - Loss: 2.7854\n"
     ]
    },
    {
     "name": "stdout",
     "output_type": "stream",
     "text": [
      "71/71 [==============================] - 20s 280ms/step - loss: 2.7854 - accuracy: 0.5772\n",
      "Epoch 3/1600\n",
      "71/71 [==============================] - ETA: 0s - loss: 1.9657 - accuracy: 0.5524"
     ]
    },
    {
     "name": "stderr",
     "output_type": "stream",
     "text": [
      "2024-03-11 16:11 INFO End of Epoch 3 - Loss: 1.9657\n"
     ]
    },
    {
     "name": "stdout",
     "output_type": "stream",
     "text": [
      "71/71 [==============================] - 20s 283ms/step - loss: 1.9657 - accuracy: 0.5524\n",
      "Epoch 4/1600\n",
      "71/71 [==============================] - ETA: 0s - loss: 2.5969 - accuracy: 0.5862"
     ]
    },
    {
     "name": "stderr",
     "output_type": "stream",
     "text": [
      "2024-03-11 16:11 INFO End of Epoch 4 - Loss: 2.5969\n"
     ]
    },
    {
     "name": "stdout",
     "output_type": "stream",
     "text": [
      "71/71 [==============================] - 20s 283ms/step - loss: 2.5969 - accuracy: 0.5862\n",
      "Epoch 5/1600\n",
      "71/71 [==============================] - ETA: 0s - loss: 9.2575 - accuracy: 0.5910"
     ]
    },
    {
     "name": "stderr",
     "output_type": "stream",
     "text": [
      "2024-03-11 16:11 INFO End of Epoch 5 - Loss: 9.2575\n"
     ]
    },
    {
     "name": "stdout",
     "output_type": "stream",
     "text": [
      "71/71 [==============================] - 20s 282ms/step - loss: 9.2575 - accuracy: 0.5910\n",
      "Epoch 6/1600\n",
      "71/71 [==============================] - ETA: 0s - loss: 8.8293 - accuracy: 0.5457"
     ]
    },
    {
     "name": "stderr",
     "output_type": "stream",
     "text": [
      "2024-03-11 16:12 INFO End of Epoch 6 - Loss: 8.8293\n"
     ]
    },
    {
     "name": "stdout",
     "output_type": "stream",
     "text": [
      "71/71 [==============================] - 20s 283ms/step - loss: 8.8293 - accuracy: 0.5457\n",
      "Epoch 7/1600\n",
      "71/71 [==============================] - ETA: 0s - loss: 6.1966 - accuracy: 0.5443"
     ]
    },
    {
     "name": "stderr",
     "output_type": "stream",
     "text": [
      "2024-03-11 16:12 INFO End of Epoch 7 - Loss: 6.1966\n"
     ]
    },
    {
     "name": "stdout",
     "output_type": "stream",
     "text": [
      "71/71 [==============================] - 20s 284ms/step - loss: 6.1966 - accuracy: 0.5443\n",
      "Epoch 8/1600\n",
      "71/71 [==============================] - ETA: 0s - loss: 4.4895 - accuracy: 0.5591"
     ]
    },
    {
     "name": "stderr",
     "output_type": "stream",
     "text": [
      "2024-03-11 16:13 INFO End of Epoch 8 - Loss: 4.4895\n"
     ]
    },
    {
     "name": "stdout",
     "output_type": "stream",
     "text": [
      "71/71 [==============================] - 20s 285ms/step - loss: 4.4895 - accuracy: 0.5591\n",
      "Epoch 9/1600\n",
      "71/71 [==============================] - ETA: 0s - loss: 4.1156 - accuracy: 0.5481"
     ]
    },
    {
     "name": "stderr",
     "output_type": "stream",
     "text": [
      "2024-03-11 16:13 INFO End of Epoch 9 - Loss: 4.1156\n"
     ]
    },
    {
     "name": "stdout",
     "output_type": "stream",
     "text": [
      "71/71 [==============================] - 20s 284ms/step - loss: 4.1156 - accuracy: 0.5481\n",
      "Epoch 10/1600\n",
      "71/71 [==============================] - ETA: 0s - loss: 2.9119 - accuracy: 0.5503"
     ]
    },
    {
     "name": "stderr",
     "output_type": "stream",
     "text": [
      "2024-03-11 16:14 INFO End of Epoch 10 - Loss: 2.9119\n"
     ]
    },
    {
     "name": "stdout",
     "output_type": "stream",
     "text": [
      "71/71 [==============================] - 20s 285ms/step - loss: 2.9119 - accuracy: 0.5503\n",
      "Epoch 11/1600\n",
      "71/71 [==============================] - ETA: 0s - loss: 3.5077 - accuracy: 0.5618"
     ]
    },
    {
     "name": "stderr",
     "output_type": "stream",
     "text": [
      "2024-03-11 16:14 INFO End of Epoch 11 - Loss: 3.5077\n"
     ]
    },
    {
     "name": "stdout",
     "output_type": "stream",
     "text": [
      "71/71 [==============================] - 20s 285ms/step - loss: 3.5077 - accuracy: 0.5618\n",
      "Epoch 12/1600\n",
      "71/71 [==============================] - ETA: 0s - loss: 4.0505 - accuracy: 0.5618"
     ]
    },
    {
     "name": "stderr",
     "output_type": "stream",
     "text": [
      "2024-03-11 16:14 INFO End of Epoch 12 - Loss: 4.0505\n"
     ]
    },
    {
     "name": "stdout",
     "output_type": "stream",
     "text": [
      "71/71 [==============================] - 20s 288ms/step - loss: 4.0505 - accuracy: 0.5618\n",
      "Epoch 13/1600\n",
      "71/71 [==============================] - ETA: 0s - loss: 3.9172 - accuracy: 0.5599"
     ]
    },
    {
     "name": "stderr",
     "output_type": "stream",
     "text": [
      "2024-03-11 16:15 INFO End of Epoch 13 - Loss: 3.9172\n"
     ]
    },
    {
     "name": "stdout",
     "output_type": "stream",
     "text": [
      "71/71 [==============================] - 20s 287ms/step - loss: 3.9172 - accuracy: 0.5599\n",
      "Epoch 14/1600\n",
      "71/71 [==============================] - ETA: 0s - loss: 5.3983 - accuracy: 0.5706"
     ]
    },
    {
     "name": "stderr",
     "output_type": "stream",
     "text": [
      "2024-03-11 16:15 INFO End of Epoch 14 - Loss: 5.3983\n"
     ]
    },
    {
     "name": "stdout",
     "output_type": "stream",
     "text": [
      "71/71 [==============================] - 20s 286ms/step - loss: 5.3983 - accuracy: 0.5706\n",
      "Epoch 15/1600\n",
      "71/71 [==============================] - ETA: 0s - loss: 9.0042 - accuracy: 0.5660"
     ]
    },
    {
     "name": "stderr",
     "output_type": "stream",
     "text": [
      "2024-03-11 16:16 INFO End of Epoch 15 - Loss: 9.0042\n"
     ]
    },
    {
     "name": "stdout",
     "output_type": "stream",
     "text": [
      "71/71 [==============================] - 20s 288ms/step - loss: 9.0042 - accuracy: 0.5660\n",
      "Epoch 16/1600\n",
      "71/71 [==============================] - ETA: 0s - loss: 10.1660 - accuracy: 0.5547"
     ]
    },
    {
     "name": "stderr",
     "output_type": "stream",
     "text": [
      "2024-03-11 16:16 INFO End of Epoch 16 - Loss: 10.1660\n"
     ]
    },
    {
     "name": "stdout",
     "output_type": "stream",
     "text": [
      "71/71 [==============================] - 21s 290ms/step - loss: 10.1660 - accuracy: 0.5547\n",
      "Epoch 17/1600\n",
      "71/71 [==============================] - ETA: 0s - loss: 6.5970 - accuracy: 0.5525"
     ]
    },
    {
     "name": "stderr",
     "output_type": "stream",
     "text": [
      "2024-03-11 16:17 INFO End of Epoch 17 - Loss: 6.5970\n"
     ]
    },
    {
     "name": "stdout",
     "output_type": "stream",
     "text": [
      "71/71 [==============================] - 20s 288ms/step - loss: 6.5970 - accuracy: 0.5525\n",
      "Epoch 18/1600\n",
      "71/71 [==============================] - ETA: 0s - loss: 3.6959 - accuracy: 0.5500"
     ]
    },
    {
     "name": "stderr",
     "output_type": "stream",
     "text": [
      "2024-03-11 16:17 INFO End of Epoch 18 - Loss: 3.6959\n"
     ]
    },
    {
     "name": "stdout",
     "output_type": "stream",
     "text": [
      "71/71 [==============================] - 21s 289ms/step - loss: 3.6959 - accuracy: 0.5500\n",
      "Epoch 19/1600\n",
      "71/71 [==============================] - ETA: 0s - loss: 3.6499 - accuracy: 0.5724"
     ]
    },
    {
     "name": "stderr",
     "output_type": "stream",
     "text": [
      "2024-03-11 16:18 INFO End of Epoch 19 - Loss: 3.6499\n"
     ]
    },
    {
     "name": "stdout",
     "output_type": "stream",
     "text": [
      "71/71 [==============================] - 20s 288ms/step - loss: 3.6499 - accuracy: 0.5724\n",
      "Epoch 20/1600\n",
      "71/71 [==============================] - ETA: 0s - loss: 3.0945 - accuracy: 0.5476"
     ]
    },
    {
     "name": "stderr",
     "output_type": "stream",
     "text": [
      "2024-03-11 16:18 INFO End of Epoch 20 - Loss: 3.0945\n"
     ]
    },
    {
     "name": "stdout",
     "output_type": "stream",
     "text": [
      "71/71 [==============================] - 21s 291ms/step - loss: 3.0945 - accuracy: 0.5476\n",
      "Epoch 21/1600\n",
      "71/71 [==============================] - ETA: 0s - loss: 4.7672 - accuracy: 0.5633"
     ]
    },
    {
     "name": "stderr",
     "output_type": "stream",
     "text": [
      "2024-03-11 16:18 INFO End of Epoch 21 - Loss: 4.7672\n"
     ]
    },
    {
     "name": "stdout",
     "output_type": "stream",
     "text": [
      "71/71 [==============================] - 21s 289ms/step - loss: 4.7672 - accuracy: 0.5633\n",
      "Epoch 22/1600\n",
      "71/71 [==============================] - ETA: 0s - loss: 3.7010 - accuracy: 0.5565"
     ]
    },
    {
     "name": "stderr",
     "output_type": "stream",
     "text": [
      "2024-03-11 16:19 INFO End of Epoch 22 - Loss: 3.7010\n"
     ]
    },
    {
     "name": "stdout",
     "output_type": "stream",
     "text": [
      "71/71 [==============================] - 20s 288ms/step - loss: 3.7010 - accuracy: 0.5565\n",
      "Epoch 23/1600\n",
      "71/71 [==============================] - ETA: 0s - loss: 3.8430 - accuracy: 0.5754"
     ]
    },
    {
     "name": "stderr",
     "output_type": "stream",
     "text": [
      "2024-03-11 16:19 INFO End of Epoch 23 - Loss: 3.8430\n"
     ]
    },
    {
     "name": "stdout",
     "output_type": "stream",
     "text": [
      "71/71 [==============================] - 20s 288ms/step - loss: 3.8430 - accuracy: 0.5754\n",
      "Epoch 24/1600\n",
      "71/71 [==============================] - ETA: 0s - loss: 4.0952 - accuracy: 0.5653"
     ]
    },
    {
     "name": "stderr",
     "output_type": "stream",
     "text": [
      "2024-03-11 16:20 INFO End of Epoch 24 - Loss: 4.0952\n"
     ]
    },
    {
     "name": "stdout",
     "output_type": "stream",
     "text": [
      "71/71 [==============================] - 20s 287ms/step - loss: 4.0952 - accuracy: 0.5653\n",
      "Epoch 25/1600\n",
      "71/71 [==============================] - ETA: 0s - loss: 3.7936 - accuracy: 0.5754"
     ]
    },
    {
     "name": "stderr",
     "output_type": "stream",
     "text": [
      "2024-03-11 16:20 INFO End of Epoch 25 - Loss: 3.7936\n"
     ]
    },
    {
     "name": "stdout",
     "output_type": "stream",
     "text": [
      "71/71 [==============================] - 21s 289ms/step - loss: 3.7936 - accuracy: 0.5754\n",
      "Epoch 26/1600\n",
      "71/71 [==============================] - ETA: 0s - loss: 6.8430 - accuracy: 0.5532"
     ]
    },
    {
     "name": "stderr",
     "output_type": "stream",
     "text": [
      "2024-03-11 16:21 INFO End of Epoch 26 - Loss: 6.8430\n"
     ]
    },
    {
     "name": "stdout",
     "output_type": "stream",
     "text": [
      "71/71 [==============================] - 20s 288ms/step - loss: 6.8430 - accuracy: 0.5532\n",
      "Epoch 27/1600\n",
      "71/71 [==============================] - ETA: 0s - loss: 5.2059 - accuracy: 0.5535"
     ]
    },
    {
     "name": "stderr",
     "output_type": "stream",
     "text": [
      "2024-03-11 16:21 INFO End of Epoch 27 - Loss: 5.2059\n"
     ]
    },
    {
     "name": "stdout",
     "output_type": "stream",
     "text": [
      "71/71 [==============================] - 20s 289ms/step - loss: 5.2059 - accuracy: 0.5535\n",
      "Epoch 28/1600\n",
      "71/71 [==============================] - ETA: 0s - loss: 4.3818 - accuracy: 0.5544"
     ]
    },
    {
     "name": "stderr",
     "output_type": "stream",
     "text": [
      "2024-03-11 16:22 INFO End of Epoch 28 - Loss: 4.3818\n"
     ]
    },
    {
     "name": "stdout",
     "output_type": "stream",
     "text": [
      "71/71 [==============================] - 20s 288ms/step - loss: 4.3818 - accuracy: 0.5544\n",
      "Epoch 29/1600\n",
      "71/71 [==============================] - ETA: 0s - loss: 3.9039 - accuracy: 0.5693"
     ]
    },
    {
     "name": "stderr",
     "output_type": "stream",
     "text": [
      "2024-03-11 16:22 INFO End of Epoch 29 - Loss: 3.9039\n"
     ]
    },
    {
     "name": "stdout",
     "output_type": "stream",
     "text": [
      "71/71 [==============================] - 20s 289ms/step - loss: 3.9039 - accuracy: 0.5693\n",
      "Epoch 30/1600\n",
      "71/71 [==============================] - ETA: 0s - loss: 4.5544 - accuracy: 0.5650"
     ]
    },
    {
     "name": "stderr",
     "output_type": "stream",
     "text": [
      "2024-03-11 16:22 INFO End of Epoch 30 - Loss: 4.5544\n"
     ]
    },
    {
     "name": "stdout",
     "output_type": "stream",
     "text": [
      "71/71 [==============================] - 21s 293ms/step - loss: 4.5544 - accuracy: 0.5650\n",
      "Epoch 31/1600\n",
      "71/71 [==============================] - ETA: 0s - loss: 4.0774 - accuracy: 0.5625"
     ]
    },
    {
     "name": "stderr",
     "output_type": "stream",
     "text": [
      "2024-03-11 16:23 INFO End of Epoch 31 - Loss: 4.0774\n"
     ]
    },
    {
     "name": "stdout",
     "output_type": "stream",
     "text": [
      "71/71 [==============================] - 21s 289ms/step - loss: 4.0774 - accuracy: 0.5625\n",
      "Epoch 32/1600\n",
      "71/71 [==============================] - ETA: 0s - loss: 7.4958 - accuracy: 0.5564"
     ]
    },
    {
     "name": "stderr",
     "output_type": "stream",
     "text": [
      "2024-03-11 16:23 INFO End of Epoch 32 - Loss: 7.4958\n"
     ]
    },
    {
     "name": "stdout",
     "output_type": "stream",
     "text": [
      "71/71 [==============================] - 21s 289ms/step - loss: 7.4958 - accuracy: 0.5564\n",
      "Epoch 33/1600\n",
      "71/71 [==============================] - ETA: 0s - loss: 7.8411 - accuracy: 0.5559"
     ]
    },
    {
     "name": "stderr",
     "output_type": "stream",
     "text": [
      "2024-03-11 16:24 INFO End of Epoch 33 - Loss: 7.8411\n"
     ]
    },
    {
     "name": "stdout",
     "output_type": "stream",
     "text": [
      "71/71 [==============================] - 20s 287ms/step - loss: 7.8411 - accuracy: 0.5559\n",
      "Epoch 34/1600\n",
      "71/71 [==============================] - ETA: 0s - loss: 9.2279 - accuracy: 0.5503"
     ]
    },
    {
     "name": "stderr",
     "output_type": "stream",
     "text": [
      "2024-03-11 16:24 INFO End of Epoch 34 - Loss: 9.2279\n"
     ]
    },
    {
     "name": "stdout",
     "output_type": "stream",
     "text": [
      "71/71 [==============================] - 21s 290ms/step - loss: 9.2279 - accuracy: 0.5503\n",
      "Epoch 35/1600\n",
      "71/71 [==============================] - ETA: 0s - loss: 9.7215 - accuracy: 0.5647"
     ]
    },
    {
     "name": "stderr",
     "output_type": "stream",
     "text": [
      "2024-03-11 16:25 INFO End of Epoch 35 - Loss: 9.7215\n"
     ]
    },
    {
     "name": "stdout",
     "output_type": "stream",
     "text": [
      "71/71 [==============================] - 21s 290ms/step - loss: 9.7215 - accuracy: 0.5647\n",
      "Epoch 36/1600\n",
      "71/71 [==============================] - ETA: 0s - loss: 6.3718 - accuracy: 0.5471"
     ]
    },
    {
     "name": "stderr",
     "output_type": "stream",
     "text": [
      "2024-03-11 16:25 INFO End of Epoch 36 - Loss: 6.3718\n"
     ]
    },
    {
     "name": "stdout",
     "output_type": "stream",
     "text": [
      "71/71 [==============================] - 21s 291ms/step - loss: 6.3718 - accuracy: 0.5471\n",
      "Epoch 37/1600\n",
      "71/71 [==============================] - ETA: 0s - loss: 2.9729 - accuracy: 0.5752"
     ]
    },
    {
     "name": "stderr",
     "output_type": "stream",
     "text": [
      "2024-03-11 16:25 INFO End of Epoch 37 - Loss: 2.9729\n"
     ]
    },
    {
     "name": "stdout",
     "output_type": "stream",
     "text": [
      "71/71 [==============================] - 21s 289ms/step - loss: 2.9729 - accuracy: 0.5752\n",
      "Epoch 38/1600\n",
      "71/71 [==============================] - ETA: 0s - loss: 2.0176 - accuracy: 0.5629"
     ]
    },
    {
     "name": "stderr",
     "output_type": "stream",
     "text": [
      "2024-03-11 16:26 INFO End of Epoch 38 - Loss: 2.0176\n"
     ]
    },
    {
     "name": "stdout",
     "output_type": "stream",
     "text": [
      "71/71 [==============================] - 21s 289ms/step - loss: 2.0176 - accuracy: 0.5629\n",
      "Epoch 39/1600\n",
      "71/71 [==============================] - ETA: 0s - loss: 1.4197 - accuracy: 0.5745"
     ]
    },
    {
     "name": "stderr",
     "output_type": "stream",
     "text": [
      "2024-03-11 16:26 INFO End of Epoch 39 - Loss: 1.4197\n"
     ]
    },
    {
     "name": "stdout",
     "output_type": "stream",
     "text": [
      "71/71 [==============================] - 21s 291ms/step - loss: 1.4197 - accuracy: 0.5745\n",
      "Epoch 40/1600\n",
      "71/71 [==============================] - ETA: 0s - loss: 1.2608 - accuracy: 0.5856"
     ]
    },
    {
     "name": "stderr",
     "output_type": "stream",
     "text": [
      "2024-03-11 16:27 INFO End of Epoch 40 - Loss: 1.2608\n"
     ]
    },
    {
     "name": "stdout",
     "output_type": "stream",
     "text": [
      "71/71 [==============================] - 20s 288ms/step - loss: 1.2608 - accuracy: 0.5856\n",
      "Epoch 41/1600\n",
      "71/71 [==============================] - ETA: 0s - loss: 1.1706 - accuracy: 0.5833"
     ]
    },
    {
     "name": "stderr",
     "output_type": "stream",
     "text": [
      "2024-03-11 16:27 INFO End of Epoch 41 - Loss: 1.1706\n"
     ]
    },
    {
     "name": "stdout",
     "output_type": "stream",
     "text": [
      "71/71 [==============================] - 21s 290ms/step - loss: 1.1706 - accuracy: 0.5833\n",
      "Epoch 42/1600\n",
      "71/71 [==============================] - ETA: 0s - loss: 1.5966 - accuracy: 0.5883"
     ]
    },
    {
     "name": "stderr",
     "output_type": "stream",
     "text": [
      "2024-03-11 16:28 INFO End of Epoch 42 - Loss: 1.5966\n"
     ]
    },
    {
     "name": "stdout",
     "output_type": "stream",
     "text": [
      "71/71 [==============================] - 21s 289ms/step - loss: 1.5966 - accuracy: 0.5883\n",
      "Epoch 43/1600\n",
      "71/71 [==============================] - ETA: 0s - loss: 3.5191 - accuracy: 0.5663"
     ]
    },
    {
     "name": "stderr",
     "output_type": "stream",
     "text": [
      "2024-03-11 16:28 INFO End of Epoch 43 - Loss: 3.5191\n"
     ]
    },
    {
     "name": "stdout",
     "output_type": "stream",
     "text": [
      "71/71 [==============================] - 20s 287ms/step - loss: 3.5191 - accuracy: 0.5663\n",
      "Epoch 44/1600\n",
      "71/71 [==============================] - ETA: 0s - loss: 3.0786 - accuracy: 0.5677"
     ]
    },
    {
     "name": "stderr",
     "output_type": "stream",
     "text": [
      "2024-03-11 16:29 INFO End of Epoch 44 - Loss: 3.0786\n"
     ]
    },
    {
     "name": "stdout",
     "output_type": "stream",
     "text": [
      "71/71 [==============================] - 21s 291ms/step - loss: 3.0786 - accuracy: 0.5677\n",
      "Epoch 45/1600\n",
      "71/71 [==============================] - ETA: 0s - loss: 7.3575 - accuracy: 0.5911"
     ]
    },
    {
     "name": "stderr",
     "output_type": "stream",
     "text": [
      "2024-03-11 16:29 INFO End of Epoch 45 - Loss: 7.3575\n"
     ]
    },
    {
     "name": "stdout",
     "output_type": "stream",
     "text": [
      "71/71 [==============================] - 21s 290ms/step - loss: 7.3575 - accuracy: 0.5911\n",
      "Epoch 46/1600\n",
      "71/71 [==============================] - ETA: 0s - loss: 13.7580 - accuracy: 0.5605"
     ]
    },
    {
     "name": "stderr",
     "output_type": "stream",
     "text": [
      "2024-03-11 16:29 INFO End of Epoch 46 - Loss: 13.7580\n"
     ]
    },
    {
     "name": "stdout",
     "output_type": "stream",
     "text": [
      "71/71 [==============================] - 21s 291ms/step - loss: 13.7580 - accuracy: 0.5605\n",
      "Epoch 47/1600\n",
      "71/71 [==============================] - ETA: 0s - loss: 13.0526 - accuracy: 0.5451"
     ]
    },
    {
     "name": "stderr",
     "output_type": "stream",
     "text": [
      "2024-03-11 16:30 INFO End of Epoch 47 - Loss: 13.0526\n"
     ]
    },
    {
     "name": "stdout",
     "output_type": "stream",
     "text": [
      "71/71 [==============================] - 21s 289ms/step - loss: 13.0526 - accuracy: 0.5451\n",
      "Epoch 48/1600\n",
      "71/71 [==============================] - ETA: 0s - loss: 7.1468 - accuracy: 0.5575"
     ]
    },
    {
     "name": "stderr",
     "output_type": "stream",
     "text": [
      "2024-03-11 16:30 INFO End of Epoch 48 - Loss: 7.1468\n"
     ]
    },
    {
     "name": "stdout",
     "output_type": "stream",
     "text": [
      "71/71 [==============================] - 21s 291ms/step - loss: 7.1468 - accuracy: 0.5575\n",
      "Epoch 49/1600\n",
      "71/71 [==============================] - ETA: 0s - loss: 5.6780 - accuracy: 0.5557"
     ]
    },
    {
     "name": "stderr",
     "output_type": "stream",
     "text": [
      "2024-03-11 16:31 INFO End of Epoch 49 - Loss: 5.6780\n"
     ]
    },
    {
     "name": "stdout",
     "output_type": "stream",
     "text": [
      "71/71 [==============================] - 21s 290ms/step - loss: 5.6780 - accuracy: 0.5557\n",
      "Epoch 50/1600\n",
      "71/71 [==============================] - ETA: 0s - loss: 5.4527 - accuracy: 0.5575"
     ]
    },
    {
     "name": "stderr",
     "output_type": "stream",
     "text": [
      "2024-03-11 16:31 INFO End of Epoch 50 - Loss: 5.4527\n"
     ]
    },
    {
     "name": "stdout",
     "output_type": "stream",
     "text": [
      "71/71 [==============================] - 21s 289ms/step - loss: 5.4527 - accuracy: 0.5575\n",
      "Epoch 51/1600\n",
      "71/71 [==============================] - ETA: 0s - loss: 6.0670 - accuracy: 0.5706"
     ]
    },
    {
     "name": "stderr",
     "output_type": "stream",
     "text": [
      "2024-03-11 16:32 INFO End of Epoch 51 - Loss: 6.0670\n"
     ]
    },
    {
     "name": "stdout",
     "output_type": "stream",
     "text": [
      "71/71 [==============================] - 21s 290ms/step - loss: 6.0670 - accuracy: 0.5706\n",
      "Epoch 52/1600\n",
      "71/71 [==============================] - ETA: 0s - loss: 5.3987 - accuracy: 0.5662"
     ]
    },
    {
     "name": "stderr",
     "output_type": "stream",
     "text": [
      "2024-03-11 16:32 INFO End of Epoch 52 - Loss: 5.3987\n"
     ]
    },
    {
     "name": "stdout",
     "output_type": "stream",
     "text": [
      "71/71 [==============================] - 21s 292ms/step - loss: 5.3987 - accuracy: 0.5662\n",
      "Epoch 53/1600\n",
      "71/71 [==============================] - ETA: 0s - loss: 3.7800 - accuracy: 0.5451"
     ]
    },
    {
     "name": "stderr",
     "output_type": "stream",
     "text": [
      "2024-03-11 16:33 INFO End of Epoch 53 - Loss: 3.7800\n"
     ]
    },
    {
     "name": "stdout",
     "output_type": "stream",
     "text": [
      "71/71 [==============================] - 21s 291ms/step - loss: 3.7800 - accuracy: 0.5451\n",
      "Epoch 54/1600\n",
      "71/71 [==============================] - ETA: 0s - loss: 2.7988 - accuracy: 0.5456"
     ]
    },
    {
     "name": "stderr",
     "output_type": "stream",
     "text": [
      "2024-03-11 16:33 INFO End of Epoch 54 - Loss: 2.7988\n"
     ]
    },
    {
     "name": "stdout",
     "output_type": "stream",
     "text": [
      "71/71 [==============================] - 21s 291ms/step - loss: 2.7988 - accuracy: 0.5456\n",
      "Epoch 55/1600\n",
      "71/71 [==============================] - ETA: 0s - loss: 1.9360 - accuracy: 0.5432"
     ]
    },
    {
     "name": "stderr",
     "output_type": "stream",
     "text": [
      "2024-03-11 16:33 INFO End of Epoch 55 - Loss: 1.9360\n"
     ]
    },
    {
     "name": "stdout",
     "output_type": "stream",
     "text": [
      "71/71 [==============================] - 21s 291ms/step - loss: 1.9360 - accuracy: 0.5432\n",
      "Epoch 56/1600\n",
      "71/71 [==============================] - ETA: 0s - loss: 1.4040 - accuracy: 0.5334"
     ]
    },
    {
     "name": "stderr",
     "output_type": "stream",
     "text": [
      "2024-03-11 16:34 INFO End of Epoch 56 - Loss: 1.4040\n"
     ]
    },
    {
     "name": "stdout",
     "output_type": "stream",
     "text": [
      "71/71 [==============================] - 21s 292ms/step - loss: 1.4040 - accuracy: 0.5334\n",
      "Epoch 57/1600\n",
      "71/71 [==============================] - ETA: 0s - loss: 1.0817 - accuracy: 0.5495"
     ]
    },
    {
     "name": "stderr",
     "output_type": "stream",
     "text": [
      "2024-03-11 16:34 INFO End of Epoch 57 - Loss: 1.0817\n"
     ]
    },
    {
     "name": "stdout",
     "output_type": "stream",
     "text": [
      "71/71 [==============================] - 21s 292ms/step - loss: 1.0817 - accuracy: 0.5495\n",
      "Epoch 58/1600\n",
      "71/71 [==============================] - ETA: 0s - loss: 1.1164 - accuracy: 0.5642"
     ]
    },
    {
     "name": "stderr",
     "output_type": "stream",
     "text": [
      "2024-03-11 16:35 INFO End of Epoch 58 - Loss: 1.1164\n"
     ]
    },
    {
     "name": "stdout",
     "output_type": "stream",
     "text": [
      "71/71 [==============================] - 21s 292ms/step - loss: 1.1164 - accuracy: 0.5642\n",
      "Epoch 59/1600\n",
      "71/71 [==============================] - ETA: 0s - loss: 1.3099 - accuracy: 0.5917"
     ]
    },
    {
     "name": "stderr",
     "output_type": "stream",
     "text": [
      "2024-03-11 16:35 INFO End of Epoch 59 - Loss: 1.3099\n"
     ]
    },
    {
     "name": "stdout",
     "output_type": "stream",
     "text": [
      "71/71 [==============================] - 21s 289ms/step - loss: 1.3099 - accuracy: 0.5917\n",
      "Epoch 60/1600\n",
      "71/71 [==============================] - ETA: 0s - loss: 2.6350 - accuracy: 0.5681"
     ]
    },
    {
     "name": "stderr",
     "output_type": "stream",
     "text": [
      "2024-03-11 16:36 INFO End of Epoch 60 - Loss: 2.6350\n"
     ]
    },
    {
     "name": "stdout",
     "output_type": "stream",
     "text": [
      "71/71 [==============================] - 21s 293ms/step - loss: 2.6350 - accuracy: 0.5681\n",
      "Epoch 61/1600\n",
      "71/71 [==============================] - ETA: 0s - loss: 4.1959 - accuracy: 0.5508"
     ]
    },
    {
     "name": "stderr",
     "output_type": "stream",
     "text": [
      "2024-03-11 16:36 INFO End of Epoch 61 - Loss: 4.1959\n"
     ]
    },
    {
     "name": "stdout",
     "output_type": "stream",
     "text": [
      "71/71 [==============================] - 21s 290ms/step - loss: 4.1959 - accuracy: 0.5508\n",
      "Epoch 62/1600\n",
      "71/71 [==============================] - ETA: 0s - loss: 3.8949 - accuracy: 0.5899"
     ]
    },
    {
     "name": "stderr",
     "output_type": "stream",
     "text": [
      "2024-03-11 16:37 INFO End of Epoch 62 - Loss: 3.8949\n"
     ]
    },
    {
     "name": "stdout",
     "output_type": "stream",
     "text": [
      "71/71 [==============================] - 21s 292ms/step - loss: 3.8949 - accuracy: 0.5899\n",
      "Epoch 63/1600\n",
      "71/71 [==============================] - ETA: 0s - loss: 6.2151 - accuracy: 0.5812"
     ]
    },
    {
     "name": "stderr",
     "output_type": "stream",
     "text": [
      "2024-03-11 16:37 INFO End of Epoch 63 - Loss: 6.2151\n"
     ]
    },
    {
     "name": "stdout",
     "output_type": "stream",
     "text": [
      "71/71 [==============================] - 21s 291ms/step - loss: 6.2151 - accuracy: 0.5812\n",
      "Epoch 64/1600\n",
      "71/71 [==============================] - ETA: 0s - loss: 7.4698 - accuracy: 0.5904"
     ]
    },
    {
     "name": "stderr",
     "output_type": "stream",
     "text": [
      "2024-03-11 16:37 INFO End of Epoch 64 - Loss: 7.4698\n"
     ]
    },
    {
     "name": "stdout",
     "output_type": "stream",
     "text": [
      "71/71 [==============================] - 21s 292ms/step - loss: 7.4698 - accuracy: 0.5904\n",
      "Epoch 65/1600\n",
      "71/71 [==============================] - ETA: 0s - loss: 8.7893 - accuracy: 0.5671"
     ]
    },
    {
     "name": "stderr",
     "output_type": "stream",
     "text": [
      "2024-03-11 16:38 INFO End of Epoch 65 - Loss: 8.7893\n"
     ]
    },
    {
     "name": "stdout",
     "output_type": "stream",
     "text": [
      "71/71 [==============================] - 21s 291ms/step - loss: 8.7893 - accuracy: 0.5671\n",
      "Epoch 66/1600\n",
      "71/71 [==============================] - ETA: 0s - loss: 9.5108 - accuracy: 0.5671"
     ]
    },
    {
     "name": "stderr",
     "output_type": "stream",
     "text": [
      "2024-03-11 16:38 INFO End of Epoch 66 - Loss: 9.5108\n"
     ]
    },
    {
     "name": "stdout",
     "output_type": "stream",
     "text": [
      "71/71 [==============================] - 21s 291ms/step - loss: 9.5108 - accuracy: 0.5671\n",
      "Epoch 67/1600\n",
      "71/71 [==============================] - ETA: 0s - loss: 7.3909 - accuracy: 0.5733"
     ]
    },
    {
     "name": "stderr",
     "output_type": "stream",
     "text": [
      "2024-03-11 16:39 INFO End of Epoch 67 - Loss: 7.3909\n"
     ]
    },
    {
     "name": "stdout",
     "output_type": "stream",
     "text": [
      "71/71 [==============================] - 21s 291ms/step - loss: 7.3909 - accuracy: 0.5733\n",
      "Epoch 68/1600\n",
      "71/71 [==============================] - ETA: 0s - loss: 7.0226 - accuracy: 0.5734"
     ]
    },
    {
     "name": "stderr",
     "output_type": "stream",
     "text": [
      "2024-03-11 16:39 INFO End of Epoch 68 - Loss: 7.0226\n"
     ]
    },
    {
     "name": "stdout",
     "output_type": "stream",
     "text": [
      "71/71 [==============================] - 21s 292ms/step - loss: 7.0226 - accuracy: 0.5734\n",
      "Epoch 69/1600\n",
      "71/71 [==============================] - ETA: 0s - loss: 6.1243 - accuracy: 0.5620"
     ]
    },
    {
     "name": "stderr",
     "output_type": "stream",
     "text": [
      "2024-03-11 16:40 INFO End of Epoch 69 - Loss: 6.1243\n"
     ]
    },
    {
     "name": "stdout",
     "output_type": "stream",
     "text": [
      "71/71 [==============================] - 21s 292ms/step - loss: 6.1243 - accuracy: 0.5620\n",
      "Epoch 70/1600\n",
      "71/71 [==============================] - ETA: 0s - loss: 5.9747 - accuracy: 0.5610"
     ]
    },
    {
     "name": "stderr",
     "output_type": "stream",
     "text": [
      "2024-03-11 16:40 INFO End of Epoch 70 - Loss: 5.9747\n"
     ]
    },
    {
     "name": "stdout",
     "output_type": "stream",
     "text": [
      "71/71 [==============================] - 21s 291ms/step - loss: 5.9747 - accuracy: 0.5610\n",
      "Epoch 71/1600\n",
      "71/71 [==============================] - ETA: 0s - loss: 4.4520 - accuracy: 0.5561"
     ]
    },
    {
     "name": "stderr",
     "output_type": "stream",
     "text": [
      "2024-03-11 16:41 INFO End of Epoch 71 - Loss: 4.4520\n"
     ]
    },
    {
     "name": "stdout",
     "output_type": "stream",
     "text": [
      "71/71 [==============================] - 21s 292ms/step - loss: 4.4520 - accuracy: 0.5561\n",
      "Epoch 72/1600\n",
      "71/71 [==============================] - ETA: 0s - loss: 3.1153 - accuracy: 0.5704"
     ]
    },
    {
     "name": "stderr",
     "output_type": "stream",
     "text": [
      "2024-03-11 16:41 INFO End of Epoch 72 - Loss: 3.1153\n"
     ]
    },
    {
     "name": "stdout",
     "output_type": "stream",
     "text": [
      "71/71 [==============================] - 21s 292ms/step - loss: 3.1153 - accuracy: 0.5704\n",
      "Epoch 73/1600\n",
      "71/71 [==============================] - ETA: 0s - loss: 3.3963 - accuracy: 0.5713"
     ]
    },
    {
     "name": "stderr",
     "output_type": "stream",
     "text": [
      "2024-03-11 16:41 INFO End of Epoch 73 - Loss: 3.3963\n"
     ]
    },
    {
     "name": "stdout",
     "output_type": "stream",
     "text": [
      "71/71 [==============================] - 21s 293ms/step - loss: 3.3963 - accuracy: 0.5713\n",
      "Epoch 74/1600\n",
      "71/71 [==============================] - ETA: 0s - loss: 3.2255 - accuracy: 0.5704"
     ]
    },
    {
     "name": "stderr",
     "output_type": "stream",
     "text": [
      "2024-03-11 16:42 INFO End of Epoch 74 - Loss: 3.2255\n"
     ]
    },
    {
     "name": "stdout",
     "output_type": "stream",
     "text": [
      "71/71 [==============================] - 21s 291ms/step - loss: 3.2255 - accuracy: 0.5704\n",
      "Epoch 75/1600\n",
      "71/71 [==============================] - ETA: 0s - loss: 2.8934 - accuracy: 0.5821"
     ]
    },
    {
     "name": "stderr",
     "output_type": "stream",
     "text": [
      "2024-03-11 16:42 INFO End of Epoch 75 - Loss: 2.8934\n"
     ]
    },
    {
     "name": "stdout",
     "output_type": "stream",
     "text": [
      "71/71 [==============================] - 21s 292ms/step - loss: 2.8934 - accuracy: 0.5821\n",
      "Epoch 76/1600\n",
      "71/71 [==============================] - ETA: 0s - loss: 2.9483 - accuracy: 0.5813"
     ]
    },
    {
     "name": "stderr",
     "output_type": "stream",
     "text": [
      "2024-03-11 16:43 INFO End of Epoch 76 - Loss: 2.9483\n"
     ]
    },
    {
     "name": "stdout",
     "output_type": "stream",
     "text": [
      "71/71 [==============================] - 21s 292ms/step - loss: 2.9483 - accuracy: 0.5813\n",
      "Epoch 77/1600\n",
      "71/71 [==============================] - ETA: 0s - loss: 2.9480 - accuracy: 0.5734"
     ]
    },
    {
     "name": "stderr",
     "output_type": "stream",
     "text": [
      "2024-03-11 16:43 INFO End of Epoch 77 - Loss: 2.9480\n"
     ]
    },
    {
     "name": "stdout",
     "output_type": "stream",
     "text": [
      "71/71 [==============================] - 21s 293ms/step - loss: 2.9480 - accuracy: 0.5734\n",
      "Epoch 78/1600\n",
      "71/71 [==============================] - ETA: 0s - loss: 3.2543 - accuracy: 0.5806"
     ]
    },
    {
     "name": "stderr",
     "output_type": "stream",
     "text": [
      "2024-03-11 16:44 INFO End of Epoch 78 - Loss: 3.2543\n"
     ]
    },
    {
     "name": "stdout",
     "output_type": "stream",
     "text": [
      "71/71 [==============================] - 21s 292ms/step - loss: 3.2543 - accuracy: 0.5806\n",
      "Epoch 79/1600\n",
      "71/71 [==============================] - ETA: 0s - loss: 4.8335 - accuracy: 0.5838"
     ]
    },
    {
     "name": "stderr",
     "output_type": "stream",
     "text": [
      "2024-03-11 16:44 INFO End of Epoch 79 - Loss: 4.8335\n"
     ]
    },
    {
     "name": "stdout",
     "output_type": "stream",
     "text": [
      "71/71 [==============================] - 21s 292ms/step - loss: 4.8335 - accuracy: 0.5838\n",
      "Epoch 80/1600\n",
      "71/71 [==============================] - ETA: 0s - loss: 5.4248 - accuracy: 0.5835"
     ]
    },
    {
     "name": "stderr",
     "output_type": "stream",
     "text": [
      "2024-03-11 16:45 INFO End of Epoch 80 - Loss: 5.4248\n"
     ]
    },
    {
     "name": "stdout",
     "output_type": "stream",
     "text": [
      "71/71 [==============================] - 21s 292ms/step - loss: 5.4248 - accuracy: 0.5835\n",
      "Epoch 81/1600\n",
      "71/71 [==============================] - ETA: 0s - loss: 7.2901 - accuracy: 0.5700"
     ]
    },
    {
     "name": "stderr",
     "output_type": "stream",
     "text": [
      "2024-03-11 16:45 INFO End of Epoch 81 - Loss: 7.2901\n"
     ]
    },
    {
     "name": "stdout",
     "output_type": "stream",
     "text": [
      "71/71 [==============================] - 21s 292ms/step - loss: 7.2901 - accuracy: 0.5700\n",
      "Epoch 82/1600\n",
      "71/71 [==============================] - ETA: 0s - loss: 6.5817 - accuracy: 0.5745"
     ]
    },
    {
     "name": "stderr",
     "output_type": "stream",
     "text": [
      "2024-03-11 16:45 INFO End of Epoch 82 - Loss: 6.5817\n"
     ]
    },
    {
     "name": "stdout",
     "output_type": "stream",
     "text": [
      "71/71 [==============================] - 21s 292ms/step - loss: 6.5817 - accuracy: 0.5745\n",
      "Epoch 83/1600\n",
      "71/71 [==============================] - ETA: 0s - loss: 7.2987 - accuracy: 0.5718"
     ]
    },
    {
     "name": "stderr",
     "output_type": "stream",
     "text": [
      "2024-03-11 16:46 INFO End of Epoch 83 - Loss: 7.2987\n"
     ]
    },
    {
     "name": "stdout",
     "output_type": "stream",
     "text": [
      "71/71 [==============================] - 21s 291ms/step - loss: 7.2987 - accuracy: 0.5718\n",
      "Epoch 84/1600\n",
      "71/71 [==============================] - ETA: 0s - loss: 7.0828 - accuracy: 0.5612"
     ]
    },
    {
     "name": "stderr",
     "output_type": "stream",
     "text": [
      "2024-03-11 16:46 INFO End of Epoch 84 - Loss: 7.0828\n"
     ]
    },
    {
     "name": "stdout",
     "output_type": "stream",
     "text": [
      "71/71 [==============================] - 21s 292ms/step - loss: 7.0828 - accuracy: 0.5612\n",
      "Epoch 85/1600\n",
      "71/71 [==============================] - ETA: 0s - loss: 8.7182 - accuracy: 0.5689"
     ]
    },
    {
     "name": "stderr",
     "output_type": "stream",
     "text": [
      "2024-03-11 16:47 INFO End of Epoch 85 - Loss: 8.7182\n"
     ]
    },
    {
     "name": "stdout",
     "output_type": "stream",
     "text": [
      "71/71 [==============================] - 21s 293ms/step - loss: 8.7182 - accuracy: 0.5689\n",
      "Epoch 86/1600\n",
      "71/71 [==============================] - ETA: 0s - loss: 9.6796 - accuracy: 0.5639"
     ]
    },
    {
     "name": "stderr",
     "output_type": "stream",
     "text": [
      "2024-03-11 16:47 INFO End of Epoch 86 - Loss: 9.6796\n"
     ]
    },
    {
     "name": "stdout",
     "output_type": "stream",
     "text": [
      "71/71 [==============================] - 21s 292ms/step - loss: 9.6796 - accuracy: 0.5639\n",
      "Epoch 87/1600\n",
      "71/71 [==============================] - ETA: 0s - loss: 7.2322 - accuracy: 0.5579"
     ]
    },
    {
     "name": "stderr",
     "output_type": "stream",
     "text": [
      "2024-03-11 16:48 INFO End of Epoch 87 - Loss: 7.2322\n"
     ]
    },
    {
     "name": "stdout",
     "output_type": "stream",
     "text": [
      "71/71 [==============================] - 21s 291ms/step - loss: 7.2322 - accuracy: 0.5579\n",
      "Epoch 88/1600\n",
      "71/71 [==============================] - ETA: 0s - loss: 4.0975 - accuracy: 0.5754"
     ]
    },
    {
     "name": "stderr",
     "output_type": "stream",
     "text": [
      "2024-03-11 16:48 INFO End of Epoch 88 - Loss: 4.0975\n"
     ]
    },
    {
     "name": "stdout",
     "output_type": "stream",
     "text": [
      "71/71 [==============================] - 21s 292ms/step - loss: 4.0975 - accuracy: 0.5754\n",
      "Epoch 89/1600\n",
      "71/71 [==============================] - ETA: 0s - loss: 4.4525 - accuracy: 0.5698"
     ]
    },
    {
     "name": "stderr",
     "output_type": "stream",
     "text": [
      "2024-03-11 16:49 INFO End of Epoch 89 - Loss: 4.4525\n"
     ]
    },
    {
     "name": "stdout",
     "output_type": "stream",
     "text": [
      "71/71 [==============================] - 21s 293ms/step - loss: 4.4525 - accuracy: 0.5698\n",
      "Epoch 90/1600\n",
      "71/71 [==============================] - ETA: 0s - loss: 3.7885 - accuracy: 0.5514"
     ]
    },
    {
     "name": "stderr",
     "output_type": "stream",
     "text": [
      "2024-03-11 16:49 INFO End of Epoch 90 - Loss: 3.7885\n"
     ]
    },
    {
     "name": "stdout",
     "output_type": "stream",
     "text": [
      "71/71 [==============================] - 21s 292ms/step - loss: 3.7885 - accuracy: 0.5514\n",
      "Epoch 91/1600\n",
      "71/71 [==============================] - ETA: 0s - loss: 2.4496 - accuracy: 0.5642"
     ]
    },
    {
     "name": "stderr",
     "output_type": "stream",
     "text": [
      "2024-03-11 16:49 INFO End of Epoch 91 - Loss: 2.4496\n"
     ]
    },
    {
     "name": "stdout",
     "output_type": "stream",
     "text": [
      "71/71 [==============================] - 21s 293ms/step - loss: 2.4496 - accuracy: 0.5642\n",
      "Epoch 92/1600\n",
      "71/71 [==============================] - ETA: 0s - loss: 3.0973 - accuracy: 0.5683"
     ]
    },
    {
     "name": "stderr",
     "output_type": "stream",
     "text": [
      "2024-03-11 16:50 INFO End of Epoch 92 - Loss: 3.0973\n"
     ]
    },
    {
     "name": "stdout",
     "output_type": "stream",
     "text": [
      "71/71 [==============================] - 21s 290ms/step - loss: 3.0973 - accuracy: 0.5683\n",
      "Epoch 93/1600\n",
      "71/71 [==============================] - ETA: 0s - loss: 3.4354 - accuracy: 0.5640"
     ]
    },
    {
     "name": "stderr",
     "output_type": "stream",
     "text": [
      "2024-03-11 16:50 INFO End of Epoch 93 - Loss: 3.4354\n"
     ]
    },
    {
     "name": "stdout",
     "output_type": "stream",
     "text": [
      "71/71 [==============================] - 21s 292ms/step - loss: 3.4354 - accuracy: 0.5640\n",
      "Epoch 94/1600\n",
      "71/71 [==============================] - ETA: 0s - loss: 3.9089 - accuracy: 0.5808"
     ]
    },
    {
     "name": "stderr",
     "output_type": "stream",
     "text": [
      "2024-03-11 16:51 INFO End of Epoch 94 - Loss: 3.9089\n"
     ]
    },
    {
     "name": "stdout",
     "output_type": "stream",
     "text": [
      "71/71 [==============================] - 21s 292ms/step - loss: 3.9089 - accuracy: 0.5808\n",
      "Epoch 95/1600\n",
      "71/71 [==============================] - ETA: 0s - loss: 4.9825 - accuracy: 0.5595"
     ]
    },
    {
     "name": "stderr",
     "output_type": "stream",
     "text": [
      "2024-03-11 16:51 INFO End of Epoch 95 - Loss: 4.9825\n"
     ]
    },
    {
     "name": "stdout",
     "output_type": "stream",
     "text": [
      "71/71 [==============================] - 21s 292ms/step - loss: 4.9825 - accuracy: 0.5595\n",
      "Epoch 96/1600\n",
      "71/71 [==============================] - ETA: 0s - loss: 4.9278 - accuracy: 0.5681"
     ]
    },
    {
     "name": "stderr",
     "output_type": "stream",
     "text": [
      "2024-03-11 16:52 INFO End of Epoch 96 - Loss: 4.9278\n"
     ]
    },
    {
     "name": "stdout",
     "output_type": "stream",
     "text": [
      "71/71 [==============================] - 21s 293ms/step - loss: 4.9278 - accuracy: 0.5681\n",
      "Epoch 97/1600\n",
      "71/71 [==============================] - ETA: 0s - loss: 4.9778 - accuracy: 0.5694"
     ]
    },
    {
     "name": "stderr",
     "output_type": "stream",
     "text": [
      "2024-03-11 16:52 INFO End of Epoch 97 - Loss: 4.9778\n"
     ]
    },
    {
     "name": "stdout",
     "output_type": "stream",
     "text": [
      "71/71 [==============================] - 21s 292ms/step - loss: 4.9778 - accuracy: 0.5694\n",
      "Epoch 98/1600\n",
      "71/71 [==============================] - ETA: 0s - loss: 6.5990 - accuracy: 0.5645"
     ]
    },
    {
     "name": "stderr",
     "output_type": "stream",
     "text": [
      "2024-03-11 16:53 INFO End of Epoch 98 - Loss: 6.5990\n"
     ]
    },
    {
     "name": "stdout",
     "output_type": "stream",
     "text": [
      "71/71 [==============================] - 21s 290ms/step - loss: 6.5990 - accuracy: 0.5645\n",
      "Epoch 99/1600\n",
      "71/71 [==============================] - ETA: 0s - loss: 8.7500 - accuracy: 0.5657"
     ]
    },
    {
     "name": "stderr",
     "output_type": "stream",
     "text": [
      "2024-03-11 16:53 INFO End of Epoch 99 - Loss: 8.7500\n"
     ]
    },
    {
     "name": "stdout",
     "output_type": "stream",
     "text": [
      "71/71 [==============================] - 21s 292ms/step - loss: 8.7500 - accuracy: 0.5657\n",
      "Epoch 100/1600\n",
      "71/71 [==============================] - ETA: 0s - loss: 6.6514 - accuracy: 0.5527"
     ]
    },
    {
     "name": "stderr",
     "output_type": "stream",
     "text": [
      "2024-03-11 16:53 INFO End of Epoch 100 - Loss: 6.6514\n"
     ]
    },
    {
     "name": "stdout",
     "output_type": "stream",
     "text": [
      "71/71 [==============================] - 21s 292ms/step - loss: 6.6514 - accuracy: 0.5527\n",
      "Epoch 101/1600\n",
      "71/71 [==============================] - ETA: 0s - loss: 5.4496 - accuracy: 0.5654"
     ]
    },
    {
     "name": "stderr",
     "output_type": "stream",
     "text": [
      "2024-03-11 16:54 INFO End of Epoch 101 - Loss: 5.4496\n"
     ]
    },
    {
     "name": "stdout",
     "output_type": "stream",
     "text": [
      "71/71 [==============================] - 21s 291ms/step - loss: 5.4496 - accuracy: 0.5654\n",
      "Epoch 102/1600\n",
      "71/71 [==============================] - ETA: 0s - loss: 4.3445 - accuracy: 0.5619"
     ]
    },
    {
     "name": "stderr",
     "output_type": "stream",
     "text": [
      "2024-03-11 16:54 INFO End of Epoch 102 - Loss: 4.3445\n"
     ]
    },
    {
     "name": "stdout",
     "output_type": "stream",
     "text": [
      "71/71 [==============================] - 21s 292ms/step - loss: 4.3445 - accuracy: 0.5619\n",
      "Epoch 103/1600\n",
      "71/71 [==============================] - ETA: 0s - loss: 3.3701 - accuracy: 0.5825"
     ]
    },
    {
     "name": "stderr",
     "output_type": "stream",
     "text": [
      "2024-03-11 16:55 INFO End of Epoch 103 - Loss: 3.3701\n"
     ]
    },
    {
     "name": "stdout",
     "output_type": "stream",
     "text": [
      "71/71 [==============================] - 21s 293ms/step - loss: 3.3701 - accuracy: 0.5825\n",
      "Epoch 104/1600\n",
      "71/71 [==============================] - ETA: 0s - loss: 3.2623 - accuracy: 0.5744"
     ]
    },
    {
     "name": "stderr",
     "output_type": "stream",
     "text": [
      "2024-03-11 16:55 INFO End of Epoch 104 - Loss: 3.2623\n"
     ]
    },
    {
     "name": "stdout",
     "output_type": "stream",
     "text": [
      "71/71 [==============================] - 21s 291ms/step - loss: 3.2623 - accuracy: 0.5744\n",
      "Epoch 105/1600\n",
      "71/71 [==============================] - ETA: 0s - loss: 3.0601 - accuracy: 0.5714"
     ]
    },
    {
     "name": "stderr",
     "output_type": "stream",
     "text": [
      "2024-03-11 16:56 INFO End of Epoch 105 - Loss: 3.0601\n"
     ]
    },
    {
     "name": "stdout",
     "output_type": "stream",
     "text": [
      "71/71 [==============================] - 21s 293ms/step - loss: 3.0601 - accuracy: 0.5714\n",
      "Epoch 106/1600\n",
      "71/71 [==============================] - ETA: 0s - loss: 2.5806 - accuracy: 0.5984"
     ]
    },
    {
     "name": "stderr",
     "output_type": "stream",
     "text": [
      "2024-03-11 16:56 INFO End of Epoch 106 - Loss: 2.5806\n"
     ]
    },
    {
     "name": "stdout",
     "output_type": "stream",
     "text": [
      "71/71 [==============================] - 21s 293ms/step - loss: 2.5806 - accuracy: 0.5984\n",
      "Epoch 107/1600\n",
      "71/71 [==============================] - ETA: 0s - loss: 2.9402 - accuracy: 0.5886"
     ]
    },
    {
     "name": "stderr",
     "output_type": "stream",
     "text": [
      "2024-03-11 16:57 INFO End of Epoch 107 - Loss: 2.9402\n"
     ]
    },
    {
     "name": "stdout",
     "output_type": "stream",
     "text": [
      "71/71 [==============================] - 21s 291ms/step - loss: 2.9402 - accuracy: 0.5886\n",
      "Epoch 108/1600\n",
      "71/71 [==============================] - ETA: 0s - loss: 3.3661 - accuracy: 0.5772"
     ]
    },
    {
     "name": "stderr",
     "output_type": "stream",
     "text": [
      "2024-03-11 16:57 INFO End of Epoch 108 - Loss: 3.3661\n"
     ]
    },
    {
     "name": "stdout",
     "output_type": "stream",
     "text": [
      "71/71 [==============================] - 21s 294ms/step - loss: 3.3661 - accuracy: 0.5772\n",
      "Epoch 109/1600\n",
      "71/71 [==============================] - ETA: 0s - loss: 2.5392 - accuracy: 0.5758"
     ]
    },
    {
     "name": "stderr",
     "output_type": "stream",
     "text": [
      "2024-03-11 16:57 INFO End of Epoch 109 - Loss: 2.5392\n"
     ]
    },
    {
     "name": "stdout",
     "output_type": "stream",
     "text": [
      "71/71 [==============================] - 21s 290ms/step - loss: 2.5392 - accuracy: 0.5758\n",
      "Epoch 110/1600\n",
      "71/71 [==============================] - ETA: 0s - loss: 2.0366 - accuracy: 0.5823"
     ]
    },
    {
     "name": "stderr",
     "output_type": "stream",
     "text": [
      "2024-03-11 16:58 INFO End of Epoch 110 - Loss: 2.0366\n"
     ]
    },
    {
     "name": "stdout",
     "output_type": "stream",
     "text": [
      "71/71 [==============================] - 21s 292ms/step - loss: 2.0366 - accuracy: 0.5823\n",
      "Epoch 111/1600\n",
      "71/71 [==============================] - ETA: 0s - loss: 2.7466 - accuracy: 0.5896"
     ]
    },
    {
     "name": "stderr",
     "output_type": "stream",
     "text": [
      "2024-03-11 16:58 INFO End of Epoch 111 - Loss: 2.7466\n"
     ]
    },
    {
     "name": "stdout",
     "output_type": "stream",
     "text": [
      "71/71 [==============================] - 21s 292ms/step - loss: 2.7466 - accuracy: 0.5896\n",
      "Epoch 112/1600\n",
      "71/71 [==============================] - ETA: 0s - loss: 4.8889 - accuracy: 0.5877"
     ]
    },
    {
     "name": "stderr",
     "output_type": "stream",
     "text": [
      "2024-03-11 16:59 INFO End of Epoch 112 - Loss: 4.8889\n"
     ]
    },
    {
     "name": "stdout",
     "output_type": "stream",
     "text": [
      "71/71 [==============================] - 21s 292ms/step - loss: 4.8889 - accuracy: 0.5877\n",
      "Epoch 113/1600\n",
      "71/71 [==============================] - ETA: 0s - loss: 9.1785 - accuracy: 0.5811"
     ]
    },
    {
     "name": "stderr",
     "output_type": "stream",
     "text": [
      "2024-03-11 16:59 INFO End of Epoch 113 - Loss: 9.1785\n"
     ]
    },
    {
     "name": "stdout",
     "output_type": "stream",
     "text": [
      "71/71 [==============================] - 21s 293ms/step - loss: 9.1785 - accuracy: 0.5811\n",
      "Epoch 114/1600\n",
      "71/71 [==============================] - ETA: 0s - loss: 8.7510 - accuracy: 0.5697"
     ]
    },
    {
     "name": "stderr",
     "output_type": "stream",
     "text": [
      "2024-03-11 17:00 INFO End of Epoch 114 - Loss: 8.7510\n"
     ]
    },
    {
     "name": "stdout",
     "output_type": "stream",
     "text": [
      "71/71 [==============================] - 21s 291ms/step - loss: 8.7510 - accuracy: 0.5697\n",
      "Epoch 115/1600\n",
      "71/71 [==============================] - ETA: 0s - loss: 9.9784 - accuracy: 0.5764"
     ]
    },
    {
     "name": "stderr",
     "output_type": "stream",
     "text": [
      "2024-03-11 17:00 INFO End of Epoch 115 - Loss: 9.9784\n"
     ]
    },
    {
     "name": "stdout",
     "output_type": "stream",
     "text": [
      "71/71 [==============================] - 21s 293ms/step - loss: 9.9784 - accuracy: 0.5764\n",
      "Epoch 116/1600\n",
      "71/71 [==============================] - ETA: 0s - loss: 9.4191 - accuracy: 0.5647"
     ]
    },
    {
     "name": "stderr",
     "output_type": "stream",
     "text": [
      "2024-03-11 17:01 INFO End of Epoch 116 - Loss: 9.4191\n"
     ]
    },
    {
     "name": "stdout",
     "output_type": "stream",
     "text": [
      "71/71 [==============================] - 21s 291ms/step - loss: 9.4191 - accuracy: 0.5647\n",
      "Epoch 117/1600\n",
      "71/71 [==============================] - ETA: 0s - loss: 12.0769 - accuracy: 0.5751"
     ]
    },
    {
     "name": "stderr",
     "output_type": "stream",
     "text": [
      "2024-03-11 17:01 INFO End of Epoch 117 - Loss: 12.0769\n"
     ]
    },
    {
     "name": "stdout",
     "output_type": "stream",
     "text": [
      "71/71 [==============================] - 21s 292ms/step - loss: 12.0769 - accuracy: 0.5751\n",
      "Epoch 118/1600\n",
      "71/71 [==============================] - ETA: 0s - loss: 8.5846 - accuracy: 0.5559"
     ]
    },
    {
     "name": "stderr",
     "output_type": "stream",
     "text": [
      "2024-03-11 17:01 INFO End of Epoch 118 - Loss: 8.5846\n"
     ]
    },
    {
     "name": "stdout",
     "output_type": "stream",
     "text": [
      "71/71 [==============================] - 21s 292ms/step - loss: 8.5846 - accuracy: 0.5559\n",
      "Epoch 119/1600\n",
      "71/71 [==============================] - ETA: 0s - loss: 4.8392 - accuracy: 0.5508"
     ]
    },
    {
     "name": "stderr",
     "output_type": "stream",
     "text": [
      "2024-03-11 17:02 INFO End of Epoch 119 - Loss: 4.8392\n"
     ]
    },
    {
     "name": "stdout",
     "output_type": "stream",
     "text": [
      "71/71 [==============================] - 21s 292ms/step - loss: 4.8392 - accuracy: 0.5508\n",
      "Epoch 120/1600\n",
      "71/71 [==============================] - ETA: 0s - loss: 3.2750 - accuracy: 0.5478"
     ]
    },
    {
     "name": "stderr",
     "output_type": "stream",
     "text": [
      "2024-03-11 17:02 INFO End of Epoch 120 - Loss: 3.2750\n"
     ]
    },
    {
     "name": "stdout",
     "output_type": "stream",
     "text": [
      "71/71 [==============================] - 21s 292ms/step - loss: 3.2750 - accuracy: 0.5478\n",
      "Epoch 121/1600\n",
      "71/71 [==============================] - ETA: 0s - loss: 3.0070 - accuracy: 0.5593"
     ]
    },
    {
     "name": "stderr",
     "output_type": "stream",
     "text": [
      "2024-03-11 17:03 INFO End of Epoch 121 - Loss: 3.0070\n"
     ]
    },
    {
     "name": "stdout",
     "output_type": "stream",
     "text": [
      "71/71 [==============================] - 20s 288ms/step - loss: 3.0070 - accuracy: 0.5593\n",
      "Epoch 122/1600\n",
      "71/71 [==============================] - ETA: 0s - loss: 5.1091 - accuracy: 0.5592"
     ]
    },
    {
     "name": "stderr",
     "output_type": "stream",
     "text": [
      "2024-03-11 17:03 INFO End of Epoch 122 - Loss: 5.1091\n"
     ]
    },
    {
     "name": "stdout",
     "output_type": "stream",
     "text": [
      "71/71 [==============================] - 21s 292ms/step - loss: 5.1091 - accuracy: 0.5592\n",
      "Epoch 123/1600\n",
      "71/71 [==============================] - ETA: 0s - loss: 7.7786 - accuracy: 0.5566"
     ]
    },
    {
     "name": "stderr",
     "output_type": "stream",
     "text": [
      "2024-03-11 17:04 INFO End of Epoch 123 - Loss: 7.7786\n"
     ]
    },
    {
     "name": "stdout",
     "output_type": "stream",
     "text": [
      "71/71 [==============================] - 21s 290ms/step - loss: 7.7786 - accuracy: 0.5566\n",
      "Epoch 124/1600\n",
      "71/71 [==============================] - ETA: 0s - loss: 4.9445 - accuracy: 0.5403"
     ]
    },
    {
     "name": "stderr",
     "output_type": "stream",
     "text": [
      "2024-03-11 17:04 INFO End of Epoch 124 - Loss: 4.9445\n"
     ]
    },
    {
     "name": "stdout",
     "output_type": "stream",
     "text": [
      "71/71 [==============================] - 21s 289ms/step - loss: 4.9445 - accuracy: 0.5403\n",
      "Epoch 125/1600\n",
      "71/71 [==============================] - ETA: 0s - loss: 5.8339 - accuracy: 0.5575"
     ]
    },
    {
     "name": "stderr",
     "output_type": "stream",
     "text": [
      "2024-03-11 17:05 INFO End of Epoch 125 - Loss: 5.8339\n"
     ]
    },
    {
     "name": "stdout",
     "output_type": "stream",
     "text": [
      "71/71 [==============================] - 20s 287ms/step - loss: 5.8339 - accuracy: 0.5575\n",
      "Epoch 126/1600\n",
      "71/71 [==============================] - ETA: 0s - loss: 5.5603 - accuracy: 0.5447"
     ]
    },
    {
     "name": "stderr",
     "output_type": "stream",
     "text": [
      "2024-03-11 17:05 INFO End of Epoch 126 - Loss: 5.5603\n"
     ]
    },
    {
     "name": "stdout",
     "output_type": "stream",
     "text": [
      "71/71 [==============================] - 21s 292ms/step - loss: 5.5603 - accuracy: 0.5447\n",
      "Epoch 127/1600\n",
      "71/71 [==============================] - ETA: 0s - loss: 2.9863 - accuracy: 0.5437"
     ]
    },
    {
     "name": "stderr",
     "output_type": "stream",
     "text": [
      "2024-03-11 17:05 INFO End of Epoch 127 - Loss: 2.9863\n"
     ]
    },
    {
     "name": "stdout",
     "output_type": "stream",
     "text": [
      "71/71 [==============================] - 20s 289ms/step - loss: 2.9863 - accuracy: 0.5437\n",
      "Epoch 128/1600\n",
      "71/71 [==============================] - ETA: 0s - loss: 1.4073 - accuracy: 0.5640"
     ]
    },
    {
     "name": "stderr",
     "output_type": "stream",
     "text": [
      "2024-03-11 17:06 INFO End of Epoch 128 - Loss: 1.4073\n"
     ]
    },
    {
     "name": "stdout",
     "output_type": "stream",
     "text": [
      "71/71 [==============================] - 21s 291ms/step - loss: 1.4073 - accuracy: 0.5640\n",
      "Epoch 129/1600\n",
      "71/71 [==============================] - ETA: 0s - loss: 1.2324 - accuracy: 0.5748"
     ]
    },
    {
     "name": "stderr",
     "output_type": "stream",
     "text": [
      "2024-03-11 17:06 INFO End of Epoch 129 - Loss: 1.2324\n"
     ]
    },
    {
     "name": "stdout",
     "output_type": "stream",
     "text": [
      "71/71 [==============================] - 21s 292ms/step - loss: 1.2324 - accuracy: 0.5748\n",
      "Epoch 130/1600\n",
      "71/71 [==============================] - ETA: 0s - loss: 1.2654 - accuracy: 0.5852"
     ]
    },
    {
     "name": "stderr",
     "output_type": "stream",
     "text": [
      "2024-03-11 17:07 INFO End of Epoch 130 - Loss: 1.2654\n"
     ]
    },
    {
     "name": "stdout",
     "output_type": "stream",
     "text": [
      "71/71 [==============================] - 21s 290ms/step - loss: 1.2654 - accuracy: 0.5852\n",
      "Epoch 131/1600\n",
      "71/71 [==============================] - ETA: 0s - loss: 2.1459 - accuracy: 0.5762"
     ]
    },
    {
     "name": "stderr",
     "output_type": "stream",
     "text": [
      "2024-03-11 17:07 INFO End of Epoch 131 - Loss: 2.1459\n"
     ]
    },
    {
     "name": "stdout",
     "output_type": "stream",
     "text": [
      "71/71 [==============================] - 21s 293ms/step - loss: 2.1459 - accuracy: 0.5762\n",
      "Epoch 132/1600\n",
      "71/71 [==============================] - ETA: 0s - loss: 4.9685 - accuracy: 0.5696"
     ]
    },
    {
     "name": "stderr",
     "output_type": "stream",
     "text": [
      "2024-03-11 17:08 INFO End of Epoch 132 - Loss: 4.9685\n"
     ]
    },
    {
     "name": "stdout",
     "output_type": "stream",
     "text": [
      "71/71 [==============================] - 21s 290ms/step - loss: 4.9685 - accuracy: 0.5696\n",
      "Epoch 133/1600\n",
      "71/71 [==============================] - ETA: 0s - loss: 4.9525 - accuracy: 0.5917"
     ]
    },
    {
     "name": "stderr",
     "output_type": "stream",
     "text": [
      "2024-03-11 17:08 INFO End of Epoch 133 - Loss: 4.9525\n"
     ]
    },
    {
     "name": "stdout",
     "output_type": "stream",
     "text": [
      "71/71 [==============================] - 21s 292ms/step - loss: 4.9525 - accuracy: 0.5917\n",
      "Epoch 134/1600\n",
      "71/71 [==============================] - ETA: 0s - loss: 9.5615 - accuracy: 0.5909"
     ]
    },
    {
     "name": "stderr",
     "output_type": "stream",
     "text": [
      "2024-03-11 17:09 INFO End of Epoch 134 - Loss: 9.5615\n"
     ]
    },
    {
     "name": "stdout",
     "output_type": "stream",
     "text": [
      "71/71 [==============================] - 21s 291ms/step - loss: 9.5615 - accuracy: 0.5909\n",
      "Epoch 135/1600\n",
      "71/71 [==============================] - ETA: 0s - loss: 9.4106 - accuracy: 0.5757"
     ]
    },
    {
     "name": "stderr",
     "output_type": "stream",
     "text": [
      "2024-03-11 17:09 INFO End of Epoch 135 - Loss: 9.4106\n"
     ]
    },
    {
     "name": "stdout",
     "output_type": "stream",
     "text": [
      "71/71 [==============================] - 21s 292ms/step - loss: 9.4106 - accuracy: 0.5757\n",
      "Epoch 136/1600\n",
      "71/71 [==============================] - ETA: 0s - loss: 9.0250 - accuracy: 0.5716"
     ]
    },
    {
     "name": "stderr",
     "output_type": "stream",
     "text": [
      "2024-03-11 17:09 INFO End of Epoch 136 - Loss: 9.0250\n"
     ]
    },
    {
     "name": "stdout",
     "output_type": "stream",
     "text": [
      "71/71 [==============================] - 21s 292ms/step - loss: 9.0250 - accuracy: 0.5716\n",
      "Epoch 137/1600\n",
      "71/71 [==============================] - ETA: 0s - loss: 6.2115 - accuracy: 0.5544"
     ]
    },
    {
     "name": "stderr",
     "output_type": "stream",
     "text": [
      "2024-03-11 17:10 INFO End of Epoch 137 - Loss: 6.2115\n"
     ]
    },
    {
     "name": "stdout",
     "output_type": "stream",
     "text": [
      "71/71 [==============================] - 21s 293ms/step - loss: 6.2115 - accuracy: 0.5544\n",
      "Epoch 138/1600\n",
      "71/71 [==============================] - ETA: 0s - loss: 5.2512 - accuracy: 0.5760"
     ]
    },
    {
     "name": "stderr",
     "output_type": "stream",
     "text": [
      "2024-03-11 17:10 INFO End of Epoch 138 - Loss: 5.2512\n"
     ]
    },
    {
     "name": "stdout",
     "output_type": "stream",
     "text": [
      "71/71 [==============================] - 21s 292ms/step - loss: 5.2512 - accuracy: 0.5760\n",
      "Epoch 139/1600\n",
      "71/71 [==============================] - ETA: 0s - loss: 9.4387 - accuracy: 0.5537"
     ]
    },
    {
     "name": "stderr",
     "output_type": "stream",
     "text": [
      "2024-03-11 17:11 INFO End of Epoch 139 - Loss: 9.4387\n"
     ]
    },
    {
     "name": "stdout",
     "output_type": "stream",
     "text": [
      "71/71 [==============================] - 21s 292ms/step - loss: 9.4387 - accuracy: 0.5537\n",
      "Epoch 140/1600\n",
      "71/71 [==============================] - ETA: 0s - loss: 6.0205 - accuracy: 0.5696"
     ]
    },
    {
     "name": "stderr",
     "output_type": "stream",
     "text": [
      "2024-03-11 17:11 INFO End of Epoch 140 - Loss: 6.0205\n"
     ]
    },
    {
     "name": "stdout",
     "output_type": "stream",
     "text": [
      "71/71 [==============================] - 21s 292ms/step - loss: 6.0205 - accuracy: 0.5696\n",
      "Epoch 141/1600\n",
      "71/71 [==============================] - ETA: 0s - loss: 3.5094 - accuracy: 0.5660"
     ]
    },
    {
     "name": "stderr",
     "output_type": "stream",
     "text": [
      "2024-03-11 17:12 INFO End of Epoch 141 - Loss: 3.5094\n"
     ]
    },
    {
     "name": "stdout",
     "output_type": "stream",
     "text": [
      "71/71 [==============================] - 21s 292ms/step - loss: 3.5094 - accuracy: 0.5660\n",
      "Epoch 142/1600\n",
      "71/71 [==============================] - ETA: 0s - loss: 2.1551 - accuracy: 0.5802"
     ]
    },
    {
     "name": "stderr",
     "output_type": "stream",
     "text": [
      "2024-03-11 17:12 INFO End of Epoch 142 - Loss: 2.1551\n"
     ]
    },
    {
     "name": "stdout",
     "output_type": "stream",
     "text": [
      "71/71 [==============================] - 21s 293ms/step - loss: 2.1551 - accuracy: 0.5802\n",
      "Epoch 143/1600\n",
      "71/71 [==============================] - ETA: 0s - loss: 2.6565 - accuracy: 0.5670"
     ]
    },
    {
     "name": "stderr",
     "output_type": "stream",
     "text": [
      "2024-03-11 17:13 INFO End of Epoch 143 - Loss: 2.6565\n"
     ]
    },
    {
     "name": "stdout",
     "output_type": "stream",
     "text": [
      "71/71 [==============================] - 21s 293ms/step - loss: 2.6565 - accuracy: 0.5670\n",
      "Epoch 144/1600\n",
      "71/71 [==============================] - ETA: 0s - loss: 1.7730 - accuracy: 0.5737"
     ]
    },
    {
     "name": "stderr",
     "output_type": "stream",
     "text": [
      "2024-03-11 17:13 INFO End of Epoch 144 - Loss: 1.7730\n"
     ]
    },
    {
     "name": "stdout",
     "output_type": "stream",
     "text": [
      "71/71 [==============================] - 21s 292ms/step - loss: 1.7730 - accuracy: 0.5737\n",
      "Epoch 145/1600\n",
      "71/71 [==============================] - ETA: 0s - loss: 1.2879 - accuracy: 0.5792"
     ]
    },
    {
     "name": "stderr",
     "output_type": "stream",
     "text": [
      "2024-03-11 17:13 INFO End of Epoch 145 - Loss: 1.2879\n"
     ]
    },
    {
     "name": "stdout",
     "output_type": "stream",
     "text": [
      "71/71 [==============================] - 21s 292ms/step - loss: 1.2879 - accuracy: 0.5792\n",
      "Epoch 146/1600\n",
      "71/71 [==============================] - ETA: 0s - loss: 1.8141 - accuracy: 0.5850"
     ]
    },
    {
     "name": "stderr",
     "output_type": "stream",
     "text": [
      "2024-03-11 17:14 INFO End of Epoch 146 - Loss: 1.8141\n"
     ]
    },
    {
     "name": "stdout",
     "output_type": "stream",
     "text": [
      "71/71 [==============================] - 21s 293ms/step - loss: 1.8141 - accuracy: 0.5850\n",
      "Epoch 147/1600\n",
      "71/71 [==============================] - ETA: 0s - loss: 2.9374 - accuracy: 0.5777"
     ]
    },
    {
     "name": "stderr",
     "output_type": "stream",
     "text": [
      "2024-03-11 17:14 INFO End of Epoch 147 - Loss: 2.9374\n"
     ]
    },
    {
     "name": "stdout",
     "output_type": "stream",
     "text": [
      "71/71 [==============================] - 21s 293ms/step - loss: 2.9374 - accuracy: 0.5777\n",
      "Epoch 148/1600\n",
      "71/71 [==============================] - ETA: 0s - loss: 7.4008 - accuracy: 0.5708"
     ]
    },
    {
     "name": "stderr",
     "output_type": "stream",
     "text": [
      "2024-03-11 17:15 INFO End of Epoch 148 - Loss: 7.4008\n"
     ]
    },
    {
     "name": "stdout",
     "output_type": "stream",
     "text": [
      "71/71 [==============================] - 21s 292ms/step - loss: 7.4008 - accuracy: 0.5708\n",
      "Epoch 149/1600\n",
      "71/71 [==============================] - ETA: 0s - loss: 8.0070 - accuracy: 0.5742"
     ]
    },
    {
     "name": "stderr",
     "output_type": "stream",
     "text": [
      "2024-03-11 17:15 INFO End of Epoch 149 - Loss: 8.0070\n"
     ]
    },
    {
     "name": "stdout",
     "output_type": "stream",
     "text": [
      "71/71 [==============================] - 21s 292ms/step - loss: 8.0070 - accuracy: 0.5742\n",
      "Epoch 150/1600\n",
      "71/71 [==============================] - ETA: 0s - loss: 9.0204 - accuracy: 0.5650"
     ]
    },
    {
     "name": "stderr",
     "output_type": "stream",
     "text": [
      "2024-03-11 17:16 INFO End of Epoch 150 - Loss: 9.0204\n"
     ]
    },
    {
     "name": "stdout",
     "output_type": "stream",
     "text": [
      "71/71 [==============================] - 21s 292ms/step - loss: 9.0204 - accuracy: 0.5650\n",
      "Epoch 151/1600\n",
      "71/71 [==============================] - ETA: 0s - loss: 14.3968 - accuracy: 0.5591"
     ]
    },
    {
     "name": "stderr",
     "output_type": "stream",
     "text": [
      "2024-03-11 17:16 INFO End of Epoch 151 - Loss: 14.3968\n"
     ]
    },
    {
     "name": "stdout",
     "output_type": "stream",
     "text": [
      "71/71 [==============================] - 21s 293ms/step - loss: 14.3968 - accuracy: 0.5591\n",
      "Epoch 152/1600\n",
      "71/71 [==============================] - ETA: 0s - loss: 12.6117 - accuracy: 0.5355"
     ]
    },
    {
     "name": "stderr",
     "output_type": "stream",
     "text": [
      "2024-03-11 17:17 INFO End of Epoch 152 - Loss: 12.6117\n"
     ]
    },
    {
     "name": "stdout",
     "output_type": "stream",
     "text": [
      "71/71 [==============================] - 21s 292ms/step - loss: 12.6117 - accuracy: 0.5355\n",
      "Epoch 153/1600\n",
      "71/71 [==============================] - ETA: 0s - loss: 6.7685 - accuracy: 0.5646"
     ]
    },
    {
     "name": "stderr",
     "output_type": "stream",
     "text": [
      "2024-03-11 17:17 INFO End of Epoch 153 - Loss: 6.7685\n"
     ]
    },
    {
     "name": "stdout",
     "output_type": "stream",
     "text": [
      "71/71 [==============================] - 21s 292ms/step - loss: 6.7685 - accuracy: 0.5646\n",
      "Epoch 154/1600\n",
      "71/71 [==============================] - ETA: 0s - loss: 5.2691 - accuracy: 0.5476"
     ]
    },
    {
     "name": "stderr",
     "output_type": "stream",
     "text": [
      "2024-03-11 17:17 INFO End of Epoch 154 - Loss: 5.2691\n"
     ]
    },
    {
     "name": "stdout",
     "output_type": "stream",
     "text": [
      "71/71 [==============================] - 21s 293ms/step - loss: 5.2691 - accuracy: 0.5476\n",
      "Epoch 155/1600\n",
      "71/71 [==============================] - ETA: 0s - loss: 3.8411 - accuracy: 0.6001"
     ]
    },
    {
     "name": "stderr",
     "output_type": "stream",
     "text": [
      "2024-03-11 17:18 INFO End of Epoch 155 - Loss: 3.8411\n"
     ]
    },
    {
     "name": "stdout",
     "output_type": "stream",
     "text": [
      "71/71 [==============================] - 21s 292ms/step - loss: 3.8411 - accuracy: 0.6001\n",
      "Epoch 156/1600\n",
      "71/71 [==============================] - ETA: 0s - loss: 3.0960 - accuracy: 0.6073"
     ]
    },
    {
     "name": "stderr",
     "output_type": "stream",
     "text": [
      "2024-03-11 17:18 INFO End of Epoch 156 - Loss: 3.0960\n"
     ]
    },
    {
     "name": "stdout",
     "output_type": "stream",
     "text": [
      "71/71 [==============================] - 21s 292ms/step - loss: 3.0960 - accuracy: 0.6073\n",
      "Epoch 157/1600\n",
      "71/71 [==============================] - ETA: 0s - loss: 4.2084 - accuracy: 0.5664"
     ]
    },
    {
     "name": "stderr",
     "output_type": "stream",
     "text": [
      "2024-03-11 17:19 INFO End of Epoch 157 - Loss: 4.2084\n"
     ]
    },
    {
     "name": "stdout",
     "output_type": "stream",
     "text": [
      "71/71 [==============================] - 21s 290ms/step - loss: 4.2084 - accuracy: 0.5664\n",
      "Epoch 158/1600\n",
      "71/71 [==============================] - ETA: 0s - loss: 3.4608 - accuracy: 0.5627"
     ]
    },
    {
     "name": "stderr",
     "output_type": "stream",
     "text": [
      "2024-03-11 17:19 INFO End of Epoch 158 - Loss: 3.4608\n"
     ]
    },
    {
     "name": "stdout",
     "output_type": "stream",
     "text": [
      "71/71 [==============================] - 21s 293ms/step - loss: 3.4608 - accuracy: 0.5627\n",
      "Epoch 159/1600\n",
      "71/71 [==============================] - ETA: 0s - loss: 2.0884 - accuracy: 0.5849"
     ]
    },
    {
     "name": "stderr",
     "output_type": "stream",
     "text": [
      "2024-03-11 17:20 INFO End of Epoch 159 - Loss: 2.0884\n"
     ]
    },
    {
     "name": "stdout",
     "output_type": "stream",
     "text": [
      "71/71 [==============================] - 21s 292ms/step - loss: 2.0884 - accuracy: 0.5849\n",
      "Epoch 160/1600\n",
      "71/71 [==============================] - ETA: 0s - loss: 1.6626 - accuracy: 0.5755"
     ]
    },
    {
     "name": "stderr",
     "output_type": "stream",
     "text": [
      "2024-03-11 17:20 INFO End of Epoch 160 - Loss: 1.6626\n"
     ]
    },
    {
     "name": "stdout",
     "output_type": "stream",
     "text": [
      "71/71 [==============================] - 21s 292ms/step - loss: 1.6626 - accuracy: 0.5755\n",
      "Epoch 161/1600\n",
      "71/71 [==============================] - ETA: 0s - loss: 1.6287 - accuracy: 0.6001"
     ]
    },
    {
     "name": "stderr",
     "output_type": "stream",
     "text": [
      "2024-03-11 17:21 INFO End of Epoch 161 - Loss: 1.6287\n"
     ]
    },
    {
     "name": "stdout",
     "output_type": "stream",
     "text": [
      "71/71 [==============================] - 21s 292ms/step - loss: 1.6287 - accuracy: 0.6001\n",
      "Epoch 162/1600\n",
      "71/71 [==============================] - ETA: 0s - loss: 1.4915 - accuracy: 0.6339"
     ]
    },
    {
     "name": "stderr",
     "output_type": "stream",
     "text": [
      "2024-03-11 17:21 INFO End of Epoch 162 - Loss: 1.4915\n"
     ]
    },
    {
     "name": "stdout",
     "output_type": "stream",
     "text": [
      "71/71 [==============================] - 21s 292ms/step - loss: 1.4915 - accuracy: 0.6339\n",
      "Epoch 163/1600\n",
      "71/71 [==============================] - ETA: 0s - loss: 1.4964 - accuracy: 0.6019"
     ]
    },
    {
     "name": "stderr",
     "output_type": "stream",
     "text": [
      "2024-03-11 17:21 INFO End of Epoch 163 - Loss: 1.4964\n"
     ]
    },
    {
     "name": "stdout",
     "output_type": "stream",
     "text": [
      "71/71 [==============================] - 21s 293ms/step - loss: 1.4964 - accuracy: 0.6019\n",
      "Epoch 164/1600\n",
      "71/71 [==============================] - ETA: 0s - loss: 1.8058 - accuracy: 0.6112"
     ]
    },
    {
     "name": "stderr",
     "output_type": "stream",
     "text": [
      "2024-03-11 17:22 INFO End of Epoch 164 - Loss: 1.8058\n"
     ]
    },
    {
     "name": "stdout",
     "output_type": "stream",
     "text": [
      "71/71 [==============================] - 21s 292ms/step - loss: 1.8058 - accuracy: 0.6112\n",
      "Epoch 165/1600\n",
      "71/71 [==============================] - ETA: 0s - loss: 4.7656 - accuracy: 0.5965"
     ]
    },
    {
     "name": "stderr",
     "output_type": "stream",
     "text": [
      "2024-03-11 17:22 INFO End of Epoch 165 - Loss: 4.7656\n"
     ]
    },
    {
     "name": "stdout",
     "output_type": "stream",
     "text": [
      "71/71 [==============================] - 21s 296ms/step - loss: 4.7656 - accuracy: 0.5965\n",
      "Epoch 166/1600\n",
      "71/71 [==============================] - ETA: 0s - loss: 8.3491 - accuracy: 0.5928"
     ]
    },
    {
     "name": "stderr",
     "output_type": "stream",
     "text": [
      "2024-03-11 17:23 INFO End of Epoch 166 - Loss: 8.3491\n"
     ]
    },
    {
     "name": "stdout",
     "output_type": "stream",
     "text": [
      "71/71 [==============================] - 21s 292ms/step - loss: 8.3491 - accuracy: 0.5928\n",
      "Epoch 167/1600\n",
      "71/71 [==============================] - ETA: 0s - loss: 8.1788 - accuracy: 0.5714"
     ]
    },
    {
     "name": "stderr",
     "output_type": "stream",
     "text": [
      "2024-03-11 17:23 INFO End of Epoch 167 - Loss: 8.1788\n"
     ]
    },
    {
     "name": "stdout",
     "output_type": "stream",
     "text": [
      "71/71 [==============================] - 21s 293ms/step - loss: 8.1788 - accuracy: 0.5714\n",
      "Epoch 168/1600\n",
      "71/71 [==============================] - ETA: 0s - loss: 9.4215 - accuracy: 0.5700"
     ]
    },
    {
     "name": "stderr",
     "output_type": "stream",
     "text": [
      "2024-03-11 17:24 INFO End of Epoch 168 - Loss: 9.4215\n"
     ]
    },
    {
     "name": "stdout",
     "output_type": "stream",
     "text": [
      "71/71 [==============================] - 21s 293ms/step - loss: 9.4215 - accuracy: 0.5700\n",
      "Epoch 169/1600\n",
      "71/71 [==============================] - ETA: 0s - loss: 8.3877 - accuracy: 0.5796"
     ]
    },
    {
     "name": "stderr",
     "output_type": "stream",
     "text": [
      "2024-03-11 17:24 INFO End of Epoch 169 - Loss: 8.3877\n"
     ]
    },
    {
     "name": "stdout",
     "output_type": "stream",
     "text": [
      "71/71 [==============================] - 21s 293ms/step - loss: 8.3877 - accuracy: 0.5796\n",
      "Epoch 170/1600\n",
      "71/71 [==============================] - ETA: 0s - loss: 10.2186 - accuracy: 0.5779"
     ]
    },
    {
     "name": "stderr",
     "output_type": "stream",
     "text": [
      "2024-03-11 17:25 INFO End of Epoch 170 - Loss: 10.2186\n"
     ]
    },
    {
     "name": "stdout",
     "output_type": "stream",
     "text": [
      "71/71 [==============================] - 20s 289ms/step - loss: 10.2186 - accuracy: 0.5779\n",
      "Epoch 171/1600\n",
      "71/71 [==============================] - ETA: 0s - loss: 9.0371 - accuracy: 0.5512"
     ]
    },
    {
     "name": "stderr",
     "output_type": "stream",
     "text": [
      "2024-03-11 17:25 INFO End of Epoch 171 - Loss: 9.0371\n"
     ]
    },
    {
     "name": "stdout",
     "output_type": "stream",
     "text": [
      "71/71 [==============================] - 21s 292ms/step - loss: 9.0371 - accuracy: 0.5512\n",
      "Epoch 172/1600\n",
      "71/71 [==============================] - ETA: 0s - loss: 6.0502 - accuracy: 0.5808"
     ]
    },
    {
     "name": "stderr",
     "output_type": "stream",
     "text": [
      "2024-03-11 17:25 INFO End of Epoch 172 - Loss: 6.0502\n"
     ]
    },
    {
     "name": "stdout",
     "output_type": "stream",
     "text": [
      "71/71 [==============================] - 21s 292ms/step - loss: 6.0502 - accuracy: 0.5808\n",
      "Epoch 173/1600\n",
      "71/71 [==============================] - ETA: 0s - loss: 4.7910 - accuracy: 0.5836"
     ]
    },
    {
     "name": "stderr",
     "output_type": "stream",
     "text": [
      "2024-03-11 17:26 INFO End of Epoch 173 - Loss: 4.7910\n"
     ]
    },
    {
     "name": "stdout",
     "output_type": "stream",
     "text": [
      "71/71 [==============================] - 21s 293ms/step - loss: 4.7910 - accuracy: 0.5836\n",
      "Epoch 174/1600\n",
      "71/71 [==============================] - ETA: 0s - loss: 3.7609 - accuracy: 0.5860"
     ]
    },
    {
     "name": "stderr",
     "output_type": "stream",
     "text": [
      "2024-03-11 17:26 INFO End of Epoch 174 - Loss: 3.7609\n"
     ]
    },
    {
     "name": "stdout",
     "output_type": "stream",
     "text": [
      "71/71 [==============================] - 21s 292ms/step - loss: 3.7609 - accuracy: 0.5860\n",
      "Epoch 175/1600\n",
      "71/71 [==============================] - ETA: 0s - loss: 3.3886 - accuracy: 0.5650"
     ]
    },
    {
     "name": "stderr",
     "output_type": "stream",
     "text": [
      "2024-03-11 17:27 INFO End of Epoch 175 - Loss: 3.3886\n"
     ]
    },
    {
     "name": "stdout",
     "output_type": "stream",
     "text": [
      "71/71 [==============================] - 21s 292ms/step - loss: 3.3886 - accuracy: 0.5650\n",
      "Epoch 176/1600\n",
      "71/71 [==============================] - ETA: 0s - loss: 3.1483 - accuracy: 0.5515"
     ]
    },
    {
     "name": "stderr",
     "output_type": "stream",
     "text": [
      "2024-03-11 17:27 INFO End of Epoch 176 - Loss: 3.1483\n"
     ]
    },
    {
     "name": "stdout",
     "output_type": "stream",
     "text": [
      "71/71 [==============================] - 21s 290ms/step - loss: 3.1483 - accuracy: 0.5515\n",
      "Epoch 177/1600\n",
      "71/71 [==============================] - ETA: 0s - loss: 1.8622 - accuracy: 0.5894"
     ]
    },
    {
     "name": "stderr",
     "output_type": "stream",
     "text": [
      "2024-03-11 17:28 INFO End of Epoch 177 - Loss: 1.8622\n"
     ]
    },
    {
     "name": "stdout",
     "output_type": "stream",
     "text": [
      "71/71 [==============================] - 21s 293ms/step - loss: 1.8622 - accuracy: 0.5894\n",
      "Epoch 178/1600\n",
      "71/71 [==============================] - ETA: 0s - loss: 1.7752 - accuracy: 0.5622"
     ]
    },
    {
     "name": "stderr",
     "output_type": "stream",
     "text": [
      "2024-03-11 17:28 INFO End of Epoch 178 - Loss: 1.7752\n"
     ]
    },
    {
     "name": "stdout",
     "output_type": "stream",
     "text": [
      "71/71 [==============================] - 21s 291ms/step - loss: 1.7752 - accuracy: 0.5622\n",
      "Epoch 179/1600\n",
      "71/71 [==============================] - ETA: 0s - loss: 1.7419 - accuracy: 0.5596"
     ]
    },
    {
     "name": "stderr",
     "output_type": "stream",
     "text": [
      "2024-03-11 17:29 INFO End of Epoch 179 - Loss: 1.7419\n"
     ]
    },
    {
     "name": "stdout",
     "output_type": "stream",
     "text": [
      "71/71 [==============================] - 21s 295ms/step - loss: 1.7419 - accuracy: 0.5596\n",
      "Epoch 180/1600\n",
      "71/71 [==============================] - ETA: 0s - loss: 1.4270 - accuracy: 0.6062"
     ]
    },
    {
     "name": "stderr",
     "output_type": "stream",
     "text": [
      "2024-03-11 17:29 INFO End of Epoch 180 - Loss: 1.4270\n"
     ]
    },
    {
     "name": "stdout",
     "output_type": "stream",
     "text": [
      "71/71 [==============================] - 21s 292ms/step - loss: 1.4270 - accuracy: 0.6062\n",
      "Epoch 181/1600\n",
      "71/71 [==============================] - ETA: 0s - loss: 1.2809 - accuracy: 0.6014"
     ]
    },
    {
     "name": "stderr",
     "output_type": "stream",
     "text": [
      "2024-03-11 17:29 INFO End of Epoch 181 - Loss: 1.2809\n"
     ]
    },
    {
     "name": "stdout",
     "output_type": "stream",
     "text": [
      "71/71 [==============================] - 21s 292ms/step - loss: 1.2809 - accuracy: 0.6014\n",
      "Epoch 182/1600\n",
      "71/71 [==============================] - ETA: 0s - loss: 1.3431 - accuracy: 0.6122"
     ]
    },
    {
     "name": "stderr",
     "output_type": "stream",
     "text": [
      "2024-03-11 17:30 INFO End of Epoch 182 - Loss: 1.3431\n"
     ]
    },
    {
     "name": "stdout",
     "output_type": "stream",
     "text": [
      "71/71 [==============================] - 21s 292ms/step - loss: 1.3431 - accuracy: 0.6122\n",
      "Epoch 183/1600\n",
      "71/71 [==============================] - ETA: 0s - loss: 1.5550 - accuracy: 0.6113"
     ]
    },
    {
     "name": "stderr",
     "output_type": "stream",
     "text": [
      "2024-03-11 17:30 INFO End of Epoch 183 - Loss: 1.5550\n"
     ]
    },
    {
     "name": "stdout",
     "output_type": "stream",
     "text": [
      "71/71 [==============================] - 21s 293ms/step - loss: 1.5550 - accuracy: 0.6113\n",
      "Epoch 184/1600\n",
      "71/71 [==============================] - ETA: 0s - loss: 2.0155 - accuracy: 0.6156"
     ]
    },
    {
     "name": "stderr",
     "output_type": "stream",
     "text": [
      "2024-03-11 17:31 INFO End of Epoch 184 - Loss: 2.0155\n"
     ]
    },
    {
     "name": "stdout",
     "output_type": "stream",
     "text": [
      "71/71 [==============================] - 21s 293ms/step - loss: 2.0155 - accuracy: 0.6156\n",
      "Epoch 185/1600\n",
      "71/71 [==============================] - ETA: 0s - loss: 3.8318 - accuracy: 0.6076"
     ]
    },
    {
     "name": "stderr",
     "output_type": "stream",
     "text": [
      "2024-03-11 17:31 INFO End of Epoch 185 - Loss: 3.8318\n"
     ]
    },
    {
     "name": "stdout",
     "output_type": "stream",
     "text": [
      "71/71 [==============================] - 21s 293ms/step - loss: 3.8318 - accuracy: 0.6076\n",
      "Epoch 186/1600\n",
      "71/71 [==============================] - ETA: 0s - loss: 14.5143 - accuracy: 0.6099"
     ]
    },
    {
     "name": "stderr",
     "output_type": "stream",
     "text": [
      "2024-03-11 17:32 INFO End of Epoch 186 - Loss: 14.5143\n"
     ]
    },
    {
     "name": "stdout",
     "output_type": "stream",
     "text": [
      "71/71 [==============================] - 21s 292ms/step - loss: 14.5143 - accuracy: 0.6099\n",
      "Epoch 187/1600\n",
      "71/71 [==============================] - ETA: 0s - loss: 19.1777 - accuracy: 0.5735"
     ]
    },
    {
     "name": "stderr",
     "output_type": "stream",
     "text": [
      "2024-03-11 17:32 INFO End of Epoch 187 - Loss: 19.1777\n"
     ]
    },
    {
     "name": "stdout",
     "output_type": "stream",
     "text": [
      "71/71 [==============================] - 21s 293ms/step - loss: 19.1777 - accuracy: 0.5735\n",
      "Epoch 188/1600\n",
      "71/71 [==============================] - ETA: 0s - loss: 18.2508 - accuracy: 0.5521"
     ]
    },
    {
     "name": "stderr",
     "output_type": "stream",
     "text": [
      "2024-03-11 17:33 INFO End of Epoch 188 - Loss: 18.2508\n"
     ]
    },
    {
     "name": "stdout",
     "output_type": "stream",
     "text": [
      "71/71 [==============================] - 21s 292ms/step - loss: 18.2508 - accuracy: 0.5521\n",
      "Epoch 189/1600\n",
      "71/71 [==============================] - ETA: 0s - loss: 9.6643 - accuracy: 0.5689"
     ]
    },
    {
     "name": "stderr",
     "output_type": "stream",
     "text": [
      "2024-03-11 17:33 INFO End of Epoch 189 - Loss: 9.6643\n"
     ]
    },
    {
     "name": "stdout",
     "output_type": "stream",
     "text": [
      "71/71 [==============================] - 21s 290ms/step - loss: 9.6643 - accuracy: 0.5689\n",
      "Epoch 190/1600\n",
      "71/71 [==============================] - ETA: 0s - loss: 5.0246 - accuracy: 0.5754"
     ]
    },
    {
     "name": "stderr",
     "output_type": "stream",
     "text": [
      "2024-03-11 17:33 INFO End of Epoch 190 - Loss: 5.0246\n"
     ]
    },
    {
     "name": "stdout",
     "output_type": "stream",
     "text": [
      "71/71 [==============================] - 21s 292ms/step - loss: 5.0246 - accuracy: 0.5754\n",
      "Epoch 191/1600\n",
      "71/71 [==============================] - ETA: 0s - loss: 3.1211 - accuracy: 0.5795"
     ]
    },
    {
     "name": "stderr",
     "output_type": "stream",
     "text": [
      "2024-03-11 17:34 INFO End of Epoch 191 - Loss: 3.1211\n"
     ]
    },
    {
     "name": "stdout",
     "output_type": "stream",
     "text": [
      "71/71 [==============================] - 21s 292ms/step - loss: 3.1211 - accuracy: 0.5795\n",
      "Epoch 192/1600\n",
      "71/71 [==============================] - ETA: 0s - loss: 4.0053 - accuracy: 0.5328"
     ]
    },
    {
     "name": "stderr",
     "output_type": "stream",
     "text": [
      "2024-03-11 17:34 INFO End of Epoch 192 - Loss: 4.0053\n"
     ]
    },
    {
     "name": "stdout",
     "output_type": "stream",
     "text": [
      "71/71 [==============================] - 21s 292ms/step - loss: 4.0053 - accuracy: 0.5328\n",
      "Epoch 193/1600\n",
      "71/71 [==============================] - ETA: 0s - loss: 2.2003 - accuracy: 0.5884"
     ]
    },
    {
     "name": "stderr",
     "output_type": "stream",
     "text": [
      "2024-03-11 17:35 INFO End of Epoch 193 - Loss: 2.2003\n"
     ]
    },
    {
     "name": "stdout",
     "output_type": "stream",
     "text": [
      "71/71 [==============================] - 21s 293ms/step - loss: 2.2003 - accuracy: 0.5884\n",
      "Epoch 194/1600\n",
      "71/71 [==============================] - ETA: 0s - loss: 1.4272 - accuracy: 0.6002"
     ]
    },
    {
     "name": "stderr",
     "output_type": "stream",
     "text": [
      "2024-03-11 17:35 INFO End of Epoch 194 - Loss: 1.4272\n"
     ]
    },
    {
     "name": "stdout",
     "output_type": "stream",
     "text": [
      "71/71 [==============================] - 21s 292ms/step - loss: 1.4272 - accuracy: 0.6002\n",
      "Epoch 195/1600\n",
      "71/71 [==============================] - ETA: 0s - loss: 1.3775 - accuracy: 0.5774"
     ]
    },
    {
     "name": "stderr",
     "output_type": "stream",
     "text": [
      "2024-03-11 17:36 INFO End of Epoch 195 - Loss: 1.3775\n"
     ]
    },
    {
     "name": "stdout",
     "output_type": "stream",
     "text": [
      "71/71 [==============================] - 21s 293ms/step - loss: 1.3775 - accuracy: 0.5774\n",
      "Epoch 196/1600\n",
      "71/71 [==============================] - ETA: 0s - loss: 1.3692 - accuracy: 0.6174"
     ]
    },
    {
     "name": "stderr",
     "output_type": "stream",
     "text": [
      "2024-03-11 17:36 INFO End of Epoch 196 - Loss: 1.3692\n"
     ]
    },
    {
     "name": "stdout",
     "output_type": "stream",
     "text": [
      "71/71 [==============================] - 21s 290ms/step - loss: 1.3692 - accuracy: 0.6174\n",
      "Epoch 197/1600\n",
      "71/71 [==============================] - ETA: 0s - loss: 1.6673 - accuracy: 0.5752"
     ]
    },
    {
     "name": "stderr",
     "output_type": "stream",
     "text": [
      "2024-03-11 17:37 INFO End of Epoch 197 - Loss: 1.6673\n"
     ]
    },
    {
     "name": "stdout",
     "output_type": "stream",
     "text": [
      "71/71 [==============================] - 21s 293ms/step - loss: 1.6673 - accuracy: 0.5752\n",
      "Epoch 198/1600\n",
      "71/71 [==============================] - ETA: 0s - loss: 3.2943 - accuracy: 0.5754"
     ]
    },
    {
     "name": "stderr",
     "output_type": "stream",
     "text": [
      "2024-03-11 17:37 INFO End of Epoch 198 - Loss: 3.2943\n"
     ]
    },
    {
     "name": "stdout",
     "output_type": "stream",
     "text": [
      "71/71 [==============================] - 21s 294ms/step - loss: 3.2943 - accuracy: 0.5754\n",
      "Epoch 199/1600\n",
      "71/71 [==============================] - ETA: 0s - loss: 4.4684 - accuracy: 0.5836"
     ]
    },
    {
     "name": "stderr",
     "output_type": "stream",
     "text": [
      "2024-03-11 17:37 INFO End of Epoch 199 - Loss: 4.4684\n"
     ]
    },
    {
     "name": "stdout",
     "output_type": "stream",
     "text": [
      "71/71 [==============================] - 21s 291ms/step - loss: 4.4684 - accuracy: 0.5836\n",
      "Epoch 200/1600\n",
      "71/71 [==============================] - ETA: 0s - loss: 6.7545 - accuracy: 0.5909"
     ]
    },
    {
     "name": "stderr",
     "output_type": "stream",
     "text": [
      "2024-03-11 17:38 INFO End of Epoch 200 - Loss: 6.7545\n"
     ]
    },
    {
     "name": "stdout",
     "output_type": "stream",
     "text": [
      "71/71 [==============================] - 21s 289ms/step - loss: 6.7545 - accuracy: 0.5909\n",
      "Epoch 201/1600\n",
      "71/71 [==============================] - ETA: 0s - loss: 6.7123 - accuracy: 0.5741"
     ]
    },
    {
     "name": "stderr",
     "output_type": "stream",
     "text": [
      "2024-03-11 17:38 INFO End of Epoch 201 - Loss: 6.7123\n"
     ]
    },
    {
     "name": "stdout",
     "output_type": "stream",
     "text": [
      "71/71 [==============================] - 21s 294ms/step - loss: 6.7123 - accuracy: 0.5741\n",
      "Epoch 202/1600\n",
      "71/71 [==============================] - ETA: 0s - loss: 5.5031 - accuracy: 0.5772"
     ]
    },
    {
     "name": "stderr",
     "output_type": "stream",
     "text": [
      "2024-03-11 17:39 INFO End of Epoch 202 - Loss: 5.5031\n"
     ]
    },
    {
     "name": "stdout",
     "output_type": "stream",
     "text": [
      "71/71 [==============================] - 21s 293ms/step - loss: 5.5031 - accuracy: 0.5772\n",
      "Epoch 203/1600\n",
      "71/71 [==============================] - ETA: 0s - loss: 5.5042 - accuracy: 0.5826"
     ]
    },
    {
     "name": "stderr",
     "output_type": "stream",
     "text": [
      "2024-03-11 17:39 INFO End of Epoch 203 - Loss: 5.5042\n"
     ]
    },
    {
     "name": "stdout",
     "output_type": "stream",
     "text": [
      "71/71 [==============================] - 21s 292ms/step - loss: 5.5042 - accuracy: 0.5826\n",
      "Epoch 204/1600\n",
      "71/71 [==============================] - ETA: 0s - loss: 5.5538 - accuracy: 0.5812"
     ]
    },
    {
     "name": "stderr",
     "output_type": "stream",
     "text": [
      "2024-03-11 17:40 INFO End of Epoch 204 - Loss: 5.5538\n"
     ]
    },
    {
     "name": "stdout",
     "output_type": "stream",
     "text": [
      "71/71 [==============================] - 21s 291ms/step - loss: 5.5538 - accuracy: 0.5812\n",
      "Epoch 205/1600\n",
      "71/71 [==============================] - ETA: 0s - loss: 4.6803 - accuracy: 0.6015"
     ]
    },
    {
     "name": "stderr",
     "output_type": "stream",
     "text": [
      "2024-03-11 17:40 INFO End of Epoch 205 - Loss: 4.6803\n"
     ]
    },
    {
     "name": "stdout",
     "output_type": "stream",
     "text": [
      "71/71 [==============================] - 21s 290ms/step - loss: 4.6803 - accuracy: 0.6015\n",
      "Epoch 206/1600\n",
      "71/71 [==============================] - ETA: 0s - loss: 5.0372 - accuracy: 0.5752"
     ]
    },
    {
     "name": "stderr",
     "output_type": "stream",
     "text": [
      "2024-03-11 17:41 INFO End of Epoch 206 - Loss: 5.0372\n"
     ]
    },
    {
     "name": "stdout",
     "output_type": "stream",
     "text": [
      "71/71 [==============================] - 20s 287ms/step - loss: 5.0372 - accuracy: 0.5752\n",
      "Epoch 207/1600\n",
      "71/71 [==============================] - ETA: 0s - loss: 5.7742 - accuracy: 0.5813"
     ]
    },
    {
     "name": "stderr",
     "output_type": "stream",
     "text": [
      "2024-03-11 17:41 INFO End of Epoch 207 - Loss: 5.7742\n"
     ]
    },
    {
     "name": "stdout",
     "output_type": "stream",
     "text": [
      "71/71 [==============================] - 21s 293ms/step - loss: 5.7742 - accuracy: 0.5813\n",
      "Epoch 208/1600\n",
      "71/71 [==============================] - ETA: 0s - loss: 6.0445 - accuracy: 0.5659"
     ]
    },
    {
     "name": "stderr",
     "output_type": "stream",
     "text": [
      "2024-03-11 17:41 INFO End of Epoch 208 - Loss: 6.0445\n"
     ]
    },
    {
     "name": "stdout",
     "output_type": "stream",
     "text": [
      "71/71 [==============================] - 21s 292ms/step - loss: 6.0445 - accuracy: 0.5659\n",
      "Epoch 209/1600\n",
      "71/71 [==============================] - ETA: 0s - loss: 3.7293 - accuracy: 0.5998"
     ]
    },
    {
     "name": "stderr",
     "output_type": "stream",
     "text": [
      "2024-03-11 17:42 INFO End of Epoch 209 - Loss: 3.7293\n"
     ]
    },
    {
     "name": "stdout",
     "output_type": "stream",
     "text": [
      "71/71 [==============================] - 21s 291ms/step - loss: 3.7293 - accuracy: 0.5998\n",
      "Epoch 210/1600\n",
      "71/71 [==============================] - ETA: 0s - loss: 2.6346 - accuracy: 0.6002"
     ]
    },
    {
     "name": "stderr",
     "output_type": "stream",
     "text": [
      "2024-03-11 17:42 INFO End of Epoch 210 - Loss: 2.6346\n"
     ]
    },
    {
     "name": "stdout",
     "output_type": "stream",
     "text": [
      "71/71 [==============================] - 21s 290ms/step - loss: 2.6346 - accuracy: 0.6002\n",
      "Epoch 211/1600\n",
      "71/71 [==============================] - ETA: 0s - loss: 1.9808 - accuracy: 0.6134"
     ]
    },
    {
     "name": "stderr",
     "output_type": "stream",
     "text": [
      "2024-03-11 17:43 INFO End of Epoch 211 - Loss: 1.9808\n"
     ]
    },
    {
     "name": "stdout",
     "output_type": "stream",
     "text": [
      "71/71 [==============================] - 21s 290ms/step - loss: 1.9808 - accuracy: 0.6134\n",
      "Epoch 212/1600\n",
      "71/71 [==============================] - ETA: 0s - loss: 1.8742 - accuracy: 0.6099"
     ]
    },
    {
     "name": "stderr",
     "output_type": "stream",
     "text": [
      "2024-03-11 17:43 INFO End of Epoch 212 - Loss: 1.8742\n"
     ]
    },
    {
     "name": "stdout",
     "output_type": "stream",
     "text": [
      "71/71 [==============================] - 21s 292ms/step - loss: 1.8742 - accuracy: 0.6099\n",
      "Epoch 213/1600\n",
      "71/71 [==============================] - ETA: 0s - loss: 2.7332 - accuracy: 0.5951"
     ]
    },
    {
     "name": "stderr",
     "output_type": "stream",
     "text": [
      "2024-03-11 17:44 INFO End of Epoch 213 - Loss: 2.7332\n"
     ]
    },
    {
     "name": "stdout",
     "output_type": "stream",
     "text": [
      "71/71 [==============================] - 21s 291ms/step - loss: 2.7332 - accuracy: 0.5951\n",
      "Epoch 214/1600\n",
      "71/71 [==============================] - ETA: 0s - loss: 3.6362 - accuracy: 0.6049"
     ]
    },
    {
     "name": "stderr",
     "output_type": "stream",
     "text": [
      "2024-03-11 17:44 INFO End of Epoch 214 - Loss: 3.6362\n"
     ]
    },
    {
     "name": "stdout",
     "output_type": "stream",
     "text": [
      "71/71 [==============================] - 21s 293ms/step - loss: 3.6362 - accuracy: 0.6049\n",
      "Epoch 215/1600\n",
      "71/71 [==============================] - ETA: 0s - loss: 3.4958 - accuracy: 0.6188"
     ]
    },
    {
     "name": "stderr",
     "output_type": "stream",
     "text": [
      "2024-03-11 17:45 INFO End of Epoch 215 - Loss: 3.4958\n"
     ]
    },
    {
     "name": "stdout",
     "output_type": "stream",
     "text": [
      "71/71 [==============================] - 21s 293ms/step - loss: 3.4958 - accuracy: 0.6188\n",
      "Epoch 216/1600\n",
      "71/71 [==============================] - ETA: 0s - loss: 6.0224 - accuracy: 0.6008"
     ]
    },
    {
     "name": "stderr",
     "output_type": "stream",
     "text": [
      "2024-03-11 17:45 INFO End of Epoch 216 - Loss: 6.0224\n"
     ]
    },
    {
     "name": "stdout",
     "output_type": "stream",
     "text": [
      "71/71 [==============================] - 21s 291ms/step - loss: 6.0224 - accuracy: 0.6008\n",
      "Epoch 217/1600\n",
      "71/71 [==============================] - ETA: 0s - loss: 12.5277 - accuracy: 0.5821"
     ]
    },
    {
     "name": "stderr",
     "output_type": "stream",
     "text": [
      "2024-03-11 17:45 INFO End of Epoch 217 - Loss: 12.5277\n"
     ]
    },
    {
     "name": "stdout",
     "output_type": "stream",
     "text": [
      "71/71 [==============================] - 21s 292ms/step - loss: 12.5277 - accuracy: 0.5821\n",
      "Epoch 218/1600\n",
      "71/71 [==============================] - ETA: 0s - loss: 12.5220 - accuracy: 0.5754"
     ]
    },
    {
     "name": "stderr",
     "output_type": "stream",
     "text": [
      "2024-03-11 17:46 INFO End of Epoch 218 - Loss: 12.5220\n"
     ]
    },
    {
     "name": "stdout",
     "output_type": "stream",
     "text": [
      "71/71 [==============================] - 21s 291ms/step - loss: 12.5220 - accuracy: 0.5754\n",
      "Epoch 219/1600\n",
      "71/71 [==============================] - ETA: 0s - loss: 10.9867 - accuracy: 0.5697"
     ]
    },
    {
     "name": "stderr",
     "output_type": "stream",
     "text": [
      "2024-03-11 17:46 INFO End of Epoch 219 - Loss: 10.9867\n"
     ]
    },
    {
     "name": "stdout",
     "output_type": "stream",
     "text": [
      "71/71 [==============================] - 21s 291ms/step - loss: 10.9867 - accuracy: 0.5697\n",
      "Epoch 220/1600\n",
      "71/71 [==============================] - ETA: 0s - loss: 7.4420 - accuracy: 0.5921"
     ]
    },
    {
     "name": "stderr",
     "output_type": "stream",
     "text": [
      "2024-03-11 17:47 INFO End of Epoch 220 - Loss: 7.4420\n"
     ]
    },
    {
     "name": "stdout",
     "output_type": "stream",
     "text": [
      "71/71 [==============================] - 21s 292ms/step - loss: 7.4420 - accuracy: 0.5921\n",
      "Epoch 221/1600\n",
      "71/71 [==============================] - ETA: 0s - loss: 8.3139 - accuracy: 0.5740"
     ]
    },
    {
     "name": "stderr",
     "output_type": "stream",
     "text": [
      "2024-03-11 17:47 INFO End of Epoch 221 - Loss: 8.3139\n"
     ]
    },
    {
     "name": "stdout",
     "output_type": "stream",
     "text": [
      "71/71 [==============================] - 21s 293ms/step - loss: 8.3139 - accuracy: 0.5740\n",
      "Epoch 222/1600\n",
      "71/71 [==============================] - ETA: 0s - loss: 6.3721 - accuracy: 0.5745"
     ]
    },
    {
     "name": "stderr",
     "output_type": "stream",
     "text": [
      "2024-03-11 17:48 INFO End of Epoch 222 - Loss: 6.3721\n"
     ]
    },
    {
     "name": "stdout",
     "output_type": "stream",
     "text": [
      "71/71 [==============================] - 21s 293ms/step - loss: 6.3721 - accuracy: 0.5745\n",
      "Epoch 223/1600\n",
      "71/71 [==============================] - ETA: 0s - loss: 4.6037 - accuracy: 0.5723"
     ]
    },
    {
     "name": "stderr",
     "output_type": "stream",
     "text": [
      "2024-03-11 17:48 INFO End of Epoch 223 - Loss: 4.6037\n"
     ]
    },
    {
     "name": "stdout",
     "output_type": "stream",
     "text": [
      "71/71 [==============================] - 21s 292ms/step - loss: 4.6037 - accuracy: 0.5723\n",
      "Epoch 224/1600\n",
      "71/71 [==============================] - ETA: 0s - loss: 4.0354 - accuracy: 0.5757"
     ]
    },
    {
     "name": "stderr",
     "output_type": "stream",
     "text": [
      "2024-03-11 17:49 INFO End of Epoch 224 - Loss: 4.0354\n"
     ]
    },
    {
     "name": "stdout",
     "output_type": "stream",
     "text": [
      "71/71 [==============================] - 21s 292ms/step - loss: 4.0354 - accuracy: 0.5757\n",
      "Epoch 225/1600\n",
      "71/71 [==============================] - ETA: 0s - loss: 5.2696 - accuracy: 0.5677"
     ]
    },
    {
     "name": "stderr",
     "output_type": "stream",
     "text": [
      "2024-03-11 17:49 INFO End of Epoch 225 - Loss: 5.2696\n"
     ]
    },
    {
     "name": "stdout",
     "output_type": "stream",
     "text": [
      "71/71 [==============================] - 21s 292ms/step - loss: 5.2696 - accuracy: 0.5677\n",
      "Epoch 226/1600\n",
      "71/71 [==============================] - ETA: 0s - loss: 3.8137 - accuracy: 0.5487"
     ]
    },
    {
     "name": "stderr",
     "output_type": "stream",
     "text": [
      "2024-03-11 17:49 INFO End of Epoch 226 - Loss: 3.8137\n"
     ]
    },
    {
     "name": "stdout",
     "output_type": "stream",
     "text": [
      "71/71 [==============================] - 21s 292ms/step - loss: 3.8137 - accuracy: 0.5487\n",
      "Epoch 227/1600\n",
      "71/71 [==============================] - ETA: 0s - loss: 2.4921 - accuracy: 0.5625"
     ]
    },
    {
     "name": "stderr",
     "output_type": "stream",
     "text": [
      "2024-03-11 17:50 INFO End of Epoch 227 - Loss: 2.4921\n"
     ]
    },
    {
     "name": "stdout",
     "output_type": "stream",
     "text": [
      "71/71 [==============================] - 21s 293ms/step - loss: 2.4921 - accuracy: 0.5625\n",
      "Epoch 228/1600\n",
      "71/71 [==============================] - ETA: 0s - loss: 3.0881 - accuracy: 0.5747"
     ]
    },
    {
     "name": "stderr",
     "output_type": "stream",
     "text": [
      "2024-03-11 17:50 INFO End of Epoch 228 - Loss: 3.0881\n"
     ]
    },
    {
     "name": "stdout",
     "output_type": "stream",
     "text": [
      "71/71 [==============================] - 21s 293ms/step - loss: 3.0881 - accuracy: 0.5747\n",
      "Epoch 229/1600\n",
      "71/71 [==============================] - ETA: 0s - loss: 3.5273 - accuracy: 0.5769"
     ]
    },
    {
     "name": "stderr",
     "output_type": "stream",
     "text": [
      "2024-03-11 17:51 INFO End of Epoch 229 - Loss: 3.5273\n"
     ]
    },
    {
     "name": "stdout",
     "output_type": "stream",
     "text": [
      "71/71 [==============================] - 21s 292ms/step - loss: 3.5273 - accuracy: 0.5769\n",
      "Epoch 230/1600\n",
      "71/71 [==============================] - ETA: 0s - loss: 3.9886 - accuracy: 0.5730"
     ]
    },
    {
     "name": "stderr",
     "output_type": "stream",
     "text": [
      "2024-03-11 17:51 INFO End of Epoch 230 - Loss: 3.9886\n"
     ]
    },
    {
     "name": "stdout",
     "output_type": "stream",
     "text": [
      "71/71 [==============================] - 21s 291ms/step - loss: 3.9886 - accuracy: 0.5730\n",
      "Epoch 231/1600\n",
      "71/71 [==============================] - ETA: 0s - loss: 6.0735 - accuracy: 0.5643"
     ]
    },
    {
     "name": "stderr",
     "output_type": "stream",
     "text": [
      "2024-03-11 17:52 INFO End of Epoch 231 - Loss: 6.0735\n"
     ]
    },
    {
     "name": "stdout",
     "output_type": "stream",
     "text": [
      "71/71 [==============================] - 21s 293ms/step - loss: 6.0735 - accuracy: 0.5643\n",
      "Epoch 232/1600\n",
      "71/71 [==============================] - ETA: 0s - loss: 12.3356 - accuracy: 0.5495"
     ]
    },
    {
     "name": "stderr",
     "output_type": "stream",
     "text": [
      "2024-03-11 17:52 INFO End of Epoch 232 - Loss: 12.3356\n"
     ]
    },
    {
     "name": "stdout",
     "output_type": "stream",
     "text": [
      "71/71 [==============================] - 21s 294ms/step - loss: 12.3356 - accuracy: 0.5495\n",
      "Epoch 233/1600\n",
      "71/71 [==============================] - ETA: 0s - loss: 7.2528 - accuracy: 0.5842"
     ]
    },
    {
     "name": "stderr",
     "output_type": "stream",
     "text": [
      "2024-03-11 17:53 INFO End of Epoch 233 - Loss: 7.2528\n"
     ]
    },
    {
     "name": "stdout",
     "output_type": "stream",
     "text": [
      "71/71 [==============================] - 21s 292ms/step - loss: 7.2528 - accuracy: 0.5842\n",
      "Epoch 234/1600\n",
      "71/71 [==============================] - ETA: 0s - loss: 4.7569 - accuracy: 0.5663"
     ]
    },
    {
     "name": "stderr",
     "output_type": "stream",
     "text": [
      "2024-03-11 17:53 INFO End of Epoch 234 - Loss: 4.7569\n"
     ]
    },
    {
     "name": "stdout",
     "output_type": "stream",
     "text": [
      "71/71 [==============================] - 21s 293ms/step - loss: 4.7569 - accuracy: 0.5663\n",
      "Epoch 235/1600\n",
      "71/71 [==============================] - ETA: 0s - loss: 2.8406 - accuracy: 0.5720"
     ]
    },
    {
     "name": "stderr",
     "output_type": "stream",
     "text": [
      "2024-03-11 17:53 INFO End of Epoch 235 - Loss: 2.8406\n"
     ]
    },
    {
     "name": "stdout",
     "output_type": "stream",
     "text": [
      "71/71 [==============================] - 21s 293ms/step - loss: 2.8406 - accuracy: 0.5720\n",
      "Epoch 236/1600\n",
      "71/71 [==============================] - ETA: 0s - loss: 1.9977 - accuracy: 0.5777"
     ]
    },
    {
     "name": "stderr",
     "output_type": "stream",
     "text": [
      "2024-03-11 17:54 INFO End of Epoch 236 - Loss: 1.9977\n"
     ]
    },
    {
     "name": "stdout",
     "output_type": "stream",
     "text": [
      "71/71 [==============================] - 21s 293ms/step - loss: 1.9977 - accuracy: 0.5777\n",
      "Epoch 237/1600\n",
      "71/71 [==============================] - ETA: 0s - loss: 2.4646 - accuracy: 0.5755"
     ]
    },
    {
     "name": "stderr",
     "output_type": "stream",
     "text": [
      "2024-03-11 17:54 INFO End of Epoch 237 - Loss: 2.4646\n"
     ]
    },
    {
     "name": "stdout",
     "output_type": "stream",
     "text": [
      "71/71 [==============================] - 21s 292ms/step - loss: 2.4646 - accuracy: 0.5755\n",
      "Epoch 238/1600\n",
      "71/71 [==============================] - ETA: 0s - loss: 5.1250 - accuracy: 0.5720"
     ]
    },
    {
     "name": "stderr",
     "output_type": "stream",
     "text": [
      "2024-03-11 17:55 INFO End of Epoch 238 - Loss: 5.1250\n"
     ]
    },
    {
     "name": "stdout",
     "output_type": "stream",
     "text": [
      "71/71 [==============================] - 21s 293ms/step - loss: 5.1250 - accuracy: 0.5720\n",
      "Epoch 239/1600\n",
      "71/71 [==============================] - ETA: 0s - loss: 5.3870 - accuracy: 0.5696"
     ]
    },
    {
     "name": "stderr",
     "output_type": "stream",
     "text": [
      "2024-03-11 17:55 INFO End of Epoch 239 - Loss: 5.3870\n"
     ]
    },
    {
     "name": "stdout",
     "output_type": "stream",
     "text": [
      "71/71 [==============================] - 21s 292ms/step - loss: 5.3870 - accuracy: 0.5696\n",
      "Epoch 240/1600\n",
      "71/71 [==============================] - ETA: 0s - loss: 4.5374 - accuracy: 0.5742"
     ]
    },
    {
     "name": "stderr",
     "output_type": "stream",
     "text": [
      "2024-03-11 17:56 INFO End of Epoch 240 - Loss: 4.5374\n"
     ]
    },
    {
     "name": "stdout",
     "output_type": "stream",
     "text": [
      "71/71 [==============================] - 21s 292ms/step - loss: 4.5374 - accuracy: 0.5742\n",
      "Epoch 241/1600\n",
      "71/71 [==============================] - ETA: 0s - loss: 4.0593 - accuracy: 0.5789"
     ]
    },
    {
     "name": "stderr",
     "output_type": "stream",
     "text": [
      "2024-03-11 17:56 INFO End of Epoch 241 - Loss: 4.0593\n"
     ]
    },
    {
     "name": "stdout",
     "output_type": "stream",
     "text": [
      "71/71 [==============================] - 21s 293ms/step - loss: 4.0593 - accuracy: 0.5789\n",
      "Epoch 242/1600\n",
      "71/71 [==============================] - ETA: 0s - loss: 3.3298 - accuracy: 0.5919"
     ]
    },
    {
     "name": "stderr",
     "output_type": "stream",
     "text": [
      "2024-03-11 17:57 INFO End of Epoch 242 - Loss: 3.3298\n"
     ]
    },
    {
     "name": "stdout",
     "output_type": "stream",
     "text": [
      "71/71 [==============================] - 21s 292ms/step - loss: 3.3298 - accuracy: 0.5919\n",
      "Epoch 243/1600\n",
      "71/71 [==============================] - ETA: 0s - loss: 3.3796 - accuracy: 0.6016"
     ]
    },
    {
     "name": "stderr",
     "output_type": "stream",
     "text": [
      "2024-03-11 17:57 INFO End of Epoch 243 - Loss: 3.3796\n"
     ]
    },
    {
     "name": "stdout",
     "output_type": "stream",
     "text": [
      "71/71 [==============================] - 21s 293ms/step - loss: 3.3796 - accuracy: 0.6016\n",
      "Epoch 244/1600\n",
      "71/71 [==============================] - ETA: 0s - loss: 4.8733 - accuracy: 0.5725"
     ]
    },
    {
     "name": "stderr",
     "output_type": "stream",
     "text": [
      "2024-03-11 17:57 INFO End of Epoch 244 - Loss: 4.8733\n"
     ]
    },
    {
     "name": "stdout",
     "output_type": "stream",
     "text": [
      "71/71 [==============================] - 21s 291ms/step - loss: 4.8733 - accuracy: 0.5725\n",
      "Epoch 245/1600\n",
      "71/71 [==============================] - ETA: 0s - loss: 4.6861 - accuracy: 0.5757"
     ]
    },
    {
     "name": "stderr",
     "output_type": "stream",
     "text": [
      "2024-03-11 17:58 INFO End of Epoch 245 - Loss: 4.6861\n"
     ]
    },
    {
     "name": "stdout",
     "output_type": "stream",
     "text": [
      "71/71 [==============================] - 21s 292ms/step - loss: 4.6861 - accuracy: 0.5757\n",
      "Epoch 246/1600\n",
      "71/71 [==============================] - ETA: 0s - loss: 8.9080 - accuracy: 0.5887"
     ]
    },
    {
     "name": "stderr",
     "output_type": "stream",
     "text": [
      "2024-03-11 17:58 INFO End of Epoch 246 - Loss: 8.9080\n"
     ]
    },
    {
     "name": "stdout",
     "output_type": "stream",
     "text": [
      "71/71 [==============================] - 21s 293ms/step - loss: 8.9080 - accuracy: 0.5887\n",
      "Epoch 247/1600\n",
      "71/71 [==============================] - ETA: 0s - loss: 9.6993 - accuracy: 0.5742"
     ]
    },
    {
     "name": "stderr",
     "output_type": "stream",
     "text": [
      "2024-03-11 17:59 INFO End of Epoch 247 - Loss: 9.6993\n"
     ]
    },
    {
     "name": "stdout",
     "output_type": "stream",
     "text": [
      "71/71 [==============================] - 21s 293ms/step - loss: 9.6993 - accuracy: 0.5742\n",
      "Epoch 248/1600\n",
      "71/71 [==============================] - ETA: 0s - loss: 6.6501 - accuracy: 0.5720"
     ]
    },
    {
     "name": "stderr",
     "output_type": "stream",
     "text": [
      "2024-03-11 17:59 INFO End of Epoch 248 - Loss: 6.6501\n"
     ]
    },
    {
     "name": "stdout",
     "output_type": "stream",
     "text": [
      "71/71 [==============================] - 21s 292ms/step - loss: 6.6501 - accuracy: 0.5720\n",
      "Epoch 249/1600\n",
      "71/71 [==============================] - ETA: 0s - loss: 4.5499 - accuracy: 0.5778"
     ]
    },
    {
     "name": "stderr",
     "output_type": "stream",
     "text": [
      "2024-03-11 18:00 INFO End of Epoch 249 - Loss: 4.5499\n"
     ]
    },
    {
     "name": "stdout",
     "output_type": "stream",
     "text": [
      "71/71 [==============================] - 21s 293ms/step - loss: 4.5499 - accuracy: 0.5778\n",
      "Epoch 250/1600\n",
      "71/71 [==============================] - ETA: 0s - loss: 5.8543 - accuracy: 0.5693"
     ]
    },
    {
     "name": "stderr",
     "output_type": "stream",
     "text": [
      "2024-03-11 18:00 INFO End of Epoch 250 - Loss: 5.8543\n"
     ]
    },
    {
     "name": "stdout",
     "output_type": "stream",
     "text": [
      "71/71 [==============================] - 20s 286ms/step - loss: 5.8543 - accuracy: 0.5693\n",
      "Epoch 251/1600\n",
      "71/71 [==============================] - ETA: 0s - loss: 5.6022 - accuracy: 0.5798"
     ]
    },
    {
     "name": "stderr",
     "output_type": "stream",
     "text": [
      "2024-03-11 18:01 INFO End of Epoch 251 - Loss: 5.6022\n"
     ]
    },
    {
     "name": "stdout",
     "output_type": "stream",
     "text": [
      "71/71 [==============================] - 21s 293ms/step - loss: 5.6022 - accuracy: 0.5798\n",
      "Epoch 252/1600\n",
      "71/71 [==============================] - ETA: 0s - loss: 3.3453 - accuracy: 0.5843"
     ]
    },
    {
     "name": "stderr",
     "output_type": "stream",
     "text": [
      "2024-03-11 18:01 INFO End of Epoch 252 - Loss: 3.3453\n"
     ]
    },
    {
     "name": "stdout",
     "output_type": "stream",
     "text": [
      "71/71 [==============================] - 20s 285ms/step - loss: 3.3453 - accuracy: 0.5843\n",
      "Epoch 253/1600\n",
      "71/71 [==============================] - ETA: 0s - loss: 4.2888 - accuracy: 0.5786"
     ]
    },
    {
     "name": "stderr",
     "output_type": "stream",
     "text": [
      "2024-03-11 18:01 INFO End of Epoch 253 - Loss: 4.2888\n"
     ]
    },
    {
     "name": "stdout",
     "output_type": "stream",
     "text": [
      "71/71 [==============================] - 21s 290ms/step - loss: 4.2888 - accuracy: 0.5786\n",
      "Epoch 254/1600\n",
      "71/71 [==============================] - ETA: 0s - loss: 3.7157 - accuracy: 0.5765"
     ]
    },
    {
     "name": "stderr",
     "output_type": "stream",
     "text": [
      "2024-03-11 18:02 INFO End of Epoch 254 - Loss: 3.7157\n"
     ]
    },
    {
     "name": "stdout",
     "output_type": "stream",
     "text": [
      "71/71 [==============================] - 20s 288ms/step - loss: 3.7157 - accuracy: 0.5765\n",
      "Epoch 255/1600\n",
      "71/71 [==============================] - ETA: 0s - loss: 2.2836 - accuracy: 0.5981"
     ]
    },
    {
     "name": "stderr",
     "output_type": "stream",
     "text": [
      "2024-03-11 18:02 INFO End of Epoch 255 - Loss: 2.2836\n"
     ]
    },
    {
     "name": "stdout",
     "output_type": "stream",
     "text": [
      "71/71 [==============================] - 20s 289ms/step - loss: 2.2836 - accuracy: 0.5981\n",
      "Epoch 256/1600\n",
      "71/71 [==============================] - ETA: 0s - loss: 3.7508 - accuracy: 0.5855"
     ]
    },
    {
     "name": "stderr",
     "output_type": "stream",
     "text": [
      "2024-03-11 18:03 INFO End of Epoch 256 - Loss: 3.7508\n"
     ]
    },
    {
     "name": "stdout",
     "output_type": "stream",
     "text": [
      "71/71 [==============================] - 20s 287ms/step - loss: 3.7508 - accuracy: 0.5855\n",
      "Epoch 257/1600\n",
      "71/71 [==============================] - ETA: 0s - loss: 3.7722 - accuracy: 0.5757"
     ]
    },
    {
     "name": "stderr",
     "output_type": "stream",
     "text": [
      "2024-03-11 18:03 INFO End of Epoch 257 - Loss: 3.7722\n"
     ]
    },
    {
     "name": "stdout",
     "output_type": "stream",
     "text": [
      "71/71 [==============================] - 21s 290ms/step - loss: 3.7722 - accuracy: 0.5757\n",
      "Epoch 258/1600\n",
      "71/71 [==============================] - ETA: 0s - loss: 2.7631 - accuracy: 0.6053"
     ]
    },
    {
     "name": "stderr",
     "output_type": "stream",
     "text": [
      "2024-03-11 18:04 INFO End of Epoch 258 - Loss: 2.7631\n"
     ]
    },
    {
     "name": "stdout",
     "output_type": "stream",
     "text": [
      "71/71 [==============================] - 21s 290ms/step - loss: 2.7631 - accuracy: 0.6053\n",
      "Epoch 259/1600\n",
      "71/71 [==============================] - ETA: 0s - loss: 3.5665 - accuracy: 0.5845"
     ]
    },
    {
     "name": "stderr",
     "output_type": "stream",
     "text": [
      "2024-03-11 18:04 INFO End of Epoch 259 - Loss: 3.5665\n"
     ]
    },
    {
     "name": "stdout",
     "output_type": "stream",
     "text": [
      "71/71 [==============================] - 21s 290ms/step - loss: 3.5665 - accuracy: 0.5845\n",
      "Epoch 260/1600\n",
      "71/71 [==============================] - ETA: 0s - loss: 5.0847 - accuracy: 0.5811"
     ]
    },
    {
     "name": "stderr",
     "output_type": "stream",
     "text": [
      "2024-03-11 18:05 INFO End of Epoch 260 - Loss: 5.0847\n"
     ]
    },
    {
     "name": "stdout",
     "output_type": "stream",
     "text": [
      "71/71 [==============================] - 21s 289ms/step - loss: 5.0847 - accuracy: 0.5811\n",
      "Epoch 261/1600\n",
      "71/71 [==============================] - ETA: 0s - loss: 5.4910 - accuracy: 0.5833"
     ]
    },
    {
     "name": "stderr",
     "output_type": "stream",
     "text": [
      "2024-03-11 18:05 INFO End of Epoch 261 - Loss: 5.4910\n"
     ]
    },
    {
     "name": "stdout",
     "output_type": "stream",
     "text": [
      "71/71 [==============================] - 21s 291ms/step - loss: 5.4910 - accuracy: 0.5833\n",
      "Epoch 262/1600\n",
      "71/71 [==============================] - ETA: 0s - loss: 6.4962 - accuracy: 0.5839"
     ]
    },
    {
     "name": "stderr",
     "output_type": "stream",
     "text": [
      "2024-03-11 18:05 INFO End of Epoch 262 - Loss: 6.4962\n"
     ]
    },
    {
     "name": "stdout",
     "output_type": "stream",
     "text": [
      "71/71 [==============================] - 21s 292ms/step - loss: 6.4962 - accuracy: 0.5839\n",
      "Epoch 263/1600\n",
      "71/71 [==============================] - ETA: 0s - loss: 8.7829 - accuracy: 0.5862"
     ]
    },
    {
     "name": "stderr",
     "output_type": "stream",
     "text": [
      "2024-03-11 18:06 INFO End of Epoch 263 - Loss: 8.7829\n"
     ]
    },
    {
     "name": "stdout",
     "output_type": "stream",
     "text": [
      "71/71 [==============================] - 21s 291ms/step - loss: 8.7829 - accuracy: 0.5862\n",
      "Epoch 264/1600\n",
      "71/71 [==============================] - ETA: 0s - loss: 9.1959 - accuracy: 0.5724"
     ]
    },
    {
     "name": "stderr",
     "output_type": "stream",
     "text": [
      "2024-03-11 18:06 INFO End of Epoch 264 - Loss: 9.1959\n"
     ]
    },
    {
     "name": "stdout",
     "output_type": "stream",
     "text": [
      "71/71 [==============================] - 21s 293ms/step - loss: 9.1959 - accuracy: 0.5724\n",
      "Epoch 265/1600\n",
      "71/71 [==============================] - ETA: 0s - loss: 7.0595 - accuracy: 0.5707"
     ]
    },
    {
     "name": "stderr",
     "output_type": "stream",
     "text": [
      "2024-03-11 18:07 INFO End of Epoch 265 - Loss: 7.0595\n"
     ]
    },
    {
     "name": "stdout",
     "output_type": "stream",
     "text": [
      "71/71 [==============================] - 21s 292ms/step - loss: 7.0595 - accuracy: 0.5707\n",
      "Epoch 266/1600\n",
      "71/71 [==============================] - ETA: 0s - loss: 5.1646 - accuracy: 0.5649"
     ]
    },
    {
     "name": "stderr",
     "output_type": "stream",
     "text": [
      "2024-03-11 18:07 INFO End of Epoch 266 - Loss: 5.1646\n"
     ]
    },
    {
     "name": "stdout",
     "output_type": "stream",
     "text": [
      "71/71 [==============================] - 21s 291ms/step - loss: 5.1646 - accuracy: 0.5649\n",
      "Epoch 267/1600\n",
      "71/71 [==============================] - ETA: 0s - loss: 5.0668 - accuracy: 0.5630"
     ]
    },
    {
     "name": "stderr",
     "output_type": "stream",
     "text": [
      "2024-03-11 18:08 INFO End of Epoch 267 - Loss: 5.0668\n"
     ]
    },
    {
     "name": "stdout",
     "output_type": "stream",
     "text": [
      "71/71 [==============================] - 21s 293ms/step - loss: 5.0668 - accuracy: 0.5630\n",
      "Epoch 268/1600\n",
      "71/71 [==============================] - ETA: 0s - loss: 3.8917 - accuracy: 0.5708"
     ]
    },
    {
     "name": "stderr",
     "output_type": "stream",
     "text": [
      "2024-03-11 18:08 INFO End of Epoch 268 - Loss: 3.8917\n"
     ]
    },
    {
     "name": "stdout",
     "output_type": "stream",
     "text": [
      "71/71 [==============================] - 21s 292ms/step - loss: 3.8917 - accuracy: 0.5708\n",
      "Epoch 269/1600\n",
      "71/71 [==============================] - ETA: 0s - loss: 2.5872 - accuracy: 0.5802"
     ]
    },
    {
     "name": "stderr",
     "output_type": "stream",
     "text": [
      "2024-03-11 18:09 INFO End of Epoch 269 - Loss: 2.5872\n"
     ]
    },
    {
     "name": "stdout",
     "output_type": "stream",
     "text": [
      "71/71 [==============================] - 21s 292ms/step - loss: 2.5872 - accuracy: 0.5802\n",
      "Epoch 270/1600\n",
      "71/71 [==============================] - ETA: 0s - loss: 2.2306 - accuracy: 0.5768"
     ]
    },
    {
     "name": "stderr",
     "output_type": "stream",
     "text": [
      "2024-03-11 18:09 INFO End of Epoch 270 - Loss: 2.2306\n"
     ]
    },
    {
     "name": "stdout",
     "output_type": "stream",
     "text": [
      "71/71 [==============================] - 21s 292ms/step - loss: 2.2306 - accuracy: 0.5768\n",
      "Epoch 271/1600\n",
      "71/71 [==============================] - ETA: 0s - loss: 2.8386 - accuracy: 0.5806"
     ]
    },
    {
     "name": "stderr",
     "output_type": "stream",
     "text": [
      "2024-03-11 18:09 INFO End of Epoch 271 - Loss: 2.8386\n"
     ]
    },
    {
     "name": "stdout",
     "output_type": "stream",
     "text": [
      "71/71 [==============================] - 21s 293ms/step - loss: 2.8386 - accuracy: 0.5806\n",
      "Epoch 272/1600\n",
      "71/71 [==============================] - ETA: 0s - loss: 3.9598 - accuracy: 0.5646"
     ]
    },
    {
     "name": "stderr",
     "output_type": "stream",
     "text": [
      "2024-03-11 18:10 INFO End of Epoch 272 - Loss: 3.9598\n"
     ]
    },
    {
     "name": "stdout",
     "output_type": "stream",
     "text": [
      "71/71 [==============================] - 21s 292ms/step - loss: 3.9598 - accuracy: 0.5646\n",
      "Epoch 273/1600\n",
      "71/71 [==============================] - ETA: 0s - loss: 4.5699 - accuracy: 0.5755"
     ]
    },
    {
     "name": "stderr",
     "output_type": "stream",
     "text": [
      "2024-03-11 18:10 INFO End of Epoch 273 - Loss: 4.5699\n"
     ]
    },
    {
     "name": "stdout",
     "output_type": "stream",
     "text": [
      "71/71 [==============================] - 21s 293ms/step - loss: 4.5699 - accuracy: 0.5755\n",
      "Epoch 274/1600\n",
      "71/71 [==============================] - ETA: 0s - loss: 4.5668 - accuracy: 0.5730"
     ]
    },
    {
     "name": "stderr",
     "output_type": "stream",
     "text": [
      "2024-03-11 18:11 INFO End of Epoch 274 - Loss: 4.5668\n"
     ]
    },
    {
     "name": "stdout",
     "output_type": "stream",
     "text": [
      "71/71 [==============================] - 21s 293ms/step - loss: 4.5668 - accuracy: 0.5730\n",
      "Epoch 275/1600\n",
      "71/71 [==============================] - ETA: 0s - loss: 5.7040 - accuracy: 0.5825"
     ]
    },
    {
     "name": "stderr",
     "output_type": "stream",
     "text": [
      "2024-03-11 18:11 INFO End of Epoch 275 - Loss: 5.7040\n"
     ]
    },
    {
     "name": "stdout",
     "output_type": "stream",
     "text": [
      "71/71 [==============================] - 21s 293ms/step - loss: 5.7040 - accuracy: 0.5825\n",
      "Epoch 276/1600\n",
      "71/71 [==============================] - ETA: 0s - loss: 5.4537 - accuracy: 0.5718"
     ]
    },
    {
     "name": "stderr",
     "output_type": "stream",
     "text": [
      "2024-03-11 18:12 INFO End of Epoch 276 - Loss: 5.4537\n"
     ]
    },
    {
     "name": "stdout",
     "output_type": "stream",
     "text": [
      "71/71 [==============================] - 21s 293ms/step - loss: 5.4537 - accuracy: 0.5718\n",
      "Epoch 277/1600\n",
      "71/71 [==============================] - ETA: 0s - loss: 4.7214 - accuracy: 0.5907"
     ]
    },
    {
     "name": "stderr",
     "output_type": "stream",
     "text": [
      "2024-03-11 18:12 INFO End of Epoch 277 - Loss: 4.7214\n"
     ]
    },
    {
     "name": "stdout",
     "output_type": "stream",
     "text": [
      "71/71 [==============================] - 21s 294ms/step - loss: 4.7214 - accuracy: 0.5907\n",
      "Epoch 278/1600\n",
      "71/71 [==============================] - ETA: 0s - loss: 12.4743 - accuracy: 0.5609"
     ]
    },
    {
     "name": "stderr",
     "output_type": "stream",
     "text": [
      "2024-03-11 18:13 INFO End of Epoch 278 - Loss: 12.4743\n"
     ]
    },
    {
     "name": "stdout",
     "output_type": "stream",
     "text": [
      "71/71 [==============================] - 21s 292ms/step - loss: 12.4743 - accuracy: 0.5609\n",
      "Epoch 279/1600\n",
      "71/71 [==============================] - ETA: 0s - loss: 8.1403 - accuracy: 0.5974"
     ]
    },
    {
     "name": "stderr",
     "output_type": "stream",
     "text": [
      "2024-03-11 18:13 INFO End of Epoch 279 - Loss: 8.1403\n"
     ]
    },
    {
     "name": "stdout",
     "output_type": "stream",
     "text": [
      "71/71 [==============================] - 21s 292ms/step - loss: 8.1403 - accuracy: 0.5974\n",
      "Epoch 280/1600\n",
      "71/71 [==============================] - ETA: 0s - loss: 5.8589 - accuracy: 0.5784"
     ]
    },
    {
     "name": "stderr",
     "output_type": "stream",
     "text": [
      "2024-03-11 18:13 INFO End of Epoch 280 - Loss: 5.8589\n"
     ]
    },
    {
     "name": "stdout",
     "output_type": "stream",
     "text": [
      "71/71 [==============================] - 20s 288ms/step - loss: 5.8589 - accuracy: 0.5784\n",
      "Epoch 281/1600\n",
      "71/71 [==============================] - ETA: 0s - loss: 4.2520 - accuracy: 0.5795"
     ]
    },
    {
     "name": "stderr",
     "output_type": "stream",
     "text": [
      "2024-03-11 18:14 INFO End of Epoch 281 - Loss: 4.2520\n"
     ]
    },
    {
     "name": "stdout",
     "output_type": "stream",
     "text": [
      "71/71 [==============================] - 21s 294ms/step - loss: 4.2520 - accuracy: 0.5795\n",
      "Epoch 282/1600\n",
      "71/71 [==============================] - ETA: 0s - loss: 2.8254 - accuracy: 0.5921"
     ]
    },
    {
     "name": "stderr",
     "output_type": "stream",
     "text": [
      "2024-03-11 18:14 INFO End of Epoch 282 - Loss: 2.8254\n"
     ]
    },
    {
     "name": "stdout",
     "output_type": "stream",
     "text": [
      "71/71 [==============================] - 20s 288ms/step - loss: 2.8254 - accuracy: 0.5921\n",
      "Epoch 283/1600\n",
      "71/71 [==============================] - ETA: 0s - loss: 2.1499 - accuracy: 0.5961"
     ]
    },
    {
     "name": "stderr",
     "output_type": "stream",
     "text": [
      "2024-03-11 18:15 INFO End of Epoch 283 - Loss: 2.1499\n"
     ]
    },
    {
     "name": "stdout",
     "output_type": "stream",
     "text": [
      "71/71 [==============================] - 21s 290ms/step - loss: 2.1499 - accuracy: 0.5961\n",
      "Epoch 284/1600\n",
      "71/71 [==============================] - ETA: 0s - loss: 1.9992 - accuracy: 0.6231"
     ]
    },
    {
     "name": "stderr",
     "output_type": "stream",
     "text": [
      "2024-03-11 18:15 INFO End of Epoch 284 - Loss: 1.9992\n"
     ]
    },
    {
     "name": "stdout",
     "output_type": "stream",
     "text": [
      "71/71 [==============================] - 20s 288ms/step - loss: 1.9992 - accuracy: 0.6231\n",
      "Epoch 285/1600\n",
      "71/71 [==============================] - ETA: 0s - loss: 2.1604 - accuracy: 0.5936"
     ]
    },
    {
     "name": "stderr",
     "output_type": "stream",
     "text": [
      "2024-03-11 18:16 INFO End of Epoch 285 - Loss: 2.1604\n"
     ]
    },
    {
     "name": "stdout",
     "output_type": "stream",
     "text": [
      "71/71 [==============================] - 21s 289ms/step - loss: 2.1604 - accuracy: 0.5936\n",
      "Epoch 286/1600\n",
      "71/71 [==============================] - ETA: 0s - loss: 1.9114 - accuracy: 0.6066"
     ]
    },
    {
     "name": "stderr",
     "output_type": "stream",
     "text": [
      "2024-03-11 18:16 INFO End of Epoch 286 - Loss: 1.9114\n"
     ]
    },
    {
     "name": "stdout",
     "output_type": "stream",
     "text": [
      "71/71 [==============================] - 21s 291ms/step - loss: 1.9114 - accuracy: 0.6066\n",
      "Epoch 287/1600\n",
      "71/71 [==============================] - ETA: 0s - loss: 4.0705 - accuracy: 0.6127"
     ]
    },
    {
     "name": "stderr",
     "output_type": "stream",
     "text": [
      "2024-03-11 18:17 INFO End of Epoch 287 - Loss: 4.0705\n"
     ]
    },
    {
     "name": "stdout",
     "output_type": "stream",
     "text": [
      "71/71 [==============================] - 21s 291ms/step - loss: 4.0705 - accuracy: 0.6127\n",
      "Epoch 288/1600\n",
      "71/71 [==============================] - ETA: 0s - loss: 4.6218 - accuracy: 0.5723"
     ]
    },
    {
     "name": "stderr",
     "output_type": "stream",
     "text": [
      "2024-03-11 18:17 INFO End of Epoch 288 - Loss: 4.6218\n"
     ]
    },
    {
     "name": "stdout",
     "output_type": "stream",
     "text": [
      "71/71 [==============================] - 20s 287ms/step - loss: 4.6218 - accuracy: 0.5723\n",
      "Epoch 289/1600\n",
      "71/71 [==============================] - ETA: 0s - loss: 5.0049 - accuracy: 0.5829"
     ]
    },
    {
     "name": "stderr",
     "output_type": "stream",
     "text": [
      "2024-03-11 18:17 INFO End of Epoch 289 - Loss: 5.0049\n"
     ]
    },
    {
     "name": "stdout",
     "output_type": "stream",
     "text": [
      "71/71 [==============================] - 21s 293ms/step - loss: 5.0049 - accuracy: 0.5829\n",
      "Epoch 290/1600\n",
      "71/71 [==============================] - ETA: 0s - loss: 5.2121 - accuracy: 0.5771"
     ]
    },
    {
     "name": "stderr",
     "output_type": "stream",
     "text": [
      "2024-03-11 18:18 INFO End of Epoch 290 - Loss: 5.2121\n"
     ]
    },
    {
     "name": "stdout",
     "output_type": "stream",
     "text": [
      "71/71 [==============================] - 21s 291ms/step - loss: 5.2121 - accuracy: 0.5771\n",
      "Epoch 291/1600\n",
      "71/71 [==============================] - ETA: 0s - loss: 6.4787 - accuracy: 0.5873"
     ]
    },
    {
     "name": "stderr",
     "output_type": "stream",
     "text": [
      "2024-03-11 18:18 INFO End of Epoch 291 - Loss: 6.4787\n"
     ]
    },
    {
     "name": "stdout",
     "output_type": "stream",
     "text": [
      "71/71 [==============================] - 21s 291ms/step - loss: 6.4787 - accuracy: 0.5873\n",
      "Epoch 292/1600\n",
      "71/71 [==============================] - ETA: 0s - loss: 7.4323 - accuracy: 0.5889"
     ]
    },
    {
     "name": "stderr",
     "output_type": "stream",
     "text": [
      "2024-03-11 18:19 INFO End of Epoch 292 - Loss: 7.4323\n"
     ]
    },
    {
     "name": "stdout",
     "output_type": "stream",
     "text": [
      "71/71 [==============================] - 21s 291ms/step - loss: 7.4323 - accuracy: 0.5889\n",
      "Epoch 293/1600\n",
      "71/71 [==============================] - ETA: 0s - loss: 8.7838 - accuracy: 0.5718"
     ]
    },
    {
     "name": "stderr",
     "output_type": "stream",
     "text": [
      "2024-03-11 18:19 INFO End of Epoch 293 - Loss: 8.7838\n"
     ]
    },
    {
     "name": "stdout",
     "output_type": "stream",
     "text": [
      "71/71 [==============================] - 20s 286ms/step - loss: 8.7838 - accuracy: 0.5718\n",
      "Epoch 294/1600\n",
      "71/71 [==============================] - ETA: 0s - loss: 11.1672 - accuracy: 0.5778"
     ]
    },
    {
     "name": "stderr",
     "output_type": "stream",
     "text": [
      "2024-03-11 18:20 INFO End of Epoch 294 - Loss: 11.1672\n"
     ]
    },
    {
     "name": "stdout",
     "output_type": "stream",
     "text": [
      "71/71 [==============================] - 21s 294ms/step - loss: 11.1672 - accuracy: 0.5778\n",
      "Epoch 295/1600\n",
      "71/71 [==============================] - ETA: 0s - loss: 8.4704 - accuracy: 0.5671"
     ]
    },
    {
     "name": "stderr",
     "output_type": "stream",
     "text": [
      "2024-03-11 18:20 INFO End of Epoch 295 - Loss: 8.4704\n"
     ]
    },
    {
     "name": "stdout",
     "output_type": "stream",
     "text": [
      "71/71 [==============================] - 21s 289ms/step - loss: 8.4704 - accuracy: 0.5671\n",
      "Epoch 296/1600\n",
      "71/71 [==============================] - ETA: 0s - loss: 6.3692 - accuracy: 0.5539"
     ]
    },
    {
     "name": "stderr",
     "output_type": "stream",
     "text": [
      "2024-03-11 18:21 INFO End of Epoch 296 - Loss: 6.3692\n"
     ]
    },
    {
     "name": "stdout",
     "output_type": "stream",
     "text": [
      "71/71 [==============================] - 20s 288ms/step - loss: 6.3692 - accuracy: 0.5539\n",
      "Epoch 297/1600\n",
      "71/71 [==============================] - ETA: 0s - loss: 5.4745 - accuracy: 0.5667"
     ]
    },
    {
     "name": "stderr",
     "output_type": "stream",
     "text": [
      "2024-03-11 18:21 INFO End of Epoch 297 - Loss: 5.4745\n"
     ]
    },
    {
     "name": "stdout",
     "output_type": "stream",
     "text": [
      "71/71 [==============================] - 20s 288ms/step - loss: 5.4745 - accuracy: 0.5667\n",
      "Epoch 298/1600\n",
      "71/71 [==============================] - ETA: 0s - loss: 4.5573 - accuracy: 0.5686"
     ]
    },
    {
     "name": "stderr",
     "output_type": "stream",
     "text": [
      "2024-03-11 18:21 INFO End of Epoch 298 - Loss: 4.5573\n"
     ]
    },
    {
     "name": "stdout",
     "output_type": "stream",
     "text": [
      "71/71 [==============================] - 20s 288ms/step - loss: 4.5573 - accuracy: 0.5686\n",
      "Epoch 299/1600\n",
      "71/71 [==============================] - ETA: 0s - loss: 3.2450 - accuracy: 0.5669"
     ]
    },
    {
     "name": "stderr",
     "output_type": "stream",
     "text": [
      "2024-03-11 18:22 INFO End of Epoch 299 - Loss: 3.2450\n"
     ]
    },
    {
     "name": "stdout",
     "output_type": "stream",
     "text": [
      "71/71 [==============================] - 21s 290ms/step - loss: 3.2450 - accuracy: 0.5669\n",
      "Epoch 300/1600\n",
      "71/71 [==============================] - ETA: 0s - loss: 2.0308 - accuracy: 0.5970"
     ]
    },
    {
     "name": "stderr",
     "output_type": "stream",
     "text": [
      "2024-03-11 18:22 INFO End of Epoch 300 - Loss: 2.0308\n"
     ]
    },
    {
     "name": "stdout",
     "output_type": "stream",
     "text": [
      "71/71 [==============================] - 21s 290ms/step - loss: 2.0308 - accuracy: 0.5970\n",
      "Epoch 301/1600\n",
      "71/71 [==============================] - ETA: 0s - loss: 1.9687 - accuracy: 0.5760"
     ]
    },
    {
     "name": "stderr",
     "output_type": "stream",
     "text": [
      "2024-03-11 18:23 INFO End of Epoch 301 - Loss: 1.9687\n"
     ]
    },
    {
     "name": "stdout",
     "output_type": "stream",
     "text": [
      "71/71 [==============================] - 21s 291ms/step - loss: 1.9687 - accuracy: 0.5760\n",
      "Epoch 302/1600\n",
      "71/71 [==============================] - ETA: 0s - loss: 1.9432 - accuracy: 0.5723"
     ]
    },
    {
     "name": "stderr",
     "output_type": "stream",
     "text": [
      "2024-03-11 18:23 INFO End of Epoch 302 - Loss: 1.9432\n"
     ]
    },
    {
     "name": "stdout",
     "output_type": "stream",
     "text": [
      "71/71 [==============================] - 21s 292ms/step - loss: 1.9432 - accuracy: 0.5723\n",
      "Epoch 303/1600\n",
      "71/71 [==============================] - ETA: 0s - loss: 1.5092 - accuracy: 0.5839"
     ]
    },
    {
     "name": "stderr",
     "output_type": "stream",
     "text": [
      "2024-03-11 18:24 INFO End of Epoch 303 - Loss: 1.5092\n"
     ]
    },
    {
     "name": "stdout",
     "output_type": "stream",
     "text": [
      "71/71 [==============================] - 20s 288ms/step - loss: 1.5092 - accuracy: 0.5839\n",
      "Epoch 304/1600\n",
      "71/71 [==============================] - ETA: 0s - loss: 1.4753 - accuracy: 0.6316"
     ]
    },
    {
     "name": "stderr",
     "output_type": "stream",
     "text": [
      "2024-03-11 18:24 INFO End of Epoch 304 - Loss: 1.4753\n"
     ]
    },
    {
     "name": "stdout",
     "output_type": "stream",
     "text": [
      "71/71 [==============================] - 21s 293ms/step - loss: 1.4753 - accuracy: 0.6316\n",
      "Epoch 305/1600\n",
      "71/71 [==============================] - ETA: 0s - loss: 1.5713 - accuracy: 0.6041"
     ]
    },
    {
     "name": "stderr",
     "output_type": "stream",
     "text": [
      "2024-03-11 18:25 INFO End of Epoch 305 - Loss: 1.5713\n"
     ]
    },
    {
     "name": "stdout",
     "output_type": "stream",
     "text": [
      "71/71 [==============================] - 21s 290ms/step - loss: 1.5713 - accuracy: 0.6041\n",
      "Epoch 306/1600\n",
      "71/71 [==============================] - ETA: 0s - loss: 1.7915 - accuracy: 0.6136"
     ]
    },
    {
     "name": "stderr",
     "output_type": "stream",
     "text": [
      "2024-03-11 18:25 INFO End of Epoch 306 - Loss: 1.7915\n"
     ]
    },
    {
     "name": "stdout",
     "output_type": "stream",
     "text": [
      "71/71 [==============================] - 21s 290ms/step - loss: 1.7915 - accuracy: 0.6136\n",
      "Epoch 307/1600\n",
      "71/71 [==============================] - ETA: 0s - loss: 2.9639 - accuracy: 0.6076"
     ]
    },
    {
     "name": "stderr",
     "output_type": "stream",
     "text": [
      "2024-03-11 18:25 INFO End of Epoch 307 - Loss: 2.9639\n"
     ]
    },
    {
     "name": "stdout",
     "output_type": "stream",
     "text": [
      "71/71 [==============================] - 21s 291ms/step - loss: 2.9639 - accuracy: 0.6076\n",
      "Epoch 308/1600\n",
      "71/71 [==============================] - ETA: 0s - loss: 5.1885 - accuracy: 0.5947"
     ]
    },
    {
     "name": "stderr",
     "output_type": "stream",
     "text": [
      "2024-03-11 18:26 INFO End of Epoch 308 - Loss: 5.1885\n"
     ]
    },
    {
     "name": "stdout",
     "output_type": "stream",
     "text": [
      "71/71 [==============================] - 21s 291ms/step - loss: 5.1885 - accuracy: 0.5947\n",
      "Epoch 309/1600\n",
      "71/71 [==============================] - ETA: 0s - loss: 9.0558 - accuracy: 0.5832"
     ]
    },
    {
     "name": "stderr",
     "output_type": "stream",
     "text": [
      "2024-03-11 18:26 INFO End of Epoch 309 - Loss: 9.0558\n"
     ]
    },
    {
     "name": "stdout",
     "output_type": "stream",
     "text": [
      "71/71 [==============================] - 20s 288ms/step - loss: 9.0558 - accuracy: 0.5832\n",
      "Epoch 310/1600\n",
      "71/71 [==============================] - ETA: 0s - loss: 21.6467 - accuracy: 0.5838"
     ]
    },
    {
     "name": "stderr",
     "output_type": "stream",
     "text": [
      "2024-03-11 18:27 INFO End of Epoch 310 - Loss: 21.6467\n"
     ]
    },
    {
     "name": "stdout",
     "output_type": "stream",
     "text": [
      "71/71 [==============================] - 21s 293ms/step - loss: 21.6467 - accuracy: 0.5838\n",
      "Epoch 311/1600\n",
      "71/71 [==============================] - ETA: 0s - loss: 17.8032 - accuracy: 0.5544"
     ]
    },
    {
     "name": "stderr",
     "output_type": "stream",
     "text": [
      "2024-03-11 18:27 INFO End of Epoch 311 - Loss: 17.8032\n"
     ]
    },
    {
     "name": "stdout",
     "output_type": "stream",
     "text": [
      "71/71 [==============================] - 20s 288ms/step - loss: 17.8032 - accuracy: 0.5544\n",
      "Epoch 312/1600\n",
      "71/71 [==============================] - ETA: 0s - loss: 12.8914 - accuracy: 0.5328"
     ]
    },
    {
     "name": "stderr",
     "output_type": "stream",
     "text": [
      "2024-03-11 18:28 INFO End of Epoch 312 - Loss: 12.8914\n"
     ]
    },
    {
     "name": "stdout",
     "output_type": "stream",
     "text": [
      "71/71 [==============================] - 21s 289ms/step - loss: 12.8914 - accuracy: 0.5328\n",
      "Epoch 313/1600\n",
      "71/71 [==============================] - ETA: 0s - loss: 8.6986 - accuracy: 0.5399"
     ]
    },
    {
     "name": "stderr",
     "output_type": "stream",
     "text": [
      "2024-03-11 18:28 INFO End of Epoch 313 - Loss: 8.6986\n"
     ]
    },
    {
     "name": "stdout",
     "output_type": "stream",
     "text": [
      "71/71 [==============================] - 21s 293ms/step - loss: 8.6986 - accuracy: 0.5399\n",
      "Epoch 314/1600\n",
      "71/71 [==============================] - ETA: 0s - loss: 4.5262 - accuracy: 0.5541"
     ]
    },
    {
     "name": "stderr",
     "output_type": "stream",
     "text": [
      "2024-03-11 18:29 INFO End of Epoch 314 - Loss: 4.5262\n"
     ]
    },
    {
     "name": "stdout",
     "output_type": "stream",
     "text": [
      "71/71 [==============================] - 21s 290ms/step - loss: 4.5262 - accuracy: 0.5541\n",
      "Epoch 315/1600\n",
      "71/71 [==============================] - ETA: 0s - loss: 1.9015 - accuracy: 0.5733"
     ]
    },
    {
     "name": "stderr",
     "output_type": "stream",
     "text": [
      "2024-03-11 18:29 INFO End of Epoch 315 - Loss: 1.9015\n"
     ]
    },
    {
     "name": "stdout",
     "output_type": "stream",
     "text": [
      "71/71 [==============================] - 21s 291ms/step - loss: 1.9015 - accuracy: 0.5733\n",
      "Epoch 316/1600\n",
      "71/71 [==============================] - ETA: 0s - loss: 1.3731 - accuracy: 0.5755"
     ]
    },
    {
     "name": "stderr",
     "output_type": "stream",
     "text": [
      "2024-03-11 18:29 INFO End of Epoch 316 - Loss: 1.3731\n"
     ]
    },
    {
     "name": "stdout",
     "output_type": "stream",
     "text": [
      "71/71 [==============================] - 21s 290ms/step - loss: 1.3731 - accuracy: 0.5755\n",
      "Epoch 317/1600\n",
      "71/71 [==============================] - ETA: 0s - loss: 1.3786 - accuracy: 0.5662"
     ]
    },
    {
     "name": "stderr",
     "output_type": "stream",
     "text": [
      "2024-03-11 18:30 INFO End of Epoch 317 - Loss: 1.3786\n"
     ]
    },
    {
     "name": "stdout",
     "output_type": "stream",
     "text": [
      "71/71 [==============================] - 21s 292ms/step - loss: 1.3786 - accuracy: 0.5662\n",
      "Epoch 318/1600\n",
      "71/71 [==============================] - ETA: 0s - loss: 1.1664 - accuracy: 0.6014"
     ]
    },
    {
     "name": "stderr",
     "output_type": "stream",
     "text": [
      "2024-03-11 18:30 INFO End of Epoch 318 - Loss: 1.1664\n"
     ]
    },
    {
     "name": "stdout",
     "output_type": "stream",
     "text": [
      "71/71 [==============================] - 21s 292ms/step - loss: 1.1664 - accuracy: 0.6014\n",
      "Epoch 319/1600\n",
      "71/71 [==============================] - ETA: 0s - loss: 1.2751 - accuracy: 0.6041"
     ]
    },
    {
     "name": "stderr",
     "output_type": "stream",
     "text": [
      "2024-03-11 18:31 INFO End of Epoch 319 - Loss: 1.2751\n"
     ]
    },
    {
     "name": "stdout",
     "output_type": "stream",
     "text": [
      "71/71 [==============================] - 21s 292ms/step - loss: 1.2751 - accuracy: 0.6041\n",
      "Epoch 320/1600\n",
      "71/71 [==============================] - ETA: 0s - loss: 1.3477 - accuracy: 0.6024"
     ]
    },
    {
     "name": "stderr",
     "output_type": "stream",
     "text": [
      "2024-03-11 18:31 INFO End of Epoch 320 - Loss: 1.3477\n"
     ]
    },
    {
     "name": "stdout",
     "output_type": "stream",
     "text": [
      "71/71 [==============================] - 21s 291ms/step - loss: 1.3477 - accuracy: 0.6024\n",
      "Epoch 321/1600\n",
      "71/71 [==============================] - ETA: 0s - loss: 1.6991 - accuracy: 0.6022"
     ]
    },
    {
     "name": "stderr",
     "output_type": "stream",
     "text": [
      "2024-03-11 18:32 INFO End of Epoch 321 - Loss: 1.6991\n"
     ]
    },
    {
     "name": "stdout",
     "output_type": "stream",
     "text": [
      "71/71 [==============================] - 21s 292ms/step - loss: 1.6991 - accuracy: 0.6022\n",
      "Epoch 322/1600\n",
      "71/71 [==============================] - ETA: 0s - loss: 2.1357 - accuracy: 0.5916"
     ]
    },
    {
     "name": "stderr",
     "output_type": "stream",
     "text": [
      "2024-03-11 18:32 INFO End of Epoch 322 - Loss: 2.1357\n"
     ]
    },
    {
     "name": "stdout",
     "output_type": "stream",
     "text": [
      "71/71 [==============================] - 21s 293ms/step - loss: 2.1357 - accuracy: 0.5916\n",
      "Epoch 323/1600\n",
      "71/71 [==============================] - ETA: 0s - loss: 1.9901 - accuracy: 0.5893"
     ]
    },
    {
     "name": "stderr",
     "output_type": "stream",
     "text": [
      "2024-03-11 18:33 INFO End of Epoch 323 - Loss: 1.9901\n"
     ]
    },
    {
     "name": "stdout",
     "output_type": "stream",
     "text": [
      "71/71 [==============================] - 21s 292ms/step - loss: 1.9901 - accuracy: 0.5893\n",
      "Epoch 324/1600\n",
      "71/71 [==============================] - ETA: 0s - loss: 3.3431 - accuracy: 0.6068"
     ]
    },
    {
     "name": "stderr",
     "output_type": "stream",
     "text": [
      "2024-03-11 18:33 INFO End of Epoch 324 - Loss: 3.3431\n"
     ]
    },
    {
     "name": "stdout",
     "output_type": "stream",
     "text": [
      "71/71 [==============================] - 20s 287ms/step - loss: 3.3431 - accuracy: 0.6068\n",
      "Epoch 325/1600\n",
      "71/71 [==============================] - ETA: 0s - loss: 4.6978 - accuracy: 0.5716"
     ]
    },
    {
     "name": "stderr",
     "output_type": "stream",
     "text": [
      "2024-03-11 18:33 INFO End of Epoch 325 - Loss: 4.6978\n"
     ]
    },
    {
     "name": "stdout",
     "output_type": "stream",
     "text": [
      "71/71 [==============================] - 21s 293ms/step - loss: 4.6978 - accuracy: 0.5716\n",
      "Epoch 326/1600\n",
      "71/71 [==============================] - ETA: 0s - loss: 4.0199 - accuracy: 0.5893"
     ]
    },
    {
     "name": "stderr",
     "output_type": "stream",
     "text": [
      "2024-03-11 18:34 INFO End of Epoch 326 - Loss: 4.0199\n"
     ]
    },
    {
     "name": "stdout",
     "output_type": "stream",
     "text": [
      "71/71 [==============================] - 21s 291ms/step - loss: 4.0199 - accuracy: 0.5893\n",
      "Epoch 327/1600\n",
      "71/71 [==============================] - ETA: 0s - loss: 5.4090 - accuracy: 0.5948"
     ]
    },
    {
     "name": "stderr",
     "output_type": "stream",
     "text": [
      "2024-03-11 18:34 INFO End of Epoch 327 - Loss: 5.4090\n"
     ]
    },
    {
     "name": "stdout",
     "output_type": "stream",
     "text": [
      "71/71 [==============================] - 21s 289ms/step - loss: 5.4090 - accuracy: 0.5948\n",
      "Epoch 328/1600\n",
      "71/71 [==============================] - ETA: 0s - loss: 7.8389 - accuracy: 0.5842"
     ]
    },
    {
     "name": "stderr",
     "output_type": "stream",
     "text": [
      "2024-03-11 18:35 INFO End of Epoch 328 - Loss: 7.8389\n"
     ]
    },
    {
     "name": "stdout",
     "output_type": "stream",
     "text": [
      "71/71 [==============================] - 21s 292ms/step - loss: 7.8389 - accuracy: 0.5842\n",
      "Epoch 329/1600\n",
      "71/71 [==============================] - ETA: 0s - loss: 7.7186 - accuracy: 0.5829"
     ]
    },
    {
     "name": "stderr",
     "output_type": "stream",
     "text": [
      "2024-03-11 18:35 INFO End of Epoch 329 - Loss: 7.7186\n"
     ]
    },
    {
     "name": "stdout",
     "output_type": "stream",
     "text": [
      "71/71 [==============================] - 21s 292ms/step - loss: 7.7186 - accuracy: 0.5829\n",
      "Epoch 330/1600\n",
      "71/71 [==============================] - ETA: 0s - loss: 10.9955 - accuracy: 0.5825"
     ]
    },
    {
     "name": "stderr",
     "output_type": "stream",
     "text": [
      "2024-03-11 18:36 INFO End of Epoch 330 - Loss: 10.9955\n"
     ]
    },
    {
     "name": "stdout",
     "output_type": "stream",
     "text": [
      "71/71 [==============================] - 21s 291ms/step - loss: 10.9955 - accuracy: 0.5825\n",
      "Epoch 331/1600\n",
      "71/71 [==============================] - ETA: 0s - loss: 9.9203 - accuracy: 0.5782"
     ]
    },
    {
     "name": "stderr",
     "output_type": "stream",
     "text": [
      "2024-03-11 18:36 INFO End of Epoch 331 - Loss: 9.9203\n"
     ]
    },
    {
     "name": "stdout",
     "output_type": "stream",
     "text": [
      "71/71 [==============================] - 21s 291ms/step - loss: 9.9203 - accuracy: 0.5782\n",
      "Epoch 332/1600\n",
      "71/71 [==============================] - ETA: 0s - loss: 5.5704 - accuracy: 0.6016"
     ]
    },
    {
     "name": "stderr",
     "output_type": "stream",
     "text": [
      "2024-03-11 18:37 INFO End of Epoch 332 - Loss: 5.5704\n"
     ]
    },
    {
     "name": "stdout",
     "output_type": "stream",
     "text": [
      "71/71 [==============================] - 21s 293ms/step - loss: 5.5704 - accuracy: 0.6016\n",
      "Epoch 333/1600\n",
      "71/71 [==============================] - ETA: 0s - loss: 4.2059 - accuracy: 0.5936"
     ]
    },
    {
     "name": "stderr",
     "output_type": "stream",
     "text": [
      "2024-03-11 18:37 INFO End of Epoch 333 - Loss: 4.2059\n"
     ]
    },
    {
     "name": "stdout",
     "output_type": "stream",
     "text": [
      "71/71 [==============================] - 21s 292ms/step - loss: 4.2059 - accuracy: 0.5936\n",
      "Epoch 334/1600\n",
      "71/71 [==============================] - ETA: 0s - loss: 4.0694 - accuracy: 0.5867"
     ]
    },
    {
     "name": "stderr",
     "output_type": "stream",
     "text": [
      "2024-03-11 18:37 INFO End of Epoch 334 - Loss: 4.0694\n"
     ]
    },
    {
     "name": "stdout",
     "output_type": "stream",
     "text": [
      "71/71 [==============================] - 21s 292ms/step - loss: 4.0694 - accuracy: 0.5867\n",
      "Epoch 335/1600\n",
      "71/71 [==============================] - ETA: 0s - loss: 3.3760 - accuracy: 0.6072"
     ]
    },
    {
     "name": "stderr",
     "output_type": "stream",
     "text": [
      "2024-03-11 18:38 INFO End of Epoch 335 - Loss: 3.3760\n"
     ]
    },
    {
     "name": "stdout",
     "output_type": "stream",
     "text": [
      "71/71 [==============================] - 21s 291ms/step - loss: 3.3760 - accuracy: 0.6072\n",
      "Epoch 336/1600\n",
      "71/71 [==============================] - ETA: 0s - loss: 3.0351 - accuracy: 0.5875"
     ]
    },
    {
     "name": "stderr",
     "output_type": "stream",
     "text": [
      "2024-03-11 18:38 INFO End of Epoch 336 - Loss: 3.0351\n"
     ]
    },
    {
     "name": "stdout",
     "output_type": "stream",
     "text": [
      "71/71 [==============================] - 21s 293ms/step - loss: 3.0351 - accuracy: 0.5875\n",
      "Epoch 337/1600\n",
      "71/71 [==============================] - ETA: 0s - loss: 3.1602 - accuracy: 0.6097"
     ]
    },
    {
     "name": "stderr",
     "output_type": "stream",
     "text": [
      "2024-03-11 18:39 INFO End of Epoch 337 - Loss: 3.1602\n"
     ]
    },
    {
     "name": "stdout",
     "output_type": "stream",
     "text": [
      "71/71 [==============================] - 21s 292ms/step - loss: 3.1602 - accuracy: 0.6097\n",
      "Epoch 338/1600\n",
      "71/71 [==============================] - ETA: 0s - loss: 3.0266 - accuracy: 0.6097"
     ]
    },
    {
     "name": "stderr",
     "output_type": "stream",
     "text": [
      "2024-03-11 18:39 INFO End of Epoch 338 - Loss: 3.0266\n"
     ]
    },
    {
     "name": "stdout",
     "output_type": "stream",
     "text": [
      "71/71 [==============================] - 21s 289ms/step - loss: 3.0266 - accuracy: 0.6097\n",
      "Epoch 339/1600\n",
      "71/71 [==============================] - ETA: 0s - loss: 4.3818 - accuracy: 0.5727"
     ]
    },
    {
     "name": "stderr",
     "output_type": "stream",
     "text": [
      "2024-03-11 18:40 INFO End of Epoch 339 - Loss: 4.3818\n"
     ]
    },
    {
     "name": "stdout",
     "output_type": "stream",
     "text": [
      "71/71 [==============================] - 21s 293ms/step - loss: 4.3818 - accuracy: 0.5727\n",
      "Epoch 340/1600\n",
      "71/71 [==============================] - ETA: 0s - loss: 5.8954 - accuracy: 0.5730"
     ]
    },
    {
     "name": "stderr",
     "output_type": "stream",
     "text": [
      "2024-03-11 18:40 INFO End of Epoch 340 - Loss: 5.8954\n"
     ]
    },
    {
     "name": "stdout",
     "output_type": "stream",
     "text": [
      "71/71 [==============================] - 21s 293ms/step - loss: 5.8954 - accuracy: 0.5730\n",
      "Epoch 341/1600\n",
      "71/71 [==============================] - ETA: 0s - loss: 5.2482 - accuracy: 0.5892"
     ]
    },
    {
     "name": "stderr",
     "output_type": "stream",
     "text": [
      "2024-03-11 18:41 INFO End of Epoch 341 - Loss: 5.2482\n"
     ]
    },
    {
     "name": "stdout",
     "output_type": "stream",
     "text": [
      "71/71 [==============================] - 21s 292ms/step - loss: 5.2482 - accuracy: 0.5892\n",
      "Epoch 342/1600\n",
      "71/71 [==============================] - ETA: 0s - loss: 5.7575 - accuracy: 0.5681"
     ]
    },
    {
     "name": "stderr",
     "output_type": "stream",
     "text": [
      "2024-03-11 18:41 INFO End of Epoch 342 - Loss: 5.7575\n"
     ]
    },
    {
     "name": "stdout",
     "output_type": "stream",
     "text": [
      "71/71 [==============================] - 20s 288ms/step - loss: 5.7575 - accuracy: 0.5681\n",
      "Epoch 343/1600\n",
      "71/71 [==============================] - ETA: 0s - loss: 5.8985 - accuracy: 0.5591"
     ]
    },
    {
     "name": "stderr",
     "output_type": "stream",
     "text": [
      "2024-03-11 18:41 INFO End of Epoch 343 - Loss: 5.8985\n"
     ]
    },
    {
     "name": "stdout",
     "output_type": "stream",
     "text": [
      "71/71 [==============================] - 21s 293ms/step - loss: 5.8985 - accuracy: 0.5591\n",
      "Epoch 344/1600\n",
      "71/71 [==============================] - ETA: 0s - loss: 4.6334 - accuracy: 0.5691"
     ]
    },
    {
     "name": "stderr",
     "output_type": "stream",
     "text": [
      "2024-03-11 18:42 INFO End of Epoch 344 - Loss: 4.6334\n"
     ]
    },
    {
     "name": "stdout",
     "output_type": "stream",
     "text": [
      "71/71 [==============================] - 21s 292ms/step - loss: 4.6334 - accuracy: 0.5691\n",
      "Epoch 345/1600\n",
      "71/71 [==============================] - ETA: 0s - loss: 6.3080 - accuracy: 0.5863"
     ]
    },
    {
     "name": "stderr",
     "output_type": "stream",
     "text": [
      "2024-03-11 18:42 INFO End of Epoch 345 - Loss: 6.3080\n"
     ]
    },
    {
     "name": "stdout",
     "output_type": "stream",
     "text": [
      "71/71 [==============================] - 21s 293ms/step - loss: 6.3080 - accuracy: 0.5863\n",
      "Epoch 346/1600\n",
      "71/71 [==============================] - ETA: 0s - loss: 7.3587 - accuracy: 0.5676"
     ]
    },
    {
     "name": "stderr",
     "output_type": "stream",
     "text": [
      "2024-03-11 18:43 INFO End of Epoch 346 - Loss: 7.3587\n"
     ]
    },
    {
     "name": "stdout",
     "output_type": "stream",
     "text": [
      "71/71 [==============================] - 21s 290ms/step - loss: 7.3587 - accuracy: 0.5676\n",
      "Epoch 347/1600\n",
      "71/71 [==============================] - ETA: 0s - loss: 7.0166 - accuracy: 0.5680"
     ]
    },
    {
     "name": "stderr",
     "output_type": "stream",
     "text": [
      "2024-03-11 18:43 INFO End of Epoch 347 - Loss: 7.0166\n"
     ]
    },
    {
     "name": "stdout",
     "output_type": "stream",
     "text": [
      "71/71 [==============================] - 21s 293ms/step - loss: 7.0166 - accuracy: 0.5680\n",
      "Epoch 348/1600\n",
      "71/71 [==============================] - ETA: 0s - loss: 7.6267 - accuracy: 0.5507"
     ]
    },
    {
     "name": "stderr",
     "output_type": "stream",
     "text": [
      "2024-03-11 18:44 INFO End of Epoch 348 - Loss: 7.6267\n"
     ]
    },
    {
     "name": "stdout",
     "output_type": "stream",
     "text": [
      "71/71 [==============================] - 21s 292ms/step - loss: 7.6267 - accuracy: 0.5507\n",
      "Epoch 349/1600\n",
      "71/71 [==============================] - ETA: 0s - loss: 5.6125 - accuracy: 0.5586"
     ]
    },
    {
     "name": "stderr",
     "output_type": "stream",
     "text": [
      "2024-03-11 18:44 INFO End of Epoch 349 - Loss: 5.6125\n"
     ]
    },
    {
     "name": "stdout",
     "output_type": "stream",
     "text": [
      "71/71 [==============================] - 21s 292ms/step - loss: 5.6125 - accuracy: 0.5586\n",
      "Epoch 350/1600\n",
      "71/71 [==============================] - ETA: 0s - loss: 3.8228 - accuracy: 0.5552"
     ]
    },
    {
     "name": "stderr",
     "output_type": "stream",
     "text": [
      "2024-03-11 18:45 INFO End of Epoch 350 - Loss: 3.8228\n"
     ]
    },
    {
     "name": "stdout",
     "output_type": "stream",
     "text": [
      "71/71 [==============================] - 21s 291ms/step - loss: 3.8228 - accuracy: 0.5552\n",
      "Epoch 351/1600\n",
      "71/71 [==============================] - ETA: 0s - loss: 4.1212 - accuracy: 0.5583"
     ]
    },
    {
     "name": "stderr",
     "output_type": "stream",
     "text": [
      "2024-03-11 18:45 INFO End of Epoch 351 - Loss: 4.1212\n"
     ]
    },
    {
     "name": "stdout",
     "output_type": "stream",
     "text": [
      "71/71 [==============================] - 21s 293ms/step - loss: 4.1212 - accuracy: 0.5583\n",
      "Epoch 352/1600\n",
      "71/71 [==============================] - ETA: 0s - loss: 5.6005 - accuracy: 0.5760"
     ]
    },
    {
     "name": "stderr",
     "output_type": "stream",
     "text": [
      "2024-03-11 18:45 INFO End of Epoch 352 - Loss: 5.6005\n"
     ]
    },
    {
     "name": "stdout",
     "output_type": "stream",
     "text": [
      "71/71 [==============================] - 21s 293ms/step - loss: 5.6005 - accuracy: 0.5760\n",
      "Epoch 353/1600\n",
      "71/71 [==============================] - ETA: 0s - loss: 3.7901 - accuracy: 0.5771"
     ]
    },
    {
     "name": "stderr",
     "output_type": "stream",
     "text": [
      "2024-03-11 18:46 INFO End of Epoch 353 - Loss: 3.7901\n"
     ]
    },
    {
     "name": "stdout",
     "output_type": "stream",
     "text": [
      "71/71 [==============================] - 21s 293ms/step - loss: 3.7901 - accuracy: 0.5771\n",
      "Epoch 354/1600\n",
      "71/71 [==============================] - ETA: 0s - loss: 3.6008 - accuracy: 0.5273"
     ]
    },
    {
     "name": "stderr",
     "output_type": "stream",
     "text": [
      "2024-03-11 18:46 INFO End of Epoch 354 - Loss: 3.6008\n"
     ]
    },
    {
     "name": "stdout",
     "output_type": "stream",
     "text": [
      "71/71 [==============================] - 21s 293ms/step - loss: 3.6008 - accuracy: 0.5273\n",
      "Epoch 355/1600\n",
      "71/71 [==============================] - ETA: 0s - loss: 2.8693 - accuracy: 0.5717"
     ]
    },
    {
     "name": "stderr",
     "output_type": "stream",
     "text": [
      "2024-03-11 18:47 INFO End of Epoch 355 - Loss: 2.8693\n"
     ]
    },
    {
     "name": "stdout",
     "output_type": "stream",
     "text": [
      "71/71 [==============================] - 21s 293ms/step - loss: 2.8693 - accuracy: 0.5717\n",
      "Epoch 356/1600\n",
      "71/71 [==============================] - ETA: 0s - loss: 6.1561 - accuracy: 0.5833"
     ]
    },
    {
     "name": "stderr",
     "output_type": "stream",
     "text": [
      "2024-03-11 18:47 INFO End of Epoch 356 - Loss: 6.1561\n"
     ]
    },
    {
     "name": "stdout",
     "output_type": "stream",
     "text": [
      "71/71 [==============================] - 21s 292ms/step - loss: 6.1561 - accuracy: 0.5833\n",
      "Epoch 357/1600\n",
      "71/71 [==============================] - ETA: 0s - loss: 6.5992 - accuracy: 0.5947"
     ]
    },
    {
     "name": "stderr",
     "output_type": "stream",
     "text": [
      "2024-03-11 18:48 INFO End of Epoch 357 - Loss: 6.5992\n"
     ]
    },
    {
     "name": "stdout",
     "output_type": "stream",
     "text": [
      "71/71 [==============================] - 21s 293ms/step - loss: 6.5992 - accuracy: 0.5947\n",
      "Epoch 358/1600\n",
      "71/71 [==============================] - ETA: 0s - loss: 8.3965 - accuracy: 0.5564"
     ]
    },
    {
     "name": "stderr",
     "output_type": "stream",
     "text": [
      "2024-03-11 18:48 INFO End of Epoch 358 - Loss: 8.3965\n"
     ]
    },
    {
     "name": "stdout",
     "output_type": "stream",
     "text": [
      "71/71 [==============================] - 21s 293ms/step - loss: 8.3965 - accuracy: 0.5564\n",
      "Epoch 359/1600\n",
      "71/71 [==============================] - ETA: 0s - loss: 5.5953 - accuracy: 0.5745"
     ]
    },
    {
     "name": "stderr",
     "output_type": "stream",
     "text": [
      "2024-03-11 18:49 INFO End of Epoch 359 - Loss: 5.5953\n"
     ]
    },
    {
     "name": "stdout",
     "output_type": "stream",
     "text": [
      "71/71 [==============================] - 21s 292ms/step - loss: 5.5953 - accuracy: 0.5745\n",
      "Epoch 360/1600\n",
      "71/71 [==============================] - ETA: 0s - loss: 4.0106 - accuracy: 0.5737"
     ]
    },
    {
     "name": "stderr",
     "output_type": "stream",
     "text": [
      "2024-03-11 18:49 INFO End of Epoch 360 - Loss: 4.0106\n"
     ]
    },
    {
     "name": "stdout",
     "output_type": "stream",
     "text": [
      "71/71 [==============================] - 21s 294ms/step - loss: 4.0106 - accuracy: 0.5737\n",
      "Epoch 361/1600\n",
      "71/71 [==============================] - ETA: 0s - loss: 3.4078 - accuracy: 0.5710"
     ]
    },
    {
     "name": "stderr",
     "output_type": "stream",
     "text": [
      "2024-03-11 18:49 INFO End of Epoch 361 - Loss: 3.4078\n"
     ]
    },
    {
     "name": "stdout",
     "output_type": "stream",
     "text": [
      "71/71 [==============================] - 21s 291ms/step - loss: 3.4078 - accuracy: 0.5710\n",
      "Epoch 362/1600\n",
      "71/71 [==============================] - ETA: 0s - loss: 2.2458 - accuracy: 0.5883"
     ]
    },
    {
     "name": "stderr",
     "output_type": "stream",
     "text": [
      "2024-03-11 18:50 INFO End of Epoch 362 - Loss: 2.2458\n"
     ]
    },
    {
     "name": "stdout",
     "output_type": "stream",
     "text": [
      "71/71 [==============================] - 21s 293ms/step - loss: 2.2458 - accuracy: 0.5883\n",
      "Epoch 363/1600\n",
      "71/71 [==============================] - ETA: 0s - loss: 2.9222 - accuracy: 0.5826"
     ]
    },
    {
     "name": "stderr",
     "output_type": "stream",
     "text": [
      "2024-03-11 18:50 INFO End of Epoch 363 - Loss: 2.9222\n"
     ]
    },
    {
     "name": "stdout",
     "output_type": "stream",
     "text": [
      "71/71 [==============================] - 21s 293ms/step - loss: 2.9222 - accuracy: 0.5826\n",
      "Epoch 364/1600\n",
      "71/71 [==============================] - ETA: 0s - loss: 3.2617 - accuracy: 0.5892"
     ]
    },
    {
     "name": "stderr",
     "output_type": "stream",
     "text": [
      "2024-03-11 18:51 INFO End of Epoch 364 - Loss: 3.2617\n"
     ]
    },
    {
     "name": "stdout",
     "output_type": "stream",
     "text": [
      "71/71 [==============================] - 21s 292ms/step - loss: 3.2617 - accuracy: 0.5892\n",
      "Epoch 365/1600\n",
      "71/71 [==============================] - ETA: 0s - loss: 2.8419 - accuracy: 0.5849"
     ]
    },
    {
     "name": "stderr",
     "output_type": "stream",
     "text": [
      "2024-03-11 18:51 INFO End of Epoch 365 - Loss: 2.8419\n"
     ]
    },
    {
     "name": "stdout",
     "output_type": "stream",
     "text": [
      "71/71 [==============================] - 21s 293ms/step - loss: 2.8419 - accuracy: 0.5849\n",
      "Epoch 366/1600\n",
      "71/71 [==============================] - ETA: 0s - loss: 3.6943 - accuracy: 0.6011"
     ]
    },
    {
     "name": "stderr",
     "output_type": "stream",
     "text": [
      "2024-03-11 18:52 INFO End of Epoch 366 - Loss: 3.6943\n"
     ]
    },
    {
     "name": "stdout",
     "output_type": "stream",
     "text": [
      "71/71 [==============================] - 21s 292ms/step - loss: 3.6943 - accuracy: 0.6011\n",
      "Epoch 367/1600\n",
      "71/71 [==============================] - ETA: 0s - loss: 7.0039 - accuracy: 0.5924"
     ]
    },
    {
     "name": "stderr",
     "output_type": "stream",
     "text": [
      "2024-03-11 18:52 INFO End of Epoch 367 - Loss: 7.0039\n"
     ]
    },
    {
     "name": "stdout",
     "output_type": "stream",
     "text": [
      "71/71 [==============================] - 21s 293ms/step - loss: 7.0039 - accuracy: 0.5924\n",
      "Epoch 368/1600\n",
      "71/71 [==============================] - ETA: 0s - loss: 9.4705 - accuracy: 0.5757"
     ]
    },
    {
     "name": "stderr",
     "output_type": "stream",
     "text": [
      "2024-03-11 18:53 INFO End of Epoch 368 - Loss: 9.4705\n"
     ]
    },
    {
     "name": "stdout",
     "output_type": "stream",
     "text": [
      "71/71 [==============================] - 21s 292ms/step - loss: 9.4705 - accuracy: 0.5757\n",
      "Epoch 369/1600\n",
      "71/71 [==============================] - ETA: 0s - loss: 7.3318 - accuracy: 0.5829"
     ]
    },
    {
     "name": "stderr",
     "output_type": "stream",
     "text": [
      "2024-03-11 18:53 INFO End of Epoch 369 - Loss: 7.3318\n"
     ]
    },
    {
     "name": "stdout",
     "output_type": "stream",
     "text": [
      "71/71 [==============================] - 21s 293ms/step - loss: 7.3318 - accuracy: 0.5829\n",
      "Epoch 370/1600\n",
      "71/71 [==============================] - ETA: 0s - loss: 5.9327 - accuracy: 0.5835"
     ]
    },
    {
     "name": "stderr",
     "output_type": "stream",
     "text": [
      "2024-03-11 18:53 INFO End of Epoch 370 - Loss: 5.9327\n"
     ]
    },
    {
     "name": "stdout",
     "output_type": "stream",
     "text": [
      "71/71 [==============================] - 21s 293ms/step - loss: 5.9327 - accuracy: 0.5835\n",
      "Epoch 371/1600\n",
      "71/71 [==============================] - ETA: 0s - loss: 6.2215 - accuracy: 0.5698"
     ]
    },
    {
     "name": "stderr",
     "output_type": "stream",
     "text": [
      "2024-03-11 18:54 INFO End of Epoch 371 - Loss: 6.2215\n"
     ]
    },
    {
     "name": "stdout",
     "output_type": "stream",
     "text": [
      "71/71 [==============================] - 21s 292ms/step - loss: 6.2215 - accuracy: 0.5698\n",
      "Epoch 372/1600\n",
      "71/71 [==============================] - ETA: 0s - loss: 4.7505 - accuracy: 0.5897"
     ]
    },
    {
     "name": "stderr",
     "output_type": "stream",
     "text": [
      "2024-03-11 18:54 INFO End of Epoch 372 - Loss: 4.7505\n"
     ]
    },
    {
     "name": "stdout",
     "output_type": "stream",
     "text": [
      "71/71 [==============================] - 21s 296ms/step - loss: 4.7505 - accuracy: 0.5897\n",
      "Epoch 373/1600\n",
      "71/71 [==============================] - ETA: 0s - loss: 3.7179 - accuracy: 0.5910"
     ]
    },
    {
     "name": "stderr",
     "output_type": "stream",
     "text": [
      "2024-03-11 18:55 INFO End of Epoch 373 - Loss: 3.7179\n"
     ]
    },
    {
     "name": "stdout",
     "output_type": "stream",
     "text": [
      "71/71 [==============================] - 21s 292ms/step - loss: 3.7179 - accuracy: 0.5910\n",
      "Epoch 374/1600\n",
      "71/71 [==============================] - ETA: 0s - loss: 3.3558 - accuracy: 0.6075"
     ]
    },
    {
     "name": "stderr",
     "output_type": "stream",
     "text": [
      "2024-03-11 18:55 INFO End of Epoch 374 - Loss: 3.3558\n"
     ]
    },
    {
     "name": "stdout",
     "output_type": "stream",
     "text": [
      "71/71 [==============================] - 21s 292ms/step - loss: 3.3558 - accuracy: 0.6075\n",
      "Epoch 375/1600\n",
      "71/71 [==============================] - ETA: 0s - loss: 6.7624 - accuracy: 0.5794"
     ]
    },
    {
     "name": "stderr",
     "output_type": "stream",
     "text": [
      "2024-03-11 18:56 INFO End of Epoch 375 - Loss: 6.7624\n"
     ]
    },
    {
     "name": "stdout",
     "output_type": "stream",
     "text": [
      "71/71 [==============================] - 21s 292ms/step - loss: 6.7624 - accuracy: 0.5794\n",
      "Epoch 376/1600\n",
      "71/71 [==============================] - ETA: 0s - loss: 7.3062 - accuracy: 0.5659"
     ]
    },
    {
     "name": "stderr",
     "output_type": "stream",
     "text": [
      "2024-03-11 18:56 INFO End of Epoch 376 - Loss: 7.3062\n"
     ]
    },
    {
     "name": "stdout",
     "output_type": "stream",
     "text": [
      "71/71 [==============================] - 21s 292ms/step - loss: 7.3062 - accuracy: 0.5659\n",
      "Epoch 377/1600\n",
      "71/71 [==============================] - ETA: 0s - loss: 5.6376 - accuracy: 0.5595"
     ]
    },
    {
     "name": "stderr",
     "output_type": "stream",
     "text": [
      "2024-03-11 18:57 INFO End of Epoch 377 - Loss: 5.6376\n"
     ]
    },
    {
     "name": "stdout",
     "output_type": "stream",
     "text": [
      "71/71 [==============================] - 21s 294ms/step - loss: 5.6376 - accuracy: 0.5595\n",
      "Epoch 378/1600\n",
      "71/71 [==============================] - ETA: 0s - loss: 4.2750 - accuracy: 0.5760"
     ]
    },
    {
     "name": "stderr",
     "output_type": "stream",
     "text": [
      "2024-03-11 18:57 INFO End of Epoch 378 - Loss: 4.2750\n"
     ]
    },
    {
     "name": "stdout",
     "output_type": "stream",
     "text": [
      "71/71 [==============================] - 21s 294ms/step - loss: 4.2750 - accuracy: 0.5760\n",
      "Epoch 379/1600\n",
      "71/71 [==============================] - ETA: 0s - loss: 4.0581 - accuracy: 0.5733"
     ]
    },
    {
     "name": "stderr",
     "output_type": "stream",
     "text": [
      "2024-03-11 18:57 INFO End of Epoch 379 - Loss: 4.0581\n"
     ]
    },
    {
     "name": "stdout",
     "output_type": "stream",
     "text": [
      "71/71 [==============================] - 21s 293ms/step - loss: 4.0581 - accuracy: 0.5733\n",
      "Epoch 380/1600\n",
      "71/71 [==============================] - ETA: 0s - loss: 3.6518 - accuracy: 0.5886"
     ]
    },
    {
     "name": "stderr",
     "output_type": "stream",
     "text": [
      "2024-03-11 18:58 INFO End of Epoch 380 - Loss: 3.6518\n"
     ]
    },
    {
     "name": "stdout",
     "output_type": "stream",
     "text": [
      "71/71 [==============================] - 21s 293ms/step - loss: 3.6518 - accuracy: 0.5886\n",
      "Epoch 381/1600\n",
      "71/71 [==============================] - ETA: 0s - loss: 5.1715 - accuracy: 0.5808"
     ]
    },
    {
     "name": "stderr",
     "output_type": "stream",
     "text": [
      "2024-03-11 18:58 INFO End of Epoch 381 - Loss: 5.1715\n"
     ]
    },
    {
     "name": "stdout",
     "output_type": "stream",
     "text": [
      "71/71 [==============================] - 21s 293ms/step - loss: 5.1715 - accuracy: 0.5808\n",
      "Epoch 382/1600\n",
      "71/71 [==============================] - ETA: 0s - loss: 4.5685 - accuracy: 0.5698"
     ]
    },
    {
     "name": "stderr",
     "output_type": "stream",
     "text": [
      "2024-03-11 18:59 INFO End of Epoch 382 - Loss: 4.5685\n"
     ]
    },
    {
     "name": "stdout",
     "output_type": "stream",
     "text": [
      "71/71 [==============================] - 21s 292ms/step - loss: 4.5685 - accuracy: 0.5698\n",
      "Epoch 383/1600\n",
      "71/71 [==============================] - ETA: 0s - loss: 3.2401 - accuracy: 0.5788"
     ]
    },
    {
     "name": "stderr",
     "output_type": "stream",
     "text": [
      "2024-03-11 18:59 INFO End of Epoch 383 - Loss: 3.2401\n"
     ]
    },
    {
     "name": "stdout",
     "output_type": "stream",
     "text": [
      "71/71 [==============================] - 21s 291ms/step - loss: 3.2401 - accuracy: 0.5788\n",
      "Epoch 384/1600\n",
      "71/71 [==============================] - ETA: 0s - loss: 2.9320 - accuracy: 0.5718"
     ]
    },
    {
     "name": "stderr",
     "output_type": "stream",
     "text": [
      "2024-03-11 19:00 INFO End of Epoch 384 - Loss: 2.9320\n"
     ]
    },
    {
     "name": "stdout",
     "output_type": "stream",
     "text": [
      "71/71 [==============================] - 21s 293ms/step - loss: 2.9320 - accuracy: 0.5718\n",
      "Epoch 385/1600\n",
      "71/71 [==============================] - ETA: 0s - loss: 2.4447 - accuracy: 0.5876"
     ]
    },
    {
     "name": "stderr",
     "output_type": "stream",
     "text": [
      "2024-03-11 19:00 INFO End of Epoch 385 - Loss: 2.4447\n"
     ]
    },
    {
     "name": "stdout",
     "output_type": "stream",
     "text": [
      "71/71 [==============================] - 21s 294ms/step - loss: 2.4447 - accuracy: 0.5876\n",
      "Epoch 386/1600\n",
      "71/71 [==============================] - ETA: 0s - loss: 2.4711 - accuracy: 0.5859"
     ]
    },
    {
     "name": "stderr",
     "output_type": "stream",
     "text": [
      "2024-03-11 19:01 INFO End of Epoch 386 - Loss: 2.4711\n"
     ]
    },
    {
     "name": "stdout",
     "output_type": "stream",
     "text": [
      "71/71 [==============================] - 21s 293ms/step - loss: 2.4711 - accuracy: 0.5859\n",
      "Epoch 387/1600\n",
      "71/71 [==============================] - ETA: 0s - loss: 4.7441 - accuracy: 0.6070"
     ]
    },
    {
     "name": "stderr",
     "output_type": "stream",
     "text": [
      "2024-03-11 19:01 INFO End of Epoch 387 - Loss: 4.7441\n"
     ]
    },
    {
     "name": "stdout",
     "output_type": "stream",
     "text": [
      "71/71 [==============================] - 21s 291ms/step - loss: 4.7441 - accuracy: 0.6070\n",
      "Epoch 388/1600\n",
      "71/71 [==============================] - ETA: 0s - loss: 5.7546 - accuracy: 0.5903"
     ]
    },
    {
     "name": "stderr",
     "output_type": "stream",
     "text": [
      "2024-03-11 19:01 INFO End of Epoch 388 - Loss: 5.7546\n"
     ]
    },
    {
     "name": "stdout",
     "output_type": "stream",
     "text": [
      "71/71 [==============================] - 21s 293ms/step - loss: 5.7546 - accuracy: 0.5903\n",
      "Epoch 389/1600\n",
      "71/71 [==============================] - ETA: 0s - loss: 7.3438 - accuracy: 0.5789"
     ]
    },
    {
     "name": "stderr",
     "output_type": "stream",
     "text": [
      "2024-03-11 19:02 INFO End of Epoch 389 - Loss: 7.3438\n"
     ]
    },
    {
     "name": "stdout",
     "output_type": "stream",
     "text": [
      "71/71 [==============================] - 21s 294ms/step - loss: 7.3438 - accuracy: 0.5789\n",
      "Epoch 390/1600\n",
      "71/71 [==============================] - ETA: 0s - loss: 6.8386 - accuracy: 0.5765"
     ]
    },
    {
     "name": "stderr",
     "output_type": "stream",
     "text": [
      "2024-03-11 19:02 INFO End of Epoch 390 - Loss: 6.8386\n"
     ]
    },
    {
     "name": "stdout",
     "output_type": "stream",
     "text": [
      "71/71 [==============================] - 21s 292ms/step - loss: 6.8386 - accuracy: 0.5765\n",
      "Epoch 391/1600\n",
      "71/71 [==============================] - ETA: 0s - loss: 9.8807 - accuracy: 0.5741"
     ]
    },
    {
     "name": "stderr",
     "output_type": "stream",
     "text": [
      "2024-03-11 19:03 INFO End of Epoch 391 - Loss: 9.8807\n"
     ]
    },
    {
     "name": "stdout",
     "output_type": "stream",
     "text": [
      "71/71 [==============================] - 21s 293ms/step - loss: 9.8807 - accuracy: 0.5741\n",
      "Epoch 392/1600\n",
      "71/71 [==============================] - ETA: 0s - loss: 8.7983 - accuracy: 0.5788"
     ]
    },
    {
     "name": "stderr",
     "output_type": "stream",
     "text": [
      "2024-03-11 19:03 INFO End of Epoch 392 - Loss: 8.7983\n"
     ]
    },
    {
     "name": "stdout",
     "output_type": "stream",
     "text": [
      "71/71 [==============================] - 21s 292ms/step - loss: 8.7983 - accuracy: 0.5788\n",
      "Epoch 393/1600\n",
      "71/71 [==============================] - ETA: 0s - loss: 5.7120 - accuracy: 0.6014"
     ]
    },
    {
     "name": "stderr",
     "output_type": "stream",
     "text": [
      "2024-03-11 19:04 INFO End of Epoch 393 - Loss: 5.7120\n"
     ]
    },
    {
     "name": "stdout",
     "output_type": "stream",
     "text": [
      "71/71 [==============================] - 21s 292ms/step - loss: 5.7120 - accuracy: 0.6014\n",
      "Epoch 394/1600\n",
      "71/71 [==============================] - ETA: 0s - loss: 5.6434 - accuracy: 0.5775"
     ]
    },
    {
     "name": "stderr",
     "output_type": "stream",
     "text": [
      "2024-03-11 19:04 INFO End of Epoch 394 - Loss: 5.6434\n"
     ]
    },
    {
     "name": "stdout",
     "output_type": "stream",
     "text": [
      "71/71 [==============================] - 21s 292ms/step - loss: 5.6434 - accuracy: 0.5775\n",
      "Epoch 395/1600\n",
      "71/71 [==============================] - ETA: 0s - loss: 3.8975 - accuracy: 0.5809"
     ]
    },
    {
     "name": "stderr",
     "output_type": "stream",
     "text": [
      "2024-03-11 19:05 INFO End of Epoch 395 - Loss: 3.8975\n"
     ]
    },
    {
     "name": "stdout",
     "output_type": "stream",
     "text": [
      "71/71 [==============================] - 21s 292ms/step - loss: 3.8975 - accuracy: 0.5809\n",
      "Epoch 396/1600\n",
      "71/71 [==============================] - ETA: 0s - loss: 4.0149 - accuracy: 0.5765"
     ]
    },
    {
     "name": "stderr",
     "output_type": "stream",
     "text": [
      "2024-03-11 19:05 INFO End of Epoch 396 - Loss: 4.0149\n"
     ]
    },
    {
     "name": "stdout",
     "output_type": "stream",
     "text": [
      "71/71 [==============================] - 21s 293ms/step - loss: 4.0149 - accuracy: 0.5765\n",
      "Epoch 397/1600\n",
      "71/71 [==============================] - ETA: 0s - loss: 3.3249 - accuracy: 0.5744"
     ]
    },
    {
     "name": "stderr",
     "output_type": "stream",
     "text": [
      "2024-03-11 19:05 INFO End of Epoch 397 - Loss: 3.3249\n"
     ]
    },
    {
     "name": "stdout",
     "output_type": "stream",
     "text": [
      "71/71 [==============================] - 21s 293ms/step - loss: 3.3249 - accuracy: 0.5744\n",
      "Epoch 398/1600\n",
      "71/71 [==============================] - ETA: 0s - loss: 5.6137 - accuracy: 0.5480"
     ]
    },
    {
     "name": "stderr",
     "output_type": "stream",
     "text": [
      "2024-03-11 19:06 INFO End of Epoch 398 - Loss: 5.6137\n"
     ]
    },
    {
     "name": "stdout",
     "output_type": "stream",
     "text": [
      "71/71 [==============================] - 21s 293ms/step - loss: 5.6137 - accuracy: 0.5480\n",
      "Epoch 399/1600\n",
      "71/71 [==============================] - ETA: 0s - loss: 3.6834 - accuracy: 0.5901"
     ]
    },
    {
     "name": "stderr",
     "output_type": "stream",
     "text": [
      "2024-03-11 19:06 INFO End of Epoch 399 - Loss: 3.6834\n"
     ]
    },
    {
     "name": "stdout",
     "output_type": "stream",
     "text": [
      "71/71 [==============================] - 21s 292ms/step - loss: 3.6834 - accuracy: 0.5901\n",
      "Epoch 400/1600\n",
      "71/71 [==============================] - ETA: 0s - loss: 2.6073 - accuracy: 0.5785"
     ]
    },
    {
     "name": "stderr",
     "output_type": "stream",
     "text": [
      "2024-03-11 19:07 INFO End of Epoch 400 - Loss: 2.6073\n"
     ]
    },
    {
     "name": "stdout",
     "output_type": "stream",
     "text": [
      "71/71 [==============================] - 21s 291ms/step - loss: 2.6073 - accuracy: 0.5785\n",
      "Epoch 401/1600\n",
      "71/71 [==============================] - ETA: 0s - loss: 1.6751 - accuracy: 0.6107"
     ]
    },
    {
     "name": "stderr",
     "output_type": "stream",
     "text": [
      "2024-03-11 19:07 INFO End of Epoch 401 - Loss: 1.6751\n"
     ]
    },
    {
     "name": "stdout",
     "output_type": "stream",
     "text": [
      "71/71 [==============================] - 21s 291ms/step - loss: 1.6751 - accuracy: 0.6107\n",
      "Epoch 402/1600\n",
      "71/71 [==============================] - ETA: 0s - loss: 1.5627 - accuracy: 0.6099"
     ]
    },
    {
     "name": "stderr",
     "output_type": "stream",
     "text": [
      "2024-03-11 19:08 INFO End of Epoch 402 - Loss: 1.5627\n"
     ]
    },
    {
     "name": "stdout",
     "output_type": "stream",
     "text": [
      "71/71 [==============================] - 21s 294ms/step - loss: 1.5627 - accuracy: 0.6099\n",
      "Epoch 403/1600\n",
      "71/71 [==============================] - ETA: 0s - loss: 2.2496 - accuracy: 0.5838"
     ]
    },
    {
     "name": "stderr",
     "output_type": "stream",
     "text": [
      "2024-03-11 19:08 INFO End of Epoch 403 - Loss: 2.2496\n"
     ]
    },
    {
     "name": "stdout",
     "output_type": "stream",
     "text": [
      "71/71 [==============================] - 21s 293ms/step - loss: 2.2496 - accuracy: 0.5838\n",
      "Epoch 404/1600\n",
      "71/71 [==============================] - ETA: 0s - loss: 3.5190 - accuracy: 0.5818"
     ]
    },
    {
     "name": "stderr",
     "output_type": "stream",
     "text": [
      "2024-03-11 19:09 INFO End of Epoch 404 - Loss: 3.5190\n"
     ]
    },
    {
     "name": "stdout",
     "output_type": "stream",
     "text": [
      "71/71 [==============================] - 21s 292ms/step - loss: 3.5190 - accuracy: 0.5818\n",
      "Epoch 405/1600\n",
      "71/71 [==============================] - ETA: 0s - loss: 9.3664 - accuracy: 0.5930"
     ]
    },
    {
     "name": "stderr",
     "output_type": "stream",
     "text": [
      "2024-03-11 19:09 INFO End of Epoch 405 - Loss: 9.3664\n"
     ]
    },
    {
     "name": "stdout",
     "output_type": "stream",
     "text": [
      "71/71 [==============================] - 21s 294ms/step - loss: 9.3664 - accuracy: 0.5930\n",
      "Epoch 406/1600\n",
      "71/71 [==============================] - ETA: 0s - loss: 12.7377 - accuracy: 0.5829"
     ]
    },
    {
     "name": "stderr",
     "output_type": "stream",
     "text": [
      "2024-03-11 19:09 INFO End of Epoch 406 - Loss: 12.7377\n"
     ]
    },
    {
     "name": "stdout",
     "output_type": "stream",
     "text": [
      "71/71 [==============================] - 21s 292ms/step - loss: 12.7377 - accuracy: 0.5829\n",
      "Epoch 407/1600\n",
      "71/71 [==============================] - ETA: 0s - loss: 10.3960 - accuracy: 0.5750"
     ]
    },
    {
     "name": "stderr",
     "output_type": "stream",
     "text": [
      "2024-03-11 19:10 INFO End of Epoch 407 - Loss: 10.3960\n"
     ]
    },
    {
     "name": "stdout",
     "output_type": "stream",
     "text": [
      "71/71 [==============================] - 21s 293ms/step - loss: 10.3960 - accuracy: 0.5750\n",
      "Epoch 408/1600\n",
      "71/71 [==============================] - ETA: 0s - loss: 7.1541 - accuracy: 0.6068"
     ]
    },
    {
     "name": "stderr",
     "output_type": "stream",
     "text": [
      "2024-03-11 19:10 INFO End of Epoch 408 - Loss: 7.1541\n"
     ]
    },
    {
     "name": "stdout",
     "output_type": "stream",
     "text": [
      "71/71 [==============================] - 21s 291ms/step - loss: 7.1541 - accuracy: 0.6068\n",
      "Epoch 409/1600\n",
      "71/71 [==============================] - ETA: 0s - loss: 8.2487 - accuracy: 0.5757"
     ]
    },
    {
     "name": "stderr",
     "output_type": "stream",
     "text": [
      "2024-03-11 19:11 INFO End of Epoch 409 - Loss: 8.2487\n"
     ]
    },
    {
     "name": "stdout",
     "output_type": "stream",
     "text": [
      "71/71 [==============================] - 21s 291ms/step - loss: 8.2487 - accuracy: 0.5757\n",
      "Epoch 410/1600\n",
      "71/71 [==============================] - ETA: 0s - loss: 5.6554 - accuracy: 0.5927"
     ]
    },
    {
     "name": "stderr",
     "output_type": "stream",
     "text": [
      "2024-03-11 19:11 INFO End of Epoch 410 - Loss: 5.6554\n"
     ]
    },
    {
     "name": "stdout",
     "output_type": "stream",
     "text": [
      "71/71 [==============================] - 21s 293ms/step - loss: 5.6554 - accuracy: 0.5927\n",
      "Epoch 411/1600\n",
      "71/71 [==============================] - ETA: 0s - loss: 4.2132 - accuracy: 0.5889"
     ]
    },
    {
     "name": "stderr",
     "output_type": "stream",
     "text": [
      "2024-03-11 19:12 INFO End of Epoch 411 - Loss: 4.2132\n"
     ]
    },
    {
     "name": "stdout",
     "output_type": "stream",
     "text": [
      "71/71 [==============================] - 21s 293ms/step - loss: 4.2132 - accuracy: 0.5889\n",
      "Epoch 412/1600\n",
      "71/71 [==============================] - ETA: 0s - loss: 3.6223 - accuracy: 0.5894"
     ]
    },
    {
     "name": "stderr",
     "output_type": "stream",
     "text": [
      "2024-03-11 19:12 INFO End of Epoch 412 - Loss: 3.6223\n"
     ]
    },
    {
     "name": "stdout",
     "output_type": "stream",
     "text": [
      "71/71 [==============================] - 21s 293ms/step - loss: 3.6223 - accuracy: 0.5894\n",
      "Epoch 413/1600\n",
      "71/71 [==============================] - ETA: 0s - loss: 2.7035 - accuracy: 0.6015"
     ]
    },
    {
     "name": "stderr",
     "output_type": "stream",
     "text": [
      "2024-03-11 19:13 INFO End of Epoch 413 - Loss: 2.7035\n"
     ]
    },
    {
     "name": "stdout",
     "output_type": "stream",
     "text": [
      "71/71 [==============================] - 21s 293ms/step - loss: 2.7035 - accuracy: 0.6015\n",
      "Epoch 414/1600\n",
      "71/71 [==============================] - ETA: 0s - loss: 2.0096 - accuracy: 0.6249"
     ]
    },
    {
     "name": "stderr",
     "output_type": "stream",
     "text": [
      "2024-03-11 19:13 INFO End of Epoch 414 - Loss: 2.0096\n"
     ]
    },
    {
     "name": "stdout",
     "output_type": "stream",
     "text": [
      "71/71 [==============================] - 21s 293ms/step - loss: 2.0096 - accuracy: 0.6249\n",
      "Epoch 415/1600\n",
      "71/71 [==============================] - ETA: 0s - loss: 1.8851 - accuracy: 0.5964"
     ]
    },
    {
     "name": "stderr",
     "output_type": "stream",
     "text": [
      "2024-03-11 19:13 INFO End of Epoch 415 - Loss: 1.8851\n"
     ]
    },
    {
     "name": "stdout",
     "output_type": "stream",
     "text": [
      "71/71 [==============================] - 21s 292ms/step - loss: 1.8851 - accuracy: 0.5964\n",
      "Epoch 416/1600\n",
      "71/71 [==============================] - ETA: 0s - loss: 2.2923 - accuracy: 0.5914"
     ]
    },
    {
     "name": "stderr",
     "output_type": "stream",
     "text": [
      "2024-03-11 19:14 INFO End of Epoch 416 - Loss: 2.2923\n"
     ]
    },
    {
     "name": "stdout",
     "output_type": "stream",
     "text": [
      "71/71 [==============================] - 21s 292ms/step - loss: 2.2923 - accuracy: 0.5914\n",
      "Epoch 417/1600\n",
      "71/71 [==============================] - ETA: 0s - loss: 2.6258 - accuracy: 0.5887"
     ]
    },
    {
     "name": "stderr",
     "output_type": "stream",
     "text": [
      "2024-03-11 19:14 INFO End of Epoch 417 - Loss: 2.6258\n"
     ]
    },
    {
     "name": "stdout",
     "output_type": "stream",
     "text": [
      "71/71 [==============================] - 21s 295ms/step - loss: 2.6258 - accuracy: 0.5887\n",
      "Epoch 418/1600\n",
      "71/71 [==============================] - ETA: 0s - loss: 2.1364 - accuracy: 0.6122"
     ]
    },
    {
     "name": "stderr",
     "output_type": "stream",
     "text": [
      "2024-03-11 19:15 INFO End of Epoch 418 - Loss: 2.1364\n"
     ]
    },
    {
     "name": "stdout",
     "output_type": "stream",
     "text": [
      "71/71 [==============================] - 21s 291ms/step - loss: 2.1364 - accuracy: 0.6122\n",
      "Epoch 419/1600\n",
      "71/71 [==============================] - ETA: 0s - loss: 2.4442 - accuracy: 0.6103"
     ]
    },
    {
     "name": "stderr",
     "output_type": "stream",
     "text": [
      "2024-03-11 19:15 INFO End of Epoch 419 - Loss: 2.4442\n"
     ]
    },
    {
     "name": "stdout",
     "output_type": "stream",
     "text": [
      "71/71 [==============================] - 21s 293ms/step - loss: 2.4442 - accuracy: 0.6103\n",
      "Epoch 420/1600\n",
      "71/71 [==============================] - ETA: 0s - loss: 3.5994 - accuracy: 0.5882"
     ]
    },
    {
     "name": "stderr",
     "output_type": "stream",
     "text": [
      "2024-03-11 19:16 INFO End of Epoch 420 - Loss: 3.5994\n"
     ]
    },
    {
     "name": "stdout",
     "output_type": "stream",
     "text": [
      "71/71 [==============================] - 21s 293ms/step - loss: 3.5994 - accuracy: 0.5882\n",
      "Epoch 421/1600\n",
      "71/71 [==============================] - ETA: 0s - loss: 5.7736 - accuracy: 0.5887"
     ]
    },
    {
     "name": "stderr",
     "output_type": "stream",
     "text": [
      "2024-03-11 19:16 INFO End of Epoch 421 - Loss: 5.7736\n"
     ]
    },
    {
     "name": "stdout",
     "output_type": "stream",
     "text": [
      "71/71 [==============================] - 21s 292ms/step - loss: 5.7736 - accuracy: 0.5887\n",
      "Epoch 422/1600\n",
      "71/71 [==============================] - ETA: 0s - loss: 6.6780 - accuracy: 0.5923"
     ]
    },
    {
     "name": "stderr",
     "output_type": "stream",
     "text": [
      "2024-03-11 19:17 INFO End of Epoch 422 - Loss: 6.6780\n"
     ]
    },
    {
     "name": "stdout",
     "output_type": "stream",
     "text": [
      "71/71 [==============================] - 21s 290ms/step - loss: 6.6780 - accuracy: 0.5923\n",
      "Epoch 423/1600\n",
      "71/71 [==============================] - ETA: 0s - loss: 8.0484 - accuracy: 0.5916"
     ]
    },
    {
     "name": "stderr",
     "output_type": "stream",
     "text": [
      "2024-03-11 19:17 INFO End of Epoch 423 - Loss: 8.0484\n"
     ]
    },
    {
     "name": "stdout",
     "output_type": "stream",
     "text": [
      "71/71 [==============================] - 21s 294ms/step - loss: 8.0484 - accuracy: 0.5916\n",
      "Epoch 424/1600\n",
      "71/71 [==============================] - ETA: 0s - loss: 12.1462 - accuracy: 0.5894"
     ]
    },
    {
     "name": "stderr",
     "output_type": "stream",
     "text": [
      "2024-03-11 19:17 INFO End of Epoch 424 - Loss: 12.1462\n"
     ]
    },
    {
     "name": "stdout",
     "output_type": "stream",
     "text": [
      "71/71 [==============================] - 21s 290ms/step - loss: 12.1462 - accuracy: 0.5894\n",
      "Epoch 425/1600\n",
      "71/71 [==============================] - ETA: 0s - loss: 10.4590 - accuracy: 0.6048"
     ]
    },
    {
     "name": "stderr",
     "output_type": "stream",
     "text": [
      "2024-03-11 19:18 INFO End of Epoch 425 - Loss: 10.4590\n"
     ]
    },
    {
     "name": "stdout",
     "output_type": "stream",
     "text": [
      "71/71 [==============================] - 21s 292ms/step - loss: 10.4590 - accuracy: 0.6048\n",
      "Epoch 426/1600\n",
      "71/71 [==============================] - ETA: 0s - loss: 8.9212 - accuracy: 0.5887"
     ]
    },
    {
     "name": "stderr",
     "output_type": "stream",
     "text": [
      "2024-03-11 19:18 INFO End of Epoch 426 - Loss: 8.9212\n"
     ]
    },
    {
     "name": "stdout",
     "output_type": "stream",
     "text": [
      "71/71 [==============================] - 21s 292ms/step - loss: 8.9212 - accuracy: 0.5887\n",
      "Epoch 427/1600\n",
      "71/71 [==============================] - ETA: 0s - loss: 9.5761 - accuracy: 0.5704"
     ]
    },
    {
     "name": "stderr",
     "output_type": "stream",
     "text": [
      "2024-03-11 19:19 INFO End of Epoch 427 - Loss: 9.5761\n"
     ]
    },
    {
     "name": "stdout",
     "output_type": "stream",
     "text": [
      "71/71 [==============================] - 20s 287ms/step - loss: 9.5761 - accuracy: 0.5704\n",
      "Epoch 428/1600\n",
      "71/71 [==============================] - ETA: 0s - loss: 6.1661 - accuracy: 0.5727"
     ]
    },
    {
     "name": "stderr",
     "output_type": "stream",
     "text": [
      "2024-03-11 19:19 INFO End of Epoch 428 - Loss: 6.1661\n"
     ]
    },
    {
     "name": "stdout",
     "output_type": "stream",
     "text": [
      "71/71 [==============================] - 21s 293ms/step - loss: 6.1661 - accuracy: 0.5727\n",
      "Epoch 429/1600\n",
      "71/71 [==============================] - ETA: 0s - loss: 3.1738 - accuracy: 0.5914"
     ]
    },
    {
     "name": "stderr",
     "output_type": "stream",
     "text": [
      "2024-03-11 19:20 INFO End of Epoch 429 - Loss: 3.1738\n"
     ]
    },
    {
     "name": "stdout",
     "output_type": "stream",
     "text": [
      "71/71 [==============================] - 21s 292ms/step - loss: 3.1738 - accuracy: 0.5914\n",
      "Epoch 430/1600\n",
      "71/71 [==============================] - ETA: 0s - loss: 2.2995 - accuracy: 0.5804"
     ]
    },
    {
     "name": "stderr",
     "output_type": "stream",
     "text": [
      "2024-03-11 19:20 INFO End of Epoch 430 - Loss: 2.2995\n"
     ]
    },
    {
     "name": "stdout",
     "output_type": "stream",
     "text": [
      "71/71 [==============================] - 21s 291ms/step - loss: 2.2995 - accuracy: 0.5804\n",
      "Epoch 431/1600\n",
      "71/71 [==============================] - ETA: 0s - loss: 1.3513 - accuracy: 0.6012"
     ]
    },
    {
     "name": "stderr",
     "output_type": "stream",
     "text": [
      "2024-03-11 19:21 INFO End of Epoch 431 - Loss: 1.3513\n"
     ]
    },
    {
     "name": "stdout",
     "output_type": "stream",
     "text": [
      "71/71 [==============================] - 21s 290ms/step - loss: 1.3513 - accuracy: 0.6012\n",
      "Epoch 432/1600\n",
      "71/71 [==============================] - ETA: 0s - loss: 1.4544 - accuracy: 0.6119"
     ]
    },
    {
     "name": "stderr",
     "output_type": "stream",
     "text": [
      "2024-03-11 19:21 INFO End of Epoch 432 - Loss: 1.4544\n"
     ]
    },
    {
     "name": "stdout",
     "output_type": "stream",
     "text": [
      "71/71 [==============================] - 21s 291ms/step - loss: 1.4544 - accuracy: 0.6119\n",
      "Epoch 433/1600\n",
      "71/71 [==============================] - ETA: 0s - loss: 1.3093 - accuracy: 0.6053"
     ]
    },
    {
     "name": "stderr",
     "output_type": "stream",
     "text": [
      "2024-03-11 19:21 INFO End of Epoch 433 - Loss: 1.3093\n"
     ]
    },
    {
     "name": "stdout",
     "output_type": "stream",
     "text": [
      "71/71 [==============================] - 21s 293ms/step - loss: 1.3093 - accuracy: 0.6053\n",
      "Epoch 434/1600\n",
      "71/71 [==============================] - ETA: 0s - loss: 1.3828 - accuracy: 0.6248"
     ]
    },
    {
     "name": "stderr",
     "output_type": "stream",
     "text": [
      "2024-03-11 19:22 INFO End of Epoch 434 - Loss: 1.3828\n"
     ]
    },
    {
     "name": "stdout",
     "output_type": "stream",
     "text": [
      "71/71 [==============================] - 21s 292ms/step - loss: 1.3828 - accuracy: 0.6248\n",
      "Epoch 435/1600\n",
      "71/71 [==============================] - ETA: 0s - loss: 1.9629 - accuracy: 0.6140"
     ]
    },
    {
     "name": "stderr",
     "output_type": "stream",
     "text": [
      "2024-03-11 19:22 INFO End of Epoch 435 - Loss: 1.9629\n"
     ]
    },
    {
     "name": "stdout",
     "output_type": "stream",
     "text": [
      "71/71 [==============================] - 21s 289ms/step - loss: 1.9629 - accuracy: 0.6140\n",
      "Epoch 436/1600\n",
      "71/71 [==============================] - ETA: 0s - loss: 3.4676 - accuracy: 0.5951"
     ]
    },
    {
     "name": "stderr",
     "output_type": "stream",
     "text": [
      "2024-03-11 19:23 INFO End of Epoch 436 - Loss: 3.4676\n"
     ]
    },
    {
     "name": "stdout",
     "output_type": "stream",
     "text": [
      "71/71 [==============================] - 21s 293ms/step - loss: 3.4676 - accuracy: 0.5951\n",
      "Epoch 437/1600\n",
      "71/71 [==============================] - ETA: 0s - loss: 9.4003 - accuracy: 0.6154"
     ]
    },
    {
     "name": "stderr",
     "output_type": "stream",
     "text": [
      "2024-03-11 19:23 INFO End of Epoch 437 - Loss: 9.4003\n"
     ]
    },
    {
     "name": "stdout",
     "output_type": "stream",
     "text": [
      "71/71 [==============================] - 21s 293ms/step - loss: 9.4003 - accuracy: 0.6154\n",
      "Epoch 438/1600\n",
      "71/71 [==============================] - ETA: 0s - loss: 11.6169 - accuracy: 0.5708"
     ]
    },
    {
     "name": "stderr",
     "output_type": "stream",
     "text": [
      "2024-03-11 19:24 INFO End of Epoch 438 - Loss: 11.6169\n"
     ]
    },
    {
     "name": "stdout",
     "output_type": "stream",
     "text": [
      "71/71 [==============================] - 21s 292ms/step - loss: 11.6169 - accuracy: 0.5708\n",
      "Epoch 439/1600\n",
      "71/71 [==============================] - ETA: 0s - loss: 11.0518 - accuracy: 0.5671"
     ]
    },
    {
     "name": "stderr",
     "output_type": "stream",
     "text": [
      "2024-03-11 19:24 INFO End of Epoch 439 - Loss: 11.0518\n"
     ]
    },
    {
     "name": "stdout",
     "output_type": "stream",
     "text": [
      "71/71 [==============================] - 21s 292ms/step - loss: 11.0518 - accuracy: 0.5671\n",
      "Epoch 440/1600\n",
      "71/71 [==============================] - ETA: 0s - loss: 7.5847 - accuracy: 0.5816"
     ]
    },
    {
     "name": "stderr",
     "output_type": "stream",
     "text": [
      "2024-03-11 19:25 INFO End of Epoch 440 - Loss: 7.5847\n"
     ]
    },
    {
     "name": "stdout",
     "output_type": "stream",
     "text": [
      "71/71 [==============================] - 21s 290ms/step - loss: 7.5847 - accuracy: 0.5816\n",
      "Epoch 441/1600\n",
      "71/71 [==============================] - ETA: 0s - loss: 6.8212 - accuracy: 0.5775"
     ]
    },
    {
     "name": "stderr",
     "output_type": "stream",
     "text": [
      "2024-03-11 19:25 INFO End of Epoch 441 - Loss: 6.8212\n"
     ]
    },
    {
     "name": "stdout",
     "output_type": "stream",
     "text": [
      "71/71 [==============================] - 21s 293ms/step - loss: 6.8212 - accuracy: 0.5775\n",
      "Epoch 442/1600\n",
      "71/71 [==============================] - ETA: 0s - loss: 5.1891 - accuracy: 0.5707"
     ]
    },
    {
     "name": "stderr",
     "output_type": "stream",
     "text": [
      "2024-03-11 19:25 INFO End of Epoch 442 - Loss: 5.1891\n"
     ]
    },
    {
     "name": "stdout",
     "output_type": "stream",
     "text": [
      "71/71 [==============================] - 21s 291ms/step - loss: 5.1891 - accuracy: 0.5707\n",
      "Epoch 443/1600\n",
      "71/71 [==============================] - ETA: 0s - loss: 2.8469 - accuracy: 0.6049"
     ]
    },
    {
     "name": "stderr",
     "output_type": "stream",
     "text": [
      "2024-03-11 19:26 INFO End of Epoch 443 - Loss: 2.8469\n"
     ]
    },
    {
     "name": "stdout",
     "output_type": "stream",
     "text": [
      "71/71 [==============================] - 21s 293ms/step - loss: 2.8469 - accuracy: 0.6049\n",
      "Epoch 444/1600\n",
      "71/71 [==============================] - ETA: 0s - loss: 2.8674 - accuracy: 0.5855"
     ]
    },
    {
     "name": "stderr",
     "output_type": "stream",
     "text": [
      "2024-03-11 19:26 INFO End of Epoch 444 - Loss: 2.8674\n"
     ]
    },
    {
     "name": "stdout",
     "output_type": "stream",
     "text": [
      "71/71 [==============================] - 21s 293ms/step - loss: 2.8674 - accuracy: 0.5855\n",
      "Epoch 445/1600\n",
      "71/71 [==============================] - ETA: 0s - loss: 4.4072 - accuracy: 0.5762"
     ]
    },
    {
     "name": "stderr",
     "output_type": "stream",
     "text": [
      "2024-03-11 19:27 INFO End of Epoch 445 - Loss: 4.4072\n"
     ]
    },
    {
     "name": "stdout",
     "output_type": "stream",
     "text": [
      "71/71 [==============================] - 21s 291ms/step - loss: 4.4072 - accuracy: 0.5762\n",
      "Epoch 446/1600\n",
      "71/71 [==============================] - ETA: 0s - loss: 3.4298 - accuracy: 0.5791"
     ]
    },
    {
     "name": "stderr",
     "output_type": "stream",
     "text": [
      "2024-03-11 19:27 INFO End of Epoch 446 - Loss: 3.4298\n"
     ]
    },
    {
     "name": "stdout",
     "output_type": "stream",
     "text": [
      "71/71 [==============================] - 21s 292ms/step - loss: 3.4298 - accuracy: 0.5791\n",
      "Epoch 447/1600\n",
      "71/71 [==============================] - ETA: 0s - loss: 2.6724 - accuracy: 0.5660"
     ]
    },
    {
     "name": "stderr",
     "output_type": "stream",
     "text": [
      "2024-03-11 19:28 INFO End of Epoch 447 - Loss: 2.6724\n"
     ]
    },
    {
     "name": "stdout",
     "output_type": "stream",
     "text": [
      "71/71 [==============================] - 21s 292ms/step - loss: 2.6724 - accuracy: 0.5660\n",
      "Epoch 448/1600\n",
      "71/71 [==============================] - ETA: 0s - loss: 3.5291 - accuracy: 0.5785"
     ]
    },
    {
     "name": "stderr",
     "output_type": "stream",
     "text": [
      "2024-03-11 19:28 INFO End of Epoch 448 - Loss: 3.5291\n"
     ]
    },
    {
     "name": "stdout",
     "output_type": "stream",
     "text": [
      "71/71 [==============================] - 21s 293ms/step - loss: 3.5291 - accuracy: 0.5785\n",
      "Epoch 449/1600\n",
      "71/71 [==============================] - ETA: 0s - loss: 7.1585 - accuracy: 0.5677"
     ]
    },
    {
     "name": "stderr",
     "output_type": "stream",
     "text": [
      "2024-03-11 19:29 INFO End of Epoch 449 - Loss: 7.1585\n"
     ]
    },
    {
     "name": "stdout",
     "output_type": "stream",
     "text": [
      "71/71 [==============================] - 21s 292ms/step - loss: 7.1585 - accuracy: 0.5677\n",
      "Epoch 450/1600\n",
      "71/71 [==============================] - ETA: 0s - loss: 5.7246 - accuracy: 0.5690"
     ]
    },
    {
     "name": "stderr",
     "output_type": "stream",
     "text": [
      "2024-03-11 19:29 INFO End of Epoch 450 - Loss: 5.7246\n"
     ]
    },
    {
     "name": "stdout",
     "output_type": "stream",
     "text": [
      "71/71 [==============================] - 21s 291ms/step - loss: 5.7246 - accuracy: 0.5690\n",
      "Epoch 451/1600\n",
      "71/71 [==============================] - ETA: 0s - loss: 4.5224 - accuracy: 0.5707"
     ]
    },
    {
     "name": "stderr",
     "output_type": "stream",
     "text": [
      "2024-03-11 19:29 INFO End of Epoch 451 - Loss: 4.5224\n"
     ]
    },
    {
     "name": "stdout",
     "output_type": "stream",
     "text": [
      "71/71 [==============================] - 21s 292ms/step - loss: 4.5224 - accuracy: 0.5707\n",
      "Epoch 452/1600\n",
      "71/71 [==============================] - ETA: 0s - loss: 3.4117 - accuracy: 0.5788"
     ]
    },
    {
     "name": "stderr",
     "output_type": "stream",
     "text": [
      "2024-03-11 19:30 INFO End of Epoch 452 - Loss: 3.4117\n"
     ]
    },
    {
     "name": "stdout",
     "output_type": "stream",
     "text": [
      "71/71 [==============================] - 21s 292ms/step - loss: 3.4117 - accuracy: 0.5788\n",
      "Epoch 453/1600\n",
      "71/71 [==============================] - ETA: 0s - loss: 3.4895 - accuracy: 0.5900"
     ]
    },
    {
     "name": "stderr",
     "output_type": "stream",
     "text": [
      "2024-03-11 19:30 INFO End of Epoch 453 - Loss: 3.4895\n"
     ]
    },
    {
     "name": "stdout",
     "output_type": "stream",
     "text": [
      "71/71 [==============================] - 21s 293ms/step - loss: 3.4895 - accuracy: 0.5900\n",
      "Epoch 454/1600\n",
      "71/71 [==============================] - ETA: 0s - loss: 4.3336 - accuracy: 0.5697"
     ]
    },
    {
     "name": "stderr",
     "output_type": "stream",
     "text": [
      "2024-03-11 19:31 INFO End of Epoch 454 - Loss: 4.3336\n"
     ]
    },
    {
     "name": "stdout",
     "output_type": "stream",
     "text": [
      "71/71 [==============================] - 21s 292ms/step - loss: 4.3336 - accuracy: 0.5697\n",
      "Epoch 455/1600\n",
      "71/71 [==============================] - ETA: 0s - loss: 6.7561 - accuracy: 0.5764"
     ]
    },
    {
     "name": "stderr",
     "output_type": "stream",
     "text": [
      "2024-03-11 19:31 INFO End of Epoch 455 - Loss: 6.7561\n"
     ]
    },
    {
     "name": "stdout",
     "output_type": "stream",
     "text": [
      "71/71 [==============================] - 21s 293ms/step - loss: 6.7561 - accuracy: 0.5764\n",
      "Epoch 456/1600\n",
      "71/71 [==============================] - ETA: 0s - loss: 6.4762 - accuracy: 0.5843"
     ]
    },
    {
     "name": "stderr",
     "output_type": "stream",
     "text": [
      "2024-03-11 19:32 INFO End of Epoch 456 - Loss: 6.4762\n"
     ]
    },
    {
     "name": "stdout",
     "output_type": "stream",
     "text": [
      "71/71 [==============================] - 21s 292ms/step - loss: 6.4762 - accuracy: 0.5843\n",
      "Epoch 457/1600\n",
      "71/71 [==============================] - ETA: 0s - loss: 5.5696 - accuracy: 0.5816"
     ]
    },
    {
     "name": "stderr",
     "output_type": "stream",
     "text": [
      "2024-03-11 19:32 INFO End of Epoch 457 - Loss: 5.5696\n"
     ]
    },
    {
     "name": "stdout",
     "output_type": "stream",
     "text": [
      "71/71 [==============================] - 21s 292ms/step - loss: 5.5696 - accuracy: 0.5816\n",
      "Epoch 458/1600\n",
      "71/71 [==============================] - ETA: 0s - loss: 8.4714 - accuracy: 0.5586"
     ]
    },
    {
     "name": "stderr",
     "output_type": "stream",
     "text": [
      "2024-03-11 19:33 INFO End of Epoch 458 - Loss: 8.4714\n"
     ]
    },
    {
     "name": "stdout",
     "output_type": "stream",
     "text": [
      "71/71 [==============================] - 21s 293ms/step - loss: 8.4714 - accuracy: 0.5586\n",
      "Epoch 459/1600\n",
      "71/71 [==============================] - ETA: 0s - loss: 7.2972 - accuracy: 0.5697"
     ]
    },
    {
     "name": "stderr",
     "output_type": "stream",
     "text": [
      "2024-03-11 19:33 INFO End of Epoch 459 - Loss: 7.2972\n"
     ]
    },
    {
     "name": "stdout",
     "output_type": "stream",
     "text": [
      "71/71 [==============================] - 21s 292ms/step - loss: 7.2972 - accuracy: 0.5697\n",
      "Epoch 460/1600\n",
      "71/71 [==============================] - ETA: 0s - loss: 5.8787 - accuracy: 0.5635"
     ]
    },
    {
     "name": "stderr",
     "output_type": "stream",
     "text": [
      "2024-03-11 19:34 INFO End of Epoch 460 - Loss: 5.8787\n"
     ]
    },
    {
     "name": "stdout",
     "output_type": "stream",
     "text": [
      "71/71 [==============================] - 21s 293ms/step - loss: 5.8787 - accuracy: 0.5635\n",
      "Epoch 461/1600\n",
      "71/71 [==============================] - ETA: 0s - loss: 3.9345 - accuracy: 0.5716"
     ]
    },
    {
     "name": "stderr",
     "output_type": "stream",
     "text": [
      "2024-03-11 19:34 INFO End of Epoch 461 - Loss: 3.9345\n"
     ]
    },
    {
     "name": "stdout",
     "output_type": "stream",
     "text": [
      "71/71 [==============================] - 21s 293ms/step - loss: 3.9345 - accuracy: 0.5716\n",
      "Epoch 462/1600\n",
      "71/71 [==============================] - ETA: 0s - loss: 2.7315 - accuracy: 0.5921"
     ]
    },
    {
     "name": "stderr",
     "output_type": "stream",
     "text": [
      "2024-03-11 19:34 INFO End of Epoch 462 - Loss: 2.7315\n"
     ]
    },
    {
     "name": "stdout",
     "output_type": "stream",
     "text": [
      "71/71 [==============================] - 21s 291ms/step - loss: 2.7315 - accuracy: 0.5921\n",
      "Epoch 463/1600\n",
      "71/71 [==============================] - ETA: 0s - loss: 2.4924 - accuracy: 0.5884"
     ]
    },
    {
     "name": "stderr",
     "output_type": "stream",
     "text": [
      "2024-03-11 19:35 INFO End of Epoch 463 - Loss: 2.4924\n"
     ]
    },
    {
     "name": "stdout",
     "output_type": "stream",
     "text": [
      "71/71 [==============================] - 21s 292ms/step - loss: 2.4924 - accuracy: 0.5884\n",
      "Epoch 464/1600\n",
      "71/71 [==============================] - ETA: 0s - loss: 2.9515 - accuracy: 0.5801"
     ]
    },
    {
     "name": "stderr",
     "output_type": "stream",
     "text": [
      "2024-03-11 19:35 INFO End of Epoch 464 - Loss: 2.9515\n"
     ]
    },
    {
     "name": "stdout",
     "output_type": "stream",
     "text": [
      "71/71 [==============================] - 21s 291ms/step - loss: 2.9515 - accuracy: 0.5801\n",
      "Epoch 465/1600\n",
      "71/71 [==============================] - ETA: 0s - loss: 3.7378 - accuracy: 0.5698"
     ]
    },
    {
     "name": "stderr",
     "output_type": "stream",
     "text": [
      "2024-03-11 19:36 INFO End of Epoch 465 - Loss: 3.7378\n"
     ]
    },
    {
     "name": "stdout",
     "output_type": "stream",
     "text": [
      "71/71 [==============================] - 21s 293ms/step - loss: 3.7378 - accuracy: 0.5698\n",
      "Epoch 466/1600\n",
      "71/71 [==============================] - ETA: 0s - loss: 2.4060 - accuracy: 0.5955"
     ]
    },
    {
     "name": "stderr",
     "output_type": "stream",
     "text": [
      "2024-03-11 19:36 INFO End of Epoch 466 - Loss: 2.4060\n"
     ]
    },
    {
     "name": "stdout",
     "output_type": "stream",
     "text": [
      "71/71 [==============================] - 21s 290ms/step - loss: 2.4060 - accuracy: 0.5955\n",
      "Epoch 467/1600\n",
      "71/71 [==============================] - ETA: 0s - loss: 2.5644 - accuracy: 0.5951"
     ]
    },
    {
     "name": "stderr",
     "output_type": "stream",
     "text": [
      "2024-03-11 19:37 INFO End of Epoch 467 - Loss: 2.5644\n"
     ]
    },
    {
     "name": "stdout",
     "output_type": "stream",
     "text": [
      "71/71 [==============================] - 21s 293ms/step - loss: 2.5644 - accuracy: 0.5951\n",
      "Epoch 468/1600\n",
      "71/71 [==============================] - ETA: 0s - loss: 4.4511 - accuracy: 0.5735"
     ]
    },
    {
     "name": "stderr",
     "output_type": "stream",
     "text": [
      "2024-03-11 19:37 INFO End of Epoch 468 - Loss: 4.4511\n"
     ]
    },
    {
     "name": "stdout",
     "output_type": "stream",
     "text": [
      "71/71 [==============================] - 21s 292ms/step - loss: 4.4511 - accuracy: 0.5735\n",
      "Epoch 469/1600\n",
      "71/71 [==============================] - ETA: 0s - loss: 5.5519 - accuracy: 0.5883"
     ]
    },
    {
     "name": "stderr",
     "output_type": "stream",
     "text": [
      "2024-03-11 19:38 INFO End of Epoch 469 - Loss: 5.5519\n"
     ]
    },
    {
     "name": "stdout",
     "output_type": "stream",
     "text": [
      "71/71 [==============================] - 21s 292ms/step - loss: 5.5519 - accuracy: 0.5883\n",
      "Epoch 470/1600\n",
      "71/71 [==============================] - ETA: 0s - loss: 6.6595 - accuracy: 0.5764"
     ]
    },
    {
     "name": "stderr",
     "output_type": "stream",
     "text": [
      "2024-03-11 19:38 INFO End of Epoch 470 - Loss: 6.6595\n"
     ]
    },
    {
     "name": "stdout",
     "output_type": "stream",
     "text": [
      "71/71 [==============================] - 21s 292ms/step - loss: 6.6595 - accuracy: 0.5764\n",
      "Epoch 471/1600\n",
      "71/71 [==============================] - ETA: 0s - loss: 7.8546 - accuracy: 0.5862"
     ]
    },
    {
     "name": "stderr",
     "output_type": "stream",
     "text": [
      "2024-03-11 19:38 INFO End of Epoch 471 - Loss: 7.8546\n"
     ]
    },
    {
     "name": "stdout",
     "output_type": "stream",
     "text": [
      "71/71 [==============================] - 21s 293ms/step - loss: 7.8546 - accuracy: 0.5862\n",
      "Epoch 472/1600\n",
      "71/71 [==============================] - ETA: 0s - loss: 13.0548 - accuracy: 0.5676"
     ]
    },
    {
     "name": "stderr",
     "output_type": "stream",
     "text": [
      "2024-03-11 19:39 INFO End of Epoch 472 - Loss: 13.0548\n"
     ]
    },
    {
     "name": "stdout",
     "output_type": "stream",
     "text": [
      "71/71 [==============================] - 21s 292ms/step - loss: 13.0548 - accuracy: 0.5676\n",
      "Epoch 473/1600\n",
      "71/71 [==============================] - ETA: 0s - loss: 11.1357 - accuracy: 0.5642"
     ]
    },
    {
     "name": "stderr",
     "output_type": "stream",
     "text": [
      "2024-03-11 19:39 INFO End of Epoch 473 - Loss: 11.1357\n"
     ]
    },
    {
     "name": "stdout",
     "output_type": "stream",
     "text": [
      "71/71 [==============================] - 21s 291ms/step - loss: 11.1357 - accuracy: 0.5642\n",
      "Epoch 474/1600\n",
      "71/71 [==============================] - ETA: 0s - loss: 7.9099 - accuracy: 0.5503"
     ]
    },
    {
     "name": "stderr",
     "output_type": "stream",
     "text": [
      "2024-03-11 19:40 INFO End of Epoch 474 - Loss: 7.9099\n"
     ]
    },
    {
     "name": "stdout",
     "output_type": "stream",
     "text": [
      "71/71 [==============================] - 21s 292ms/step - loss: 7.9099 - accuracy: 0.5503\n",
      "Epoch 475/1600\n",
      "71/71 [==============================] - ETA: 0s - loss: 5.6179 - accuracy: 0.5565"
     ]
    },
    {
     "name": "stderr",
     "output_type": "stream",
     "text": [
      "2024-03-11 19:40 INFO End of Epoch 475 - Loss: 5.6179\n"
     ]
    },
    {
     "name": "stdout",
     "output_type": "stream",
     "text": [
      "71/71 [==============================] - 21s 292ms/step - loss: 5.6179 - accuracy: 0.5565\n",
      "Epoch 476/1600\n",
      "71/71 [==============================] - ETA: 0s - loss: 3.4466 - accuracy: 0.5440"
     ]
    },
    {
     "name": "stderr",
     "output_type": "stream",
     "text": [
      "2024-03-11 19:41 INFO End of Epoch 476 - Loss: 3.4466\n"
     ]
    },
    {
     "name": "stdout",
     "output_type": "stream",
     "text": [
      "71/71 [==============================] - 21s 293ms/step - loss: 3.4466 - accuracy: 0.5440\n",
      "Epoch 477/1600\n",
      "71/71 [==============================] - ETA: 0s - loss: 2.1033 - accuracy: 0.5530"
     ]
    },
    {
     "name": "stderr",
     "output_type": "stream",
     "text": [
      "2024-03-11 19:41 INFO End of Epoch 477 - Loss: 2.1033\n"
     ]
    },
    {
     "name": "stdout",
     "output_type": "stream",
     "text": [
      "71/71 [==============================] - 21s 293ms/step - loss: 2.1033 - accuracy: 0.5530\n",
      "Epoch 478/1600\n",
      "71/71 [==============================] - ETA: 0s - loss: 1.7116 - accuracy: 0.5508"
     ]
    },
    {
     "name": "stderr",
     "output_type": "stream",
     "text": [
      "2024-03-11 19:42 INFO End of Epoch 478 - Loss: 1.7116\n"
     ]
    },
    {
     "name": "stdout",
     "output_type": "stream",
     "text": [
      "71/71 [==============================] - 21s 292ms/step - loss: 1.7116 - accuracy: 0.5508\n",
      "Epoch 479/1600\n",
      "71/71 [==============================] - ETA: 0s - loss: 1.5113 - accuracy: 0.5822"
     ]
    },
    {
     "name": "stderr",
     "output_type": "stream",
     "text": [
      "2024-03-11 19:42 INFO End of Epoch 479 - Loss: 1.5113\n"
     ]
    },
    {
     "name": "stdout",
     "output_type": "stream",
     "text": [
      "71/71 [==============================] - 21s 293ms/step - loss: 1.5113 - accuracy: 0.5822\n",
      "Epoch 480/1600\n",
      "71/71 [==============================] - ETA: 0s - loss: 1.5498 - accuracy: 0.5629"
     ]
    },
    {
     "name": "stderr",
     "output_type": "stream",
     "text": [
      "2024-03-11 19:42 INFO End of Epoch 480 - Loss: 1.5498\n"
     ]
    },
    {
     "name": "stdout",
     "output_type": "stream",
     "text": [
      "71/71 [==============================] - 21s 292ms/step - loss: 1.5498 - accuracy: 0.5629\n",
      "Epoch 481/1600\n",
      "71/71 [==============================] - ETA: 0s - loss: 1.3631 - accuracy: 0.5845"
     ]
    },
    {
     "name": "stderr",
     "output_type": "stream",
     "text": [
      "2024-03-11 19:43 INFO End of Epoch 481 - Loss: 1.3631\n"
     ]
    },
    {
     "name": "stdout",
     "output_type": "stream",
     "text": [
      "71/71 [==============================] - 21s 292ms/step - loss: 1.3631 - accuracy: 0.5845\n",
      "Epoch 482/1600\n",
      "71/71 [==============================] - ETA: 0s - loss: 1.5835 - accuracy: 0.5757"
     ]
    },
    {
     "name": "stderr",
     "output_type": "stream",
     "text": [
      "2024-03-11 19:43 INFO End of Epoch 482 - Loss: 1.5835\n"
     ]
    },
    {
     "name": "stdout",
     "output_type": "stream",
     "text": [
      "71/71 [==============================] - 21s 292ms/step - loss: 1.5835 - accuracy: 0.5757\n",
      "Epoch 483/1600\n",
      "71/71 [==============================] - ETA: 0s - loss: 2.3770 - accuracy: 0.5782"
     ]
    },
    {
     "name": "stderr",
     "output_type": "stream",
     "text": [
      "2024-03-11 19:44 INFO End of Epoch 483 - Loss: 2.3770\n"
     ]
    },
    {
     "name": "stdout",
     "output_type": "stream",
     "text": [
      "71/71 [==============================] - 21s 294ms/step - loss: 2.3770 - accuracy: 0.5782\n",
      "Epoch 484/1600\n",
      "71/71 [==============================] - ETA: 0s - loss: 6.0244 - accuracy: 0.5940"
     ]
    },
    {
     "name": "stderr",
     "output_type": "stream",
     "text": [
      "2024-03-11 19:44 INFO End of Epoch 484 - Loss: 6.0244\n"
     ]
    },
    {
     "name": "stdout",
     "output_type": "stream",
     "text": [
      "71/71 [==============================] - 21s 293ms/step - loss: 6.0244 - accuracy: 0.5940\n",
      "Epoch 485/1600\n",
      "71/71 [==============================] - ETA: 0s - loss: 6.3819 - accuracy: 0.5764"
     ]
    },
    {
     "name": "stderr",
     "output_type": "stream",
     "text": [
      "2024-03-11 19:45 INFO End of Epoch 485 - Loss: 6.3819\n"
     ]
    },
    {
     "name": "stdout",
     "output_type": "stream",
     "text": [
      "71/71 [==============================] - 21s 292ms/step - loss: 6.3819 - accuracy: 0.5764\n",
      "Epoch 486/1600\n",
      "71/71 [==============================] - ETA: 0s - loss: 6.5193 - accuracy: 0.5758"
     ]
    },
    {
     "name": "stderr",
     "output_type": "stream",
     "text": [
      "2024-03-11 19:45 INFO End of Epoch 486 - Loss: 6.5193\n"
     ]
    },
    {
     "name": "stdout",
     "output_type": "stream",
     "text": [
      "71/71 [==============================] - 21s 292ms/step - loss: 6.5193 - accuracy: 0.5758\n",
      "Epoch 487/1600\n",
      "71/71 [==============================] - ETA: 0s - loss: 8.8613 - accuracy: 0.5769"
     ]
    },
    {
     "name": "stderr",
     "output_type": "stream",
     "text": [
      "2024-03-11 19:46 INFO End of Epoch 487 - Loss: 8.8613\n"
     ]
    },
    {
     "name": "stdout",
     "output_type": "stream",
     "text": [
      "71/71 [==============================] - 21s 292ms/step - loss: 8.8613 - accuracy: 0.5769\n",
      "Epoch 488/1600\n",
      "71/71 [==============================] - ETA: 0s - loss: 10.1565 - accuracy: 0.5676"
     ]
    },
    {
     "name": "stderr",
     "output_type": "stream",
     "text": [
      "2024-03-11 19:46 INFO End of Epoch 488 - Loss: 10.1565\n"
     ]
    },
    {
     "name": "stdout",
     "output_type": "stream",
     "text": [
      "71/71 [==============================] - 21s 292ms/step - loss: 10.1565 - accuracy: 0.5676\n",
      "Epoch 489/1600\n",
      "71/71 [==============================] - ETA: 0s - loss: 8.8919 - accuracy: 0.5647"
     ]
    },
    {
     "name": "stderr",
     "output_type": "stream",
     "text": [
      "2024-03-11 19:46 INFO End of Epoch 489 - Loss: 8.8919\n"
     ]
    },
    {
     "name": "stdout",
     "output_type": "stream",
     "text": [
      "71/71 [==============================] - 21s 293ms/step - loss: 8.8919 - accuracy: 0.5647\n",
      "Epoch 490/1600\n",
      "71/71 [==============================] - ETA: 0s - loss: 9.4098 - accuracy: 0.5720"
     ]
    },
    {
     "name": "stderr",
     "output_type": "stream",
     "text": [
      "2024-03-11 19:47 INFO End of Epoch 490 - Loss: 9.4098\n"
     ]
    },
    {
     "name": "stdout",
     "output_type": "stream",
     "text": [
      "71/71 [==============================] - 21s 292ms/step - loss: 9.4098 - accuracy: 0.5720\n",
      "Epoch 491/1600\n",
      "71/71 [==============================] - ETA: 0s - loss: 8.5144 - accuracy: 0.5559"
     ]
    },
    {
     "name": "stderr",
     "output_type": "stream",
     "text": [
      "2024-03-11 19:47 INFO End of Epoch 491 - Loss: 8.5144\n"
     ]
    },
    {
     "name": "stdout",
     "output_type": "stream",
     "text": [
      "71/71 [==============================] - 21s 293ms/step - loss: 8.5144 - accuracy: 0.5559\n",
      "Epoch 492/1600\n",
      "71/71 [==============================] - ETA: 0s - loss: 5.2683 - accuracy: 0.5620"
     ]
    },
    {
     "name": "stderr",
     "output_type": "stream",
     "text": [
      "2024-03-11 19:48 INFO End of Epoch 492 - Loss: 5.2683\n"
     ]
    },
    {
     "name": "stdout",
     "output_type": "stream",
     "text": [
      "71/71 [==============================] - 21s 292ms/step - loss: 5.2683 - accuracy: 0.5620\n",
      "Epoch 493/1600\n",
      "71/71 [==============================] - ETA: 0s - loss: 2.3792 - accuracy: 0.5884"
     ]
    },
    {
     "name": "stderr",
     "output_type": "stream",
     "text": [
      "2024-03-11 19:48 INFO End of Epoch 493 - Loss: 2.3792\n"
     ]
    },
    {
     "name": "stdout",
     "output_type": "stream",
     "text": [
      "71/71 [==============================] - 21s 292ms/step - loss: 2.3792 - accuracy: 0.5884\n",
      "Epoch 494/1600\n",
      "71/71 [==============================] - ETA: 0s - loss: 2.0809 - accuracy: 0.5680"
     ]
    },
    {
     "name": "stderr",
     "output_type": "stream",
     "text": [
      "2024-03-11 19:49 INFO End of Epoch 494 - Loss: 2.0809\n"
     ]
    },
    {
     "name": "stdout",
     "output_type": "stream",
     "text": [
      "71/71 [==============================] - 21s 292ms/step - loss: 2.0809 - accuracy: 0.5680\n",
      "Epoch 495/1600\n",
      "71/71 [==============================] - ETA: 0s - loss: 2.5843 - accuracy: 0.5585"
     ]
    },
    {
     "name": "stderr",
     "output_type": "stream",
     "text": [
      "2024-03-11 19:49 INFO End of Epoch 495 - Loss: 2.5843\n"
     ]
    },
    {
     "name": "stdout",
     "output_type": "stream",
     "text": [
      "71/71 [==============================] - 21s 293ms/step - loss: 2.5843 - accuracy: 0.5585\n",
      "Epoch 496/1600\n",
      "71/71 [==============================] - ETA: 0s - loss: 1.8533 - accuracy: 0.5768"
     ]
    },
    {
     "name": "stderr",
     "output_type": "stream",
     "text": [
      "2024-03-11 19:50 INFO End of Epoch 496 - Loss: 1.8533\n"
     ]
    },
    {
     "name": "stdout",
     "output_type": "stream",
     "text": [
      "71/71 [==============================] - 21s 292ms/step - loss: 1.8533 - accuracy: 0.5768\n",
      "Epoch 497/1600\n",
      "71/71 [==============================] - ETA: 0s - loss: 1.4204 - accuracy: 0.5875"
     ]
    },
    {
     "name": "stderr",
     "output_type": "stream",
     "text": [
      "2024-03-11 19:50 INFO End of Epoch 497 - Loss: 1.4204\n"
     ]
    },
    {
     "name": "stdout",
     "output_type": "stream",
     "text": [
      "71/71 [==============================] - 21s 292ms/step - loss: 1.4204 - accuracy: 0.5875\n",
      "Epoch 498/1600\n",
      "71/71 [==============================] - ETA: 0s - loss: 1.3915 - accuracy: 0.5931"
     ]
    },
    {
     "name": "stderr",
     "output_type": "stream",
     "text": [
      "2024-03-11 19:50 INFO End of Epoch 498 - Loss: 1.3915\n"
     ]
    },
    {
     "name": "stdout",
     "output_type": "stream",
     "text": [
      "71/71 [==============================] - 21s 293ms/step - loss: 1.3915 - accuracy: 0.5931\n",
      "Epoch 499/1600\n",
      "71/71 [==============================] - ETA: 0s - loss: 1.4341 - accuracy: 0.6035"
     ]
    },
    {
     "name": "stderr",
     "output_type": "stream",
     "text": [
      "2024-03-11 19:51 INFO End of Epoch 499 - Loss: 1.4341\n"
     ]
    },
    {
     "name": "stdout",
     "output_type": "stream",
     "text": [
      "71/71 [==============================] - 21s 291ms/step - loss: 1.4341 - accuracy: 0.6035\n",
      "Epoch 500/1600\n",
      "71/71 [==============================] - ETA: 0s - loss: 1.6073 - accuracy: 0.5901"
     ]
    },
    {
     "name": "stderr",
     "output_type": "stream",
     "text": [
      "2024-03-11 19:51 INFO End of Epoch 500 - Loss: 1.6073\n"
     ]
    },
    {
     "name": "stdout",
     "output_type": "stream",
     "text": [
      "71/71 [==============================] - 21s 292ms/step - loss: 1.6073 - accuracy: 0.5901\n",
      "Epoch 501/1600\n",
      "71/71 [==============================] - ETA: 0s - loss: 3.3229 - accuracy: 0.6100"
     ]
    },
    {
     "name": "stderr",
     "output_type": "stream",
     "text": [
      "2024-03-11 19:52 INFO End of Epoch 501 - Loss: 3.3229\n"
     ]
    },
    {
     "name": "stdout",
     "output_type": "stream",
     "text": [
      "71/71 [==============================] - 21s 293ms/step - loss: 3.3229 - accuracy: 0.6100\n",
      "Epoch 502/1600\n",
      "71/71 [==============================] - ETA: 0s - loss: 3.8784 - accuracy: 0.6295"
     ]
    },
    {
     "name": "stderr",
     "output_type": "stream",
     "text": [
      "2024-03-11 19:52 INFO End of Epoch 502 - Loss: 3.8784\n"
     ]
    },
    {
     "name": "stdout",
     "output_type": "stream",
     "text": [
      "71/71 [==============================] - 21s 292ms/step - loss: 3.8784 - accuracy: 0.6295\n",
      "Epoch 503/1600\n",
      "71/71 [==============================] - ETA: 0s - loss: 5.1429 - accuracy: 0.5889"
     ]
    },
    {
     "name": "stderr",
     "output_type": "stream",
     "text": [
      "2024-03-11 19:53 INFO End of Epoch 503 - Loss: 5.1429\n"
     ]
    },
    {
     "name": "stdout",
     "output_type": "stream",
     "text": [
      "71/71 [==============================] - 21s 291ms/step - loss: 5.1429 - accuracy: 0.5889\n",
      "Epoch 504/1600\n",
      "71/71 [==============================] - ETA: 0s - loss: 9.2420 - accuracy: 0.5799"
     ]
    },
    {
     "name": "stderr",
     "output_type": "stream",
     "text": [
      "2024-03-11 19:53 INFO End of Epoch 504 - Loss: 9.2420\n"
     ]
    },
    {
     "name": "stdout",
     "output_type": "stream",
     "text": [
      "71/71 [==============================] - 21s 292ms/step - loss: 9.2420 - accuracy: 0.5799\n",
      "Epoch 505/1600\n",
      "71/71 [==============================] - ETA: 0s - loss: 9.3828 - accuracy: 0.5654"
     ]
    },
    {
     "name": "stderr",
     "output_type": "stream",
     "text": [
      "2024-03-11 19:54 INFO End of Epoch 505 - Loss: 9.3828\n"
     ]
    },
    {
     "name": "stdout",
     "output_type": "stream",
     "text": [
      "71/71 [==============================] - 21s 293ms/step - loss: 9.3828 - accuracy: 0.5654\n",
      "Epoch 506/1600\n",
      "71/71 [==============================] - ETA: 0s - loss: 14.6226 - accuracy: 0.5875"
     ]
    },
    {
     "name": "stderr",
     "output_type": "stream",
     "text": [
      "2024-03-11 19:54 INFO End of Epoch 506 - Loss: 14.6226\n"
     ]
    },
    {
     "name": "stdout",
     "output_type": "stream",
     "text": [
      "71/71 [==============================] - 21s 292ms/step - loss: 14.6226 - accuracy: 0.5875\n",
      "Epoch 507/1600\n",
      "71/71 [==============================] - ETA: 0s - loss: 17.6206 - accuracy: 0.5517"
     ]
    },
    {
     "name": "stderr",
     "output_type": "stream",
     "text": [
      "2024-03-11 19:54 INFO End of Epoch 507 - Loss: 17.6206\n"
     ]
    },
    {
     "name": "stdout",
     "output_type": "stream",
     "text": [
      "71/71 [==============================] - 21s 292ms/step - loss: 17.6206 - accuracy: 0.5517\n",
      "Epoch 508/1600\n",
      "71/71 [==============================] - ETA: 0s - loss: 12.5664 - accuracy: 0.5897"
     ]
    },
    {
     "name": "stderr",
     "output_type": "stream",
     "text": [
      "2024-03-11 19:55 INFO End of Epoch 508 - Loss: 12.5664\n"
     ]
    },
    {
     "name": "stdout",
     "output_type": "stream",
     "text": [
      "71/71 [==============================] - 21s 292ms/step - loss: 12.5664 - accuracy: 0.5897\n",
      "Epoch 509/1600\n",
      "71/71 [==============================] - ETA: 0s - loss: 7.1159 - accuracy: 0.5914"
     ]
    },
    {
     "name": "stderr",
     "output_type": "stream",
     "text": [
      "2024-03-11 19:55 INFO End of Epoch 509 - Loss: 7.1159\n"
     ]
    },
    {
     "name": "stdout",
     "output_type": "stream",
     "text": [
      "71/71 [==============================] - 21s 292ms/step - loss: 7.1159 - accuracy: 0.5914\n",
      "Epoch 510/1600\n",
      "71/71 [==============================] - ETA: 0s - loss: 4.5160 - accuracy: 0.5889"
     ]
    },
    {
     "name": "stderr",
     "output_type": "stream",
     "text": [
      "2024-03-11 19:56 INFO End of Epoch 510 - Loss: 4.5160\n"
     ]
    },
    {
     "name": "stdout",
     "output_type": "stream",
     "text": [
      "71/71 [==============================] - 21s 292ms/step - loss: 4.5160 - accuracy: 0.5889\n",
      "Epoch 511/1600\n",
      "71/71 [==============================] - ETA: 0s - loss: 2.8858 - accuracy: 0.6051"
     ]
    },
    {
     "name": "stderr",
     "output_type": "stream",
     "text": [
      "2024-03-11 19:56 INFO End of Epoch 511 - Loss: 2.8858\n"
     ]
    },
    {
     "name": "stdout",
     "output_type": "stream",
     "text": [
      "71/71 [==============================] - 21s 290ms/step - loss: 2.8858 - accuracy: 0.6051\n",
      "Epoch 512/1600\n",
      "71/71 [==============================] - ETA: 0s - loss: 2.7854 - accuracy: 0.6045"
     ]
    },
    {
     "name": "stderr",
     "output_type": "stream",
     "text": [
      "2024-03-11 19:57 INFO End of Epoch 512 - Loss: 2.7854\n"
     ]
    },
    {
     "name": "stdout",
     "output_type": "stream",
     "text": [
      "71/71 [==============================] - 21s 293ms/step - loss: 2.7854 - accuracy: 0.6045\n",
      "Epoch 513/1600\n",
      "71/71 [==============================] - ETA: 0s - loss: 3.4803 - accuracy: 0.5596"
     ]
    },
    {
     "name": "stderr",
     "output_type": "stream",
     "text": [
      "2024-03-11 19:57 INFO End of Epoch 513 - Loss: 3.4803\n"
     ]
    },
    {
     "name": "stdout",
     "output_type": "stream",
     "text": [
      "71/71 [==============================] - 21s 292ms/step - loss: 3.4803 - accuracy: 0.5596\n",
      "Epoch 514/1600\n",
      "71/71 [==============================] - ETA: 0s - loss: 2.6340 - accuracy: 0.5971"
     ]
    },
    {
     "name": "stderr",
     "output_type": "stream",
     "text": [
      "2024-03-11 19:58 INFO End of Epoch 514 - Loss: 2.6340\n"
     ]
    },
    {
     "name": "stdout",
     "output_type": "stream",
     "text": [
      "71/71 [==============================] - 21s 293ms/step - loss: 2.6340 - accuracy: 0.5971\n",
      "Epoch 515/1600\n",
      "71/71 [==============================] - ETA: 0s - loss: 2.1725 - accuracy: 0.5985"
     ]
    },
    {
     "name": "stderr",
     "output_type": "stream",
     "text": [
      "2024-03-11 19:58 INFO End of Epoch 515 - Loss: 2.1725\n"
     ]
    },
    {
     "name": "stdout",
     "output_type": "stream",
     "text": [
      "71/71 [==============================] - 21s 293ms/step - loss: 2.1725 - accuracy: 0.5985\n",
      "Epoch 516/1600\n",
      "71/71 [==============================] - ETA: 0s - loss: 2.4229 - accuracy: 0.6164"
     ]
    },
    {
     "name": "stderr",
     "output_type": "stream",
     "text": [
      "2024-03-11 19:58 INFO End of Epoch 516 - Loss: 2.4229\n"
     ]
    },
    {
     "name": "stdout",
     "output_type": "stream",
     "text": [
      "71/71 [==============================] - 21s 293ms/step - loss: 2.4229 - accuracy: 0.6164\n",
      "Epoch 517/1600\n",
      "71/71 [==============================] - ETA: 0s - loss: 2.9527 - accuracy: 0.6147"
     ]
    },
    {
     "name": "stderr",
     "output_type": "stream",
     "text": [
      "2024-03-11 19:59 INFO End of Epoch 517 - Loss: 2.9527\n"
     ]
    },
    {
     "name": "stdout",
     "output_type": "stream",
     "text": [
      "71/71 [==============================] - 21s 292ms/step - loss: 2.9527 - accuracy: 0.6147\n",
      "Epoch 518/1600\n",
      "71/71 [==============================] - ETA: 0s - loss: 4.6888 - accuracy: 0.5751"
     ]
    },
    {
     "name": "stderr",
     "output_type": "stream",
     "text": [
      "2024-03-11 19:59 INFO End of Epoch 518 - Loss: 4.6888\n"
     ]
    },
    {
     "name": "stdout",
     "output_type": "stream",
     "text": [
      "71/71 [==============================] - 21s 293ms/step - loss: 4.6888 - accuracy: 0.5751\n",
      "Epoch 519/1600\n",
      "71/71 [==============================] - ETA: 0s - loss: 5.8055 - accuracy: 0.5786"
     ]
    },
    {
     "name": "stderr",
     "output_type": "stream",
     "text": [
      "2024-03-11 20:00 INFO End of Epoch 519 - Loss: 5.8055\n"
     ]
    },
    {
     "name": "stdout",
     "output_type": "stream",
     "text": [
      "71/71 [==============================] - 21s 291ms/step - loss: 5.8055 - accuracy: 0.5786\n",
      "Epoch 520/1600\n",
      "71/71 [==============================] - ETA: 0s - loss: 4.1286 - accuracy: 0.6060"
     ]
    },
    {
     "name": "stderr",
     "output_type": "stream",
     "text": [
      "2024-03-11 20:00 INFO End of Epoch 520 - Loss: 4.1286\n"
     ]
    },
    {
     "name": "stdout",
     "output_type": "stream",
     "text": [
      "71/71 [==============================] - 21s 293ms/step - loss: 4.1286 - accuracy: 0.6060\n",
      "Epoch 521/1600\n",
      "71/71 [==============================] - ETA: 0s - loss: 3.8852 - accuracy: 0.5723"
     ]
    },
    {
     "name": "stderr",
     "output_type": "stream",
     "text": [
      "2024-03-11 20:01 INFO End of Epoch 521 - Loss: 3.8852\n"
     ]
    },
    {
     "name": "stdout",
     "output_type": "stream",
     "text": [
      "71/71 [==============================] - 21s 292ms/step - loss: 3.8852 - accuracy: 0.5723\n",
      "Epoch 522/1600\n",
      "71/71 [==============================] - ETA: 0s - loss: 3.1704 - accuracy: 0.6130"
     ]
    },
    {
     "name": "stderr",
     "output_type": "stream",
     "text": [
      "2024-03-11 20:01 INFO End of Epoch 522 - Loss: 3.1704\n"
     ]
    },
    {
     "name": "stdout",
     "output_type": "stream",
     "text": [
      "71/71 [==============================] - 21s 291ms/step - loss: 3.1704 - accuracy: 0.6130\n",
      "Epoch 523/1600\n",
      "71/71 [==============================] - ETA: 0s - loss: 3.9610 - accuracy: 0.5894"
     ]
    },
    {
     "name": "stderr",
     "output_type": "stream",
     "text": [
      "2024-03-11 20:02 INFO End of Epoch 523 - Loss: 3.9610\n"
     ]
    },
    {
     "name": "stdout",
     "output_type": "stream",
     "text": [
      "71/71 [==============================] - 20s 289ms/step - loss: 3.9610 - accuracy: 0.5894\n",
      "Epoch 524/1600\n",
      "71/71 [==============================] - ETA: 0s - loss: 4.2430 - accuracy: 0.5923"
     ]
    },
    {
     "name": "stderr",
     "output_type": "stream",
     "text": [
      "2024-03-11 20:02 INFO End of Epoch 524 - Loss: 4.2430\n"
     ]
    },
    {
     "name": "stdout",
     "output_type": "stream",
     "text": [
      "71/71 [==============================] - 21s 294ms/step - loss: 4.2430 - accuracy: 0.5923\n",
      "Epoch 525/1600\n",
      "71/71 [==============================] - ETA: 0s - loss: 3.9671 - accuracy: 0.6276"
     ]
    },
    {
     "name": "stderr",
     "output_type": "stream",
     "text": [
      "2024-03-11 20:02 INFO End of Epoch 525 - Loss: 3.9671\n"
     ]
    },
    {
     "name": "stdout",
     "output_type": "stream",
     "text": [
      "71/71 [==============================] - 21s 290ms/step - loss: 3.9671 - accuracy: 0.6276\n",
      "Epoch 526/1600\n",
      "71/71 [==============================] - ETA: 0s - loss: 10.3125 - accuracy: 0.5806"
     ]
    },
    {
     "name": "stderr",
     "output_type": "stream",
     "text": [
      "2024-03-11 20:03 INFO End of Epoch 526 - Loss: 10.3125\n"
     ]
    },
    {
     "name": "stdout",
     "output_type": "stream",
     "text": [
      "71/71 [==============================] - 21s 292ms/step - loss: 10.3125 - accuracy: 0.5806\n",
      "Epoch 527/1600\n",
      "71/71 [==============================] - ETA: 0s - loss: 10.6375 - accuracy: 0.5694"
     ]
    },
    {
     "name": "stderr",
     "output_type": "stream",
     "text": [
      "2024-03-11 20:03 INFO End of Epoch 527 - Loss: 10.6375\n"
     ]
    },
    {
     "name": "stdout",
     "output_type": "stream",
     "text": [
      "71/71 [==============================] - 21s 291ms/step - loss: 10.6375 - accuracy: 0.5694\n",
      "Epoch 528/1600\n",
      "71/71 [==============================] - ETA: 0s - loss: 9.1780 - accuracy: 0.5872"
     ]
    },
    {
     "name": "stderr",
     "output_type": "stream",
     "text": [
      "2024-03-11 20:04 INFO End of Epoch 528 - Loss: 9.1780\n"
     ]
    },
    {
     "name": "stdout",
     "output_type": "stream",
     "text": [
      "71/71 [==============================] - 20s 288ms/step - loss: 9.1780 - accuracy: 0.5872\n",
      "Epoch 529/1600\n",
      "71/71 [==============================] - ETA: 0s - loss: 7.8664 - accuracy: 0.5701"
     ]
    },
    {
     "name": "stderr",
     "output_type": "stream",
     "text": [
      "2024-03-11 20:04 INFO End of Epoch 529 - Loss: 7.8664\n"
     ]
    },
    {
     "name": "stdout",
     "output_type": "stream",
     "text": [
      "71/71 [==============================] - 21s 293ms/step - loss: 7.8664 - accuracy: 0.5701\n",
      "Epoch 530/1600\n",
      "71/71 [==============================] - ETA: 0s - loss: 7.0972 - accuracy: 0.5670"
     ]
    },
    {
     "name": "stderr",
     "output_type": "stream",
     "text": [
      "2024-03-11 20:05 INFO End of Epoch 530 - Loss: 7.0972\n"
     ]
    },
    {
     "name": "stdout",
     "output_type": "stream",
     "text": [
      "71/71 [==============================] - 21s 290ms/step - loss: 7.0972 - accuracy: 0.5670\n",
      "Epoch 531/1600\n",
      "71/71 [==============================] - ETA: 0s - loss: 5.9867 - accuracy: 0.6262"
     ]
    },
    {
     "name": "stderr",
     "output_type": "stream",
     "text": [
      "2024-03-11 20:05 INFO End of Epoch 531 - Loss: 5.9867\n"
     ]
    },
    {
     "name": "stdout",
     "output_type": "stream",
     "text": [
      "71/71 [==============================] - 20s 287ms/step - loss: 5.9867 - accuracy: 0.6262\n",
      "Epoch 532/1600\n",
      "71/71 [==============================] - ETA: 0s - loss: 7.0582 - accuracy: 0.5548"
     ]
    },
    {
     "name": "stderr",
     "output_type": "stream",
     "text": [
      "2024-03-11 20:06 INFO End of Epoch 532 - Loss: 7.0582\n"
     ]
    },
    {
     "name": "stdout",
     "output_type": "stream",
     "text": [
      "71/71 [==============================] - 21s 292ms/step - loss: 7.0582 - accuracy: 0.5548\n",
      "Epoch 533/1600\n",
      "71/71 [==============================] - ETA: 0s - loss: 5.7606 - accuracy: 0.5794"
     ]
    },
    {
     "name": "stderr",
     "output_type": "stream",
     "text": [
      "2024-03-11 20:06 INFO End of Epoch 533 - Loss: 5.7606\n"
     ]
    },
    {
     "name": "stdout",
     "output_type": "stream",
     "text": [
      "71/71 [==============================] - 21s 290ms/step - loss: 5.7606 - accuracy: 0.5794\n",
      "Epoch 534/1600\n",
      "71/71 [==============================] - ETA: 0s - loss: 4.4051 - accuracy: 0.5886"
     ]
    },
    {
     "name": "stderr",
     "output_type": "stream",
     "text": [
      "2024-03-11 20:06 INFO End of Epoch 534 - Loss: 4.4051\n"
     ]
    },
    {
     "name": "stdout",
     "output_type": "stream",
     "text": [
      "71/71 [==============================] - 21s 290ms/step - loss: 4.4051 - accuracy: 0.5886\n",
      "Epoch 535/1600\n",
      "71/71 [==============================] - ETA: 0s - loss: 3.7274 - accuracy: 0.5645"
     ]
    },
    {
     "name": "stderr",
     "output_type": "stream",
     "text": [
      "2024-03-11 20:07 INFO End of Epoch 535 - Loss: 3.7274\n"
     ]
    },
    {
     "name": "stdout",
     "output_type": "stream",
     "text": [
      "71/71 [==============================] - 21s 291ms/step - loss: 3.7274 - accuracy: 0.5645\n",
      "Epoch 536/1600\n",
      "71/71 [==============================] - ETA: 0s - loss: 2.5058 - accuracy: 0.5659"
     ]
    },
    {
     "name": "stderr",
     "output_type": "stream",
     "text": [
      "2024-03-11 20:07 INFO End of Epoch 536 - Loss: 2.5058\n"
     ]
    },
    {
     "name": "stdout",
     "output_type": "stream",
     "text": [
      "71/71 [==============================] - 21s 291ms/step - loss: 2.5058 - accuracy: 0.5659\n",
      "Epoch 537/1600\n",
      "71/71 [==============================] - ETA: 0s - loss: 1.9708 - accuracy: 0.5850"
     ]
    },
    {
     "name": "stderr",
     "output_type": "stream",
     "text": [
      "2024-03-11 20:08 INFO End of Epoch 537 - Loss: 1.9708\n"
     ]
    },
    {
     "name": "stdout",
     "output_type": "stream",
     "text": [
      "71/71 [==============================] - 21s 292ms/step - loss: 1.9708 - accuracy: 0.5850\n",
      "Epoch 538/1600\n",
      "71/71 [==============================] - ETA: 0s - loss: 1.9267 - accuracy: 0.6019"
     ]
    },
    {
     "name": "stderr",
     "output_type": "stream",
     "text": [
      "2024-03-11 20:08 INFO End of Epoch 538 - Loss: 1.9267\n"
     ]
    },
    {
     "name": "stdout",
     "output_type": "stream",
     "text": [
      "71/71 [==============================] - 21s 289ms/step - loss: 1.9267 - accuracy: 0.6019\n",
      "Epoch 539/1600\n",
      "71/71 [==============================] - ETA: 0s - loss: 2.2291 - accuracy: 0.5819"
     ]
    },
    {
     "name": "stderr",
     "output_type": "stream",
     "text": [
      "2024-03-11 20:09 INFO End of Epoch 539 - Loss: 2.2291\n"
     ]
    },
    {
     "name": "stdout",
     "output_type": "stream",
     "text": [
      "71/71 [==============================] - 21s 292ms/step - loss: 2.2291 - accuracy: 0.5819\n",
      "Epoch 540/1600\n",
      "71/71 [==============================] - ETA: 0s - loss: 2.6618 - accuracy: 0.5832"
     ]
    },
    {
     "name": "stderr",
     "output_type": "stream",
     "text": [
      "2024-03-11 20:09 INFO End of Epoch 540 - Loss: 2.6618\n"
     ]
    },
    {
     "name": "stdout",
     "output_type": "stream",
     "text": [
      "71/71 [==============================] - 21s 290ms/step - loss: 2.6618 - accuracy: 0.5832\n",
      "Epoch 541/1600\n",
      "71/71 [==============================] - ETA: 0s - loss: 3.2345 - accuracy: 0.5660"
     ]
    },
    {
     "name": "stderr",
     "output_type": "stream",
     "text": [
      "2024-03-11 20:10 INFO End of Epoch 541 - Loss: 3.2345\n"
     ]
    },
    {
     "name": "stdout",
     "output_type": "stream",
     "text": [
      "71/71 [==============================] - 21s 292ms/step - loss: 3.2345 - accuracy: 0.5660\n",
      "Epoch 542/1600\n",
      "71/71 [==============================] - ETA: 0s - loss: 2.1346 - accuracy: 0.6205"
     ]
    },
    {
     "name": "stderr",
     "output_type": "stream",
     "text": [
      "2024-03-11 20:10 INFO End of Epoch 542 - Loss: 2.1346\n"
     ]
    },
    {
     "name": "stdout",
     "output_type": "stream",
     "text": [
      "71/71 [==============================] - 21s 292ms/step - loss: 2.1346 - accuracy: 0.6205\n",
      "Epoch 543/1600\n",
      "71/71 [==============================] - ETA: 0s - loss: 2.3587 - accuracy: 0.6008"
     ]
    },
    {
     "name": "stderr",
     "output_type": "stream",
     "text": [
      "2024-03-11 20:10 INFO End of Epoch 543 - Loss: 2.3587\n"
     ]
    },
    {
     "name": "stdout",
     "output_type": "stream",
     "text": [
      "71/71 [==============================] - 21s 293ms/step - loss: 2.3587 - accuracy: 0.6008\n",
      "Epoch 544/1600\n",
      "71/71 [==============================] - ETA: 0s - loss: 4.4353 - accuracy: 0.5998"
     ]
    },
    {
     "name": "stderr",
     "output_type": "stream",
     "text": [
      "2024-03-11 20:11 INFO End of Epoch 544 - Loss: 4.4353\n"
     ]
    },
    {
     "name": "stdout",
     "output_type": "stream",
     "text": [
      "71/71 [==============================] - 21s 292ms/step - loss: 4.4353 - accuracy: 0.5998\n",
      "Epoch 545/1600\n",
      "71/71 [==============================] - ETA: 0s - loss: 6.3857 - accuracy: 0.6303"
     ]
    },
    {
     "name": "stderr",
     "output_type": "stream",
     "text": [
      "2024-03-11 20:11 INFO End of Epoch 545 - Loss: 6.3857\n"
     ]
    },
    {
     "name": "stdout",
     "output_type": "stream",
     "text": [
      "71/71 [==============================] - 21s 293ms/step - loss: 6.3857 - accuracy: 0.6303\n",
      "Epoch 546/1600\n",
      "71/71 [==============================] - ETA: 0s - loss: 13.2269 - accuracy: 0.5786"
     ]
    },
    {
     "name": "stderr",
     "output_type": "stream",
     "text": [
      "2024-03-11 20:12 INFO End of Epoch 546 - Loss: 13.2269\n"
     ]
    },
    {
     "name": "stdout",
     "output_type": "stream",
     "text": [
      "71/71 [==============================] - 21s 291ms/step - loss: 13.2269 - accuracy: 0.5786\n",
      "Epoch 547/1600\n",
      "71/71 [==============================] - ETA: 0s - loss: 10.7070 - accuracy: 0.5799"
     ]
    },
    {
     "name": "stderr",
     "output_type": "stream",
     "text": [
      "2024-03-11 20:12 INFO End of Epoch 547 - Loss: 10.7070\n"
     ]
    },
    {
     "name": "stdout",
     "output_type": "stream",
     "text": [
      "71/71 [==============================] - 21s 294ms/step - loss: 10.7070 - accuracy: 0.5799\n",
      "Epoch 548/1600\n",
      "71/71 [==============================] - ETA: 0s - loss: 10.7167 - accuracy: 0.5468"
     ]
    },
    {
     "name": "stderr",
     "output_type": "stream",
     "text": [
      "2024-03-11 20:13 INFO End of Epoch 548 - Loss: 10.7167\n"
     ]
    },
    {
     "name": "stdout",
     "output_type": "stream",
     "text": [
      "71/71 [==============================] - 21s 292ms/step - loss: 10.7167 - accuracy: 0.5468\n",
      "Epoch 549/1600\n",
      "71/71 [==============================] - ETA: 0s - loss: 6.9694 - accuracy: 0.5700"
     ]
    },
    {
     "name": "stderr",
     "output_type": "stream",
     "text": [
      "2024-03-11 20:13 INFO End of Epoch 549 - Loss: 6.9694\n"
     ]
    },
    {
     "name": "stdout",
     "output_type": "stream",
     "text": [
      "71/71 [==============================] - 21s 292ms/step - loss: 6.9694 - accuracy: 0.5700\n",
      "Epoch 550/1600\n",
      "71/71 [==============================] - ETA: 0s - loss: 6.3926 - accuracy: 0.5725"
     ]
    },
    {
     "name": "stderr",
     "output_type": "stream",
     "text": [
      "2024-03-11 20:14 INFO End of Epoch 550 - Loss: 6.3926\n"
     ]
    },
    {
     "name": "stdout",
     "output_type": "stream",
     "text": [
      "71/71 [==============================] - 21s 292ms/step - loss: 6.3926 - accuracy: 0.5725\n",
      "Epoch 551/1600\n",
      "71/71 [==============================] - ETA: 0s - loss: 4.6482 - accuracy: 0.5446"
     ]
    },
    {
     "name": "stderr",
     "output_type": "stream",
     "text": [
      "2024-03-11 20:14 INFO End of Epoch 551 - Loss: 4.6482\n"
     ]
    },
    {
     "name": "stdout",
     "output_type": "stream",
     "text": [
      "71/71 [==============================] - 21s 293ms/step - loss: 4.6482 - accuracy: 0.5446\n",
      "Epoch 552/1600\n",
      "71/71 [==============================] - ETA: 0s - loss: 2.8813 - accuracy: 0.5473"
     ]
    },
    {
     "name": "stderr",
     "output_type": "stream",
     "text": [
      "2024-03-11 20:14 INFO End of Epoch 552 - Loss: 2.8813\n"
     ]
    },
    {
     "name": "stdout",
     "output_type": "stream",
     "text": [
      "71/71 [==============================] - 21s 292ms/step - loss: 2.8813 - accuracy: 0.5473\n",
      "Epoch 553/1600\n",
      "71/71 [==============================] - ETA: 0s - loss: 1.9920 - accuracy: 0.5713"
     ]
    },
    {
     "name": "stderr",
     "output_type": "stream",
     "text": [
      "2024-03-11 20:15 INFO End of Epoch 553 - Loss: 1.9920\n"
     ]
    },
    {
     "name": "stdout",
     "output_type": "stream",
     "text": [
      "71/71 [==============================] - 21s 292ms/step - loss: 1.9920 - accuracy: 0.5713\n",
      "Epoch 554/1600\n",
      "71/71 [==============================] - ETA: 0s - loss: 1.4526 - accuracy: 0.5744"
     ]
    },
    {
     "name": "stderr",
     "output_type": "stream",
     "text": [
      "2024-03-11 20:15 INFO End of Epoch 554 - Loss: 1.4526\n"
     ]
    },
    {
     "name": "stdout",
     "output_type": "stream",
     "text": [
      "71/71 [==============================] - 21s 291ms/step - loss: 1.4526 - accuracy: 0.5744\n",
      "Epoch 555/1600\n",
      "71/71 [==============================] - ETA: 0s - loss: 1.9092 - accuracy: 0.5970"
     ]
    },
    {
     "name": "stderr",
     "output_type": "stream",
     "text": [
      "2024-03-11 20:16 INFO End of Epoch 555 - Loss: 1.9092\n"
     ]
    },
    {
     "name": "stdout",
     "output_type": "stream",
     "text": [
      "71/71 [==============================] - 21s 293ms/step - loss: 1.9092 - accuracy: 0.5970\n",
      "Epoch 556/1600\n",
      "71/71 [==============================] - ETA: 0s - loss: 2.7489 - accuracy: 0.5714"
     ]
    },
    {
     "name": "stderr",
     "output_type": "stream",
     "text": [
      "2024-03-11 20:16 INFO End of Epoch 556 - Loss: 2.7489\n"
     ]
    },
    {
     "name": "stdout",
     "output_type": "stream",
     "text": [
      "71/71 [==============================] - 21s 293ms/step - loss: 2.7489 - accuracy: 0.5714\n",
      "Epoch 557/1600\n",
      "71/71 [==============================] - ETA: 0s - loss: 2.7950 - accuracy: 0.5889"
     ]
    },
    {
     "name": "stderr",
     "output_type": "stream",
     "text": [
      "2024-03-11 20:17 INFO End of Epoch 557 - Loss: 2.7950\n"
     ]
    },
    {
     "name": "stdout",
     "output_type": "stream",
     "text": [
      "71/71 [==============================] - 20s 284ms/step - loss: 2.7950 - accuracy: 0.5889\n",
      "Epoch 558/1600\n",
      "71/71 [==============================] - ETA: 0s - loss: 3.7291 - accuracy: 0.5855"
     ]
    },
    {
     "name": "stderr",
     "output_type": "stream",
     "text": [
      "2024-03-11 20:17 INFO End of Epoch 558 - Loss: 3.7291\n"
     ]
    },
    {
     "name": "stdout",
     "output_type": "stream",
     "text": [
      "71/71 [==============================] - 21s 293ms/step - loss: 3.7291 - accuracy: 0.5855\n",
      "Epoch 559/1600\n",
      "71/71 [==============================] - ETA: 0s - loss: 8.8145 - accuracy: 0.5919"
     ]
    },
    {
     "name": "stderr",
     "output_type": "stream",
     "text": [
      "2024-03-11 20:18 INFO End of Epoch 559 - Loss: 8.8145\n"
     ]
    },
    {
     "name": "stdout",
     "output_type": "stream",
     "text": [
      "71/71 [==============================] - 20s 286ms/step - loss: 8.8145 - accuracy: 0.5919\n",
      "Epoch 560/1600\n",
      "71/71 [==============================] - ETA: 0s - loss: 6.8683 - accuracy: 0.5666"
     ]
    },
    {
     "name": "stderr",
     "output_type": "stream",
     "text": [
      "2024-03-11 20:18 INFO End of Epoch 560 - Loss: 6.8683\n"
     ]
    },
    {
     "name": "stdout",
     "output_type": "stream",
     "text": [
      "71/71 [==============================] - 20s 287ms/step - loss: 6.8683 - accuracy: 0.5666\n",
      "Epoch 561/1600\n",
      "71/71 [==============================] - ETA: 0s - loss: 4.1066 - accuracy: 0.5791"
     ]
    },
    {
     "name": "stderr",
     "output_type": "stream",
     "text": [
      "2024-03-11 20:18 INFO End of Epoch 561 - Loss: 4.1066\n"
     ]
    },
    {
     "name": "stdout",
     "output_type": "stream",
     "text": [
      "71/71 [==============================] - 20s 287ms/step - loss: 4.1066 - accuracy: 0.5791\n",
      "Epoch 562/1600\n",
      "71/71 [==============================] - ETA: 0s - loss: 5.3887 - accuracy: 0.5782"
     ]
    },
    {
     "name": "stderr",
     "output_type": "stream",
     "text": [
      "2024-03-11 20:19 INFO End of Epoch 562 - Loss: 5.3887\n"
     ]
    },
    {
     "name": "stdout",
     "output_type": "stream",
     "text": [
      "71/71 [==============================] - 20s 289ms/step - loss: 5.3887 - accuracy: 0.5782\n",
      "Epoch 563/1600\n",
      "71/71 [==============================] - ETA: 0s - loss: 5.0423 - accuracy: 0.5853"
     ]
    },
    {
     "name": "stderr",
     "output_type": "stream",
     "text": [
      "2024-03-11 20:19 INFO End of Epoch 563 - Loss: 5.0423\n"
     ]
    },
    {
     "name": "stdout",
     "output_type": "stream",
     "text": [
      "71/71 [==============================] - 20s 287ms/step - loss: 5.0423 - accuracy: 0.5853\n",
      "Epoch 564/1600\n",
      "71/71 [==============================] - ETA: 0s - loss: 5.4866 - accuracy: 0.5853"
     ]
    },
    {
     "name": "stderr",
     "output_type": "stream",
     "text": [
      "2024-03-11 20:20 INFO End of Epoch 564 - Loss: 5.4866\n"
     ]
    },
    {
     "name": "stdout",
     "output_type": "stream",
     "text": [
      "71/71 [==============================] - 20s 288ms/step - loss: 5.4866 - accuracy: 0.5853\n",
      "Epoch 565/1600\n",
      "71/71 [==============================] - ETA: 0s - loss: 4.6951 - accuracy: 0.5791"
     ]
    },
    {
     "name": "stderr",
     "output_type": "stream",
     "text": [
      "2024-03-11 20:20 INFO End of Epoch 565 - Loss: 4.6951\n"
     ]
    },
    {
     "name": "stdout",
     "output_type": "stream",
     "text": [
      "71/71 [==============================] - 21s 289ms/step - loss: 4.6951 - accuracy: 0.5791\n",
      "Epoch 566/1600\n",
      "71/71 [==============================] - ETA: 0s - loss: 3.7895 - accuracy: 0.5865"
     ]
    },
    {
     "name": "stderr",
     "output_type": "stream",
     "text": [
      "2024-03-11 20:21 INFO End of Epoch 566 - Loss: 3.7895\n"
     ]
    },
    {
     "name": "stdout",
     "output_type": "stream",
     "text": [
      "71/71 [==============================] - 21s 292ms/step - loss: 3.7895 - accuracy: 0.5865\n",
      "Epoch 567/1600\n",
      "71/71 [==============================] - ETA: 0s - loss: 4.2089 - accuracy: 0.5777"
     ]
    },
    {
     "name": "stderr",
     "output_type": "stream",
     "text": [
      "2024-03-11 20:21 INFO End of Epoch 567 - Loss: 4.2089\n"
     ]
    },
    {
     "name": "stdout",
     "output_type": "stream",
     "text": [
      "71/71 [==============================] - 21s 291ms/step - loss: 4.2089 - accuracy: 0.5777\n",
      "Epoch 568/1600\n",
      "71/71 [==============================] - ETA: 0s - loss: 6.3664 - accuracy: 0.5748"
     ]
    },
    {
     "name": "stderr",
     "output_type": "stream",
     "text": [
      "2024-03-11 20:21 INFO End of Epoch 568 - Loss: 6.3664\n"
     ]
    },
    {
     "name": "stdout",
     "output_type": "stream",
     "text": [
      "71/71 [==============================] - 21s 290ms/step - loss: 6.3664 - accuracy: 0.5748\n",
      "Epoch 569/1600\n",
      "71/71 [==============================] - ETA: 0s - loss: 5.6286 - accuracy: 0.5889"
     ]
    },
    {
     "name": "stderr",
     "output_type": "stream",
     "text": [
      "2024-03-11 20:22 INFO End of Epoch 569 - Loss: 5.6286\n"
     ]
    },
    {
     "name": "stdout",
     "output_type": "stream",
     "text": [
      "71/71 [==============================] - 21s 290ms/step - loss: 5.6286 - accuracy: 0.5889\n",
      "Epoch 570/1600\n",
      "71/71 [==============================] - ETA: 0s - loss: 3.5832 - accuracy: 0.5921"
     ]
    },
    {
     "name": "stderr",
     "output_type": "stream",
     "text": [
      "2024-03-11 20:22 INFO End of Epoch 570 - Loss: 3.5832\n"
     ]
    },
    {
     "name": "stdout",
     "output_type": "stream",
     "text": [
      "71/71 [==============================] - 21s 294ms/step - loss: 3.5832 - accuracy: 0.5921\n",
      "Epoch 571/1600\n",
      "71/71 [==============================] - ETA: 0s - loss: 4.9879 - accuracy: 0.5845"
     ]
    },
    {
     "name": "stderr",
     "output_type": "stream",
     "text": [
      "2024-03-11 20:23 INFO End of Epoch 571 - Loss: 4.9879\n"
     ]
    },
    {
     "name": "stdout",
     "output_type": "stream",
     "text": [
      "71/71 [==============================] - 20s 288ms/step - loss: 4.9879 - accuracy: 0.5845\n",
      "Epoch 572/1600\n",
      "71/71 [==============================] - ETA: 0s - loss: 4.6191 - accuracy: 0.5750"
     ]
    },
    {
     "name": "stderr",
     "output_type": "stream",
     "text": [
      "2024-03-11 20:23 INFO End of Epoch 572 - Loss: 4.6191\n"
     ]
    },
    {
     "name": "stdout",
     "output_type": "stream",
     "text": [
      "71/71 [==============================] - 21s 291ms/step - loss: 4.6191 - accuracy: 0.5750\n",
      "Epoch 573/1600\n",
      "71/71 [==============================] - ETA: 0s - loss: 3.0445 - accuracy: 0.5882"
     ]
    },
    {
     "name": "stderr",
     "output_type": "stream",
     "text": [
      "2024-03-11 20:24 INFO End of Epoch 573 - Loss: 3.0445\n"
     ]
    },
    {
     "name": "stdout",
     "output_type": "stream",
     "text": [
      "71/71 [==============================] - 21s 290ms/step - loss: 3.0445 - accuracy: 0.5882\n",
      "Epoch 574/1600\n",
      "71/71 [==============================] - ETA: 0s - loss: 6.1630 - accuracy: 0.5821"
     ]
    },
    {
     "name": "stderr",
     "output_type": "stream",
     "text": [
      "2024-03-11 20:24 INFO End of Epoch 574 - Loss: 6.1630\n"
     ]
    },
    {
     "name": "stdout",
     "output_type": "stream",
     "text": [
      "71/71 [==============================] - 20s 289ms/step - loss: 6.1630 - accuracy: 0.5821\n",
      "Epoch 575/1600\n",
      "71/71 [==============================] - ETA: 0s - loss: 7.1061 - accuracy: 0.5951"
     ]
    },
    {
     "name": "stderr",
     "output_type": "stream",
     "text": [
      "2024-03-11 20:25 INFO End of Epoch 575 - Loss: 7.1061\n"
     ]
    },
    {
     "name": "stdout",
     "output_type": "stream",
     "text": [
      "71/71 [==============================] - 21s 290ms/step - loss: 7.1061 - accuracy: 0.5951\n",
      "Epoch 576/1600\n",
      "71/71 [==============================] - ETA: 0s - loss: 6.6582 - accuracy: 0.5822"
     ]
    },
    {
     "name": "stderr",
     "output_type": "stream",
     "text": [
      "2024-03-11 20:25 INFO End of Epoch 576 - Loss: 6.6582\n"
     ]
    },
    {
     "name": "stdout",
     "output_type": "stream",
     "text": [
      "71/71 [==============================] - 20s 288ms/step - loss: 6.6582 - accuracy: 0.5822\n",
      "Epoch 577/1600\n",
      "71/71 [==============================] - ETA: 0s - loss: 7.3107 - accuracy: 0.5690"
     ]
    },
    {
     "name": "stderr",
     "output_type": "stream",
     "text": [
      "2024-03-11 20:25 INFO End of Epoch 577 - Loss: 7.3107\n"
     ]
    },
    {
     "name": "stdout",
     "output_type": "stream",
     "text": [
      "71/71 [==============================] - 21s 291ms/step - loss: 7.3107 - accuracy: 0.5690\n",
      "Epoch 578/1600\n",
      "71/71 [==============================] - ETA: 0s - loss: 5.9699 - accuracy: 0.5931"
     ]
    },
    {
     "name": "stderr",
     "output_type": "stream",
     "text": [
      "2024-03-11 20:26 INFO End of Epoch 578 - Loss: 5.9699\n"
     ]
    },
    {
     "name": "stdout",
     "output_type": "stream",
     "text": [
      "71/71 [==============================] - 21s 289ms/step - loss: 5.9699 - accuracy: 0.5931\n",
      "Epoch 579/1600\n",
      "71/71 [==============================] - ETA: 0s - loss: 8.1332 - accuracy: 0.5724"
     ]
    },
    {
     "name": "stderr",
     "output_type": "stream",
     "text": [
      "2024-03-11 20:26 INFO End of Epoch 579 - Loss: 8.1332\n"
     ]
    },
    {
     "name": "stdout",
     "output_type": "stream",
     "text": [
      "71/71 [==============================] - 21s 292ms/step - loss: 8.1332 - accuracy: 0.5724\n",
      "Epoch 580/1600\n",
      "71/71 [==============================] - ETA: 0s - loss: 7.4853 - accuracy: 0.5785"
     ]
    },
    {
     "name": "stderr",
     "output_type": "stream",
     "text": [
      "2024-03-11 20:27 INFO End of Epoch 580 - Loss: 7.4853\n"
     ]
    },
    {
     "name": "stdout",
     "output_type": "stream",
     "text": [
      "71/71 [==============================] - 21s 291ms/step - loss: 7.4853 - accuracy: 0.5785\n",
      "Epoch 581/1600\n",
      "71/71 [==============================] - ETA: 0s - loss: 6.9841 - accuracy: 0.5456"
     ]
    },
    {
     "name": "stderr",
     "output_type": "stream",
     "text": [
      "2024-03-11 20:27 INFO End of Epoch 581 - Loss: 6.9841\n"
     ]
    },
    {
     "name": "stdout",
     "output_type": "stream",
     "text": [
      "71/71 [==============================] - 21s 290ms/step - loss: 6.9841 - accuracy: 0.5456\n",
      "Epoch 582/1600\n",
      "71/71 [==============================] - ETA: 0s - loss: 4.4990 - accuracy: 0.5941"
     ]
    },
    {
     "name": "stderr",
     "output_type": "stream",
     "text": [
      "2024-03-11 20:28 INFO End of Epoch 582 - Loss: 4.4990\n"
     ]
    },
    {
     "name": "stdout",
     "output_type": "stream",
     "text": [
      "71/71 [==============================] - 21s 292ms/step - loss: 4.4990 - accuracy: 0.5941\n",
      "Epoch 583/1600\n",
      "71/71 [==============================] - ETA: 0s - loss: 5.5800 - accuracy: 0.5721"
     ]
    },
    {
     "name": "stderr",
     "output_type": "stream",
     "text": [
      "2024-03-11 20:28 INFO End of Epoch 583 - Loss: 5.5800\n"
     ]
    },
    {
     "name": "stdout",
     "output_type": "stream",
     "text": [
      "71/71 [==============================] - 21s 290ms/step - loss: 5.5800 - accuracy: 0.5721\n",
      "Epoch 584/1600\n",
      "71/71 [==============================] - ETA: 0s - loss: 4.7631 - accuracy: 0.5718"
     ]
    },
    {
     "name": "stderr",
     "output_type": "stream",
     "text": [
      "2024-03-11 20:29 INFO End of Epoch 584 - Loss: 4.7631\n"
     ]
    },
    {
     "name": "stdout",
     "output_type": "stream",
     "text": [
      "71/71 [==============================] - 21s 292ms/step - loss: 4.7631 - accuracy: 0.5718\n",
      "Epoch 585/1600\n",
      "71/71 [==============================] - ETA: 0s - loss: 3.6588 - accuracy: 0.6065"
     ]
    },
    {
     "name": "stderr",
     "output_type": "stream",
     "text": [
      "2024-03-11 20:29 INFO End of Epoch 585 - Loss: 3.6588\n"
     ]
    },
    {
     "name": "stdout",
     "output_type": "stream",
     "text": [
      "71/71 [==============================] - 21s 293ms/step - loss: 3.6588 - accuracy: 0.6065\n",
      "Epoch 586/1600\n",
      "71/71 [==============================] - ETA: 0s - loss: 7.2266 - accuracy: 0.5588"
     ]
    },
    {
     "name": "stderr",
     "output_type": "stream",
     "text": [
      "2024-03-11 20:29 INFO End of Epoch 586 - Loss: 7.2266\n"
     ]
    },
    {
     "name": "stdout",
     "output_type": "stream",
     "text": [
      "71/71 [==============================] - 21s 292ms/step - loss: 7.2266 - accuracy: 0.5588\n",
      "Epoch 587/1600\n",
      "71/71 [==============================] - ETA: 0s - loss: 7.9077 - accuracy: 0.5484"
     ]
    },
    {
     "name": "stderr",
     "output_type": "stream",
     "text": [
      "2024-03-11 20:30 INFO End of Epoch 587 - Loss: 7.9077\n"
     ]
    },
    {
     "name": "stdout",
     "output_type": "stream",
     "text": [
      "71/71 [==============================] - 21s 292ms/step - loss: 7.9077 - accuracy: 0.5484\n",
      "Epoch 588/1600\n",
      "71/71 [==============================] - ETA: 0s - loss: 5.3116 - accuracy: 0.5558"
     ]
    },
    {
     "name": "stderr",
     "output_type": "stream",
     "text": [
      "2024-03-11 20:30 INFO End of Epoch 588 - Loss: 5.3116\n"
     ]
    },
    {
     "name": "stdout",
     "output_type": "stream",
     "text": [
      "71/71 [==============================] - 20s 288ms/step - loss: 5.3116 - accuracy: 0.5558\n",
      "Epoch 589/1600\n",
      "71/71 [==============================] - ETA: 0s - loss: 3.2425 - accuracy: 0.5630"
     ]
    },
    {
     "name": "stderr",
     "output_type": "stream",
     "text": [
      "2024-03-11 20:31 INFO End of Epoch 589 - Loss: 3.2425\n"
     ]
    },
    {
     "name": "stdout",
     "output_type": "stream",
     "text": [
      "71/71 [==============================] - 21s 292ms/step - loss: 3.2425 - accuracy: 0.5630\n",
      "Epoch 590/1600\n",
      "71/71 [==============================] - ETA: 0s - loss: 3.0354 - accuracy: 0.5745"
     ]
    },
    {
     "name": "stderr",
     "output_type": "stream",
     "text": [
      "2024-03-11 20:31 INFO End of Epoch 590 - Loss: 3.0354\n"
     ]
    },
    {
     "name": "stdout",
     "output_type": "stream",
     "text": [
      "71/71 [==============================] - 21s 292ms/step - loss: 3.0354 - accuracy: 0.5745\n",
      "Epoch 591/1600\n",
      "71/71 [==============================] - ETA: 0s - loss: 6.8236 - accuracy: 0.5894"
     ]
    },
    {
     "name": "stderr",
     "output_type": "stream",
     "text": [
      "2024-03-11 20:32 INFO End of Epoch 591 - Loss: 6.8236\n"
     ]
    },
    {
     "name": "stdout",
     "output_type": "stream",
     "text": [
      "71/71 [==============================] - 21s 292ms/step - loss: 6.8236 - accuracy: 0.5894\n",
      "Epoch 592/1600\n",
      "71/71 [==============================] - ETA: 0s - loss: 7.1838 - accuracy: 0.5405"
     ]
    },
    {
     "name": "stderr",
     "output_type": "stream",
     "text": [
      "2024-03-11 20:32 INFO End of Epoch 592 - Loss: 7.1838\n"
     ]
    },
    {
     "name": "stdout",
     "output_type": "stream",
     "text": [
      "71/71 [==============================] - 21s 292ms/step - loss: 7.1838 - accuracy: 0.5405\n",
      "Epoch 593/1600\n",
      "71/71 [==============================] - ETA: 0s - loss: 4.5516 - accuracy: 0.5557"
     ]
    },
    {
     "name": "stderr",
     "output_type": "stream",
     "text": [
      "2024-03-11 20:33 INFO End of Epoch 593 - Loss: 4.5516\n"
     ]
    },
    {
     "name": "stdout",
     "output_type": "stream",
     "text": [
      "71/71 [==============================] - 21s 291ms/step - loss: 4.5516 - accuracy: 0.5557\n",
      "Epoch 594/1600\n",
      "71/71 [==============================] - ETA: 0s - loss: 2.4276 - accuracy: 0.5796"
     ]
    },
    {
     "name": "stderr",
     "output_type": "stream",
     "text": [
      "2024-03-11 20:33 INFO End of Epoch 594 - Loss: 2.4276\n"
     ]
    },
    {
     "name": "stdout",
     "output_type": "stream",
     "text": [
      "71/71 [==============================] - 21s 291ms/step - loss: 2.4276 - accuracy: 0.5796\n",
      "Epoch 595/1600\n",
      "71/71 [==============================] - ETA: 0s - loss: 1.5811 - accuracy: 0.6018"
     ]
    },
    {
     "name": "stderr",
     "output_type": "stream",
     "text": [
      "2024-03-11 20:33 INFO End of Epoch 595 - Loss: 1.5811\n"
     ]
    },
    {
     "name": "stdout",
     "output_type": "stream",
     "text": [
      "71/71 [==============================] - 21s 291ms/step - loss: 1.5811 - accuracy: 0.6018\n",
      "Epoch 596/1600\n",
      "71/71 [==============================] - ETA: 0s - loss: 1.5030 - accuracy: 0.5708"
     ]
    },
    {
     "name": "stderr",
     "output_type": "stream",
     "text": [
      "2024-03-11 20:34 INFO End of Epoch 596 - Loss: 1.5030\n"
     ]
    },
    {
     "name": "stdout",
     "output_type": "stream",
     "text": [
      "71/71 [==============================] - 21s 292ms/step - loss: 1.5030 - accuracy: 0.5708\n",
      "Epoch 597/1600\n",
      "71/71 [==============================] - ETA: 0s - loss: 1.3657 - accuracy: 0.5981"
     ]
    },
    {
     "name": "stderr",
     "output_type": "stream",
     "text": [
      "2024-03-11 20:34 INFO End of Epoch 597 - Loss: 1.3657\n"
     ]
    },
    {
     "name": "stdout",
     "output_type": "stream",
     "text": [
      "71/71 [==============================] - 21s 291ms/step - loss: 1.3657 - accuracy: 0.5981\n",
      "Epoch 598/1600\n",
      "71/71 [==============================] - ETA: 0s - loss: 1.6622 - accuracy: 0.5909"
     ]
    },
    {
     "name": "stderr",
     "output_type": "stream",
     "text": [
      "2024-03-11 20:35 INFO End of Epoch 598 - Loss: 1.6622\n"
     ]
    },
    {
     "name": "stdout",
     "output_type": "stream",
     "text": [
      "71/71 [==============================] - 21s 292ms/step - loss: 1.6622 - accuracy: 0.5909\n",
      "Epoch 599/1600\n",
      "71/71 [==============================] - ETA: 0s - loss: 5.3991 - accuracy: 0.5933"
     ]
    },
    {
     "name": "stderr",
     "output_type": "stream",
     "text": [
      "2024-03-11 20:35 INFO End of Epoch 599 - Loss: 5.3991\n"
     ]
    },
    {
     "name": "stdout",
     "output_type": "stream",
     "text": [
      "71/71 [==============================] - 21s 293ms/step - loss: 5.3991 - accuracy: 0.5933\n",
      "Epoch 600/1600\n",
      "71/71 [==============================] - ETA: 0s - loss: 7.9535 - accuracy: 0.5833"
     ]
    },
    {
     "name": "stderr",
     "output_type": "stream",
     "text": [
      "2024-03-11 20:36 INFO End of Epoch 600 - Loss: 7.9535\n"
     ]
    },
    {
     "name": "stdout",
     "output_type": "stream",
     "text": [
      "71/71 [==============================] - 21s 292ms/step - loss: 7.9535 - accuracy: 0.5833\n",
      "Epoch 601/1600\n",
      "71/71 [==============================] - ETA: 0s - loss: 7.2980 - accuracy: 0.5799"
     ]
    },
    {
     "name": "stderr",
     "output_type": "stream",
     "text": [
      "2024-03-11 20:36 INFO End of Epoch 601 - Loss: 7.2980\n"
     ]
    },
    {
     "name": "stdout",
     "output_type": "stream",
     "text": [
      "71/71 [==============================] - 21s 290ms/step - loss: 7.2980 - accuracy: 0.5799\n",
      "Epoch 602/1600\n",
      "71/71 [==============================] - ETA: 0s - loss: 9.0966 - accuracy: 0.5708"
     ]
    },
    {
     "name": "stderr",
     "output_type": "stream",
     "text": [
      "2024-03-11 20:37 INFO End of Epoch 602 - Loss: 9.0966\n"
     ]
    },
    {
     "name": "stdout",
     "output_type": "stream",
     "text": [
      "71/71 [==============================] - 20s 288ms/step - loss: 9.0966 - accuracy: 0.5708\n",
      "Epoch 603/1600\n",
      "71/71 [==============================] - ETA: 0s - loss: 8.2398 - accuracy: 0.5767"
     ]
    },
    {
     "name": "stderr",
     "output_type": "stream",
     "text": [
      "2024-03-11 20:37 INFO End of Epoch 603 - Loss: 8.2398\n"
     ]
    },
    {
     "name": "stdout",
     "output_type": "stream",
     "text": [
      "71/71 [==============================] - 21s 294ms/step - loss: 8.2398 - accuracy: 0.5767\n",
      "Epoch 604/1600\n",
      "71/71 [==============================] - ETA: 0s - loss: 6.4727 - accuracy: 0.5796"
     ]
    },
    {
     "name": "stderr",
     "output_type": "stream",
     "text": [
      "2024-03-11 20:37 INFO End of Epoch 604 - Loss: 6.4727\n"
     ]
    },
    {
     "name": "stdout",
     "output_type": "stream",
     "text": [
      "71/71 [==============================] - 20s 288ms/step - loss: 6.4727 - accuracy: 0.5796\n",
      "Epoch 605/1600\n",
      "71/71 [==============================] - ETA: 0s - loss: 6.8383 - accuracy: 0.5671"
     ]
    },
    {
     "name": "stderr",
     "output_type": "stream",
     "text": [
      "2024-03-11 20:38 INFO End of Epoch 605 - Loss: 6.8383\n"
     ]
    },
    {
     "name": "stdout",
     "output_type": "stream",
     "text": [
      "71/71 [==============================] - 20s 281ms/step - loss: 6.8383 - accuracy: 0.5671\n",
      "Epoch 606/1600\n",
      "71/71 [==============================] - ETA: 0s - loss: 6.1498 - accuracy: 0.5691"
     ]
    },
    {
     "name": "stderr",
     "output_type": "stream",
     "text": [
      "2024-03-11 20:38 INFO End of Epoch 606 - Loss: 6.1498\n"
     ]
    },
    {
     "name": "stdout",
     "output_type": "stream",
     "text": [
      "71/71 [==============================] - 21s 290ms/step - loss: 6.1498 - accuracy: 0.5691\n",
      "Epoch 607/1600\n",
      "71/71 [==============================] - ETA: 0s - loss: 6.0768 - accuracy: 0.5683"
     ]
    },
    {
     "name": "stderr",
     "output_type": "stream",
     "text": [
      "2024-03-11 20:39 INFO End of Epoch 607 - Loss: 6.0768\n"
     ]
    },
    {
     "name": "stdout",
     "output_type": "stream",
     "text": [
      "71/71 [==============================] - 21s 290ms/step - loss: 6.0768 - accuracy: 0.5683\n",
      "Epoch 608/1600\n",
      "71/71 [==============================] - ETA: 0s - loss: 6.6607 - accuracy: 0.5647"
     ]
    },
    {
     "name": "stderr",
     "output_type": "stream",
     "text": [
      "2024-03-11 20:39 INFO End of Epoch 608 - Loss: 6.6607\n"
     ]
    },
    {
     "name": "stdout",
     "output_type": "stream",
     "text": [
      "71/71 [==============================] - 21s 289ms/step - loss: 6.6607 - accuracy: 0.5647\n",
      "Epoch 609/1600\n",
      "71/71 [==============================] - ETA: 0s - loss: 6.4772 - accuracy: 0.5657"
     ]
    },
    {
     "name": "stderr",
     "output_type": "stream",
     "text": [
      "2024-03-11 20:40 INFO End of Epoch 609 - Loss: 6.4772\n"
     ]
    },
    {
     "name": "stdout",
     "output_type": "stream",
     "text": [
      "71/71 [==============================] - 20s 289ms/step - loss: 6.4772 - accuracy: 0.5657\n",
      "Epoch 610/1600\n",
      "71/71 [==============================] - ETA: 0s - loss: 5.4430 - accuracy: 0.5561"
     ]
    },
    {
     "name": "stderr",
     "output_type": "stream",
     "text": [
      "2024-03-11 20:40 INFO End of Epoch 610 - Loss: 5.4430\n"
     ]
    },
    {
     "name": "stdout",
     "output_type": "stream",
     "text": [
      "71/71 [==============================] - 20s 289ms/step - loss: 5.4430 - accuracy: 0.5561\n",
      "Epoch 611/1600\n",
      "71/71 [==============================] - ETA: 0s - loss: 3.4062 - accuracy: 0.5491"
     ]
    },
    {
     "name": "stderr",
     "output_type": "stream",
     "text": [
      "2024-03-11 20:41 INFO End of Epoch 611 - Loss: 3.4062\n"
     ]
    },
    {
     "name": "stdout",
     "output_type": "stream",
     "text": [
      "71/71 [==============================] - 21s 290ms/step - loss: 3.4062 - accuracy: 0.5491\n",
      "Epoch 612/1600\n",
      "71/71 [==============================] - ETA: 0s - loss: 1.9011 - accuracy: 0.5669"
     ]
    },
    {
     "name": "stderr",
     "output_type": "stream",
     "text": [
      "2024-03-11 20:41 INFO End of Epoch 612 - Loss: 1.9011\n"
     ]
    },
    {
     "name": "stdout",
     "output_type": "stream",
     "text": [
      "71/71 [==============================] - 20s 287ms/step - loss: 1.9011 - accuracy: 0.5669\n",
      "Epoch 613/1600\n",
      "71/71 [==============================] - ETA: 0s - loss: 1.5684 - accuracy: 0.5789"
     ]
    },
    {
     "name": "stderr",
     "output_type": "stream",
     "text": [
      "2024-03-11 20:41 INFO End of Epoch 613 - Loss: 1.5684\n"
     ]
    },
    {
     "name": "stdout",
     "output_type": "stream",
     "text": [
      "71/71 [==============================] - 21s 293ms/step - loss: 1.5684 - accuracy: 0.5789\n",
      "Epoch 614/1600\n",
      "71/71 [==============================] - ETA: 0s - loss: 1.9109 - accuracy: 0.5639"
     ]
    },
    {
     "name": "stderr",
     "output_type": "stream",
     "text": [
      "2024-03-11 20:42 INFO End of Epoch 614 - Loss: 1.9109\n"
     ]
    },
    {
     "name": "stdout",
     "output_type": "stream",
     "text": [
      "71/71 [==============================] - 21s 289ms/step - loss: 1.9109 - accuracy: 0.5639\n",
      "Epoch 615/1600\n",
      "71/71 [==============================] - ETA: 0s - loss: 2.8816 - accuracy: 0.5646"
     ]
    },
    {
     "name": "stderr",
     "output_type": "stream",
     "text": [
      "2024-03-11 20:42 INFO End of Epoch 615 - Loss: 2.8816\n"
     ]
    },
    {
     "name": "stdout",
     "output_type": "stream",
     "text": [
      "71/71 [==============================] - 21s 289ms/step - loss: 2.8816 - accuracy: 0.5646\n",
      "Epoch 616/1600\n",
      "71/71 [==============================] - ETA: 0s - loss: 3.5968 - accuracy: 0.5896"
     ]
    },
    {
     "name": "stderr",
     "output_type": "stream",
     "text": [
      "2024-03-11 20:43 INFO End of Epoch 616 - Loss: 3.5968\n"
     ]
    },
    {
     "name": "stdout",
     "output_type": "stream",
     "text": [
      "71/71 [==============================] - 21s 291ms/step - loss: 3.5968 - accuracy: 0.5896\n",
      "Epoch 617/1600\n",
      "71/71 [==============================] - ETA: 0s - loss: 7.5751 - accuracy: 0.5538"
     ]
    },
    {
     "name": "stderr",
     "output_type": "stream",
     "text": [
      "2024-03-11 20:43 INFO End of Epoch 617 - Loss: 7.5751\n"
     ]
    },
    {
     "name": "stdout",
     "output_type": "stream",
     "text": [
      "71/71 [==============================] - 21s 289ms/step - loss: 7.5751 - accuracy: 0.5538\n",
      "Epoch 618/1600\n",
      "71/71 [==============================] - ETA: 0s - loss: 5.4129 - accuracy: 0.5784"
     ]
    },
    {
     "name": "stderr",
     "output_type": "stream",
     "text": [
      "2024-03-11 20:44 INFO End of Epoch 618 - Loss: 5.4129\n"
     ]
    },
    {
     "name": "stdout",
     "output_type": "stream",
     "text": [
      "71/71 [==============================] - 21s 293ms/step - loss: 5.4129 - accuracy: 0.5784\n",
      "Epoch 619/1600\n",
      "71/71 [==============================] - ETA: 0s - loss: 8.6165 - accuracy: 0.5707"
     ]
    },
    {
     "name": "stderr",
     "output_type": "stream",
     "text": [
      "2024-03-11 20:44 INFO End of Epoch 619 - Loss: 8.6165\n"
     ]
    },
    {
     "name": "stdout",
     "output_type": "stream",
     "text": [
      "71/71 [==============================] - 20s 287ms/step - loss: 8.6165 - accuracy: 0.5707\n",
      "Epoch 620/1600\n",
      "71/71 [==============================] - ETA: 0s - loss: 11.3232 - accuracy: 0.5602"
     ]
    },
    {
     "name": "stderr",
     "output_type": "stream",
     "text": [
      "2024-03-11 20:45 INFO End of Epoch 620 - Loss: 11.3232\n"
     ]
    },
    {
     "name": "stdout",
     "output_type": "stream",
     "text": [
      "71/71 [==============================] - 21s 292ms/step - loss: 11.3232 - accuracy: 0.5602\n",
      "Epoch 621/1600\n",
      "71/71 [==============================] - ETA: 0s - loss: 7.8894 - accuracy: 0.5708"
     ]
    },
    {
     "name": "stderr",
     "output_type": "stream",
     "text": [
      "2024-03-11 20:45 INFO End of Epoch 621 - Loss: 7.8894\n"
     ]
    },
    {
     "name": "stdout",
     "output_type": "stream",
     "text": [
      "71/71 [==============================] - 21s 291ms/step - loss: 7.8894 - accuracy: 0.5708\n",
      "Epoch 622/1600\n",
      "71/71 [==============================] - ETA: 0s - loss: 3.6514 - accuracy: 0.5764"
     ]
    },
    {
     "name": "stderr",
     "output_type": "stream",
     "text": [
      "2024-03-11 20:45 INFO End of Epoch 622 - Loss: 3.6514\n"
     ]
    },
    {
     "name": "stdout",
     "output_type": "stream",
     "text": [
      "71/71 [==============================] - 21s 292ms/step - loss: 3.6514 - accuracy: 0.5764\n",
      "Epoch 623/1600\n",
      "71/71 [==============================] - ETA: 0s - loss: 2.1380 - accuracy: 0.5879"
     ]
    },
    {
     "name": "stderr",
     "output_type": "stream",
     "text": [
      "2024-03-11 20:46 INFO End of Epoch 623 - Loss: 2.1380\n"
     ]
    },
    {
     "name": "stdout",
     "output_type": "stream",
     "text": [
      "71/71 [==============================] - 21s 290ms/step - loss: 2.1380 - accuracy: 0.5879\n",
      "Epoch 624/1600\n",
      "71/71 [==============================] - ETA: 0s - loss: 2.2702 - accuracy: 0.5801"
     ]
    },
    {
     "name": "stderr",
     "output_type": "stream",
     "text": [
      "2024-03-11 20:46 INFO End of Epoch 624 - Loss: 2.2702\n"
     ]
    },
    {
     "name": "stdout",
     "output_type": "stream",
     "text": [
      "71/71 [==============================] - 21s 290ms/step - loss: 2.2702 - accuracy: 0.5801\n",
      "Epoch 625/1600\n",
      "71/71 [==============================] - ETA: 0s - loss: 5.5251 - accuracy: 0.5728"
     ]
    },
    {
     "name": "stderr",
     "output_type": "stream",
     "text": [
      "2024-03-11 20:47 INFO End of Epoch 625 - Loss: 5.5251\n"
     ]
    },
    {
     "name": "stdout",
     "output_type": "stream",
     "text": [
      "71/71 [==============================] - 21s 292ms/step - loss: 5.5251 - accuracy: 0.5728\n",
      "Epoch 626/1600\n",
      "71/71 [==============================] - ETA: 0s - loss: 3.9473 - accuracy: 0.5762"
     ]
    },
    {
     "name": "stderr",
     "output_type": "stream",
     "text": [
      "2024-03-11 20:47 INFO End of Epoch 626 - Loss: 3.9473\n"
     ]
    },
    {
     "name": "stdout",
     "output_type": "stream",
     "text": [
      "71/71 [==============================] - 21s 291ms/step - loss: 3.9473 - accuracy: 0.5762\n",
      "Epoch 627/1600\n",
      "71/71 [==============================] - ETA: 0s - loss: 2.0946 - accuracy: 0.5938"
     ]
    },
    {
     "name": "stderr",
     "output_type": "stream",
     "text": [
      "2024-03-11 20:48 INFO End of Epoch 627 - Loss: 2.0946\n"
     ]
    },
    {
     "name": "stdout",
     "output_type": "stream",
     "text": [
      "71/71 [==============================] - 21s 292ms/step - loss: 2.0946 - accuracy: 0.5938\n",
      "Epoch 628/1600\n",
      "71/71 [==============================] - ETA: 0s - loss: 2.0315 - accuracy: 0.5828"
     ]
    },
    {
     "name": "stderr",
     "output_type": "stream",
     "text": [
      "2024-03-11 20:48 INFO End of Epoch 628 - Loss: 2.0315\n"
     ]
    },
    {
     "name": "stdout",
     "output_type": "stream",
     "text": [
      "71/71 [==============================] - 20s 288ms/step - loss: 2.0315 - accuracy: 0.5828\n",
      "Epoch 629/1600\n",
      "71/71 [==============================] - ETA: 0s - loss: 3.3171 - accuracy: 0.5791"
     ]
    },
    {
     "name": "stderr",
     "output_type": "stream",
     "text": [
      "2024-03-11 20:49 INFO End of Epoch 629 - Loss: 3.3171\n"
     ]
    },
    {
     "name": "stdout",
     "output_type": "stream",
     "text": [
      "71/71 [==============================] - 21s 293ms/step - loss: 3.3171 - accuracy: 0.5791\n",
      "Epoch 630/1600\n",
      "71/71 [==============================] - ETA: 0s - loss: 4.8470 - accuracy: 0.5728"
     ]
    },
    {
     "name": "stderr",
     "output_type": "stream",
     "text": [
      "2024-03-11 20:49 INFO End of Epoch 630 - Loss: 4.8470\n"
     ]
    },
    {
     "name": "stdout",
     "output_type": "stream",
     "text": [
      "71/71 [==============================] - 21s 290ms/step - loss: 4.8470 - accuracy: 0.5728\n",
      "Epoch 631/1600\n",
      "71/71 [==============================] - ETA: 0s - loss: 7.2113 - accuracy: 0.5809"
     ]
    },
    {
     "name": "stderr",
     "output_type": "stream",
     "text": [
      "2024-03-11 20:49 INFO End of Epoch 631 - Loss: 7.2113\n"
     ]
    },
    {
     "name": "stdout",
     "output_type": "stream",
     "text": [
      "71/71 [==============================] - 20s 287ms/step - loss: 7.2113 - accuracy: 0.5809\n",
      "Epoch 632/1600\n",
      "71/71 [==============================] - ETA: 0s - loss: 6.0664 - accuracy: 0.5882"
     ]
    },
    {
     "name": "stderr",
     "output_type": "stream",
     "text": [
      "2024-03-11 20:50 INFO End of Epoch 632 - Loss: 6.0664\n"
     ]
    },
    {
     "name": "stdout",
     "output_type": "stream",
     "text": [
      "71/71 [==============================] - 21s 293ms/step - loss: 6.0664 - accuracy: 0.5882\n",
      "Epoch 633/1600\n",
      "71/71 [==============================] - ETA: 0s - loss: 4.5208 - accuracy: 0.5955"
     ]
    },
    {
     "name": "stderr",
     "output_type": "stream",
     "text": [
      "2024-03-11 20:50 INFO End of Epoch 633 - Loss: 4.5208\n"
     ]
    },
    {
     "name": "stdout",
     "output_type": "stream",
     "text": [
      "71/71 [==============================] - 20s 288ms/step - loss: 4.5208 - accuracy: 0.5955\n",
      "Epoch 634/1600\n",
      "71/71 [==============================] - ETA: 0s - loss: 4.4734 - accuracy: 0.6041"
     ]
    },
    {
     "name": "stderr",
     "output_type": "stream",
     "text": [
      "2024-03-11 20:51 INFO End of Epoch 634 - Loss: 4.4734\n"
     ]
    },
    {
     "name": "stdout",
     "output_type": "stream",
     "text": [
      "71/71 [==============================] - 20s 288ms/step - loss: 4.4734 - accuracy: 0.6041\n",
      "Epoch 635/1600\n",
      "71/71 [==============================] - ETA: 0s - loss: 3.1892 - accuracy: 0.6049"
     ]
    },
    {
     "name": "stderr",
     "output_type": "stream",
     "text": [
      "2024-03-11 20:51 INFO End of Epoch 635 - Loss: 3.1892\n"
     ]
    },
    {
     "name": "stdout",
     "output_type": "stream",
     "text": [
      "71/71 [==============================] - 21s 289ms/step - loss: 3.1892 - accuracy: 0.6049\n",
      "Epoch 636/1600\n",
      "71/71 [==============================] - ETA: 0s - loss: 3.8745 - accuracy: 0.5823"
     ]
    },
    {
     "name": "stderr",
     "output_type": "stream",
     "text": [
      "2024-03-11 20:52 INFO End of Epoch 636 - Loss: 3.8745\n"
     ]
    },
    {
     "name": "stdout",
     "output_type": "stream",
     "text": [
      "71/71 [==============================] - 20s 285ms/step - loss: 3.8745 - accuracy: 0.5823\n",
      "Epoch 637/1600\n",
      "71/71 [==============================] - ETA: 0s - loss: 4.0493 - accuracy: 0.5846"
     ]
    },
    {
     "name": "stderr",
     "output_type": "stream",
     "text": [
      "2024-03-11 20:52 INFO End of Epoch 637 - Loss: 4.0493\n"
     ]
    },
    {
     "name": "stdout",
     "output_type": "stream",
     "text": [
      "71/71 [==============================] - 21s 293ms/step - loss: 4.0493 - accuracy: 0.5846\n",
      "Epoch 638/1600\n",
      "71/71 [==============================] - ETA: 0s - loss: 5.0993 - accuracy: 0.5985"
     ]
    },
    {
     "name": "stderr",
     "output_type": "stream",
     "text": [
      "2024-03-11 20:52 INFO End of Epoch 638 - Loss: 5.0993\n"
     ]
    },
    {
     "name": "stdout",
     "output_type": "stream",
     "text": [
      "71/71 [==============================] - 21s 291ms/step - loss: 5.0993 - accuracy: 0.5985\n",
      "Epoch 639/1600\n",
      "71/71 [==============================] - ETA: 0s - loss: 5.9099 - accuracy: 0.5857"
     ]
    },
    {
     "name": "stderr",
     "output_type": "stream",
     "text": [
      "2024-03-11 20:53 INFO End of Epoch 639 - Loss: 5.9099\n"
     ]
    },
    {
     "name": "stdout",
     "output_type": "stream",
     "text": [
      "71/71 [==============================] - 21s 289ms/step - loss: 5.9099 - accuracy: 0.5857\n",
      "Epoch 640/1600\n",
      "71/71 [==============================] - ETA: 0s - loss: 5.9144 - accuracy: 0.5901"
     ]
    },
    {
     "name": "stderr",
     "output_type": "stream",
     "text": [
      "2024-03-11 20:53 INFO End of Epoch 640 - Loss: 5.9144\n"
     ]
    },
    {
     "name": "stdout",
     "output_type": "stream",
     "text": [
      "71/71 [==============================] - 21s 291ms/step - loss: 5.9144 - accuracy: 0.5901\n",
      "Epoch 641/1600\n",
      "71/71 [==============================] - ETA: 0s - loss: 6.2274 - accuracy: 0.5785"
     ]
    },
    {
     "name": "stderr",
     "output_type": "stream",
     "text": [
      "2024-03-11 20:54 INFO End of Epoch 641 - Loss: 6.2274\n"
     ]
    },
    {
     "name": "stdout",
     "output_type": "stream",
     "text": [
      "71/71 [==============================] - 21s 290ms/step - loss: 6.2274 - accuracy: 0.5785\n",
      "Epoch 642/1600\n",
      "71/71 [==============================] - ETA: 0s - loss: 5.1392 - accuracy: 0.5875"
     ]
    },
    {
     "name": "stderr",
     "output_type": "stream",
     "text": [
      "2024-03-11 20:54 INFO End of Epoch 642 - Loss: 5.1392\n"
     ]
    },
    {
     "name": "stdout",
     "output_type": "stream",
     "text": [
      "71/71 [==============================] - 20s 287ms/step - loss: 5.1392 - accuracy: 0.5875\n",
      "Epoch 643/1600\n",
      "71/71 [==============================] - ETA: 0s - loss: 5.2763 - accuracy: 0.5843"
     ]
    },
    {
     "name": "stderr",
     "output_type": "stream",
     "text": [
      "2024-03-11 20:55 INFO End of Epoch 643 - Loss: 5.2763\n"
     ]
    },
    {
     "name": "stdout",
     "output_type": "stream",
     "text": [
      "71/71 [==============================] - 21s 292ms/step - loss: 5.2763 - accuracy: 0.5843\n",
      "Epoch 644/1600\n",
      "71/71 [==============================] - ETA: 0s - loss: 6.8121 - accuracy: 0.5795"
     ]
    },
    {
     "name": "stderr",
     "output_type": "stream",
     "text": [
      "2024-03-11 20:55 INFO End of Epoch 644 - Loss: 6.8121\n"
     ]
    },
    {
     "name": "stdout",
     "output_type": "stream",
     "text": [
      "71/71 [==============================] - 21s 291ms/step - loss: 6.8121 - accuracy: 0.5795\n",
      "Epoch 645/1600\n",
      "71/71 [==============================] - ETA: 0s - loss: 5.2700 - accuracy: 0.5819"
     ]
    },
    {
     "name": "stderr",
     "output_type": "stream",
     "text": [
      "2024-03-11 20:56 INFO End of Epoch 645 - Loss: 5.2700\n"
     ]
    },
    {
     "name": "stdout",
     "output_type": "stream",
     "text": [
      "71/71 [==============================] - 21s 290ms/step - loss: 5.2700 - accuracy: 0.5819\n",
      "Epoch 646/1600\n",
      "71/71 [==============================] - ETA: 0s - loss: 4.2301 - accuracy: 0.5978"
     ]
    },
    {
     "name": "stderr",
     "output_type": "stream",
     "text": [
      "2024-03-11 20:56 INFO End of Epoch 646 - Loss: 4.2301\n"
     ]
    },
    {
     "name": "stdout",
     "output_type": "stream",
     "text": [
      "71/71 [==============================] - 21s 292ms/step - loss: 4.2301 - accuracy: 0.5978\n",
      "Epoch 647/1600\n",
      "71/71 [==============================] - ETA: 0s - loss: 3.9562 - accuracy: 0.6036"
     ]
    },
    {
     "name": "stderr",
     "output_type": "stream",
     "text": [
      "2024-03-11 20:56 INFO End of Epoch 647 - Loss: 3.9562\n"
     ]
    },
    {
     "name": "stdout",
     "output_type": "stream",
     "text": [
      "71/71 [==============================] - 21s 290ms/step - loss: 3.9562 - accuracy: 0.6036\n",
      "Epoch 648/1600\n",
      "71/71 [==============================] - ETA: 0s - loss: 5.2317 - accuracy: 0.5815"
     ]
    },
    {
     "name": "stderr",
     "output_type": "stream",
     "text": [
      "2024-03-11 20:57 INFO End of Epoch 648 - Loss: 5.2317\n"
     ]
    },
    {
     "name": "stdout",
     "output_type": "stream",
     "text": [
      "71/71 [==============================] - 21s 291ms/step - loss: 5.2317 - accuracy: 0.5815\n",
      "Epoch 649/1600\n",
      "71/71 [==============================] - ETA: 0s - loss: 5.0451 - accuracy: 0.5731"
     ]
    },
    {
     "name": "stderr",
     "output_type": "stream",
     "text": [
      "2024-03-11 20:57 INFO End of Epoch 649 - Loss: 5.0451\n"
     ]
    },
    {
     "name": "stdout",
     "output_type": "stream",
     "text": [
      "71/71 [==============================] - 21s 292ms/step - loss: 5.0451 - accuracy: 0.5731\n",
      "Epoch 650/1600\n",
      "71/71 [==============================] - ETA: 0s - loss: 3.4531 - accuracy: 0.5910"
     ]
    },
    {
     "name": "stderr",
     "output_type": "stream",
     "text": [
      "2024-03-11 20:58 INFO End of Epoch 650 - Loss: 3.4531\n"
     ]
    },
    {
     "name": "stdout",
     "output_type": "stream",
     "text": [
      "71/71 [==============================] - 21s 289ms/step - loss: 3.4531 - accuracy: 0.5910\n",
      "Epoch 651/1600\n",
      "71/71 [==============================] - ETA: 0s - loss: 2.7398 - accuracy: 0.6113"
     ]
    },
    {
     "name": "stderr",
     "output_type": "stream",
     "text": [
      "2024-03-11 20:58 INFO End of Epoch 651 - Loss: 2.7398\n"
     ]
    },
    {
     "name": "stdout",
     "output_type": "stream",
     "text": [
      "71/71 [==============================] - 21s 292ms/step - loss: 2.7398 - accuracy: 0.6113\n",
      "Epoch 652/1600\n",
      "71/71 [==============================] - ETA: 0s - loss: 3.0312 - accuracy: 0.6080"
     ]
    },
    {
     "name": "stderr",
     "output_type": "stream",
     "text": [
      "2024-03-11 20:59 INFO End of Epoch 652 - Loss: 3.0312\n"
     ]
    },
    {
     "name": "stdout",
     "output_type": "stream",
     "text": [
      "71/71 [==============================] - 21s 292ms/step - loss: 3.0312 - accuracy: 0.6080\n",
      "Epoch 653/1600\n",
      "71/71 [==============================] - ETA: 0s - loss: 2.9589 - accuracy: 0.6066"
     ]
    },
    {
     "name": "stderr",
     "output_type": "stream",
     "text": [
      "2024-03-11 20:59 INFO End of Epoch 653 - Loss: 2.9589\n"
     ]
    },
    {
     "name": "stdout",
     "output_type": "stream",
     "text": [
      "71/71 [==============================] - 21s 289ms/step - loss: 2.9589 - accuracy: 0.6066\n",
      "Epoch 654/1600\n",
      "71/71 [==============================] - ETA: 0s - loss: 7.7819 - accuracy: 0.5681"
     ]
    },
    {
     "name": "stderr",
     "output_type": "stream",
     "text": [
      "2024-03-11 21:00 INFO End of Epoch 654 - Loss: 7.7819\n"
     ]
    },
    {
     "name": "stdout",
     "output_type": "stream",
     "text": [
      "71/71 [==============================] - 21s 292ms/step - loss: 7.7819 - accuracy: 0.5681\n",
      "Epoch 655/1600\n",
      "71/71 [==============================] - ETA: 0s - loss: 7.9591 - accuracy: 0.5808"
     ]
    },
    {
     "name": "stderr",
     "output_type": "stream",
     "text": [
      "2024-03-11 21:00 INFO End of Epoch 655 - Loss: 7.9591\n"
     ]
    },
    {
     "name": "stdout",
     "output_type": "stream",
     "text": [
      "71/71 [==============================] - 21s 292ms/step - loss: 7.9591 - accuracy: 0.5808\n",
      "Epoch 656/1600\n",
      "71/71 [==============================] - ETA: 0s - loss: 10.6238 - accuracy: 0.5768"
     ]
    },
    {
     "name": "stderr",
     "output_type": "stream",
     "text": [
      "2024-03-11 21:00 INFO End of Epoch 656 - Loss: 10.6238\n"
     ]
    },
    {
     "name": "stdout",
     "output_type": "stream",
     "text": [
      "71/71 [==============================] - 21s 292ms/step - loss: 10.6238 - accuracy: 0.5768\n",
      "Epoch 657/1600\n",
      "71/71 [==============================] - ETA: 0s - loss: 9.3574 - accuracy: 0.5964"
     ]
    },
    {
     "name": "stderr",
     "output_type": "stream",
     "text": [
      "2024-03-11 21:01 INFO End of Epoch 657 - Loss: 9.3574\n"
     ]
    },
    {
     "name": "stdout",
     "output_type": "stream",
     "text": [
      "71/71 [==============================] - 21s 292ms/step - loss: 9.3574 - accuracy: 0.5964\n",
      "Epoch 658/1600\n",
      "71/71 [==============================] - ETA: 0s - loss: 10.1489 - accuracy: 0.5610"
     ]
    },
    {
     "name": "stderr",
     "output_type": "stream",
     "text": [
      "2024-03-11 21:01 INFO End of Epoch 658 - Loss: 10.1489\n"
     ]
    },
    {
     "name": "stdout",
     "output_type": "stream",
     "text": [
      "71/71 [==============================] - 21s 292ms/step - loss: 10.1489 - accuracy: 0.5610\n",
      "Epoch 659/1600\n",
      "71/71 [==============================] - ETA: 0s - loss: 7.0361 - accuracy: 0.5524"
     ]
    },
    {
     "name": "stderr",
     "output_type": "stream",
     "text": [
      "2024-03-11 21:02 INFO End of Epoch 659 - Loss: 7.0361\n"
     ]
    },
    {
     "name": "stdout",
     "output_type": "stream",
     "text": [
      "71/71 [==============================] - 21s 293ms/step - loss: 7.0361 - accuracy: 0.5524\n",
      "Epoch 660/1600\n",
      "71/71 [==============================] - ETA: 0s - loss: 4.4996 - accuracy: 0.5734"
     ]
    },
    {
     "name": "stderr",
     "output_type": "stream",
     "text": [
      "2024-03-11 21:02 INFO End of Epoch 660 - Loss: 4.4996\n"
     ]
    },
    {
     "name": "stdout",
     "output_type": "stream",
     "text": [
      "71/71 [==============================] - 21s 293ms/step - loss: 4.4996 - accuracy: 0.5734\n",
      "Epoch 661/1600\n",
      "71/71 [==============================] - ETA: 0s - loss: 2.4607 - accuracy: 0.5943"
     ]
    },
    {
     "name": "stderr",
     "output_type": "stream",
     "text": [
      "2024-03-11 21:03 INFO End of Epoch 661 - Loss: 2.4607\n"
     ]
    },
    {
     "name": "stdout",
     "output_type": "stream",
     "text": [
      "71/71 [==============================] - 21s 293ms/step - loss: 2.4607 - accuracy: 0.5943\n",
      "Epoch 662/1600\n",
      "71/71 [==============================] - ETA: 0s - loss: 2.1190 - accuracy: 0.6103"
     ]
    },
    {
     "name": "stderr",
     "output_type": "stream",
     "text": [
      "2024-03-11 21:03 INFO End of Epoch 662 - Loss: 2.1190\n"
     ]
    },
    {
     "name": "stdout",
     "output_type": "stream",
     "text": [
      "71/71 [==============================] - 21s 290ms/step - loss: 2.1190 - accuracy: 0.6103\n",
      "Epoch 663/1600\n",
      "71/71 [==============================] - ETA: 0s - loss: 2.2025 - accuracy: 0.5801"
     ]
    },
    {
     "name": "stderr",
     "output_type": "stream",
     "text": [
      "2024-03-11 21:04 INFO End of Epoch 663 - Loss: 2.2025\n"
     ]
    },
    {
     "name": "stdout",
     "output_type": "stream",
     "text": [
      "71/71 [==============================] - 21s 293ms/step - loss: 2.2025 - accuracy: 0.5801\n",
      "Epoch 664/1600\n",
      "71/71 [==============================] - ETA: 0s - loss: 1.7316 - accuracy: 0.5869"
     ]
    },
    {
     "name": "stderr",
     "output_type": "stream",
     "text": [
      "2024-03-11 21:04 INFO End of Epoch 664 - Loss: 1.7316\n"
     ]
    },
    {
     "name": "stdout",
     "output_type": "stream",
     "text": [
      "71/71 [==============================] - 21s 292ms/step - loss: 1.7316 - accuracy: 0.5869\n",
      "Epoch 665/1600\n",
      "71/71 [==============================] - ETA: 0s - loss: 1.3586 - accuracy: 0.5875"
     ]
    },
    {
     "name": "stderr",
     "output_type": "stream",
     "text": [
      "2024-03-11 21:04 INFO End of Epoch 665 - Loss: 1.3586\n"
     ]
    },
    {
     "name": "stdout",
     "output_type": "stream",
     "text": [
      "71/71 [==============================] - 21s 290ms/step - loss: 1.3586 - accuracy: 0.5875\n",
      "Epoch 666/1600\n",
      "71/71 [==============================] - ETA: 0s - loss: 1.4327 - accuracy: 0.5957"
     ]
    },
    {
     "name": "stderr",
     "output_type": "stream",
     "text": [
      "2024-03-11 21:05 INFO End of Epoch 666 - Loss: 1.4327\n"
     ]
    },
    {
     "name": "stdout",
     "output_type": "stream",
     "text": [
      "71/71 [==============================] - 21s 292ms/step - loss: 1.4327 - accuracy: 0.5957\n",
      "Epoch 667/1600\n",
      "71/71 [==============================] - ETA: 0s - loss: 1.7958 - accuracy: 0.6208"
     ]
    },
    {
     "name": "stderr",
     "output_type": "stream",
     "text": [
      "2024-03-11 21:05 INFO End of Epoch 667 - Loss: 1.7958\n"
     ]
    },
    {
     "name": "stdout",
     "output_type": "stream",
     "text": [
      "71/71 [==============================] - 21s 293ms/step - loss: 1.7958 - accuracy: 0.6208\n",
      "Epoch 668/1600\n",
      "71/71 [==============================] - ETA: 0s - loss: 3.4192 - accuracy: 0.5879"
     ]
    },
    {
     "name": "stderr",
     "output_type": "stream",
     "text": [
      "2024-03-11 21:06 INFO End of Epoch 668 - Loss: 3.4192\n"
     ]
    },
    {
     "name": "stdout",
     "output_type": "stream",
     "text": [
      "71/71 [==============================] - 21s 293ms/step - loss: 3.4192 - accuracy: 0.5879\n",
      "Epoch 669/1600\n",
      "71/71 [==============================] - ETA: 0s - loss: 6.9326 - accuracy: 0.5934"
     ]
    },
    {
     "name": "stderr",
     "output_type": "stream",
     "text": [
      "2024-03-11 21:06 INFO End of Epoch 669 - Loss: 6.9326\n"
     ]
    },
    {
     "name": "stdout",
     "output_type": "stream",
     "text": [
      "71/71 [==============================] - 21s 293ms/step - loss: 6.9326 - accuracy: 0.5934\n",
      "Epoch 670/1600\n",
      "71/71 [==============================] - ETA: 0s - loss: 12.4127 - accuracy: 0.5345"
     ]
    },
    {
     "name": "stderr",
     "output_type": "stream",
     "text": [
      "2024-03-11 21:07 INFO End of Epoch 670 - Loss: 12.4127\n"
     ]
    },
    {
     "name": "stdout",
     "output_type": "stream",
     "text": [
      "71/71 [==============================] - 20s 287ms/step - loss: 12.4127 - accuracy: 0.5345\n",
      "Epoch 671/1600\n",
      "71/71 [==============================] - ETA: 0s - loss: 17.9813 - accuracy: 0.5534"
     ]
    },
    {
     "name": "stderr",
     "output_type": "stream",
     "text": [
      "2024-03-11 21:07 INFO End of Epoch 671 - Loss: 17.9813\n"
     ]
    },
    {
     "name": "stdout",
     "output_type": "stream",
     "text": [
      "71/71 [==============================] - 21s 289ms/step - loss: 17.9813 - accuracy: 0.5534\n",
      "Epoch 672/1600\n",
      "71/71 [==============================] - ETA: 0s - loss: 11.3095 - accuracy: 0.5505"
     ]
    },
    {
     "name": "stderr",
     "output_type": "stream",
     "text": [
      "2024-03-11 21:08 INFO End of Epoch 672 - Loss: 11.3095\n"
     ]
    },
    {
     "name": "stdout",
     "output_type": "stream",
     "text": [
      "71/71 [==============================] - 21s 293ms/step - loss: 11.3095 - accuracy: 0.5505\n",
      "Epoch 673/1600\n",
      "71/71 [==============================] - ETA: 0s - loss: 5.4288 - accuracy: 0.5884"
     ]
    },
    {
     "name": "stderr",
     "output_type": "stream",
     "text": [
      "2024-03-11 21:08 INFO End of Epoch 673 - Loss: 5.4288\n"
     ]
    },
    {
     "name": "stdout",
     "output_type": "stream",
     "text": [
      "71/71 [==============================] - 21s 290ms/step - loss: 5.4288 - accuracy: 0.5884\n",
      "Epoch 674/1600\n",
      "71/71 [==============================] - ETA: 0s - loss: 4.1202 - accuracy: 0.5804"
     ]
    },
    {
     "name": "stderr",
     "output_type": "stream",
     "text": [
      "2024-03-11 21:08 INFO End of Epoch 674 - Loss: 4.1202\n"
     ]
    },
    {
     "name": "stdout",
     "output_type": "stream",
     "text": [
      "71/71 [==============================] - 21s 291ms/step - loss: 4.1202 - accuracy: 0.5804\n",
      "Epoch 675/1600\n",
      "71/71 [==============================] - ETA: 0s - loss: 2.9900 - accuracy: 0.5754"
     ]
    },
    {
     "name": "stderr",
     "output_type": "stream",
     "text": [
      "2024-03-11 21:09 INFO End of Epoch 675 - Loss: 2.9900\n"
     ]
    },
    {
     "name": "stdout",
     "output_type": "stream",
     "text": [
      "71/71 [==============================] - 21s 292ms/step - loss: 2.9900 - accuracy: 0.5754\n",
      "Epoch 676/1600\n",
      "71/71 [==============================] - ETA: 0s - loss: 2.7958 - accuracy: 0.5907"
     ]
    },
    {
     "name": "stderr",
     "output_type": "stream",
     "text": [
      "2024-03-11 21:09 INFO End of Epoch 676 - Loss: 2.7958\n"
     ]
    },
    {
     "name": "stdout",
     "output_type": "stream",
     "text": [
      "71/71 [==============================] - 20s 287ms/step - loss: 2.7958 - accuracy: 0.5907\n",
      "Epoch 677/1600\n",
      "71/71 [==============================] - ETA: 0s - loss: 2.3797 - accuracy: 0.5865"
     ]
    },
    {
     "name": "stderr",
     "output_type": "stream",
     "text": [
      "2024-03-11 21:10 INFO End of Epoch 677 - Loss: 2.3797\n"
     ]
    },
    {
     "name": "stdout",
     "output_type": "stream",
     "text": [
      "71/71 [==============================] - 21s 293ms/step - loss: 2.3797 - accuracy: 0.5865\n",
      "Epoch 678/1600\n",
      "71/71 [==============================] - ETA: 0s - loss: 1.8626 - accuracy: 0.5994"
     ]
    },
    {
     "name": "stderr",
     "output_type": "stream",
     "text": [
      "2024-03-11 21:10 INFO End of Epoch 678 - Loss: 1.8626\n"
     ]
    },
    {
     "name": "stdout",
     "output_type": "stream",
     "text": [
      "71/71 [==============================] - 20s 286ms/step - loss: 1.8626 - accuracy: 0.5994\n",
      "Epoch 679/1600\n",
      "71/71 [==============================] - ETA: 0s - loss: 2.3903 - accuracy: 0.5769"
     ]
    },
    {
     "name": "stderr",
     "output_type": "stream",
     "text": [
      "2024-03-11 21:11 INFO End of Epoch 679 - Loss: 2.3903\n"
     ]
    },
    {
     "name": "stdout",
     "output_type": "stream",
     "text": [
      "71/71 [==============================] - 21s 290ms/step - loss: 2.3903 - accuracy: 0.5769\n",
      "Epoch 680/1600\n",
      "71/71 [==============================] - ETA: 0s - loss: 3.5299 - accuracy: 0.5909"
     ]
    },
    {
     "name": "stderr",
     "output_type": "stream",
     "text": [
      "2024-03-11 21:11 INFO End of Epoch 680 - Loss: 3.5299\n"
     ]
    },
    {
     "name": "stdout",
     "output_type": "stream",
     "text": [
      "71/71 [==============================] - 20s 288ms/step - loss: 3.5299 - accuracy: 0.5909\n",
      "Epoch 681/1600\n",
      "71/71 [==============================] - ETA: 0s - loss: 3.1009 - accuracy: 0.6151"
     ]
    },
    {
     "name": "stderr",
     "output_type": "stream",
     "text": [
      "2024-03-11 21:12 INFO End of Epoch 681 - Loss: 3.1009\n"
     ]
    },
    {
     "name": "stdout",
     "output_type": "stream",
     "text": [
      "71/71 [==============================] - 21s 291ms/step - loss: 3.1009 - accuracy: 0.6151\n",
      "Epoch 682/1600\n",
      "71/71 [==============================] - ETA: 0s - loss: 2.9188 - accuracy: 0.6114"
     ]
    },
    {
     "name": "stderr",
     "output_type": "stream",
     "text": [
      "2024-03-11 21:12 INFO End of Epoch 682 - Loss: 2.9188\n"
     ]
    },
    {
     "name": "stdout",
     "output_type": "stream",
     "text": [
      "71/71 [==============================] - 20s 289ms/step - loss: 2.9188 - accuracy: 0.6114\n",
      "Epoch 683/1600\n",
      "71/71 [==============================] - ETA: 0s - loss: 3.3244 - accuracy: 0.5813"
     ]
    },
    {
     "name": "stderr",
     "output_type": "stream",
     "text": [
      "2024-03-11 21:12 INFO End of Epoch 683 - Loss: 3.3244\n"
     ]
    },
    {
     "name": "stdout",
     "output_type": "stream",
     "text": [
      "71/71 [==============================] - 20s 289ms/step - loss: 3.3244 - accuracy: 0.5813\n",
      "Epoch 684/1600\n",
      "71/71 [==============================] - ETA: 0s - loss: 4.2544 - accuracy: 0.5936"
     ]
    },
    {
     "name": "stderr",
     "output_type": "stream",
     "text": [
      "2024-03-11 21:13 INFO End of Epoch 684 - Loss: 4.2544\n"
     ]
    },
    {
     "name": "stdout",
     "output_type": "stream",
     "text": [
      "71/71 [==============================] - 21s 291ms/step - loss: 4.2544 - accuracy: 0.5936\n",
      "Epoch 685/1600\n",
      "71/71 [==============================] - ETA: 0s - loss: 5.7287 - accuracy: 0.5813"
     ]
    },
    {
     "name": "stderr",
     "output_type": "stream",
     "text": [
      "2024-03-11 21:13 INFO End of Epoch 685 - Loss: 5.7287\n"
     ]
    },
    {
     "name": "stdout",
     "output_type": "stream",
     "text": [
      "71/71 [==============================] - 21s 292ms/step - loss: 5.7287 - accuracy: 0.5813\n",
      "Epoch 686/1600\n",
      "71/71 [==============================] - ETA: 0s - loss: 6.0248 - accuracy: 0.5781"
     ]
    },
    {
     "name": "stderr",
     "output_type": "stream",
     "text": [
      "2024-03-11 21:14 INFO End of Epoch 686 - Loss: 6.0248\n"
     ]
    },
    {
     "name": "stdout",
     "output_type": "stream",
     "text": [
      "71/71 [==============================] - 21s 291ms/step - loss: 6.0248 - accuracy: 0.5781\n",
      "Epoch 687/1600\n",
      "71/71 [==============================] - ETA: 0s - loss: 5.1847 - accuracy: 0.6045"
     ]
    },
    {
     "name": "stderr",
     "output_type": "stream",
     "text": [
      "2024-03-11 21:14 INFO End of Epoch 687 - Loss: 5.1847\n"
     ]
    },
    {
     "name": "stdout",
     "output_type": "stream",
     "text": [
      "71/71 [==============================] - 21s 291ms/step - loss: 5.1847 - accuracy: 0.6045\n",
      "Epoch 688/1600\n",
      "71/71 [==============================] - ETA: 0s - loss: 7.3229 - accuracy: 0.5852"
     ]
    },
    {
     "name": "stderr",
     "output_type": "stream",
     "text": [
      "2024-03-11 21:15 INFO End of Epoch 688 - Loss: 7.3229\n"
     ]
    },
    {
     "name": "stdout",
     "output_type": "stream",
     "text": [
      "71/71 [==============================] - 21s 292ms/step - loss: 7.3229 - accuracy: 0.5852\n",
      "Epoch 689/1600\n",
      "71/71 [==============================] - ETA: 0s - loss: 7.0565 - accuracy: 0.5744"
     ]
    },
    {
     "name": "stderr",
     "output_type": "stream",
     "text": [
      "2024-03-11 21:15 INFO End of Epoch 689 - Loss: 7.0565\n"
     ]
    },
    {
     "name": "stdout",
     "output_type": "stream",
     "text": [
      "71/71 [==============================] - 21s 291ms/step - loss: 7.0565 - accuracy: 0.5744\n",
      "Epoch 690/1600\n",
      "71/71 [==============================] - ETA: 0s - loss: 13.7895 - accuracy: 0.5842"
     ]
    },
    {
     "name": "stderr",
     "output_type": "stream",
     "text": [
      "2024-03-11 21:16 INFO End of Epoch 690 - Loss: 13.7895\n"
     ]
    },
    {
     "name": "stdout",
     "output_type": "stream",
     "text": [
      "71/71 [==============================] - 21s 290ms/step - loss: 13.7895 - accuracy: 0.5842\n",
      "Epoch 691/1600\n",
      "71/71 [==============================] - ETA: 0s - loss: 12.2469 - accuracy: 0.5586"
     ]
    },
    {
     "name": "stderr",
     "output_type": "stream",
     "text": [
      "2024-03-11 21:16 INFO End of Epoch 691 - Loss: 12.2469\n"
     ]
    },
    {
     "name": "stdout",
     "output_type": "stream",
     "text": [
      "71/71 [==============================] - 21s 291ms/step - loss: 12.2469 - accuracy: 0.5586\n",
      "Epoch 692/1600\n",
      "71/71 [==============================] - ETA: 0s - loss: 5.9536 - accuracy: 0.6004"
     ]
    },
    {
     "name": "stderr",
     "output_type": "stream",
     "text": [
      "2024-03-11 21:16 INFO End of Epoch 692 - Loss: 5.9536\n"
     ]
    },
    {
     "name": "stdout",
     "output_type": "stream",
     "text": [
      "71/71 [==============================] - 21s 291ms/step - loss: 5.9536 - accuracy: 0.6004\n",
      "Epoch 693/1600\n",
      "71/71 [==============================] - ETA: 0s - loss: 4.9173 - accuracy: 0.5923"
     ]
    },
    {
     "name": "stderr",
     "output_type": "stream",
     "text": [
      "2024-03-11 21:17 INFO End of Epoch 693 - Loss: 4.9173\n"
     ]
    },
    {
     "name": "stdout",
     "output_type": "stream",
     "text": [
      "71/71 [==============================] - 20s 289ms/step - loss: 4.9173 - accuracy: 0.5923\n",
      "Epoch 694/1600\n",
      "71/71 [==============================] - ETA: 0s - loss: 3.5186 - accuracy: 0.6090"
     ]
    },
    {
     "name": "stderr",
     "output_type": "stream",
     "text": [
      "2024-03-11 21:17 INFO End of Epoch 694 - Loss: 3.5186\n"
     ]
    },
    {
     "name": "stdout",
     "output_type": "stream",
     "text": [
      "71/71 [==============================] - 21s 292ms/step - loss: 3.5186 - accuracy: 0.6090\n",
      "Epoch 695/1600\n",
      "71/71 [==============================] - ETA: 0s - loss: 2.6030 - accuracy: 0.6056"
     ]
    },
    {
     "name": "stderr",
     "output_type": "stream",
     "text": [
      "2024-03-11 21:18 INFO End of Epoch 695 - Loss: 2.6030\n"
     ]
    },
    {
     "name": "stdout",
     "output_type": "stream",
     "text": [
      "71/71 [==============================] - 21s 293ms/step - loss: 2.6030 - accuracy: 0.6056\n",
      "Epoch 696/1600\n",
      "71/71 [==============================] - ETA: 0s - loss: 2.3890 - accuracy: 0.6166"
     ]
    },
    {
     "name": "stderr",
     "output_type": "stream",
     "text": [
      "2024-03-11 21:18 INFO End of Epoch 696 - Loss: 2.3890\n"
     ]
    },
    {
     "name": "stdout",
     "output_type": "stream",
     "text": [
      "71/71 [==============================] - 21s 292ms/step - loss: 2.3890 - accuracy: 0.6166\n",
      "Epoch 697/1600\n",
      "71/71 [==============================] - ETA: 0s - loss: 2.5899 - accuracy: 0.6241"
     ]
    },
    {
     "name": "stderr",
     "output_type": "stream",
     "text": [
      "2024-03-11 21:19 INFO End of Epoch 697 - Loss: 2.5899\n"
     ]
    },
    {
     "name": "stdout",
     "output_type": "stream",
     "text": [
      "71/71 [==============================] - 21s 290ms/step - loss: 2.5899 - accuracy: 0.6241\n",
      "Epoch 698/1600\n",
      "71/71 [==============================] - ETA: 0s - loss: 4.1268 - accuracy: 0.5906"
     ]
    },
    {
     "name": "stderr",
     "output_type": "stream",
     "text": [
      "2024-03-11 21:19 INFO End of Epoch 698 - Loss: 4.1268\n"
     ]
    },
    {
     "name": "stdout",
     "output_type": "stream",
     "text": [
      "71/71 [==============================] - 21s 293ms/step - loss: 4.1268 - accuracy: 0.5906\n",
      "Epoch 699/1600\n",
      "71/71 [==============================] - ETA: 0s - loss: 4.2417 - accuracy: 0.5941"
     ]
    },
    {
     "name": "stderr",
     "output_type": "stream",
     "text": [
      "2024-03-11 21:20 INFO End of Epoch 699 - Loss: 4.2417\n"
     ]
    },
    {
     "name": "stdout",
     "output_type": "stream",
     "text": [
      "71/71 [==============================] - 21s 291ms/step - loss: 4.2417 - accuracy: 0.5941\n",
      "Epoch 700/1600\n",
      "71/71 [==============================] - ETA: 0s - loss: 3.8062 - accuracy: 0.6131"
     ]
    },
    {
     "name": "stderr",
     "output_type": "stream",
     "text": [
      "2024-03-11 21:20 INFO End of Epoch 700 - Loss: 3.8062\n"
     ]
    },
    {
     "name": "stdout",
     "output_type": "stream",
     "text": [
      "71/71 [==============================] - 21s 292ms/step - loss: 3.8062 - accuracy: 0.6131\n",
      "Epoch 701/1600\n",
      "71/71 [==============================] - ETA: 0s - loss: 4.7731 - accuracy: 0.6082"
     ]
    },
    {
     "name": "stderr",
     "output_type": "stream",
     "text": [
      "2024-03-11 21:20 INFO End of Epoch 701 - Loss: 4.7731\n"
     ]
    },
    {
     "name": "stdout",
     "output_type": "stream",
     "text": [
      "71/71 [==============================] - 21s 292ms/step - loss: 4.7731 - accuracy: 0.6082\n",
      "Epoch 702/1600\n",
      "71/71 [==============================] - ETA: 0s - loss: 6.3763 - accuracy: 0.5700"
     ]
    },
    {
     "name": "stderr",
     "output_type": "stream",
     "text": [
      "2024-03-11 21:21 INFO End of Epoch 702 - Loss: 6.3763\n"
     ]
    },
    {
     "name": "stdout",
     "output_type": "stream",
     "text": [
      "71/71 [==============================] - 21s 292ms/step - loss: 6.3763 - accuracy: 0.5700\n",
      "Epoch 703/1600\n",
      "71/71 [==============================] - ETA: 0s - loss: 5.9723 - accuracy: 0.5781"
     ]
    },
    {
     "name": "stderr",
     "output_type": "stream",
     "text": [
      "2024-03-11 21:21 INFO End of Epoch 703 - Loss: 5.9723\n"
     ]
    },
    {
     "name": "stdout",
     "output_type": "stream",
     "text": [
      "71/71 [==============================] - 21s 290ms/step - loss: 5.9723 - accuracy: 0.5781\n",
      "Epoch 704/1600\n",
      "71/71 [==============================] - ETA: 0s - loss: 4.8467 - accuracy: 0.6066"
     ]
    },
    {
     "name": "stderr",
     "output_type": "stream",
     "text": [
      "2024-03-11 21:22 INFO End of Epoch 704 - Loss: 4.8467\n"
     ]
    },
    {
     "name": "stdout",
     "output_type": "stream",
     "text": [
      "71/71 [==============================] - 21s 295ms/step - loss: 4.8467 - accuracy: 0.6066\n",
      "Epoch 705/1600\n",
      "71/71 [==============================] - ETA: 0s - loss: 6.2770 - accuracy: 0.5836"
     ]
    },
    {
     "name": "stderr",
     "output_type": "stream",
     "text": [
      "2024-03-11 21:22 INFO End of Epoch 705 - Loss: 6.2770\n"
     ]
    },
    {
     "name": "stdout",
     "output_type": "stream",
     "text": [
      "71/71 [==============================] - 21s 292ms/step - loss: 6.2770 - accuracy: 0.5836\n",
      "Epoch 706/1600\n",
      "71/71 [==============================] - ETA: 0s - loss: 5.7252 - accuracy: 0.5964"
     ]
    },
    {
     "name": "stderr",
     "output_type": "stream",
     "text": [
      "2024-03-11 21:23 INFO End of Epoch 706 - Loss: 5.7252\n"
     ]
    },
    {
     "name": "stdout",
     "output_type": "stream",
     "text": [
      "71/71 [==============================] - 21s 291ms/step - loss: 5.7252 - accuracy: 0.5964\n",
      "Epoch 707/1600\n",
      "71/71 [==============================] - ETA: 0s - loss: 6.2680 - accuracy: 0.5799"
     ]
    },
    {
     "name": "stderr",
     "output_type": "stream",
     "text": [
      "2024-03-11 21:23 INFO End of Epoch 707 - Loss: 6.2680\n"
     ]
    },
    {
     "name": "stdout",
     "output_type": "stream",
     "text": [
      "71/71 [==============================] - 20s 287ms/step - loss: 6.2680 - accuracy: 0.5799\n",
      "Epoch 708/1600\n",
      "71/71 [==============================] - ETA: 0s - loss: 5.4045 - accuracy: 0.6069"
     ]
    },
    {
     "name": "stderr",
     "output_type": "stream",
     "text": [
      "2024-03-11 21:24 INFO End of Epoch 708 - Loss: 5.4045\n"
     ]
    },
    {
     "name": "stdout",
     "output_type": "stream",
     "text": [
      "71/71 [==============================] - 21s 292ms/step - loss: 5.4045 - accuracy: 0.6069\n",
      "Epoch 709/1600\n",
      "71/71 [==============================] - ETA: 0s - loss: 3.4521 - accuracy: 0.6086"
     ]
    },
    {
     "name": "stderr",
     "output_type": "stream",
     "text": [
      "2024-03-11 21:24 INFO End of Epoch 709 - Loss: 3.4521\n"
     ]
    },
    {
     "name": "stdout",
     "output_type": "stream",
     "text": [
      "71/71 [==============================] - 21s 291ms/step - loss: 3.4521 - accuracy: 0.6086\n",
      "Epoch 710/1600\n",
      "71/71 [==============================] - ETA: 0s - loss: 5.1315 - accuracy: 0.5816"
     ]
    },
    {
     "name": "stderr",
     "output_type": "stream",
     "text": [
      "2024-03-11 21:24 INFO End of Epoch 710 - Loss: 5.1315\n"
     ]
    },
    {
     "name": "stdout",
     "output_type": "stream",
     "text": [
      "71/71 [==============================] - 20s 288ms/step - loss: 5.1315 - accuracy: 0.5816\n",
      "Epoch 711/1600\n",
      "71/71 [==============================] - ETA: 0s - loss: 5.8101 - accuracy: 0.5819"
     ]
    },
    {
     "name": "stderr",
     "output_type": "stream",
     "text": [
      "2024-03-11 21:25 INFO End of Epoch 711 - Loss: 5.8101\n"
     ]
    },
    {
     "name": "stdout",
     "output_type": "stream",
     "text": [
      "71/71 [==============================] - 21s 290ms/step - loss: 5.8101 - accuracy: 0.5819\n",
      "Epoch 712/1600\n",
      "71/71 [==============================] - ETA: 0s - loss: 3.6897 - accuracy: 0.5987"
     ]
    },
    {
     "name": "stderr",
     "output_type": "stream",
     "text": [
      "2024-03-11 21:25 INFO End of Epoch 712 - Loss: 3.6897\n"
     ]
    },
    {
     "name": "stdout",
     "output_type": "stream",
     "text": [
      "71/71 [==============================] - 21s 292ms/step - loss: 3.6897 - accuracy: 0.5987\n",
      "Epoch 713/1600\n",
      "71/71 [==============================] - ETA: 0s - loss: 4.3367 - accuracy: 0.5717"
     ]
    },
    {
     "name": "stderr",
     "output_type": "stream",
     "text": [
      "2024-03-11 21:26 INFO End of Epoch 713 - Loss: 4.3367\n"
     ]
    },
    {
     "name": "stdout",
     "output_type": "stream",
     "text": [
      "71/71 [==============================] - 21s 290ms/step - loss: 4.3367 - accuracy: 0.5717\n",
      "Epoch 714/1600\n",
      "71/71 [==============================] - ETA: 0s - loss: 3.9545 - accuracy: 0.5900"
     ]
    },
    {
     "name": "stderr",
     "output_type": "stream",
     "text": [
      "2024-03-11 21:26 INFO End of Epoch 714 - Loss: 3.9545\n"
     ]
    },
    {
     "name": "stdout",
     "output_type": "stream",
     "text": [
      "71/71 [==============================] - 21s 290ms/step - loss: 3.9545 - accuracy: 0.5900\n",
      "Epoch 715/1600\n",
      "71/71 [==============================] - ETA: 0s - loss: 2.9624 - accuracy: 0.6117"
     ]
    },
    {
     "name": "stderr",
     "output_type": "stream",
     "text": [
      "2024-03-11 21:27 INFO End of Epoch 715 - Loss: 2.9624\n"
     ]
    },
    {
     "name": "stdout",
     "output_type": "stream",
     "text": [
      "71/71 [==============================] - 20s 289ms/step - loss: 2.9624 - accuracy: 0.6117\n",
      "Epoch 716/1600\n",
      "71/71 [==============================] - ETA: 0s - loss: 3.6215 - accuracy: 0.5975"
     ]
    },
    {
     "name": "stderr",
     "output_type": "stream",
     "text": [
      "2024-03-11 21:27 INFO End of Epoch 716 - Loss: 3.6215\n"
     ]
    },
    {
     "name": "stdout",
     "output_type": "stream",
     "text": [
      "71/71 [==============================] - 21s 291ms/step - loss: 3.6215 - accuracy: 0.5975\n",
      "Epoch 717/1600\n",
      "71/71 [==============================] - ETA: 0s - loss: 9.0343 - accuracy: 0.6019"
     ]
    },
    {
     "name": "stderr",
     "output_type": "stream",
     "text": [
      "2024-03-11 21:28 INFO End of Epoch 717 - Loss: 9.0343\n"
     ]
    },
    {
     "name": "stdout",
     "output_type": "stream",
     "text": [
      "71/71 [==============================] - 21s 291ms/step - loss: 9.0343 - accuracy: 0.6019\n",
      "Epoch 718/1600\n",
      "71/71 [==============================] - ETA: 0s - loss: 10.1057 - accuracy: 0.5643"
     ]
    },
    {
     "name": "stderr",
     "output_type": "stream",
     "text": [
      "2024-03-11 21:28 INFO End of Epoch 718 - Loss: 10.1057\n"
     ]
    },
    {
     "name": "stdout",
     "output_type": "stream",
     "text": [
      "71/71 [==============================] - 21s 292ms/step - loss: 10.1057 - accuracy: 0.5643\n",
      "Epoch 719/1600\n",
      "71/71 [==============================] - ETA: 0s - loss: 9.1271 - accuracy: 0.5717"
     ]
    },
    {
     "name": "stderr",
     "output_type": "stream",
     "text": [
      "2024-03-11 21:28 INFO End of Epoch 719 - Loss: 9.1271\n"
     ]
    },
    {
     "name": "stdout",
     "output_type": "stream",
     "text": [
      "71/71 [==============================] - 21s 292ms/step - loss: 9.1271 - accuracy: 0.5717\n",
      "Epoch 720/1600\n",
      "71/71 [==============================] - ETA: 0s - loss: 8.3504 - accuracy: 0.5771"
     ]
    },
    {
     "name": "stderr",
     "output_type": "stream",
     "text": [
      "2024-03-11 21:29 INFO End of Epoch 720 - Loss: 8.3504\n"
     ]
    },
    {
     "name": "stdout",
     "output_type": "stream",
     "text": [
      "71/71 [==============================] - 21s 292ms/step - loss: 8.3504 - accuracy: 0.5771\n",
      "Epoch 721/1600\n",
      "71/71 [==============================] - ETA: 0s - loss: 9.6035 - accuracy: 0.5562"
     ]
    },
    {
     "name": "stderr",
     "output_type": "stream",
     "text": [
      "2024-03-11 21:29 INFO End of Epoch 721 - Loss: 9.6035\n"
     ]
    },
    {
     "name": "stdout",
     "output_type": "stream",
     "text": [
      "71/71 [==============================] - 21s 292ms/step - loss: 9.6035 - accuracy: 0.5562\n",
      "Epoch 722/1600\n",
      "71/71 [==============================] - ETA: 0s - loss: 7.3443 - accuracy: 0.5737"
     ]
    },
    {
     "name": "stderr",
     "output_type": "stream",
     "text": [
      "2024-03-11 21:30 INFO End of Epoch 722 - Loss: 7.3443\n"
     ]
    },
    {
     "name": "stdout",
     "output_type": "stream",
     "text": [
      "71/71 [==============================] - 21s 290ms/step - loss: 7.3443 - accuracy: 0.5737\n",
      "Epoch 723/1600\n",
      "71/71 [==============================] - ETA: 0s - loss: 4.6680 - accuracy: 0.5877"
     ]
    },
    {
     "name": "stderr",
     "output_type": "stream",
     "text": [
      "2024-03-11 21:30 INFO End of Epoch 723 - Loss: 4.6680\n"
     ]
    },
    {
     "name": "stdout",
     "output_type": "stream",
     "text": [
      "71/71 [==============================] - 21s 292ms/step - loss: 4.6680 - accuracy: 0.5877\n",
      "Epoch 724/1600\n",
      "71/71 [==============================] - ETA: 0s - loss: 3.0107 - accuracy: 0.6029"
     ]
    },
    {
     "name": "stderr",
     "output_type": "stream",
     "text": [
      "2024-03-11 21:31 INFO End of Epoch 724 - Loss: 3.0107\n"
     ]
    },
    {
     "name": "stdout",
     "output_type": "stream",
     "text": [
      "71/71 [==============================] - 21s 292ms/step - loss: 3.0107 - accuracy: 0.6029\n",
      "Epoch 725/1600\n",
      "71/71 [==============================] - ETA: 0s - loss: 2.8514 - accuracy: 0.5828"
     ]
    },
    {
     "name": "stderr",
     "output_type": "stream",
     "text": [
      "2024-03-11 21:31 INFO End of Epoch 725 - Loss: 2.8514\n"
     ]
    },
    {
     "name": "stdout",
     "output_type": "stream",
     "text": [
      "71/71 [==============================] - 21s 292ms/step - loss: 2.8514 - accuracy: 0.5828\n",
      "Epoch 726/1600\n",
      "71/71 [==============================] - ETA: 0s - loss: 2.7170 - accuracy: 0.5930"
     ]
    },
    {
     "name": "stderr",
     "output_type": "stream",
     "text": [
      "2024-03-11 21:32 INFO End of Epoch 726 - Loss: 2.7170\n"
     ]
    },
    {
     "name": "stdout",
     "output_type": "stream",
     "text": [
      "71/71 [==============================] - 21s 292ms/step - loss: 2.7170 - accuracy: 0.5930\n",
      "Epoch 727/1600\n",
      "71/71 [==============================] - ETA: 0s - loss: 4.6549 - accuracy: 0.5784"
     ]
    },
    {
     "name": "stderr",
     "output_type": "stream",
     "text": [
      "2024-03-11 21:32 INFO End of Epoch 727 - Loss: 4.6549\n"
     ]
    },
    {
     "name": "stdout",
     "output_type": "stream",
     "text": [
      "71/71 [==============================] - 21s 292ms/step - loss: 4.6549 - accuracy: 0.5784\n",
      "Epoch 728/1600\n",
      "71/71 [==============================] - ETA: 0s - loss: 3.4048 - accuracy: 0.5792"
     ]
    },
    {
     "name": "stderr",
     "output_type": "stream",
     "text": [
      "2024-03-11 21:32 INFO End of Epoch 728 - Loss: 3.4048\n"
     ]
    },
    {
     "name": "stdout",
     "output_type": "stream",
     "text": [
      "71/71 [==============================] - 21s 290ms/step - loss: 3.4048 - accuracy: 0.5792\n",
      "Epoch 729/1600\n",
      "71/71 [==============================] - ETA: 0s - loss: 3.1096 - accuracy: 0.5945"
     ]
    },
    {
     "name": "stderr",
     "output_type": "stream",
     "text": [
      "2024-03-11 21:33 INFO End of Epoch 729 - Loss: 3.1096\n"
     ]
    },
    {
     "name": "stdout",
     "output_type": "stream",
     "text": [
      "71/71 [==============================] - 21s 293ms/step - loss: 3.1096 - accuracy: 0.5945\n",
      "Epoch 730/1600\n",
      "71/71 [==============================] - ETA: 0s - loss: 2.5619 - accuracy: 0.6053"
     ]
    },
    {
     "name": "stderr",
     "output_type": "stream",
     "text": [
      "2024-03-11 21:33 INFO End of Epoch 730 - Loss: 2.5619\n"
     ]
    },
    {
     "name": "stdout",
     "output_type": "stream",
     "text": [
      "71/71 [==============================] - 21s 290ms/step - loss: 2.5619 - accuracy: 0.6053\n",
      "Epoch 731/1600\n",
      "71/71 [==============================] - ETA: 0s - loss: 2.7616 - accuracy: 0.6038"
     ]
    },
    {
     "name": "stderr",
     "output_type": "stream",
     "text": [
      "2024-03-11 21:34 INFO End of Epoch 731 - Loss: 2.7616\n"
     ]
    },
    {
     "name": "stdout",
     "output_type": "stream",
     "text": [
      "71/71 [==============================] - 21s 292ms/step - loss: 2.7616 - accuracy: 0.6038\n",
      "Epoch 732/1600\n",
      "71/71 [==============================] - ETA: 0s - loss: 3.2972 - accuracy: 0.5879"
     ]
    },
    {
     "name": "stderr",
     "output_type": "stream",
     "text": [
      "2024-03-11 21:34 INFO End of Epoch 732 - Loss: 3.2972\n"
     ]
    },
    {
     "name": "stdout",
     "output_type": "stream",
     "text": [
      "71/71 [==============================] - 21s 294ms/step - loss: 3.2972 - accuracy: 0.5879\n",
      "Epoch 733/1600\n",
      "71/71 [==============================] - ETA: 0s - loss: 3.4913 - accuracy: 0.5954"
     ]
    },
    {
     "name": "stderr",
     "output_type": "stream",
     "text": [
      "2024-03-11 21:35 INFO End of Epoch 733 - Loss: 3.4913\n"
     ]
    },
    {
     "name": "stdout",
     "output_type": "stream",
     "text": [
      "71/71 [==============================] - 21s 292ms/step - loss: 3.4913 - accuracy: 0.5954\n",
      "Epoch 734/1600\n",
      "71/71 [==============================] - ETA: 0s - loss: 3.8334 - accuracy: 0.5821"
     ]
    },
    {
     "name": "stderr",
     "output_type": "stream",
     "text": [
      "2024-03-11 21:35 INFO End of Epoch 734 - Loss: 3.8334\n"
     ]
    },
    {
     "name": "stdout",
     "output_type": "stream",
     "text": [
      "71/71 [==============================] - 21s 291ms/step - loss: 3.8334 - accuracy: 0.5821\n",
      "Epoch 735/1600\n",
      "71/71 [==============================] - ETA: 0s - loss: 4.3958 - accuracy: 0.5860"
     ]
    },
    {
     "name": "stderr",
     "output_type": "stream",
     "text": [
      "2024-03-11 21:36 INFO End of Epoch 735 - Loss: 4.3958\n"
     ]
    },
    {
     "name": "stdout",
     "output_type": "stream",
     "text": [
      "71/71 [==============================] - 21s 291ms/step - loss: 4.3958 - accuracy: 0.5860\n",
      "Epoch 736/1600\n",
      "71/71 [==============================] - ETA: 0s - loss: 5.7936 - accuracy: 0.6018"
     ]
    },
    {
     "name": "stderr",
     "output_type": "stream",
     "text": [
      "2024-03-11 21:36 INFO End of Epoch 736 - Loss: 5.7936\n"
     ]
    },
    {
     "name": "stdout",
     "output_type": "stream",
     "text": [
      "71/71 [==============================] - 21s 292ms/step - loss: 5.7936 - accuracy: 0.6018\n",
      "Epoch 737/1600\n",
      "71/71 [==============================] - ETA: 0s - loss: 6.3436 - accuracy: 0.5967"
     ]
    },
    {
     "name": "stderr",
     "output_type": "stream",
     "text": [
      "2024-03-11 21:36 INFO End of Epoch 737 - Loss: 6.3436\n"
     ]
    },
    {
     "name": "stdout",
     "output_type": "stream",
     "text": [
      "71/71 [==============================] - 21s 292ms/step - loss: 6.3436 - accuracy: 0.5967\n",
      "Epoch 738/1600\n",
      "71/71 [==============================] - ETA: 0s - loss: 7.7782 - accuracy: 0.5809"
     ]
    },
    {
     "name": "stderr",
     "output_type": "stream",
     "text": [
      "2024-03-11 21:37 INFO End of Epoch 738 - Loss: 7.7782\n"
     ]
    },
    {
     "name": "stdout",
     "output_type": "stream",
     "text": [
      "71/71 [==============================] - 21s 294ms/step - loss: 7.7782 - accuracy: 0.5809\n",
      "Epoch 739/1600\n",
      "71/71 [==============================] - ETA: 0s - loss: 7.2314 - accuracy: 0.5786"
     ]
    },
    {
     "name": "stderr",
     "output_type": "stream",
     "text": [
      "2024-03-11 21:37 INFO End of Epoch 739 - Loss: 7.2314\n"
     ]
    },
    {
     "name": "stdout",
     "output_type": "stream",
     "text": [
      "71/71 [==============================] - 21s 290ms/step - loss: 7.2314 - accuracy: 0.5786\n",
      "Epoch 740/1600\n",
      "71/71 [==============================] - ETA: 0s - loss: 6.4383 - accuracy: 0.5704"
     ]
    },
    {
     "name": "stderr",
     "output_type": "stream",
     "text": [
      "2024-03-11 21:38 INFO End of Epoch 740 - Loss: 6.4383\n"
     ]
    },
    {
     "name": "stdout",
     "output_type": "stream",
     "text": [
      "71/71 [==============================] - 21s 292ms/step - loss: 6.4383 - accuracy: 0.5704\n",
      "Epoch 741/1600\n",
      "71/71 [==============================] - ETA: 0s - loss: 5.7490 - accuracy: 0.5745"
     ]
    },
    {
     "name": "stderr",
     "output_type": "stream",
     "text": [
      "2024-03-11 21:38 INFO End of Epoch 741 - Loss: 5.7490\n"
     ]
    },
    {
     "name": "stdout",
     "output_type": "stream",
     "text": [
      "71/71 [==============================] - 21s 292ms/step - loss: 5.7490 - accuracy: 0.5745\n",
      "Epoch 742/1600\n",
      "71/71 [==============================] - ETA: 0s - loss: 6.0098 - accuracy: 0.5656"
     ]
    },
    {
     "name": "stderr",
     "output_type": "stream",
     "text": [
      "2024-03-11 21:39 INFO End of Epoch 742 - Loss: 6.0098\n"
     ]
    },
    {
     "name": "stdout",
     "output_type": "stream",
     "text": [
      "71/71 [==============================] - 21s 289ms/step - loss: 6.0098 - accuracy: 0.5656\n",
      "Epoch 743/1600\n",
      "71/71 [==============================] - ETA: 0s - loss: 6.0423 - accuracy: 0.5755"
     ]
    },
    {
     "name": "stderr",
     "output_type": "stream",
     "text": [
      "2024-03-11 21:39 INFO End of Epoch 743 - Loss: 6.0423\n"
     ]
    },
    {
     "name": "stdout",
     "output_type": "stream",
     "text": [
      "71/71 [==============================] - 21s 292ms/step - loss: 6.0423 - accuracy: 0.5755\n",
      "Epoch 744/1600\n",
      "71/71 [==============================] - ETA: 0s - loss: 8.1177 - accuracy: 0.5680"
     ]
    },
    {
     "name": "stderr",
     "output_type": "stream",
     "text": [
      "2024-03-11 21:40 INFO End of Epoch 744 - Loss: 8.1177\n"
     ]
    },
    {
     "name": "stdout",
     "output_type": "stream",
     "text": [
      "71/71 [==============================] - 20s 288ms/step - loss: 8.1177 - accuracy: 0.5680\n",
      "Epoch 745/1600\n",
      "71/71 [==============================] - ETA: 0s - loss: 5.9825 - accuracy: 0.5740"
     ]
    },
    {
     "name": "stderr",
     "output_type": "stream",
     "text": [
      "2024-03-11 21:40 INFO End of Epoch 745 - Loss: 5.9825\n"
     ]
    },
    {
     "name": "stdout",
     "output_type": "stream",
     "text": [
      "71/71 [==============================] - 21s 292ms/step - loss: 5.9825 - accuracy: 0.5740\n",
      "Epoch 746/1600\n",
      "71/71 [==============================] - ETA: 0s - loss: 3.1611 - accuracy: 0.5971"
     ]
    },
    {
     "name": "stderr",
     "output_type": "stream",
     "text": [
      "2024-03-11 21:40 INFO End of Epoch 746 - Loss: 3.1611\n"
     ]
    },
    {
     "name": "stdout",
     "output_type": "stream",
     "text": [
      "71/71 [==============================] - 21s 291ms/step - loss: 3.1611 - accuracy: 0.5971\n",
      "Epoch 747/1600\n",
      "71/71 [==============================] - ETA: 0s - loss: 2.3746 - accuracy: 0.6025"
     ]
    },
    {
     "name": "stderr",
     "output_type": "stream",
     "text": [
      "2024-03-11 21:41 INFO End of Epoch 747 - Loss: 2.3746\n"
     ]
    },
    {
     "name": "stdout",
     "output_type": "stream",
     "text": [
      "71/71 [==============================] - 21s 289ms/step - loss: 2.3746 - accuracy: 0.6025\n",
      "Epoch 748/1600\n",
      "71/71 [==============================] - ETA: 0s - loss: 2.2852 - accuracy: 0.6073"
     ]
    },
    {
     "name": "stderr",
     "output_type": "stream",
     "text": [
      "2024-03-11 21:41 INFO End of Epoch 748 - Loss: 2.2852\n"
     ]
    },
    {
     "name": "stdout",
     "output_type": "stream",
     "text": [
      "71/71 [==============================] - 21s 292ms/step - loss: 2.2852 - accuracy: 0.6073\n",
      "Epoch 749/1600\n",
      "71/71 [==============================] - ETA: 0s - loss: 2.7324 - accuracy: 0.5850"
     ]
    },
    {
     "name": "stderr",
     "output_type": "stream",
     "text": [
      "2024-03-11 21:42 INFO End of Epoch 749 - Loss: 2.7324\n"
     ]
    },
    {
     "name": "stdout",
     "output_type": "stream",
     "text": [
      "71/71 [==============================] - 20s 287ms/step - loss: 2.7324 - accuracy: 0.5850\n",
      "Epoch 750/1600\n",
      "71/71 [==============================] - ETA: 0s - loss: 2.8357 - accuracy: 0.5887"
     ]
    },
    {
     "name": "stderr",
     "output_type": "stream",
     "text": [
      "2024-03-11 21:42 INFO End of Epoch 750 - Loss: 2.8357\n"
     ]
    },
    {
     "name": "stdout",
     "output_type": "stream",
     "text": [
      "71/71 [==============================] - 21s 292ms/step - loss: 2.8357 - accuracy: 0.5887\n",
      "Epoch 751/1600\n",
      "71/71 [==============================] - ETA: 0s - loss: 2.9174 - accuracy: 0.6168"
     ]
    },
    {
     "name": "stderr",
     "output_type": "stream",
     "text": [
      "2024-03-11 21:43 INFO End of Epoch 751 - Loss: 2.9174\n"
     ]
    },
    {
     "name": "stdout",
     "output_type": "stream",
     "text": [
      "71/71 [==============================] - 21s 292ms/step - loss: 2.9174 - accuracy: 0.6168\n",
      "Epoch 752/1600\n",
      "71/71 [==============================] - ETA: 0s - loss: 5.4745 - accuracy: 0.5806"
     ]
    },
    {
     "name": "stderr",
     "output_type": "stream",
     "text": [
      "2024-03-11 21:43 INFO End of Epoch 752 - Loss: 5.4745\n"
     ]
    },
    {
     "name": "stdout",
     "output_type": "stream",
     "text": [
      "71/71 [==============================] - 21s 290ms/step - loss: 5.4745 - accuracy: 0.5806\n",
      "Epoch 753/1600\n",
      "71/71 [==============================] - ETA: 0s - loss: 4.3404 - accuracy: 0.6045"
     ]
    },
    {
     "name": "stderr",
     "output_type": "stream",
     "text": [
      "2024-03-11 21:44 INFO End of Epoch 753 - Loss: 4.3404\n"
     ]
    },
    {
     "name": "stdout",
     "output_type": "stream",
     "text": [
      "71/71 [==============================] - 21s 292ms/step - loss: 4.3404 - accuracy: 0.6045\n",
      "Epoch 754/1600\n",
      "71/71 [==============================] - ETA: 0s - loss: 5.4974 - accuracy: 0.5840"
     ]
    },
    {
     "name": "stderr",
     "output_type": "stream",
     "text": [
      "2024-03-11 21:44 INFO End of Epoch 754 - Loss: 5.4974\n"
     ]
    },
    {
     "name": "stdout",
     "output_type": "stream",
     "text": [
      "71/71 [==============================] - 21s 289ms/step - loss: 5.4974 - accuracy: 0.5840\n",
      "Epoch 755/1600\n",
      "71/71 [==============================] - ETA: 0s - loss: 7.3671 - accuracy: 0.5794"
     ]
    },
    {
     "name": "stderr",
     "output_type": "stream",
     "text": [
      "2024-03-11 21:44 INFO End of Epoch 755 - Loss: 7.3671\n"
     ]
    },
    {
     "name": "stdout",
     "output_type": "stream",
     "text": [
      "71/71 [==============================] - 21s 292ms/step - loss: 7.3671 - accuracy: 0.5794\n",
      "Epoch 756/1600\n",
      "71/71 [==============================] - ETA: 0s - loss: 6.7740 - accuracy: 0.6018"
     ]
    },
    {
     "name": "stderr",
     "output_type": "stream",
     "text": [
      "2024-03-11 21:45 INFO End of Epoch 756 - Loss: 6.7740\n"
     ]
    },
    {
     "name": "stdout",
     "output_type": "stream",
     "text": [
      "71/71 [==============================] - 21s 293ms/step - loss: 6.7740 - accuracy: 0.6018\n",
      "Epoch 757/1600\n",
      "71/71 [==============================] - ETA: 0s - loss: 11.4342 - accuracy: 0.5846"
     ]
    },
    {
     "name": "stderr",
     "output_type": "stream",
     "text": [
      "2024-03-11 21:45 INFO End of Epoch 757 - Loss: 11.4342\n"
     ]
    },
    {
     "name": "stdout",
     "output_type": "stream",
     "text": [
      "71/71 [==============================] - 21s 291ms/step - loss: 11.4342 - accuracy: 0.5846\n",
      "Epoch 758/1600\n",
      "71/71 [==============================] - ETA: 0s - loss: 9.8809 - accuracy: 0.5757"
     ]
    },
    {
     "name": "stderr",
     "output_type": "stream",
     "text": [
      "2024-03-11 21:46 INFO End of Epoch 758 - Loss: 9.8809\n"
     ]
    },
    {
     "name": "stdout",
     "output_type": "stream",
     "text": [
      "71/71 [==============================] - 21s 293ms/step - loss: 9.8809 - accuracy: 0.5757\n",
      "Epoch 759/1600\n",
      "71/71 [==============================] - ETA: 0s - loss: 6.5364 - accuracy: 0.5693"
     ]
    },
    {
     "name": "stderr",
     "output_type": "stream",
     "text": [
      "2024-03-11 21:46 INFO End of Epoch 759 - Loss: 6.5364\n"
     ]
    },
    {
     "name": "stdout",
     "output_type": "stream",
     "text": [
      "71/71 [==============================] - 21s 292ms/step - loss: 6.5364 - accuracy: 0.5693\n",
      "Epoch 760/1600\n",
      "71/71 [==============================] - ETA: 0s - loss: 3.8683 - accuracy: 0.5914"
     ]
    },
    {
     "name": "stderr",
     "output_type": "stream",
     "text": [
      "2024-03-11 21:47 INFO End of Epoch 760 - Loss: 3.8683\n"
     ]
    },
    {
     "name": "stdout",
     "output_type": "stream",
     "text": [
      "71/71 [==============================] - 21s 291ms/step - loss: 3.8683 - accuracy: 0.5914\n",
      "Epoch 761/1600\n",
      "71/71 [==============================] - ETA: 0s - loss: 4.0770 - accuracy: 0.5744"
     ]
    },
    {
     "name": "stderr",
     "output_type": "stream",
     "text": [
      "2024-03-11 21:47 INFO End of Epoch 761 - Loss: 4.0770\n"
     ]
    },
    {
     "name": "stdout",
     "output_type": "stream",
     "text": [
      "71/71 [==============================] - 21s 293ms/step - loss: 4.0770 - accuracy: 0.5744\n",
      "Epoch 762/1600\n",
      "71/71 [==============================] - ETA: 0s - loss: 3.0851 - accuracy: 0.5816"
     ]
    },
    {
     "name": "stderr",
     "output_type": "stream",
     "text": [
      "2024-03-11 21:48 INFO End of Epoch 762 - Loss: 3.0851\n"
     ]
    },
    {
     "name": "stdout",
     "output_type": "stream",
     "text": [
      "71/71 [==============================] - 21s 289ms/step - loss: 3.0851 - accuracy: 0.5816\n",
      "Epoch 763/1600\n",
      "71/71 [==============================] - ETA: 0s - loss: 2.0014 - accuracy: 0.6032"
     ]
    },
    {
     "name": "stderr",
     "output_type": "stream",
     "text": [
      "2024-03-11 21:48 INFO End of Epoch 763 - Loss: 2.0014\n"
     ]
    },
    {
     "name": "stdout",
     "output_type": "stream",
     "text": [
      "71/71 [==============================] - 21s 293ms/step - loss: 2.0014 - accuracy: 0.6032\n",
      "Epoch 764/1600\n",
      "71/71 [==============================] - ETA: 0s - loss: 1.9024 - accuracy: 0.6198"
     ]
    },
    {
     "name": "stderr",
     "output_type": "stream",
     "text": [
      "2024-03-11 21:48 INFO End of Epoch 764 - Loss: 1.9024\n"
     ]
    },
    {
     "name": "stdout",
     "output_type": "stream",
     "text": [
      "71/71 [==============================] - 21s 290ms/step - loss: 1.9024 - accuracy: 0.6198\n",
      "Epoch 765/1600\n",
      "71/71 [==============================] - ETA: 0s - loss: 2.3317 - accuracy: 0.5808"
     ]
    },
    {
     "name": "stderr",
     "output_type": "stream",
     "text": [
      "2024-03-11 21:49 INFO End of Epoch 765 - Loss: 2.3317\n"
     ]
    },
    {
     "name": "stdout",
     "output_type": "stream",
     "text": [
      "71/71 [==============================] - 21s 291ms/step - loss: 2.3317 - accuracy: 0.5808\n",
      "Epoch 766/1600\n",
      "71/71 [==============================] - ETA: 0s - loss: 1.8795 - accuracy: 0.6151"
     ]
    },
    {
     "name": "stderr",
     "output_type": "stream",
     "text": [
      "2024-03-11 21:49 INFO End of Epoch 766 - Loss: 1.8795\n"
     ]
    },
    {
     "name": "stdout",
     "output_type": "stream",
     "text": [
      "71/71 [==============================] - 21s 291ms/step - loss: 1.8795 - accuracy: 0.6151\n",
      "Epoch 767/1600\n",
      "71/71 [==============================] - ETA: 0s - loss: 2.7529 - accuracy: 0.5917"
     ]
    },
    {
     "name": "stderr",
     "output_type": "stream",
     "text": [
      "2024-03-11 21:50 INFO End of Epoch 767 - Loss: 2.7529\n"
     ]
    },
    {
     "name": "stdout",
     "output_type": "stream",
     "text": [
      "71/71 [==============================] - 21s 290ms/step - loss: 2.7529 - accuracy: 0.5917\n",
      "Epoch 768/1600\n",
      "71/71 [==============================] - ETA: 0s - loss: 8.5878 - accuracy: 0.5910"
     ]
    },
    {
     "name": "stderr",
     "output_type": "stream",
     "text": [
      "2024-03-11 21:50 INFO End of Epoch 768 - Loss: 8.5878\n"
     ]
    },
    {
     "name": "stdout",
     "output_type": "stream",
     "text": [
      "71/71 [==============================] - 21s 293ms/step - loss: 8.5878 - accuracy: 0.5910\n",
      "Epoch 769/1600\n",
      "71/71 [==============================] - ETA: 0s - loss: 8.0316 - accuracy: 0.6068"
     ]
    },
    {
     "name": "stderr",
     "output_type": "stream",
     "text": [
      "2024-03-11 21:51 INFO End of Epoch 769 - Loss: 8.0316\n"
     ]
    },
    {
     "name": "stdout",
     "output_type": "stream",
     "text": [
      "71/71 [==============================] - 21s 291ms/step - loss: 8.0316 - accuracy: 0.6068\n",
      "Epoch 770/1600\n",
      "71/71 [==============================] - ETA: 0s - loss: 16.5336 - accuracy: 0.5917"
     ]
    },
    {
     "name": "stderr",
     "output_type": "stream",
     "text": [
      "2024-03-11 21:51 INFO End of Epoch 770 - Loss: 16.5336\n"
     ]
    },
    {
     "name": "stdout",
     "output_type": "stream",
     "text": [
      "71/71 [==============================] - 21s 291ms/step - loss: 16.5336 - accuracy: 0.5917\n",
      "Epoch 771/1600\n",
      "71/71 [==============================] - ETA: 0s - loss: 13.2564 - accuracy: 0.5897"
     ]
    },
    {
     "name": "stderr",
     "output_type": "stream",
     "text": [
      "2024-03-11 21:52 INFO End of Epoch 771 - Loss: 13.2564\n"
     ]
    },
    {
     "name": "stdout",
     "output_type": "stream",
     "text": [
      "71/71 [==============================] - 21s 290ms/step - loss: 13.2564 - accuracy: 0.5897\n",
      "Epoch 772/1600\n",
      "71/71 [==============================] - ETA: 0s - loss: 7.1419 - accuracy: 0.5943"
     ]
    },
    {
     "name": "stderr",
     "output_type": "stream",
     "text": [
      "2024-03-11 21:52 INFO End of Epoch 772 - Loss: 7.1419\n"
     ]
    },
    {
     "name": "stdout",
     "output_type": "stream",
     "text": [
      "71/71 [==============================] - 21s 293ms/step - loss: 7.1419 - accuracy: 0.5943\n",
      "Epoch 773/1600\n",
      "71/71 [==============================] - ETA: 0s - loss: 5.3954 - accuracy: 0.5916"
     ]
    },
    {
     "name": "stderr",
     "output_type": "stream",
     "text": [
      "2024-03-11 21:52 INFO End of Epoch 773 - Loss: 5.3954\n"
     ]
    },
    {
     "name": "stdout",
     "output_type": "stream",
     "text": [
      "71/71 [==============================] - 21s 290ms/step - loss: 5.3954 - accuracy: 0.5916\n",
      "Epoch 774/1600\n",
      "71/71 [==============================] - ETA: 0s - loss: 4.0200 - accuracy: 0.5989"
     ]
    },
    {
     "name": "stderr",
     "output_type": "stream",
     "text": [
      "2024-03-11 21:53 INFO End of Epoch 774 - Loss: 4.0200\n"
     ]
    },
    {
     "name": "stdout",
     "output_type": "stream",
     "text": [
      "71/71 [==============================] - 21s 291ms/step - loss: 4.0200 - accuracy: 0.5989\n",
      "Epoch 775/1600\n",
      "71/71 [==============================] - ETA: 0s - loss: 4.2162 - accuracy: 0.5907"
     ]
    },
    {
     "name": "stderr",
     "output_type": "stream",
     "text": [
      "2024-03-11 21:53 INFO End of Epoch 775 - Loss: 4.2162\n"
     ]
    },
    {
     "name": "stdout",
     "output_type": "stream",
     "text": [
      "71/71 [==============================] - 21s 291ms/step - loss: 4.2162 - accuracy: 0.5907\n",
      "Epoch 776/1600\n",
      "71/71 [==============================] - ETA: 0s - loss: 3.3931 - accuracy: 0.5941"
     ]
    },
    {
     "name": "stderr",
     "output_type": "stream",
     "text": [
      "2024-03-11 21:54 INFO End of Epoch 776 - Loss: 3.3931\n"
     ]
    },
    {
     "name": "stdout",
     "output_type": "stream",
     "text": [
      "71/71 [==============================] - 21s 289ms/step - loss: 3.3931 - accuracy: 0.5941\n",
      "Epoch 777/1600\n",
      "71/71 [==============================] - ETA: 0s - loss: 1.9829 - accuracy: 0.6144"
     ]
    },
    {
     "name": "stderr",
     "output_type": "stream",
     "text": [
      "2024-03-11 21:54 INFO End of Epoch 777 - Loss: 1.9829\n"
     ]
    },
    {
     "name": "stdout",
     "output_type": "stream",
     "text": [
      "71/71 [==============================] - 21s 290ms/step - loss: 1.9829 - accuracy: 0.6144\n",
      "Epoch 778/1600\n",
      "71/71 [==============================] - ETA: 0s - loss: 2.5115 - accuracy: 0.6126"
     ]
    },
    {
     "name": "stderr",
     "output_type": "stream",
     "text": [
      "2024-03-11 21:55 INFO End of Epoch 778 - Loss: 2.5115\n"
     ]
    },
    {
     "name": "stdout",
     "output_type": "stream",
     "text": [
      "71/71 [==============================] - 21s 290ms/step - loss: 2.5115 - accuracy: 0.6126\n",
      "Epoch 779/1600\n",
      "71/71 [==============================] - ETA: 0s - loss: 2.6385 - accuracy: 0.6141"
     ]
    },
    {
     "name": "stderr",
     "output_type": "stream",
     "text": [
      "2024-03-11 21:55 INFO End of Epoch 779 - Loss: 2.6385\n"
     ]
    },
    {
     "name": "stdout",
     "output_type": "stream",
     "text": [
      "71/71 [==============================] - 21s 293ms/step - loss: 2.6385 - accuracy: 0.6141\n",
      "Epoch 780/1600\n",
      "71/71 [==============================] - ETA: 0s - loss: 2.4817 - accuracy: 0.6078"
     ]
    },
    {
     "name": "stderr",
     "output_type": "stream",
     "text": [
      "2024-03-11 21:56 INFO End of Epoch 780 - Loss: 2.4817\n"
     ]
    },
    {
     "name": "stdout",
     "output_type": "stream",
     "text": [
      "71/71 [==============================] - 21s 290ms/step - loss: 2.4817 - accuracy: 0.6078\n",
      "Epoch 781/1600\n",
      "71/71 [==============================] - ETA: 0s - loss: 2.6954 - accuracy: 0.6164"
     ]
    },
    {
     "name": "stderr",
     "output_type": "stream",
     "text": [
      "2024-03-11 21:56 INFO End of Epoch 781 - Loss: 2.6954\n"
     ]
    },
    {
     "name": "stdout",
     "output_type": "stream",
     "text": [
      "71/71 [==============================] - 21s 290ms/step - loss: 2.6954 - accuracy: 0.6164\n",
      "Epoch 782/1600\n",
      "71/71 [==============================] - ETA: 0s - loss: 3.1899 - accuracy: 0.6252"
     ]
    },
    {
     "name": "stderr",
     "output_type": "stream",
     "text": [
      "2024-03-11 21:56 INFO End of Epoch 782 - Loss: 3.1899\n"
     ]
    },
    {
     "name": "stdout",
     "output_type": "stream",
     "text": [
      "71/71 [==============================] - 21s 291ms/step - loss: 3.1899 - accuracy: 0.6252\n",
      "Epoch 783/1600\n",
      "71/71 [==============================] - ETA: 0s - loss: 4.2290 - accuracy: 0.6174"
     ]
    },
    {
     "name": "stderr",
     "output_type": "stream",
     "text": [
      "2024-03-11 21:57 INFO End of Epoch 783 - Loss: 4.2290\n"
     ]
    },
    {
     "name": "stdout",
     "output_type": "stream",
     "text": [
      "71/71 [==============================] - 21s 291ms/step - loss: 4.2290 - accuracy: 0.6174\n",
      "Epoch 784/1600\n",
      "71/71 [==============================] - ETA: 0s - loss: 5.8205 - accuracy: 0.6205"
     ]
    },
    {
     "name": "stderr",
     "output_type": "stream",
     "text": [
      "2024-03-11 21:57 INFO End of Epoch 784 - Loss: 5.8205\n"
     ]
    },
    {
     "name": "stdout",
     "output_type": "stream",
     "text": [
      "71/71 [==============================] - 21s 290ms/step - loss: 5.8205 - accuracy: 0.6205\n",
      "Epoch 785/1600\n",
      "71/71 [==============================] - ETA: 0s - loss: 5.8391 - accuracy: 0.5963"
     ]
    },
    {
     "name": "stderr",
     "output_type": "stream",
     "text": [
      "2024-03-11 21:58 INFO End of Epoch 785 - Loss: 5.8391\n"
     ]
    },
    {
     "name": "stdout",
     "output_type": "stream",
     "text": [
      "71/71 [==============================] - 21s 292ms/step - loss: 5.8391 - accuracy: 0.5963\n",
      "Epoch 786/1600\n",
      "71/71 [==============================] - ETA: 0s - loss: 12.2104 - accuracy: 0.5988"
     ]
    },
    {
     "name": "stderr",
     "output_type": "stream",
     "text": [
      "2024-03-11 21:58 INFO End of Epoch 786 - Loss: 12.2104\n"
     ]
    },
    {
     "name": "stdout",
     "output_type": "stream",
     "text": [
      "71/71 [==============================] - 21s 290ms/step - loss: 12.2104 - accuracy: 0.5988\n",
      "Epoch 787/1600\n",
      "71/71 [==============================] - ETA: 0s - loss: 12.0308 - accuracy: 0.5653"
     ]
    },
    {
     "name": "stderr",
     "output_type": "stream",
     "text": [
      "2024-03-11 21:59 INFO End of Epoch 787 - Loss: 12.0308\n"
     ]
    },
    {
     "name": "stdout",
     "output_type": "stream",
     "text": [
      "71/71 [==============================] - 20s 289ms/step - loss: 12.0308 - accuracy: 0.5653\n",
      "Epoch 788/1600\n",
      "71/71 [==============================] - ETA: 0s - loss: 6.5198 - accuracy: 0.5625"
     ]
    },
    {
     "name": "stderr",
     "output_type": "stream",
     "text": [
      "2024-03-11 21:59 INFO End of Epoch 788 - Loss: 6.5198\n"
     ]
    },
    {
     "name": "stdout",
     "output_type": "stream",
     "text": [
      "71/71 [==============================] - 21s 291ms/step - loss: 6.5198 - accuracy: 0.5625\n",
      "Epoch 789/1600\n",
      "71/71 [==============================] - ETA: 0s - loss: 5.1712 - accuracy: 0.5747"
     ]
    },
    {
     "name": "stderr",
     "output_type": "stream",
     "text": [
      "2024-03-11 21:59 INFO End of Epoch 789 - Loss: 5.1712\n"
     ]
    },
    {
     "name": "stdout",
     "output_type": "stream",
     "text": [
      "71/71 [==============================] - 21s 290ms/step - loss: 5.1712 - accuracy: 0.5747\n",
      "Epoch 790/1600\n",
      "71/71 [==============================] - ETA: 0s - loss: 3.6819 - accuracy: 0.5863"
     ]
    },
    {
     "name": "stderr",
     "output_type": "stream",
     "text": [
      "2024-03-11 22:00 INFO End of Epoch 790 - Loss: 3.6819\n"
     ]
    },
    {
     "name": "stdout",
     "output_type": "stream",
     "text": [
      "71/71 [==============================] - 21s 289ms/step - loss: 3.6819 - accuracy: 0.5863\n",
      "Epoch 791/1600\n",
      "71/71 [==============================] - ETA: 0s - loss: 2.9325 - accuracy: 0.5997"
     ]
    },
    {
     "name": "stderr",
     "output_type": "stream",
     "text": [
      "2024-03-11 22:00 INFO End of Epoch 791 - Loss: 2.9325\n"
     ]
    },
    {
     "name": "stdout",
     "output_type": "stream",
     "text": [
      "71/71 [==============================] - 21s 293ms/step - loss: 2.9325 - accuracy: 0.5997\n",
      "Epoch 792/1600\n",
      "71/71 [==============================] - ETA: 0s - loss: 2.3047 - accuracy: 0.6025"
     ]
    },
    {
     "name": "stderr",
     "output_type": "stream",
     "text": [
      "2024-03-11 22:01 INFO End of Epoch 792 - Loss: 2.3047\n"
     ]
    },
    {
     "name": "stdout",
     "output_type": "stream",
     "text": [
      "71/71 [==============================] - 21s 291ms/step - loss: 2.3047 - accuracy: 0.6025\n",
      "Epoch 793/1600\n",
      "71/71 [==============================] - ETA: 0s - loss: 2.4798 - accuracy: 0.6072"
     ]
    },
    {
     "name": "stderr",
     "output_type": "stream",
     "text": [
      "2024-03-11 22:01 INFO End of Epoch 793 - Loss: 2.4798\n"
     ]
    },
    {
     "name": "stdout",
     "output_type": "stream",
     "text": [
      "71/71 [==============================] - 21s 291ms/step - loss: 2.4798 - accuracy: 0.6072\n",
      "Epoch 794/1600\n",
      "71/71 [==============================] - ETA: 0s - loss: 4.5824 - accuracy: 0.5811"
     ]
    },
    {
     "name": "stderr",
     "output_type": "stream",
     "text": [
      "2024-03-11 22:02 INFO End of Epoch 794 - Loss: 4.5824\n"
     ]
    },
    {
     "name": "stdout",
     "output_type": "stream",
     "text": [
      "71/71 [==============================] - 21s 291ms/step - loss: 4.5824 - accuracy: 0.5811\n",
      "Epoch 795/1600\n",
      "71/71 [==============================] - ETA: 0s - loss: 3.6370 - accuracy: 0.6051"
     ]
    },
    {
     "name": "stderr",
     "output_type": "stream",
     "text": [
      "2024-03-11 22:02 INFO End of Epoch 795 - Loss: 3.6370\n"
     ]
    },
    {
     "name": "stdout",
     "output_type": "stream",
     "text": [
      "71/71 [==============================] - 21s 292ms/step - loss: 3.6370 - accuracy: 0.6051\n",
      "Epoch 796/1600\n",
      "71/71 [==============================] - ETA: 0s - loss: 3.2818 - accuracy: 0.6171"
     ]
    },
    {
     "name": "stderr",
     "output_type": "stream",
     "text": [
      "2024-03-11 22:03 INFO End of Epoch 796 - Loss: 3.2818\n"
     ]
    },
    {
     "name": "stdout",
     "output_type": "stream",
     "text": [
      "71/71 [==============================] - 21s 293ms/step - loss: 3.2818 - accuracy: 0.6171\n",
      "Epoch 797/1600\n",
      "71/71 [==============================] - ETA: 0s - loss: 8.4527 - accuracy: 0.5775"
     ]
    },
    {
     "name": "stderr",
     "output_type": "stream",
     "text": [
      "2024-03-11 22:03 INFO End of Epoch 797 - Loss: 8.4527\n"
     ]
    },
    {
     "name": "stdout",
     "output_type": "stream",
     "text": [
      "71/71 [==============================] - 21s 292ms/step - loss: 8.4527 - accuracy: 0.5775\n",
      "Epoch 798/1600\n",
      "71/71 [==============================] - ETA: 0s - loss: 8.5390 - accuracy: 0.6053"
     ]
    },
    {
     "name": "stderr",
     "output_type": "stream",
     "text": [
      "2024-03-11 22:03 INFO End of Epoch 798 - Loss: 8.5390\n"
     ]
    },
    {
     "name": "stdout",
     "output_type": "stream",
     "text": [
      "71/71 [==============================] - 21s 292ms/step - loss: 8.5390 - accuracy: 0.6053\n",
      "Epoch 799/1600\n",
      "71/71 [==============================] - ETA: 0s - loss: 6.2479 - accuracy: 0.6089"
     ]
    },
    {
     "name": "stderr",
     "output_type": "stream",
     "text": [
      "2024-03-11 22:04 INFO End of Epoch 799 - Loss: 6.2479\n"
     ]
    },
    {
     "name": "stdout",
     "output_type": "stream",
     "text": [
      "71/71 [==============================] - 21s 292ms/step - loss: 6.2479 - accuracy: 0.6089\n",
      "Epoch 800/1600\n",
      "71/71 [==============================] - ETA: 0s - loss: 5.1451 - accuracy: 0.6025"
     ]
    },
    {
     "name": "stderr",
     "output_type": "stream",
     "text": [
      "2024-03-11 22:04 INFO End of Epoch 800 - Loss: 5.1451\n"
     ]
    },
    {
     "name": "stdout",
     "output_type": "stream",
     "text": [
      "71/71 [==============================] - 21s 291ms/step - loss: 5.1451 - accuracy: 0.6025\n",
      "Epoch 801/1600\n",
      "71/71 [==============================] - ETA: 0s - loss: 4.8763 - accuracy: 0.6139"
     ]
    },
    {
     "name": "stderr",
     "output_type": "stream",
     "text": [
      "2024-03-11 22:05 INFO End of Epoch 801 - Loss: 4.8763\n"
     ]
    },
    {
     "name": "stdout",
     "output_type": "stream",
     "text": [
      "71/71 [==============================] - 21s 293ms/step - loss: 4.8763 - accuracy: 0.6139\n",
      "Epoch 802/1600\n",
      "71/71 [==============================] - ETA: 0s - loss: 5.2229 - accuracy: 0.6150"
     ]
    },
    {
     "name": "stderr",
     "output_type": "stream",
     "text": [
      "2024-03-11 22:05 INFO End of Epoch 802 - Loss: 5.2229\n"
     ]
    },
    {
     "name": "stdout",
     "output_type": "stream",
     "text": [
      "71/71 [==============================] - 21s 289ms/step - loss: 5.2229 - accuracy: 0.6150\n",
      "Epoch 803/1600\n",
      "71/71 [==============================] - ETA: 0s - loss: 4.5664 - accuracy: 0.6136"
     ]
    },
    {
     "name": "stderr",
     "output_type": "stream",
     "text": [
      "2024-03-11 22:06 INFO End of Epoch 803 - Loss: 4.5664\n"
     ]
    },
    {
     "name": "stdout",
     "output_type": "stream",
     "text": [
      "71/71 [==============================] - 21s 293ms/step - loss: 4.5664 - accuracy: 0.6136\n",
      "Epoch 804/1600\n",
      "71/71 [==============================] - ETA: 0s - loss: 4.2821 - accuracy: 0.6248"
     ]
    },
    {
     "name": "stderr",
     "output_type": "stream",
     "text": [
      "2024-03-11 22:06 INFO End of Epoch 804 - Loss: 4.2821\n"
     ]
    },
    {
     "name": "stdout",
     "output_type": "stream",
     "text": [
      "71/71 [==============================] - 21s 291ms/step - loss: 4.2821 - accuracy: 0.6248\n",
      "Epoch 805/1600\n",
      "71/71 [==============================] - ETA: 0s - loss: 4.1110 - accuracy: 0.6249"
     ]
    },
    {
     "name": "stderr",
     "output_type": "stream",
     "text": [
      "2024-03-11 22:07 INFO End of Epoch 805 - Loss: 4.1110\n"
     ]
    },
    {
     "name": "stdout",
     "output_type": "stream",
     "text": [
      "71/71 [==============================] - 21s 291ms/step - loss: 4.1110 - accuracy: 0.6249\n",
      "Epoch 806/1600\n",
      "71/71 [==============================] - ETA: 0s - loss: 3.5489 - accuracy: 0.6310"
     ]
    },
    {
     "name": "stderr",
     "output_type": "stream",
     "text": [
      "2024-03-11 22:07 INFO End of Epoch 806 - Loss: 3.5489\n"
     ]
    },
    {
     "name": "stdout",
     "output_type": "stream",
     "text": [
      "71/71 [==============================] - 20s 288ms/step - loss: 3.5489 - accuracy: 0.6310\n",
      "Epoch 807/1600\n",
      "71/71 [==============================] - ETA: 0s - loss: 4.1059 - accuracy: 0.6333"
     ]
    },
    {
     "name": "stderr",
     "output_type": "stream",
     "text": [
      "2024-03-11 22:07 INFO End of Epoch 807 - Loss: 4.1059\n"
     ]
    },
    {
     "name": "stdout",
     "output_type": "stream",
     "text": [
      "71/71 [==============================] - 21s 293ms/step - loss: 4.1059 - accuracy: 0.6333\n",
      "Epoch 808/1600\n",
      "71/71 [==============================] - ETA: 0s - loss: 4.4143 - accuracy: 0.6305"
     ]
    },
    {
     "name": "stderr",
     "output_type": "stream",
     "text": [
      "2024-03-11 22:08 INFO End of Epoch 808 - Loss: 4.4143\n"
     ]
    },
    {
     "name": "stdout",
     "output_type": "stream",
     "text": [
      "71/71 [==============================] - 21s 290ms/step - loss: 4.4143 - accuracy: 0.6305\n",
      "Epoch 809/1600\n",
      "71/71 [==============================] - ETA: 0s - loss: 4.9672 - accuracy: 0.6198"
     ]
    },
    {
     "name": "stderr",
     "output_type": "stream",
     "text": [
      "2024-03-11 22:08 INFO End of Epoch 809 - Loss: 4.9672\n"
     ]
    },
    {
     "name": "stdout",
     "output_type": "stream",
     "text": [
      "71/71 [==============================] - 20s 287ms/step - loss: 4.9672 - accuracy: 0.6198\n",
      "Epoch 810/1600\n",
      "71/71 [==============================] - ETA: 0s - loss: 4.3220 - accuracy: 0.6007"
     ]
    },
    {
     "name": "stderr",
     "output_type": "stream",
     "text": [
      "2024-03-11 22:09 INFO End of Epoch 810 - Loss: 4.3220\n"
     ]
    },
    {
     "name": "stdout",
     "output_type": "stream",
     "text": [
      "71/71 [==============================] - 21s 293ms/step - loss: 4.3220 - accuracy: 0.6007\n",
      "Epoch 811/1600\n",
      "71/71 [==============================] - ETA: 0s - loss: 3.4967 - accuracy: 0.6117"
     ]
    },
    {
     "name": "stderr",
     "output_type": "stream",
     "text": [
      "2024-03-11 22:09 INFO End of Epoch 811 - Loss: 3.4967\n"
     ]
    },
    {
     "name": "stdout",
     "output_type": "stream",
     "text": [
      "71/71 [==============================] - 20s 288ms/step - loss: 3.4967 - accuracy: 0.6117\n",
      "Epoch 812/1600\n",
      "71/71 [==============================] - ETA: 0s - loss: 3.4629 - accuracy: 0.6185"
     ]
    },
    {
     "name": "stderr",
     "output_type": "stream",
     "text": [
      "2024-03-11 22:10 INFO End of Epoch 812 - Loss: 3.4629\n"
     ]
    },
    {
     "name": "stdout",
     "output_type": "stream",
     "text": [
      "71/71 [==============================] - 20s 288ms/step - loss: 3.4629 - accuracy: 0.6185\n",
      "Epoch 813/1600\n",
      "71/71 [==============================] - ETA: 0s - loss: 4.3495 - accuracy: 0.6383"
     ]
    },
    {
     "name": "stderr",
     "output_type": "stream",
     "text": [
      "2024-03-11 22:10 INFO End of Epoch 813 - Loss: 4.3495\n"
     ]
    },
    {
     "name": "stdout",
     "output_type": "stream",
     "text": [
      "71/71 [==============================] - 20s 286ms/step - loss: 4.3495 - accuracy: 0.6383\n",
      "Epoch 814/1600\n",
      "71/71 [==============================] - ETA: 0s - loss: 5.5859 - accuracy: 0.6131"
     ]
    },
    {
     "name": "stderr",
     "output_type": "stream",
     "text": [
      "2024-03-11 22:11 INFO End of Epoch 814 - Loss: 5.5859\n"
     ]
    },
    {
     "name": "stdout",
     "output_type": "stream",
     "text": [
      "71/71 [==============================] - 21s 292ms/step - loss: 5.5859 - accuracy: 0.6131\n",
      "Epoch 815/1600\n",
      "71/71 [==============================] - ETA: 0s - loss: 5.5286 - accuracy: 0.6214"
     ]
    },
    {
     "name": "stderr",
     "output_type": "stream",
     "text": [
      "2024-03-11 22:11 INFO End of Epoch 815 - Loss: 5.5286\n"
     ]
    },
    {
     "name": "stdout",
     "output_type": "stream",
     "text": [
      "71/71 [==============================] - 20s 289ms/step - loss: 5.5286 - accuracy: 0.6214\n",
      "Epoch 816/1600\n",
      "71/71 [==============================] - ETA: 0s - loss: 5.7550 - accuracy: 0.6097"
     ]
    },
    {
     "name": "stderr",
     "output_type": "stream",
     "text": [
      "2024-03-11 22:11 INFO End of Epoch 816 - Loss: 5.7550\n"
     ]
    },
    {
     "name": "stdout",
     "output_type": "stream",
     "text": [
      "71/71 [==============================] - 21s 292ms/step - loss: 5.7550 - accuracy: 0.6097\n",
      "Epoch 817/1600\n",
      "71/71 [==============================] - ETA: 0s - loss: 6.5234 - accuracy: 0.6208"
     ]
    },
    {
     "name": "stderr",
     "output_type": "stream",
     "text": [
      "2024-03-11 22:12 INFO End of Epoch 817 - Loss: 6.5234\n"
     ]
    },
    {
     "name": "stdout",
     "output_type": "stream",
     "text": [
      "71/71 [==============================] - 21s 291ms/step - loss: 6.5234 - accuracy: 0.6208\n",
      "Epoch 818/1600\n",
      "71/71 [==============================] - ETA: 0s - loss: 6.6863 - accuracy: 0.5930"
     ]
    },
    {
     "name": "stderr",
     "output_type": "stream",
     "text": [
      "2024-03-11 22:12 INFO End of Epoch 818 - Loss: 6.6863\n"
     ]
    },
    {
     "name": "stdout",
     "output_type": "stream",
     "text": [
      "71/71 [==============================] - 21s 291ms/step - loss: 6.6863 - accuracy: 0.5930\n",
      "Epoch 819/1600\n",
      "71/71 [==============================] - ETA: 0s - loss: 6.8241 - accuracy: 0.5897"
     ]
    },
    {
     "name": "stderr",
     "output_type": "stream",
     "text": [
      "2024-03-11 22:13 INFO End of Epoch 819 - Loss: 6.8241\n"
     ]
    },
    {
     "name": "stdout",
     "output_type": "stream",
     "text": [
      "71/71 [==============================] - 21s 291ms/step - loss: 6.8241 - accuracy: 0.5897\n",
      "Epoch 820/1600\n",
      "71/71 [==============================] - ETA: 0s - loss: 4.9391 - accuracy: 0.6150"
     ]
    },
    {
     "name": "stderr",
     "output_type": "stream",
     "text": [
      "2024-03-11 22:13 INFO End of Epoch 820 - Loss: 4.9391\n"
     ]
    },
    {
     "name": "stdout",
     "output_type": "stream",
     "text": [
      "71/71 [==============================] - 21s 291ms/step - loss: 4.9391 - accuracy: 0.6150\n",
      "Epoch 821/1600\n",
      "71/71 [==============================] - ETA: 0s - loss: 5.2444 - accuracy: 0.6046"
     ]
    },
    {
     "name": "stderr",
     "output_type": "stream",
     "text": [
      "2024-03-11 22:14 INFO End of Epoch 821 - Loss: 5.2444\n"
     ]
    },
    {
     "name": "stdout",
     "output_type": "stream",
     "text": [
      "71/71 [==============================] - 21s 292ms/step - loss: 5.2444 - accuracy: 0.6046\n",
      "Epoch 822/1600\n",
      "71/71 [==============================] - ETA: 0s - loss: 4.8944 - accuracy: 0.6055"
     ]
    },
    {
     "name": "stderr",
     "output_type": "stream",
     "text": [
      "2024-03-11 22:14 INFO End of Epoch 822 - Loss: 4.8944\n"
     ]
    },
    {
     "name": "stdout",
     "output_type": "stream",
     "text": [
      "71/71 [==============================] - 21s 291ms/step - loss: 4.8944 - accuracy: 0.6055\n",
      "Epoch 823/1600\n",
      "71/71 [==============================] - ETA: 0s - loss: 3.9195 - accuracy: 0.6295"
     ]
    },
    {
     "name": "stderr",
     "output_type": "stream",
     "text": [
      "2024-03-11 22:15 INFO End of Epoch 823 - Loss: 3.9195\n"
     ]
    },
    {
     "name": "stdout",
     "output_type": "stream",
     "text": [
      "71/71 [==============================] - 21s 291ms/step - loss: 3.9195 - accuracy: 0.6295\n",
      "Epoch 824/1600\n",
      "71/71 [==============================] - ETA: 0s - loss: 4.2263 - accuracy: 0.6377"
     ]
    },
    {
     "name": "stderr",
     "output_type": "stream",
     "text": [
      "2024-03-11 22:15 INFO End of Epoch 824 - Loss: 4.2263\n"
     ]
    },
    {
     "name": "stdout",
     "output_type": "stream",
     "text": [
      "71/71 [==============================] - 21s 293ms/step - loss: 4.2263 - accuracy: 0.6377\n",
      "Epoch 825/1600\n",
      "71/71 [==============================] - ETA: 0s - loss: 5.2549 - accuracy: 0.6360"
     ]
    },
    {
     "name": "stderr",
     "output_type": "stream",
     "text": [
      "2024-03-11 22:15 INFO End of Epoch 825 - Loss: 5.2549\n"
     ]
    },
    {
     "name": "stdout",
     "output_type": "stream",
     "text": [
      "71/71 [==============================] - 21s 294ms/step - loss: 5.2549 - accuracy: 0.6360\n",
      "Epoch 826/1600\n",
      "71/71 [==============================] - ETA: 0s - loss: 4.9297 - accuracy: 0.6407"
     ]
    },
    {
     "name": "stderr",
     "output_type": "stream",
     "text": [
      "2024-03-11 22:16 INFO End of Epoch 826 - Loss: 4.9297\n"
     ]
    },
    {
     "name": "stdout",
     "output_type": "stream",
     "text": [
      "71/71 [==============================] - 21s 292ms/step - loss: 4.9297 - accuracy: 0.6407\n",
      "Epoch 827/1600\n",
      "71/71 [==============================] - ETA: 0s - loss: 4.3087 - accuracy: 0.6163"
     ]
    },
    {
     "name": "stderr",
     "output_type": "stream",
     "text": [
      "2024-03-11 22:16 INFO End of Epoch 827 - Loss: 4.3087\n"
     ]
    },
    {
     "name": "stdout",
     "output_type": "stream",
     "text": [
      "71/71 [==============================] - 21s 291ms/step - loss: 4.3087 - accuracy: 0.6163\n",
      "Epoch 828/1600\n",
      "71/71 [==============================] - ETA: 0s - loss: 4.1323 - accuracy: 0.6418"
     ]
    },
    {
     "name": "stderr",
     "output_type": "stream",
     "text": [
      "2024-03-11 22:17 INFO End of Epoch 828 - Loss: 4.1323\n"
     ]
    },
    {
     "name": "stdout",
     "output_type": "stream",
     "text": [
      "71/71 [==============================] - 21s 292ms/step - loss: 4.1323 - accuracy: 0.6418\n",
      "Epoch 829/1600\n",
      "71/71 [==============================] - ETA: 0s - loss: 4.0924 - accuracy: 0.6334"
     ]
    },
    {
     "name": "stderr",
     "output_type": "stream",
     "text": [
      "2024-03-11 22:17 INFO End of Epoch 829 - Loss: 4.0924\n"
     ]
    },
    {
     "name": "stdout",
     "output_type": "stream",
     "text": [
      "71/71 [==============================] - 21s 291ms/step - loss: 4.0924 - accuracy: 0.6334\n",
      "Epoch 830/1600\n",
      "71/71 [==============================] - ETA: 0s - loss: 3.7635 - accuracy: 0.6455"
     ]
    },
    {
     "name": "stderr",
     "output_type": "stream",
     "text": [
      "2024-03-11 22:18 INFO End of Epoch 830 - Loss: 3.7635\n"
     ]
    },
    {
     "name": "stdout",
     "output_type": "stream",
     "text": [
      "71/71 [==============================] - 21s 292ms/step - loss: 3.7635 - accuracy: 0.6455\n",
      "Epoch 831/1600\n",
      "71/71 [==============================] - ETA: 0s - loss: 4.8117 - accuracy: 0.6381"
     ]
    },
    {
     "name": "stderr",
     "output_type": "stream",
     "text": [
      "2024-03-11 22:18 INFO End of Epoch 831 - Loss: 4.8117\n"
     ]
    },
    {
     "name": "stdout",
     "output_type": "stream",
     "text": [
      "71/71 [==============================] - 21s 292ms/step - loss: 4.8117 - accuracy: 0.6381\n",
      "Epoch 832/1600\n",
      "71/71 [==============================] - ETA: 0s - loss: 5.9082 - accuracy: 0.6346"
     ]
    },
    {
     "name": "stderr",
     "output_type": "stream",
     "text": [
      "2024-03-11 22:19 INFO End of Epoch 832 - Loss: 5.9082\n"
     ]
    },
    {
     "name": "stdout",
     "output_type": "stream",
     "text": [
      "71/71 [==============================] - 21s 292ms/step - loss: 5.9082 - accuracy: 0.6346\n",
      "Epoch 833/1600\n",
      "71/71 [==============================] - ETA: 0s - loss: 6.2711 - accuracy: 0.6249"
     ]
    },
    {
     "name": "stderr",
     "output_type": "stream",
     "text": [
      "2024-03-11 22:19 INFO End of Epoch 833 - Loss: 6.2711\n"
     ]
    },
    {
     "name": "stdout",
     "output_type": "stream",
     "text": [
      "71/71 [==============================] - 21s 292ms/step - loss: 6.2711 - accuracy: 0.6249\n",
      "Epoch 834/1600\n",
      "71/71 [==============================] - ETA: 0s - loss: 9.6805 - accuracy: 0.6235"
     ]
    },
    {
     "name": "stderr",
     "output_type": "stream",
     "text": [
      "2024-03-11 22:19 INFO End of Epoch 834 - Loss: 9.6805\n"
     ]
    },
    {
     "name": "stdout",
     "output_type": "stream",
     "text": [
      "71/71 [==============================] - 21s 293ms/step - loss: 9.6805 - accuracy: 0.6235\n",
      "Epoch 835/1600\n",
      "71/71 [==============================] - ETA: 0s - loss: 10.0689 - accuracy: 0.6018"
     ]
    },
    {
     "name": "stderr",
     "output_type": "stream",
     "text": [
      "2024-03-11 22:20 INFO End of Epoch 835 - Loss: 10.0689\n"
     ]
    },
    {
     "name": "stdout",
     "output_type": "stream",
     "text": [
      "71/71 [==============================] - 21s 292ms/step - loss: 10.0689 - accuracy: 0.6018\n",
      "Epoch 836/1600\n",
      "71/71 [==============================] - ETA: 0s - loss: 6.6251 - accuracy: 0.6016"
     ]
    },
    {
     "name": "stderr",
     "output_type": "stream",
     "text": [
      "2024-03-11 22:20 INFO End of Epoch 836 - Loss: 6.6251\n"
     ]
    },
    {
     "name": "stdout",
     "output_type": "stream",
     "text": [
      "71/71 [==============================] - 21s 292ms/step - loss: 6.6251 - accuracy: 0.6016\n",
      "Epoch 837/1600\n",
      "71/71 [==============================] - ETA: 0s - loss: 4.4569 - accuracy: 0.6272"
     ]
    },
    {
     "name": "stderr",
     "output_type": "stream",
     "text": [
      "2024-03-11 22:21 INFO End of Epoch 837 - Loss: 4.4569\n"
     ]
    },
    {
     "name": "stdout",
     "output_type": "stream",
     "text": [
      "71/71 [==============================] - 21s 293ms/step - loss: 4.4569 - accuracy: 0.6272\n",
      "Epoch 838/1600\n",
      "71/71 [==============================] - ETA: 0s - loss: 3.6867 - accuracy: 0.6376"
     ]
    },
    {
     "name": "stderr",
     "output_type": "stream",
     "text": [
      "2024-03-11 22:21 INFO End of Epoch 838 - Loss: 3.6867\n"
     ]
    },
    {
     "name": "stdout",
     "output_type": "stream",
     "text": [
      "71/71 [==============================] - 21s 291ms/step - loss: 3.6867 - accuracy: 0.6376\n",
      "Epoch 839/1600\n",
      "71/71 [==============================] - ETA: 0s - loss: 3.3327 - accuracy: 0.6420"
     ]
    },
    {
     "name": "stderr",
     "output_type": "stream",
     "text": [
      "2024-03-11 22:22 INFO End of Epoch 839 - Loss: 3.3327\n"
     ]
    },
    {
     "name": "stdout",
     "output_type": "stream",
     "text": [
      "71/71 [==============================] - 21s 293ms/step - loss: 3.3327 - accuracy: 0.6420\n",
      "Epoch 840/1600\n",
      "71/71 [==============================] - ETA: 0s - loss: 2.8629 - accuracy: 0.6572"
     ]
    },
    {
     "name": "stderr",
     "output_type": "stream",
     "text": [
      "2024-03-11 22:22 INFO End of Epoch 840 - Loss: 2.8629\n"
     ]
    },
    {
     "name": "stdout",
     "output_type": "stream",
     "text": [
      "71/71 [==============================] - 21s 292ms/step - loss: 2.8629 - accuracy: 0.6572\n",
      "Epoch 841/1600\n",
      "71/71 [==============================] - ETA: 0s - loss: 3.0984 - accuracy: 0.6471"
     ]
    },
    {
     "name": "stderr",
     "output_type": "stream",
     "text": [
      "2024-03-11 22:23 INFO End of Epoch 841 - Loss: 3.0984\n"
     ]
    },
    {
     "name": "stdout",
     "output_type": "stream",
     "text": [
      "71/71 [==============================] - 21s 291ms/step - loss: 3.0984 - accuracy: 0.6471\n",
      "Epoch 842/1600\n",
      "71/71 [==============================] - ETA: 0s - loss: 2.9845 - accuracy: 0.6405"
     ]
    },
    {
     "name": "stderr",
     "output_type": "stream",
     "text": [
      "2024-03-11 22:23 INFO End of Epoch 842 - Loss: 2.9845\n"
     ]
    },
    {
     "name": "stdout",
     "output_type": "stream",
     "text": [
      "71/71 [==============================] - 21s 292ms/step - loss: 2.9845 - accuracy: 0.6405\n",
      "Epoch 843/1600\n",
      "71/71 [==============================] - ETA: 0s - loss: 5.7957 - accuracy: 0.6347"
     ]
    },
    {
     "name": "stderr",
     "output_type": "stream",
     "text": [
      "2024-03-11 22:23 INFO End of Epoch 843 - Loss: 5.7957\n"
     ]
    },
    {
     "name": "stdout",
     "output_type": "stream",
     "text": [
      "71/71 [==============================] - 21s 294ms/step - loss: 5.7957 - accuracy: 0.6347\n",
      "Epoch 844/1600\n",
      "71/71 [==============================] - ETA: 0s - loss: 7.8582 - accuracy: 0.6440"
     ]
    },
    {
     "name": "stderr",
     "output_type": "stream",
     "text": [
      "2024-03-11 22:24 INFO End of Epoch 844 - Loss: 7.8582\n"
     ]
    },
    {
     "name": "stdout",
     "output_type": "stream",
     "text": [
      "71/71 [==============================] - 21s 293ms/step - loss: 7.8582 - accuracy: 0.6440\n",
      "Epoch 845/1600\n",
      "71/71 [==============================] - ETA: 0s - loss: 6.7655 - accuracy: 0.6217"
     ]
    },
    {
     "name": "stderr",
     "output_type": "stream",
     "text": [
      "2024-03-11 22:24 INFO End of Epoch 845 - Loss: 6.7655\n"
     ]
    },
    {
     "name": "stdout",
     "output_type": "stream",
     "text": [
      "71/71 [==============================] - 21s 293ms/step - loss: 6.7655 - accuracy: 0.6217\n",
      "Epoch 846/1600\n",
      "71/71 [==============================] - ETA: 0s - loss: 4.7465 - accuracy: 0.6272"
     ]
    },
    {
     "name": "stderr",
     "output_type": "stream",
     "text": [
      "2024-03-11 22:25 INFO End of Epoch 846 - Loss: 4.7465\n"
     ]
    },
    {
     "name": "stdout",
     "output_type": "stream",
     "text": [
      "71/71 [==============================] - 20s 286ms/step - loss: 4.7465 - accuracy: 0.6272\n",
      "Epoch 847/1600\n",
      "71/71 [==============================] - ETA: 0s - loss: 2.9132 - accuracy: 0.6449"
     ]
    },
    {
     "name": "stderr",
     "output_type": "stream",
     "text": [
      "2024-03-11 22:25 INFO End of Epoch 847 - Loss: 2.9132\n"
     ]
    },
    {
     "name": "stdout",
     "output_type": "stream",
     "text": [
      "71/71 [==============================] - 21s 293ms/step - loss: 2.9132 - accuracy: 0.6449\n",
      "Epoch 848/1600\n",
      "71/71 [==============================] - ETA: 0s - loss: 2.5536 - accuracy: 0.6498"
     ]
    },
    {
     "name": "stderr",
     "output_type": "stream",
     "text": [
      "2024-03-11 22:26 INFO End of Epoch 848 - Loss: 2.5536\n"
     ]
    },
    {
     "name": "stdout",
     "output_type": "stream",
     "text": [
      "71/71 [==============================] - 21s 290ms/step - loss: 2.5536 - accuracy: 0.6498\n",
      "Epoch 849/1600\n",
      "71/71 [==============================] - ETA: 0s - loss: 2.2720 - accuracy: 0.6464"
     ]
    },
    {
     "name": "stderr",
     "output_type": "stream",
     "text": [
      "2024-03-11 22:26 INFO End of Epoch 849 - Loss: 2.2720\n"
     ]
    },
    {
     "name": "stdout",
     "output_type": "stream",
     "text": [
      "71/71 [==============================] - 21s 291ms/step - loss: 2.2720 - accuracy: 0.6464\n",
      "Epoch 850/1600\n",
      "71/71 [==============================] - ETA: 0s - loss: 2.7274 - accuracy: 0.6421"
     ]
    },
    {
     "name": "stderr",
     "output_type": "stream",
     "text": [
      "2024-03-11 22:27 INFO End of Epoch 850 - Loss: 2.7274\n"
     ]
    },
    {
     "name": "stdout",
     "output_type": "stream",
     "text": [
      "71/71 [==============================] - 20s 287ms/step - loss: 2.7274 - accuracy: 0.6421\n",
      "Epoch 851/1600\n",
      "71/71 [==============================] - ETA: 0s - loss: 4.0656 - accuracy: 0.6572"
     ]
    },
    {
     "name": "stderr",
     "output_type": "stream",
     "text": [
      "2024-03-11 22:27 INFO End of Epoch 851 - Loss: 4.0656\n"
     ]
    },
    {
     "name": "stdout",
     "output_type": "stream",
     "text": [
      "71/71 [==============================] - 21s 291ms/step - loss: 4.0656 - accuracy: 0.6572\n",
      "Epoch 852/1600\n",
      "71/71 [==============================] - ETA: 0s - loss: 4.8401 - accuracy: 0.6454"
     ]
    },
    {
     "name": "stderr",
     "output_type": "stream",
     "text": [
      "2024-03-11 22:27 INFO End of Epoch 852 - Loss: 4.8401\n"
     ]
    },
    {
     "name": "stdout",
     "output_type": "stream",
     "text": [
      "71/71 [==============================] - 21s 290ms/step - loss: 4.8401 - accuracy: 0.6454\n",
      "Epoch 853/1600\n",
      "71/71 [==============================] - ETA: 0s - loss: 4.1410 - accuracy: 0.6320"
     ]
    },
    {
     "name": "stderr",
     "output_type": "stream",
     "text": [
      "2024-03-11 22:28 INFO End of Epoch 853 - Loss: 4.1410\n"
     ]
    },
    {
     "name": "stdout",
     "output_type": "stream",
     "text": [
      "71/71 [==============================] - 21s 292ms/step - loss: 4.1410 - accuracy: 0.6320\n",
      "Epoch 854/1600\n",
      "71/71 [==============================] - ETA: 0s - loss: 6.8958 - accuracy: 0.6469"
     ]
    },
    {
     "name": "stderr",
     "output_type": "stream",
     "text": [
      "2024-03-11 22:28 INFO End of Epoch 854 - Loss: 6.8958\n"
     ]
    },
    {
     "name": "stdout",
     "output_type": "stream",
     "text": [
      "71/71 [==============================] - 21s 291ms/step - loss: 6.8958 - accuracy: 0.6469\n",
      "Epoch 855/1600\n",
      "71/71 [==============================] - ETA: 0s - loss: 8.8919 - accuracy: 0.6442"
     ]
    },
    {
     "name": "stderr",
     "output_type": "stream",
     "text": [
      "2024-03-11 22:29 INFO End of Epoch 855 - Loss: 8.8919\n"
     ]
    },
    {
     "name": "stdout",
     "output_type": "stream",
     "text": [
      "71/71 [==============================] - 21s 293ms/step - loss: 8.8919 - accuracy: 0.6442\n",
      "Epoch 856/1600\n",
      "71/71 [==============================] - ETA: 0s - loss: 8.5777 - accuracy: 0.5977"
     ]
    },
    {
     "name": "stderr",
     "output_type": "stream",
     "text": [
      "2024-03-11 22:29 INFO End of Epoch 856 - Loss: 8.5777\n"
     ]
    },
    {
     "name": "stdout",
     "output_type": "stream",
     "text": [
      "71/71 [==============================] - 21s 291ms/step - loss: 8.5777 - accuracy: 0.5977\n",
      "Epoch 857/1600\n",
      "71/71 [==============================] - ETA: 0s - loss: 5.2015 - accuracy: 0.6001"
     ]
    },
    {
     "name": "stderr",
     "output_type": "stream",
     "text": [
      "2024-03-11 22:30 INFO End of Epoch 857 - Loss: 5.2015\n"
     ]
    },
    {
     "name": "stdout",
     "output_type": "stream",
     "text": [
      "71/71 [==============================] - 21s 291ms/step - loss: 5.2015 - accuracy: 0.6001\n",
      "Epoch 858/1600\n",
      "71/71 [==============================] - ETA: 0s - loss: 4.3114 - accuracy: 0.6060"
     ]
    },
    {
     "name": "stderr",
     "output_type": "stream",
     "text": [
      "2024-03-11 22:30 INFO End of Epoch 858 - Loss: 4.3114\n"
     ]
    },
    {
     "name": "stdout",
     "output_type": "stream",
     "text": [
      "71/71 [==============================] - 21s 291ms/step - loss: 4.3114 - accuracy: 0.6060\n",
      "Epoch 859/1600\n",
      "71/71 [==============================] - ETA: 0s - loss: 4.7757 - accuracy: 0.6268"
     ]
    },
    {
     "name": "stderr",
     "output_type": "stream",
     "text": [
      "2024-03-11 22:31 INFO End of Epoch 859 - Loss: 4.7757\n"
     ]
    },
    {
     "name": "stdout",
     "output_type": "stream",
     "text": [
      "71/71 [==============================] - 21s 290ms/step - loss: 4.7757 - accuracy: 0.6268\n",
      "Epoch 860/1600\n",
      "71/71 [==============================] - ETA: 0s - loss: 6.7025 - accuracy: 0.6266"
     ]
    },
    {
     "name": "stderr",
     "output_type": "stream",
     "text": [
      "2024-03-11 22:31 INFO End of Epoch 860 - Loss: 6.7025\n"
     ]
    },
    {
     "name": "stdout",
     "output_type": "stream",
     "text": [
      "71/71 [==============================] - 21s 291ms/step - loss: 6.7025 - accuracy: 0.6266\n",
      "Epoch 861/1600\n",
      "71/71 [==============================] - ETA: 0s - loss: 7.3299 - accuracy: 0.6290"
     ]
    },
    {
     "name": "stderr",
     "output_type": "stream",
     "text": [
      "2024-03-11 22:31 INFO End of Epoch 861 - Loss: 7.3299\n"
     ]
    },
    {
     "name": "stdout",
     "output_type": "stream",
     "text": [
      "71/71 [==============================] - 21s 293ms/step - loss: 7.3299 - accuracy: 0.6290\n",
      "Epoch 862/1600\n",
      "71/71 [==============================] - ETA: 0s - loss: 8.3576 - accuracy: 0.6401"
     ]
    },
    {
     "name": "stderr",
     "output_type": "stream",
     "text": [
      "2024-03-11 22:32 INFO End of Epoch 862 - Loss: 8.3576\n"
     ]
    },
    {
     "name": "stdout",
     "output_type": "stream",
     "text": [
      "71/71 [==============================] - 21s 291ms/step - loss: 8.3576 - accuracy: 0.6401\n",
      "Epoch 863/1600\n",
      "71/71 [==============================] - ETA: 0s - loss: 10.6454 - accuracy: 0.6221"
     ]
    },
    {
     "name": "stderr",
     "output_type": "stream",
     "text": [
      "2024-03-11 22:32 INFO End of Epoch 863 - Loss: 10.6454\n"
     ]
    },
    {
     "name": "stdout",
     "output_type": "stream",
     "text": [
      "71/71 [==============================] - 21s 291ms/step - loss: 10.6454 - accuracy: 0.6221\n",
      "Epoch 864/1600\n",
      "71/71 [==============================] - ETA: 0s - loss: 5.7054 - accuracy: 0.6271"
     ]
    },
    {
     "name": "stderr",
     "output_type": "stream",
     "text": [
      "2024-03-11 22:33 INFO End of Epoch 864 - Loss: 5.7054\n"
     ]
    },
    {
     "name": "stdout",
     "output_type": "stream",
     "text": [
      "71/71 [==============================] - 21s 294ms/step - loss: 5.7054 - accuracy: 0.6271\n",
      "Epoch 865/1600\n",
      "71/71 [==============================] - ETA: 0s - loss: 3.0451 - accuracy: 0.6300"
     ]
    },
    {
     "name": "stderr",
     "output_type": "stream",
     "text": [
      "2024-03-11 22:33 INFO End of Epoch 865 - Loss: 3.0451\n"
     ]
    },
    {
     "name": "stdout",
     "output_type": "stream",
     "text": [
      "71/71 [==============================] - 21s 291ms/step - loss: 3.0451 - accuracy: 0.6300\n",
      "Epoch 866/1600\n",
      "71/71 [==============================] - ETA: 0s - loss: 2.4072 - accuracy: 0.6400"
     ]
    },
    {
     "name": "stderr",
     "output_type": "stream",
     "text": [
      "2024-03-11 22:34 INFO End of Epoch 866 - Loss: 2.4072\n"
     ]
    },
    {
     "name": "stdout",
     "output_type": "stream",
     "text": [
      "71/71 [==============================] - 21s 291ms/step - loss: 2.4072 - accuracy: 0.6400\n",
      "Epoch 867/1600\n",
      "71/71 [==============================] - ETA: 0s - loss: 1.9542 - accuracy: 0.6424"
     ]
    },
    {
     "name": "stderr",
     "output_type": "stream",
     "text": [
      "2024-03-11 22:34 INFO End of Epoch 867 - Loss: 1.9542\n"
     ]
    },
    {
     "name": "stdout",
     "output_type": "stream",
     "text": [
      "71/71 [==============================] - 21s 292ms/step - loss: 1.9542 - accuracy: 0.6424\n",
      "Epoch 868/1600\n",
      "71/71 [==============================] - ETA: 0s - loss: 1.6060 - accuracy: 0.6371"
     ]
    },
    {
     "name": "stderr",
     "output_type": "stream",
     "text": [
      "2024-03-11 22:35 INFO End of Epoch 868 - Loss: 1.6060\n"
     ]
    },
    {
     "name": "stdout",
     "output_type": "stream",
     "text": [
      "71/71 [==============================] - 21s 294ms/step - loss: 1.6060 - accuracy: 0.6371\n",
      "Epoch 869/1600\n",
      "71/71 [==============================] - ETA: 0s - loss: 1.5981 - accuracy: 0.6545"
     ]
    },
    {
     "name": "stderr",
     "output_type": "stream",
     "text": [
      "2024-03-11 22:35 INFO End of Epoch 869 - Loss: 1.5981\n"
     ]
    },
    {
     "name": "stdout",
     "output_type": "stream",
     "text": [
      "71/71 [==============================] - 21s 292ms/step - loss: 1.5981 - accuracy: 0.6545\n",
      "Epoch 870/1600\n",
      "71/71 [==============================] - ETA: 0s - loss: 1.6587 - accuracy: 0.6502"
     ]
    },
    {
     "name": "stderr",
     "output_type": "stream",
     "text": [
      "2024-03-11 22:35 INFO End of Epoch 870 - Loss: 1.6587\n"
     ]
    },
    {
     "name": "stdout",
     "output_type": "stream",
     "text": [
      "71/71 [==============================] - 21s 291ms/step - loss: 1.6587 - accuracy: 0.6502\n",
      "Epoch 871/1600\n",
      "71/71 [==============================] - ETA: 0s - loss: 5.5383 - accuracy: 0.6104"
     ]
    },
    {
     "name": "stderr",
     "output_type": "stream",
     "text": [
      "2024-03-11 22:36 INFO End of Epoch 871 - Loss: 5.5383\n"
     ]
    },
    {
     "name": "stdout",
     "output_type": "stream",
     "text": [
      "71/71 [==============================] - 21s 292ms/step - loss: 5.5383 - accuracy: 0.6104\n",
      "Epoch 872/1600\n",
      "71/71 [==============================] - ETA: 0s - loss: 9.4202 - accuracy: 0.6099"
     ]
    },
    {
     "name": "stderr",
     "output_type": "stream",
     "text": [
      "2024-03-11 22:36 INFO End of Epoch 872 - Loss: 9.4202\n"
     ]
    },
    {
     "name": "stdout",
     "output_type": "stream",
     "text": [
      "71/71 [==============================] - 21s 293ms/step - loss: 9.4202 - accuracy: 0.6099\n",
      "Epoch 873/1600\n",
      "71/71 [==============================] - ETA: 0s - loss: 12.0348 - accuracy: 0.6184"
     ]
    },
    {
     "name": "stderr",
     "output_type": "stream",
     "text": [
      "2024-03-11 22:37 INFO End of Epoch 873 - Loss: 12.0348\n"
     ]
    },
    {
     "name": "stdout",
     "output_type": "stream",
     "text": [
      "71/71 [==============================] - 21s 293ms/step - loss: 12.0348 - accuracy: 0.6184\n",
      "Epoch 874/1600\n",
      "71/71 [==============================] - ETA: 0s - loss: 8.2598 - accuracy: 0.6053"
     ]
    },
    {
     "name": "stderr",
     "output_type": "stream",
     "text": [
      "2024-03-11 22:37 INFO End of Epoch 874 - Loss: 8.2598\n"
     ]
    },
    {
     "name": "stdout",
     "output_type": "stream",
     "text": [
      "71/71 [==============================] - 21s 293ms/step - loss: 8.2598 - accuracy: 0.6053\n",
      "Epoch 875/1600\n",
      "71/71 [==============================] - ETA: 0s - loss: 6.2223 - accuracy: 0.5757"
     ]
    },
    {
     "name": "stderr",
     "output_type": "stream",
     "text": [
      "2024-03-11 22:38 INFO End of Epoch 875 - Loss: 6.2223\n"
     ]
    },
    {
     "name": "stdout",
     "output_type": "stream",
     "text": [
      "71/71 [==============================] - 21s 293ms/step - loss: 6.2223 - accuracy: 0.5757\n",
      "Epoch 876/1600\n",
      "71/71 [==============================] - ETA: 0s - loss: 6.8676 - accuracy: 0.5674"
     ]
    },
    {
     "name": "stderr",
     "output_type": "stream",
     "text": [
      "2024-03-11 22:38 INFO End of Epoch 876 - Loss: 6.8676\n"
     ]
    },
    {
     "name": "stdout",
     "output_type": "stream",
     "text": [
      "71/71 [==============================] - 21s 292ms/step - loss: 6.8676 - accuracy: 0.5674\n",
      "Epoch 877/1600\n",
      "71/71 [==============================] - ETA: 0s - loss: 6.2510 - accuracy: 0.5622"
     ]
    },
    {
     "name": "stderr",
     "output_type": "stream",
     "text": [
      "2024-03-11 22:39 INFO End of Epoch 877 - Loss: 6.2510\n"
     ]
    },
    {
     "name": "stdout",
     "output_type": "stream",
     "text": [
      "71/71 [==============================] - 21s 292ms/step - loss: 6.2510 - accuracy: 0.5622\n",
      "Epoch 878/1600\n",
      "71/71 [==============================] - ETA: 0s - loss: 4.2966 - accuracy: 0.5867"
     ]
    },
    {
     "name": "stderr",
     "output_type": "stream",
     "text": [
      "2024-03-11 22:39 INFO End of Epoch 878 - Loss: 4.2966\n"
     ]
    },
    {
     "name": "stdout",
     "output_type": "stream",
     "text": [
      "71/71 [==============================] - 21s 294ms/step - loss: 4.2966 - accuracy: 0.5867\n",
      "Epoch 879/1600\n",
      "71/71 [==============================] - ETA: 0s - loss: 2.7914 - accuracy: 0.6079"
     ]
    },
    {
     "name": "stderr",
     "output_type": "stream",
     "text": [
      "2024-03-11 22:39 INFO End of Epoch 879 - Loss: 2.7914\n"
     ]
    },
    {
     "name": "stdout",
     "output_type": "stream",
     "text": [
      "71/71 [==============================] - 21s 290ms/step - loss: 2.7914 - accuracy: 0.6079\n",
      "Epoch 880/1600\n",
      "71/71 [==============================] - ETA: 0s - loss: 2.5967 - accuracy: 0.5953"
     ]
    },
    {
     "name": "stderr",
     "output_type": "stream",
     "text": [
      "2024-03-11 22:40 INFO End of Epoch 880 - Loss: 2.5967\n"
     ]
    },
    {
     "name": "stdout",
     "output_type": "stream",
     "text": [
      "71/71 [==============================] - 21s 293ms/step - loss: 2.5967 - accuracy: 0.5953\n",
      "Epoch 881/1600\n",
      "71/71 [==============================] - ETA: 0s - loss: 2.5384 - accuracy: 0.6168"
     ]
    },
    {
     "name": "stderr",
     "output_type": "stream",
     "text": [
      "2024-03-11 22:40 INFO End of Epoch 881 - Loss: 2.5384\n"
     ]
    },
    {
     "name": "stdout",
     "output_type": "stream",
     "text": [
      "71/71 [==============================] - 21s 293ms/step - loss: 2.5384 - accuracy: 0.6168\n",
      "Epoch 882/1600\n",
      "71/71 [==============================] - ETA: 0s - loss: 2.5512 - accuracy: 0.6344"
     ]
    },
    {
     "name": "stderr",
     "output_type": "stream",
     "text": [
      "2024-03-11 22:41 INFO End of Epoch 882 - Loss: 2.5512\n"
     ]
    },
    {
     "name": "stdout",
     "output_type": "stream",
     "text": [
      "71/71 [==============================] - 21s 292ms/step - loss: 2.5512 - accuracy: 0.6344\n",
      "Epoch 883/1600\n",
      "71/71 [==============================] - ETA: 0s - loss: 2.7305 - accuracy: 0.6283"
     ]
    },
    {
     "name": "stderr",
     "output_type": "stream",
     "text": [
      "2024-03-11 22:41 INFO End of Epoch 883 - Loss: 2.7305\n"
     ]
    },
    {
     "name": "stdout",
     "output_type": "stream",
     "text": [
      "71/71 [==============================] - 21s 293ms/step - loss: 2.7305 - accuracy: 0.6283\n",
      "Epoch 884/1600\n",
      "71/71 [==============================] - ETA: 0s - loss: 2.7626 - accuracy: 0.6337"
     ]
    },
    {
     "name": "stderr",
     "output_type": "stream",
     "text": [
      "2024-03-11 22:42 INFO End of Epoch 884 - Loss: 2.7626\n"
     ]
    },
    {
     "name": "stdout",
     "output_type": "stream",
     "text": [
      "71/71 [==============================] - 21s 291ms/step - loss: 2.7626 - accuracy: 0.6337\n",
      "Epoch 885/1600\n",
      "71/71 [==============================] - ETA: 0s - loss: 2.9941 - accuracy: 0.6315"
     ]
    },
    {
     "name": "stderr",
     "output_type": "stream",
     "text": [
      "2024-03-11 22:42 INFO End of Epoch 885 - Loss: 2.9941\n"
     ]
    },
    {
     "name": "stdout",
     "output_type": "stream",
     "text": [
      "71/71 [==============================] - 21s 293ms/step - loss: 2.9941 - accuracy: 0.6315\n",
      "Epoch 886/1600\n",
      "71/71 [==============================] - ETA: 0s - loss: 5.5198 - accuracy: 0.6342"
     ]
    },
    {
     "name": "stderr",
     "output_type": "stream",
     "text": [
      "2024-03-11 22:43 INFO End of Epoch 886 - Loss: 5.5198\n"
     ]
    },
    {
     "name": "stdout",
     "output_type": "stream",
     "text": [
      "71/71 [==============================] - 20s 287ms/step - loss: 5.5198 - accuracy: 0.6342\n",
      "Epoch 887/1600\n",
      "71/71 [==============================] - ETA: 0s - loss: 8.3525 - accuracy: 0.6312"
     ]
    },
    {
     "name": "stderr",
     "output_type": "stream",
     "text": [
      "2024-03-11 22:43 INFO End of Epoch 887 - Loss: 8.3525\n"
     ]
    },
    {
     "name": "stdout",
     "output_type": "stream",
     "text": [
      "71/71 [==============================] - 21s 293ms/step - loss: 8.3525 - accuracy: 0.6312\n",
      "Epoch 888/1600\n",
      "71/71 [==============================] - ETA: 0s - loss: 11.0475 - accuracy: 0.6160"
     ]
    },
    {
     "name": "stderr",
     "output_type": "stream",
     "text": [
      "2024-03-11 22:43 INFO End of Epoch 888 - Loss: 11.0475\n"
     ]
    },
    {
     "name": "stdout",
     "output_type": "stream",
     "text": [
      "71/71 [==============================] - 21s 291ms/step - loss: 11.0475 - accuracy: 0.6160\n",
      "Epoch 889/1600\n",
      "71/71 [==============================] - ETA: 0s - loss: 9.1854 - accuracy: 0.6177"
     ]
    },
    {
     "name": "stderr",
     "output_type": "stream",
     "text": [
      "2024-03-11 22:44 INFO End of Epoch 889 - Loss: 9.1854\n"
     ]
    },
    {
     "name": "stdout",
     "output_type": "stream",
     "text": [
      "71/71 [==============================] - 21s 290ms/step - loss: 9.1854 - accuracy: 0.6177\n",
      "Epoch 890/1600\n",
      "71/71 [==============================] - ETA: 0s - loss: 5.8670 - accuracy: 0.6097"
     ]
    },
    {
     "name": "stderr",
     "output_type": "stream",
     "text": [
      "2024-03-11 22:44 INFO End of Epoch 890 - Loss: 5.8670\n"
     ]
    },
    {
     "name": "stdout",
     "output_type": "stream",
     "text": [
      "71/71 [==============================] - 21s 293ms/step - loss: 5.8670 - accuracy: 0.6097\n",
      "Epoch 891/1600\n",
      "71/71 [==============================] - ETA: 0s - loss: 4.4334 - accuracy: 0.5845"
     ]
    },
    {
     "name": "stderr",
     "output_type": "stream",
     "text": [
      "2024-03-11 22:45 INFO End of Epoch 891 - Loss: 4.4334\n"
     ]
    },
    {
     "name": "stdout",
     "output_type": "stream",
     "text": [
      "71/71 [==============================] - 21s 291ms/step - loss: 4.4334 - accuracy: 0.5845\n",
      "Epoch 892/1600\n",
      "71/71 [==============================] - ETA: 0s - loss: 3.3162 - accuracy: 0.5914"
     ]
    },
    {
     "name": "stderr",
     "output_type": "stream",
     "text": [
      "2024-03-11 22:45 INFO End of Epoch 892 - Loss: 3.3162\n"
     ]
    },
    {
     "name": "stdout",
     "output_type": "stream",
     "text": [
      "71/71 [==============================] - 21s 289ms/step - loss: 3.3162 - accuracy: 0.5914\n",
      "Epoch 893/1600\n",
      "71/71 [==============================] - ETA: 0s - loss: 2.8436 - accuracy: 0.6029"
     ]
    },
    {
     "name": "stderr",
     "output_type": "stream",
     "text": [
      "2024-03-11 22:46 INFO End of Epoch 893 - Loss: 2.8436\n"
     ]
    },
    {
     "name": "stdout",
     "output_type": "stream",
     "text": [
      "71/71 [==============================] - 21s 292ms/step - loss: 2.8436 - accuracy: 0.6029\n",
      "Epoch 894/1600\n",
      "71/71 [==============================] - ETA: 0s - loss: 3.2462 - accuracy: 0.5940"
     ]
    },
    {
     "name": "stderr",
     "output_type": "stream",
     "text": [
      "2024-03-11 22:46 INFO End of Epoch 894 - Loss: 3.2462\n"
     ]
    },
    {
     "name": "stdout",
     "output_type": "stream",
     "text": [
      "71/71 [==============================] - 21s 292ms/step - loss: 3.2462 - accuracy: 0.5940\n",
      "Epoch 895/1600\n",
      "71/71 [==============================] - ETA: 0s - loss: 3.2657 - accuracy: 0.5906"
     ]
    },
    {
     "name": "stderr",
     "output_type": "stream",
     "text": [
      "2024-03-11 22:47 INFO End of Epoch 895 - Loss: 3.2657\n"
     ]
    },
    {
     "name": "stdout",
     "output_type": "stream",
     "text": [
      "71/71 [==============================] - 21s 292ms/step - loss: 3.2657 - accuracy: 0.5906\n",
      "Epoch 896/1600\n",
      "71/71 [==============================] - ETA: 0s - loss: 3.0486 - accuracy: 0.5916"
     ]
    },
    {
     "name": "stderr",
     "output_type": "stream",
     "text": [
      "2024-03-11 22:47 INFO End of Epoch 896 - Loss: 3.0486\n"
     ]
    },
    {
     "name": "stdout",
     "output_type": "stream",
     "text": [
      "71/71 [==============================] - 21s 291ms/step - loss: 3.0486 - accuracy: 0.5916\n",
      "Epoch 897/1600\n",
      "71/71 [==============================] - ETA: 0s - loss: 3.6141 - accuracy: 0.6141"
     ]
    },
    {
     "name": "stderr",
     "output_type": "stream",
     "text": [
      "2024-03-11 22:47 INFO End of Epoch 897 - Loss: 3.6141\n"
     ]
    },
    {
     "name": "stdout",
     "output_type": "stream",
     "text": [
      "71/71 [==============================] - 21s 292ms/step - loss: 3.6141 - accuracy: 0.6141\n",
      "Epoch 898/1600\n",
      "71/71 [==============================] - ETA: 0s - loss: 3.9929 - accuracy: 0.6194"
     ]
    },
    {
     "name": "stderr",
     "output_type": "stream",
     "text": [
      "2024-03-11 22:48 INFO End of Epoch 898 - Loss: 3.9929\n"
     ]
    },
    {
     "name": "stdout",
     "output_type": "stream",
     "text": [
      "71/71 [==============================] - 21s 293ms/step - loss: 3.9929 - accuracy: 0.6194\n",
      "Epoch 899/1600\n",
      "71/71 [==============================] - ETA: 0s - loss: 4.8171 - accuracy: 0.6215"
     ]
    },
    {
     "name": "stderr",
     "output_type": "stream",
     "text": [
      "2024-03-11 22:48 INFO End of Epoch 899 - Loss: 4.8171\n"
     ]
    },
    {
     "name": "stdout",
     "output_type": "stream",
     "text": [
      "71/71 [==============================] - 21s 290ms/step - loss: 4.8171 - accuracy: 0.6215\n",
      "Epoch 900/1600\n",
      "71/71 [==============================] - ETA: 0s - loss: 6.7336 - accuracy: 0.6222"
     ]
    },
    {
     "name": "stderr",
     "output_type": "stream",
     "text": [
      "2024-03-11 22:49 INFO End of Epoch 900 - Loss: 6.7336\n"
     ]
    },
    {
     "name": "stdout",
     "output_type": "stream",
     "text": [
      "71/71 [==============================] - 21s 293ms/step - loss: 6.7336 - accuracy: 0.6222\n",
      "Epoch 901/1600\n",
      "71/71 [==============================] - ETA: 0s - loss: 8.3464 - accuracy: 0.6120"
     ]
    },
    {
     "name": "stderr",
     "output_type": "stream",
     "text": [
      "2024-03-11 22:49 INFO End of Epoch 901 - Loss: 8.3464\n"
     ]
    },
    {
     "name": "stdout",
     "output_type": "stream",
     "text": [
      "71/71 [==============================] - 21s 292ms/step - loss: 8.3464 - accuracy: 0.6120\n",
      "Epoch 902/1600\n",
      "71/71 [==============================] - ETA: 0s - loss: 7.3489 - accuracy: 0.5988"
     ]
    },
    {
     "name": "stderr",
     "output_type": "stream",
     "text": [
      "2024-03-11 22:50 INFO End of Epoch 902 - Loss: 7.3489\n"
     ]
    },
    {
     "name": "stdout",
     "output_type": "stream",
     "text": [
      "71/71 [==============================] - 21s 291ms/step - loss: 7.3489 - accuracy: 0.5988\n",
      "Epoch 903/1600\n",
      "71/71 [==============================] - ETA: 0s - loss: 5.6553 - accuracy: 0.6092"
     ]
    },
    {
     "name": "stderr",
     "output_type": "stream",
     "text": [
      "2024-03-11 22:50 INFO End of Epoch 903 - Loss: 5.6553\n"
     ]
    },
    {
     "name": "stdout",
     "output_type": "stream",
     "text": [
      "71/71 [==============================] - 21s 292ms/step - loss: 5.6553 - accuracy: 0.6092\n",
      "Epoch 904/1600\n",
      "71/71 [==============================] - ETA: 0s - loss: 5.1189 - accuracy: 0.6201"
     ]
    },
    {
     "name": "stderr",
     "output_type": "stream",
     "text": [
      "2024-03-11 22:51 INFO End of Epoch 904 - Loss: 5.1189\n"
     ]
    },
    {
     "name": "stdout",
     "output_type": "stream",
     "text": [
      "71/71 [==============================] - 21s 292ms/step - loss: 5.1189 - accuracy: 0.6201\n",
      "Epoch 905/1600\n",
      "71/71 [==============================] - ETA: 0s - loss: 4.1840 - accuracy: 0.6046"
     ]
    },
    {
     "name": "stderr",
     "output_type": "stream",
     "text": [
      "2024-03-11 22:51 INFO End of Epoch 905 - Loss: 4.1840\n"
     ]
    },
    {
     "name": "stdout",
     "output_type": "stream",
     "text": [
      "71/71 [==============================] - 21s 291ms/step - loss: 4.1840 - accuracy: 0.6046\n",
      "Epoch 906/1600\n",
      "71/71 [==============================] - ETA: 0s - loss: 3.6429 - accuracy: 0.6198"
     ]
    },
    {
     "name": "stderr",
     "output_type": "stream",
     "text": [
      "2024-03-11 22:51 INFO End of Epoch 906 - Loss: 3.6429\n"
     ]
    },
    {
     "name": "stdout",
     "output_type": "stream",
     "text": [
      "71/71 [==============================] - 21s 292ms/step - loss: 3.6429 - accuracy: 0.6198\n",
      "Epoch 907/1600\n",
      "71/71 [==============================] - ETA: 0s - loss: 4.5773 - accuracy: 0.6246"
     ]
    },
    {
     "name": "stderr",
     "output_type": "stream",
     "text": [
      "2024-03-11 22:52 INFO End of Epoch 907 - Loss: 4.5773\n"
     ]
    },
    {
     "name": "stdout",
     "output_type": "stream",
     "text": [
      "71/71 [==============================] - 21s 292ms/step - loss: 4.5773 - accuracy: 0.6246\n",
      "Epoch 908/1600\n",
      "71/71 [==============================] - ETA: 0s - loss: 4.6200 - accuracy: 0.6292"
     ]
    },
    {
     "name": "stderr",
     "output_type": "stream",
     "text": [
      "2024-03-11 22:52 INFO End of Epoch 908 - Loss: 4.6200\n"
     ]
    },
    {
     "name": "stdout",
     "output_type": "stream",
     "text": [
      "71/71 [==============================] - 21s 294ms/step - loss: 4.6200 - accuracy: 0.6292\n",
      "Epoch 909/1600\n",
      "71/71 [==============================] - ETA: 0s - loss: 3.8217 - accuracy: 0.6303"
     ]
    },
    {
     "name": "stderr",
     "output_type": "stream",
     "text": [
      "2024-03-11 22:53 INFO End of Epoch 909 - Loss: 3.8217\n"
     ]
    },
    {
     "name": "stdout",
     "output_type": "stream",
     "text": [
      "71/71 [==============================] - 21s 293ms/step - loss: 3.8217 - accuracy: 0.6303\n",
      "Epoch 910/1600\n",
      "71/71 [==============================] - ETA: 0s - loss: 4.1833 - accuracy: 0.6210"
     ]
    },
    {
     "name": "stderr",
     "output_type": "stream",
     "text": [
      "2024-03-11 22:53 INFO End of Epoch 910 - Loss: 4.1833\n"
     ]
    },
    {
     "name": "stdout",
     "output_type": "stream",
     "text": [
      "71/71 [==============================] - 21s 293ms/step - loss: 4.1833 - accuracy: 0.6210\n",
      "Epoch 911/1600\n",
      "71/71 [==============================] - ETA: 0s - loss: 4.7215 - accuracy: 0.6198"
     ]
    },
    {
     "name": "stderr",
     "output_type": "stream",
     "text": [
      "2024-03-11 22:54 INFO End of Epoch 911 - Loss: 4.7215\n"
     ]
    },
    {
     "name": "stdout",
     "output_type": "stream",
     "text": [
      "71/71 [==============================] - 21s 293ms/step - loss: 4.7215 - accuracy: 0.6198\n",
      "Epoch 912/1600\n",
      "71/71 [==============================] - ETA: 0s - loss: 5.3016 - accuracy: 0.6202"
     ]
    },
    {
     "name": "stderr",
     "output_type": "stream",
     "text": [
      "2024-03-11 22:54 INFO End of Epoch 912 - Loss: 5.3016\n"
     ]
    },
    {
     "name": "stdout",
     "output_type": "stream",
     "text": [
      "71/71 [==============================] - 21s 291ms/step - loss: 5.3016 - accuracy: 0.6202\n",
      "Epoch 913/1600\n",
      "71/71 [==============================] - ETA: 0s - loss: 5.0668 - accuracy: 0.5772"
     ]
    },
    {
     "name": "stderr",
     "output_type": "stream",
     "text": [
      "2024-03-11 22:55 INFO End of Epoch 913 - Loss: 5.0668\n"
     ]
    },
    {
     "name": "stdout",
     "output_type": "stream",
     "text": [
      "71/71 [==============================] - 21s 294ms/step - loss: 5.0668 - accuracy: 0.5772\n",
      "Epoch 914/1600\n",
      "71/71 [==============================] - ETA: 0s - loss: 5.6588 - accuracy: 0.5899"
     ]
    },
    {
     "name": "stderr",
     "output_type": "stream",
     "text": [
      "2024-03-11 22:55 INFO End of Epoch 914 - Loss: 5.6588\n"
     ]
    },
    {
     "name": "stdout",
     "output_type": "stream",
     "text": [
      "71/71 [==============================] - 21s 292ms/step - loss: 5.6588 - accuracy: 0.5899\n",
      "Epoch 915/1600\n",
      "71/71 [==============================] - ETA: 0s - loss: 5.3097 - accuracy: 0.5706"
     ]
    },
    {
     "name": "stderr",
     "output_type": "stream",
     "text": [
      "2024-03-11 22:55 INFO End of Epoch 915 - Loss: 5.3097\n"
     ]
    },
    {
     "name": "stdout",
     "output_type": "stream",
     "text": [
      "71/71 [==============================] - 21s 293ms/step - loss: 5.3097 - accuracy: 0.5706\n",
      "Epoch 916/1600\n",
      "71/71 [==============================] - ETA: 0s - loss: 8.0636 - accuracy: 0.5789"
     ]
    },
    {
     "name": "stderr",
     "output_type": "stream",
     "text": [
      "2024-03-11 22:56 INFO End of Epoch 916 - Loss: 8.0636\n"
     ]
    },
    {
     "name": "stdout",
     "output_type": "stream",
     "text": [
      "71/71 [==============================] - 21s 293ms/step - loss: 8.0636 - accuracy: 0.5789\n",
      "Epoch 917/1600\n",
      "71/71 [==============================] - ETA: 0s - loss: 8.7273 - accuracy: 0.5806"
     ]
    },
    {
     "name": "stderr",
     "output_type": "stream",
     "text": [
      "2024-03-11 22:56 INFO End of Epoch 917 - Loss: 8.7273\n"
     ]
    },
    {
     "name": "stdout",
     "output_type": "stream",
     "text": [
      "71/71 [==============================] - 21s 293ms/step - loss: 8.7273 - accuracy: 0.5806\n",
      "Epoch 918/1600\n",
      "71/71 [==============================] - ETA: 0s - loss: 8.7224 - accuracy: 0.5639"
     ]
    },
    {
     "name": "stderr",
     "output_type": "stream",
     "text": [
      "2024-03-11 22:57 INFO End of Epoch 918 - Loss: 8.7224\n"
     ]
    },
    {
     "name": "stdout",
     "output_type": "stream",
     "text": [
      "71/71 [==============================] - 21s 292ms/step - loss: 8.7224 - accuracy: 0.5639\n",
      "Epoch 919/1600\n",
      "71/71 [==============================] - ETA: 0s - loss: 5.4249 - accuracy: 0.5669"
     ]
    },
    {
     "name": "stderr",
     "output_type": "stream",
     "text": [
      "2024-03-11 22:57 INFO End of Epoch 919 - Loss: 5.4249\n"
     ]
    },
    {
     "name": "stdout",
     "output_type": "stream",
     "text": [
      "71/71 [==============================] - 21s 294ms/step - loss: 5.4249 - accuracy: 0.5669\n",
      "Epoch 920/1600\n",
      "71/71 [==============================] - ETA: 0s - loss: 3.2621 - accuracy: 0.5733"
     ]
    },
    {
     "name": "stderr",
     "output_type": "stream",
     "text": [
      "2024-03-11 22:58 INFO End of Epoch 920 - Loss: 3.2621\n"
     ]
    },
    {
     "name": "stdout",
     "output_type": "stream",
     "text": [
      "71/71 [==============================] - 21s 291ms/step - loss: 3.2621 - accuracy: 0.5733\n",
      "Epoch 921/1600\n",
      "71/71 [==============================] - ETA: 0s - loss: 2.8859 - accuracy: 0.5791"
     ]
    },
    {
     "name": "stderr",
     "output_type": "stream",
     "text": [
      "2024-03-11 22:58 INFO End of Epoch 921 - Loss: 2.8859\n"
     ]
    },
    {
     "name": "stdout",
     "output_type": "stream",
     "text": [
      "71/71 [==============================] - 21s 294ms/step - loss: 2.8859 - accuracy: 0.5791\n",
      "Epoch 922/1600\n",
      "71/71 [==============================] - ETA: 0s - loss: 5.4603 - accuracy: 0.5821"
     ]
    },
    {
     "name": "stderr",
     "output_type": "stream",
     "text": [
      "2024-03-11 22:59 INFO End of Epoch 922 - Loss: 5.4603\n"
     ]
    },
    {
     "name": "stdout",
     "output_type": "stream",
     "text": [
      "71/71 [==============================] - 21s 293ms/step - loss: 5.4603 - accuracy: 0.5821\n",
      "Epoch 923/1600\n",
      "71/71 [==============================] - ETA: 0s - loss: 7.3825 - accuracy: 0.5662"
     ]
    },
    {
     "name": "stderr",
     "output_type": "stream",
     "text": [
      "2024-03-11 22:59 INFO End of Epoch 923 - Loss: 7.3825\n"
     ]
    },
    {
     "name": "stdout",
     "output_type": "stream",
     "text": [
      "71/71 [==============================] - 21s 294ms/step - loss: 7.3825 - accuracy: 0.5662\n",
      "Epoch 924/1600\n",
      "71/71 [==============================] - ETA: 0s - loss: 5.3096 - accuracy: 0.5620"
     ]
    },
    {
     "name": "stderr",
     "output_type": "stream",
     "text": [
      "2024-03-11 23:00 INFO End of Epoch 924 - Loss: 5.3096\n"
     ]
    },
    {
     "name": "stdout",
     "output_type": "stream",
     "text": [
      "71/71 [==============================] - 21s 292ms/step - loss: 5.3096 - accuracy: 0.5620\n",
      "Epoch 925/1600\n",
      "71/71 [==============================] - ETA: 0s - loss: 2.9083 - accuracy: 0.5785"
     ]
    },
    {
     "name": "stderr",
     "output_type": "stream",
     "text": [
      "2024-03-11 23:00 INFO End of Epoch 925 - Loss: 2.9083\n"
     ]
    },
    {
     "name": "stdout",
     "output_type": "stream",
     "text": [
      "71/71 [==============================] - 21s 292ms/step - loss: 2.9083 - accuracy: 0.5785\n",
      "Epoch 926/1600\n",
      "71/71 [==============================] - ETA: 0s - loss: 2.3080 - accuracy: 0.5723"
     ]
    },
    {
     "name": "stderr",
     "output_type": "stream",
     "text": [
      "2024-03-11 23:00 INFO End of Epoch 926 - Loss: 2.3080\n"
     ]
    },
    {
     "name": "stdout",
     "output_type": "stream",
     "text": [
      "71/71 [==============================] - 21s 294ms/step - loss: 2.3080 - accuracy: 0.5723\n",
      "Epoch 927/1600\n",
      "71/71 [==============================] - ETA: 0s - loss: 3.5871 - accuracy: 0.5765"
     ]
    },
    {
     "name": "stderr",
     "output_type": "stream",
     "text": [
      "2024-03-11 23:01 INFO End of Epoch 927 - Loss: 3.5871\n"
     ]
    },
    {
     "name": "stdout",
     "output_type": "stream",
     "text": [
      "71/71 [==============================] - 21s 293ms/step - loss: 3.5871 - accuracy: 0.5765\n",
      "Epoch 928/1600\n",
      "71/71 [==============================] - ETA: 0s - loss: 3.2014 - accuracy: 0.5679"
     ]
    },
    {
     "name": "stderr",
     "output_type": "stream",
     "text": [
      "2024-03-11 23:01 INFO End of Epoch 928 - Loss: 3.2014\n"
     ]
    },
    {
     "name": "stdout",
     "output_type": "stream",
     "text": [
      "71/71 [==============================] - 21s 292ms/step - loss: 3.2014 - accuracy: 0.5679\n",
      "Epoch 929/1600\n",
      "71/71 [==============================] - ETA: 0s - loss: 2.4564 - accuracy: 0.5860"
     ]
    },
    {
     "name": "stderr",
     "output_type": "stream",
     "text": [
      "2024-03-11 23:02 INFO End of Epoch 929 - Loss: 2.4564\n"
     ]
    },
    {
     "name": "stdout",
     "output_type": "stream",
     "text": [
      "71/71 [==============================] - 21s 292ms/step - loss: 2.4564 - accuracy: 0.5860\n",
      "Epoch 930/1600\n",
      "71/71 [==============================] - ETA: 0s - loss: 3.1548 - accuracy: 0.5798"
     ]
    },
    {
     "name": "stderr",
     "output_type": "stream",
     "text": [
      "2024-03-11 23:02 INFO End of Epoch 930 - Loss: 3.1548\n"
     ]
    },
    {
     "name": "stdout",
     "output_type": "stream",
     "text": [
      "71/71 [==============================] - 21s 292ms/step - loss: 3.1548 - accuracy: 0.5798\n",
      "Epoch 931/1600\n",
      "71/71 [==============================] - ETA: 0s - loss: 4.3443 - accuracy: 0.5734"
     ]
    },
    {
     "name": "stderr",
     "output_type": "stream",
     "text": [
      "2024-03-11 23:03 INFO End of Epoch 931 - Loss: 4.3443\n"
     ]
    },
    {
     "name": "stdout",
     "output_type": "stream",
     "text": [
      "71/71 [==============================] - 21s 293ms/step - loss: 4.3443 - accuracy: 0.5734\n",
      "Epoch 932/1600\n",
      "71/71 [==============================] - ETA: 0s - loss: 4.3286 - accuracy: 0.5850"
     ]
    },
    {
     "name": "stderr",
     "output_type": "stream",
     "text": [
      "2024-03-11 23:03 INFO End of Epoch 932 - Loss: 4.3286\n"
     ]
    },
    {
     "name": "stdout",
     "output_type": "stream",
     "text": [
      "71/71 [==============================] - 21s 294ms/step - loss: 4.3286 - accuracy: 0.5850\n",
      "Epoch 933/1600\n",
      "71/71 [==============================] - ETA: 0s - loss: 5.1649 - accuracy: 0.5822"
     ]
    },
    {
     "name": "stderr",
     "output_type": "stream",
     "text": [
      "2024-03-11 23:04 INFO End of Epoch 933 - Loss: 5.1649\n"
     ]
    },
    {
     "name": "stdout",
     "output_type": "stream",
     "text": [
      "71/71 [==============================] - 21s 293ms/step - loss: 5.1649 - accuracy: 0.5822\n",
      "Epoch 934/1600\n",
      "71/71 [==============================] - ETA: 0s - loss: 5.9144 - accuracy: 0.5714"
     ]
    },
    {
     "name": "stderr",
     "output_type": "stream",
     "text": [
      "2024-03-11 23:04 INFO End of Epoch 934 - Loss: 5.9144\n"
     ]
    },
    {
     "name": "stdout",
     "output_type": "stream",
     "text": [
      "71/71 [==============================] - 21s 292ms/step - loss: 5.9144 - accuracy: 0.5714\n",
      "Epoch 935/1600\n",
      "71/71 [==============================] - ETA: 0s - loss: 5.1752 - accuracy: 0.5884"
     ]
    },
    {
     "name": "stderr",
     "output_type": "stream",
     "text": [
      "2024-03-11 23:04 INFO End of Epoch 935 - Loss: 5.1752\n"
     ]
    },
    {
     "name": "stdout",
     "output_type": "stream",
     "text": [
      "71/71 [==============================] - 21s 292ms/step - loss: 5.1752 - accuracy: 0.5884\n",
      "Epoch 936/1600\n",
      "71/71 [==============================] - ETA: 0s - loss: 7.8616 - accuracy: 0.5723"
     ]
    },
    {
     "name": "stderr",
     "output_type": "stream",
     "text": [
      "2024-03-11 23:05 INFO End of Epoch 936 - Loss: 7.8616\n"
     ]
    },
    {
     "name": "stdout",
     "output_type": "stream",
     "text": [
      "71/71 [==============================] - 21s 294ms/step - loss: 7.8616 - accuracy: 0.5723\n",
      "Epoch 937/1600\n",
      "71/71 [==============================] - ETA: 0s - loss: 8.0193 - accuracy: 0.5752"
     ]
    },
    {
     "name": "stderr",
     "output_type": "stream",
     "text": [
      "2024-03-11 23:05 INFO End of Epoch 937 - Loss: 8.0193\n"
     ]
    },
    {
     "name": "stdout",
     "output_type": "stream",
     "text": [
      "71/71 [==============================] - 21s 292ms/step - loss: 8.0193 - accuracy: 0.5752\n",
      "Epoch 938/1600\n",
      "71/71 [==============================] - ETA: 0s - loss: 5.6869 - accuracy: 0.5733"
     ]
    },
    {
     "name": "stderr",
     "output_type": "stream",
     "text": [
      "2024-03-11 23:06 INFO End of Epoch 938 - Loss: 5.6869\n"
     ]
    },
    {
     "name": "stdout",
     "output_type": "stream",
     "text": [
      "71/71 [==============================] - 21s 293ms/step - loss: 5.6869 - accuracy: 0.5733\n",
      "Epoch 939/1600\n",
      "71/71 [==============================] - ETA: 0s - loss: 3.5400 - accuracy: 0.5798"
     ]
    },
    {
     "name": "stderr",
     "output_type": "stream",
     "text": [
      "2024-03-11 23:06 INFO End of Epoch 939 - Loss: 3.5400\n"
     ]
    },
    {
     "name": "stdout",
     "output_type": "stream",
     "text": [
      "71/71 [==============================] - 21s 292ms/step - loss: 3.5400 - accuracy: 0.5798\n",
      "Epoch 940/1600\n",
      "71/71 [==============================] - ETA: 0s - loss: 2.3840 - accuracy: 0.5970"
     ]
    },
    {
     "name": "stderr",
     "output_type": "stream",
     "text": [
      "2024-03-11 23:07 INFO End of Epoch 940 - Loss: 2.3840\n"
     ]
    },
    {
     "name": "stdout",
     "output_type": "stream",
     "text": [
      "71/71 [==============================] - 21s 293ms/step - loss: 2.3840 - accuracy: 0.5970\n",
      "Epoch 941/1600\n",
      "71/71 [==============================] - ETA: 0s - loss: 2.5183 - accuracy: 0.5916"
     ]
    },
    {
     "name": "stderr",
     "output_type": "stream",
     "text": [
      "2024-03-11 23:07 INFO End of Epoch 941 - Loss: 2.5183\n"
     ]
    },
    {
     "name": "stdout",
     "output_type": "stream",
     "text": [
      "71/71 [==============================] - 21s 294ms/step - loss: 2.5183 - accuracy: 0.5916\n",
      "Epoch 942/1600\n",
      "71/71 [==============================] - ETA: 0s - loss: 3.1535 - accuracy: 0.5830"
     ]
    },
    {
     "name": "stderr",
     "output_type": "stream",
     "text": [
      "2024-03-11 23:08 INFO End of Epoch 942 - Loss: 3.1535\n"
     ]
    },
    {
     "name": "stdout",
     "output_type": "stream",
     "text": [
      "71/71 [==============================] - 21s 291ms/step - loss: 3.1535 - accuracy: 0.5830\n",
      "Epoch 943/1600\n",
      "71/71 [==============================] - ETA: 0s - loss: 4.0275 - accuracy: 0.5781"
     ]
    },
    {
     "name": "stderr",
     "output_type": "stream",
     "text": [
      "2024-03-11 23:08 INFO End of Epoch 943 - Loss: 4.0275\n"
     ]
    },
    {
     "name": "stdout",
     "output_type": "stream",
     "text": [
      "71/71 [==============================] - 21s 292ms/step - loss: 4.0275 - accuracy: 0.5781\n",
      "Epoch 944/1600\n",
      "71/71 [==============================] - ETA: 0s - loss: 3.9643 - accuracy: 0.6090"
     ]
    },
    {
     "name": "stderr",
     "output_type": "stream",
     "text": [
      "2024-03-11 23:08 INFO End of Epoch 944 - Loss: 3.9643\n"
     ]
    },
    {
     "name": "stdout",
     "output_type": "stream",
     "text": [
      "71/71 [==============================] - 21s 293ms/step - loss: 3.9643 - accuracy: 0.6090\n",
      "Epoch 945/1600\n",
      "71/71 [==============================] - ETA: 0s - loss: 5.2245 - accuracy: 0.5813"
     ]
    },
    {
     "name": "stderr",
     "output_type": "stream",
     "text": [
      "2024-03-11 23:09 INFO End of Epoch 945 - Loss: 5.2245\n"
     ]
    },
    {
     "name": "stdout",
     "output_type": "stream",
     "text": [
      "71/71 [==============================] - 21s 293ms/step - loss: 5.2245 - accuracy: 0.5813\n",
      "Epoch 946/1600\n",
      "71/71 [==============================] - ETA: 0s - loss: 4.7490 - accuracy: 0.6082"
     ]
    },
    {
     "name": "stderr",
     "output_type": "stream",
     "text": [
      "2024-03-11 23:09 INFO End of Epoch 946 - Loss: 4.7490\n"
     ]
    },
    {
     "name": "stdout",
     "output_type": "stream",
     "text": [
      "71/71 [==============================] - 21s 290ms/step - loss: 4.7490 - accuracy: 0.6082\n",
      "Epoch 947/1600\n",
      "71/71 [==============================] - ETA: 0s - loss: 4.0458 - accuracy: 0.5970"
     ]
    },
    {
     "name": "stderr",
     "output_type": "stream",
     "text": [
      "2024-03-11 23:10 INFO End of Epoch 947 - Loss: 4.0458\n"
     ]
    },
    {
     "name": "stdout",
     "output_type": "stream",
     "text": [
      "71/71 [==============================] - 21s 293ms/step - loss: 4.0458 - accuracy: 0.5970\n",
      "Epoch 948/1600\n",
      "71/71 [==============================] - ETA: 0s - loss: 4.0891 - accuracy: 0.6096"
     ]
    },
    {
     "name": "stderr",
     "output_type": "stream",
     "text": [
      "2024-03-11 23:10 INFO End of Epoch 948 - Loss: 4.0891\n"
     ]
    },
    {
     "name": "stdout",
     "output_type": "stream",
     "text": [
      "71/71 [==============================] - 21s 291ms/step - loss: 4.0891 - accuracy: 0.6096\n",
      "Epoch 949/1600\n",
      "71/71 [==============================] - ETA: 0s - loss: 3.3929 - accuracy: 0.6022"
     ]
    },
    {
     "name": "stderr",
     "output_type": "stream",
     "text": [
      "2024-03-11 23:11 INFO End of Epoch 949 - Loss: 3.3929\n"
     ]
    },
    {
     "name": "stdout",
     "output_type": "stream",
     "text": [
      "71/71 [==============================] - 21s 293ms/step - loss: 3.3929 - accuracy: 0.6022\n",
      "Epoch 950/1600\n",
      "71/71 [==============================] - ETA: 0s - loss: 3.0291 - accuracy: 0.6217"
     ]
    },
    {
     "name": "stderr",
     "output_type": "stream",
     "text": [
      "2024-03-11 23:11 INFO End of Epoch 950 - Loss: 3.0291\n"
     ]
    },
    {
     "name": "stdout",
     "output_type": "stream",
     "text": [
      "71/71 [==============================] - 21s 292ms/step - loss: 3.0291 - accuracy: 0.6217\n",
      "Epoch 951/1600\n",
      "71/71 [==============================] - ETA: 0s - loss: 6.8719 - accuracy: 0.5940"
     ]
    },
    {
     "name": "stderr",
     "output_type": "stream",
     "text": [
      "2024-03-11 23:12 INFO End of Epoch 951 - Loss: 6.8719\n"
     ]
    },
    {
     "name": "stdout",
     "output_type": "stream",
     "text": [
      "71/71 [==============================] - 21s 292ms/step - loss: 6.8719 - accuracy: 0.5940\n",
      "Epoch 952/1600\n",
      "71/71 [==============================] - ETA: 0s - loss: 7.4222 - accuracy: 0.6127"
     ]
    },
    {
     "name": "stderr",
     "output_type": "stream",
     "text": [
      "2024-03-11 23:12 INFO End of Epoch 952 - Loss: 7.4222\n"
     ]
    },
    {
     "name": "stdout",
     "output_type": "stream",
     "text": [
      "71/71 [==============================] - 21s 291ms/step - loss: 7.4222 - accuracy: 0.6127\n",
      "Epoch 953/1600\n",
      "71/71 [==============================] - ETA: 0s - loss: 11.5644 - accuracy: 0.5821"
     ]
    },
    {
     "name": "stderr",
     "output_type": "stream",
     "text": [
      "2024-03-11 23:12 INFO End of Epoch 953 - Loss: 11.5644\n"
     ]
    },
    {
     "name": "stdout",
     "output_type": "stream",
     "text": [
      "71/71 [==============================] - 21s 291ms/step - loss: 11.5644 - accuracy: 0.5821\n",
      "Epoch 954/1600\n",
      "71/71 [==============================] - ETA: 0s - loss: 9.2463 - accuracy: 0.5911"
     ]
    },
    {
     "name": "stderr",
     "output_type": "stream",
     "text": [
      "2024-03-11 23:13 INFO End of Epoch 954 - Loss: 9.2463\n"
     ]
    },
    {
     "name": "stdout",
     "output_type": "stream",
     "text": [
      "71/71 [==============================] - 21s 293ms/step - loss: 9.2463 - accuracy: 0.5911\n",
      "Epoch 955/1600\n",
      "71/71 [==============================] - ETA: 0s - loss: 6.5369 - accuracy: 0.5884"
     ]
    },
    {
     "name": "stderr",
     "output_type": "stream",
     "text": [
      "2024-03-11 23:13 INFO End of Epoch 955 - Loss: 6.5369\n"
     ]
    },
    {
     "name": "stdout",
     "output_type": "stream",
     "text": [
      "71/71 [==============================] - 21s 290ms/step - loss: 6.5369 - accuracy: 0.5884\n",
      "Epoch 956/1600\n",
      "71/71 [==============================] - ETA: 0s - loss: 4.0540 - accuracy: 0.6187"
     ]
    },
    {
     "name": "stderr",
     "output_type": "stream",
     "text": [
      "2024-03-11 23:14 INFO End of Epoch 956 - Loss: 4.0540\n"
     ]
    },
    {
     "name": "stdout",
     "output_type": "stream",
     "text": [
      "71/71 [==============================] - 21s 294ms/step - loss: 4.0540 - accuracy: 0.6187\n",
      "Epoch 957/1600\n",
      "71/71 [==============================] - ETA: 0s - loss: 4.5184 - accuracy: 0.6036"
     ]
    },
    {
     "name": "stderr",
     "output_type": "stream",
     "text": [
      "2024-03-11 23:14 INFO End of Epoch 957 - Loss: 4.5184\n"
     ]
    },
    {
     "name": "stdout",
     "output_type": "stream",
     "text": [
      "71/71 [==============================] - 21s 292ms/step - loss: 4.5184 - accuracy: 0.6036\n",
      "Epoch 958/1600\n",
      "71/71 [==============================] - ETA: 0s - loss: 5.2348 - accuracy: 0.6109"
     ]
    },
    {
     "name": "stderr",
     "output_type": "stream",
     "text": [
      "2024-03-11 23:15 INFO End of Epoch 958 - Loss: 5.2348\n"
     ]
    },
    {
     "name": "stdout",
     "output_type": "stream",
     "text": [
      "71/71 [==============================] - 21s 293ms/step - loss: 5.2348 - accuracy: 0.6109\n",
      "Epoch 959/1600\n",
      "71/71 [==============================] - ETA: 0s - loss: 5.4774 - accuracy: 0.6123"
     ]
    },
    {
     "name": "stderr",
     "output_type": "stream",
     "text": [
      "2024-03-11 23:15 INFO End of Epoch 959 - Loss: 5.4774\n"
     ]
    },
    {
     "name": "stdout",
     "output_type": "stream",
     "text": [
      "71/71 [==============================] - 21s 292ms/step - loss: 5.4774 - accuracy: 0.6123\n",
      "Epoch 960/1600\n",
      "71/71 [==============================] - ETA: 0s - loss: 3.9275 - accuracy: 0.6038"
     ]
    },
    {
     "name": "stderr",
     "output_type": "stream",
     "text": [
      "2024-03-11 23:16 INFO End of Epoch 960 - Loss: 3.9275\n"
     ]
    },
    {
     "name": "stdout",
     "output_type": "stream",
     "text": [
      "71/71 [==============================] - 21s 292ms/step - loss: 3.9275 - accuracy: 0.6038\n",
      "Epoch 961/1600\n",
      "71/71 [==============================] - ETA: 0s - loss: 2.3705 - accuracy: 0.6195"
     ]
    },
    {
     "name": "stderr",
     "output_type": "stream",
     "text": [
      "2024-03-11 23:16 INFO End of Epoch 961 - Loss: 2.3705\n"
     ]
    },
    {
     "name": "stdout",
     "output_type": "stream",
     "text": [
      "71/71 [==============================] - 21s 292ms/step - loss: 2.3705 - accuracy: 0.6195\n",
      "Epoch 962/1600\n",
      "71/71 [==============================] - ETA: 0s - loss: 2.1201 - accuracy: 0.6234"
     ]
    },
    {
     "name": "stderr",
     "output_type": "stream",
     "text": [
      "2024-03-11 23:16 INFO End of Epoch 962 - Loss: 2.1201\n"
     ]
    },
    {
     "name": "stdout",
     "output_type": "stream",
     "text": [
      "71/71 [==============================] - 21s 291ms/step - loss: 2.1201 - accuracy: 0.6234\n",
      "Epoch 963/1600\n",
      "71/71 [==============================] - ETA: 0s - loss: 2.1302 - accuracy: 0.6330"
     ]
    },
    {
     "name": "stderr",
     "output_type": "stream",
     "text": [
      "2024-03-11 23:17 INFO End of Epoch 963 - Loss: 2.1302\n"
     ]
    },
    {
     "name": "stdout",
     "output_type": "stream",
     "text": [
      "71/71 [==============================] - 21s 292ms/step - loss: 2.1302 - accuracy: 0.6330\n",
      "Epoch 964/1600\n",
      "71/71 [==============================] - ETA: 0s - loss: 2.5190 - accuracy: 0.6378"
     ]
    },
    {
     "name": "stderr",
     "output_type": "stream",
     "text": [
      "2024-03-11 23:17 INFO End of Epoch 964 - Loss: 2.5190\n"
     ]
    },
    {
     "name": "stdout",
     "output_type": "stream",
     "text": [
      "71/71 [==============================] - 21s 292ms/step - loss: 2.5190 - accuracy: 0.6378\n",
      "Epoch 965/1600\n",
      "71/71 [==============================] - ETA: 0s - loss: 3.7235 - accuracy: 0.6062"
     ]
    },
    {
     "name": "stderr",
     "output_type": "stream",
     "text": [
      "2024-03-11 23:18 INFO End of Epoch 965 - Loss: 3.7235\n"
     ]
    },
    {
     "name": "stdout",
     "output_type": "stream",
     "text": [
      "71/71 [==============================] - 21s 292ms/step - loss: 3.7235 - accuracy: 0.6062\n",
      "Epoch 966/1600\n",
      "71/71 [==============================] - ETA: 0s - loss: 3.2914 - accuracy: 0.6221"
     ]
    },
    {
     "name": "stderr",
     "output_type": "stream",
     "text": [
      "2024-03-11 23:18 INFO End of Epoch 966 - Loss: 3.2914\n"
     ]
    },
    {
     "name": "stdout",
     "output_type": "stream",
     "text": [
      "71/71 [==============================] - 21s 292ms/step - loss: 3.2914 - accuracy: 0.6221\n",
      "Epoch 967/1600\n",
      "71/71 [==============================] - ETA: 0s - loss: 3.1614 - accuracy: 0.6200"
     ]
    },
    {
     "name": "stderr",
     "output_type": "stream",
     "text": [
      "2024-03-11 23:19 INFO End of Epoch 967 - Loss: 3.1614\n"
     ]
    },
    {
     "name": "stdout",
     "output_type": "stream",
     "text": [
      "71/71 [==============================] - 21s 294ms/step - loss: 3.1614 - accuracy: 0.6200\n",
      "Epoch 968/1600\n",
      "71/71 [==============================] - ETA: 0s - loss: 3.3577 - accuracy: 0.6329"
     ]
    },
    {
     "name": "stderr",
     "output_type": "stream",
     "text": [
      "2024-03-11 23:19 INFO End of Epoch 968 - Loss: 3.3577\n"
     ]
    },
    {
     "name": "stdout",
     "output_type": "stream",
     "text": [
      "71/71 [==============================] - 21s 292ms/step - loss: 3.3577 - accuracy: 0.6329\n",
      "Epoch 969/1600\n",
      "71/71 [==============================] - ETA: 0s - loss: 4.3330 - accuracy: 0.6383"
     ]
    },
    {
     "name": "stderr",
     "output_type": "stream",
     "text": [
      "2024-03-11 23:20 INFO End of Epoch 969 - Loss: 4.3330\n"
     ]
    },
    {
     "name": "stdout",
     "output_type": "stream",
     "text": [
      "71/71 [==============================] - 21s 294ms/step - loss: 4.3330 - accuracy: 0.6383\n",
      "Epoch 970/1600\n",
      "71/71 [==============================] - ETA: 0s - loss: 6.5784 - accuracy: 0.6048"
     ]
    },
    {
     "name": "stderr",
     "output_type": "stream",
     "text": [
      "2024-03-11 23:20 INFO End of Epoch 970 - Loss: 6.5784\n"
     ]
    },
    {
     "name": "stdout",
     "output_type": "stream",
     "text": [
      "71/71 [==============================] - 21s 293ms/step - loss: 6.5784 - accuracy: 0.6048\n",
      "Epoch 971/1600\n",
      "71/71 [==============================] - ETA: 0s - loss: 7.9040 - accuracy: 0.6052"
     ]
    },
    {
     "name": "stderr",
     "output_type": "stream",
     "text": [
      "2024-03-11 23:20 INFO End of Epoch 971 - Loss: 7.9040\n"
     ]
    },
    {
     "name": "stdout",
     "output_type": "stream",
     "text": [
      "71/71 [==============================] - 21s 292ms/step - loss: 7.9040 - accuracy: 0.6052\n",
      "Epoch 972/1600\n",
      "71/71 [==============================] - ETA: 0s - loss: 7.2915 - accuracy: 0.6163"
     ]
    },
    {
     "name": "stderr",
     "output_type": "stream",
     "text": [
      "2024-03-11 23:21 INFO End of Epoch 972 - Loss: 7.2915\n"
     ]
    },
    {
     "name": "stdout",
     "output_type": "stream",
     "text": [
      "71/71 [==============================] - 21s 291ms/step - loss: 7.2915 - accuracy: 0.6163\n",
      "Epoch 973/1600\n",
      "71/71 [==============================] - ETA: 0s - loss: 6.4062 - accuracy: 0.6089"
     ]
    },
    {
     "name": "stderr",
     "output_type": "stream",
     "text": [
      "2024-03-11 23:21 INFO End of Epoch 973 - Loss: 6.4062\n"
     ]
    },
    {
     "name": "stdout",
     "output_type": "stream",
     "text": [
      "71/71 [==============================] - 21s 294ms/step - loss: 6.4062 - accuracy: 0.6089\n",
      "Epoch 974/1600\n",
      "71/71 [==============================] - ETA: 0s - loss: 8.4027 - accuracy: 0.5813"
     ]
    },
    {
     "name": "stderr",
     "output_type": "stream",
     "text": [
      "2024-03-11 23:22 INFO End of Epoch 974 - Loss: 8.4027\n"
     ]
    },
    {
     "name": "stdout",
     "output_type": "stream",
     "text": [
      "71/71 [==============================] - 21s 290ms/step - loss: 8.4027 - accuracy: 0.5813\n",
      "Epoch 975/1600\n",
      "71/71 [==============================] - ETA: 0s - loss: 8.2730 - accuracy: 0.5711"
     ]
    },
    {
     "name": "stderr",
     "output_type": "stream",
     "text": [
      "2024-03-11 23:22 INFO End of Epoch 975 - Loss: 8.2730\n"
     ]
    },
    {
     "name": "stdout",
     "output_type": "stream",
     "text": [
      "71/71 [==============================] - 21s 293ms/step - loss: 8.2730 - accuracy: 0.5711\n",
      "Epoch 976/1600\n",
      "71/71 [==============================] - ETA: 0s - loss: 6.3707 - accuracy: 0.5832"
     ]
    },
    {
     "name": "stderr",
     "output_type": "stream",
     "text": [
      "2024-03-11 23:23 INFO End of Epoch 976 - Loss: 6.3707\n"
     ]
    },
    {
     "name": "stdout",
     "output_type": "stream",
     "text": [
      "71/71 [==============================] - 21s 292ms/step - loss: 6.3707 - accuracy: 0.5832\n",
      "Epoch 977/1600\n",
      "71/71 [==============================] - ETA: 0s - loss: 3.6233 - accuracy: 0.6073"
     ]
    },
    {
     "name": "stderr",
     "output_type": "stream",
     "text": [
      "2024-03-11 23:23 INFO End of Epoch 977 - Loss: 3.6233\n"
     ]
    },
    {
     "name": "stdout",
     "output_type": "stream",
     "text": [
      "71/71 [==============================] - 21s 292ms/step - loss: 3.6233 - accuracy: 0.6073\n",
      "Epoch 978/1600\n",
      "71/71 [==============================] - ETA: 0s - loss: 2.7909 - accuracy: 0.6211"
     ]
    },
    {
     "name": "stderr",
     "output_type": "stream",
     "text": [
      "2024-03-11 23:24 INFO End of Epoch 978 - Loss: 2.7909\n"
     ]
    },
    {
     "name": "stdout",
     "output_type": "stream",
     "text": [
      "71/71 [==============================] - 20s 288ms/step - loss: 2.7909 - accuracy: 0.6211\n",
      "Epoch 979/1600\n",
      "71/71 [==============================] - ETA: 0s - loss: 2.5102 - accuracy: 0.6062"
     ]
    },
    {
     "name": "stderr",
     "output_type": "stream",
     "text": [
      "2024-03-11 23:24 INFO End of Epoch 979 - Loss: 2.5102\n"
     ]
    },
    {
     "name": "stdout",
     "output_type": "stream",
     "text": [
      "71/71 [==============================] - 21s 293ms/step - loss: 2.5102 - accuracy: 0.6062\n",
      "Epoch 980/1600\n",
      "71/71 [==============================] - ETA: 0s - loss: 2.4446 - accuracy: 0.6193"
     ]
    },
    {
     "name": "stderr",
     "output_type": "stream",
     "text": [
      "2024-03-11 23:24 INFO End of Epoch 980 - Loss: 2.4446\n"
     ]
    },
    {
     "name": "stdout",
     "output_type": "stream",
     "text": [
      "71/71 [==============================] - 21s 292ms/step - loss: 2.4446 - accuracy: 0.6193\n",
      "Epoch 981/1600\n",
      "71/71 [==============================] - ETA: 0s - loss: 2.4224 - accuracy: 0.6184"
     ]
    },
    {
     "name": "stderr",
     "output_type": "stream",
     "text": [
      "2024-03-11 23:25 INFO End of Epoch 981 - Loss: 2.4224\n"
     ]
    },
    {
     "name": "stdout",
     "output_type": "stream",
     "text": [
      "71/71 [==============================] - 21s 293ms/step - loss: 2.4224 - accuracy: 0.6184\n",
      "Epoch 982/1600\n",
      "71/71 [==============================] - ETA: 0s - loss: 2.4715 - accuracy: 0.6286"
     ]
    },
    {
     "name": "stderr",
     "output_type": "stream",
     "text": [
      "2024-03-11 23:25 INFO End of Epoch 982 - Loss: 2.4715\n"
     ]
    },
    {
     "name": "stdout",
     "output_type": "stream",
     "text": [
      "71/71 [==============================] - 21s 292ms/step - loss: 2.4715 - accuracy: 0.6286\n",
      "Epoch 983/1600\n",
      "71/71 [==============================] - ETA: 0s - loss: 2.7286 - accuracy: 0.6405"
     ]
    },
    {
     "name": "stderr",
     "output_type": "stream",
     "text": [
      "2024-03-11 23:26 INFO End of Epoch 983 - Loss: 2.7286\n"
     ]
    },
    {
     "name": "stdout",
     "output_type": "stream",
     "text": [
      "71/71 [==============================] - 21s 293ms/step - loss: 2.7286 - accuracy: 0.6405\n",
      "Epoch 984/1600\n",
      "71/71 [==============================] - ETA: 0s - loss: 3.2862 - accuracy: 0.6241"
     ]
    },
    {
     "name": "stderr",
     "output_type": "stream",
     "text": [
      "2024-03-11 23:26 INFO End of Epoch 984 - Loss: 3.2862\n"
     ]
    },
    {
     "name": "stdout",
     "output_type": "stream",
     "text": [
      "71/71 [==============================] - 21s 293ms/step - loss: 3.2862 - accuracy: 0.6241\n",
      "Epoch 985/1600\n",
      "71/71 [==============================] - ETA: 0s - loss: 4.5383 - accuracy: 0.5984"
     ]
    },
    {
     "name": "stderr",
     "output_type": "stream",
     "text": [
      "2024-03-11 23:27 INFO End of Epoch 985 - Loss: 4.5383\n"
     ]
    },
    {
     "name": "stdout",
     "output_type": "stream",
     "text": [
      "71/71 [==============================] - 21s 292ms/step - loss: 4.5383 - accuracy: 0.5984\n",
      "Epoch 986/1600\n",
      "71/71 [==============================] - ETA: 0s - loss: 4.3929 - accuracy: 0.6151"
     ]
    },
    {
     "name": "stderr",
     "output_type": "stream",
     "text": [
      "2024-03-11 23:27 INFO End of Epoch 986 - Loss: 4.3929\n"
     ]
    },
    {
     "name": "stdout",
     "output_type": "stream",
     "text": [
      "71/71 [==============================] - 21s 294ms/step - loss: 4.3929 - accuracy: 0.6151\n",
      "Epoch 987/1600\n",
      "71/71 [==============================] - ETA: 0s - loss: 7.7849 - accuracy: 0.5970"
     ]
    },
    {
     "name": "stderr",
     "output_type": "stream",
     "text": [
      "2024-03-11 23:28 INFO End of Epoch 987 - Loss: 7.7849\n"
     ]
    },
    {
     "name": "stdout",
     "output_type": "stream",
     "text": [
      "71/71 [==============================] - 21s 292ms/step - loss: 7.7849 - accuracy: 0.5970\n",
      "Epoch 988/1600\n",
      "71/71 [==============================] - ETA: 0s - loss: 9.2732 - accuracy: 0.6051"
     ]
    },
    {
     "name": "stderr",
     "output_type": "stream",
     "text": [
      "2024-03-11 23:28 INFO End of Epoch 988 - Loss: 9.2732\n"
     ]
    },
    {
     "name": "stdout",
     "output_type": "stream",
     "text": [
      "71/71 [==============================] - 21s 292ms/step - loss: 9.2732 - accuracy: 0.6051\n",
      "Epoch 989/1600\n",
      "71/71 [==============================] - ETA: 0s - loss: 7.9886 - accuracy: 0.6104"
     ]
    },
    {
     "name": "stderr",
     "output_type": "stream",
     "text": [
      "2024-03-11 23:28 INFO End of Epoch 989 - Loss: 7.9886\n"
     ]
    },
    {
     "name": "stdout",
     "output_type": "stream",
     "text": [
      "71/71 [==============================] - 21s 294ms/step - loss: 7.9886 - accuracy: 0.6104\n",
      "Epoch 990/1600\n",
      "71/71 [==============================] - ETA: 0s - loss: 6.5714 - accuracy: 0.6303"
     ]
    },
    {
     "name": "stderr",
     "output_type": "stream",
     "text": [
      "2024-03-11 23:29 INFO End of Epoch 990 - Loss: 6.5714\n"
     ]
    },
    {
     "name": "stdout",
     "output_type": "stream",
     "text": [
      "71/71 [==============================] - 21s 292ms/step - loss: 6.5714 - accuracy: 0.6303\n",
      "Epoch 991/1600\n",
      "71/71 [==============================] - ETA: 0s - loss: 5.6128 - accuracy: 0.6235"
     ]
    },
    {
     "name": "stderr",
     "output_type": "stream",
     "text": [
      "2024-03-11 23:29 INFO End of Epoch 991 - Loss: 5.6128\n"
     ]
    },
    {
     "name": "stdout",
     "output_type": "stream",
     "text": [
      "71/71 [==============================] - 21s 292ms/step - loss: 5.6128 - accuracy: 0.6235\n",
      "Epoch 992/1600\n",
      "71/71 [==============================] - ETA: 0s - loss: 4.9387 - accuracy: 0.6373"
     ]
    },
    {
     "name": "stderr",
     "output_type": "stream",
     "text": [
      "2024-03-11 23:30 INFO End of Epoch 992 - Loss: 4.9387\n"
     ]
    },
    {
     "name": "stdout",
     "output_type": "stream",
     "text": [
      "71/71 [==============================] - 21s 292ms/step - loss: 4.9387 - accuracy: 0.6373\n",
      "Epoch 993/1600\n",
      "71/71 [==============================] - ETA: 0s - loss: 4.9367 - accuracy: 0.6337"
     ]
    },
    {
     "name": "stderr",
     "output_type": "stream",
     "text": [
      "2024-03-11 23:30 INFO End of Epoch 993 - Loss: 4.9367\n"
     ]
    },
    {
     "name": "stdout",
     "output_type": "stream",
     "text": [
      "71/71 [==============================] - 21s 293ms/step - loss: 4.9367 - accuracy: 0.6337\n",
      "Epoch 994/1600\n",
      "71/71 [==============================] - ETA: 0s - loss: 4.5485 - accuracy: 0.6373"
     ]
    },
    {
     "name": "stderr",
     "output_type": "stream",
     "text": [
      "2024-03-11 23:31 INFO End of Epoch 994 - Loss: 4.5485\n"
     ]
    },
    {
     "name": "stdout",
     "output_type": "stream",
     "text": [
      "71/71 [==============================] - 21s 293ms/step - loss: 4.5485 - accuracy: 0.6373\n",
      "Epoch 995/1600\n",
      "71/71 [==============================] - ETA: 0s - loss: 3.9671 - accuracy: 0.6083"
     ]
    },
    {
     "name": "stderr",
     "output_type": "stream",
     "text": [
      "2024-03-11 23:31 INFO End of Epoch 995 - Loss: 3.9671\n"
     ]
    },
    {
     "name": "stdout",
     "output_type": "stream",
     "text": [
      "71/71 [==============================] - 21s 290ms/step - loss: 3.9671 - accuracy: 0.6083\n",
      "Epoch 996/1600\n",
      "71/71 [==============================] - ETA: 0s - loss: 3.7935 - accuracy: 0.6011"
     ]
    },
    {
     "name": "stderr",
     "output_type": "stream",
     "text": [
      "2024-03-11 23:32 INFO End of Epoch 996 - Loss: 3.7935\n"
     ]
    },
    {
     "name": "stdout",
     "output_type": "stream",
     "text": [
      "71/71 [==============================] - 21s 293ms/step - loss: 3.7935 - accuracy: 0.6011\n",
      "Epoch 997/1600\n",
      "71/71 [==============================] - ETA: 0s - loss: 3.1609 - accuracy: 0.6103"
     ]
    },
    {
     "name": "stderr",
     "output_type": "stream",
     "text": [
      "2024-03-11 23:32 INFO End of Epoch 997 - Loss: 3.1609\n"
     ]
    },
    {
     "name": "stdout",
     "output_type": "stream",
     "text": [
      "71/71 [==============================] - 21s 293ms/step - loss: 3.1609 - accuracy: 0.6103\n",
      "Epoch 998/1600\n",
      "71/71 [==============================] - ETA: 0s - loss: 4.1927 - accuracy: 0.6171"
     ]
    },
    {
     "name": "stderr",
     "output_type": "stream",
     "text": [
      "2024-03-11 23:32 INFO End of Epoch 998 - Loss: 4.1927\n"
     ]
    },
    {
     "name": "stdout",
     "output_type": "stream",
     "text": [
      "71/71 [==============================] - 21s 293ms/step - loss: 4.1927 - accuracy: 0.6171\n",
      "Epoch 999/1600\n",
      "71/71 [==============================] - ETA: 0s - loss: 4.0949 - accuracy: 0.6252"
     ]
    },
    {
     "name": "stderr",
     "output_type": "stream",
     "text": [
      "2024-03-11 23:33 INFO End of Epoch 999 - Loss: 4.0949\n"
     ]
    },
    {
     "name": "stdout",
     "output_type": "stream",
     "text": [
      "71/71 [==============================] - 21s 293ms/step - loss: 4.0949 - accuracy: 0.6252\n",
      "Epoch 1000/1600\n",
      "71/71 [==============================] - ETA: 0s - loss: 4.2830 - accuracy: 0.6300"
     ]
    },
    {
     "name": "stderr",
     "output_type": "stream",
     "text": [
      "2024-03-11 23:33 INFO End of Epoch 1000 - Loss: 4.2830\n"
     ]
    },
    {
     "name": "stdout",
     "output_type": "stream",
     "text": [
      "71/71 [==============================] - 21s 292ms/step - loss: 4.2830 - accuracy: 0.6300\n",
      "Epoch 1001/1600\n",
      "71/71 [==============================] - ETA: 0s - loss: 5.6902 - accuracy: 0.6244"
     ]
    },
    {
     "name": "stderr",
     "output_type": "stream",
     "text": [
      "2024-03-11 23:34 INFO End of Epoch 1001 - Loss: 5.6902\n"
     ]
    },
    {
     "name": "stdout",
     "output_type": "stream",
     "text": [
      "71/71 [==============================] - 21s 293ms/step - loss: 5.6902 - accuracy: 0.6244\n",
      "Epoch 1002/1600\n",
      "71/71 [==============================] - ETA: 0s - loss: 5.3376 - accuracy: 0.6273"
     ]
    },
    {
     "name": "stderr",
     "output_type": "stream",
     "text": [
      "2024-03-11 23:34 INFO End of Epoch 1002 - Loss: 5.3376\n"
     ]
    },
    {
     "name": "stdout",
     "output_type": "stream",
     "text": [
      "71/71 [==============================] - 21s 293ms/step - loss: 5.3376 - accuracy: 0.6273\n",
      "Epoch 1003/1600\n",
      "71/71 [==============================] - ETA: 0s - loss: 5.9279 - accuracy: 0.6119"
     ]
    },
    {
     "name": "stderr",
     "output_type": "stream",
     "text": [
      "2024-03-11 23:35 INFO End of Epoch 1003 - Loss: 5.9279\n"
     ]
    },
    {
     "name": "stdout",
     "output_type": "stream",
     "text": [
      "71/71 [==============================] - 21s 294ms/step - loss: 5.9279 - accuracy: 0.6119\n",
      "Epoch 1004/1600\n",
      "71/71 [==============================] - ETA: 0s - loss: 6.7492 - accuracy: 0.6347"
     ]
    },
    {
     "name": "stderr",
     "output_type": "stream",
     "text": [
      "2024-03-11 23:35 INFO End of Epoch 1004 - Loss: 6.7492\n"
     ]
    },
    {
     "name": "stdout",
     "output_type": "stream",
     "text": [
      "71/71 [==============================] - 21s 293ms/step - loss: 6.7492 - accuracy: 0.6347\n",
      "Epoch 1005/1600\n",
      "71/71 [==============================] - ETA: 0s - loss: 7.9315 - accuracy: 0.6252"
     ]
    },
    {
     "name": "stderr",
     "output_type": "stream",
     "text": [
      "2024-03-11 23:36 INFO End of Epoch 1005 - Loss: 7.9315\n"
     ]
    },
    {
     "name": "stdout",
     "output_type": "stream",
     "text": [
      "71/71 [==============================] - 21s 292ms/step - loss: 7.9315 - accuracy: 0.6252\n",
      "Epoch 1006/1600\n",
      "71/71 [==============================] - ETA: 0s - loss: 7.2475 - accuracy: 0.6198"
     ]
    },
    {
     "name": "stderr",
     "output_type": "stream",
     "text": [
      "2024-03-11 23:36 INFO End of Epoch 1006 - Loss: 7.2475\n"
     ]
    },
    {
     "name": "stdout",
     "output_type": "stream",
     "text": [
      "71/71 [==============================] - 21s 292ms/step - loss: 7.2475 - accuracy: 0.6198\n",
      "Epoch 1007/1600\n",
      "71/71 [==============================] - ETA: 0s - loss: 6.4073 - accuracy: 0.6086"
     ]
    },
    {
     "name": "stderr",
     "output_type": "stream",
     "text": [
      "2024-03-11 23:36 INFO End of Epoch 1007 - Loss: 6.4073\n"
     ]
    },
    {
     "name": "stdout",
     "output_type": "stream",
     "text": [
      "71/71 [==============================] - 21s 293ms/step - loss: 6.4073 - accuracy: 0.6086\n",
      "Epoch 1008/1600\n",
      "71/71 [==============================] - ETA: 0s - loss: 5.3721 - accuracy: 0.6342"
     ]
    },
    {
     "name": "stderr",
     "output_type": "stream",
     "text": [
      "2024-03-11 23:37 INFO End of Epoch 1008 - Loss: 5.3721\n"
     ]
    },
    {
     "name": "stdout",
     "output_type": "stream",
     "text": [
      "71/71 [==============================] - 21s 293ms/step - loss: 5.3721 - accuracy: 0.6342\n",
      "Epoch 1009/1600\n",
      "71/71 [==============================] - ETA: 0s - loss: 5.0354 - accuracy: 0.6506"
     ]
    },
    {
     "name": "stderr",
     "output_type": "stream",
     "text": [
      "2024-03-11 23:37 INFO End of Epoch 1009 - Loss: 5.0354\n"
     ]
    },
    {
     "name": "stdout",
     "output_type": "stream",
     "text": [
      "71/71 [==============================] - 21s 294ms/step - loss: 5.0354 - accuracy: 0.6506\n",
      "Epoch 1010/1600\n",
      "71/71 [==============================] - ETA: 0s - loss: 4.5411 - accuracy: 0.6404"
     ]
    },
    {
     "name": "stderr",
     "output_type": "stream",
     "text": [
      "2024-03-11 23:38 INFO End of Epoch 1010 - Loss: 4.5411\n"
     ]
    },
    {
     "name": "stdout",
     "output_type": "stream",
     "text": [
      "71/71 [==============================] - 21s 292ms/step - loss: 4.5411 - accuracy: 0.6404\n",
      "Epoch 1011/1600\n",
      "71/71 [==============================] - ETA: 0s - loss: 4.2309 - accuracy: 0.6512"
     ]
    },
    {
     "name": "stderr",
     "output_type": "stream",
     "text": [
      "2024-03-11 23:38 INFO End of Epoch 1011 - Loss: 4.2309\n"
     ]
    },
    {
     "name": "stdout",
     "output_type": "stream",
     "text": [
      "71/71 [==============================] - 21s 293ms/step - loss: 4.2309 - accuracy: 0.6512\n",
      "Epoch 1012/1600\n",
      "71/71 [==============================] - ETA: 0s - loss: 3.6126 - accuracy: 0.6586"
     ]
    },
    {
     "name": "stderr",
     "output_type": "stream",
     "text": [
      "2024-03-11 23:39 INFO End of Epoch 1012 - Loss: 3.6126\n"
     ]
    },
    {
     "name": "stdout",
     "output_type": "stream",
     "text": [
      "71/71 [==============================] - 21s 293ms/step - loss: 3.6126 - accuracy: 0.6586\n",
      "Epoch 1013/1600\n",
      "71/71 [==============================] - ETA: 0s - loss: 4.0536 - accuracy: 0.6454"
     ]
    },
    {
     "name": "stderr",
     "output_type": "stream",
     "text": [
      "2024-03-11 23:39 INFO End of Epoch 1013 - Loss: 4.0536\n"
     ]
    },
    {
     "name": "stdout",
     "output_type": "stream",
     "text": [
      "71/71 [==============================] - 21s 293ms/step - loss: 4.0536 - accuracy: 0.6454\n",
      "Epoch 1014/1600\n",
      "71/71 [==============================] - ETA: 0s - loss: 5.4307 - accuracy: 0.6325"
     ]
    },
    {
     "name": "stderr",
     "output_type": "stream",
     "text": [
      "2024-03-11 23:40 INFO End of Epoch 1014 - Loss: 5.4307\n"
     ]
    },
    {
     "name": "stdout",
     "output_type": "stream",
     "text": [
      "71/71 [==============================] - 21s 291ms/step - loss: 5.4307 - accuracy: 0.6325\n",
      "Epoch 1015/1600\n",
      "71/71 [==============================] - ETA: 0s - loss: 6.6656 - accuracy: 0.6190"
     ]
    },
    {
     "name": "stderr",
     "output_type": "stream",
     "text": [
      "2024-03-11 23:40 INFO End of Epoch 1015 - Loss: 6.6656\n"
     ]
    },
    {
     "name": "stdout",
     "output_type": "stream",
     "text": [
      "71/71 [==============================] - 21s 292ms/step - loss: 6.6656 - accuracy: 0.6190\n",
      "Epoch 1016/1600\n",
      "71/71 [==============================] - ETA: 0s - loss: 5.7035 - accuracy: 0.6288"
     ]
    },
    {
     "name": "stderr",
     "output_type": "stream",
     "text": [
      "2024-03-11 23:40 INFO End of Epoch 1016 - Loss: 5.7035\n"
     ]
    },
    {
     "name": "stdout",
     "output_type": "stream",
     "text": [
      "71/71 [==============================] - 21s 293ms/step - loss: 5.7035 - accuracy: 0.6288\n",
      "Epoch 1017/1600\n",
      "71/71 [==============================] - ETA: 0s - loss: 5.6358 - accuracy: 0.6332"
     ]
    },
    {
     "name": "stderr",
     "output_type": "stream",
     "text": [
      "2024-03-11 23:41 INFO End of Epoch 1017 - Loss: 5.6358\n"
     ]
    },
    {
     "name": "stdout",
     "output_type": "stream",
     "text": [
      "71/71 [==============================] - 21s 291ms/step - loss: 5.6358 - accuracy: 0.6332\n",
      "Epoch 1018/1600\n",
      "71/71 [==============================] - ETA: 0s - loss: 3.8759 - accuracy: 0.6417"
     ]
    },
    {
     "name": "stderr",
     "output_type": "stream",
     "text": [
      "2024-03-11 23:41 INFO End of Epoch 1018 - Loss: 3.8759\n"
     ]
    },
    {
     "name": "stdout",
     "output_type": "stream",
     "text": [
      "71/71 [==============================] - 21s 293ms/step - loss: 3.8759 - accuracy: 0.6417\n",
      "Epoch 1019/1600\n",
      "71/71 [==============================] - ETA: 0s - loss: 2.9873 - accuracy: 0.6376"
     ]
    },
    {
     "name": "stderr",
     "output_type": "stream",
     "text": [
      "2024-03-11 23:42 INFO End of Epoch 1019 - Loss: 2.9873\n"
     ]
    },
    {
     "name": "stdout",
     "output_type": "stream",
     "text": [
      "71/71 [==============================] - 20s 288ms/step - loss: 2.9873 - accuracy: 0.6376\n",
      "Epoch 1020/1600\n",
      "71/71 [==============================] - ETA: 0s - loss: 3.9992 - accuracy: 0.6418"
     ]
    },
    {
     "name": "stderr",
     "output_type": "stream",
     "text": [
      "2024-03-11 23:42 INFO End of Epoch 1020 - Loss: 3.9992\n"
     ]
    },
    {
     "name": "stdout",
     "output_type": "stream",
     "text": [
      "71/71 [==============================] - 21s 294ms/step - loss: 3.9992 - accuracy: 0.6418\n",
      "Epoch 1021/1600\n",
      "71/71 [==============================] - ETA: 0s - loss: 5.2025 - accuracy: 0.6424"
     ]
    },
    {
     "name": "stderr",
     "output_type": "stream",
     "text": [
      "2024-03-11 23:43 INFO End of Epoch 1021 - Loss: 5.2025\n"
     ]
    },
    {
     "name": "stdout",
     "output_type": "stream",
     "text": [
      "71/71 [==============================] - 21s 293ms/step - loss: 5.2025 - accuracy: 0.6424\n",
      "Epoch 1022/1600\n",
      "71/71 [==============================] - ETA: 0s - loss: 6.4194 - accuracy: 0.6516"
     ]
    },
    {
     "name": "stderr",
     "output_type": "stream",
     "text": [
      "2024-03-11 23:43 INFO End of Epoch 1022 - Loss: 6.4194\n"
     ]
    },
    {
     "name": "stdout",
     "output_type": "stream",
     "text": [
      "71/71 [==============================] - 21s 292ms/step - loss: 6.4194 - accuracy: 0.6516\n",
      "Epoch 1023/1600\n",
      "71/71 [==============================] - ETA: 0s - loss: 10.6445 - accuracy: 0.6229"
     ]
    },
    {
     "name": "stderr",
     "output_type": "stream",
     "text": [
      "2024-03-11 23:44 INFO End of Epoch 1023 - Loss: 10.6445\n"
     ]
    },
    {
     "name": "stdout",
     "output_type": "stream",
     "text": [
      "71/71 [==============================] - 21s 294ms/step - loss: 10.6445 - accuracy: 0.6229\n",
      "Epoch 1024/1600\n",
      "71/71 [==============================] - ETA: 0s - loss: 8.0939 - accuracy: 0.6097"
     ]
    },
    {
     "name": "stderr",
     "output_type": "stream",
     "text": [
      "2024-03-11 23:44 INFO End of Epoch 1024 - Loss: 8.0939\n"
     ]
    },
    {
     "name": "stdout",
     "output_type": "stream",
     "text": [
      "71/71 [==============================] - 21s 293ms/step - loss: 8.0939 - accuracy: 0.6097\n",
      "Epoch 1025/1600\n",
      "71/71 [==============================] - ETA: 0s - loss: 6.0483 - accuracy: 0.6095"
     ]
    },
    {
     "name": "stderr",
     "output_type": "stream",
     "text": [
      "2024-03-11 23:44 INFO End of Epoch 1025 - Loss: 6.0483\n"
     ]
    },
    {
     "name": "stdout",
     "output_type": "stream",
     "text": [
      "71/71 [==============================] - 21s 292ms/step - loss: 6.0483 - accuracy: 0.6095\n",
      "Epoch 1026/1600\n",
      "71/71 [==============================] - ETA: 0s - loss: 4.9915 - accuracy: 0.6387"
     ]
    },
    {
     "name": "stderr",
     "output_type": "stream",
     "text": [
      "2024-03-11 23:45 INFO End of Epoch 1026 - Loss: 4.9915\n"
     ]
    },
    {
     "name": "stdout",
     "output_type": "stream",
     "text": [
      "71/71 [==============================] - 21s 292ms/step - loss: 4.9915 - accuracy: 0.6387\n",
      "Epoch 1027/1600\n",
      "71/71 [==============================] - ETA: 0s - loss: 4.6859 - accuracy: 0.6424"
     ]
    },
    {
     "name": "stderr",
     "output_type": "stream",
     "text": [
      "2024-03-11 23:45 INFO End of Epoch 1027 - Loss: 4.6859\n"
     ]
    },
    {
     "name": "stdout",
     "output_type": "stream",
     "text": [
      "71/71 [==============================] - 21s 293ms/step - loss: 4.6859 - accuracy: 0.6424\n",
      "Epoch 1028/1600\n",
      "71/71 [==============================] - ETA: 0s - loss: 4.6088 - accuracy: 0.6430"
     ]
    },
    {
     "name": "stderr",
     "output_type": "stream",
     "text": [
      "2024-03-11 23:46 INFO End of Epoch 1028 - Loss: 4.6088\n"
     ]
    },
    {
     "name": "stdout",
     "output_type": "stream",
     "text": [
      "71/71 [==============================] - 21s 293ms/step - loss: 4.6088 - accuracy: 0.6430\n",
      "Epoch 1029/1600\n",
      "71/71 [==============================] - ETA: 0s - loss: 4.1291 - accuracy: 0.6437"
     ]
    },
    {
     "name": "stderr",
     "output_type": "stream",
     "text": [
      "2024-03-11 23:46 INFO End of Epoch 1029 - Loss: 4.1291\n"
     ]
    },
    {
     "name": "stdout",
     "output_type": "stream",
     "text": [
      "71/71 [==============================] - 21s 293ms/step - loss: 4.1291 - accuracy: 0.6437\n",
      "Epoch 1030/1600\n",
      "71/71 [==============================] - ETA: 0s - loss: 4.1667 - accuracy: 0.6457"
     ]
    },
    {
     "name": "stderr",
     "output_type": "stream",
     "text": [
      "2024-03-11 23:47 INFO End of Epoch 1030 - Loss: 4.1667\n"
     ]
    },
    {
     "name": "stdout",
     "output_type": "stream",
     "text": [
      "71/71 [==============================] - 21s 292ms/step - loss: 4.1667 - accuracy: 0.6457\n",
      "Epoch 1031/1600\n",
      "71/71 [==============================] - ETA: 0s - loss: 4.0789 - accuracy: 0.6281"
     ]
    },
    {
     "name": "stderr",
     "output_type": "stream",
     "text": [
      "2024-03-11 23:47 INFO End of Epoch 1031 - Loss: 4.0789\n"
     ]
    },
    {
     "name": "stdout",
     "output_type": "stream",
     "text": [
      "71/71 [==============================] - 21s 292ms/step - loss: 4.0789 - accuracy: 0.6281\n",
      "Epoch 1032/1600\n",
      "71/71 [==============================] - ETA: 0s - loss: 4.1566 - accuracy: 0.6391"
     ]
    },
    {
     "name": "stderr",
     "output_type": "stream",
     "text": [
      "2024-03-11 23:48 INFO End of Epoch 1032 - Loss: 4.1566\n"
     ]
    },
    {
     "name": "stdout",
     "output_type": "stream",
     "text": [
      "71/71 [==============================] - 21s 292ms/step - loss: 4.1566 - accuracy: 0.6391\n",
      "Epoch 1033/1600\n",
      "71/71 [==============================] - ETA: 0s - loss: 4.4432 - accuracy: 0.6440"
     ]
    },
    {
     "name": "stderr",
     "output_type": "stream",
     "text": [
      "2024-03-11 23:48 INFO End of Epoch 1033 - Loss: 4.4432\n"
     ]
    },
    {
     "name": "stdout",
     "output_type": "stream",
     "text": [
      "71/71 [==============================] - 21s 293ms/step - loss: 4.4432 - accuracy: 0.6440\n",
      "Epoch 1034/1600\n",
      "71/71 [==============================] - ETA: 0s - loss: 4.9144 - accuracy: 0.6330"
     ]
    },
    {
     "name": "stderr",
     "output_type": "stream",
     "text": [
      "2024-03-11 23:48 INFO End of Epoch 1034 - Loss: 4.9144\n"
     ]
    },
    {
     "name": "stdout",
     "output_type": "stream",
     "text": [
      "71/71 [==============================] - 21s 292ms/step - loss: 4.9144 - accuracy: 0.6330\n",
      "Epoch 1035/1600\n",
      "71/71 [==============================] - ETA: 0s - loss: 3.8331 - accuracy: 0.6231"
     ]
    },
    {
     "name": "stderr",
     "output_type": "stream",
     "text": [
      "2024-03-11 23:49 INFO End of Epoch 1035 - Loss: 3.8331\n"
     ]
    },
    {
     "name": "stdout",
     "output_type": "stream",
     "text": [
      "71/71 [==============================] - 21s 293ms/step - loss: 3.8331 - accuracy: 0.6231\n",
      "Epoch 1036/1600\n",
      "71/71 [==============================] - ETA: 0s - loss: 3.2938 - accuracy: 0.6457"
     ]
    },
    {
     "name": "stderr",
     "output_type": "stream",
     "text": [
      "2024-03-11 23:49 INFO End of Epoch 1036 - Loss: 3.2938\n"
     ]
    },
    {
     "name": "stdout",
     "output_type": "stream",
     "text": [
      "71/71 [==============================] - 21s 293ms/step - loss: 3.2938 - accuracy: 0.6457\n",
      "Epoch 1037/1600\n",
      "71/71 [==============================] - ETA: 0s - loss: 3.2910 - accuracy: 0.6214"
     ]
    },
    {
     "name": "stderr",
     "output_type": "stream",
     "text": [
      "2024-03-11 23:50 INFO End of Epoch 1037 - Loss: 3.2910\n"
     ]
    },
    {
     "name": "stdout",
     "output_type": "stream",
     "text": [
      "71/71 [==============================] - 21s 292ms/step - loss: 3.2910 - accuracy: 0.6214\n",
      "Epoch 1038/1600\n",
      "71/71 [==============================] - ETA: 0s - loss: 3.7155 - accuracy: 0.6400"
     ]
    },
    {
     "name": "stderr",
     "output_type": "stream",
     "text": [
      "2024-03-11 23:50 INFO End of Epoch 1038 - Loss: 3.7155\n"
     ]
    },
    {
     "name": "stdout",
     "output_type": "stream",
     "text": [
      "71/71 [==============================] - 21s 293ms/step - loss: 3.7155 - accuracy: 0.6400\n",
      "Epoch 1039/1600\n",
      "71/71 [==============================] - ETA: 0s - loss: 4.4952 - accuracy: 0.6214"
     ]
    },
    {
     "name": "stderr",
     "output_type": "stream",
     "text": [
      "2024-03-11 23:51 INFO End of Epoch 1039 - Loss: 4.4952\n"
     ]
    },
    {
     "name": "stdout",
     "output_type": "stream",
     "text": [
      "71/71 [==============================] - 21s 293ms/step - loss: 4.4952 - accuracy: 0.6214\n",
      "Epoch 1040/1600\n",
      "71/71 [==============================] - ETA: 0s - loss: 4.4439 - accuracy: 0.6383"
     ]
    },
    {
     "name": "stderr",
     "output_type": "stream",
     "text": [
      "2024-03-11 23:51 INFO End of Epoch 1040 - Loss: 4.4439\n"
     ]
    },
    {
     "name": "stdout",
     "output_type": "stream",
     "text": [
      "71/71 [==============================] - 21s 292ms/step - loss: 4.4439 - accuracy: 0.6383\n",
      "Epoch 1041/1600\n",
      "71/71 [==============================] - ETA: 0s - loss: 7.8299 - accuracy: 0.6238"
     ]
    },
    {
     "name": "stderr",
     "output_type": "stream",
     "text": [
      "2024-03-11 23:52 INFO End of Epoch 1041 - Loss: 7.8299\n"
     ]
    },
    {
     "name": "stdout",
     "output_type": "stream",
     "text": [
      "71/71 [==============================] - 21s 293ms/step - loss: 7.8299 - accuracy: 0.6238\n",
      "Epoch 1042/1600\n",
      "71/71 [==============================] - ETA: 0s - loss: 8.8916 - accuracy: 0.6259"
     ]
    },
    {
     "name": "stderr",
     "output_type": "stream",
     "text": [
      "2024-03-11 23:52 INFO End of Epoch 1042 - Loss: 8.8916\n"
     ]
    },
    {
     "name": "stdout",
     "output_type": "stream",
     "text": [
      "71/71 [==============================] - 21s 293ms/step - loss: 8.8916 - accuracy: 0.6259\n",
      "Epoch 1043/1600\n",
      "71/71 [==============================] - ETA: 0s - loss: 6.7896 - accuracy: 0.6254"
     ]
    },
    {
     "name": "stderr",
     "output_type": "stream",
     "text": [
      "2024-03-11 23:53 INFO End of Epoch 1043 - Loss: 6.7896\n"
     ]
    },
    {
     "name": "stdout",
     "output_type": "stream",
     "text": [
      "71/71 [==============================] - 21s 292ms/step - loss: 6.7896 - accuracy: 0.6254\n",
      "Epoch 1044/1600\n",
      "71/71 [==============================] - ETA: 0s - loss: 8.0230 - accuracy: 0.6346"
     ]
    },
    {
     "name": "stderr",
     "output_type": "stream",
     "text": [
      "2024-03-11 23:53 INFO End of Epoch 1044 - Loss: 8.0230\n"
     ]
    },
    {
     "name": "stdout",
     "output_type": "stream",
     "text": [
      "71/71 [==============================] - 21s 293ms/step - loss: 8.0230 - accuracy: 0.6346\n",
      "Epoch 1045/1600\n",
      "71/71 [==============================] - ETA: 0s - loss: 8.9704 - accuracy: 0.6359"
     ]
    },
    {
     "name": "stderr",
     "output_type": "stream",
     "text": [
      "2024-03-11 23:53 INFO End of Epoch 1045 - Loss: 8.9704\n"
     ]
    },
    {
     "name": "stdout",
     "output_type": "stream",
     "text": [
      "71/71 [==============================] - 21s 293ms/step - loss: 8.9704 - accuracy: 0.6359\n",
      "Epoch 1046/1600\n",
      "71/71 [==============================] - ETA: 0s - loss: 7.4613 - accuracy: 0.6307"
     ]
    },
    {
     "name": "stderr",
     "output_type": "stream",
     "text": [
      "2024-03-11 23:54 INFO End of Epoch 1046 - Loss: 7.4613\n"
     ]
    },
    {
     "name": "stdout",
     "output_type": "stream",
     "text": [
      "71/71 [==============================] - 21s 293ms/step - loss: 7.4613 - accuracy: 0.6307\n",
      "Epoch 1047/1600\n",
      "71/71 [==============================] - ETA: 0s - loss: 5.9923 - accuracy: 0.6458"
     ]
    },
    {
     "name": "stderr",
     "output_type": "stream",
     "text": [
      "2024-03-11 23:54 INFO End of Epoch 1047 - Loss: 5.9923\n"
     ]
    },
    {
     "name": "stdout",
     "output_type": "stream",
     "text": [
      "71/71 [==============================] - 21s 293ms/step - loss: 5.9923 - accuracy: 0.6458\n",
      "Epoch 1048/1600\n",
      "71/71 [==============================] - ETA: 0s - loss: 6.0008 - accuracy: 0.6442"
     ]
    },
    {
     "name": "stderr",
     "output_type": "stream",
     "text": [
      "2024-03-11 23:55 INFO End of Epoch 1048 - Loss: 6.0008\n"
     ]
    },
    {
     "name": "stdout",
     "output_type": "stream",
     "text": [
      "71/71 [==============================] - 21s 292ms/step - loss: 6.0008 - accuracy: 0.6442\n",
      "Epoch 1049/1600\n",
      "71/71 [==============================] - ETA: 0s - loss: 4.8735 - accuracy: 0.6442"
     ]
    },
    {
     "name": "stderr",
     "output_type": "stream",
     "text": [
      "2024-03-11 23:55 INFO End of Epoch 1049 - Loss: 4.8735\n"
     ]
    },
    {
     "name": "stdout",
     "output_type": "stream",
     "text": [
      "71/71 [==============================] - 21s 289ms/step - loss: 4.8735 - accuracy: 0.6442\n",
      "Epoch 1050/1600\n",
      "71/71 [==============================] - ETA: 0s - loss: 5.4581 - accuracy: 0.6535"
     ]
    },
    {
     "name": "stderr",
     "output_type": "stream",
     "text": [
      "2024-03-11 23:56 INFO End of Epoch 1050 - Loss: 5.4581\n"
     ]
    },
    {
     "name": "stdout",
     "output_type": "stream",
     "text": [
      "71/71 [==============================] - 21s 294ms/step - loss: 5.4581 - accuracy: 0.6535\n",
      "Epoch 1051/1600\n",
      "71/71 [==============================] - ETA: 0s - loss: 7.9248 - accuracy: 0.6327"
     ]
    },
    {
     "name": "stderr",
     "output_type": "stream",
     "text": [
      "2024-03-11 23:56 INFO End of Epoch 1051 - Loss: 7.9248\n"
     ]
    },
    {
     "name": "stdout",
     "output_type": "stream",
     "text": [
      "71/71 [==============================] - 21s 293ms/step - loss: 7.9248 - accuracy: 0.6327\n",
      "Epoch 1052/1600\n",
      "71/71 [==============================] - ETA: 0s - loss: 7.1971 - accuracy: 0.6043"
     ]
    },
    {
     "name": "stderr",
     "output_type": "stream",
     "text": [
      "2024-03-11 23:57 INFO End of Epoch 1052 - Loss: 7.1971\n"
     ]
    },
    {
     "name": "stdout",
     "output_type": "stream",
     "text": [
      "71/71 [==============================] - 21s 294ms/step - loss: 7.1971 - accuracy: 0.6043\n",
      "Epoch 1053/1600\n",
      "71/71 [==============================] - ETA: 0s - loss: 3.7454 - accuracy: 0.5562"
     ]
    },
    {
     "name": "stderr",
     "output_type": "stream",
     "text": [
      "2024-03-11 23:57 INFO End of Epoch 1053 - Loss: 3.7454\n"
     ]
    },
    {
     "name": "stdout",
     "output_type": "stream",
     "text": [
      "71/71 [==============================] - 21s 293ms/step - loss: 3.7454 - accuracy: 0.5562\n",
      "Epoch 1054/1600\n",
      "71/71 [==============================] - ETA: 0s - loss: 2.2297 - accuracy: 0.5613"
     ]
    },
    {
     "name": "stderr",
     "output_type": "stream",
     "text": [
      "2024-03-11 23:57 INFO End of Epoch 1054 - Loss: 2.2297\n"
     ]
    },
    {
     "name": "stdout",
     "output_type": "stream",
     "text": [
      "71/71 [==============================] - 21s 293ms/step - loss: 2.2297 - accuracy: 0.5613\n",
      "Epoch 1055/1600\n",
      "71/71 [==============================] - ETA: 0s - loss: 1.6524 - accuracy: 0.5823"
     ]
    },
    {
     "name": "stderr",
     "output_type": "stream",
     "text": [
      "2024-03-11 23:58 INFO End of Epoch 1055 - Loss: 1.6524\n"
     ]
    },
    {
     "name": "stdout",
     "output_type": "stream",
     "text": [
      "71/71 [==============================] - 21s 292ms/step - loss: 1.6524 - accuracy: 0.5823\n",
      "Epoch 1056/1600\n",
      "71/71 [==============================] - ETA: 0s - loss: 1.8823 - accuracy: 0.5724"
     ]
    },
    {
     "name": "stderr",
     "output_type": "stream",
     "text": [
      "2024-03-11 23:58 INFO End of Epoch 1056 - Loss: 1.8823\n"
     ]
    },
    {
     "name": "stdout",
     "output_type": "stream",
     "text": [
      "71/71 [==============================] - 21s 293ms/step - loss: 1.8823 - accuracy: 0.5724\n",
      "Epoch 1057/1600\n",
      "71/71 [==============================] - ETA: 0s - loss: 1.9961 - accuracy: 0.5839"
     ]
    },
    {
     "name": "stderr",
     "output_type": "stream",
     "text": [
      "2024-03-11 23:59 INFO End of Epoch 1057 - Loss: 1.9961\n"
     ]
    },
    {
     "name": "stdout",
     "output_type": "stream",
     "text": [
      "71/71 [==============================] - 21s 293ms/step - loss: 1.9961 - accuracy: 0.5839\n",
      "Epoch 1058/1600\n",
      "71/71 [==============================] - ETA: 0s - loss: 2.1431 - accuracy: 0.5926"
     ]
    },
    {
     "name": "stderr",
     "output_type": "stream",
     "text": [
      "2024-03-11 23:59 INFO End of Epoch 1058 - Loss: 2.1431\n"
     ]
    },
    {
     "name": "stdout",
     "output_type": "stream",
     "text": [
      "71/71 [==============================] - 21s 293ms/step - loss: 2.1431 - accuracy: 0.5926\n",
      "Epoch 1059/1600\n",
      "71/71 [==============================] - ETA: 0s - loss: 2.1453 - accuracy: 0.6018"
     ]
    },
    {
     "name": "stderr",
     "output_type": "stream",
     "text": [
      "2024-03-12 00:00 INFO End of Epoch 1059 - Loss: 2.1453\n"
     ]
    },
    {
     "name": "stdout",
     "output_type": "stream",
     "text": [
      "71/71 [==============================] - 21s 294ms/step - loss: 2.1453 - accuracy: 0.6018\n",
      "Epoch 1060/1600\n",
      "71/71 [==============================] - ETA: 0s - loss: 2.4729 - accuracy: 0.6333"
     ]
    },
    {
     "name": "stderr",
     "output_type": "stream",
     "text": [
      "2024-03-12 00:00 INFO End of Epoch 1060 - Loss: 2.4729\n"
     ]
    },
    {
     "name": "stdout",
     "output_type": "stream",
     "text": [
      "71/71 [==============================] - 21s 293ms/step - loss: 2.4729 - accuracy: 0.6333\n",
      "Epoch 1061/1600\n",
      "71/71 [==============================] - ETA: 0s - loss: 3.4157 - accuracy: 0.6107"
     ]
    },
    {
     "name": "stderr",
     "output_type": "stream",
     "text": [
      "2024-03-12 00:01 INFO End of Epoch 1061 - Loss: 3.4157\n"
     ]
    },
    {
     "name": "stdout",
     "output_type": "stream",
     "text": [
      "71/71 [==============================] - 21s 292ms/step - loss: 3.4157 - accuracy: 0.6107\n",
      "Epoch 1062/1600\n",
      "71/71 [==============================] - ETA: 0s - loss: 4.6873 - accuracy: 0.6210"
     ]
    },
    {
     "name": "stderr",
     "output_type": "stream",
     "text": [
      "2024-03-12 00:01 INFO End of Epoch 1062 - Loss: 4.6873\n"
     ]
    },
    {
     "name": "stdout",
     "output_type": "stream",
     "text": [
      "71/71 [==============================] - 21s 293ms/step - loss: 4.6873 - accuracy: 0.6210\n",
      "Epoch 1063/1600\n",
      "71/71 [==============================] - ETA: 0s - loss: 5.3772 - accuracy: 0.6437"
     ]
    },
    {
     "name": "stderr",
     "output_type": "stream",
     "text": [
      "2024-03-12 00:01 INFO End of Epoch 1063 - Loss: 5.3772\n"
     ]
    },
    {
     "name": "stdout",
     "output_type": "stream",
     "text": [
      "71/71 [==============================] - 21s 293ms/step - loss: 5.3772 - accuracy: 0.6437\n",
      "Epoch 1064/1600\n",
      "71/71 [==============================] - ETA: 0s - loss: 7.2305 - accuracy: 0.6288"
     ]
    },
    {
     "name": "stderr",
     "output_type": "stream",
     "text": [
      "2024-03-12 00:02 INFO End of Epoch 1064 - Loss: 7.2305\n"
     ]
    },
    {
     "name": "stdout",
     "output_type": "stream",
     "text": [
      "71/71 [==============================] - 21s 292ms/step - loss: 7.2305 - accuracy: 0.6288\n",
      "Epoch 1065/1600\n",
      "71/71 [==============================] - ETA: 0s - loss: 8.7235 - accuracy: 0.6312"
     ]
    },
    {
     "name": "stderr",
     "output_type": "stream",
     "text": [
      "2024-03-12 00:02 INFO End of Epoch 1065 - Loss: 8.7235\n"
     ]
    },
    {
     "name": "stdout",
     "output_type": "stream",
     "text": [
      "71/71 [==============================] - 21s 293ms/step - loss: 8.7235 - accuracy: 0.6312\n",
      "Epoch 1066/1600\n",
      "71/71 [==============================] - ETA: 0s - loss: 9.5442 - accuracy: 0.6369"
     ]
    },
    {
     "name": "stderr",
     "output_type": "stream",
     "text": [
      "2024-03-12 00:03 INFO End of Epoch 1066 - Loss: 9.5442\n"
     ]
    },
    {
     "name": "stdout",
     "output_type": "stream",
     "text": [
      "71/71 [==============================] - 21s 292ms/step - loss: 9.5442 - accuracy: 0.6369\n",
      "Epoch 1067/1600\n",
      "71/71 [==============================] - ETA: 0s - loss: 9.0726 - accuracy: 0.6207"
     ]
    },
    {
     "name": "stderr",
     "output_type": "stream",
     "text": [
      "2024-03-12 00:03 INFO End of Epoch 1067 - Loss: 9.0726\n"
     ]
    },
    {
     "name": "stdout",
     "output_type": "stream",
     "text": [
      "71/71 [==============================] - 21s 293ms/step - loss: 9.0726 - accuracy: 0.6207\n",
      "Epoch 1068/1600\n",
      "71/71 [==============================] - ETA: 0s - loss: 7.7313 - accuracy: 0.5564"
     ]
    },
    {
     "name": "stderr",
     "output_type": "stream",
     "text": [
      "2024-03-12 00:04 INFO End of Epoch 1068 - Loss: 7.7313\n"
     ]
    },
    {
     "name": "stdout",
     "output_type": "stream",
     "text": [
      "71/71 [==============================] - 21s 293ms/step - loss: 7.7313 - accuracy: 0.5564\n",
      "Epoch 1069/1600\n",
      "71/71 [==============================] - ETA: 0s - loss: 8.5794 - accuracy: 0.5635"
     ]
    },
    {
     "name": "stderr",
     "output_type": "stream",
     "text": [
      "2024-03-12 00:04 INFO End of Epoch 1069 - Loss: 8.5794\n"
     ]
    },
    {
     "name": "stdout",
     "output_type": "stream",
     "text": [
      "71/71 [==============================] - 21s 293ms/step - loss: 8.5794 - accuracy: 0.5635\n",
      "Epoch 1070/1600\n",
      "71/71 [==============================] - ETA: 0s - loss: 8.8141 - accuracy: 0.5654"
     ]
    },
    {
     "name": "stderr",
     "output_type": "stream",
     "text": [
      "2024-03-12 00:05 INFO End of Epoch 1070 - Loss: 8.8141\n"
     ]
    },
    {
     "name": "stdout",
     "output_type": "stream",
     "text": [
      "71/71 [==============================] - 21s 292ms/step - loss: 8.8141 - accuracy: 0.5654\n",
      "Epoch 1071/1600\n",
      "71/71 [==============================] - ETA: 0s - loss: 6.0050 - accuracy: 0.5933"
     ]
    },
    {
     "name": "stderr",
     "output_type": "stream",
     "text": [
      "2024-03-12 00:05 INFO End of Epoch 1071 - Loss: 6.0050\n"
     ]
    },
    {
     "name": "stdout",
     "output_type": "stream",
     "text": [
      "71/71 [==============================] - 21s 293ms/step - loss: 6.0050 - accuracy: 0.5933\n",
      "Epoch 1072/1600\n",
      "71/71 [==============================] - ETA: 0s - loss: 3.9775 - accuracy: 0.6221"
     ]
    },
    {
     "name": "stderr",
     "output_type": "stream",
     "text": [
      "2024-03-12 00:05 INFO End of Epoch 1072 - Loss: 3.9775\n"
     ]
    },
    {
     "name": "stdout",
     "output_type": "stream",
     "text": [
      "71/71 [==============================] - 21s 293ms/step - loss: 3.9775 - accuracy: 0.6221\n",
      "Epoch 1073/1600\n",
      "71/71 [==============================] - ETA: 0s - loss: 3.5179 - accuracy: 0.6170"
     ]
    },
    {
     "name": "stderr",
     "output_type": "stream",
     "text": [
      "2024-03-12 00:06 INFO End of Epoch 1073 - Loss: 3.5179\n"
     ]
    },
    {
     "name": "stdout",
     "output_type": "stream",
     "text": [
      "71/71 [==============================] - 21s 290ms/step - loss: 3.5179 - accuracy: 0.6170\n",
      "Epoch 1074/1600\n",
      "71/71 [==============================] - ETA: 0s - loss: 3.4314 - accuracy: 0.6268"
     ]
    },
    {
     "name": "stderr",
     "output_type": "stream",
     "text": [
      "2024-03-12 00:06 INFO End of Epoch 1074 - Loss: 3.4314\n"
     ]
    },
    {
     "name": "stdout",
     "output_type": "stream",
     "text": [
      "71/71 [==============================] - 21s 292ms/step - loss: 3.4314 - accuracy: 0.6268\n",
      "Epoch 1075/1600\n",
      "71/71 [==============================] - ETA: 0s - loss: 3.1062 - accuracy: 0.6376"
     ]
    },
    {
     "name": "stderr",
     "output_type": "stream",
     "text": [
      "2024-03-12 00:07 INFO End of Epoch 1075 - Loss: 3.1062\n"
     ]
    },
    {
     "name": "stdout",
     "output_type": "stream",
     "text": [
      "71/71 [==============================] - 21s 293ms/step - loss: 3.1062 - accuracy: 0.6376\n",
      "Epoch 1076/1600\n",
      "71/71 [==============================] - ETA: 0s - loss: 3.3882 - accuracy: 0.6288"
     ]
    },
    {
     "name": "stderr",
     "output_type": "stream",
     "text": [
      "2024-03-12 00:07 INFO End of Epoch 1076 - Loss: 3.3882\n"
     ]
    },
    {
     "name": "stdout",
     "output_type": "stream",
     "text": [
      "71/71 [==============================] - 21s 295ms/step - loss: 3.3882 - accuracy: 0.6288\n",
      "Epoch 1077/1600\n",
      "71/71 [==============================] - ETA: 0s - loss: 3.8731 - accuracy: 0.6208"
     ]
    },
    {
     "name": "stderr",
     "output_type": "stream",
     "text": [
      "2024-03-12 00:08 INFO End of Epoch 1077 - Loss: 3.8731\n"
     ]
    },
    {
     "name": "stdout",
     "output_type": "stream",
     "text": [
      "71/71 [==============================] - 21s 292ms/step - loss: 3.8731 - accuracy: 0.6208\n",
      "Epoch 1078/1600\n",
      "71/71 [==============================] - ETA: 0s - loss: 4.9011 - accuracy: 0.6420"
     ]
    },
    {
     "name": "stderr",
     "output_type": "stream",
     "text": [
      "2024-03-12 00:08 INFO End of Epoch 1078 - Loss: 4.9011\n"
     ]
    },
    {
     "name": "stdout",
     "output_type": "stream",
     "text": [
      "71/71 [==============================] - 21s 292ms/step - loss: 4.9011 - accuracy: 0.6420\n",
      "Epoch 1079/1600\n",
      "71/71 [==============================] - ETA: 0s - loss: 4.7129 - accuracy: 0.6309"
     ]
    },
    {
     "name": "stderr",
     "output_type": "stream",
     "text": [
      "2024-03-12 00:09 INFO End of Epoch 1079 - Loss: 4.7129\n"
     ]
    },
    {
     "name": "stdout",
     "output_type": "stream",
     "text": [
      "71/71 [==============================] - 21s 292ms/step - loss: 4.7129 - accuracy: 0.6309\n",
      "Epoch 1080/1600\n",
      "71/71 [==============================] - ETA: 0s - loss: 4.7582 - accuracy: 0.6353"
     ]
    },
    {
     "name": "stderr",
     "output_type": "stream",
     "text": [
      "2024-03-12 00:09 INFO End of Epoch 1080 - Loss: 4.7582\n"
     ]
    },
    {
     "name": "stdout",
     "output_type": "stream",
     "text": [
      "71/71 [==============================] - 21s 294ms/step - loss: 4.7582 - accuracy: 0.6353\n",
      "Epoch 1081/1600\n",
      "71/71 [==============================] - ETA: 0s - loss: 3.8102 - accuracy: 0.6252"
     ]
    },
    {
     "name": "stderr",
     "output_type": "stream",
     "text": [
      "2024-03-12 00:09 INFO End of Epoch 1081 - Loss: 3.8102\n"
     ]
    },
    {
     "name": "stdout",
     "output_type": "stream",
     "text": [
      "71/71 [==============================] - 21s 293ms/step - loss: 3.8102 - accuracy: 0.6252\n",
      "Epoch 1082/1600\n",
      "71/71 [==============================] - ETA: 0s - loss: 2.9219 - accuracy: 0.6201"
     ]
    },
    {
     "name": "stderr",
     "output_type": "stream",
     "text": [
      "2024-03-12 00:10 INFO End of Epoch 1082 - Loss: 2.9219\n"
     ]
    },
    {
     "name": "stdout",
     "output_type": "stream",
     "text": [
      "71/71 [==============================] - 21s 291ms/step - loss: 2.9219 - accuracy: 0.6201\n",
      "Epoch 1083/1600\n",
      "71/71 [==============================] - ETA: 0s - loss: 3.0598 - accuracy: 0.5923"
     ]
    },
    {
     "name": "stderr",
     "output_type": "stream",
     "text": [
      "2024-03-12 00:10 INFO End of Epoch 1083 - Loss: 3.0598\n"
     ]
    },
    {
     "name": "stdout",
     "output_type": "stream",
     "text": [
      "71/71 [==============================] - 21s 294ms/step - loss: 3.0598 - accuracy: 0.5923\n",
      "Epoch 1084/1600\n",
      "71/71 [==============================] - ETA: 0s - loss: 3.9262 - accuracy: 0.5953"
     ]
    },
    {
     "name": "stderr",
     "output_type": "stream",
     "text": [
      "2024-03-12 00:11 INFO End of Epoch 1084 - Loss: 3.9262\n"
     ]
    },
    {
     "name": "stdout",
     "output_type": "stream",
     "text": [
      "71/71 [==============================] - 21s 293ms/step - loss: 3.9262 - accuracy: 0.5953\n",
      "Epoch 1085/1600\n",
      "71/71 [==============================] - ETA: 0s - loss: 3.9511 - accuracy: 0.6224"
     ]
    },
    {
     "name": "stderr",
     "output_type": "stream",
     "text": [
      "2024-03-12 00:11 INFO End of Epoch 1085 - Loss: 3.9511\n"
     ]
    },
    {
     "name": "stdout",
     "output_type": "stream",
     "text": [
      "71/71 [==============================] - 21s 294ms/step - loss: 3.9511 - accuracy: 0.6224\n",
      "Epoch 1086/1600\n",
      "71/71 [==============================] - ETA: 0s - loss: 4.6394 - accuracy: 0.6342"
     ]
    },
    {
     "name": "stderr",
     "output_type": "stream",
     "text": [
      "2024-03-12 00:12 INFO End of Epoch 1086 - Loss: 4.6394\n"
     ]
    },
    {
     "name": "stdout",
     "output_type": "stream",
     "text": [
      "71/71 [==============================] - 21s 294ms/step - loss: 4.6394 - accuracy: 0.6342\n",
      "Epoch 1087/1600\n",
      "71/71 [==============================] - ETA: 0s - loss: 5.1749 - accuracy: 0.6404"
     ]
    },
    {
     "name": "stderr",
     "output_type": "stream",
     "text": [
      "2024-03-12 00:12 INFO End of Epoch 1087 - Loss: 5.1749\n"
     ]
    },
    {
     "name": "stdout",
     "output_type": "stream",
     "text": [
      "71/71 [==============================] - 21s 293ms/step - loss: 5.1749 - accuracy: 0.6404\n",
      "Epoch 1088/1600\n",
      "71/71 [==============================] - ETA: 0s - loss: 5.1340 - accuracy: 0.6421"
     ]
    },
    {
     "name": "stderr",
     "output_type": "stream",
     "text": [
      "2024-03-12 00:13 INFO End of Epoch 1088 - Loss: 5.1340\n"
     ]
    },
    {
     "name": "stdout",
     "output_type": "stream",
     "text": [
      "71/71 [==============================] - 21s 292ms/step - loss: 5.1340 - accuracy: 0.6421\n",
      "Epoch 1089/1600\n",
      "71/71 [==============================] - ETA: 0s - loss: 5.1952 - accuracy: 0.6332"
     ]
    },
    {
     "name": "stderr",
     "output_type": "stream",
     "text": [
      "2024-03-12 00:13 INFO End of Epoch 1089 - Loss: 5.1952\n"
     ]
    },
    {
     "name": "stdout",
     "output_type": "stream",
     "text": [
      "71/71 [==============================] - 21s 293ms/step - loss: 5.1952 - accuracy: 0.6332\n",
      "Epoch 1090/1600\n",
      "71/71 [==============================] - ETA: 0s - loss: 5.2139 - accuracy: 0.6485"
     ]
    },
    {
     "name": "stderr",
     "output_type": "stream",
     "text": [
      "2024-03-12 00:13 INFO End of Epoch 1090 - Loss: 5.2139\n"
     ]
    },
    {
     "name": "stdout",
     "output_type": "stream",
     "text": [
      "71/71 [==============================] - 21s 293ms/step - loss: 5.2139 - accuracy: 0.6485\n",
      "Epoch 1091/1600\n",
      "71/71 [==============================] - ETA: 0s - loss: 5.1829 - accuracy: 0.6252"
     ]
    },
    {
     "name": "stderr",
     "output_type": "stream",
     "text": [
      "2024-03-12 00:14 INFO End of Epoch 1091 - Loss: 5.1829\n"
     ]
    },
    {
     "name": "stdout",
     "output_type": "stream",
     "text": [
      "71/71 [==============================] - 21s 293ms/step - loss: 5.1829 - accuracy: 0.6252\n",
      "Epoch 1092/1600\n",
      "71/71 [==============================] - ETA: 0s - loss: 5.3625 - accuracy: 0.6367"
     ]
    },
    {
     "name": "stderr",
     "output_type": "stream",
     "text": [
      "2024-03-12 00:14 INFO End of Epoch 1092 - Loss: 5.3625\n"
     ]
    },
    {
     "name": "stdout",
     "output_type": "stream",
     "text": [
      "71/71 [==============================] - 21s 292ms/step - loss: 5.3625 - accuracy: 0.6367\n",
      "Epoch 1093/1600\n",
      "71/71 [==============================] - ETA: 0s - loss: 7.9900 - accuracy: 0.6359"
     ]
    },
    {
     "name": "stderr",
     "output_type": "stream",
     "text": [
      "2024-03-12 00:15 INFO End of Epoch 1093 - Loss: 7.9900\n"
     ]
    },
    {
     "name": "stdout",
     "output_type": "stream",
     "text": [
      "71/71 [==============================] - 21s 293ms/step - loss: 7.9900 - accuracy: 0.6359\n",
      "Epoch 1094/1600\n",
      "71/71 [==============================] - ETA: 0s - loss: 8.0763 - accuracy: 0.6325"
     ]
    },
    {
     "name": "stderr",
     "output_type": "stream",
     "text": [
      "2024-03-12 00:15 INFO End of Epoch 1094 - Loss: 8.0763\n"
     ]
    },
    {
     "name": "stdout",
     "output_type": "stream",
     "text": [
      "71/71 [==============================] - 21s 292ms/step - loss: 8.0763 - accuracy: 0.6325\n",
      "Epoch 1095/1600\n",
      "71/71 [==============================] - ETA: 0s - loss: 6.2507 - accuracy: 0.6349"
     ]
    },
    {
     "name": "stderr",
     "output_type": "stream",
     "text": [
      "2024-03-12 00:16 INFO End of Epoch 1095 - Loss: 6.2507\n"
     ]
    },
    {
     "name": "stdout",
     "output_type": "stream",
     "text": [
      "71/71 [==============================] - 21s 293ms/step - loss: 6.2507 - accuracy: 0.6349\n",
      "Epoch 1096/1600\n",
      "71/71 [==============================] - ETA: 0s - loss: 5.9049 - accuracy: 0.6468"
     ]
    },
    {
     "name": "stderr",
     "output_type": "stream",
     "text": [
      "2024-03-12 00:16 INFO End of Epoch 1096 - Loss: 5.9049\n"
     ]
    },
    {
     "name": "stdout",
     "output_type": "stream",
     "text": [
      "71/71 [==============================] - 21s 292ms/step - loss: 5.9049 - accuracy: 0.6468\n",
      "Epoch 1097/1600\n",
      "71/71 [==============================] - ETA: 0s - loss: 5.6995 - accuracy: 0.6391"
     ]
    },
    {
     "name": "stderr",
     "output_type": "stream",
     "text": [
      "2024-03-12 00:17 INFO End of Epoch 1097 - Loss: 5.6995\n"
     ]
    },
    {
     "name": "stdout",
     "output_type": "stream",
     "text": [
      "71/71 [==============================] - 21s 293ms/step - loss: 5.6995 - accuracy: 0.6391\n",
      "Epoch 1098/1600\n",
      "71/71 [==============================] - ETA: 0s - loss: 5.4994 - accuracy: 0.6512"
     ]
    },
    {
     "name": "stderr",
     "output_type": "stream",
     "text": [
      "2024-03-12 00:17 INFO End of Epoch 1098 - Loss: 5.4994\n"
     ]
    },
    {
     "name": "stdout",
     "output_type": "stream",
     "text": [
      "71/71 [==============================] - 21s 292ms/step - loss: 5.4994 - accuracy: 0.6512\n",
      "Epoch 1099/1600\n",
      "71/71 [==============================] - ETA: 0s - loss: 5.0634 - accuracy: 0.6374"
     ]
    },
    {
     "name": "stderr",
     "output_type": "stream",
     "text": [
      "2024-03-12 00:17 INFO End of Epoch 1099 - Loss: 5.0634\n"
     ]
    },
    {
     "name": "stdout",
     "output_type": "stream",
     "text": [
      "71/71 [==============================] - 21s 293ms/step - loss: 5.0634 - accuracy: 0.6374\n",
      "Epoch 1100/1600\n",
      "71/71 [==============================] - ETA: 0s - loss: 4.8352 - accuracy: 0.6535"
     ]
    },
    {
     "name": "stderr",
     "output_type": "stream",
     "text": [
      "2024-03-12 00:18 INFO End of Epoch 1100 - Loss: 4.8352\n"
     ]
    },
    {
     "name": "stdout",
     "output_type": "stream",
     "text": [
      "71/71 [==============================] - 21s 294ms/step - loss: 4.8352 - accuracy: 0.6535\n",
      "Epoch 1101/1600\n",
      "71/71 [==============================] - ETA: 0s - loss: 5.7169 - accuracy: 0.6384"
     ]
    },
    {
     "name": "stderr",
     "output_type": "stream",
     "text": [
      "2024-03-12 00:18 INFO End of Epoch 1101 - Loss: 5.7169\n"
     ]
    },
    {
     "name": "stdout",
     "output_type": "stream",
     "text": [
      "71/71 [==============================] - 21s 292ms/step - loss: 5.7169 - accuracy: 0.6384\n",
      "Epoch 1102/1600\n",
      "71/71 [==============================] - ETA: 0s - loss: 5.9012 - accuracy: 0.6421"
     ]
    },
    {
     "name": "stderr",
     "output_type": "stream",
     "text": [
      "2024-03-12 00:19 INFO End of Epoch 1102 - Loss: 5.9012\n"
     ]
    },
    {
     "name": "stdout",
     "output_type": "stream",
     "text": [
      "71/71 [==============================] - 21s 294ms/step - loss: 5.9012 - accuracy: 0.6421\n",
      "Epoch 1103/1600\n",
      "71/71 [==============================] - ETA: 0s - loss: 4.1744 - accuracy: 0.6325"
     ]
    },
    {
     "name": "stderr",
     "output_type": "stream",
     "text": [
      "2024-03-12 00:19 INFO End of Epoch 1103 - Loss: 4.1744\n"
     ]
    },
    {
     "name": "stdout",
     "output_type": "stream",
     "text": [
      "71/71 [==============================] - 21s 293ms/step - loss: 4.1744 - accuracy: 0.6325\n",
      "Epoch 1104/1600\n",
      "71/71 [==============================] - ETA: 0s - loss: 4.1266 - accuracy: 0.6539"
     ]
    },
    {
     "name": "stderr",
     "output_type": "stream",
     "text": [
      "2024-03-12 00:20 INFO End of Epoch 1104 - Loss: 4.1266\n"
     ]
    },
    {
     "name": "stdout",
     "output_type": "stream",
     "text": [
      "71/71 [==============================] - 21s 293ms/step - loss: 4.1266 - accuracy: 0.6539\n",
      "Epoch 1105/1600\n",
      "71/71 [==============================] - ETA: 0s - loss: 6.0430 - accuracy: 0.6440"
     ]
    },
    {
     "name": "stderr",
     "output_type": "stream",
     "text": [
      "2024-03-12 00:20 INFO End of Epoch 1105 - Loss: 6.0430\n"
     ]
    },
    {
     "name": "stdout",
     "output_type": "stream",
     "text": [
      "71/71 [==============================] - 21s 293ms/step - loss: 6.0430 - accuracy: 0.6440\n",
      "Epoch 1106/1600\n",
      "71/71 [==============================] - ETA: 0s - loss: 5.6366 - accuracy: 0.6418"
     ]
    },
    {
     "name": "stderr",
     "output_type": "stream",
     "text": [
      "2024-03-12 00:21 INFO End of Epoch 1106 - Loss: 5.6366\n"
     ]
    },
    {
     "name": "stdout",
     "output_type": "stream",
     "text": [
      "71/71 [==============================] - 21s 294ms/step - loss: 5.6366 - accuracy: 0.6418\n",
      "Epoch 1107/1600\n",
      "71/71 [==============================] - ETA: 0s - loss: 4.1306 - accuracy: 0.6361"
     ]
    },
    {
     "name": "stderr",
     "output_type": "stream",
     "text": [
      "2024-03-12 00:21 INFO End of Epoch 1107 - Loss: 4.1306\n"
     ]
    },
    {
     "name": "stdout",
     "output_type": "stream",
     "text": [
      "71/71 [==============================] - 21s 292ms/step - loss: 4.1306 - accuracy: 0.6361\n",
      "Epoch 1108/1600\n",
      "71/71 [==============================] - ETA: 0s - loss: 7.5426 - accuracy: 0.6356"
     ]
    },
    {
     "name": "stderr",
     "output_type": "stream",
     "text": [
      "2024-03-12 00:21 INFO End of Epoch 1108 - Loss: 7.5426\n"
     ]
    },
    {
     "name": "stdout",
     "output_type": "stream",
     "text": [
      "71/71 [==============================] - 21s 294ms/step - loss: 7.5426 - accuracy: 0.6356\n",
      "Epoch 1109/1600\n",
      "71/71 [==============================] - ETA: 0s - loss: 8.4076 - accuracy: 0.6266"
     ]
    },
    {
     "name": "stderr",
     "output_type": "stream",
     "text": [
      "2024-03-12 00:22 INFO End of Epoch 1109 - Loss: 8.4076\n"
     ]
    },
    {
     "name": "stdout",
     "output_type": "stream",
     "text": [
      "71/71 [==============================] - 21s 290ms/step - loss: 8.4076 - accuracy: 0.6266\n",
      "Epoch 1110/1600\n",
      "71/71 [==============================] - ETA: 0s - loss: 8.3036 - accuracy: 0.6313"
     ]
    },
    {
     "name": "stderr",
     "output_type": "stream",
     "text": [
      "2024-03-12 00:22 INFO End of Epoch 1110 - Loss: 8.3036\n"
     ]
    },
    {
     "name": "stdout",
     "output_type": "stream",
     "text": [
      "71/71 [==============================] - 21s 294ms/step - loss: 8.3036 - accuracy: 0.6313\n",
      "Epoch 1111/1600\n",
      "71/71 [==============================] - ETA: 0s - loss: 6.5286 - accuracy: 0.6386"
     ]
    },
    {
     "name": "stderr",
     "output_type": "stream",
     "text": [
      "2024-03-12 00:23 INFO End of Epoch 1111 - Loss: 6.5286\n"
     ]
    },
    {
     "name": "stdout",
     "output_type": "stream",
     "text": [
      "71/71 [==============================] - 21s 292ms/step - loss: 6.5286 - accuracy: 0.6386\n",
      "Epoch 1112/1600\n",
      "71/71 [==============================] - ETA: 0s - loss: 5.3650 - accuracy: 0.6499"
     ]
    },
    {
     "name": "stderr",
     "output_type": "stream",
     "text": [
      "2024-03-12 00:23 INFO End of Epoch 1112 - Loss: 5.3650\n"
     ]
    },
    {
     "name": "stdout",
     "output_type": "stream",
     "text": [
      "71/71 [==============================] - 21s 293ms/step - loss: 5.3650 - accuracy: 0.6499\n",
      "Epoch 1113/1600\n",
      "71/71 [==============================] - ETA: 0s - loss: 5.3388 - accuracy: 0.6516"
     ]
    },
    {
     "name": "stderr",
     "output_type": "stream",
     "text": [
      "2024-03-12 00:24 INFO End of Epoch 1113 - Loss: 5.3388\n"
     ]
    },
    {
     "name": "stdout",
     "output_type": "stream",
     "text": [
      "71/71 [==============================] - 21s 293ms/step - loss: 5.3388 - accuracy: 0.6516\n",
      "Epoch 1114/1600\n",
      "71/71 [==============================] - ETA: 0s - loss: 6.2660 - accuracy: 0.6462"
     ]
    },
    {
     "name": "stderr",
     "output_type": "stream",
     "text": [
      "2024-03-12 00:24 INFO End of Epoch 1114 - Loss: 6.2660\n"
     ]
    },
    {
     "name": "stdout",
     "output_type": "stream",
     "text": [
      "71/71 [==============================] - 21s 292ms/step - loss: 6.2660 - accuracy: 0.6462\n",
      "Epoch 1115/1600\n",
      "71/71 [==============================] - ETA: 0s - loss: 6.4725 - accuracy: 0.6506"
     ]
    },
    {
     "name": "stderr",
     "output_type": "stream",
     "text": [
      "2024-03-12 00:25 INFO End of Epoch 1115 - Loss: 6.4725\n"
     ]
    },
    {
     "name": "stdout",
     "output_type": "stream",
     "text": [
      "71/71 [==============================] - 21s 292ms/step - loss: 6.4725 - accuracy: 0.6506\n",
      "Epoch 1116/1600\n",
      "71/71 [==============================] - ETA: 0s - loss: 7.2050 - accuracy: 0.6333"
     ]
    },
    {
     "name": "stderr",
     "output_type": "stream",
     "text": [
      "2024-03-12 00:25 INFO End of Epoch 1116 - Loss: 7.2050\n"
     ]
    },
    {
     "name": "stdout",
     "output_type": "stream",
     "text": [
      "71/71 [==============================] - 21s 292ms/step - loss: 7.2050 - accuracy: 0.6333\n",
      "Epoch 1117/1600\n",
      "71/71 [==============================] - ETA: 0s - loss: 3.2602 - accuracy: 0.6103"
     ]
    },
    {
     "name": "stderr",
     "output_type": "stream",
     "text": [
      "2024-03-12 00:26 INFO End of Epoch 1117 - Loss: 3.2602\n"
     ]
    },
    {
     "name": "stdout",
     "output_type": "stream",
     "text": [
      "71/71 [==============================] - 21s 294ms/step - loss: 3.2602 - accuracy: 0.6103\n",
      "Epoch 1118/1600\n",
      "71/71 [==============================] - ETA: 0s - loss: 3.1082 - accuracy: 0.6072"
     ]
    },
    {
     "name": "stderr",
     "output_type": "stream",
     "text": [
      "2024-03-12 00:26 INFO End of Epoch 1118 - Loss: 3.1082\n"
     ]
    },
    {
     "name": "stdout",
     "output_type": "stream",
     "text": [
      "71/71 [==============================] - 21s 293ms/step - loss: 3.1082 - accuracy: 0.6072\n",
      "Epoch 1119/1600\n",
      "71/71 [==============================] - ETA: 0s - loss: 2.4108 - accuracy: 0.6320"
     ]
    },
    {
     "name": "stderr",
     "output_type": "stream",
     "text": [
      "2024-03-12 00:26 INFO End of Epoch 1119 - Loss: 2.4108\n"
     ]
    },
    {
     "name": "stdout",
     "output_type": "stream",
     "text": [
      "71/71 [==============================] - 21s 294ms/step - loss: 2.4108 - accuracy: 0.6320\n",
      "Epoch 1120/1600\n",
      "71/71 [==============================] - ETA: 0s - loss: 2.1582 - accuracy: 0.6271"
     ]
    },
    {
     "name": "stderr",
     "output_type": "stream",
     "text": [
      "2024-03-12 00:27 INFO End of Epoch 1120 - Loss: 2.1582\n"
     ]
    },
    {
     "name": "stdout",
     "output_type": "stream",
     "text": [
      "71/71 [==============================] - 21s 292ms/step - loss: 2.1582 - accuracy: 0.6271\n",
      "Epoch 1121/1600\n",
      "71/71 [==============================] - ETA: 0s - loss: 2.6886 - accuracy: 0.6374"
     ]
    },
    {
     "name": "stderr",
     "output_type": "stream",
     "text": [
      "2024-03-12 00:27 INFO End of Epoch 1121 - Loss: 2.6886\n"
     ]
    },
    {
     "name": "stdout",
     "output_type": "stream",
     "text": [
      "71/71 [==============================] - 21s 293ms/step - loss: 2.6886 - accuracy: 0.6374\n",
      "Epoch 1122/1600\n",
      "71/71 [==============================] - ETA: 0s - loss: 2.7742 - accuracy: 0.6312"
     ]
    },
    {
     "name": "stderr",
     "output_type": "stream",
     "text": [
      "2024-03-12 00:28 INFO End of Epoch 1122 - Loss: 2.7742\n"
     ]
    },
    {
     "name": "stdout",
     "output_type": "stream",
     "text": [
      "71/71 [==============================] - 21s 293ms/step - loss: 2.7742 - accuracy: 0.6312\n",
      "Epoch 1123/1600\n",
      "71/71 [==============================] - ETA: 0s - loss: 3.5050 - accuracy: 0.6327"
     ]
    },
    {
     "name": "stderr",
     "output_type": "stream",
     "text": [
      "2024-03-12 00:28 INFO End of Epoch 1123 - Loss: 3.5050\n"
     ]
    },
    {
     "name": "stdout",
     "output_type": "stream",
     "text": [
      "71/71 [==============================] - 21s 292ms/step - loss: 3.5050 - accuracy: 0.6327\n",
      "Epoch 1124/1600\n",
      "71/71 [==============================] - ETA: 0s - loss: 4.3971 - accuracy: 0.6518"
     ]
    },
    {
     "name": "stderr",
     "output_type": "stream",
     "text": [
      "2024-03-12 00:29 INFO End of Epoch 1124 - Loss: 4.3971\n"
     ]
    },
    {
     "name": "stdout",
     "output_type": "stream",
     "text": [
      "71/71 [==============================] - 21s 293ms/step - loss: 4.3971 - accuracy: 0.6518\n",
      "Epoch 1125/1600\n",
      "71/71 [==============================] - ETA: 0s - loss: 5.0508 - accuracy: 0.6195"
     ]
    },
    {
     "name": "stderr",
     "output_type": "stream",
     "text": [
      "2024-03-12 00:29 INFO End of Epoch 1125 - Loss: 5.0508\n"
     ]
    },
    {
     "name": "stdout",
     "output_type": "stream",
     "text": [
      "71/71 [==============================] - 21s 293ms/step - loss: 5.0508 - accuracy: 0.6195\n",
      "Epoch 1126/1600\n",
      "71/71 [==============================] - ETA: 0s - loss: 5.6128 - accuracy: 0.6025"
     ]
    },
    {
     "name": "stderr",
     "output_type": "stream",
     "text": [
      "2024-03-12 00:30 INFO End of Epoch 1126 - Loss: 5.6128\n"
     ]
    },
    {
     "name": "stdout",
     "output_type": "stream",
     "text": [
      "71/71 [==============================] - 21s 294ms/step - loss: 5.6128 - accuracy: 0.6025\n",
      "Epoch 1127/1600\n",
      "71/71 [==============================] - ETA: 0s - loss: 6.9063 - accuracy: 0.6056"
     ]
    },
    {
     "name": "stderr",
     "output_type": "stream",
     "text": [
      "2024-03-12 00:30 INFO End of Epoch 1127 - Loss: 6.9063\n"
     ]
    },
    {
     "name": "stdout",
     "output_type": "stream",
     "text": [
      "71/71 [==============================] - 21s 292ms/step - loss: 6.9063 - accuracy: 0.6056\n",
      "Epoch 1128/1600\n",
      "71/71 [==============================] - ETA: 0s - loss: 6.8177 - accuracy: 0.6315"
     ]
    },
    {
     "name": "stderr",
     "output_type": "stream",
     "text": [
      "2024-03-12 00:30 INFO End of Epoch 1128 - Loss: 6.8177\n"
     ]
    },
    {
     "name": "stdout",
     "output_type": "stream",
     "text": [
      "71/71 [==============================] - 21s 294ms/step - loss: 6.8177 - accuracy: 0.6315\n",
      "Epoch 1129/1600\n",
      "71/71 [==============================] - ETA: 0s - loss: 6.9797 - accuracy: 0.6272"
     ]
    },
    {
     "name": "stderr",
     "output_type": "stream",
     "text": [
      "2024-03-12 00:31 INFO End of Epoch 1129 - Loss: 6.9797\n"
     ]
    },
    {
     "name": "stdout",
     "output_type": "stream",
     "text": [
      "71/71 [==============================] - 21s 293ms/step - loss: 6.9797 - accuracy: 0.6272\n",
      "Epoch 1130/1600\n",
      "71/71 [==============================] - ETA: 0s - loss: 4.8000 - accuracy: 0.6413"
     ]
    },
    {
     "name": "stderr",
     "output_type": "stream",
     "text": [
      "2024-03-12 00:31 INFO End of Epoch 1130 - Loss: 4.8000\n"
     ]
    },
    {
     "name": "stdout",
     "output_type": "stream",
     "text": [
      "71/71 [==============================] - 21s 293ms/step - loss: 4.8000 - accuracy: 0.6413\n",
      "Epoch 1131/1600\n",
      "71/71 [==============================] - ETA: 0s - loss: 5.6143 - accuracy: 0.6191"
     ]
    },
    {
     "name": "stderr",
     "output_type": "stream",
     "text": [
      "2024-03-12 00:32 INFO End of Epoch 1131 - Loss: 5.6143\n"
     ]
    },
    {
     "name": "stdout",
     "output_type": "stream",
     "text": [
      "71/71 [==============================] - 21s 293ms/step - loss: 5.6143 - accuracy: 0.6191\n",
      "Epoch 1132/1600\n",
      "71/71 [==============================] - ETA: 0s - loss: 5.3116 - accuracy: 0.6191"
     ]
    },
    {
     "name": "stderr",
     "output_type": "stream",
     "text": [
      "2024-03-12 00:32 INFO End of Epoch 1132 - Loss: 5.3116\n"
     ]
    },
    {
     "name": "stdout",
     "output_type": "stream",
     "text": [
      "71/71 [==============================] - 21s 294ms/step - loss: 5.3116 - accuracy: 0.6191\n",
      "Epoch 1133/1600\n",
      "71/71 [==============================] - ETA: 0s - loss: 3.9383 - accuracy: 0.6303"
     ]
    },
    {
     "name": "stderr",
     "output_type": "stream",
     "text": [
      "2024-03-12 00:33 INFO End of Epoch 1133 - Loss: 3.9383\n"
     ]
    },
    {
     "name": "stdout",
     "output_type": "stream",
     "text": [
      "71/71 [==============================] - 21s 293ms/step - loss: 3.9383 - accuracy: 0.6303\n",
      "Epoch 1134/1600\n",
      "71/71 [==============================] - ETA: 0s - loss: 5.0052 - accuracy: 0.6380"
     ]
    },
    {
     "name": "stderr",
     "output_type": "stream",
     "text": [
      "2024-03-12 00:33 INFO End of Epoch 1134 - Loss: 5.0052\n"
     ]
    },
    {
     "name": "stdout",
     "output_type": "stream",
     "text": [
      "71/71 [==============================] - 21s 292ms/step - loss: 5.0052 - accuracy: 0.6380\n",
      "Epoch 1135/1600\n",
      "71/71 [==============================] - ETA: 0s - loss: 7.7610 - accuracy: 0.6305"
     ]
    },
    {
     "name": "stderr",
     "output_type": "stream",
     "text": [
      "2024-03-12 00:34 INFO End of Epoch 1135 - Loss: 7.7610\n"
     ]
    },
    {
     "name": "stdout",
     "output_type": "stream",
     "text": [
      "71/71 [==============================] - 21s 294ms/step - loss: 7.7610 - accuracy: 0.6305\n",
      "Epoch 1136/1600\n",
      "71/71 [==============================] - ETA: 0s - loss: 8.6290 - accuracy: 0.6178"
     ]
    },
    {
     "name": "stderr",
     "output_type": "stream",
     "text": [
      "2024-03-12 00:34 INFO End of Epoch 1136 - Loss: 8.6290\n"
     ]
    },
    {
     "name": "stdout",
     "output_type": "stream",
     "text": [
      "71/71 [==============================] - 21s 293ms/step - loss: 8.6290 - accuracy: 0.6178\n",
      "Epoch 1137/1600\n",
      "71/71 [==============================] - ETA: 0s - loss: 6.0786 - accuracy: 0.6237"
     ]
    },
    {
     "name": "stderr",
     "output_type": "stream",
     "text": [
      "2024-03-12 00:34 INFO End of Epoch 1137 - Loss: 6.0786\n"
     ]
    },
    {
     "name": "stdout",
     "output_type": "stream",
     "text": [
      "71/71 [==============================] - 21s 293ms/step - loss: 6.0786 - accuracy: 0.6237\n",
      "Epoch 1138/1600\n",
      "71/71 [==============================] - ETA: 0s - loss: 7.4602 - accuracy: 0.6234"
     ]
    },
    {
     "name": "stderr",
     "output_type": "stream",
     "text": [
      "2024-03-12 00:35 INFO End of Epoch 1138 - Loss: 7.4602\n"
     ]
    },
    {
     "name": "stdout",
     "output_type": "stream",
     "text": [
      "71/71 [==============================] - 21s 293ms/step - loss: 7.4602 - accuracy: 0.6234\n",
      "Epoch 1139/1600\n",
      "71/71 [==============================] - ETA: 0s - loss: 6.1973 - accuracy: 0.6281"
     ]
    },
    {
     "name": "stderr",
     "output_type": "stream",
     "text": [
      "2024-03-12 00:35 INFO End of Epoch 1139 - Loss: 6.1973\n"
     ]
    },
    {
     "name": "stdout",
     "output_type": "stream",
     "text": [
      "71/71 [==============================] - 21s 293ms/step - loss: 6.1973 - accuracy: 0.6281\n",
      "Epoch 1140/1600\n",
      "71/71 [==============================] - ETA: 0s - loss: 4.7050 - accuracy: 0.6425"
     ]
    },
    {
     "name": "stderr",
     "output_type": "stream",
     "text": [
      "2024-03-12 00:36 INFO End of Epoch 1140 - Loss: 4.7050\n"
     ]
    },
    {
     "name": "stdout",
     "output_type": "stream",
     "text": [
      "71/71 [==============================] - 21s 294ms/step - loss: 4.7050 - accuracy: 0.6425\n",
      "Epoch 1141/1600\n",
      "71/71 [==============================] - ETA: 0s - loss: 3.0462 - accuracy: 0.6451"
     ]
    },
    {
     "name": "stderr",
     "output_type": "stream",
     "text": [
      "2024-03-12 00:36 INFO End of Epoch 1141 - Loss: 3.0462\n"
     ]
    },
    {
     "name": "stdout",
     "output_type": "stream",
     "text": [
      "71/71 [==============================] - 21s 293ms/step - loss: 3.0462 - accuracy: 0.6451\n",
      "Epoch 1142/1600\n",
      "71/71 [==============================] - ETA: 0s - loss: 2.6674 - accuracy: 0.6525"
     ]
    },
    {
     "name": "stderr",
     "output_type": "stream",
     "text": [
      "2024-03-12 00:37 INFO End of Epoch 1142 - Loss: 2.6674\n"
     ]
    },
    {
     "name": "stdout",
     "output_type": "stream",
     "text": [
      "71/71 [==============================] - 21s 294ms/step - loss: 2.6674 - accuracy: 0.6525\n",
      "Epoch 1143/1600\n",
      "71/71 [==============================] - ETA: 0s - loss: 2.6281 - accuracy: 0.6529"
     ]
    },
    {
     "name": "stderr",
     "output_type": "stream",
     "text": [
      "2024-03-12 00:37 INFO End of Epoch 1143 - Loss: 2.6281\n"
     ]
    },
    {
     "name": "stdout",
     "output_type": "stream",
     "text": [
      "71/71 [==============================] - 21s 293ms/step - loss: 2.6281 - accuracy: 0.6529\n",
      "Epoch 1144/1600\n",
      "71/71 [==============================] - ETA: 0s - loss: 2.6896 - accuracy: 0.6600"
     ]
    },
    {
     "name": "stderr",
     "output_type": "stream",
     "text": [
      "2024-03-12 00:38 INFO End of Epoch 1144 - Loss: 2.6896\n"
     ]
    },
    {
     "name": "stdout",
     "output_type": "stream",
     "text": [
      "71/71 [==============================] - 21s 293ms/step - loss: 2.6896 - accuracy: 0.6600\n",
      "Epoch 1145/1600\n",
      "71/71 [==============================] - ETA: 0s - loss: 3.2740 - accuracy: 0.6577"
     ]
    },
    {
     "name": "stderr",
     "output_type": "stream",
     "text": [
      "2024-03-12 00:38 INFO End of Epoch 1145 - Loss: 3.2740\n"
     ]
    },
    {
     "name": "stdout",
     "output_type": "stream",
     "text": [
      "71/71 [==============================] - 21s 294ms/step - loss: 3.2740 - accuracy: 0.6577\n",
      "Epoch 1146/1600\n",
      "71/71 [==============================] - ETA: 0s - loss: 6.0949 - accuracy: 0.6445"
     ]
    },
    {
     "name": "stderr",
     "output_type": "stream",
     "text": [
      "2024-03-12 00:38 INFO End of Epoch 1146 - Loss: 6.0949\n"
     ]
    },
    {
     "name": "stdout",
     "output_type": "stream",
     "text": [
      "71/71 [==============================] - 21s 293ms/step - loss: 6.0949 - accuracy: 0.6445\n",
      "Epoch 1147/1600\n",
      "71/71 [==============================] - ETA: 0s - loss: 9.9728 - accuracy: 0.6413"
     ]
    },
    {
     "name": "stderr",
     "output_type": "stream",
     "text": [
      "2024-03-12 00:39 INFO End of Epoch 1147 - Loss: 9.9728\n"
     ]
    },
    {
     "name": "stdout",
     "output_type": "stream",
     "text": [
      "71/71 [==============================] - 21s 292ms/step - loss: 9.9728 - accuracy: 0.6413\n",
      "Epoch 1148/1600\n",
      "71/71 [==============================] - ETA: 0s - loss: 9.0716 - accuracy: 0.6120"
     ]
    },
    {
     "name": "stderr",
     "output_type": "stream",
     "text": [
      "2024-03-12 00:39 INFO End of Epoch 1148 - Loss: 9.0716\n"
     ]
    },
    {
     "name": "stdout",
     "output_type": "stream",
     "text": [
      "71/71 [==============================] - 21s 292ms/step - loss: 9.0716 - accuracy: 0.6120\n",
      "Epoch 1149/1600\n",
      "71/71 [==============================] - ETA: 0s - loss: 5.4859 - accuracy: 0.6332"
     ]
    },
    {
     "name": "stderr",
     "output_type": "stream",
     "text": [
      "2024-03-12 00:40 INFO End of Epoch 1149 - Loss: 5.4859\n"
     ]
    },
    {
     "name": "stdout",
     "output_type": "stream",
     "text": [
      "71/71 [==============================] - 21s 293ms/step - loss: 5.4859 - accuracy: 0.6332\n",
      "Epoch 1150/1600\n",
      "71/71 [==============================] - ETA: 0s - loss: 7.7663 - accuracy: 0.6197"
     ]
    },
    {
     "name": "stderr",
     "output_type": "stream",
     "text": [
      "2024-03-12 00:40 INFO End of Epoch 1150 - Loss: 7.7663\n"
     ]
    },
    {
     "name": "stdout",
     "output_type": "stream",
     "text": [
      "71/71 [==============================] - 21s 292ms/step - loss: 7.7663 - accuracy: 0.6197\n",
      "Epoch 1151/1600\n",
      "71/71 [==============================] - ETA: 0s - loss: 7.9508 - accuracy: 0.6440"
     ]
    },
    {
     "name": "stderr",
     "output_type": "stream",
     "text": [
      "2024-03-12 00:41 INFO End of Epoch 1151 - Loss: 7.9508\n"
     ]
    },
    {
     "name": "stdout",
     "output_type": "stream",
     "text": [
      "71/71 [==============================] - 21s 293ms/step - loss: 7.9508 - accuracy: 0.6440\n",
      "Epoch 1152/1600\n",
      "71/71 [==============================] - ETA: 0s - loss: 5.1664 - accuracy: 0.6515"
     ]
    },
    {
     "name": "stderr",
     "output_type": "stream",
     "text": [
      "2024-03-12 00:41 INFO End of Epoch 1152 - Loss: 5.1664\n"
     ]
    },
    {
     "name": "stdout",
     "output_type": "stream",
     "text": [
      "71/71 [==============================] - 21s 293ms/step - loss: 5.1664 - accuracy: 0.6515\n",
      "Epoch 1153/1600\n",
      "71/71 [==============================] - ETA: 0s - loss: 5.4166 - accuracy: 0.6579"
     ]
    },
    {
     "name": "stderr",
     "output_type": "stream",
     "text": [
      "2024-03-12 00:42 INFO End of Epoch 1153 - Loss: 5.4166\n"
     ]
    },
    {
     "name": "stdout",
     "output_type": "stream",
     "text": [
      "71/71 [==============================] - 21s 292ms/step - loss: 5.4166 - accuracy: 0.6579\n",
      "Epoch 1154/1600\n",
      "71/71 [==============================] - ETA: 0s - loss: 4.3059 - accuracy: 0.6476"
     ]
    },
    {
     "name": "stderr",
     "output_type": "stream",
     "text": [
      "2024-03-12 00:42 INFO End of Epoch 1154 - Loss: 4.3059\n"
     ]
    },
    {
     "name": "stdout",
     "output_type": "stream",
     "text": [
      "71/71 [==============================] - 21s 294ms/step - loss: 4.3059 - accuracy: 0.6476\n",
      "Epoch 1155/1600\n",
      "71/71 [==============================] - ETA: 0s - loss: 5.5311 - accuracy: 0.6617"
     ]
    },
    {
     "name": "stderr",
     "output_type": "stream",
     "text": [
      "2024-03-12 00:42 INFO End of Epoch 1155 - Loss: 5.5311\n"
     ]
    },
    {
     "name": "stdout",
     "output_type": "stream",
     "text": [
      "71/71 [==============================] - 21s 292ms/step - loss: 5.5311 - accuracy: 0.6617\n",
      "Epoch 1156/1600\n",
      "71/71 [==============================] - ETA: 0s - loss: 5.6144 - accuracy: 0.6589"
     ]
    },
    {
     "name": "stderr",
     "output_type": "stream",
     "text": [
      "2024-03-12 00:43 INFO End of Epoch 1156 - Loss: 5.6144\n"
     ]
    },
    {
     "name": "stdout",
     "output_type": "stream",
     "text": [
      "71/71 [==============================] - 21s 294ms/step - loss: 5.6144 - accuracy: 0.6589\n",
      "Epoch 1157/1600\n",
      "71/71 [==============================] - ETA: 0s - loss: 4.5063 - accuracy: 0.6543"
     ]
    },
    {
     "name": "stderr",
     "output_type": "stream",
     "text": [
      "2024-03-12 00:43 INFO End of Epoch 1157 - Loss: 4.5063\n"
     ]
    },
    {
     "name": "stdout",
     "output_type": "stream",
     "text": [
      "71/71 [==============================] - 21s 294ms/step - loss: 4.5063 - accuracy: 0.6543\n",
      "Epoch 1158/1600\n",
      "71/71 [==============================] - ETA: 0s - loss: 2.7086 - accuracy: 0.6627"
     ]
    },
    {
     "name": "stderr",
     "output_type": "stream",
     "text": [
      "2024-03-12 00:44 INFO End of Epoch 1158 - Loss: 2.7086\n"
     ]
    },
    {
     "name": "stdout",
     "output_type": "stream",
     "text": [
      "71/71 [==============================] - 21s 294ms/step - loss: 2.7086 - accuracy: 0.6627\n",
      "Epoch 1159/1600\n",
      "71/71 [==============================] - ETA: 0s - loss: 2.3949 - accuracy: 0.6674"
     ]
    },
    {
     "name": "stderr",
     "output_type": "stream",
     "text": [
      "2024-03-12 00:44 INFO End of Epoch 1159 - Loss: 2.3949\n"
     ]
    },
    {
     "name": "stdout",
     "output_type": "stream",
     "text": [
      "71/71 [==============================] - 21s 293ms/step - loss: 2.3949 - accuracy: 0.6674\n",
      "Epoch 1160/1600\n",
      "71/71 [==============================] - ETA: 0s - loss: 2.0878 - accuracy: 0.6766"
     ]
    },
    {
     "name": "stderr",
     "output_type": "stream",
     "text": [
      "2024-03-12 00:45 INFO End of Epoch 1160 - Loss: 2.0878\n"
     ]
    },
    {
     "name": "stdout",
     "output_type": "stream",
     "text": [
      "71/71 [==============================] - 21s 293ms/step - loss: 2.0878 - accuracy: 0.6766\n",
      "Epoch 1161/1600\n",
      "71/71 [==============================] - ETA: 0s - loss: 2.1748 - accuracy: 0.6740"
     ]
    },
    {
     "name": "stderr",
     "output_type": "stream",
     "text": [
      "2024-03-12 00:45 INFO End of Epoch 1161 - Loss: 2.1748\n"
     ]
    },
    {
     "name": "stdout",
     "output_type": "stream",
     "text": [
      "71/71 [==============================] - 21s 294ms/step - loss: 2.1748 - accuracy: 0.6740\n",
      "Epoch 1162/1600\n",
      "71/71 [==============================] - ETA: 0s - loss: 2.4017 - accuracy: 0.6725"
     ]
    },
    {
     "name": "stderr",
     "output_type": "stream",
     "text": [
      "2024-03-12 00:46 INFO End of Epoch 1162 - Loss: 2.4017\n"
     ]
    },
    {
     "name": "stdout",
     "output_type": "stream",
     "text": [
      "71/71 [==============================] - 21s 293ms/step - loss: 2.4017 - accuracy: 0.6725\n",
      "Epoch 1163/1600\n",
      "71/71 [==============================] - ETA: 0s - loss: 2.6401 - accuracy: 0.6780"
     ]
    },
    {
     "name": "stderr",
     "output_type": "stream",
     "text": [
      "2024-03-12 00:46 INFO End of Epoch 1163 - Loss: 2.6401\n"
     ]
    },
    {
     "name": "stdout",
     "output_type": "stream",
     "text": [
      "71/71 [==============================] - 21s 293ms/step - loss: 2.6401 - accuracy: 0.6780\n",
      "Epoch 1164/1600\n",
      "71/71 [==============================] - ETA: 0s - loss: 3.1678 - accuracy: 0.6806"
     ]
    },
    {
     "name": "stderr",
     "output_type": "stream",
     "text": [
      "2024-03-12 00:46 INFO End of Epoch 1164 - Loss: 3.1678\n"
     ]
    },
    {
     "name": "stdout",
     "output_type": "stream",
     "text": [
      "71/71 [==============================] - 21s 292ms/step - loss: 3.1678 - accuracy: 0.6806\n",
      "Epoch 1165/1600\n",
      "71/71 [==============================] - ETA: 0s - loss: 4.2158 - accuracy: 0.6672"
     ]
    },
    {
     "name": "stderr",
     "output_type": "stream",
     "text": [
      "2024-03-12 00:47 INFO End of Epoch 1165 - Loss: 4.2158\n"
     ]
    },
    {
     "name": "stdout",
     "output_type": "stream",
     "text": [
      "71/71 [==============================] - 21s 293ms/step - loss: 4.2158 - accuracy: 0.6672\n",
      "Epoch 1166/1600\n",
      "71/71 [==============================] - ETA: 0s - loss: 7.7473 - accuracy: 0.6587"
     ]
    },
    {
     "name": "stderr",
     "output_type": "stream",
     "text": [
      "2024-03-12 00:47 INFO End of Epoch 1166 - Loss: 7.7473\n"
     ]
    },
    {
     "name": "stdout",
     "output_type": "stream",
     "text": [
      "71/71 [==============================] - 21s 294ms/step - loss: 7.7473 - accuracy: 0.6587\n",
      "Epoch 1167/1600\n",
      "71/71 [==============================] - ETA: 0s - loss: 10.3812 - accuracy: 0.6373"
     ]
    },
    {
     "name": "stderr",
     "output_type": "stream",
     "text": [
      "2024-03-12 00:48 INFO End of Epoch 1167 - Loss: 10.3812\n"
     ]
    },
    {
     "name": "stdout",
     "output_type": "stream",
     "text": [
      "71/71 [==============================] - 21s 293ms/step - loss: 10.3812 - accuracy: 0.6373\n",
      "Epoch 1168/1600\n",
      "71/71 [==============================] - ETA: 0s - loss: 11.6831 - accuracy: 0.6025"
     ]
    },
    {
     "name": "stderr",
     "output_type": "stream",
     "text": [
      "2024-03-12 00:48 INFO End of Epoch 1168 - Loss: 11.6831\n"
     ]
    },
    {
     "name": "stdout",
     "output_type": "stream",
     "text": [
      "71/71 [==============================] - 21s 292ms/step - loss: 11.6831 - accuracy: 0.6025\n",
      "Epoch 1169/1600\n",
      "71/71 [==============================] - ETA: 0s - loss: 9.6895 - accuracy: 0.6387"
     ]
    },
    {
     "name": "stderr",
     "output_type": "stream",
     "text": [
      "2024-03-12 00:49 INFO End of Epoch 1169 - Loss: 9.6895\n"
     ]
    },
    {
     "name": "stdout",
     "output_type": "stream",
     "text": [
      "71/71 [==============================] - 21s 289ms/step - loss: 9.6895 - accuracy: 0.6387\n",
      "Epoch 1170/1600\n",
      "71/71 [==============================] - ETA: 0s - loss: 6.9447 - accuracy: 0.6332"
     ]
    },
    {
     "name": "stderr",
     "output_type": "stream",
     "text": [
      "2024-03-12 00:49 INFO End of Epoch 1170 - Loss: 6.9447\n"
     ]
    },
    {
     "name": "stdout",
     "output_type": "stream",
     "text": [
      "71/71 [==============================] - 21s 294ms/step - loss: 6.9447 - accuracy: 0.6332\n",
      "Epoch 1171/1600\n",
      "71/71 [==============================] - ETA: 0s - loss: 6.5542 - accuracy: 0.6360"
     ]
    },
    {
     "name": "stderr",
     "output_type": "stream",
     "text": [
      "2024-03-12 00:50 INFO End of Epoch 1171 - Loss: 6.5542\n"
     ]
    },
    {
     "name": "stdout",
     "output_type": "stream",
     "text": [
      "71/71 [==============================] - 21s 293ms/step - loss: 6.5542 - accuracy: 0.6360\n",
      "Epoch 1172/1600\n",
      "71/71 [==============================] - ETA: 0s - loss: 8.6616 - accuracy: 0.6229"
     ]
    },
    {
     "name": "stderr",
     "output_type": "stream",
     "text": [
      "2024-03-12 00:50 INFO End of Epoch 1172 - Loss: 8.6616\n"
     ]
    },
    {
     "name": "stdout",
     "output_type": "stream",
     "text": [
      "71/71 [==============================] - 21s 291ms/step - loss: 8.6616 - accuracy: 0.6229\n",
      "Epoch 1173/1600\n",
      "71/71 [==============================] - ETA: 0s - loss: 6.4271 - accuracy: 0.6136"
     ]
    },
    {
     "name": "stderr",
     "output_type": "stream",
     "text": [
      "2024-03-12 00:50 INFO End of Epoch 1173 - Loss: 6.4271\n"
     ]
    },
    {
     "name": "stdout",
     "output_type": "stream",
     "text": [
      "71/71 [==============================] - 21s 293ms/step - loss: 6.4271 - accuracy: 0.6136\n",
      "Epoch 1174/1600\n",
      "71/71 [==============================] - ETA: 0s - loss: 4.1813 - accuracy: 0.6300"
     ]
    },
    {
     "name": "stderr",
     "output_type": "stream",
     "text": [
      "2024-03-12 00:51 INFO End of Epoch 1174 - Loss: 4.1813\n"
     ]
    },
    {
     "name": "stdout",
     "output_type": "stream",
     "text": [
      "71/71 [==============================] - 21s 293ms/step - loss: 4.1813 - accuracy: 0.6300\n",
      "Epoch 1175/1600\n",
      "71/71 [==============================] - ETA: 0s - loss: 3.7537 - accuracy: 0.6469"
     ]
    },
    {
     "name": "stderr",
     "output_type": "stream",
     "text": [
      "2024-03-12 00:51 INFO End of Epoch 1175 - Loss: 3.7537\n"
     ]
    },
    {
     "name": "stdout",
     "output_type": "stream",
     "text": [
      "71/71 [==============================] - 21s 292ms/step - loss: 3.7537 - accuracy: 0.6469\n",
      "Epoch 1176/1600\n",
      "71/71 [==============================] - ETA: 0s - loss: 4.1532 - accuracy: 0.6505"
     ]
    },
    {
     "name": "stderr",
     "output_type": "stream",
     "text": [
      "2024-03-12 00:52 INFO End of Epoch 1176 - Loss: 4.1532\n"
     ]
    },
    {
     "name": "stdout",
     "output_type": "stream",
     "text": [
      "71/71 [==============================] - 21s 292ms/step - loss: 4.1532 - accuracy: 0.6505\n",
      "Epoch 1177/1600\n",
      "71/71 [==============================] - ETA: 0s - loss: 3.2334 - accuracy: 0.6492"
     ]
    },
    {
     "name": "stderr",
     "output_type": "stream",
     "text": [
      "2024-03-12 00:52 INFO End of Epoch 1177 - Loss: 3.2334\n"
     ]
    },
    {
     "name": "stdout",
     "output_type": "stream",
     "text": [
      "71/71 [==============================] - 21s 294ms/step - loss: 3.2334 - accuracy: 0.6492\n",
      "Epoch 1178/1600\n",
      "71/71 [==============================] - ETA: 0s - loss: 2.2830 - accuracy: 0.6540"
     ]
    },
    {
     "name": "stderr",
     "output_type": "stream",
     "text": [
      "2024-03-12 00:53 INFO End of Epoch 1178 - Loss: 2.2830\n"
     ]
    },
    {
     "name": "stdout",
     "output_type": "stream",
     "text": [
      "71/71 [==============================] - 21s 292ms/step - loss: 2.2830 - accuracy: 0.6540\n",
      "Epoch 1179/1600\n",
      "71/71 [==============================] - ETA: 0s - loss: 3.4872 - accuracy: 0.6628"
     ]
    },
    {
     "name": "stderr",
     "output_type": "stream",
     "text": [
      "2024-03-12 00:53 INFO End of Epoch 1179 - Loss: 3.4872\n"
     ]
    },
    {
     "name": "stdout",
     "output_type": "stream",
     "text": [
      "71/71 [==============================] - 21s 292ms/step - loss: 3.4872 - accuracy: 0.6628\n",
      "Epoch 1180/1600\n",
      "71/71 [==============================] - ETA: 0s - loss: 3.7744 - accuracy: 0.6492"
     ]
    },
    {
     "name": "stderr",
     "output_type": "stream",
     "text": [
      "2024-03-12 00:54 INFO End of Epoch 1180 - Loss: 3.7744\n"
     ]
    },
    {
     "name": "stdout",
     "output_type": "stream",
     "text": [
      "71/71 [==============================] - 21s 294ms/step - loss: 3.7744 - accuracy: 0.6492\n",
      "Epoch 1181/1600\n",
      "71/71 [==============================] - ETA: 0s - loss: 2.9713 - accuracy: 0.6525"
     ]
    },
    {
     "name": "stderr",
     "output_type": "stream",
     "text": [
      "2024-03-12 00:54 INFO End of Epoch 1181 - Loss: 2.9713\n"
     ]
    },
    {
     "name": "stdout",
     "output_type": "stream",
     "text": [
      "71/71 [==============================] - 21s 295ms/step - loss: 2.9713 - accuracy: 0.6525\n",
      "Epoch 1182/1600\n",
      "71/71 [==============================] - ETA: 0s - loss: 3.9354 - accuracy: 0.6616"
     ]
    },
    {
     "name": "stderr",
     "output_type": "stream",
     "text": [
      "2024-03-12 00:54 INFO End of Epoch 1182 - Loss: 3.9354\n"
     ]
    },
    {
     "name": "stdout",
     "output_type": "stream",
     "text": [
      "71/71 [==============================] - 21s 292ms/step - loss: 3.9354 - accuracy: 0.6616\n",
      "Epoch 1183/1600\n",
      "71/71 [==============================] - ETA: 0s - loss: 5.2134 - accuracy: 0.6599"
     ]
    },
    {
     "name": "stderr",
     "output_type": "stream",
     "text": [
      "2024-03-12 00:55 INFO End of Epoch 1183 - Loss: 5.2134\n"
     ]
    },
    {
     "name": "stdout",
     "output_type": "stream",
     "text": [
      "71/71 [==============================] - 21s 294ms/step - loss: 5.2134 - accuracy: 0.6599\n",
      "Epoch 1184/1600\n",
      "71/71 [==============================] - ETA: 0s - loss: 5.5219 - accuracy: 0.6611"
     ]
    },
    {
     "name": "stderr",
     "output_type": "stream",
     "text": [
      "2024-03-12 00:55 INFO End of Epoch 1184 - Loss: 5.5219\n"
     ]
    },
    {
     "name": "stdout",
     "output_type": "stream",
     "text": [
      "71/71 [==============================] - 21s 293ms/step - loss: 5.5219 - accuracy: 0.6611\n",
      "Epoch 1185/1600\n",
      "71/71 [==============================] - ETA: 0s - loss: 8.3245 - accuracy: 0.6469"
     ]
    },
    {
     "name": "stderr",
     "output_type": "stream",
     "text": [
      "2024-03-12 00:56 INFO End of Epoch 1185 - Loss: 8.3245\n"
     ]
    },
    {
     "name": "stdout",
     "output_type": "stream",
     "text": [
      "71/71 [==============================] - 21s 293ms/step - loss: 8.3245 - accuracy: 0.6469\n",
      "Epoch 1186/1600\n",
      "71/71 [==============================] - ETA: 0s - loss: 9.7456 - accuracy: 0.6158"
     ]
    },
    {
     "name": "stderr",
     "output_type": "stream",
     "text": [
      "2024-03-12 00:56 INFO End of Epoch 1186 - Loss: 9.7456\n"
     ]
    },
    {
     "name": "stdout",
     "output_type": "stream",
     "text": [
      "71/71 [==============================] - 21s 294ms/step - loss: 9.7456 - accuracy: 0.6158\n",
      "Epoch 1187/1600\n",
      "71/71 [==============================] - ETA: 0s - loss: 8.9750 - accuracy: 0.5815"
     ]
    },
    {
     "name": "stderr",
     "output_type": "stream",
     "text": [
      "2024-03-12 00:57 INFO End of Epoch 1187 - Loss: 8.9750\n"
     ]
    },
    {
     "name": "stdout",
     "output_type": "stream",
     "text": [
      "71/71 [==============================] - 21s 294ms/step - loss: 8.9750 - accuracy: 0.5815\n",
      "Epoch 1188/1600\n",
      "71/71 [==============================] - ETA: 0s - loss: 6.3129 - accuracy: 0.5767"
     ]
    },
    {
     "name": "stderr",
     "output_type": "stream",
     "text": [
      "2024-03-12 00:57 INFO End of Epoch 1188 - Loss: 6.3129\n"
     ]
    },
    {
     "name": "stdout",
     "output_type": "stream",
     "text": [
      "71/71 [==============================] - 21s 293ms/step - loss: 6.3129 - accuracy: 0.5767\n",
      "Epoch 1189/1600\n",
      "71/71 [==============================] - ETA: 0s - loss: 4.2681 - accuracy: 0.6129"
     ]
    },
    {
     "name": "stderr",
     "output_type": "stream",
     "text": [
      "2024-03-12 00:58 INFO End of Epoch 1189 - Loss: 4.2681\n"
     ]
    },
    {
     "name": "stdout",
     "output_type": "stream",
     "text": [
      "71/71 [==============================] - 21s 293ms/step - loss: 4.2681 - accuracy: 0.6129\n",
      "Epoch 1190/1600\n",
      "71/71 [==============================] - ETA: 0s - loss: 3.7802 - accuracy: 0.5978"
     ]
    },
    {
     "name": "stderr",
     "output_type": "stream",
     "text": [
      "2024-03-12 00:58 INFO End of Epoch 1190 - Loss: 3.7802\n"
     ]
    },
    {
     "name": "stdout",
     "output_type": "stream",
     "text": [
      "71/71 [==============================] - 21s 293ms/step - loss: 3.7802 - accuracy: 0.5978\n",
      "Epoch 1191/1600\n",
      "71/71 [==============================] - ETA: 0s - loss: 3.7943 - accuracy: 0.6175"
     ]
    },
    {
     "name": "stderr",
     "output_type": "stream",
     "text": [
      "2024-03-12 00:59 INFO End of Epoch 1191 - Loss: 3.7943\n"
     ]
    },
    {
     "name": "stdout",
     "output_type": "stream",
     "text": [
      "71/71 [==============================] - 21s 292ms/step - loss: 3.7943 - accuracy: 0.6175\n",
      "Epoch 1192/1600\n",
      "71/71 [==============================] - ETA: 0s - loss: 3.8238 - accuracy: 0.6276"
     ]
    },
    {
     "name": "stderr",
     "output_type": "stream",
     "text": [
      "2024-03-12 00:59 INFO End of Epoch 1192 - Loss: 3.8238\n"
     ]
    },
    {
     "name": "stdout",
     "output_type": "stream",
     "text": [
      "71/71 [==============================] - 21s 292ms/step - loss: 3.8238 - accuracy: 0.6276\n",
      "Epoch 1193/1600\n",
      "71/71 [==============================] - ETA: 0s - loss: 4.2616 - accuracy: 0.5879"
     ]
    },
    {
     "name": "stderr",
     "output_type": "stream",
     "text": [
      "2024-03-12 00:59 INFO End of Epoch 1193 - Loss: 4.2616\n"
     ]
    },
    {
     "name": "stdout",
     "output_type": "stream",
     "text": [
      "71/71 [==============================] - 21s 293ms/step - loss: 4.2616 - accuracy: 0.5879\n",
      "Epoch 1194/1600\n",
      "71/71 [==============================] - ETA: 0s - loss: 4.1003 - accuracy: 0.5899"
     ]
    },
    {
     "name": "stderr",
     "output_type": "stream",
     "text": [
      "2024-03-12 01:00 INFO End of Epoch 1194 - Loss: 4.1003\n"
     ]
    },
    {
     "name": "stdout",
     "output_type": "stream",
     "text": [
      "71/71 [==============================] - 21s 293ms/step - loss: 4.1003 - accuracy: 0.5899\n",
      "Epoch 1195/1600\n",
      "71/71 [==============================] - ETA: 0s - loss: 4.5657 - accuracy: 0.6080"
     ]
    },
    {
     "name": "stderr",
     "output_type": "stream",
     "text": [
      "2024-03-12 01:00 INFO End of Epoch 1195 - Loss: 4.5657\n"
     ]
    },
    {
     "name": "stdout",
     "output_type": "stream",
     "text": [
      "71/71 [==============================] - 21s 294ms/step - loss: 4.5657 - accuracy: 0.6080\n",
      "Epoch 1196/1600\n",
      "71/71 [==============================] - ETA: 0s - loss: 4.4141 - accuracy: 0.6168"
     ]
    },
    {
     "name": "stderr",
     "output_type": "stream",
     "text": [
      "2024-03-12 01:01 INFO End of Epoch 1196 - Loss: 4.4141\n"
     ]
    },
    {
     "name": "stdout",
     "output_type": "stream",
     "text": [
      "71/71 [==============================] - 21s 289ms/step - loss: 4.4141 - accuracy: 0.6168\n",
      "Epoch 1197/1600\n",
      "71/71 [==============================] - ETA: 0s - loss: 4.4133 - accuracy: 0.6431"
     ]
    },
    {
     "name": "stderr",
     "output_type": "stream",
     "text": [
      "2024-03-12 01:01 INFO End of Epoch 1197 - Loss: 4.4133\n"
     ]
    },
    {
     "name": "stdout",
     "output_type": "stream",
     "text": [
      "71/71 [==============================] - 21s 293ms/step - loss: 4.4133 - accuracy: 0.6431\n",
      "Epoch 1198/1600\n",
      "71/71 [==============================] - ETA: 0s - loss: 4.9104 - accuracy: 0.6327"
     ]
    },
    {
     "name": "stderr",
     "output_type": "stream",
     "text": [
      "2024-03-12 01:02 INFO End of Epoch 1198 - Loss: 4.9104\n"
     ]
    },
    {
     "name": "stdout",
     "output_type": "stream",
     "text": [
      "71/71 [==============================] - 21s 291ms/step - loss: 4.9104 - accuracy: 0.6327\n",
      "Epoch 1199/1600\n",
      "71/71 [==============================] - ETA: 0s - loss: 4.5184 - accuracy: 0.6631"
     ]
    },
    {
     "name": "stderr",
     "output_type": "stream",
     "text": [
      "2024-03-12 01:02 INFO End of Epoch 1199 - Loss: 4.5184\n"
     ]
    },
    {
     "name": "stdout",
     "output_type": "stream",
     "text": [
      "71/71 [==============================] - 21s 293ms/step - loss: 4.5184 - accuracy: 0.6631\n",
      "Epoch 1200/1600\n",
      "71/71 [==============================] - ETA: 0s - loss: 5.4676 - accuracy: 0.6525"
     ]
    },
    {
     "name": "stderr",
     "output_type": "stream",
     "text": [
      "2024-03-12 01:03 INFO End of Epoch 1200 - Loss: 5.4676\n"
     ]
    },
    {
     "name": "stdout",
     "output_type": "stream",
     "text": [
      "71/71 [==============================] - 21s 292ms/step - loss: 5.4676 - accuracy: 0.6525\n",
      "Epoch 1201/1600\n",
      "71/71 [==============================] - ETA: 0s - loss: 9.2321 - accuracy: 0.6312"
     ]
    },
    {
     "name": "stderr",
     "output_type": "stream",
     "text": [
      "2024-03-12 01:03 INFO End of Epoch 1201 - Loss: 9.2321\n"
     ]
    },
    {
     "name": "stdout",
     "output_type": "stream",
     "text": [
      "71/71 [==============================] - 21s 293ms/step - loss: 9.2321 - accuracy: 0.6312\n",
      "Epoch 1202/1600\n",
      "71/71 [==============================] - ETA: 0s - loss: 15.2220 - accuracy: 0.5992"
     ]
    },
    {
     "name": "stderr",
     "output_type": "stream",
     "text": [
      "2024-03-12 01:03 INFO End of Epoch 1202 - Loss: 15.2220\n"
     ]
    },
    {
     "name": "stdout",
     "output_type": "stream",
     "text": [
      "71/71 [==============================] - 21s 293ms/step - loss: 15.2220 - accuracy: 0.5992\n",
      "Epoch 1203/1600\n",
      "71/71 [==============================] - ETA: 0s - loss: 9.1247 - accuracy: 0.5764"
     ]
    },
    {
     "name": "stderr",
     "output_type": "stream",
     "text": [
      "2024-03-12 01:04 INFO End of Epoch 1203 - Loss: 9.1247\n"
     ]
    },
    {
     "name": "stdout",
     "output_type": "stream",
     "text": [
      "71/71 [==============================] - 21s 292ms/step - loss: 9.1247 - accuracy: 0.5764\n",
      "Epoch 1204/1600\n",
      "71/71 [==============================] - ETA: 0s - loss: 5.1986 - accuracy: 0.6232"
     ]
    },
    {
     "name": "stderr",
     "output_type": "stream",
     "text": [
      "2024-03-12 01:04 INFO End of Epoch 1204 - Loss: 5.1986\n"
     ]
    },
    {
     "name": "stdout",
     "output_type": "stream",
     "text": [
      "71/71 [==============================] - 21s 293ms/step - loss: 5.1986 - accuracy: 0.6232\n",
      "Epoch 1205/1600\n",
      "71/71 [==============================] - ETA: 0s - loss: 4.0094 - accuracy: 0.6200"
     ]
    },
    {
     "name": "stderr",
     "output_type": "stream",
     "text": [
      "2024-03-12 01:05 INFO End of Epoch 1205 - Loss: 4.0094\n"
     ]
    },
    {
     "name": "stdout",
     "output_type": "stream",
     "text": [
      "71/71 [==============================] - 21s 293ms/step - loss: 4.0094 - accuracy: 0.6200\n",
      "Epoch 1206/1600\n",
      "71/71 [==============================] - ETA: 0s - loss: 3.6649 - accuracy: 0.6256"
     ]
    },
    {
     "name": "stderr",
     "output_type": "stream",
     "text": [
      "2024-03-12 01:05 INFO End of Epoch 1206 - Loss: 3.6649\n"
     ]
    },
    {
     "name": "stdout",
     "output_type": "stream",
     "text": [
      "71/71 [==============================] - 21s 293ms/step - loss: 3.6649 - accuracy: 0.6256\n",
      "Epoch 1207/1600\n",
      "71/71 [==============================] - ETA: 0s - loss: 3.9115 - accuracy: 0.6330"
     ]
    },
    {
     "name": "stderr",
     "output_type": "stream",
     "text": [
      "2024-03-12 01:06 INFO End of Epoch 1207 - Loss: 3.9115\n"
     ]
    },
    {
     "name": "stdout",
     "output_type": "stream",
     "text": [
      "71/71 [==============================] - 21s 293ms/step - loss: 3.9115 - accuracy: 0.6330\n",
      "Epoch 1208/1600\n",
      "71/71 [==============================] - ETA: 0s - loss: 4.8425 - accuracy: 0.6387"
     ]
    },
    {
     "name": "stderr",
     "output_type": "stream",
     "text": [
      "2024-03-12 01:06 INFO End of Epoch 1208 - Loss: 4.8425\n"
     ]
    },
    {
     "name": "stdout",
     "output_type": "stream",
     "text": [
      "71/71 [==============================] - 21s 293ms/step - loss: 4.8425 - accuracy: 0.6387\n",
      "Epoch 1209/1600\n",
      "71/71 [==============================] - ETA: 0s - loss: 5.3323 - accuracy: 0.6424"
     ]
    },
    {
     "name": "stderr",
     "output_type": "stream",
     "text": [
      "2024-03-12 01:07 INFO End of Epoch 1209 - Loss: 5.3323\n"
     ]
    },
    {
     "name": "stdout",
     "output_type": "stream",
     "text": [
      "71/71 [==============================] - 21s 294ms/step - loss: 5.3323 - accuracy: 0.6424\n",
      "Epoch 1210/1600\n",
      "71/71 [==============================] - ETA: 0s - loss: 5.4253 - accuracy: 0.6523"
     ]
    },
    {
     "name": "stderr",
     "output_type": "stream",
     "text": [
      "2024-03-12 01:07 INFO End of Epoch 1210 - Loss: 5.4253\n"
     ]
    },
    {
     "name": "stdout",
     "output_type": "stream",
     "text": [
      "71/71 [==============================] - 21s 293ms/step - loss: 5.4253 - accuracy: 0.6523\n",
      "Epoch 1211/1600\n",
      "71/71 [==============================] - ETA: 0s - loss: 3.9519 - accuracy: 0.6557"
     ]
    },
    {
     "name": "stderr",
     "output_type": "stream",
     "text": [
      "2024-03-12 01:07 INFO End of Epoch 1211 - Loss: 3.9519\n"
     ]
    },
    {
     "name": "stdout",
     "output_type": "stream",
     "text": [
      "71/71 [==============================] - 21s 292ms/step - loss: 3.9519 - accuracy: 0.6557\n",
      "Epoch 1212/1600\n",
      "71/71 [==============================] - ETA: 0s - loss: 3.5593 - accuracy: 0.6481"
     ]
    },
    {
     "name": "stderr",
     "output_type": "stream",
     "text": [
      "2024-03-12 01:08 INFO End of Epoch 1212 - Loss: 3.5593\n"
     ]
    },
    {
     "name": "stdout",
     "output_type": "stream",
     "text": [
      "71/71 [==============================] - 21s 292ms/step - loss: 3.5593 - accuracy: 0.6481\n",
      "Epoch 1213/1600\n",
      "71/71 [==============================] - ETA: 0s - loss: 3.5850 - accuracy: 0.6584"
     ]
    },
    {
     "name": "stderr",
     "output_type": "stream",
     "text": [
      "2024-03-12 01:08 INFO End of Epoch 1213 - Loss: 3.5850\n"
     ]
    },
    {
     "name": "stdout",
     "output_type": "stream",
     "text": [
      "71/71 [==============================] - 21s 294ms/step - loss: 3.5850 - accuracy: 0.6584\n",
      "Epoch 1214/1600\n",
      "71/71 [==============================] - ETA: 0s - loss: 3.8995 - accuracy: 0.6672"
     ]
    },
    {
     "name": "stderr",
     "output_type": "stream",
     "text": [
      "2024-03-12 01:09 INFO End of Epoch 1214 - Loss: 3.8995\n"
     ]
    },
    {
     "name": "stdout",
     "output_type": "stream",
     "text": [
      "71/71 [==============================] - 21s 293ms/step - loss: 3.8995 - accuracy: 0.6672\n",
      "Epoch 1215/1600\n",
      "71/71 [==============================] - ETA: 0s - loss: 4.2855 - accuracy: 0.6688"
     ]
    },
    {
     "name": "stderr",
     "output_type": "stream",
     "text": [
      "2024-03-12 01:09 INFO End of Epoch 1215 - Loss: 4.2855\n"
     ]
    },
    {
     "name": "stdout",
     "output_type": "stream",
     "text": [
      "71/71 [==============================] - 21s 293ms/step - loss: 4.2855 - accuracy: 0.6688\n",
      "Epoch 1216/1600\n",
      "71/71 [==============================] - ETA: 0s - loss: 4.2672 - accuracy: 0.6718"
     ]
    },
    {
     "name": "stderr",
     "output_type": "stream",
     "text": [
      "2024-03-12 01:10 INFO End of Epoch 1216 - Loss: 4.2672\n"
     ]
    },
    {
     "name": "stdout",
     "output_type": "stream",
     "text": [
      "71/71 [==============================] - 21s 293ms/step - loss: 4.2672 - accuracy: 0.6718\n",
      "Epoch 1217/1600\n",
      "71/71 [==============================] - ETA: 0s - loss: 8.1217 - accuracy: 0.6496"
     ]
    },
    {
     "name": "stderr",
     "output_type": "stream",
     "text": [
      "2024-03-12 01:10 INFO End of Epoch 1217 - Loss: 8.1217\n"
     ]
    },
    {
     "name": "stdout",
     "output_type": "stream",
     "text": [
      "71/71 [==============================] - 21s 293ms/step - loss: 8.1217 - accuracy: 0.6496\n",
      "Epoch 1218/1600\n",
      "71/71 [==============================] - ETA: 0s - loss: 9.9048 - accuracy: 0.6394"
     ]
    },
    {
     "name": "stderr",
     "output_type": "stream",
     "text": [
      "2024-03-12 01:11 INFO End of Epoch 1218 - Loss: 9.9048\n"
     ]
    },
    {
     "name": "stdout",
     "output_type": "stream",
     "text": [
      "71/71 [==============================] - 21s 293ms/step - loss: 9.9048 - accuracy: 0.6394\n",
      "Epoch 1219/1600\n",
      "71/71 [==============================] - ETA: 0s - loss: 6.9469 - accuracy: 0.6425"
     ]
    },
    {
     "name": "stderr",
     "output_type": "stream",
     "text": [
      "2024-03-12 01:11 INFO End of Epoch 1219 - Loss: 6.9469\n"
     ]
    },
    {
     "name": "stdout",
     "output_type": "stream",
     "text": [
      "71/71 [==============================] - 21s 293ms/step - loss: 6.9469 - accuracy: 0.6425\n",
      "Epoch 1220/1600\n",
      "71/71 [==============================] - ETA: 0s - loss: 6.9803 - accuracy: 0.6574"
     ]
    },
    {
     "name": "stderr",
     "output_type": "stream",
     "text": [
      "2024-03-12 01:11 INFO End of Epoch 1220 - Loss: 6.9803\n"
     ]
    },
    {
     "name": "stdout",
     "output_type": "stream",
     "text": [
      "71/71 [==============================] - 21s 293ms/step - loss: 6.9803 - accuracy: 0.6574\n",
      "Epoch 1221/1600\n",
      "71/71 [==============================] - ETA: 0s - loss: 3.9038 - accuracy: 0.6628"
     ]
    },
    {
     "name": "stderr",
     "output_type": "stream",
     "text": [
      "2024-03-12 01:12 INFO End of Epoch 1221 - Loss: 3.9038\n"
     ]
    },
    {
     "name": "stdout",
     "output_type": "stream",
     "text": [
      "71/71 [==============================] - 21s 293ms/step - loss: 3.9038 - accuracy: 0.6628\n",
      "Epoch 1222/1600\n",
      "71/71 [==============================] - ETA: 0s - loss: 4.3188 - accuracy: 0.6566"
     ]
    },
    {
     "name": "stderr",
     "output_type": "stream",
     "text": [
      "2024-03-12 01:12 INFO End of Epoch 1222 - Loss: 4.3188\n"
     ]
    },
    {
     "name": "stdout",
     "output_type": "stream",
     "text": [
      "71/71 [==============================] - 21s 293ms/step - loss: 4.3188 - accuracy: 0.6566\n",
      "Epoch 1223/1600\n",
      "71/71 [==============================] - ETA: 0s - loss: 4.9458 - accuracy: 0.6557"
     ]
    },
    {
     "name": "stderr",
     "output_type": "stream",
     "text": [
      "2024-03-12 01:13 INFO End of Epoch 1223 - Loss: 4.9458\n"
     ]
    },
    {
     "name": "stdout",
     "output_type": "stream",
     "text": [
      "71/71 [==============================] - 21s 294ms/step - loss: 4.9458 - accuracy: 0.6557\n",
      "Epoch 1224/1600\n",
      "71/71 [==============================] - ETA: 0s - loss: 5.4109 - accuracy: 0.6449"
     ]
    },
    {
     "name": "stderr",
     "output_type": "stream",
     "text": [
      "2024-03-12 01:13 INFO End of Epoch 1224 - Loss: 5.4109\n"
     ]
    },
    {
     "name": "stdout",
     "output_type": "stream",
     "text": [
      "71/71 [==============================] - 21s 293ms/step - loss: 5.4109 - accuracy: 0.6449\n",
      "Epoch 1225/1600\n",
      "71/71 [==============================] - ETA: 0s - loss: 5.5605 - accuracy: 0.6489"
     ]
    },
    {
     "name": "stderr",
     "output_type": "stream",
     "text": [
      "2024-03-12 01:14 INFO End of Epoch 1225 - Loss: 5.5605\n"
     ]
    },
    {
     "name": "stdout",
     "output_type": "stream",
     "text": [
      "71/71 [==============================] - 21s 294ms/step - loss: 5.5605 - accuracy: 0.6489\n",
      "Epoch 1226/1600\n",
      "71/71 [==============================] - ETA: 0s - loss: 4.9863 - accuracy: 0.6604"
     ]
    },
    {
     "name": "stderr",
     "output_type": "stream",
     "text": [
      "2024-03-12 01:14 INFO End of Epoch 1226 - Loss: 4.9863\n"
     ]
    },
    {
     "name": "stdout",
     "output_type": "stream",
     "text": [
      "71/71 [==============================] - 21s 293ms/step - loss: 4.9863 - accuracy: 0.6604\n",
      "Epoch 1227/1600\n",
      "71/71 [==============================] - ETA: 0s - loss: 6.9398 - accuracy: 0.6356"
     ]
    },
    {
     "name": "stderr",
     "output_type": "stream",
     "text": [
      "2024-03-12 01:15 INFO End of Epoch 1227 - Loss: 6.9398\n"
     ]
    },
    {
     "name": "stdout",
     "output_type": "stream",
     "text": [
      "71/71 [==============================] - 21s 292ms/step - loss: 6.9398 - accuracy: 0.6356\n",
      "Epoch 1228/1600\n",
      "71/71 [==============================] - ETA: 0s - loss: 7.8792 - accuracy: 0.6271"
     ]
    },
    {
     "name": "stderr",
     "output_type": "stream",
     "text": [
      "2024-03-12 01:15 INFO End of Epoch 1228 - Loss: 7.8792\n"
     ]
    },
    {
     "name": "stdout",
     "output_type": "stream",
     "text": [
      "71/71 [==============================] - 21s 292ms/step - loss: 7.8792 - accuracy: 0.6271\n",
      "Epoch 1229/1600\n",
      "71/71 [==============================] - ETA: 0s - loss: 6.8592 - accuracy: 0.6434"
     ]
    },
    {
     "name": "stderr",
     "output_type": "stream",
     "text": [
      "2024-03-12 01:15 INFO End of Epoch 1229 - Loss: 6.8592\n"
     ]
    },
    {
     "name": "stdout",
     "output_type": "stream",
     "text": [
      "71/71 [==============================] - 21s 292ms/step - loss: 6.8592 - accuracy: 0.6434\n",
      "Epoch 1230/1600\n",
      "71/71 [==============================] - ETA: 0s - loss: 6.9625 - accuracy: 0.6367"
     ]
    },
    {
     "name": "stderr",
     "output_type": "stream",
     "text": [
      "2024-03-12 01:16 INFO End of Epoch 1230 - Loss: 6.9625\n"
     ]
    },
    {
     "name": "stdout",
     "output_type": "stream",
     "text": [
      "71/71 [==============================] - 21s 294ms/step - loss: 6.9625 - accuracy: 0.6367\n",
      "Epoch 1231/1600\n",
      "71/71 [==============================] - ETA: 0s - loss: 7.3706 - accuracy: 0.6509"
     ]
    },
    {
     "name": "stderr",
     "output_type": "stream",
     "text": [
      "2024-03-12 01:16 INFO End of Epoch 1231 - Loss: 7.3706\n"
     ]
    },
    {
     "name": "stdout",
     "output_type": "stream",
     "text": [
      "71/71 [==============================] - 21s 292ms/step - loss: 7.3706 - accuracy: 0.6509\n",
      "Epoch 1232/1600\n",
      "71/71 [==============================] - ETA: 0s - loss: 7.7826 - accuracy: 0.6316"
     ]
    },
    {
     "name": "stderr",
     "output_type": "stream",
     "text": [
      "2024-03-12 01:17 INFO End of Epoch 1232 - Loss: 7.7826\n"
     ]
    },
    {
     "name": "stdout",
     "output_type": "stream",
     "text": [
      "71/71 [==============================] - 21s 290ms/step - loss: 7.7826 - accuracy: 0.6316\n",
      "Epoch 1233/1600\n",
      "71/71 [==============================] - ETA: 0s - loss: 7.5245 - accuracy: 0.6323"
     ]
    },
    {
     "name": "stderr",
     "output_type": "stream",
     "text": [
      "2024-03-12 01:17 INFO End of Epoch 1233 - Loss: 7.5245\n"
     ]
    },
    {
     "name": "stdout",
     "output_type": "stream",
     "text": [
      "71/71 [==============================] - 21s 291ms/step - loss: 7.5245 - accuracy: 0.6323\n",
      "Epoch 1234/1600\n",
      "71/71 [==============================] - ETA: 0s - loss: 5.3815 - accuracy: 0.6322"
     ]
    },
    {
     "name": "stderr",
     "output_type": "stream",
     "text": [
      "2024-03-12 01:18 INFO End of Epoch 1234 - Loss: 5.3815\n"
     ]
    },
    {
     "name": "stdout",
     "output_type": "stream",
     "text": [
      "71/71 [==============================] - 21s 291ms/step - loss: 5.3815 - accuracy: 0.6322\n",
      "Epoch 1235/1600\n",
      "71/71 [==============================] - ETA: 0s - loss: 4.6821 - accuracy: 0.6342"
     ]
    },
    {
     "name": "stderr",
     "output_type": "stream",
     "text": [
      "2024-03-12 01:18 INFO End of Epoch 1235 - Loss: 4.6821\n"
     ]
    },
    {
     "name": "stdout",
     "output_type": "stream",
     "text": [
      "71/71 [==============================] - 21s 294ms/step - loss: 4.6821 - accuracy: 0.6342\n",
      "Epoch 1236/1600\n",
      "71/71 [==============================] - ETA: 0s - loss: 3.8586 - accuracy: 0.6190"
     ]
    },
    {
     "name": "stderr",
     "output_type": "stream",
     "text": [
      "2024-03-12 01:19 INFO End of Epoch 1236 - Loss: 3.8586\n"
     ]
    },
    {
     "name": "stdout",
     "output_type": "stream",
     "text": [
      "71/71 [==============================] - 21s 293ms/step - loss: 3.8586 - accuracy: 0.6190\n",
      "Epoch 1237/1600\n",
      "71/71 [==============================] - ETA: 0s - loss: 3.7389 - accuracy: 0.6388"
     ]
    },
    {
     "name": "stderr",
     "output_type": "stream",
     "text": [
      "2024-03-12 01:19 INFO End of Epoch 1237 - Loss: 3.7389\n"
     ]
    },
    {
     "name": "stdout",
     "output_type": "stream",
     "text": [
      "71/71 [==============================] - 21s 292ms/step - loss: 3.7389 - accuracy: 0.6388\n",
      "Epoch 1238/1600\n",
      "71/71 [==============================] - ETA: 0s - loss: 3.4546 - accuracy: 0.6516"
     ]
    },
    {
     "name": "stderr",
     "output_type": "stream",
     "text": [
      "2024-03-12 01:19 INFO End of Epoch 1238 - Loss: 3.4546\n"
     ]
    },
    {
     "name": "stdout",
     "output_type": "stream",
     "text": [
      "71/71 [==============================] - 21s 293ms/step - loss: 3.4546 - accuracy: 0.6516\n",
      "Epoch 1239/1600\n",
      "71/71 [==============================] - ETA: 0s - loss: 3.9956 - accuracy: 0.6353"
     ]
    },
    {
     "name": "stderr",
     "output_type": "stream",
     "text": [
      "2024-03-12 01:20 INFO End of Epoch 1239 - Loss: 3.9956\n"
     ]
    },
    {
     "name": "stdout",
     "output_type": "stream",
     "text": [
      "71/71 [==============================] - 21s 292ms/step - loss: 3.9956 - accuracy: 0.6353\n",
      "Epoch 1240/1600\n",
      "71/71 [==============================] - ETA: 0s - loss: 4.0925 - accuracy: 0.6513"
     ]
    },
    {
     "name": "stderr",
     "output_type": "stream",
     "text": [
      "2024-03-12 01:20 INFO End of Epoch 1240 - Loss: 4.0925\n"
     ]
    },
    {
     "name": "stdout",
     "output_type": "stream",
     "text": [
      "71/71 [==============================] - 21s 293ms/step - loss: 4.0925 - accuracy: 0.6513\n",
      "Epoch 1241/1600\n",
      "71/71 [==============================] - ETA: 0s - loss: 3.6424 - accuracy: 0.6377"
     ]
    },
    {
     "name": "stderr",
     "output_type": "stream",
     "text": [
      "2024-03-12 01:21 INFO End of Epoch 1241 - Loss: 3.6424\n"
     ]
    },
    {
     "name": "stdout",
     "output_type": "stream",
     "text": [
      "71/71 [==============================] - 21s 293ms/step - loss: 3.6424 - accuracy: 0.6377\n",
      "Epoch 1242/1600\n",
      "71/71 [==============================] - ETA: 0s - loss: 2.8113 - accuracy: 0.6469"
     ]
    },
    {
     "name": "stderr",
     "output_type": "stream",
     "text": [
      "2024-03-12 01:21 INFO End of Epoch 1242 - Loss: 2.8113\n"
     ]
    },
    {
     "name": "stdout",
     "output_type": "stream",
     "text": [
      "71/71 [==============================] - 21s 292ms/step - loss: 2.8113 - accuracy: 0.6469\n",
      "Epoch 1243/1600\n",
      "71/71 [==============================] - ETA: 0s - loss: 4.5158 - accuracy: 0.6495"
     ]
    },
    {
     "name": "stderr",
     "output_type": "stream",
     "text": [
      "2024-03-12 01:22 INFO End of Epoch 1243 - Loss: 4.5158\n"
     ]
    },
    {
     "name": "stdout",
     "output_type": "stream",
     "text": [
      "71/71 [==============================] - 21s 294ms/step - loss: 4.5158 - accuracy: 0.6495\n",
      "Epoch 1244/1600\n",
      "71/71 [==============================] - ETA: 0s - loss: 6.0907 - accuracy: 0.6606"
     ]
    },
    {
     "name": "stderr",
     "output_type": "stream",
     "text": [
      "2024-03-12 01:22 INFO End of Epoch 1244 - Loss: 6.0907\n"
     ]
    },
    {
     "name": "stdout",
     "output_type": "stream",
     "text": [
      "71/71 [==============================] - 21s 293ms/step - loss: 6.0907 - accuracy: 0.6606\n",
      "Epoch 1245/1600\n",
      "71/71 [==============================] - ETA: 0s - loss: 7.9850 - accuracy: 0.6235"
     ]
    },
    {
     "name": "stderr",
     "output_type": "stream",
     "text": [
      "2024-03-12 01:23 INFO End of Epoch 1245 - Loss: 7.9850\n"
     ]
    },
    {
     "name": "stdout",
     "output_type": "stream",
     "text": [
      "71/71 [==============================] - 21s 293ms/step - loss: 7.9850 - accuracy: 0.6235\n",
      "Epoch 1246/1600\n",
      "71/71 [==============================] - ETA: 0s - loss: 7.2026 - accuracy: 0.6127"
     ]
    },
    {
     "name": "stderr",
     "output_type": "stream",
     "text": [
      "2024-03-12 01:23 INFO End of Epoch 1246 - Loss: 7.2026\n"
     ]
    },
    {
     "name": "stdout",
     "output_type": "stream",
     "text": [
      "71/71 [==============================] - 21s 291ms/step - loss: 7.2026 - accuracy: 0.6127\n",
      "Epoch 1247/1600\n",
      "71/71 [==============================] - ETA: 0s - loss: 5.9792 - accuracy: 0.5948"
     ]
    },
    {
     "name": "stderr",
     "output_type": "stream",
     "text": [
      "2024-03-12 01:23 INFO End of Epoch 1247 - Loss: 5.9792\n"
     ]
    },
    {
     "name": "stdout",
     "output_type": "stream",
     "text": [
      "71/71 [==============================] - 21s 294ms/step - loss: 5.9792 - accuracy: 0.5948\n",
      "Epoch 1248/1600\n",
      "71/71 [==============================] - ETA: 0s - loss: 3.7499 - accuracy: 0.6273"
     ]
    },
    {
     "name": "stderr",
     "output_type": "stream",
     "text": [
      "2024-03-12 01:24 INFO End of Epoch 1248 - Loss: 3.7499\n"
     ]
    },
    {
     "name": "stdout",
     "output_type": "stream",
     "text": [
      "71/71 [==============================] - 21s 292ms/step - loss: 3.7499 - accuracy: 0.6273\n",
      "Epoch 1249/1600\n",
      "71/71 [==============================] - ETA: 0s - loss: 2.9665 - accuracy: 0.6211"
     ]
    },
    {
     "name": "stderr",
     "output_type": "stream",
     "text": [
      "2024-03-12 01:24 INFO End of Epoch 1249 - Loss: 2.9665\n"
     ]
    },
    {
     "name": "stdout",
     "output_type": "stream",
     "text": [
      "71/71 [==============================] - 21s 292ms/step - loss: 2.9665 - accuracy: 0.6211\n",
      "Epoch 1250/1600\n",
      "71/71 [==============================] - ETA: 0s - loss: 3.3144 - accuracy: 0.6332"
     ]
    },
    {
     "name": "stderr",
     "output_type": "stream",
     "text": [
      "2024-03-12 01:25 INFO End of Epoch 1250 - Loss: 3.3144\n"
     ]
    },
    {
     "name": "stdout",
     "output_type": "stream",
     "text": [
      "71/71 [==============================] - 21s 294ms/step - loss: 3.3144 - accuracy: 0.6332\n",
      "Epoch 1251/1600\n",
      "71/71 [==============================] - ETA: 0s - loss: 2.8722 - accuracy: 0.6282"
     ]
    },
    {
     "name": "stderr",
     "output_type": "stream",
     "text": [
      "2024-03-12 01:25 INFO End of Epoch 1251 - Loss: 2.8722\n"
     ]
    },
    {
     "name": "stdout",
     "output_type": "stream",
     "text": [
      "71/71 [==============================] - 21s 293ms/step - loss: 2.8722 - accuracy: 0.6282\n",
      "Epoch 1252/1600\n",
      "71/71 [==============================] - ETA: 0s - loss: 2.7677 - accuracy: 0.6454"
     ]
    },
    {
     "name": "stderr",
     "output_type": "stream",
     "text": [
      "2024-03-12 01:26 INFO End of Epoch 1252 - Loss: 2.7677\n"
     ]
    },
    {
     "name": "stdout",
     "output_type": "stream",
     "text": [
      "71/71 [==============================] - 21s 292ms/step - loss: 2.7677 - accuracy: 0.6454\n",
      "Epoch 1253/1600\n",
      "71/71 [==============================] - ETA: 0s - loss: 3.6288 - accuracy: 0.6349"
     ]
    },
    {
     "name": "stderr",
     "output_type": "stream",
     "text": [
      "2024-03-12 01:26 INFO End of Epoch 1253 - Loss: 3.6288\n"
     ]
    },
    {
     "name": "stdout",
     "output_type": "stream",
     "text": [
      "71/71 [==============================] - 21s 293ms/step - loss: 3.6288 - accuracy: 0.6349\n",
      "Epoch 1254/1600\n",
      "71/71 [==============================] - ETA: 0s - loss: 4.2971 - accuracy: 0.6095"
     ]
    },
    {
     "name": "stderr",
     "output_type": "stream",
     "text": [
      "2024-03-12 01:27 INFO End of Epoch 1254 - Loss: 4.2971\n"
     ]
    },
    {
     "name": "stdout",
     "output_type": "stream",
     "text": [
      "71/71 [==============================] - 21s 291ms/step - loss: 4.2971 - accuracy: 0.6095\n",
      "Epoch 1255/1600\n",
      "71/71 [==============================] - ETA: 0s - loss: 5.0980 - accuracy: 0.5890"
     ]
    },
    {
     "name": "stderr",
     "output_type": "stream",
     "text": [
      "2024-03-12 01:27 INFO End of Epoch 1255 - Loss: 5.0980\n"
     ]
    },
    {
     "name": "stdout",
     "output_type": "stream",
     "text": [
      "71/71 [==============================] - 21s 290ms/step - loss: 5.0980 - accuracy: 0.5890\n",
      "Epoch 1256/1600\n",
      "71/71 [==============================] - ETA: 0s - loss: 5.2937 - accuracy: 0.5957"
     ]
    },
    {
     "name": "stderr",
     "output_type": "stream",
     "text": [
      "2024-03-12 01:27 INFO End of Epoch 1256 - Loss: 5.2937\n"
     ]
    },
    {
     "name": "stdout",
     "output_type": "stream",
     "text": [
      "71/71 [==============================] - 21s 293ms/step - loss: 5.2937 - accuracy: 0.5957\n",
      "Epoch 1257/1600\n",
      "71/71 [==============================] - ETA: 0s - loss: 6.4457 - accuracy: 0.6256"
     ]
    },
    {
     "name": "stderr",
     "output_type": "stream",
     "text": [
      "2024-03-12 01:28 INFO End of Epoch 1257 - Loss: 6.4457\n"
     ]
    },
    {
     "name": "stdout",
     "output_type": "stream",
     "text": [
      "71/71 [==============================] - 21s 292ms/step - loss: 6.4457 - accuracy: 0.6256\n",
      "Epoch 1258/1600\n",
      "71/71 [==============================] - ETA: 0s - loss: 7.7306 - accuracy: 0.6113"
     ]
    },
    {
     "name": "stderr",
     "output_type": "stream",
     "text": [
      "2024-03-12 01:28 INFO End of Epoch 1258 - Loss: 7.7306\n"
     ]
    },
    {
     "name": "stdout",
     "output_type": "stream",
     "text": [
      "71/71 [==============================] - 21s 291ms/step - loss: 7.7306 - accuracy: 0.6113\n",
      "Epoch 1259/1600\n",
      "71/71 [==============================] - ETA: 0s - loss: 7.2900 - accuracy: 0.6015"
     ]
    },
    {
     "name": "stderr",
     "output_type": "stream",
     "text": [
      "2024-03-12 01:29 INFO End of Epoch 1259 - Loss: 7.2900\n"
     ]
    },
    {
     "name": "stdout",
     "output_type": "stream",
     "text": [
      "71/71 [==============================] - 21s 293ms/step - loss: 7.2900 - accuracy: 0.6015\n",
      "Epoch 1260/1600\n",
      "71/71 [==============================] - ETA: 0s - loss: 5.1583 - accuracy: 0.6096"
     ]
    },
    {
     "name": "stderr",
     "output_type": "stream",
     "text": [
      "2024-03-12 01:29 INFO End of Epoch 1260 - Loss: 5.1583\n"
     ]
    },
    {
     "name": "stdout",
     "output_type": "stream",
     "text": [
      "71/71 [==============================] - 21s 294ms/step - loss: 5.1583 - accuracy: 0.6096\n",
      "Epoch 1261/1600\n",
      "71/71 [==============================] - ETA: 0s - loss: 4.8367 - accuracy: 0.6237"
     ]
    },
    {
     "name": "stderr",
     "output_type": "stream",
     "text": [
      "2024-03-12 01:30 INFO End of Epoch 1261 - Loss: 4.8367\n"
     ]
    },
    {
     "name": "stdout",
     "output_type": "stream",
     "text": [
      "71/71 [==============================] - 21s 293ms/step - loss: 4.8367 - accuracy: 0.6237\n",
      "Epoch 1262/1600\n",
      "71/71 [==============================] - ETA: 0s - loss: 5.1522 - accuracy: 0.6451"
     ]
    },
    {
     "name": "stderr",
     "output_type": "stream",
     "text": [
      "2024-03-12 01:30 INFO End of Epoch 1262 - Loss: 5.1522\n"
     ]
    },
    {
     "name": "stdout",
     "output_type": "stream",
     "text": [
      "71/71 [==============================] - 21s 292ms/step - loss: 5.1522 - accuracy: 0.6451\n",
      "Epoch 1263/1600\n",
      "71/71 [==============================] - ETA: 0s - loss: 5.6865 - accuracy: 0.6126"
     ]
    },
    {
     "name": "stderr",
     "output_type": "stream",
     "text": [
      "2024-03-12 01:31 INFO End of Epoch 1263 - Loss: 5.6865\n"
     ]
    },
    {
     "name": "stdout",
     "output_type": "stream",
     "text": [
      "71/71 [==============================] - 21s 293ms/step - loss: 5.6865 - accuracy: 0.6126\n",
      "Epoch 1264/1600\n",
      "71/71 [==============================] - ETA: 0s - loss: 5.3388 - accuracy: 0.6073"
     ]
    },
    {
     "name": "stderr",
     "output_type": "stream",
     "text": [
      "2024-03-12 01:31 INFO End of Epoch 1264 - Loss: 5.3388\n"
     ]
    },
    {
     "name": "stdout",
     "output_type": "stream",
     "text": [
      "71/71 [==============================] - 21s 293ms/step - loss: 5.3388 - accuracy: 0.6073\n",
      "Epoch 1265/1600\n",
      "71/71 [==============================] - ETA: 0s - loss: 3.8517 - accuracy: 0.6126"
     ]
    },
    {
     "name": "stderr",
     "output_type": "stream",
     "text": [
      "2024-03-12 01:31 INFO End of Epoch 1265 - Loss: 3.8517\n"
     ]
    },
    {
     "name": "stdout",
     "output_type": "stream",
     "text": [
      "71/71 [==============================] - 21s 293ms/step - loss: 3.8517 - accuracy: 0.6126\n",
      "Epoch 1266/1600\n",
      "71/71 [==============================] - ETA: 0s - loss: 3.2173 - accuracy: 0.6418"
     ]
    },
    {
     "name": "stderr",
     "output_type": "stream",
     "text": [
      "2024-03-12 01:32 INFO End of Epoch 1266 - Loss: 3.2173\n"
     ]
    },
    {
     "name": "stdout",
     "output_type": "stream",
     "text": [
      "71/71 [==============================] - 21s 292ms/step - loss: 3.2173 - accuracy: 0.6418\n",
      "Epoch 1267/1600\n",
      "71/71 [==============================] - ETA: 0s - loss: 4.3442 - accuracy: 0.6388"
     ]
    },
    {
     "name": "stderr",
     "output_type": "stream",
     "text": [
      "2024-03-12 01:32 INFO End of Epoch 1267 - Loss: 4.3442\n"
     ]
    },
    {
     "name": "stdout",
     "output_type": "stream",
     "text": [
      "71/71 [==============================] - 21s 292ms/step - loss: 4.3442 - accuracy: 0.6388\n",
      "Epoch 1268/1600\n",
      "71/71 [==============================] - ETA: 0s - loss: 4.6536 - accuracy: 0.6343"
     ]
    },
    {
     "name": "stderr",
     "output_type": "stream",
     "text": [
      "2024-03-12 01:33 INFO End of Epoch 1268 - Loss: 4.6536\n"
     ]
    },
    {
     "name": "stdout",
     "output_type": "stream",
     "text": [
      "71/71 [==============================] - 21s 293ms/step - loss: 4.6536 - accuracy: 0.6343\n",
      "Epoch 1269/1600\n",
      "71/71 [==============================] - ETA: 0s - loss: 3.6156 - accuracy: 0.6464"
     ]
    },
    {
     "name": "stderr",
     "output_type": "stream",
     "text": [
      "2024-03-12 01:33 INFO End of Epoch 1269 - Loss: 3.6156\n"
     ]
    },
    {
     "name": "stdout",
     "output_type": "stream",
     "text": [
      "71/71 [==============================] - 21s 296ms/step - loss: 3.6156 - accuracy: 0.6464\n",
      "Epoch 1270/1600\n",
      "71/71 [==============================] - ETA: 0s - loss: 5.1022 - accuracy: 0.6293"
     ]
    },
    {
     "name": "stderr",
     "output_type": "stream",
     "text": [
      "2024-03-12 01:34 INFO End of Epoch 1270 - Loss: 5.1022\n"
     ]
    },
    {
     "name": "stdout",
     "output_type": "stream",
     "text": [
      "71/71 [==============================] - 21s 291ms/step - loss: 5.1022 - accuracy: 0.6293\n",
      "Epoch 1271/1600\n",
      "71/71 [==============================] - ETA: 0s - loss: 5.9506 - accuracy: 0.6268"
     ]
    },
    {
     "name": "stderr",
     "output_type": "stream",
     "text": [
      "2024-03-12 01:34 INFO End of Epoch 1271 - Loss: 5.9506\n"
     ]
    },
    {
     "name": "stdout",
     "output_type": "stream",
     "text": [
      "71/71 [==============================] - 21s 292ms/step - loss: 5.9506 - accuracy: 0.6268\n",
      "Epoch 1272/1600\n",
      "71/71 [==============================] - ETA: 0s - loss: 6.8031 - accuracy: 0.6183"
     ]
    },
    {
     "name": "stderr",
     "output_type": "stream",
     "text": [
      "2024-03-12 01:35 INFO End of Epoch 1272 - Loss: 6.8031\n"
     ]
    },
    {
     "name": "stdout",
     "output_type": "stream",
     "text": [
      "71/71 [==============================] - 21s 292ms/step - loss: 6.8031 - accuracy: 0.6183\n",
      "Epoch 1273/1600\n",
      "71/71 [==============================] - ETA: 0s - loss: 5.9101 - accuracy: 0.6219"
     ]
    },
    {
     "name": "stderr",
     "output_type": "stream",
     "text": [
      "2024-03-12 01:35 INFO End of Epoch 1273 - Loss: 5.9101\n"
     ]
    },
    {
     "name": "stdout",
     "output_type": "stream",
     "text": [
      "71/71 [==============================] - 21s 292ms/step - loss: 5.9101 - accuracy: 0.6219\n",
      "Epoch 1274/1600\n",
      "71/71 [==============================] - ETA: 0s - loss: 4.8791 - accuracy: 0.6342"
     ]
    },
    {
     "name": "stderr",
     "output_type": "stream",
     "text": [
      "2024-03-12 01:36 INFO End of Epoch 1274 - Loss: 4.8791\n"
     ]
    },
    {
     "name": "stdout",
     "output_type": "stream",
     "text": [
      "71/71 [==============================] - 21s 292ms/step - loss: 4.8791 - accuracy: 0.6342\n",
      "Epoch 1275/1600\n",
      "71/71 [==============================] - ETA: 0s - loss: 3.3244 - accuracy: 0.6448"
     ]
    },
    {
     "name": "stderr",
     "output_type": "stream",
     "text": [
      "2024-03-12 01:36 INFO End of Epoch 1275 - Loss: 3.3244\n"
     ]
    },
    {
     "name": "stdout",
     "output_type": "stream",
     "text": [
      "71/71 [==============================] - 21s 292ms/step - loss: 3.3244 - accuracy: 0.6448\n",
      "Epoch 1276/1600\n",
      "71/71 [==============================] - ETA: 0s - loss: 2.7123 - accuracy: 0.6539"
     ]
    },
    {
     "name": "stderr",
     "output_type": "stream",
     "text": [
      "2024-03-12 01:36 INFO End of Epoch 1276 - Loss: 2.7123\n"
     ]
    },
    {
     "name": "stdout",
     "output_type": "stream",
     "text": [
      "71/71 [==============================] - 21s 290ms/step - loss: 2.7123 - accuracy: 0.6539\n",
      "Epoch 1277/1600\n",
      "71/71 [==============================] - ETA: 0s - loss: 2.9073 - accuracy: 0.6596"
     ]
    },
    {
     "name": "stderr",
     "output_type": "stream",
     "text": [
      "2024-03-12 01:37 INFO End of Epoch 1277 - Loss: 2.9073\n"
     ]
    },
    {
     "name": "stdout",
     "output_type": "stream",
     "text": [
      "71/71 [==============================] - 21s 291ms/step - loss: 2.9073 - accuracy: 0.6596\n",
      "Epoch 1278/1600\n",
      "71/71 [==============================] - ETA: 0s - loss: 4.3380 - accuracy: 0.6550"
     ]
    },
    {
     "name": "stderr",
     "output_type": "stream",
     "text": [
      "2024-03-12 01:37 INFO End of Epoch 1278 - Loss: 4.3380\n"
     ]
    },
    {
     "name": "stdout",
     "output_type": "stream",
     "text": [
      "71/71 [==============================] - 21s 291ms/step - loss: 4.3380 - accuracy: 0.6550\n",
      "Epoch 1279/1600\n",
      "71/71 [==============================] - ETA: 0s - loss: 4.8660 - accuracy: 0.6373"
     ]
    },
    {
     "name": "stderr",
     "output_type": "stream",
     "text": [
      "2024-03-12 01:38 INFO End of Epoch 1279 - Loss: 4.8660\n"
     ]
    },
    {
     "name": "stdout",
     "output_type": "stream",
     "text": [
      "71/71 [==============================] - 21s 292ms/step - loss: 4.8660 - accuracy: 0.6373\n",
      "Epoch 1280/1600\n",
      "71/71 [==============================] - ETA: 0s - loss: 4.1350 - accuracy: 0.6330"
     ]
    },
    {
     "name": "stderr",
     "output_type": "stream",
     "text": [
      "2024-03-12 01:38 INFO End of Epoch 1280 - Loss: 4.1350\n"
     ]
    },
    {
     "name": "stdout",
     "output_type": "stream",
     "text": [
      "71/71 [==============================] - 21s 292ms/step - loss: 4.1350 - accuracy: 0.6330\n",
      "Epoch 1281/1600\n",
      "71/71 [==============================] - ETA: 0s - loss: 6.1427 - accuracy: 0.6288"
     ]
    },
    {
     "name": "stderr",
     "output_type": "stream",
     "text": [
      "2024-03-12 01:39 INFO End of Epoch 1281 - Loss: 6.1427\n"
     ]
    },
    {
     "name": "stdout",
     "output_type": "stream",
     "text": [
      "71/71 [==============================] - 21s 291ms/step - loss: 6.1427 - accuracy: 0.6288\n",
      "Epoch 1282/1600\n",
      "71/71 [==============================] - ETA: 0s - loss: 5.8213 - accuracy: 0.6177"
     ]
    },
    {
     "name": "stderr",
     "output_type": "stream",
     "text": [
      "2024-03-12 01:39 INFO End of Epoch 1282 - Loss: 5.8213\n"
     ]
    },
    {
     "name": "stdout",
     "output_type": "stream",
     "text": [
      "71/71 [==============================] - 21s 292ms/step - loss: 5.8213 - accuracy: 0.6177\n",
      "Epoch 1283/1600\n",
      "71/71 [==============================] - ETA: 0s - loss: 5.6533 - accuracy: 0.6503"
     ]
    },
    {
     "name": "stderr",
     "output_type": "stream",
     "text": [
      "2024-03-12 01:40 INFO End of Epoch 1283 - Loss: 5.6533\n"
     ]
    },
    {
     "name": "stdout",
     "output_type": "stream",
     "text": [
      "71/71 [==============================] - 21s 290ms/step - loss: 5.6533 - accuracy: 0.6503\n",
      "Epoch 1284/1600\n",
      "71/71 [==============================] - ETA: 0s - loss: 10.1792 - accuracy: 0.6413"
     ]
    },
    {
     "name": "stderr",
     "output_type": "stream",
     "text": [
      "2024-03-12 01:40 INFO End of Epoch 1284 - Loss: 10.1792\n"
     ]
    },
    {
     "name": "stdout",
     "output_type": "stream",
     "text": [
      "71/71 [==============================] - 21s 291ms/step - loss: 10.1792 - accuracy: 0.6413\n",
      "Epoch 1285/1600\n",
      "71/71 [==============================] - ETA: 0s - loss: 8.2628 - accuracy: 0.6397"
     ]
    },
    {
     "name": "stderr",
     "output_type": "stream",
     "text": [
      "2024-03-12 01:40 INFO End of Epoch 1285 - Loss: 8.2628\n"
     ]
    },
    {
     "name": "stdout",
     "output_type": "stream",
     "text": [
      "71/71 [==============================] - 21s 290ms/step - loss: 8.2628 - accuracy: 0.6397\n",
      "Epoch 1286/1600\n",
      "71/71 [==============================] - ETA: 0s - loss: 6.1838 - accuracy: 0.6417"
     ]
    },
    {
     "name": "stderr",
     "output_type": "stream",
     "text": [
      "2024-03-12 01:41 INFO End of Epoch 1286 - Loss: 6.1838\n"
     ]
    },
    {
     "name": "stdout",
     "output_type": "stream",
     "text": [
      "71/71 [==============================] - 21s 291ms/step - loss: 6.1838 - accuracy: 0.6417\n",
      "Epoch 1287/1600\n",
      "71/71 [==============================] - ETA: 0s - loss: 9.2322 - accuracy: 0.6356"
     ]
    },
    {
     "name": "stderr",
     "output_type": "stream",
     "text": [
      "2024-03-12 01:41 INFO End of Epoch 1287 - Loss: 9.2322\n"
     ]
    },
    {
     "name": "stdout",
     "output_type": "stream",
     "text": [
      "71/71 [==============================] - 21s 290ms/step - loss: 9.2322 - accuracy: 0.6356\n",
      "Epoch 1288/1600\n",
      "71/71 [==============================] - ETA: 0s - loss: 7.2000 - accuracy: 0.6522"
     ]
    },
    {
     "name": "stderr",
     "output_type": "stream",
     "text": [
      "2024-03-12 01:42 INFO End of Epoch 1288 - Loss: 7.2000\n"
     ]
    },
    {
     "name": "stdout",
     "output_type": "stream",
     "text": [
      "71/71 [==============================] - 21s 290ms/step - loss: 7.2000 - accuracy: 0.6522\n",
      "Epoch 1289/1600\n",
      "71/71 [==============================] - ETA: 0s - loss: 3.7830 - accuracy: 0.6465"
     ]
    },
    {
     "name": "stderr",
     "output_type": "stream",
     "text": [
      "2024-03-12 01:42 INFO End of Epoch 1289 - Loss: 3.7830\n"
     ]
    },
    {
     "name": "stdout",
     "output_type": "stream",
     "text": [
      "71/71 [==============================] - 21s 290ms/step - loss: 3.7830 - accuracy: 0.6465\n",
      "Epoch 1290/1600\n",
      "71/71 [==============================] - ETA: 0s - loss: 2.8048 - accuracy: 0.6547"
     ]
    },
    {
     "name": "stderr",
     "output_type": "stream",
     "text": [
      "2024-03-12 01:43 INFO End of Epoch 1290 - Loss: 2.8048\n"
     ]
    },
    {
     "name": "stdout",
     "output_type": "stream",
     "text": [
      "71/71 [==============================] - 21s 291ms/step - loss: 2.8048 - accuracy: 0.6547\n",
      "Epoch 1291/1600\n",
      "71/71 [==============================] - ETA: 0s - loss: 2.5080 - accuracy: 0.6652"
     ]
    },
    {
     "name": "stderr",
     "output_type": "stream",
     "text": [
      "2024-03-12 01:43 INFO End of Epoch 1291 - Loss: 2.5080\n"
     ]
    },
    {
     "name": "stdout",
     "output_type": "stream",
     "text": [
      "71/71 [==============================] - 21s 292ms/step - loss: 2.5080 - accuracy: 0.6652\n",
      "Epoch 1292/1600\n",
      "71/71 [==============================] - ETA: 0s - loss: 1.8492 - accuracy: 0.6638"
     ]
    },
    {
     "name": "stderr",
     "output_type": "stream",
     "text": [
      "2024-03-12 01:43 INFO End of Epoch 1292 - Loss: 1.8492\n"
     ]
    },
    {
     "name": "stdout",
     "output_type": "stream",
     "text": [
      "71/71 [==============================] - 21s 291ms/step - loss: 1.8492 - accuracy: 0.6638\n",
      "Epoch 1293/1600\n",
      "71/71 [==============================] - ETA: 0s - loss: 2.3652 - accuracy: 0.6370"
     ]
    },
    {
     "name": "stderr",
     "output_type": "stream",
     "text": [
      "2024-03-12 01:44 INFO End of Epoch 1293 - Loss: 2.3652\n"
     ]
    },
    {
     "name": "stdout",
     "output_type": "stream",
     "text": [
      "71/71 [==============================] - 21s 291ms/step - loss: 2.3652 - accuracy: 0.6370\n",
      "Epoch 1294/1600\n",
      "71/71 [==============================] - ETA: 0s - loss: 2.5017 - accuracy: 0.6501"
     ]
    },
    {
     "name": "stderr",
     "output_type": "stream",
     "text": [
      "2024-03-12 01:44 INFO End of Epoch 1294 - Loss: 2.5017\n"
     ]
    },
    {
     "name": "stdout",
     "output_type": "stream",
     "text": [
      "71/71 [==============================] - 21s 290ms/step - loss: 2.5017 - accuracy: 0.6501\n",
      "Epoch 1295/1600\n",
      "71/71 [==============================] - ETA: 0s - loss: 3.2370 - accuracy: 0.6634"
     ]
    },
    {
     "name": "stderr",
     "output_type": "stream",
     "text": [
      "2024-03-12 01:45 INFO End of Epoch 1295 - Loss: 3.2370\n"
     ]
    },
    {
     "name": "stdout",
     "output_type": "stream",
     "text": [
      "71/71 [==============================] - 21s 292ms/step - loss: 3.2370 - accuracy: 0.6634\n",
      "Epoch 1296/1600\n",
      "71/71 [==============================] - ETA: 0s - loss: 13.0503 - accuracy: 0.6164"
     ]
    },
    {
     "name": "stderr",
     "output_type": "stream",
     "text": [
      "2024-03-12 01:45 INFO End of Epoch 1296 - Loss: 13.0503\n"
     ]
    },
    {
     "name": "stdout",
     "output_type": "stream",
     "text": [
      "71/71 [==============================] - 21s 293ms/step - loss: 13.0503 - accuracy: 0.6164\n",
      "Epoch 1297/1600\n",
      "71/71 [==============================] - ETA: 0s - loss: 13.4352 - accuracy: 0.6173"
     ]
    },
    {
     "name": "stderr",
     "output_type": "stream",
     "text": [
      "2024-03-12 01:46 INFO End of Epoch 1297 - Loss: 13.4352\n"
     ]
    },
    {
     "name": "stdout",
     "output_type": "stream",
     "text": [
      "71/71 [==============================] - 20s 288ms/step - loss: 13.4352 - accuracy: 0.6173\n",
      "Epoch 1298/1600\n",
      "71/71 [==============================] - ETA: 0s - loss: 9.2124 - accuracy: 0.6283"
     ]
    },
    {
     "name": "stderr",
     "output_type": "stream",
     "text": [
      "2024-03-12 01:46 INFO End of Epoch 1298 - Loss: 9.2124\n"
     ]
    },
    {
     "name": "stdout",
     "output_type": "stream",
     "text": [
      "71/71 [==============================] - 21s 292ms/step - loss: 9.2124 - accuracy: 0.6283\n",
      "Epoch 1299/1600\n",
      "71/71 [==============================] - ETA: 0s - loss: 6.1344 - accuracy: 0.6414"
     ]
    },
    {
     "name": "stderr",
     "output_type": "stream",
     "text": [
      "2024-03-12 01:47 INFO End of Epoch 1299 - Loss: 6.1344\n"
     ]
    },
    {
     "name": "stdout",
     "output_type": "stream",
     "text": [
      "71/71 [==============================] - 21s 291ms/step - loss: 6.1344 - accuracy: 0.6414\n",
      "Epoch 1300/1600\n",
      "71/71 [==============================] - ETA: 0s - loss: 4.6578 - accuracy: 0.6511"
     ]
    },
    {
     "name": "stderr",
     "output_type": "stream",
     "text": [
      "2024-03-12 01:47 INFO End of Epoch 1300 - Loss: 4.6578\n"
     ]
    },
    {
     "name": "stdout",
     "output_type": "stream",
     "text": [
      "71/71 [==============================] - 21s 290ms/step - loss: 4.6578 - accuracy: 0.6511\n",
      "Epoch 1301/1600\n",
      "71/71 [==============================] - ETA: 0s - loss: 4.4596 - accuracy: 0.6579"
     ]
    },
    {
     "name": "stderr",
     "output_type": "stream",
     "text": [
      "2024-03-12 01:47 INFO End of Epoch 1301 - Loss: 4.4596\n"
     ]
    },
    {
     "name": "stdout",
     "output_type": "stream",
     "text": [
      "71/71 [==============================] - 21s 291ms/step - loss: 4.4596 - accuracy: 0.6579\n",
      "Epoch 1302/1600\n",
      "71/71 [==============================] - ETA: 0s - loss: 3.9044 - accuracy: 0.6586"
     ]
    },
    {
     "name": "stderr",
     "output_type": "stream",
     "text": [
      "2024-03-12 01:48 INFO End of Epoch 1302 - Loss: 3.9044\n"
     ]
    },
    {
     "name": "stdout",
     "output_type": "stream",
     "text": [
      "71/71 [==============================] - 20s 287ms/step - loss: 3.9044 - accuracy: 0.6586\n",
      "Epoch 1303/1600\n",
      "71/71 [==============================] - ETA: 0s - loss: 5.2595 - accuracy: 0.6627"
     ]
    },
    {
     "name": "stderr",
     "output_type": "stream",
     "text": [
      "2024-03-12 01:48 INFO End of Epoch 1303 - Loss: 5.2595\n"
     ]
    },
    {
     "name": "stdout",
     "output_type": "stream",
     "text": [
      "71/71 [==============================] - 20s 286ms/step - loss: 5.2595 - accuracy: 0.6627\n",
      "Epoch 1304/1600\n",
      "71/71 [==============================] - ETA: 0s - loss: 4.4311 - accuracy: 0.6594"
     ]
    },
    {
     "name": "stderr",
     "output_type": "stream",
     "text": [
      "2024-03-12 01:49 INFO End of Epoch 1304 - Loss: 4.4311\n"
     ]
    },
    {
     "name": "stdout",
     "output_type": "stream",
     "text": [
      "71/71 [==============================] - 21s 292ms/step - loss: 4.4311 - accuracy: 0.6594\n",
      "Epoch 1305/1600\n",
      "71/71 [==============================] - ETA: 0s - loss: 4.2192 - accuracy: 0.6613"
     ]
    },
    {
     "name": "stderr",
     "output_type": "stream",
     "text": [
      "2024-03-12 01:49 INFO End of Epoch 1305 - Loss: 4.2192\n"
     ]
    },
    {
     "name": "stdout",
     "output_type": "stream",
     "text": [
      "71/71 [==============================] - 21s 290ms/step - loss: 4.2192 - accuracy: 0.6613\n",
      "Epoch 1306/1600\n",
      "71/71 [==============================] - ETA: 0s - loss: 4.1844 - accuracy: 0.6573"
     ]
    },
    {
     "name": "stderr",
     "output_type": "stream",
     "text": [
      "2024-03-12 01:50 INFO End of Epoch 1306 - Loss: 4.1844\n"
     ]
    },
    {
     "name": "stdout",
     "output_type": "stream",
     "text": [
      "71/71 [==============================] - 20s 288ms/step - loss: 4.1844 - accuracy: 0.6573\n",
      "Epoch 1307/1600\n",
      "71/71 [==============================] - ETA: 0s - loss: 4.2151 - accuracy: 0.6664"
     ]
    },
    {
     "name": "stderr",
     "output_type": "stream",
     "text": [
      "2024-03-12 01:50 INFO End of Epoch 1307 - Loss: 4.2151\n"
     ]
    },
    {
     "name": "stdout",
     "output_type": "stream",
     "text": [
      "71/71 [==============================] - 21s 289ms/step - loss: 4.2151 - accuracy: 0.6664\n",
      "Epoch 1308/1600\n",
      "71/71 [==============================] - ETA: 0s - loss: 4.3265 - accuracy: 0.6640"
     ]
    },
    {
     "name": "stderr",
     "output_type": "stream",
     "text": [
      "2024-03-12 01:51 INFO End of Epoch 1308 - Loss: 4.3265\n"
     ]
    },
    {
     "name": "stdout",
     "output_type": "stream",
     "text": [
      "71/71 [==============================] - 20s 289ms/step - loss: 4.3265 - accuracy: 0.6640\n",
      "Epoch 1309/1600\n",
      "71/71 [==============================] - ETA: 0s - loss: 5.5218 - accuracy: 0.6542"
     ]
    },
    {
     "name": "stderr",
     "output_type": "stream",
     "text": [
      "2024-03-12 01:51 INFO End of Epoch 1309 - Loss: 5.5218\n"
     ]
    },
    {
     "name": "stdout",
     "output_type": "stream",
     "text": [
      "71/71 [==============================] - 21s 290ms/step - loss: 5.5218 - accuracy: 0.6542\n",
      "Epoch 1310/1600\n",
      "71/71 [==============================] - ETA: 0s - loss: 5.0029 - accuracy: 0.6606"
     ]
    },
    {
     "name": "stderr",
     "output_type": "stream",
     "text": [
      "2024-03-12 01:51 INFO End of Epoch 1310 - Loss: 5.0029\n"
     ]
    },
    {
     "name": "stdout",
     "output_type": "stream",
     "text": [
      "71/71 [==============================] - 20s 289ms/step - loss: 5.0029 - accuracy: 0.6606\n",
      "Epoch 1311/1600\n",
      "71/71 [==============================] - ETA: 0s - loss: 5.0290 - accuracy: 0.6498"
     ]
    },
    {
     "name": "stderr",
     "output_type": "stream",
     "text": [
      "2024-03-12 01:52 INFO End of Epoch 1311 - Loss: 5.0290\n"
     ]
    },
    {
     "name": "stdout",
     "output_type": "stream",
     "text": [
      "71/71 [==============================] - 21s 289ms/step - loss: 5.0290 - accuracy: 0.6498\n",
      "Epoch 1312/1600\n",
      "71/71 [==============================] - ETA: 0s - loss: 5.4888 - accuracy: 0.6545"
     ]
    },
    {
     "name": "stderr",
     "output_type": "stream",
     "text": [
      "2024-03-12 01:52 INFO End of Epoch 1312 - Loss: 5.4888\n"
     ]
    },
    {
     "name": "stdout",
     "output_type": "stream",
     "text": [
      "71/71 [==============================] - 21s 291ms/step - loss: 5.4888 - accuracy: 0.6545\n",
      "Epoch 1313/1600\n",
      "71/71 [==============================] - ETA: 0s - loss: 5.5207 - accuracy: 0.6569"
     ]
    },
    {
     "name": "stderr",
     "output_type": "stream",
     "text": [
      "2024-03-12 01:53 INFO End of Epoch 1313 - Loss: 5.5207\n"
     ]
    },
    {
     "name": "stdout",
     "output_type": "stream",
     "text": [
      "71/71 [==============================] - 21s 289ms/step - loss: 5.5207 - accuracy: 0.6569\n",
      "Epoch 1314/1600\n",
      "71/71 [==============================] - ETA: 0s - loss: 5.9428 - accuracy: 0.6586"
     ]
    },
    {
     "name": "stderr",
     "output_type": "stream",
     "text": [
      "2024-03-12 01:53 INFO End of Epoch 1314 - Loss: 5.9428\n"
     ]
    },
    {
     "name": "stdout",
     "output_type": "stream",
     "text": [
      "71/71 [==============================] - 21s 290ms/step - loss: 5.9428 - accuracy: 0.6586\n",
      "Epoch 1315/1600\n",
      "71/71 [==============================] - ETA: 0s - loss: 10.0519 - accuracy: 0.6498"
     ]
    },
    {
     "name": "stderr",
     "output_type": "stream",
     "text": [
      "2024-03-12 01:54 INFO End of Epoch 1315 - Loss: 10.0519\n"
     ]
    },
    {
     "name": "stdout",
     "output_type": "stream",
     "text": [
      "71/71 [==============================] - 21s 290ms/step - loss: 10.0519 - accuracy: 0.6498\n",
      "Epoch 1316/1600\n",
      "71/71 [==============================] - ETA: 0s - loss: 13.4301 - accuracy: 0.6207"
     ]
    },
    {
     "name": "stderr",
     "output_type": "stream",
     "text": [
      "2024-03-12 01:54 INFO End of Epoch 1316 - Loss: 13.4301\n"
     ]
    },
    {
     "name": "stdout",
     "output_type": "stream",
     "text": [
      "71/71 [==============================] - 21s 289ms/step - loss: 13.4301 - accuracy: 0.6207\n",
      "Epoch 1317/1600\n",
      "71/71 [==============================] - ETA: 0s - loss: 7.1209 - accuracy: 0.6428"
     ]
    },
    {
     "name": "stderr",
     "output_type": "stream",
     "text": [
      "2024-03-12 01:55 INFO End of Epoch 1317 - Loss: 7.1209\n"
     ]
    },
    {
     "name": "stdout",
     "output_type": "stream",
     "text": [
      "71/71 [==============================] - 21s 290ms/step - loss: 7.1209 - accuracy: 0.6428\n",
      "Epoch 1318/1600\n",
      "71/71 [==============================] - ETA: 0s - loss: 4.4400 - accuracy: 0.6498"
     ]
    },
    {
     "name": "stderr",
     "output_type": "stream",
     "text": [
      "2024-03-12 01:55 INFO End of Epoch 1318 - Loss: 4.4400\n"
     ]
    },
    {
     "name": "stdout",
     "output_type": "stream",
     "text": [
      "71/71 [==============================] - 21s 290ms/step - loss: 4.4400 - accuracy: 0.6498\n",
      "Epoch 1319/1600\n",
      "71/71 [==============================] - ETA: 0s - loss: 4.6069 - accuracy: 0.6506"
     ]
    },
    {
     "name": "stderr",
     "output_type": "stream",
     "text": [
      "2024-03-12 01:55 INFO End of Epoch 1319 - Loss: 4.6069\n"
     ]
    },
    {
     "name": "stdout",
     "output_type": "stream",
     "text": [
      "71/71 [==============================] - 21s 290ms/step - loss: 4.6069 - accuracy: 0.6506\n",
      "Epoch 1320/1600\n",
      "71/71 [==============================] - ETA: 0s - loss: 5.1144 - accuracy: 0.6579"
     ]
    },
    {
     "name": "stderr",
     "output_type": "stream",
     "text": [
      "2024-03-12 01:56 INFO End of Epoch 1320 - Loss: 5.1144\n"
     ]
    },
    {
     "name": "stdout",
     "output_type": "stream",
     "text": [
      "71/71 [==============================] - 21s 290ms/step - loss: 5.1144 - accuracy: 0.6579\n",
      "Epoch 1321/1600\n",
      "71/71 [==============================] - ETA: 0s - loss: 5.4171 - accuracy: 0.6485"
     ]
    },
    {
     "name": "stderr",
     "output_type": "stream",
     "text": [
      "2024-03-12 01:56 INFO End of Epoch 1321 - Loss: 5.4171\n"
     ]
    },
    {
     "name": "stdout",
     "output_type": "stream",
     "text": [
      "71/71 [==============================] - 21s 291ms/step - loss: 5.4171 - accuracy: 0.6485\n",
      "Epoch 1322/1600\n",
      "71/71 [==============================] - ETA: 0s - loss: 5.4138 - accuracy: 0.6153"
     ]
    },
    {
     "name": "stderr",
     "output_type": "stream",
     "text": [
      "2024-03-12 01:57 INFO End of Epoch 1322 - Loss: 5.4138\n"
     ]
    },
    {
     "name": "stdout",
     "output_type": "stream",
     "text": [
      "71/71 [==============================] - 21s 291ms/step - loss: 5.4138 - accuracy: 0.6153\n",
      "Epoch 1323/1600\n",
      "71/71 [==============================] - ETA: 0s - loss: 3.4122 - accuracy: 0.6333"
     ]
    },
    {
     "name": "stderr",
     "output_type": "stream",
     "text": [
      "2024-03-12 01:57 INFO End of Epoch 1323 - Loss: 3.4122\n"
     ]
    },
    {
     "name": "stdout",
     "output_type": "stream",
     "text": [
      "71/71 [==============================] - 21s 290ms/step - loss: 3.4122 - accuracy: 0.6333\n",
      "Epoch 1324/1600\n",
      "71/71 [==============================] - ETA: 0s - loss: 2.6198 - accuracy: 0.6502"
     ]
    },
    {
     "name": "stderr",
     "output_type": "stream",
     "text": [
      "2024-03-12 01:58 INFO End of Epoch 1324 - Loss: 2.6198\n"
     ]
    },
    {
     "name": "stdout",
     "output_type": "stream",
     "text": [
      "71/71 [==============================] - 21s 291ms/step - loss: 2.6198 - accuracy: 0.6502\n",
      "Epoch 1325/1600\n",
      "71/71 [==============================] - ETA: 0s - loss: 2.5539 - accuracy: 0.6495"
     ]
    },
    {
     "name": "stderr",
     "output_type": "stream",
     "text": [
      "2024-03-12 01:58 INFO End of Epoch 1325 - Loss: 2.5539\n"
     ]
    },
    {
     "name": "stdout",
     "output_type": "stream",
     "text": [
      "71/71 [==============================] - 21s 289ms/step - loss: 2.5539 - accuracy: 0.6495\n",
      "Epoch 1326/1600\n",
      "71/71 [==============================] - ETA: 0s - loss: 2.4290 - accuracy: 0.6542"
     ]
    },
    {
     "name": "stderr",
     "output_type": "stream",
     "text": [
      "2024-03-12 01:59 INFO End of Epoch 1326 - Loss: 2.4290\n"
     ]
    },
    {
     "name": "stdout",
     "output_type": "stream",
     "text": [
      "71/71 [==============================] - 21s 290ms/step - loss: 2.4290 - accuracy: 0.6542\n",
      "Epoch 1327/1600\n",
      "71/71 [==============================] - ETA: 0s - loss: 3.0755 - accuracy: 0.6604"
     ]
    },
    {
     "name": "stderr",
     "output_type": "stream",
     "text": [
      "2024-03-12 01:59 INFO End of Epoch 1327 - Loss: 3.0755\n"
     ]
    },
    {
     "name": "stdout",
     "output_type": "stream",
     "text": [
      "71/71 [==============================] - 21s 291ms/step - loss: 3.0755 - accuracy: 0.6604\n",
      "Epoch 1328/1600\n",
      "71/71 [==============================] - ETA: 0s - loss: 7.4966 - accuracy: 0.6352"
     ]
    },
    {
     "name": "stderr",
     "output_type": "stream",
     "text": [
      "2024-03-12 01:59 INFO End of Epoch 1328 - Loss: 7.4966\n"
     ]
    },
    {
     "name": "stdout",
     "output_type": "stream",
     "text": [
      "71/71 [==============================] - 20s 287ms/step - loss: 7.4966 - accuracy: 0.6352\n",
      "Epoch 1329/1600\n",
      "71/71 [==============================] - ETA: 0s - loss: 9.2427 - accuracy: 0.6181"
     ]
    },
    {
     "name": "stderr",
     "output_type": "stream",
     "text": [
      "2024-03-12 02:00 INFO End of Epoch 1329 - Loss: 9.2427\n"
     ]
    },
    {
     "name": "stdout",
     "output_type": "stream",
     "text": [
      "71/71 [==============================] - 21s 291ms/step - loss: 9.2427 - accuracy: 0.6181\n",
      "Epoch 1330/1600\n",
      "71/71 [==============================] - ETA: 0s - loss: 5.7347 - accuracy: 0.6102"
     ]
    },
    {
     "name": "stderr",
     "output_type": "stream",
     "text": [
      "2024-03-12 02:00 INFO End of Epoch 1330 - Loss: 5.7347\n"
     ]
    },
    {
     "name": "stdout",
     "output_type": "stream",
     "text": [
      "71/71 [==============================] - 20s 289ms/step - loss: 5.7347 - accuracy: 0.6102\n",
      "Epoch 1331/1600\n",
      "71/71 [==============================] - ETA: 0s - loss: 5.0315 - accuracy: 0.5953"
     ]
    },
    {
     "name": "stderr",
     "output_type": "stream",
     "text": [
      "2024-03-12 02:01 INFO End of Epoch 1331 - Loss: 5.0315\n"
     ]
    },
    {
     "name": "stdout",
     "output_type": "stream",
     "text": [
      "71/71 [==============================] - 21s 289ms/step - loss: 5.0315 - accuracy: 0.5953\n",
      "Epoch 1332/1600\n",
      "71/71 [==============================] - ETA: 0s - loss: 2.9463 - accuracy: 0.6258"
     ]
    },
    {
     "name": "stderr",
     "output_type": "stream",
     "text": [
      "2024-03-12 02:01 INFO End of Epoch 1332 - Loss: 2.9463\n"
     ]
    },
    {
     "name": "stdout",
     "output_type": "stream",
     "text": [
      "71/71 [==============================] - 20s 283ms/step - loss: 2.9463 - accuracy: 0.6258\n",
      "Epoch 1333/1600\n",
      "71/71 [==============================] - ETA: 0s - loss: 2.5617 - accuracy: 0.6441"
     ]
    },
    {
     "name": "stderr",
     "output_type": "stream",
     "text": [
      "2024-03-12 02:02 INFO End of Epoch 1333 - Loss: 2.5617\n"
     ]
    },
    {
     "name": "stdout",
     "output_type": "stream",
     "text": [
      "71/71 [==============================] - 20s 285ms/step - loss: 2.5617 - accuracy: 0.6441\n",
      "Epoch 1334/1600\n",
      "71/71 [==============================] - ETA: 0s - loss: 3.2498 - accuracy: 0.6493"
     ]
    },
    {
     "name": "stderr",
     "output_type": "stream",
     "text": [
      "2024-03-12 02:02 INFO End of Epoch 1334 - Loss: 3.2498\n"
     ]
    },
    {
     "name": "stdout",
     "output_type": "stream",
     "text": [
      "71/71 [==============================] - 21s 292ms/step - loss: 3.2498 - accuracy: 0.6493\n",
      "Epoch 1335/1600\n",
      "71/71 [==============================] - ETA: 0s - loss: 4.5745 - accuracy: 0.6424"
     ]
    },
    {
     "name": "stderr",
     "output_type": "stream",
     "text": [
      "2024-03-12 02:02 INFO End of Epoch 1335 - Loss: 4.5745\n"
     ]
    },
    {
     "name": "stdout",
     "output_type": "stream",
     "text": [
      "71/71 [==============================] - 20s 288ms/step - loss: 4.5745 - accuracy: 0.6424\n",
      "Epoch 1336/1600\n",
      "71/71 [==============================] - ETA: 0s - loss: 8.3460 - accuracy: 0.6403"
     ]
    },
    {
     "name": "stderr",
     "output_type": "stream",
     "text": [
      "2024-03-12 02:03 INFO End of Epoch 1336 - Loss: 8.3460\n"
     ]
    },
    {
     "name": "stdout",
     "output_type": "stream",
     "text": [
      "71/71 [==============================] - 20s 288ms/step - loss: 8.3460 - accuracy: 0.6403\n",
      "Epoch 1337/1600\n",
      "71/71 [==============================] - ETA: 0s - loss: 9.2410 - accuracy: 0.6095"
     ]
    },
    {
     "name": "stderr",
     "output_type": "stream",
     "text": [
      "2024-03-12 02:03 INFO End of Epoch 1337 - Loss: 9.2410\n"
     ]
    },
    {
     "name": "stdout",
     "output_type": "stream",
     "text": [
      "71/71 [==============================] - 20s 287ms/step - loss: 9.2410 - accuracy: 0.6095\n",
      "Epoch 1338/1600\n",
      "71/71 [==============================] - ETA: 0s - loss: 6.5067 - accuracy: 0.6024"
     ]
    },
    {
     "name": "stderr",
     "output_type": "stream",
     "text": [
      "2024-03-12 02:04 INFO End of Epoch 1338 - Loss: 6.5067\n"
     ]
    },
    {
     "name": "stdout",
     "output_type": "stream",
     "text": [
      "71/71 [==============================] - 20s 287ms/step - loss: 6.5067 - accuracy: 0.6024\n",
      "Epoch 1339/1600\n",
      "71/71 [==============================] - ETA: 0s - loss: 5.5450 - accuracy: 0.6141"
     ]
    },
    {
     "name": "stderr",
     "output_type": "stream",
     "text": [
      "2024-03-12 02:04 INFO End of Epoch 1339 - Loss: 5.5450\n"
     ]
    },
    {
     "name": "stdout",
     "output_type": "stream",
     "text": [
      "71/71 [==============================] - 21s 290ms/step - loss: 5.5450 - accuracy: 0.6141\n",
      "Epoch 1340/1600\n",
      "71/71 [==============================] - ETA: 0s - loss: 4.5280 - accuracy: 0.6062"
     ]
    },
    {
     "name": "stderr",
     "output_type": "stream",
     "text": [
      "2024-03-12 02:05 INFO End of Epoch 1340 - Loss: 4.5280\n"
     ]
    },
    {
     "name": "stdout",
     "output_type": "stream",
     "text": [
      "71/71 [==============================] - 20s 289ms/step - loss: 4.5280 - accuracy: 0.6062\n",
      "Epoch 1341/1600\n",
      "71/71 [==============================] - ETA: 0s - loss: 3.0705 - accuracy: 0.6224"
     ]
    },
    {
     "name": "stderr",
     "output_type": "stream",
     "text": [
      "2024-03-12 02:05 INFO End of Epoch 1341 - Loss: 3.0705\n"
     ]
    },
    {
     "name": "stdout",
     "output_type": "stream",
     "text": [
      "71/71 [==============================] - 20s 286ms/step - loss: 3.0705 - accuracy: 0.6224\n",
      "Epoch 1342/1600\n",
      "71/71 [==============================] - ETA: 0s - loss: 2.1637 - accuracy: 0.6177"
     ]
    },
    {
     "name": "stderr",
     "output_type": "stream",
     "text": [
      "2024-03-12 02:06 INFO End of Epoch 1342 - Loss: 2.1637\n"
     ]
    },
    {
     "name": "stdout",
     "output_type": "stream",
     "text": [
      "71/71 [==============================] - 20s 288ms/step - loss: 2.1637 - accuracy: 0.6177\n",
      "Epoch 1343/1600\n",
      "71/71 [==============================] - ETA: 0s - loss: 1.5445 - accuracy: 0.6361"
     ]
    },
    {
     "name": "stderr",
     "output_type": "stream",
     "text": [
      "2024-03-12 02:06 INFO End of Epoch 1343 - Loss: 1.5445\n"
     ]
    },
    {
     "name": "stdout",
     "output_type": "stream",
     "text": [
      "71/71 [==============================] - 21s 290ms/step - loss: 1.5445 - accuracy: 0.6361\n",
      "Epoch 1344/1600\n",
      "71/71 [==============================] - ETA: 0s - loss: 1.4582 - accuracy: 0.6445"
     ]
    },
    {
     "name": "stderr",
     "output_type": "stream",
     "text": [
      "2024-03-12 02:06 INFO End of Epoch 1344 - Loss: 1.4582\n"
     ]
    },
    {
     "name": "stdout",
     "output_type": "stream",
     "text": [
      "71/71 [==============================] - 20s 289ms/step - loss: 1.4582 - accuracy: 0.6445\n",
      "Epoch 1345/1600\n",
      "71/71 [==============================] - ETA: 0s - loss: 1.8567 - accuracy: 0.6512"
     ]
    },
    {
     "name": "stderr",
     "output_type": "stream",
     "text": [
      "2024-03-12 02:07 INFO End of Epoch 1345 - Loss: 1.8567\n"
     ]
    },
    {
     "name": "stdout",
     "output_type": "stream",
     "text": [
      "71/71 [==============================] - 21s 290ms/step - loss: 1.8567 - accuracy: 0.6512\n",
      "Epoch 1346/1600\n",
      "71/71 [==============================] - ETA: 0s - loss: 3.2621 - accuracy: 0.6471"
     ]
    },
    {
     "name": "stderr",
     "output_type": "stream",
     "text": [
      "2024-03-12 02:07 INFO End of Epoch 1346 - Loss: 3.2621\n"
     ]
    },
    {
     "name": "stdout",
     "output_type": "stream",
     "text": [
      "71/71 [==============================] - 21s 290ms/step - loss: 3.2621 - accuracy: 0.6471\n",
      "Epoch 1347/1600\n",
      "71/71 [==============================] - ETA: 0s - loss: 3.4314 - accuracy: 0.6569"
     ]
    },
    {
     "name": "stderr",
     "output_type": "stream",
     "text": [
      "2024-03-12 02:08 INFO End of Epoch 1347 - Loss: 3.4314\n"
     ]
    },
    {
     "name": "stdout",
     "output_type": "stream",
     "text": [
      "71/71 [==============================] - 21s 290ms/step - loss: 3.4314 - accuracy: 0.6569\n",
      "Epoch 1348/1600\n",
      "71/71 [==============================] - ETA: 0s - loss: 3.1363 - accuracy: 0.6484"
     ]
    },
    {
     "name": "stderr",
     "output_type": "stream",
     "text": [
      "2024-03-12 02:08 INFO End of Epoch 1348 - Loss: 3.1363\n"
     ]
    },
    {
     "name": "stdout",
     "output_type": "stream",
     "text": [
      "71/71 [==============================] - 20s 288ms/step - loss: 3.1363 - accuracy: 0.6484\n",
      "Epoch 1349/1600\n",
      "71/71 [==============================] - ETA: 0s - loss: 6.0716 - accuracy: 0.6509"
     ]
    },
    {
     "name": "stderr",
     "output_type": "stream",
     "text": [
      "2024-03-12 02:09 INFO End of Epoch 1349 - Loss: 6.0716\n"
     ]
    },
    {
     "name": "stdout",
     "output_type": "stream",
     "text": [
      "71/71 [==============================] - 21s 292ms/step - loss: 6.0716 - accuracy: 0.6509\n",
      "Epoch 1350/1600\n",
      "71/71 [==============================] - ETA: 0s - loss: 8.9020 - accuracy: 0.6126"
     ]
    },
    {
     "name": "stderr",
     "output_type": "stream",
     "text": [
      "2024-03-12 02:09 INFO End of Epoch 1350 - Loss: 8.9020\n"
     ]
    },
    {
     "name": "stdout",
     "output_type": "stream",
     "text": [
      "71/71 [==============================] - 20s 288ms/step - loss: 8.9020 - accuracy: 0.6126\n",
      "Epoch 1351/1600\n",
      "71/71 [==============================] - ETA: 0s - loss: 9.1482 - accuracy: 0.5863"
     ]
    },
    {
     "name": "stderr",
     "output_type": "stream",
     "text": [
      "2024-03-12 02:10 INFO End of Epoch 1351 - Loss: 9.1482\n"
     ]
    },
    {
     "name": "stdout",
     "output_type": "stream",
     "text": [
      "71/71 [==============================] - 20s 287ms/step - loss: 9.1482 - accuracy: 0.5863\n",
      "Epoch 1352/1600\n",
      "71/71 [==============================] - ETA: 0s - loss: 8.9833 - accuracy: 0.5900"
     ]
    },
    {
     "name": "stderr",
     "output_type": "stream",
     "text": [
      "2024-03-12 02:10 INFO End of Epoch 1352 - Loss: 8.9833\n"
     ]
    },
    {
     "name": "stdout",
     "output_type": "stream",
     "text": [
      "71/71 [==============================] - 20s 287ms/step - loss: 8.9833 - accuracy: 0.5900\n",
      "Epoch 1353/1600\n",
      "71/71 [==============================] - ETA: 0s - loss: 8.2641 - accuracy: 0.5762"
     ]
    },
    {
     "name": "stderr",
     "output_type": "stream",
     "text": [
      "2024-03-12 02:10 INFO End of Epoch 1353 - Loss: 8.2641\n"
     ]
    },
    {
     "name": "stdout",
     "output_type": "stream",
     "text": [
      "71/71 [==============================] - 20s 288ms/step - loss: 8.2641 - accuracy: 0.5762\n",
      "Epoch 1354/1600\n",
      "71/71 [==============================] - ETA: 0s - loss: 7.1904 - accuracy: 0.5927"
     ]
    },
    {
     "name": "stderr",
     "output_type": "stream",
     "text": [
      "2024-03-12 02:11 INFO End of Epoch 1354 - Loss: 7.1904\n"
     ]
    },
    {
     "name": "stdout",
     "output_type": "stream",
     "text": [
      "71/71 [==============================] - 21s 289ms/step - loss: 7.1904 - accuracy: 0.5927\n",
      "Epoch 1355/1600\n",
      "71/71 [==============================] - ETA: 0s - loss: 6.7890 - accuracy: 0.5728"
     ]
    },
    {
     "name": "stderr",
     "output_type": "stream",
     "text": [
      "2024-03-12 02:11 INFO End of Epoch 1355 - Loss: 6.7890\n"
     ]
    },
    {
     "name": "stdout",
     "output_type": "stream",
     "text": [
      "71/71 [==============================] - 21s 289ms/step - loss: 6.7890 - accuracy: 0.5728\n",
      "Epoch 1356/1600\n",
      "71/71 [==============================] - ETA: 0s - loss: 5.9986 - accuracy: 0.5589"
     ]
    },
    {
     "name": "stderr",
     "output_type": "stream",
     "text": [
      "2024-03-12 02:12 INFO End of Epoch 1356 - Loss: 5.9986\n"
     ]
    },
    {
     "name": "stdout",
     "output_type": "stream",
     "text": [
      "71/71 [==============================] - 21s 290ms/step - loss: 5.9986 - accuracy: 0.5589\n",
      "Epoch 1357/1600\n",
      "71/71 [==============================] - ETA: 0s - loss: 5.9756 - accuracy: 0.5649"
     ]
    },
    {
     "name": "stderr",
     "output_type": "stream",
     "text": [
      "2024-03-12 02:12 INFO End of Epoch 1357 - Loss: 5.9756\n"
     ]
    },
    {
     "name": "stdout",
     "output_type": "stream",
     "text": [
      "71/71 [==============================] - 20s 288ms/step - loss: 5.9756 - accuracy: 0.5649\n",
      "Epoch 1358/1600\n",
      "71/71 [==============================] - ETA: 0s - loss: 4.3386 - accuracy: 0.5581"
     ]
    },
    {
     "name": "stderr",
     "output_type": "stream",
     "text": [
      "2024-03-12 02:13 INFO End of Epoch 1358 - Loss: 4.3386\n"
     ]
    },
    {
     "name": "stdout",
     "output_type": "stream",
     "text": [
      "71/71 [==============================] - 21s 289ms/step - loss: 4.3386 - accuracy: 0.5581\n",
      "Epoch 1359/1600\n",
      "71/71 [==============================] - ETA: 0s - loss: 3.6174 - accuracy: 0.5616"
     ]
    },
    {
     "name": "stderr",
     "output_type": "stream",
     "text": [
      "2024-03-12 02:13 INFO End of Epoch 1359 - Loss: 3.6174\n"
     ]
    },
    {
     "name": "stdout",
     "output_type": "stream",
     "text": [
      "71/71 [==============================] - 20s 289ms/step - loss: 3.6174 - accuracy: 0.5616\n",
      "Epoch 1360/1600\n",
      "71/71 [==============================] - ETA: 0s - loss: 2.8835 - accuracy: 0.5542"
     ]
    },
    {
     "name": "stderr",
     "output_type": "stream",
     "text": [
      "2024-03-12 02:14 INFO End of Epoch 1360 - Loss: 2.8835\n"
     ]
    },
    {
     "name": "stdout",
     "output_type": "stream",
     "text": [
      "71/71 [==============================] - 20s 288ms/step - loss: 2.8835 - accuracy: 0.5542\n",
      "Epoch 1361/1600\n",
      "71/71 [==============================] - ETA: 0s - loss: 2.1121 - accuracy: 0.5721"
     ]
    },
    {
     "name": "stderr",
     "output_type": "stream",
     "text": [
      "2024-03-12 02:14 INFO End of Epoch 1361 - Loss: 2.1121\n"
     ]
    },
    {
     "name": "stdout",
     "output_type": "stream",
     "text": [
      "71/71 [==============================] - 21s 292ms/step - loss: 2.1121 - accuracy: 0.5721\n",
      "Epoch 1362/1600\n",
      "71/71 [==============================] - ETA: 0s - loss: 1.9881 - accuracy: 0.5788"
     ]
    },
    {
     "name": "stderr",
     "output_type": "stream",
     "text": [
      "2024-03-12 02:14 INFO End of Epoch 1362 - Loss: 1.9881\n"
     ]
    },
    {
     "name": "stdout",
     "output_type": "stream",
     "text": [
      "71/71 [==============================] - 20s 288ms/step - loss: 1.9881 - accuracy: 0.5788\n",
      "Epoch 1363/1600\n",
      "71/71 [==============================] - ETA: 0s - loss: 2.5591 - accuracy: 0.5825"
     ]
    },
    {
     "name": "stderr",
     "output_type": "stream",
     "text": [
      "2024-03-12 02:15 INFO End of Epoch 1363 - Loss: 2.5591\n"
     ]
    },
    {
     "name": "stdout",
     "output_type": "stream",
     "text": [
      "71/71 [==============================] - 21s 290ms/step - loss: 2.5591 - accuracy: 0.5825\n",
      "Epoch 1364/1600\n",
      "71/71 [==============================] - ETA: 0s - loss: 6.7757 - accuracy: 0.5846"
     ]
    },
    {
     "name": "stderr",
     "output_type": "stream",
     "text": [
      "2024-03-12 02:15 INFO End of Epoch 1364 - Loss: 6.7757\n"
     ]
    },
    {
     "name": "stdout",
     "output_type": "stream",
     "text": [
      "71/71 [==============================] - 20s 289ms/step - loss: 6.7757 - accuracy: 0.5846\n",
      "Epoch 1365/1600\n",
      "71/71 [==============================] - ETA: 0s - loss: 8.6386 - accuracy: 0.5583"
     ]
    },
    {
     "name": "stderr",
     "output_type": "stream",
     "text": [
      "2024-03-12 02:16 INFO End of Epoch 1365 - Loss: 8.6386\n"
     ]
    },
    {
     "name": "stdout",
     "output_type": "stream",
     "text": [
      "71/71 [==============================] - 21s 289ms/step - loss: 8.6386 - accuracy: 0.5583\n",
      "Epoch 1366/1600\n",
      "71/71 [==============================] - ETA: 0s - loss: 6.3196 - accuracy: 0.5696"
     ]
    },
    {
     "name": "stderr",
     "output_type": "stream",
     "text": [
      "2024-03-12 02:16 INFO End of Epoch 1366 - Loss: 6.3196\n"
     ]
    },
    {
     "name": "stdout",
     "output_type": "stream",
     "text": [
      "71/71 [==============================] - 21s 289ms/step - loss: 6.3196 - accuracy: 0.5696\n",
      "Epoch 1367/1600\n",
      "71/71 [==============================] - ETA: 0s - loss: 4.1290 - accuracy: 0.5802"
     ]
    },
    {
     "name": "stderr",
     "output_type": "stream",
     "text": [
      "2024-03-12 02:17 INFO End of Epoch 1367 - Loss: 4.1290\n"
     ]
    },
    {
     "name": "stdout",
     "output_type": "stream",
     "text": [
      "71/71 [==============================] - 20s 288ms/step - loss: 4.1290 - accuracy: 0.5802\n",
      "Epoch 1368/1600\n",
      "71/71 [==============================] - ETA: 0s - loss: 5.1869 - accuracy: 0.5782"
     ]
    },
    {
     "name": "stderr",
     "output_type": "stream",
     "text": [
      "2024-03-12 02:17 INFO End of Epoch 1368 - Loss: 5.1869\n"
     ]
    },
    {
     "name": "stdout",
     "output_type": "stream",
     "text": [
      "71/71 [==============================] - 20s 286ms/step - loss: 5.1869 - accuracy: 0.5782\n",
      "Epoch 1369/1600\n",
      "71/71 [==============================] - ETA: 0s - loss: 4.4191 - accuracy: 0.5930"
     ]
    },
    {
     "name": "stderr",
     "output_type": "stream",
     "text": [
      "2024-03-12 02:17 INFO End of Epoch 1369 - Loss: 4.4191\n"
     ]
    },
    {
     "name": "stdout",
     "output_type": "stream",
     "text": [
      "71/71 [==============================] - 21s 290ms/step - loss: 4.4191 - accuracy: 0.5930\n",
      "Epoch 1370/1600\n",
      "71/71 [==============================] - ETA: 0s - loss: 4.9696 - accuracy: 0.5706"
     ]
    },
    {
     "name": "stderr",
     "output_type": "stream",
     "text": [
      "2024-03-12 02:18 INFO End of Epoch 1370 - Loss: 4.9696\n"
     ]
    },
    {
     "name": "stdout",
     "output_type": "stream",
     "text": [
      "71/71 [==============================] - 20s 288ms/step - loss: 4.9696 - accuracy: 0.5706\n",
      "Epoch 1371/1600\n",
      "71/71 [==============================] - ETA: 0s - loss: 5.3893 - accuracy: 0.5664"
     ]
    },
    {
     "name": "stderr",
     "output_type": "stream",
     "text": [
      "2024-03-12 02:18 INFO End of Epoch 1371 - Loss: 5.3893\n"
     ]
    },
    {
     "name": "stdout",
     "output_type": "stream",
     "text": [
      "71/71 [==============================] - 20s 287ms/step - loss: 5.3893 - accuracy: 0.5664\n",
      "Epoch 1372/1600\n",
      "71/71 [==============================] - ETA: 0s - loss: 5.8917 - accuracy: 0.5906"
     ]
    },
    {
     "name": "stderr",
     "output_type": "stream",
     "text": [
      "2024-03-12 02:19 INFO End of Epoch 1372 - Loss: 5.8917\n"
     ]
    },
    {
     "name": "stdout",
     "output_type": "stream",
     "text": [
      "71/71 [==============================] - 20s 288ms/step - loss: 5.8917 - accuracy: 0.5906\n",
      "Epoch 1373/1600\n",
      "71/71 [==============================] - ETA: 0s - loss: 5.2354 - accuracy: 0.5764"
     ]
    },
    {
     "name": "stderr",
     "output_type": "stream",
     "text": [
      "2024-03-12 02:19 INFO End of Epoch 1373 - Loss: 5.2354\n"
     ]
    },
    {
     "name": "stdout",
     "output_type": "stream",
     "text": [
      "71/71 [==============================] - 20s 286ms/step - loss: 5.2354 - accuracy: 0.5764\n",
      "Epoch 1374/1600\n",
      "71/71 [==============================] - ETA: 0s - loss: 4.0489 - accuracy: 0.6032"
     ]
    },
    {
     "name": "stderr",
     "output_type": "stream",
     "text": [
      "2024-03-12 02:20 INFO End of Epoch 1374 - Loss: 4.0489\n"
     ]
    },
    {
     "name": "stdout",
     "output_type": "stream",
     "text": [
      "71/71 [==============================] - 21s 289ms/step - loss: 4.0489 - accuracy: 0.6032\n",
      "Epoch 1375/1600\n",
      "71/71 [==============================] - ETA: 0s - loss: 4.1349 - accuracy: 0.5830"
     ]
    },
    {
     "name": "stderr",
     "output_type": "stream",
     "text": [
      "2024-03-12 02:20 INFO End of Epoch 1375 - Loss: 4.1349\n"
     ]
    },
    {
     "name": "stdout",
     "output_type": "stream",
     "text": [
      "71/71 [==============================] - 20s 289ms/step - loss: 4.1349 - accuracy: 0.5830\n",
      "Epoch 1376/1600\n",
      "71/71 [==============================] - ETA: 0s - loss: 4.3384 - accuracy: 0.5662"
     ]
    },
    {
     "name": "stderr",
     "output_type": "stream",
     "text": [
      "2024-03-12 02:21 INFO End of Epoch 1376 - Loss: 4.3384\n"
     ]
    },
    {
     "name": "stdout",
     "output_type": "stream",
     "text": [
      "71/71 [==============================] - 21s 289ms/step - loss: 4.3384 - accuracy: 0.5662\n",
      "Epoch 1377/1600\n",
      "71/71 [==============================] - ETA: 0s - loss: 5.4422 - accuracy: 0.5791"
     ]
    },
    {
     "name": "stderr",
     "output_type": "stream",
     "text": [
      "2024-03-12 02:21 INFO End of Epoch 1377 - Loss: 5.4422\n"
     ]
    },
    {
     "name": "stdout",
     "output_type": "stream",
     "text": [
      "71/71 [==============================] - 21s 289ms/step - loss: 5.4422 - accuracy: 0.5791\n",
      "Epoch 1378/1600\n",
      "71/71 [==============================] - ETA: 0s - loss: 5.1295 - accuracy: 0.5799"
     ]
    },
    {
     "name": "stderr",
     "output_type": "stream",
     "text": [
      "2024-03-12 02:21 INFO End of Epoch 1378 - Loss: 5.1295\n"
     ]
    },
    {
     "name": "stdout",
     "output_type": "stream",
     "text": [
      "71/71 [==============================] - 21s 289ms/step - loss: 5.1295 - accuracy: 0.5799\n",
      "Epoch 1379/1600\n",
      "71/71 [==============================] - ETA: 0s - loss: 6.8424 - accuracy: 0.5393"
     ]
    },
    {
     "name": "stderr",
     "output_type": "stream",
     "text": [
      "2024-03-12 02:22 INFO End of Epoch 1379 - Loss: 6.8424\n"
     ]
    },
    {
     "name": "stdout",
     "output_type": "stream",
     "text": [
      "71/71 [==============================] - 20s 288ms/step - loss: 6.8424 - accuracy: 0.5393\n",
      "Epoch 1380/1600\n",
      "71/71 [==============================] - ETA: 0s - loss: 3.9927 - accuracy: 0.5821"
     ]
    },
    {
     "name": "stderr",
     "output_type": "stream",
     "text": [
      "2024-03-12 02:22 INFO End of Epoch 1380 - Loss: 3.9927\n"
     ]
    },
    {
     "name": "stdout",
     "output_type": "stream",
     "text": [
      "71/71 [==============================] - 21s 289ms/step - loss: 3.9927 - accuracy: 0.5821\n",
      "Epoch 1381/1600\n",
      "71/71 [==============================] - ETA: 0s - loss: 2.9441 - accuracy: 0.5910"
     ]
    },
    {
     "name": "stderr",
     "output_type": "stream",
     "text": [
      "2024-03-12 02:23 INFO End of Epoch 1381 - Loss: 2.9441\n"
     ]
    },
    {
     "name": "stdout",
     "output_type": "stream",
     "text": [
      "71/71 [==============================] - 21s 290ms/step - loss: 2.9441 - accuracy: 0.5910\n",
      "Epoch 1382/1600\n",
      "71/71 [==============================] - ETA: 0s - loss: 2.2437 - accuracy: 0.5884"
     ]
    },
    {
     "name": "stderr",
     "output_type": "stream",
     "text": [
      "2024-03-12 02:23 INFO End of Epoch 1382 - Loss: 2.2437\n"
     ]
    },
    {
     "name": "stdout",
     "output_type": "stream",
     "text": [
      "71/71 [==============================] - 21s 291ms/step - loss: 2.2437 - accuracy: 0.5884\n",
      "Epoch 1383/1600\n",
      "71/71 [==============================] - ETA: 0s - loss: 2.0538 - accuracy: 0.5968"
     ]
    },
    {
     "name": "stderr",
     "output_type": "stream",
     "text": [
      "2024-03-12 02:24 INFO End of Epoch 1383 - Loss: 2.0538\n"
     ]
    },
    {
     "name": "stdout",
     "output_type": "stream",
     "text": [
      "71/71 [==============================] - 20s 287ms/step - loss: 2.0538 - accuracy: 0.5968\n",
      "Epoch 1384/1600\n",
      "71/71 [==============================] - ETA: 0s - loss: 2.8164 - accuracy: 0.5951"
     ]
    },
    {
     "name": "stderr",
     "output_type": "stream",
     "text": [
      "2024-03-12 02:24 INFO End of Epoch 1384 - Loss: 2.8164\n"
     ]
    },
    {
     "name": "stdout",
     "output_type": "stream",
     "text": [
      "71/71 [==============================] - 21s 290ms/step - loss: 2.8164 - accuracy: 0.5951\n",
      "Epoch 1385/1600\n",
      "71/71 [==============================] - ETA: 0s - loss: 4.9933 - accuracy: 0.5931"
     ]
    },
    {
     "name": "stderr",
     "output_type": "stream",
     "text": [
      "2024-03-12 02:25 INFO End of Epoch 1385 - Loss: 4.9933\n"
     ]
    },
    {
     "name": "stdout",
     "output_type": "stream",
     "text": [
      "71/71 [==============================] - 20s 288ms/step - loss: 4.9933 - accuracy: 0.5931\n",
      "Epoch 1386/1600\n",
      "71/71 [==============================] - ETA: 0s - loss: 7.5949 - accuracy: 0.5635"
     ]
    },
    {
     "name": "stderr",
     "output_type": "stream",
     "text": [
      "2024-03-12 02:25 INFO End of Epoch 1386 - Loss: 7.5949\n"
     ]
    },
    {
     "name": "stdout",
     "output_type": "stream",
     "text": [
      "71/71 [==============================] - 21s 289ms/step - loss: 7.5949 - accuracy: 0.5635\n",
      "Epoch 1387/1600\n",
      "71/71 [==============================] - ETA: 0s - loss: 7.8505 - accuracy: 0.5781"
     ]
    },
    {
     "name": "stderr",
     "output_type": "stream",
     "text": [
      "2024-03-12 02:25 INFO End of Epoch 1387 - Loss: 7.8505\n"
     ]
    },
    {
     "name": "stdout",
     "output_type": "stream",
     "text": [
      "71/71 [==============================] - 20s 288ms/step - loss: 7.8505 - accuracy: 0.5781\n",
      "Epoch 1388/1600\n",
      "71/71 [==============================] - ETA: 0s - loss: 7.9647 - accuracy: 0.5811"
     ]
    },
    {
     "name": "stderr",
     "output_type": "stream",
     "text": [
      "2024-03-12 02:26 INFO End of Epoch 1388 - Loss: 7.9647\n"
     ]
    },
    {
     "name": "stdout",
     "output_type": "stream",
     "text": [
      "71/71 [==============================] - 20s 288ms/step - loss: 7.9647 - accuracy: 0.5811\n",
      "Epoch 1389/1600\n",
      "71/71 [==============================] - ETA: 0s - loss: 7.1162 - accuracy: 0.5738"
     ]
    },
    {
     "name": "stderr",
     "output_type": "stream",
     "text": [
      "2024-03-12 02:26 INFO End of Epoch 1389 - Loss: 7.1162\n"
     ]
    },
    {
     "name": "stdout",
     "output_type": "stream",
     "text": [
      "71/71 [==============================] - 21s 291ms/step - loss: 7.1162 - accuracy: 0.5738\n",
      "Epoch 1390/1600\n",
      "71/71 [==============================] - ETA: 0s - loss: 7.4120 - accuracy: 0.5723"
     ]
    },
    {
     "name": "stderr",
     "output_type": "stream",
     "text": [
      "2024-03-12 02:27 INFO End of Epoch 1390 - Loss: 7.4120\n"
     ]
    },
    {
     "name": "stdout",
     "output_type": "stream",
     "text": [
      "71/71 [==============================] - 20s 287ms/step - loss: 7.4120 - accuracy: 0.5723\n",
      "Epoch 1391/1600\n",
      "71/71 [==============================] - ETA: 0s - loss: 6.1254 - accuracy: 0.5924"
     ]
    },
    {
     "name": "stderr",
     "output_type": "stream",
     "text": [
      "2024-03-12 02:27 INFO End of Epoch 1391 - Loss: 6.1254\n"
     ]
    },
    {
     "name": "stdout",
     "output_type": "stream",
     "text": [
      "71/71 [==============================] - 20s 283ms/step - loss: 6.1254 - accuracy: 0.5924\n",
      "Epoch 1392/1600\n",
      "71/71 [==============================] - ETA: 0s - loss: 4.8391 - accuracy: 0.5970"
     ]
    },
    {
     "name": "stderr",
     "output_type": "stream",
     "text": [
      "2024-03-12 02:28 INFO End of Epoch 1392 - Loss: 4.8391\n"
     ]
    },
    {
     "name": "stdout",
     "output_type": "stream",
     "text": [
      "71/71 [==============================] - 21s 291ms/step - loss: 4.8391 - accuracy: 0.5970\n",
      "Epoch 1393/1600\n",
      "71/71 [==============================] - ETA: 0s - loss: 3.8861 - accuracy: 0.6171"
     ]
    },
    {
     "name": "stderr",
     "output_type": "stream",
     "text": [
      "2024-03-12 02:28 INFO End of Epoch 1393 - Loss: 3.8861\n"
     ]
    },
    {
     "name": "stdout",
     "output_type": "stream",
     "text": [
      "71/71 [==============================] - 20s 286ms/step - loss: 3.8861 - accuracy: 0.6171\n",
      "Epoch 1394/1600\n",
      "71/71 [==============================] - ETA: 0s - loss: 3.9284 - accuracy: 0.6113"
     ]
    },
    {
     "name": "stderr",
     "output_type": "stream",
     "text": [
      "2024-03-12 02:28 INFO End of Epoch 1394 - Loss: 3.9284\n"
     ]
    },
    {
     "name": "stdout",
     "output_type": "stream",
     "text": [
      "71/71 [==============================] - 20s 285ms/step - loss: 3.9284 - accuracy: 0.6113\n",
      "Epoch 1395/1600\n",
      "71/71 [==============================] - ETA: 0s - loss: 3.4124 - accuracy: 0.6014"
     ]
    },
    {
     "name": "stderr",
     "output_type": "stream",
     "text": [
      "2024-03-12 02:29 INFO End of Epoch 1395 - Loss: 3.4124\n"
     ]
    },
    {
     "name": "stdout",
     "output_type": "stream",
     "text": [
      "71/71 [==============================] - 20s 285ms/step - loss: 3.4124 - accuracy: 0.6014\n",
      "Epoch 1396/1600\n",
      "71/71 [==============================] - ETA: 0s - loss: 2.9951 - accuracy: 0.6175"
     ]
    },
    {
     "name": "stderr",
     "output_type": "stream",
     "text": [
      "2024-03-12 02:29 INFO End of Epoch 1396 - Loss: 2.9951\n"
     ]
    },
    {
     "name": "stdout",
     "output_type": "stream",
     "text": [
      "71/71 [==============================] - 20s 285ms/step - loss: 2.9951 - accuracy: 0.6175\n",
      "Epoch 1397/1600\n",
      "71/71 [==============================] - ETA: 0s - loss: 3.6132 - accuracy: 0.6127"
     ]
    },
    {
     "name": "stderr",
     "output_type": "stream",
     "text": [
      "2024-03-12 02:30 INFO End of Epoch 1397 - Loss: 3.6132\n"
     ]
    },
    {
     "name": "stdout",
     "output_type": "stream",
     "text": [
      "71/71 [==============================] - 20s 286ms/step - loss: 3.6132 - accuracy: 0.6127\n",
      "Epoch 1398/1600\n",
      "71/71 [==============================] - ETA: 0s - loss: 4.2403 - accuracy: 0.5909"
     ]
    },
    {
     "name": "stderr",
     "output_type": "stream",
     "text": [
      "2024-03-12 02:30 INFO End of Epoch 1398 - Loss: 4.2403\n"
     ]
    },
    {
     "name": "stdout",
     "output_type": "stream",
     "text": [
      "71/71 [==============================] - 20s 286ms/step - loss: 4.2403 - accuracy: 0.5909\n",
      "Epoch 1399/1600\n",
      "71/71 [==============================] - ETA: 0s - loss: 3.5674 - accuracy: 0.6078"
     ]
    },
    {
     "name": "stderr",
     "output_type": "stream",
     "text": [
      "2024-03-12 02:31 INFO End of Epoch 1399 - Loss: 3.5674\n"
     ]
    },
    {
     "name": "stdout",
     "output_type": "stream",
     "text": [
      "71/71 [==============================] - 20s 285ms/step - loss: 3.5674 - accuracy: 0.6078\n",
      "Epoch 1400/1600\n",
      "71/71 [==============================] - ETA: 0s - loss: 3.9774 - accuracy: 0.6002"
     ]
    },
    {
     "name": "stderr",
     "output_type": "stream",
     "text": [
      "2024-03-12 02:31 INFO End of Epoch 1400 - Loss: 3.9774\n"
     ]
    },
    {
     "name": "stdout",
     "output_type": "stream",
     "text": [
      "71/71 [==============================] - 20s 287ms/step - loss: 3.9774 - accuracy: 0.6002\n",
      "Epoch 1401/1600\n",
      "71/71 [==============================] - ETA: 0s - loss: 3.2149 - accuracy: 0.6241"
     ]
    },
    {
     "name": "stderr",
     "output_type": "stream",
     "text": [
      "2024-03-12 02:32 INFO End of Epoch 1401 - Loss: 3.2149\n"
     ]
    },
    {
     "name": "stdout",
     "output_type": "stream",
     "text": [
      "71/71 [==============================] - 20s 289ms/step - loss: 3.2149 - accuracy: 0.6241\n",
      "Epoch 1402/1600\n",
      "71/71 [==============================] - ETA: 0s - loss: 4.8634 - accuracy: 0.6090"
     ]
    },
    {
     "name": "stderr",
     "output_type": "stream",
     "text": [
      "2024-03-12 02:32 INFO End of Epoch 1402 - Loss: 4.8634\n"
     ]
    },
    {
     "name": "stdout",
     "output_type": "stream",
     "text": [
      "71/71 [==============================] - 20s 288ms/step - loss: 4.8634 - accuracy: 0.6090\n",
      "Epoch 1403/1600\n",
      "71/71 [==============================] - ETA: 0s - loss: 7.1586 - accuracy: 0.5978"
     ]
    },
    {
     "name": "stderr",
     "output_type": "stream",
     "text": [
      "2024-03-12 02:32 INFO End of Epoch 1403 - Loss: 7.1586\n"
     ]
    },
    {
     "name": "stdout",
     "output_type": "stream",
     "text": [
      "71/71 [==============================] - 20s 286ms/step - loss: 7.1586 - accuracy: 0.5978\n",
      "Epoch 1404/1600\n",
      "71/71 [==============================] - ETA: 0s - loss: 10.9734 - accuracy: 0.5880"
     ]
    },
    {
     "name": "stderr",
     "output_type": "stream",
     "text": [
      "2024-03-12 02:33 INFO End of Epoch 1404 - Loss: 10.9734\n"
     ]
    },
    {
     "name": "stdout",
     "output_type": "stream",
     "text": [
      "71/71 [==============================] - 20s 285ms/step - loss: 10.9734 - accuracy: 0.5880\n",
      "Epoch 1405/1600\n",
      "71/71 [==============================] - ETA: 0s - loss: 9.8089 - accuracy: 0.5997"
     ]
    },
    {
     "name": "stderr",
     "output_type": "stream",
     "text": [
      "2024-03-12 02:33 INFO End of Epoch 1405 - Loss: 9.8089\n"
     ]
    },
    {
     "name": "stdout",
     "output_type": "stream",
     "text": [
      "71/71 [==============================] - 21s 289ms/step - loss: 9.8089 - accuracy: 0.5997\n",
      "Epoch 1406/1600\n",
      "71/71 [==============================] - ETA: 0s - loss: 13.1024 - accuracy: 0.5589"
     ]
    },
    {
     "name": "stderr",
     "output_type": "stream",
     "text": [
      "2024-03-12 02:34 INFO End of Epoch 1406 - Loss: 13.1024\n"
     ]
    },
    {
     "name": "stdout",
     "output_type": "stream",
     "text": [
      "71/71 [==============================] - 20s 287ms/step - loss: 13.1024 - accuracy: 0.5589\n",
      "Epoch 1407/1600\n",
      "71/71 [==============================] - ETA: 0s - loss: 10.1953 - accuracy: 0.5717"
     ]
    },
    {
     "name": "stderr",
     "output_type": "stream",
     "text": [
      "2024-03-12 02:34 INFO End of Epoch 1407 - Loss: 10.1953\n"
     ]
    },
    {
     "name": "stdout",
     "output_type": "stream",
     "text": [
      "71/71 [==============================] - 20s 288ms/step - loss: 10.1953 - accuracy: 0.5717\n",
      "Epoch 1408/1600\n",
      "71/71 [==============================] - ETA: 0s - loss: 5.4753 - accuracy: 0.6012"
     ]
    },
    {
     "name": "stderr",
     "output_type": "stream",
     "text": [
      "2024-03-12 02:35 INFO End of Epoch 1408 - Loss: 5.4753\n"
     ]
    },
    {
     "name": "stdout",
     "output_type": "stream",
     "text": [
      "71/71 [==============================] - 21s 289ms/step - loss: 5.4753 - accuracy: 0.6012\n",
      "Epoch 1409/1600\n",
      "71/71 [==============================] - ETA: 0s - loss: 4.6713 - accuracy: 0.6045"
     ]
    },
    {
     "name": "stderr",
     "output_type": "stream",
     "text": [
      "2024-03-12 02:35 INFO End of Epoch 1409 - Loss: 4.6713\n"
     ]
    },
    {
     "name": "stdout",
     "output_type": "stream",
     "text": [
      "71/71 [==============================] - 21s 289ms/step - loss: 4.6713 - accuracy: 0.6045\n",
      "Epoch 1410/1600\n",
      "71/71 [==============================] - ETA: 0s - loss: 2.8766 - accuracy: 0.6194"
     ]
    },
    {
     "name": "stderr",
     "output_type": "stream",
     "text": [
      "2024-03-12 02:36 INFO End of Epoch 1410 - Loss: 2.8766\n"
     ]
    },
    {
     "name": "stdout",
     "output_type": "stream",
     "text": [
      "71/71 [==============================] - 20s 287ms/step - loss: 2.8766 - accuracy: 0.6194\n",
      "Epoch 1411/1600\n",
      "71/71 [==============================] - ETA: 0s - loss: 2.4934 - accuracy: 0.6295"
     ]
    },
    {
     "name": "stderr",
     "output_type": "stream",
     "text": [
      "2024-03-12 02:36 INFO End of Epoch 1411 - Loss: 2.4934\n"
     ]
    },
    {
     "name": "stdout",
     "output_type": "stream",
     "text": [
      "71/71 [==============================] - 21s 289ms/step - loss: 2.4934 - accuracy: 0.6295\n",
      "Epoch 1412/1600\n",
      "71/71 [==============================] - ETA: 0s - loss: 2.3307 - accuracy: 0.6383"
     ]
    },
    {
     "name": "stderr",
     "output_type": "stream",
     "text": [
      "2024-03-12 02:36 INFO End of Epoch 1412 - Loss: 2.3307\n"
     ]
    },
    {
     "name": "stdout",
     "output_type": "stream",
     "text": [
      "71/71 [==============================] - 20s 286ms/step - loss: 2.3307 - accuracy: 0.6383\n",
      "Epoch 1413/1600\n",
      "71/71 [==============================] - ETA: 0s - loss: 2.6900 - accuracy: 0.6359"
     ]
    },
    {
     "name": "stderr",
     "output_type": "stream",
     "text": [
      "2024-03-12 02:37 INFO End of Epoch 1413 - Loss: 2.6900\n"
     ]
    },
    {
     "name": "stdout",
     "output_type": "stream",
     "text": [
      "71/71 [==============================] - 20s 285ms/step - loss: 2.6900 - accuracy: 0.6359\n",
      "Epoch 1414/1600\n",
      "71/71 [==============================] - ETA: 0s - loss: 2.4095 - accuracy: 0.5994"
     ]
    },
    {
     "name": "stderr",
     "output_type": "stream",
     "text": [
      "2024-03-12 02:37 INFO End of Epoch 1414 - Loss: 2.4095\n"
     ]
    },
    {
     "name": "stdout",
     "output_type": "stream",
     "text": [
      "71/71 [==============================] - 20s 286ms/step - loss: 2.4095 - accuracy: 0.5994\n",
      "Epoch 1415/1600\n",
      "71/71 [==============================] - ETA: 0s - loss: 1.7533 - accuracy: 0.6295"
     ]
    },
    {
     "name": "stderr",
     "output_type": "stream",
     "text": [
      "2024-03-12 02:38 INFO End of Epoch 1415 - Loss: 1.7533\n"
     ]
    },
    {
     "name": "stdout",
     "output_type": "stream",
     "text": [
      "71/71 [==============================] - 20s 286ms/step - loss: 1.7533 - accuracy: 0.6295\n",
      "Epoch 1416/1600\n",
      "71/71 [==============================] - ETA: 0s - loss: 2.3019 - accuracy: 0.6276"
     ]
    },
    {
     "name": "stderr",
     "output_type": "stream",
     "text": [
      "2024-03-12 02:38 INFO End of Epoch 1416 - Loss: 2.3019\n"
     ]
    },
    {
     "name": "stdout",
     "output_type": "stream",
     "text": [
      "71/71 [==============================] - 20s 285ms/step - loss: 2.3019 - accuracy: 0.6276\n",
      "Epoch 1417/1600\n",
      "71/71 [==============================] - ETA: 0s - loss: 3.2107 - accuracy: 0.6342"
     ]
    },
    {
     "name": "stderr",
     "output_type": "stream",
     "text": [
      "2024-03-12 02:39 INFO End of Epoch 1417 - Loss: 3.2107\n"
     ]
    },
    {
     "name": "stdout",
     "output_type": "stream",
     "text": [
      "71/71 [==============================] - 20s 286ms/step - loss: 3.2107 - accuracy: 0.6342\n",
      "Epoch 1418/1600\n",
      "71/71 [==============================] - ETA: 0s - loss: 3.6064 - accuracy: 0.6512"
     ]
    },
    {
     "name": "stderr",
     "output_type": "stream",
     "text": [
      "2024-03-12 02:39 INFO End of Epoch 1418 - Loss: 3.6064\n"
     ]
    },
    {
     "name": "stdout",
     "output_type": "stream",
     "text": [
      "71/71 [==============================] - 20s 287ms/step - loss: 3.6064 - accuracy: 0.6512\n",
      "Epoch 1419/1600\n",
      "71/71 [==============================] - ETA: 0s - loss: 3.5000 - accuracy: 0.6238"
     ]
    },
    {
     "name": "stderr",
     "output_type": "stream",
     "text": [
      "2024-03-12 02:39 INFO End of Epoch 1419 - Loss: 3.5000\n"
     ]
    },
    {
     "name": "stdout",
     "output_type": "stream",
     "text": [
      "71/71 [==============================] - 20s 286ms/step - loss: 3.5000 - accuracy: 0.6238\n",
      "Epoch 1420/1600\n",
      "71/71 [==============================] - ETA: 0s - loss: 3.0974 - accuracy: 0.6273"
     ]
    },
    {
     "name": "stderr",
     "output_type": "stream",
     "text": [
      "2024-03-12 02:40 INFO End of Epoch 1420 - Loss: 3.0974\n"
     ]
    },
    {
     "name": "stdout",
     "output_type": "stream",
     "text": [
      "71/71 [==============================] - 21s 291ms/step - loss: 3.0974 - accuracy: 0.6273\n",
      "Epoch 1421/1600\n",
      "71/71 [==============================] - ETA: 0s - loss: 7.9094 - accuracy: 0.6147"
     ]
    },
    {
     "name": "stderr",
     "output_type": "stream",
     "text": [
      "2024-03-12 02:40 INFO End of Epoch 1421 - Loss: 7.9094\n"
     ]
    },
    {
     "name": "stdout",
     "output_type": "stream",
     "text": [
      "71/71 [==============================] - 20s 288ms/step - loss: 7.9094 - accuracy: 0.6147\n",
      "Epoch 1422/1600\n",
      "71/71 [==============================] - ETA: 0s - loss: 6.9253 - accuracy: 0.6157"
     ]
    },
    {
     "name": "stderr",
     "output_type": "stream",
     "text": [
      "2024-03-12 02:41 INFO End of Epoch 1422 - Loss: 6.9253\n"
     ]
    },
    {
     "name": "stdout",
     "output_type": "stream",
     "text": [
      "71/71 [==============================] - 20s 289ms/step - loss: 6.9253 - accuracy: 0.6157\n",
      "Epoch 1423/1600\n",
      "71/71 [==============================] - ETA: 0s - loss: 8.3476 - accuracy: 0.5829"
     ]
    },
    {
     "name": "stderr",
     "output_type": "stream",
     "text": [
      "2024-03-12 02:41 INFO End of Epoch 1423 - Loss: 8.3476\n"
     ]
    },
    {
     "name": "stdout",
     "output_type": "stream",
     "text": [
      "71/71 [==============================] - 21s 289ms/step - loss: 8.3476 - accuracy: 0.5829\n",
      "Epoch 1424/1600\n",
      "71/71 [==============================] - ETA: 0s - loss: 9.1856 - accuracy: 0.5830"
     ]
    },
    {
     "name": "stderr",
     "output_type": "stream",
     "text": [
      "2024-03-12 02:42 INFO End of Epoch 1424 - Loss: 9.1856\n"
     ]
    },
    {
     "name": "stdout",
     "output_type": "stream",
     "text": [
      "71/71 [==============================] - 20s 287ms/step - loss: 9.1856 - accuracy: 0.5830\n",
      "Epoch 1425/1600\n",
      "71/71 [==============================] - ETA: 0s - loss: 6.9281 - accuracy: 0.6009"
     ]
    },
    {
     "name": "stderr",
     "output_type": "stream",
     "text": [
      "2024-03-12 02:42 INFO End of Epoch 1425 - Loss: 6.9281\n"
     ]
    },
    {
     "name": "stdout",
     "output_type": "stream",
     "text": [
      "71/71 [==============================] - 20s 287ms/step - loss: 6.9281 - accuracy: 0.6009\n",
      "Epoch 1426/1600\n",
      "71/71 [==============================] - ETA: 0s - loss: 5.2000 - accuracy: 0.6034"
     ]
    },
    {
     "name": "stderr",
     "output_type": "stream",
     "text": [
      "2024-03-12 02:43 INFO End of Epoch 1426 - Loss: 5.2000\n"
     ]
    },
    {
     "name": "stdout",
     "output_type": "stream",
     "text": [
      "71/71 [==============================] - 21s 289ms/step - loss: 5.2000 - accuracy: 0.6034\n",
      "Epoch 1427/1600\n",
      "71/71 [==============================] - ETA: 0s - loss: 3.8777 - accuracy: 0.6232"
     ]
    },
    {
     "name": "stderr",
     "output_type": "stream",
     "text": [
      "2024-03-12 02:43 INFO End of Epoch 1427 - Loss: 3.8777\n"
     ]
    },
    {
     "name": "stdout",
     "output_type": "stream",
     "text": [
      "71/71 [==============================] - 20s 288ms/step - loss: 3.8777 - accuracy: 0.6232\n",
      "Epoch 1428/1600\n",
      "71/71 [==============================] - ETA: 0s - loss: 3.5451 - accuracy: 0.6350"
     ]
    },
    {
     "name": "stderr",
     "output_type": "stream",
     "text": [
      "2024-03-12 02:43 INFO End of Epoch 1428 - Loss: 3.5451\n"
     ]
    },
    {
     "name": "stdout",
     "output_type": "stream",
     "text": [
      "71/71 [==============================] - 21s 289ms/step - loss: 3.5451 - accuracy: 0.6350\n",
      "Epoch 1429/1600\n",
      "71/71 [==============================] - ETA: 0s - loss: 3.4738 - accuracy: 0.6421"
     ]
    },
    {
     "name": "stderr",
     "output_type": "stream",
     "text": [
      "2024-03-12 02:44 INFO End of Epoch 1429 - Loss: 3.4738\n"
     ]
    },
    {
     "name": "stdout",
     "output_type": "stream",
     "text": [
      "71/71 [==============================] - 20s 284ms/step - loss: 3.4738 - accuracy: 0.6421\n",
      "Epoch 1430/1600\n",
      "71/71 [==============================] - ETA: 0s - loss: 3.2305 - accuracy: 0.6342"
     ]
    },
    {
     "name": "stderr",
     "output_type": "stream",
     "text": [
      "2024-03-12 02:44 INFO End of Epoch 1430 - Loss: 3.2305\n"
     ]
    },
    {
     "name": "stdout",
     "output_type": "stream",
     "text": [
      "71/71 [==============================] - 21s 290ms/step - loss: 3.2305 - accuracy: 0.6342\n",
      "Epoch 1431/1600\n",
      "71/71 [==============================] - ETA: 0s - loss: 2.5259 - accuracy: 0.6557"
     ]
    },
    {
     "name": "stderr",
     "output_type": "stream",
     "text": [
      "2024-03-12 02:45 INFO End of Epoch 1431 - Loss: 2.5259\n"
     ]
    },
    {
     "name": "stdout",
     "output_type": "stream",
     "text": [
      "71/71 [==============================] - 20s 280ms/step - loss: 2.5259 - accuracy: 0.6557\n",
      "Epoch 1432/1600\n",
      "71/71 [==============================] - ETA: 0s - loss: 3.2195 - accuracy: 0.6513"
     ]
    },
    {
     "name": "stderr",
     "output_type": "stream",
     "text": [
      "2024-03-12 02:45 INFO End of Epoch 1432 - Loss: 3.2195\n"
     ]
    },
    {
     "name": "stdout",
     "output_type": "stream",
     "text": [
      "71/71 [==============================] - 20s 286ms/step - loss: 3.2195 - accuracy: 0.6513\n",
      "Epoch 1433/1600\n",
      "71/71 [==============================] - ETA: 0s - loss: 3.4210 - accuracy: 0.6523"
     ]
    },
    {
     "name": "stderr",
     "output_type": "stream",
     "text": [
      "2024-03-12 02:46 INFO End of Epoch 1433 - Loss: 3.4210\n"
     ]
    },
    {
     "name": "stdout",
     "output_type": "stream",
     "text": [
      "71/71 [==============================] - 20s 284ms/step - loss: 3.4210 - accuracy: 0.6523\n",
      "Epoch 1434/1600\n",
      "71/71 [==============================] - ETA: 0s - loss: 5.7610 - accuracy: 0.6469"
     ]
    },
    {
     "name": "stderr",
     "output_type": "stream",
     "text": [
      "2024-03-12 02:46 INFO End of Epoch 1434 - Loss: 5.7610\n"
     ]
    },
    {
     "name": "stdout",
     "output_type": "stream",
     "text": [
      "71/71 [==============================] - 20s 284ms/step - loss: 5.7610 - accuracy: 0.6469\n",
      "Epoch 1435/1600\n",
      "71/71 [==============================] - ETA: 0s - loss: 7.4491 - accuracy: 0.6215"
     ]
    },
    {
     "name": "stderr",
     "output_type": "stream",
     "text": [
      "2024-03-12 02:46 INFO End of Epoch 1435 - Loss: 7.4491\n"
     ]
    },
    {
     "name": "stdout",
     "output_type": "stream",
     "text": [
      "71/71 [==============================] - 20s 284ms/step - loss: 7.4491 - accuracy: 0.6215\n",
      "Epoch 1436/1600\n",
      "71/71 [==============================] - ETA: 0s - loss: 10.3146 - accuracy: 0.6100"
     ]
    },
    {
     "name": "stderr",
     "output_type": "stream",
     "text": [
      "2024-03-12 02:47 INFO End of Epoch 1436 - Loss: 10.3146\n"
     ]
    },
    {
     "name": "stdout",
     "output_type": "stream",
     "text": [
      "71/71 [==============================] - 20s 285ms/step - loss: 10.3146 - accuracy: 0.6100\n",
      "Epoch 1437/1600\n",
      "71/71 [==============================] - ETA: 0s - loss: 8.9557 - accuracy: 0.6290"
     ]
    },
    {
     "name": "stderr",
     "output_type": "stream",
     "text": [
      "2024-03-12 02:47 INFO End of Epoch 1437 - Loss: 8.9557\n"
     ]
    },
    {
     "name": "stdout",
     "output_type": "stream",
     "text": [
      "71/71 [==============================] - 20s 285ms/step - loss: 8.9557 - accuracy: 0.6290\n",
      "Epoch 1438/1600\n",
      "71/71 [==============================] - ETA: 0s - loss: 6.1637 - accuracy: 0.6334"
     ]
    },
    {
     "name": "stderr",
     "output_type": "stream",
     "text": [
      "2024-03-12 02:48 INFO End of Epoch 1438 - Loss: 6.1637\n"
     ]
    },
    {
     "name": "stdout",
     "output_type": "stream",
     "text": [
      "71/71 [==============================] - 21s 289ms/step - loss: 6.1637 - accuracy: 0.6334\n",
      "Epoch 1439/1600\n",
      "71/71 [==============================] - ETA: 0s - loss: 7.9445 - accuracy: 0.6210"
     ]
    },
    {
     "name": "stderr",
     "output_type": "stream",
     "text": [
      "2024-03-12 02:48 INFO End of Epoch 1439 - Loss: 7.9445\n"
     ]
    },
    {
     "name": "stdout",
     "output_type": "stream",
     "text": [
      "71/71 [==============================] - 20s 286ms/step - loss: 7.9445 - accuracy: 0.6210\n",
      "Epoch 1440/1600\n",
      "71/71 [==============================] - ETA: 0s - loss: 7.2491 - accuracy: 0.6471"
     ]
    },
    {
     "name": "stderr",
     "output_type": "stream",
     "text": [
      "2024-03-12 02:49 INFO End of Epoch 1440 - Loss: 7.2491\n"
     ]
    },
    {
     "name": "stdout",
     "output_type": "stream",
     "text": [
      "71/71 [==============================] - 20s 286ms/step - loss: 7.2491 - accuracy: 0.6471\n",
      "Epoch 1441/1600\n",
      "71/71 [==============================] - ETA: 0s - loss: 4.7414 - accuracy: 0.6344"
     ]
    },
    {
     "name": "stderr",
     "output_type": "stream",
     "text": [
      "2024-03-12 02:49 INFO End of Epoch 1441 - Loss: 4.7414\n"
     ]
    },
    {
     "name": "stdout",
     "output_type": "stream",
     "text": [
      "71/71 [==============================] - 20s 285ms/step - loss: 4.7414 - accuracy: 0.6344\n",
      "Epoch 1442/1600\n",
      "71/71 [==============================] - ETA: 0s - loss: 3.0429 - accuracy: 0.5835"
     ]
    },
    {
     "name": "stderr",
     "output_type": "stream",
     "text": [
      "2024-03-12 02:50 INFO End of Epoch 1442 - Loss: 3.0429\n"
     ]
    },
    {
     "name": "stdout",
     "output_type": "stream",
     "text": [
      "71/71 [==============================] - 20s 289ms/step - loss: 3.0429 - accuracy: 0.5835\n",
      "Epoch 1443/1600\n",
      "71/71 [==============================] - ETA: 0s - loss: 2.5926 - accuracy: 0.5896"
     ]
    },
    {
     "name": "stderr",
     "output_type": "stream",
     "text": [
      "2024-03-12 02:50 INFO End of Epoch 1443 - Loss: 2.5926\n"
     ]
    },
    {
     "name": "stdout",
     "output_type": "stream",
     "text": [
      "71/71 [==============================] - 20s 286ms/step - loss: 2.5926 - accuracy: 0.5896\n",
      "Epoch 1444/1600\n",
      "71/71 [==============================] - ETA: 0s - loss: 2.9682 - accuracy: 0.5782"
     ]
    },
    {
     "name": "stderr",
     "output_type": "stream",
     "text": [
      "2024-03-12 02:50 INFO End of Epoch 1444 - Loss: 2.9682\n"
     ]
    },
    {
     "name": "stdout",
     "output_type": "stream",
     "text": [
      "71/71 [==============================] - 20s 288ms/step - loss: 2.9682 - accuracy: 0.5782\n",
      "Epoch 1445/1600\n",
      "71/71 [==============================] - ETA: 0s - loss: 2.7827 - accuracy: 0.5901"
     ]
    },
    {
     "name": "stderr",
     "output_type": "stream",
     "text": [
      "2024-03-12 02:51 INFO End of Epoch 1445 - Loss: 2.7827\n"
     ]
    },
    {
     "name": "stdout",
     "output_type": "stream",
     "text": [
      "71/71 [==============================] - 20s 288ms/step - loss: 2.7827 - accuracy: 0.5901\n",
      "Epoch 1446/1600\n",
      "71/71 [==============================] - ETA: 0s - loss: 2.1045 - accuracy: 0.6048"
     ]
    },
    {
     "name": "stderr",
     "output_type": "stream",
     "text": [
      "2024-03-12 02:51 INFO End of Epoch 1446 - Loss: 2.1045\n"
     ]
    },
    {
     "name": "stdout",
     "output_type": "stream",
     "text": [
      "71/71 [==============================] - 20s 287ms/step - loss: 2.1045 - accuracy: 0.6048\n",
      "Epoch 1447/1600\n",
      "71/71 [==============================] - ETA: 0s - loss: 1.9609 - accuracy: 0.5953"
     ]
    },
    {
     "name": "stderr",
     "output_type": "stream",
     "text": [
      "2024-03-12 02:52 INFO End of Epoch 1447 - Loss: 1.9609\n"
     ]
    },
    {
     "name": "stdout",
     "output_type": "stream",
     "text": [
      "71/71 [==============================] - 20s 288ms/step - loss: 1.9609 - accuracy: 0.5953\n",
      "Epoch 1448/1600\n",
      "71/71 [==============================] - ETA: 0s - loss: 1.9584 - accuracy: 0.6018"
     ]
    },
    {
     "name": "stderr",
     "output_type": "stream",
     "text": [
      "2024-03-12 02:52 INFO End of Epoch 1448 - Loss: 1.9584\n"
     ]
    },
    {
     "name": "stdout",
     "output_type": "stream",
     "text": [
      "71/71 [==============================] - 20s 286ms/step - loss: 1.9584 - accuracy: 0.6018\n",
      "Epoch 1449/1600\n",
      "71/71 [==============================] - ETA: 0s - loss: 2.7046 - accuracy: 0.6273"
     ]
    },
    {
     "name": "stderr",
     "output_type": "stream",
     "text": [
      "2024-03-12 02:53 INFO End of Epoch 1449 - Loss: 2.7046\n"
     ]
    },
    {
     "name": "stdout",
     "output_type": "stream",
     "text": [
      "71/71 [==============================] - 21s 289ms/step - loss: 2.7046 - accuracy: 0.6273\n",
      "Epoch 1450/1600\n",
      "71/71 [==============================] - ETA: 0s - loss: 3.6786 - accuracy: 0.6371"
     ]
    },
    {
     "name": "stderr",
     "output_type": "stream",
     "text": [
      "2024-03-12 02:53 INFO End of Epoch 1450 - Loss: 3.6786\n"
     ]
    },
    {
     "name": "stdout",
     "output_type": "stream",
     "text": [
      "71/71 [==============================] - 20s 287ms/step - loss: 3.6786 - accuracy: 0.6371\n",
      "Epoch 1451/1600\n",
      "71/71 [==============================] - ETA: 0s - loss: 4.5130 - accuracy: 0.6049"
     ]
    },
    {
     "name": "stderr",
     "output_type": "stream",
     "text": [
      "2024-03-12 02:54 INFO End of Epoch 1451 - Loss: 4.5130\n"
     ]
    },
    {
     "name": "stdout",
     "output_type": "stream",
     "text": [
      "71/71 [==============================] - 20s 287ms/step - loss: 4.5130 - accuracy: 0.6049\n",
      "Epoch 1452/1600\n",
      "71/71 [==============================] - ETA: 0s - loss: 5.8778 - accuracy: 0.6073"
     ]
    },
    {
     "name": "stderr",
     "output_type": "stream",
     "text": [
      "2024-03-12 02:54 INFO End of Epoch 1452 - Loss: 5.8778\n"
     ]
    },
    {
     "name": "stdout",
     "output_type": "stream",
     "text": [
      "71/71 [==============================] - 20s 288ms/step - loss: 5.8778 - accuracy: 0.6073\n",
      "Epoch 1453/1600\n",
      "71/71 [==============================] - ETA: 0s - loss: 8.6638 - accuracy: 0.5999"
     ]
    },
    {
     "name": "stderr",
     "output_type": "stream",
     "text": [
      "2024-03-12 02:54 INFO End of Epoch 1453 - Loss: 8.6638\n"
     ]
    },
    {
     "name": "stdout",
     "output_type": "stream",
     "text": [
      "71/71 [==============================] - 20s 285ms/step - loss: 8.6638 - accuracy: 0.5999\n",
      "Epoch 1454/1600\n",
      "71/71 [==============================] - ETA: 0s - loss: 11.3184 - accuracy: 0.5963"
     ]
    },
    {
     "name": "stderr",
     "output_type": "stream",
     "text": [
      "2024-03-12 02:55 INFO End of Epoch 1454 - Loss: 11.3184\n"
     ]
    },
    {
     "name": "stdout",
     "output_type": "stream",
     "text": [
      "71/71 [==============================] - 21s 290ms/step - loss: 11.3184 - accuracy: 0.5963\n",
      "Epoch 1455/1600\n",
      "71/71 [==============================] - ETA: 0s - loss: 10.0002 - accuracy: 0.6194"
     ]
    },
    {
     "name": "stderr",
     "output_type": "stream",
     "text": [
      "2024-03-12 02:55 INFO End of Epoch 1455 - Loss: 10.0002\n"
     ]
    },
    {
     "name": "stdout",
     "output_type": "stream",
     "text": [
      "71/71 [==============================] - 20s 286ms/step - loss: 10.0002 - accuracy: 0.6194\n",
      "Epoch 1456/1600\n",
      "71/71 [==============================] - ETA: 0s - loss: 10.0544 - accuracy: 0.5738"
     ]
    },
    {
     "name": "stderr",
     "output_type": "stream",
     "text": [
      "2024-03-12 02:56 INFO End of Epoch 1456 - Loss: 10.0544\n"
     ]
    },
    {
     "name": "stdout",
     "output_type": "stream",
     "text": [
      "71/71 [==============================] - 20s 287ms/step - loss: 10.0544 - accuracy: 0.5738\n",
      "Epoch 1457/1600\n",
      "71/71 [==============================] - ETA: 0s - loss: 6.3549 - accuracy: 0.6008"
     ]
    },
    {
     "name": "stderr",
     "output_type": "stream",
     "text": [
      "2024-03-12 02:56 INFO End of Epoch 1457 - Loss: 6.3549\n"
     ]
    },
    {
     "name": "stdout",
     "output_type": "stream",
     "text": [
      "71/71 [==============================] - 20s 288ms/step - loss: 6.3549 - accuracy: 0.6008\n",
      "Epoch 1458/1600\n",
      "71/71 [==============================] - ETA: 0s - loss: 4.7479 - accuracy: 0.5872"
     ]
    },
    {
     "name": "stderr",
     "output_type": "stream",
     "text": [
      "2024-03-12 02:57 INFO End of Epoch 1458 - Loss: 4.7479\n"
     ]
    },
    {
     "name": "stdout",
     "output_type": "stream",
     "text": [
      "71/71 [==============================] - 20s 287ms/step - loss: 4.7479 - accuracy: 0.5872\n",
      "Epoch 1459/1600\n",
      "71/71 [==============================] - ETA: 0s - loss: 5.0110 - accuracy: 0.6092"
     ]
    },
    {
     "name": "stderr",
     "output_type": "stream",
     "text": [
      "2024-03-12 02:57 INFO End of Epoch 1459 - Loss: 5.0110\n"
     ]
    },
    {
     "name": "stdout",
     "output_type": "stream",
     "text": [
      "71/71 [==============================] - 20s 289ms/step - loss: 5.0110 - accuracy: 0.6092\n",
      "Epoch 1460/1600\n",
      "71/71 [==============================] - ETA: 0s - loss: 3.9281 - accuracy: 0.6346"
     ]
    },
    {
     "name": "stderr",
     "output_type": "stream",
     "text": [
      "2024-03-12 02:57 INFO End of Epoch 1460 - Loss: 3.9281\n"
     ]
    },
    {
     "name": "stdout",
     "output_type": "stream",
     "text": [
      "71/71 [==============================] - 20s 288ms/step - loss: 3.9281 - accuracy: 0.6346\n",
      "Epoch 1461/1600\n",
      "71/71 [==============================] - ETA: 0s - loss: 2.7505 - accuracy: 0.6377"
     ]
    },
    {
     "name": "stderr",
     "output_type": "stream",
     "text": [
      "2024-03-12 02:58 INFO End of Epoch 1461 - Loss: 2.7505\n"
     ]
    },
    {
     "name": "stdout",
     "output_type": "stream",
     "text": [
      "71/71 [==============================] - 20s 288ms/step - loss: 2.7505 - accuracy: 0.6377\n",
      "Epoch 1462/1600\n",
      "71/71 [==============================] - ETA: 0s - loss: 2.8467 - accuracy: 0.6411"
     ]
    },
    {
     "name": "stderr",
     "output_type": "stream",
     "text": [
      "2024-03-12 02:58 INFO End of Epoch 1462 - Loss: 2.8467\n"
     ]
    },
    {
     "name": "stdout",
     "output_type": "stream",
     "text": [
      "71/71 [==============================] - 20s 287ms/step - loss: 2.8467 - accuracy: 0.6411\n",
      "Epoch 1463/1600\n",
      "71/71 [==============================] - ETA: 0s - loss: 2.2905 - accuracy: 0.6455"
     ]
    },
    {
     "name": "stderr",
     "output_type": "stream",
     "text": [
      "2024-03-12 02:59 INFO End of Epoch 1463 - Loss: 2.2905\n"
     ]
    },
    {
     "name": "stdout",
     "output_type": "stream",
     "text": [
      "71/71 [==============================] - 21s 290ms/step - loss: 2.2905 - accuracy: 0.6455\n",
      "Epoch 1464/1600\n",
      "71/71 [==============================] - ETA: 0s - loss: 2.0634 - accuracy: 0.6530"
     ]
    },
    {
     "name": "stderr",
     "output_type": "stream",
     "text": [
      "2024-03-12 02:59 INFO End of Epoch 1464 - Loss: 2.0634\n"
     ]
    },
    {
     "name": "stdout",
     "output_type": "stream",
     "text": [
      "71/71 [==============================] - 20s 287ms/step - loss: 2.0634 - accuracy: 0.6530\n",
      "Epoch 1465/1600\n",
      "71/71 [==============================] - ETA: 0s - loss: 4.0616 - accuracy: 0.6645"
     ]
    },
    {
     "name": "stderr",
     "output_type": "stream",
     "text": [
      "2024-03-12 03:00 INFO End of Epoch 1465 - Loss: 4.0616\n"
     ]
    },
    {
     "name": "stdout",
     "output_type": "stream",
     "text": [
      "71/71 [==============================] - 20s 288ms/step - loss: 4.0616 - accuracy: 0.6645\n",
      "Epoch 1466/1600\n",
      "71/71 [==============================] - ETA: 0s - loss: 4.3464 - accuracy: 0.6401"
     ]
    },
    {
     "name": "stderr",
     "output_type": "stream",
     "text": [
      "2024-03-12 03:00 INFO End of Epoch 1466 - Loss: 4.3464\n"
     ]
    },
    {
     "name": "stdout",
     "output_type": "stream",
     "text": [
      "71/71 [==============================] - 20s 288ms/step - loss: 4.3464 - accuracy: 0.6401\n",
      "Epoch 1467/1600\n",
      "71/71 [==============================] - ETA: 0s - loss: 2.6930 - accuracy: 0.6501"
     ]
    },
    {
     "name": "stderr",
     "output_type": "stream",
     "text": [
      "2024-03-12 03:01 INFO End of Epoch 1467 - Loss: 2.6930\n"
     ]
    },
    {
     "name": "stdout",
     "output_type": "stream",
     "text": [
      "71/71 [==============================] - 20s 286ms/step - loss: 2.6930 - accuracy: 0.6501\n",
      "Epoch 1468/1600\n",
      "71/71 [==============================] - ETA: 0s - loss: 2.9841 - accuracy: 0.6670"
     ]
    },
    {
     "name": "stderr",
     "output_type": "stream",
     "text": [
      "2024-03-12 03:01 INFO End of Epoch 1468 - Loss: 2.9841\n"
     ]
    },
    {
     "name": "stdout",
     "output_type": "stream",
     "text": [
      "71/71 [==============================] - 20s 288ms/step - loss: 2.9841 - accuracy: 0.6670\n",
      "Epoch 1469/1600\n",
      "71/71 [==============================] - ETA: 0s - loss: 5.7014 - accuracy: 0.6445"
     ]
    },
    {
     "name": "stderr",
     "output_type": "stream",
     "text": [
      "2024-03-12 03:01 INFO End of Epoch 1469 - Loss: 5.7014\n"
     ]
    },
    {
     "name": "stdout",
     "output_type": "stream",
     "text": [
      "71/71 [==============================] - 20s 286ms/step - loss: 5.7014 - accuracy: 0.6445\n",
      "Epoch 1470/1600\n",
      "71/71 [==============================] - ETA: 0s - loss: 10.2038 - accuracy: 0.6438"
     ]
    },
    {
     "name": "stderr",
     "output_type": "stream",
     "text": [
      "2024-03-12 03:02 INFO End of Epoch 1470 - Loss: 10.2038\n"
     ]
    },
    {
     "name": "stdout",
     "output_type": "stream",
     "text": [
      "71/71 [==============================] - 21s 290ms/step - loss: 10.2038 - accuracy: 0.6438\n",
      "Epoch 1471/1600\n",
      "71/71 [==============================] - ETA: 0s - loss: 10.2035 - accuracy: 0.6489"
     ]
    },
    {
     "name": "stderr",
     "output_type": "stream",
     "text": [
      "2024-03-12 03:02 INFO End of Epoch 1471 - Loss: 10.2035\n"
     ]
    },
    {
     "name": "stdout",
     "output_type": "stream",
     "text": [
      "71/71 [==============================] - 20s 288ms/step - loss: 10.2035 - accuracy: 0.6489\n",
      "Epoch 1472/1600\n",
      "71/71 [==============================] - ETA: 0s - loss: 5.4443 - accuracy: 0.6472"
     ]
    },
    {
     "name": "stderr",
     "output_type": "stream",
     "text": [
      "2024-03-12 03:03 INFO End of Epoch 1472 - Loss: 5.4443\n"
     ]
    },
    {
     "name": "stdout",
     "output_type": "stream",
     "text": [
      "71/71 [==============================] - 20s 287ms/step - loss: 5.4443 - accuracy: 0.6472\n",
      "Epoch 1473/1600\n",
      "71/71 [==============================] - ETA: 0s - loss: 4.4441 - accuracy: 0.6499"
     ]
    },
    {
     "name": "stderr",
     "output_type": "stream",
     "text": [
      "2024-03-12 03:03 INFO End of Epoch 1473 - Loss: 4.4441\n"
     ]
    },
    {
     "name": "stdout",
     "output_type": "stream",
     "text": [
      "71/71 [==============================] - 21s 290ms/step - loss: 4.4441 - accuracy: 0.6499\n",
      "Epoch 1474/1600\n",
      "71/71 [==============================] - ETA: 0s - loss: 5.4877 - accuracy: 0.6532"
     ]
    },
    {
     "name": "stderr",
     "output_type": "stream",
     "text": [
      "2024-03-12 03:04 INFO End of Epoch 1474 - Loss: 5.4877\n"
     ]
    },
    {
     "name": "stdout",
     "output_type": "stream",
     "text": [
      "71/71 [==============================] - 20s 287ms/step - loss: 5.4877 - accuracy: 0.6532\n",
      "Epoch 1475/1600\n",
      "71/71 [==============================] - ETA: 0s - loss: 11.8557 - accuracy: 0.6373"
     ]
    },
    {
     "name": "stderr",
     "output_type": "stream",
     "text": [
      "2024-03-12 03:04 INFO End of Epoch 1475 - Loss: 11.8557\n"
     ]
    },
    {
     "name": "stdout",
     "output_type": "stream",
     "text": [
      "71/71 [==============================] - 20s 287ms/step - loss: 11.8557 - accuracy: 0.6373\n",
      "Epoch 1476/1600\n",
      "71/71 [==============================] - ETA: 0s - loss: 10.1486 - accuracy: 0.6327"
     ]
    },
    {
     "name": "stderr",
     "output_type": "stream",
     "text": [
      "2024-03-12 03:05 INFO End of Epoch 1476 - Loss: 10.1486\n"
     ]
    },
    {
     "name": "stdout",
     "output_type": "stream",
     "text": [
      "71/71 [==============================] - 20s 287ms/step - loss: 10.1486 - accuracy: 0.6327\n",
      "Epoch 1477/1600\n",
      "71/71 [==============================] - ETA: 0s - loss: 7.5542 - accuracy: 0.6478"
     ]
    },
    {
     "name": "stderr",
     "output_type": "stream",
     "text": [
      "2024-03-12 03:05 INFO End of Epoch 1477 - Loss: 7.5542\n"
     ]
    },
    {
     "name": "stdout",
     "output_type": "stream",
     "text": [
      "71/71 [==============================] - 20s 288ms/step - loss: 7.5542 - accuracy: 0.6478\n",
      "Epoch 1478/1600\n",
      "71/71 [==============================] - ETA: 0s - loss: 6.0563 - accuracy: 0.6625"
     ]
    },
    {
     "name": "stderr",
     "output_type": "stream",
     "text": [
      "2024-03-12 03:05 INFO End of Epoch 1478 - Loss: 6.0563\n"
     ]
    },
    {
     "name": "stdout",
     "output_type": "stream",
     "text": [
      "71/71 [==============================] - 20s 288ms/step - loss: 6.0563 - accuracy: 0.6625\n",
      "Epoch 1479/1600\n",
      "71/71 [==============================] - ETA: 0s - loss: 6.2823 - accuracy: 0.6518"
     ]
    },
    {
     "name": "stderr",
     "output_type": "stream",
     "text": [
      "2024-03-12 03:06 INFO End of Epoch 1479 - Loss: 6.2823\n"
     ]
    },
    {
     "name": "stdout",
     "output_type": "stream",
     "text": [
      "71/71 [==============================] - 20s 288ms/step - loss: 6.2823 - accuracy: 0.6518\n",
      "Epoch 1480/1600\n",
      "71/71 [==============================] - ETA: 0s - loss: 8.6224 - accuracy: 0.6586"
     ]
    },
    {
     "name": "stderr",
     "output_type": "stream",
     "text": [
      "2024-03-12 03:06 INFO End of Epoch 1480 - Loss: 8.6224\n"
     ]
    },
    {
     "name": "stdout",
     "output_type": "stream",
     "text": [
      "71/71 [==============================] - 20s 286ms/step - loss: 8.6224 - accuracy: 0.6586\n",
      "Epoch 1481/1600\n",
      "71/71 [==============================] - ETA: 0s - loss: 7.4961 - accuracy: 0.6485"
     ]
    },
    {
     "name": "stderr",
     "output_type": "stream",
     "text": [
      "2024-03-12 03:07 INFO End of Epoch 1481 - Loss: 7.4961\n"
     ]
    },
    {
     "name": "stdout",
     "output_type": "stream",
     "text": [
      "71/71 [==============================] - 21s 290ms/step - loss: 7.4961 - accuracy: 0.6485\n",
      "Epoch 1482/1600\n",
      "71/71 [==============================] - ETA: 0s - loss: 3.6832 - accuracy: 0.6553"
     ]
    },
    {
     "name": "stderr",
     "output_type": "stream",
     "text": [
      "2024-03-12 03:07 INFO End of Epoch 1482 - Loss: 3.6832\n"
     ]
    },
    {
     "name": "stdout",
     "output_type": "stream",
     "text": [
      "71/71 [==============================] - 20s 285ms/step - loss: 3.6832 - accuracy: 0.6553\n",
      "Epoch 1483/1600\n",
      "71/71 [==============================] - ETA: 0s - loss: 3.3897 - accuracy: 0.6621"
     ]
    },
    {
     "name": "stderr",
     "output_type": "stream",
     "text": [
      "2024-03-12 03:08 INFO End of Epoch 1483 - Loss: 3.3897\n"
     ]
    },
    {
     "name": "stdout",
     "output_type": "stream",
     "text": [
      "71/71 [==============================] - 21s 289ms/step - loss: 3.3897 - accuracy: 0.6621\n",
      "Epoch 1484/1600\n",
      "71/71 [==============================] - ETA: 0s - loss: 3.1209 - accuracy: 0.6664"
     ]
    },
    {
     "name": "stderr",
     "output_type": "stream",
     "text": [
      "2024-03-12 03:08 INFO End of Epoch 1484 - Loss: 3.1209\n"
     ]
    },
    {
     "name": "stdout",
     "output_type": "stream",
     "text": [
      "71/71 [==============================] - 20s 287ms/step - loss: 3.1209 - accuracy: 0.6664\n",
      "Epoch 1485/1600\n",
      "71/71 [==============================] - ETA: 0s - loss: 3.3534 - accuracy: 0.6665"
     ]
    },
    {
     "name": "stderr",
     "output_type": "stream",
     "text": [
      "2024-03-12 03:08 INFO End of Epoch 1485 - Loss: 3.3534\n"
     ]
    },
    {
     "name": "stdout",
     "output_type": "stream",
     "text": [
      "71/71 [==============================] - 20s 285ms/step - loss: 3.3534 - accuracy: 0.6665\n",
      "Epoch 1486/1600\n",
      "71/71 [==============================] - ETA: 0s - loss: 3.8517 - accuracy: 0.6677"
     ]
    },
    {
     "name": "stderr",
     "output_type": "stream",
     "text": [
      "2024-03-12 03:09 INFO End of Epoch 1486 - Loss: 3.8517\n"
     ]
    },
    {
     "name": "stdout",
     "output_type": "stream",
     "text": [
      "71/71 [==============================] - 20s 289ms/step - loss: 3.8517 - accuracy: 0.6677\n",
      "Epoch 1487/1600\n",
      "71/71 [==============================] - ETA: 0s - loss: 3.9297 - accuracy: 0.6591"
     ]
    },
    {
     "name": "stderr",
     "output_type": "stream",
     "text": [
      "2024-03-12 03:09 INFO End of Epoch 1487 - Loss: 3.9297\n"
     ]
    },
    {
     "name": "stdout",
     "output_type": "stream",
     "text": [
      "71/71 [==============================] - 20s 286ms/step - loss: 3.9297 - accuracy: 0.6591\n",
      "Epoch 1488/1600\n",
      "71/71 [==============================] - ETA: 0s - loss: 4.2611 - accuracy: 0.6617"
     ]
    },
    {
     "name": "stderr",
     "output_type": "stream",
     "text": [
      "2024-03-12 03:10 INFO End of Epoch 1488 - Loss: 4.2611\n"
     ]
    },
    {
     "name": "stdout",
     "output_type": "stream",
     "text": [
      "71/71 [==============================] - 20s 286ms/step - loss: 4.2611 - accuracy: 0.6617\n",
      "Epoch 1489/1600\n",
      "71/71 [==============================] - ETA: 0s - loss: 4.0849 - accuracy: 0.6726"
     ]
    },
    {
     "name": "stderr",
     "output_type": "stream",
     "text": [
      "2024-03-12 03:10 INFO End of Epoch 1489 - Loss: 4.0849\n"
     ]
    },
    {
     "name": "stdout",
     "output_type": "stream",
     "text": [
      "71/71 [==============================] - 20s 287ms/step - loss: 4.0849 - accuracy: 0.6726\n",
      "Epoch 1490/1600\n",
      "71/71 [==============================] - ETA: 0s - loss: 6.2303 - accuracy: 0.6528"
     ]
    },
    {
     "name": "stderr",
     "output_type": "stream",
     "text": [
      "2024-03-12 03:11 INFO End of Epoch 1490 - Loss: 6.2303\n"
     ]
    },
    {
     "name": "stdout",
     "output_type": "stream",
     "text": [
      "71/71 [==============================] - 20s 289ms/step - loss: 6.2303 - accuracy: 0.6528\n",
      "Epoch 1491/1600\n",
      "71/71 [==============================] - ETA: 0s - loss: 11.8767 - accuracy: 0.6307"
     ]
    },
    {
     "name": "stderr",
     "output_type": "stream",
     "text": [
      "2024-03-12 03:11 INFO End of Epoch 1491 - Loss: 11.8767\n"
     ]
    },
    {
     "name": "stdout",
     "output_type": "stream",
     "text": [
      "71/71 [==============================] - 20s 288ms/step - loss: 11.8767 - accuracy: 0.6307\n",
      "Epoch 1492/1600\n",
      "71/71 [==============================] - ETA: 0s - loss: 10.0361 - accuracy: 0.6336"
     ]
    },
    {
     "name": "stderr",
     "output_type": "stream",
     "text": [
      "2024-03-12 03:12 INFO End of Epoch 1492 - Loss: 10.0361\n"
     ]
    },
    {
     "name": "stdout",
     "output_type": "stream",
     "text": [
      "71/71 [==============================] - 21s 289ms/step - loss: 10.0361 - accuracy: 0.6336\n",
      "Epoch 1493/1600\n",
      "71/71 [==============================] - ETA: 0s - loss: 8.0813 - accuracy: 0.6384"
     ]
    },
    {
     "name": "stderr",
     "output_type": "stream",
     "text": [
      "2024-03-12 03:12 INFO End of Epoch 1493 - Loss: 8.0813\n"
     ]
    },
    {
     "name": "stdout",
     "output_type": "stream",
     "text": [
      "71/71 [==============================] - 20s 287ms/step - loss: 8.0813 - accuracy: 0.6384\n",
      "Epoch 1494/1600\n",
      "71/71 [==============================] - ETA: 0s - loss: 5.9044 - accuracy: 0.6562"
     ]
    },
    {
     "name": "stderr",
     "output_type": "stream",
     "text": [
      "2024-03-12 03:12 INFO End of Epoch 1494 - Loss: 5.9044\n"
     ]
    },
    {
     "name": "stdout",
     "output_type": "stream",
     "text": [
      "71/71 [==============================] - 20s 288ms/step - loss: 5.9044 - accuracy: 0.6562\n",
      "Epoch 1495/1600\n",
      "71/71 [==============================] - ETA: 0s - loss: 4.8700 - accuracy: 0.6644"
     ]
    },
    {
     "name": "stderr",
     "output_type": "stream",
     "text": [
      "2024-03-12 03:13 INFO End of Epoch 1495 - Loss: 4.8700\n"
     ]
    },
    {
     "name": "stdout",
     "output_type": "stream",
     "text": [
      "71/71 [==============================] - 20s 288ms/step - loss: 4.8700 - accuracy: 0.6644\n",
      "Epoch 1496/1600\n",
      "71/71 [==============================] - ETA: 0s - loss: 4.2200 - accuracy: 0.6594"
     ]
    },
    {
     "name": "stderr",
     "output_type": "stream",
     "text": [
      "2024-03-12 03:13 INFO End of Epoch 1496 - Loss: 4.2200\n"
     ]
    },
    {
     "name": "stdout",
     "output_type": "stream",
     "text": [
      "71/71 [==============================] - 20s 289ms/step - loss: 4.2200 - accuracy: 0.6594\n",
      "Epoch 1497/1600\n",
      "71/71 [==============================] - ETA: 0s - loss: 4.3354 - accuracy: 0.6628"
     ]
    },
    {
     "name": "stderr",
     "output_type": "stream",
     "text": [
      "2024-03-12 03:14 INFO End of Epoch 1497 - Loss: 4.3354\n"
     ]
    },
    {
     "name": "stdout",
     "output_type": "stream",
     "text": [
      "71/71 [==============================] - 21s 290ms/step - loss: 4.3354 - accuracy: 0.6628\n",
      "Epoch 1498/1600\n",
      "71/71 [==============================] - ETA: 0s - loss: 4.6312 - accuracy: 0.6706"
     ]
    },
    {
     "name": "stderr",
     "output_type": "stream",
     "text": [
      "2024-03-12 03:14 INFO End of Epoch 1498 - Loss: 4.6312\n"
     ]
    },
    {
     "name": "stdout",
     "output_type": "stream",
     "text": [
      "71/71 [==============================] - 20s 289ms/step - loss: 4.6312 - accuracy: 0.6706\n",
      "Epoch 1499/1600\n",
      "71/71 [==============================] - ETA: 0s - loss: 4.1139 - accuracy: 0.6553"
     ]
    },
    {
     "name": "stderr",
     "output_type": "stream",
     "text": [
      "2024-03-12 03:15 INFO End of Epoch 1499 - Loss: 4.1139\n"
     ]
    },
    {
     "name": "stdout",
     "output_type": "stream",
     "text": [
      "71/71 [==============================] - 21s 290ms/step - loss: 4.1139 - accuracy: 0.6553\n",
      "Epoch 1500/1600\n",
      "71/71 [==============================] - ETA: 0s - loss: 3.5157 - accuracy: 0.6711"
     ]
    },
    {
     "name": "stderr",
     "output_type": "stream",
     "text": [
      "2024-03-12 03:15 INFO End of Epoch 1500 - Loss: 3.5157\n"
     ]
    },
    {
     "name": "stdout",
     "output_type": "stream",
     "text": [
      "71/71 [==============================] - 20s 288ms/step - loss: 3.5157 - accuracy: 0.6711\n",
      "Epoch 1501/1600\n",
      "71/71 [==============================] - ETA: 0s - loss: 3.4952 - accuracy: 0.6668"
     ]
    },
    {
     "name": "stderr",
     "output_type": "stream",
     "text": [
      "2024-03-12 03:16 INFO End of Epoch 1501 - Loss: 3.4952\n"
     ]
    },
    {
     "name": "stdout",
     "output_type": "stream",
     "text": [
      "71/71 [==============================] - 21s 291ms/step - loss: 3.4952 - accuracy: 0.6668\n",
      "Epoch 1502/1600\n",
      "71/71 [==============================] - ETA: 0s - loss: 4.1471 - accuracy: 0.6708"
     ]
    },
    {
     "name": "stderr",
     "output_type": "stream",
     "text": [
      "2024-03-12 03:16 INFO End of Epoch 1502 - Loss: 4.1471\n"
     ]
    },
    {
     "name": "stdout",
     "output_type": "stream",
     "text": [
      "71/71 [==============================] - 20s 288ms/step - loss: 4.1471 - accuracy: 0.6708\n",
      "Epoch 1503/1600\n",
      "71/71 [==============================] - ETA: 0s - loss: 5.5019 - accuracy: 0.6682"
     ]
    },
    {
     "name": "stderr",
     "output_type": "stream",
     "text": [
      "2024-03-12 03:16 INFO End of Epoch 1503 - Loss: 5.5019\n"
     ]
    },
    {
     "name": "stdout",
     "output_type": "stream",
     "text": [
      "71/71 [==============================] - 21s 289ms/step - loss: 5.5019 - accuracy: 0.6682\n",
      "Epoch 1504/1600\n",
      "71/71 [==============================] - ETA: 0s - loss: 6.7460 - accuracy: 0.6567"
     ]
    },
    {
     "name": "stderr",
     "output_type": "stream",
     "text": [
      "2024-03-12 03:17 INFO End of Epoch 1504 - Loss: 6.7460\n"
     ]
    },
    {
     "name": "stdout",
     "output_type": "stream",
     "text": [
      "71/71 [==============================] - 20s 288ms/step - loss: 6.7460 - accuracy: 0.6567\n",
      "Epoch 1505/1600\n",
      "71/71 [==============================] - ETA: 0s - loss: 6.4153 - accuracy: 0.6633"
     ]
    },
    {
     "name": "stderr",
     "output_type": "stream",
     "text": [
      "2024-03-12 03:17 INFO End of Epoch 1505 - Loss: 6.4153\n"
     ]
    },
    {
     "name": "stdout",
     "output_type": "stream",
     "text": [
      "71/71 [==============================] - 20s 285ms/step - loss: 6.4153 - accuracy: 0.6633\n",
      "Epoch 1506/1600\n",
      "71/71 [==============================] - ETA: 0s - loss: 8.2927 - accuracy: 0.6574"
     ]
    },
    {
     "name": "stderr",
     "output_type": "stream",
     "text": [
      "2024-03-12 03:18 INFO End of Epoch 1506 - Loss: 8.2927\n"
     ]
    },
    {
     "name": "stdout",
     "output_type": "stream",
     "text": [
      "71/71 [==============================] - 20s 286ms/step - loss: 8.2927 - accuracy: 0.6574\n",
      "Epoch 1507/1600\n",
      "71/71 [==============================] - ETA: 0s - loss: 9.1877 - accuracy: 0.6371"
     ]
    },
    {
     "name": "stderr",
     "output_type": "stream",
     "text": [
      "2024-03-12 03:18 INFO End of Epoch 1507 - Loss: 9.1877\n"
     ]
    },
    {
     "name": "stdout",
     "output_type": "stream",
     "text": [
      "71/71 [==============================] - 20s 284ms/step - loss: 9.1877 - accuracy: 0.6371\n",
      "Epoch 1508/1600\n",
      "71/71 [==============================] - ETA: 0s - loss: 8.1520 - accuracy: 0.6421"
     ]
    },
    {
     "name": "stderr",
     "output_type": "stream",
     "text": [
      "2024-03-12 03:19 INFO End of Epoch 1508 - Loss: 8.1520\n"
     ]
    },
    {
     "name": "stdout",
     "output_type": "stream",
     "text": [
      "71/71 [==============================] - 20s 284ms/step - loss: 8.1520 - accuracy: 0.6421\n",
      "Epoch 1509/1600\n",
      "71/71 [==============================] - ETA: 0s - loss: 5.7444 - accuracy: 0.6305"
     ]
    },
    {
     "name": "stderr",
     "output_type": "stream",
     "text": [
      "2024-03-12 03:19 INFO End of Epoch 1509 - Loss: 5.7444\n"
     ]
    },
    {
     "name": "stdout",
     "output_type": "stream",
     "text": [
      "71/71 [==============================] - 20s 285ms/step - loss: 5.7444 - accuracy: 0.6305\n",
      "Epoch 1510/1600\n",
      "71/71 [==============================] - ETA: 0s - loss: 4.3136 - accuracy: 0.6285"
     ]
    },
    {
     "name": "stderr",
     "output_type": "stream",
     "text": [
      "2024-03-12 03:19 INFO End of Epoch 1510 - Loss: 4.3136\n"
     ]
    },
    {
     "name": "stdout",
     "output_type": "stream",
     "text": [
      "71/71 [==============================] - 20s 286ms/step - loss: 4.3136 - accuracy: 0.6285\n",
      "Epoch 1511/1600\n",
      "71/71 [==============================] - ETA: 0s - loss: 4.1529 - accuracy: 0.6488"
     ]
    },
    {
     "name": "stderr",
     "output_type": "stream",
     "text": [
      "2024-03-12 03:20 INFO End of Epoch 1511 - Loss: 4.1529\n"
     ]
    },
    {
     "name": "stdout",
     "output_type": "stream",
     "text": [
      "71/71 [==============================] - 20s 286ms/step - loss: 4.1529 - accuracy: 0.6488\n",
      "Epoch 1512/1600\n",
      "71/71 [==============================] - ETA: 0s - loss: 4.4247 - accuracy: 0.6535"
     ]
    },
    {
     "name": "stderr",
     "output_type": "stream",
     "text": [
      "2024-03-12 03:20 INFO End of Epoch 1512 - Loss: 4.4247\n"
     ]
    },
    {
     "name": "stdout",
     "output_type": "stream",
     "text": [
      "71/71 [==============================] - 20s 287ms/step - loss: 4.4247 - accuracy: 0.6535\n",
      "Epoch 1513/1600\n",
      "71/71 [==============================] - ETA: 0s - loss: 5.7121 - accuracy: 0.6606"
     ]
    },
    {
     "name": "stderr",
     "output_type": "stream",
     "text": [
      "2024-03-12 03:21 INFO End of Epoch 1513 - Loss: 5.7121\n"
     ]
    },
    {
     "name": "stdout",
     "output_type": "stream",
     "text": [
      "71/71 [==============================] - 20s 288ms/step - loss: 5.7121 - accuracy: 0.6606\n",
      "Epoch 1514/1600\n",
      "71/71 [==============================] - ETA: 0s - loss: 7.2137 - accuracy: 0.6740"
     ]
    },
    {
     "name": "stderr",
     "output_type": "stream",
     "text": [
      "2024-03-12 03:21 INFO End of Epoch 1514 - Loss: 7.2137\n"
     ]
    },
    {
     "name": "stdout",
     "output_type": "stream",
     "text": [
      "71/71 [==============================] - 20s 289ms/step - loss: 7.2137 - accuracy: 0.6740\n",
      "Epoch 1515/1600\n",
      "71/71 [==============================] - ETA: 0s - loss: 3.8704 - accuracy: 0.6601"
     ]
    },
    {
     "name": "stderr",
     "output_type": "stream",
     "text": [
      "2024-03-12 03:22 INFO End of Epoch 1515 - Loss: 3.8704\n"
     ]
    },
    {
     "name": "stdout",
     "output_type": "stream",
     "text": [
      "71/71 [==============================] - 20s 286ms/step - loss: 3.8704 - accuracy: 0.6601\n",
      "Epoch 1516/1600\n",
      "71/71 [==============================] - ETA: 0s - loss: 4.2257 - accuracy: 0.6597"
     ]
    },
    {
     "name": "stderr",
     "output_type": "stream",
     "text": [
      "2024-03-12 03:22 INFO End of Epoch 1516 - Loss: 4.2257\n"
     ]
    },
    {
     "name": "stdout",
     "output_type": "stream",
     "text": [
      "71/71 [==============================] - 20s 288ms/step - loss: 4.2257 - accuracy: 0.6597\n",
      "Epoch 1517/1600\n",
      "71/71 [==============================] - ETA: 0s - loss: 5.5198 - accuracy: 0.6608"
     ]
    },
    {
     "name": "stderr",
     "output_type": "stream",
     "text": [
      "2024-03-12 03:23 INFO End of Epoch 1517 - Loss: 5.5198\n"
     ]
    },
    {
     "name": "stdout",
     "output_type": "stream",
     "text": [
      "71/71 [==============================] - 21s 289ms/step - loss: 5.5198 - accuracy: 0.6608\n",
      "Epoch 1518/1600\n",
      "71/71 [==============================] - ETA: 0s - loss: 5.6568 - accuracy: 0.6590"
     ]
    },
    {
     "name": "stderr",
     "output_type": "stream",
     "text": [
      "2024-03-12 03:23 INFO End of Epoch 1518 - Loss: 5.6568\n"
     ]
    },
    {
     "name": "stdout",
     "output_type": "stream",
     "text": [
      "71/71 [==============================] - 20s 288ms/step - loss: 5.6568 - accuracy: 0.6590\n",
      "Epoch 1519/1600\n",
      "71/71 [==============================] - ETA: 0s - loss: 4.9709 - accuracy: 0.6401"
     ]
    },
    {
     "name": "stderr",
     "output_type": "stream",
     "text": [
      "2024-03-12 03:23 INFO End of Epoch 1519 - Loss: 4.9709\n"
     ]
    },
    {
     "name": "stdout",
     "output_type": "stream",
     "text": [
      "71/71 [==============================] - 20s 288ms/step - loss: 4.9709 - accuracy: 0.6401\n",
      "Epoch 1520/1600\n",
      "71/71 [==============================] - ETA: 0s - loss: 3.7422 - accuracy: 0.6552"
     ]
    },
    {
     "name": "stderr",
     "output_type": "stream",
     "text": [
      "2024-03-12 03:24 INFO End of Epoch 1520 - Loss: 3.7422\n"
     ]
    },
    {
     "name": "stdout",
     "output_type": "stream",
     "text": [
      "71/71 [==============================] - 21s 289ms/step - loss: 3.7422 - accuracy: 0.6552\n",
      "Epoch 1521/1600\n",
      "71/71 [==============================] - ETA: 0s - loss: 4.7905 - accuracy: 0.6614"
     ]
    },
    {
     "name": "stderr",
     "output_type": "stream",
     "text": [
      "2024-03-12 03:24 INFO End of Epoch 1521 - Loss: 4.7905\n"
     ]
    },
    {
     "name": "stdout",
     "output_type": "stream",
     "text": [
      "71/71 [==============================] - 21s 289ms/step - loss: 4.7905 - accuracy: 0.6614\n",
      "Epoch 1522/1600\n",
      "71/71 [==============================] - ETA: 0s - loss: 4.3498 - accuracy: 0.6652"
     ]
    },
    {
     "name": "stderr",
     "output_type": "stream",
     "text": [
      "2024-03-12 03:25 INFO End of Epoch 1522 - Loss: 4.3498\n"
     ]
    },
    {
     "name": "stdout",
     "output_type": "stream",
     "text": [
      "71/71 [==============================] - 21s 289ms/step - loss: 4.3498 - accuracy: 0.6652\n",
      "Epoch 1523/1600\n",
      "71/71 [==============================] - ETA: 0s - loss: 4.1198 - accuracy: 0.6782"
     ]
    },
    {
     "name": "stderr",
     "output_type": "stream",
     "text": [
      "2024-03-12 03:25 INFO End of Epoch 1523 - Loss: 4.1198\n"
     ]
    },
    {
     "name": "stdout",
     "output_type": "stream",
     "text": [
      "71/71 [==============================] - 20s 287ms/step - loss: 4.1198 - accuracy: 0.6782\n",
      "Epoch 1524/1600\n",
      "71/71 [==============================] - ETA: 0s - loss: 5.5086 - accuracy: 0.6735"
     ]
    },
    {
     "name": "stderr",
     "output_type": "stream",
     "text": [
      "2024-03-12 03:26 INFO End of Epoch 1524 - Loss: 5.5086\n"
     ]
    },
    {
     "name": "stdout",
     "output_type": "stream",
     "text": [
      "71/71 [==============================] - 21s 290ms/step - loss: 5.5086 - accuracy: 0.6735\n",
      "Epoch 1525/1600\n",
      "71/71 [==============================] - ETA: 0s - loss: 8.0773 - accuracy: 0.6647"
     ]
    },
    {
     "name": "stderr",
     "output_type": "stream",
     "text": [
      "2024-03-12 03:26 INFO End of Epoch 1525 - Loss: 8.0773\n"
     ]
    },
    {
     "name": "stdout",
     "output_type": "stream",
     "text": [
      "71/71 [==============================] - 20s 288ms/step - loss: 8.0773 - accuracy: 0.6647\n",
      "Epoch 1526/1600\n",
      "71/71 [==============================] - ETA: 0s - loss: 9.6962 - accuracy: 0.6393"
     ]
    },
    {
     "name": "stderr",
     "output_type": "stream",
     "text": [
      "2024-03-12 03:26 INFO End of Epoch 1526 - Loss: 9.6962\n"
     ]
    },
    {
     "name": "stdout",
     "output_type": "stream",
     "text": [
      "71/71 [==============================] - 20s 288ms/step - loss: 9.6962 - accuracy: 0.6393\n",
      "Epoch 1527/1600\n",
      "71/71 [==============================] - ETA: 0s - loss: 6.1597 - accuracy: 0.6360"
     ]
    },
    {
     "name": "stderr",
     "output_type": "stream",
     "text": [
      "2024-03-12 03:27 INFO End of Epoch 1527 - Loss: 6.1597\n"
     ]
    },
    {
     "name": "stdout",
     "output_type": "stream",
     "text": [
      "71/71 [==============================] - 20s 287ms/step - loss: 6.1597 - accuracy: 0.6360\n",
      "Epoch 1528/1600\n",
      "71/71 [==============================] - ETA: 0s - loss: 5.6935 - accuracy: 0.6388"
     ]
    },
    {
     "name": "stderr",
     "output_type": "stream",
     "text": [
      "2024-03-12 03:27 INFO End of Epoch 1528 - Loss: 5.6935\n"
     ]
    },
    {
     "name": "stdout",
     "output_type": "stream",
     "text": [
      "71/71 [==============================] - 20s 288ms/step - loss: 5.6935 - accuracy: 0.6388\n",
      "Epoch 1529/1600\n",
      "71/71 [==============================] - ETA: 0s - loss: 8.7535 - accuracy: 0.6208"
     ]
    },
    {
     "name": "stderr",
     "output_type": "stream",
     "text": [
      "2024-03-12 03:28 INFO End of Epoch 1529 - Loss: 8.7535\n"
     ]
    },
    {
     "name": "stdout",
     "output_type": "stream",
     "text": [
      "71/71 [==============================] - 21s 290ms/step - loss: 8.7535 - accuracy: 0.6208\n",
      "Epoch 1530/1600\n",
      "71/71 [==============================] - ETA: 0s - loss: 7.1477 - accuracy: 0.6320"
     ]
    },
    {
     "name": "stderr",
     "output_type": "stream",
     "text": [
      "2024-03-12 03:28 INFO End of Epoch 1530 - Loss: 7.1477\n"
     ]
    },
    {
     "name": "stdout",
     "output_type": "stream",
     "text": [
      "71/71 [==============================] - 21s 290ms/step - loss: 7.1477 - accuracy: 0.6320\n",
      "Epoch 1531/1600\n",
      "71/71 [==============================] - ETA: 0s - loss: 4.5760 - accuracy: 0.6183"
     ]
    },
    {
     "name": "stderr",
     "output_type": "stream",
     "text": [
      "2024-03-12 03:29 INFO End of Epoch 1531 - Loss: 4.5760\n"
     ]
    },
    {
     "name": "stdout",
     "output_type": "stream",
     "text": [
      "71/71 [==============================] - 20s 288ms/step - loss: 4.5760 - accuracy: 0.6183\n",
      "Epoch 1532/1600\n",
      "71/71 [==============================] - ETA: 0s - loss: 3.1587 - accuracy: 0.6378"
     ]
    },
    {
     "name": "stderr",
     "output_type": "stream",
     "text": [
      "2024-03-12 03:29 INFO End of Epoch 1532 - Loss: 3.1587\n"
     ]
    },
    {
     "name": "stdout",
     "output_type": "stream",
     "text": [
      "71/71 [==============================] - 21s 290ms/step - loss: 3.1587 - accuracy: 0.6378\n",
      "Epoch 1533/1600\n",
      "71/71 [==============================] - ETA: 0s - loss: 3.0648 - accuracy: 0.6461"
     ]
    },
    {
     "name": "stderr",
     "output_type": "stream",
     "text": [
      "2024-03-12 03:30 INFO End of Epoch 1533 - Loss: 3.0648\n"
     ]
    },
    {
     "name": "stdout",
     "output_type": "stream",
     "text": [
      "71/71 [==============================] - 20s 286ms/step - loss: 3.0648 - accuracy: 0.6461\n",
      "Epoch 1534/1600\n",
      "71/71 [==============================] - ETA: 0s - loss: 3.3661 - accuracy: 0.6699"
     ]
    },
    {
     "name": "stderr",
     "output_type": "stream",
     "text": [
      "2024-03-12 03:30 INFO End of Epoch 1534 - Loss: 3.3661\n"
     ]
    },
    {
     "name": "stdout",
     "output_type": "stream",
     "text": [
      "71/71 [==============================] - 21s 290ms/step - loss: 3.3661 - accuracy: 0.6699\n",
      "Epoch 1535/1600\n",
      "71/71 [==============================] - ETA: 0s - loss: 4.1242 - accuracy: 0.6616"
     ]
    },
    {
     "name": "stderr",
     "output_type": "stream",
     "text": [
      "2024-03-12 03:30 INFO End of Epoch 1535 - Loss: 4.1242\n"
     ]
    },
    {
     "name": "stdout",
     "output_type": "stream",
     "text": [
      "71/71 [==============================] - 20s 288ms/step - loss: 4.1242 - accuracy: 0.6616\n",
      "Epoch 1536/1600\n",
      "71/71 [==============================] - ETA: 0s - loss: 3.2962 - accuracy: 0.6625"
     ]
    },
    {
     "name": "stderr",
     "output_type": "stream",
     "text": [
      "2024-03-12 03:31 INFO End of Epoch 1536 - Loss: 3.2962\n"
     ]
    },
    {
     "name": "stdout",
     "output_type": "stream",
     "text": [
      "71/71 [==============================] - 20s 287ms/step - loss: 3.2962 - accuracy: 0.6625\n",
      "Epoch 1537/1600\n",
      "71/71 [==============================] - ETA: 0s - loss: 3.2873 - accuracy: 0.6634"
     ]
    },
    {
     "name": "stderr",
     "output_type": "stream",
     "text": [
      "2024-03-12 03:31 INFO End of Epoch 1537 - Loss: 3.2873\n"
     ]
    },
    {
     "name": "stdout",
     "output_type": "stream",
     "text": [
      "71/71 [==============================] - 20s 287ms/step - loss: 3.2873 - accuracy: 0.6634\n",
      "Epoch 1538/1600\n",
      "71/71 [==============================] - ETA: 0s - loss: 3.2321 - accuracy: 0.6557"
     ]
    },
    {
     "name": "stderr",
     "output_type": "stream",
     "text": [
      "2024-03-12 03:32 INFO End of Epoch 1538 - Loss: 3.2321\n"
     ]
    },
    {
     "name": "stdout",
     "output_type": "stream",
     "text": [
      "71/71 [==============================] - 20s 283ms/step - loss: 3.2321 - accuracy: 0.6557\n",
      "Epoch 1539/1600\n",
      "71/71 [==============================] - ETA: 0s - loss: 4.7084 - accuracy: 0.6421"
     ]
    },
    {
     "name": "stderr",
     "output_type": "stream",
     "text": [
      "2024-03-12 03:32 INFO End of Epoch 1539 - Loss: 4.7084\n"
     ]
    },
    {
     "name": "stdout",
     "output_type": "stream",
     "text": [
      "71/71 [==============================] - 21s 290ms/step - loss: 4.7084 - accuracy: 0.6421\n",
      "Epoch 1540/1600\n",
      "71/71 [==============================] - ETA: 0s - loss: 5.8668 - accuracy: 0.6682"
     ]
    },
    {
     "name": "stderr",
     "output_type": "stream",
     "text": [
      "2024-03-12 03:33 INFO End of Epoch 1540 - Loss: 5.8668\n"
     ]
    },
    {
     "name": "stdout",
     "output_type": "stream",
     "text": [
      "71/71 [==============================] - 20s 287ms/step - loss: 5.8668 - accuracy: 0.6682\n",
      "Epoch 1541/1600\n",
      "71/71 [==============================] - ETA: 0s - loss: 5.1323 - accuracy: 0.6685"
     ]
    },
    {
     "name": "stderr",
     "output_type": "stream",
     "text": [
      "2024-03-12 03:33 INFO End of Epoch 1541 - Loss: 5.1323\n"
     ]
    },
    {
     "name": "stdout",
     "output_type": "stream",
     "text": [
      "71/71 [==============================] - 20s 286ms/step - loss: 5.1323 - accuracy: 0.6685\n",
      "Epoch 1542/1600\n",
      "71/71 [==============================] - ETA: 0s - loss: 5.8206 - accuracy: 0.6662"
     ]
    },
    {
     "name": "stderr",
     "output_type": "stream",
     "text": [
      "2024-03-12 03:34 INFO End of Epoch 1542 - Loss: 5.8206\n"
     ]
    },
    {
     "name": "stdout",
     "output_type": "stream",
     "text": [
      "71/71 [==============================] - 20s 288ms/step - loss: 5.8206 - accuracy: 0.6662\n",
      "Epoch 1543/1600\n",
      "71/71 [==============================] - ETA: 0s - loss: 5.0563 - accuracy: 0.6620"
     ]
    },
    {
     "name": "stderr",
     "output_type": "stream",
     "text": [
      "2024-03-12 03:34 INFO End of Epoch 1543 - Loss: 5.0563\n"
     ]
    },
    {
     "name": "stdout",
     "output_type": "stream",
     "text": [
      "71/71 [==============================] - 20s 286ms/step - loss: 5.0563 - accuracy: 0.6620\n",
      "Epoch 1544/1600\n",
      "71/71 [==============================] - ETA: 0s - loss: 6.3775 - accuracy: 0.6728"
     ]
    },
    {
     "name": "stderr",
     "output_type": "stream",
     "text": [
      "2024-03-12 03:34 INFO End of Epoch 1544 - Loss: 6.3775\n"
     ]
    },
    {
     "name": "stdout",
     "output_type": "stream",
     "text": [
      "71/71 [==============================] - 20s 288ms/step - loss: 6.3775 - accuracy: 0.6728\n",
      "Epoch 1545/1600\n",
      "71/71 [==============================] - ETA: 0s - loss: 6.6821 - accuracy: 0.6566"
     ]
    },
    {
     "name": "stderr",
     "output_type": "stream",
     "text": [
      "2024-03-12 03:35 INFO End of Epoch 1545 - Loss: 6.6821\n"
     ]
    },
    {
     "name": "stdout",
     "output_type": "stream",
     "text": [
      "71/71 [==============================] - 20s 288ms/step - loss: 6.6821 - accuracy: 0.6566\n",
      "Epoch 1546/1600\n",
      "71/71 [==============================] - ETA: 0s - loss: 6.4164 - accuracy: 0.6586"
     ]
    },
    {
     "name": "stderr",
     "output_type": "stream",
     "text": [
      "2024-03-12 03:35 INFO End of Epoch 1546 - Loss: 6.4164\n"
     ]
    },
    {
     "name": "stdout",
     "output_type": "stream",
     "text": [
      "71/71 [==============================] - 20s 288ms/step - loss: 6.4164 - accuracy: 0.6586\n",
      "Epoch 1547/1600\n",
      "71/71 [==============================] - ETA: 0s - loss: 7.3185 - accuracy: 0.6478"
     ]
    },
    {
     "name": "stderr",
     "output_type": "stream",
     "text": [
      "2024-03-12 03:36 INFO End of Epoch 1547 - Loss: 7.3185\n"
     ]
    },
    {
     "name": "stdout",
     "output_type": "stream",
     "text": [
      "71/71 [==============================] - 20s 287ms/step - loss: 7.3185 - accuracy: 0.6478\n",
      "Epoch 1548/1600\n",
      "71/71 [==============================] - ETA: 0s - loss: 5.8571 - accuracy: 0.6528"
     ]
    },
    {
     "name": "stderr",
     "output_type": "stream",
     "text": [
      "2024-03-12 03:36 INFO End of Epoch 1548 - Loss: 5.8571\n"
     ]
    },
    {
     "name": "stdout",
     "output_type": "stream",
     "text": [
      "71/71 [==============================] - 20s 287ms/step - loss: 5.8571 - accuracy: 0.6528\n",
      "Epoch 1549/1600\n",
      "71/71 [==============================] - ETA: 0s - loss: 5.0074 - accuracy: 0.6540"
     ]
    },
    {
     "name": "stderr",
     "output_type": "stream",
     "text": [
      "2024-03-12 03:37 INFO End of Epoch 1549 - Loss: 5.0074\n"
     ]
    },
    {
     "name": "stdout",
     "output_type": "stream",
     "text": [
      "71/71 [==============================] - 20s 287ms/step - loss: 5.0074 - accuracy: 0.6540\n",
      "Epoch 1550/1600\n",
      "71/71 [==============================] - ETA: 0s - loss: 4.1809 - accuracy: 0.6687"
     ]
    },
    {
     "name": "stderr",
     "output_type": "stream",
     "text": [
      "2024-03-12 03:37 INFO End of Epoch 1550 - Loss: 4.1809\n"
     ]
    },
    {
     "name": "stdout",
     "output_type": "stream",
     "text": [
      "71/71 [==============================] - 21s 289ms/step - loss: 4.1809 - accuracy: 0.6687\n",
      "Epoch 1551/1600\n",
      "71/71 [==============================] - ETA: 0s - loss: 4.3778 - accuracy: 0.6458"
     ]
    },
    {
     "name": "stderr",
     "output_type": "stream",
     "text": [
      "2024-03-12 03:37 INFO End of Epoch 1551 - Loss: 4.3778\n"
     ]
    },
    {
     "name": "stdout",
     "output_type": "stream",
     "text": [
      "71/71 [==============================] - 20s 288ms/step - loss: 4.3778 - accuracy: 0.6458\n",
      "Epoch 1552/1600\n",
      "71/71 [==============================] - ETA: 0s - loss: 3.2774 - accuracy: 0.6168"
     ]
    },
    {
     "name": "stderr",
     "output_type": "stream",
     "text": [
      "2024-03-12 03:38 INFO End of Epoch 1552 - Loss: 3.2774\n"
     ]
    },
    {
     "name": "stdout",
     "output_type": "stream",
     "text": [
      "71/71 [==============================] - 20s 285ms/step - loss: 3.2774 - accuracy: 0.6168\n",
      "Epoch 1553/1600\n",
      "71/71 [==============================] - ETA: 0s - loss: 3.6323 - accuracy: 0.6252"
     ]
    },
    {
     "name": "stderr",
     "output_type": "stream",
     "text": [
      "2024-03-12 03:38 INFO End of Epoch 1553 - Loss: 3.6323\n"
     ]
    },
    {
     "name": "stdout",
     "output_type": "stream",
     "text": [
      "71/71 [==============================] - 20s 285ms/step - loss: 3.6323 - accuracy: 0.6252\n",
      "Epoch 1554/1600\n",
      "71/71 [==============================] - ETA: 0s - loss: 4.2981 - accuracy: 0.6278"
     ]
    },
    {
     "name": "stderr",
     "output_type": "stream",
     "text": [
      "2024-03-12 03:39 INFO End of Epoch 1554 - Loss: 4.2981\n"
     ]
    },
    {
     "name": "stdout",
     "output_type": "stream",
     "text": [
      "71/71 [==============================] - 21s 289ms/step - loss: 4.2981 - accuracy: 0.6278\n",
      "Epoch 1555/1600\n",
      "71/71 [==============================] - ETA: 0s - loss: 3.8282 - accuracy: 0.6699"
     ]
    },
    {
     "name": "stderr",
     "output_type": "stream",
     "text": [
      "2024-03-12 03:39 INFO End of Epoch 1555 - Loss: 3.8282\n"
     ]
    },
    {
     "name": "stdout",
     "output_type": "stream",
     "text": [
      "71/71 [==============================] - 21s 289ms/step - loss: 3.8282 - accuracy: 0.6699\n",
      "Epoch 1556/1600\n",
      "71/71 [==============================] - ETA: 0s - loss: 3.8479 - accuracy: 0.6608"
     ]
    },
    {
     "name": "stderr",
     "output_type": "stream",
     "text": [
      "2024-03-12 03:40 INFO End of Epoch 1556 - Loss: 3.8479\n"
     ]
    },
    {
     "name": "stdout",
     "output_type": "stream",
     "text": [
      "71/71 [==============================] - 20s 284ms/step - loss: 3.8479 - accuracy: 0.6608\n",
      "Epoch 1557/1600\n",
      "71/71 [==============================] - ETA: 0s - loss: 4.3182 - accuracy: 0.6670"
     ]
    },
    {
     "name": "stderr",
     "output_type": "stream",
     "text": [
      "2024-03-12 03:40 INFO End of Epoch 1557 - Loss: 4.3182\n"
     ]
    },
    {
     "name": "stdout",
     "output_type": "stream",
     "text": [
      "71/71 [==============================] - 20s 287ms/step - loss: 4.3182 - accuracy: 0.6670\n",
      "Epoch 1558/1600\n",
      "71/71 [==============================] - ETA: 0s - loss: 8.1583 - accuracy: 0.6516"
     ]
    },
    {
     "name": "stderr",
     "output_type": "stream",
     "text": [
      "2024-03-12 03:41 INFO End of Epoch 1558 - Loss: 8.1583\n"
     ]
    },
    {
     "name": "stdout",
     "output_type": "stream",
     "text": [
      "71/71 [==============================] - 20s 285ms/step - loss: 8.1583 - accuracy: 0.6516\n",
      "Epoch 1559/1600\n",
      "71/71 [==============================] - ETA: 0s - loss: 8.9574 - accuracy: 0.6387"
     ]
    },
    {
     "name": "stderr",
     "output_type": "stream",
     "text": [
      "2024-03-12 03:41 INFO End of Epoch 1559 - Loss: 8.9574\n"
     ]
    },
    {
     "name": "stdout",
     "output_type": "stream",
     "text": [
      "71/71 [==============================] - 21s 289ms/step - loss: 8.9574 - accuracy: 0.6387\n",
      "Epoch 1560/1600\n",
      "71/71 [==============================] - ETA: 0s - loss: 8.8166 - accuracy: 0.6373"
     ]
    },
    {
     "name": "stderr",
     "output_type": "stream",
     "text": [
      "2024-03-12 03:41 INFO End of Epoch 1560 - Loss: 8.8166\n"
     ]
    },
    {
     "name": "stdout",
     "output_type": "stream",
     "text": [
      "71/71 [==============================] - 20s 287ms/step - loss: 8.8166 - accuracy: 0.6373\n",
      "Epoch 1561/1600\n",
      "71/71 [==============================] - ETA: 0s - loss: 9.0044 - accuracy: 0.6549"
     ]
    },
    {
     "name": "stderr",
     "output_type": "stream",
     "text": [
      "2024-03-12 03:42 INFO End of Epoch 1561 - Loss: 9.0044\n"
     ]
    },
    {
     "name": "stdout",
     "output_type": "stream",
     "text": [
      "71/71 [==============================] - 20s 283ms/step - loss: 9.0044 - accuracy: 0.6549\n",
      "Epoch 1562/1600\n",
      "71/71 [==============================] - ETA: 0s - loss: 6.9411 - accuracy: 0.6635"
     ]
    },
    {
     "name": "stderr",
     "output_type": "stream",
     "text": [
      "2024-03-12 03:42 INFO End of Epoch 1562 - Loss: 6.9411\n"
     ]
    },
    {
     "name": "stdout",
     "output_type": "stream",
     "text": [
      "71/71 [==============================] - 20s 288ms/step - loss: 6.9411 - accuracy: 0.6635\n",
      "Epoch 1563/1600\n",
      "71/71 [==============================] - ETA: 0s - loss: 5.6265 - accuracy: 0.6631"
     ]
    },
    {
     "name": "stderr",
     "output_type": "stream",
     "text": [
      "2024-03-12 03:43 INFO End of Epoch 1563 - Loss: 5.6265\n"
     ]
    },
    {
     "name": "stdout",
     "output_type": "stream",
     "text": [
      "71/71 [==============================] - 20s 287ms/step - loss: 5.6265 - accuracy: 0.6631\n",
      "Epoch 1564/1600\n",
      "71/71 [==============================] - ETA: 0s - loss: 4.7088 - accuracy: 0.6285"
     ]
    },
    {
     "name": "stderr",
     "output_type": "stream",
     "text": [
      "2024-03-12 03:43 INFO End of Epoch 1564 - Loss: 4.7088\n"
     ]
    },
    {
     "name": "stdout",
     "output_type": "stream",
     "text": [
      "71/71 [==============================] - 20s 288ms/step - loss: 4.7088 - accuracy: 0.6285\n",
      "Epoch 1565/1600\n",
      "71/71 [==============================] - ETA: 0s - loss: 2.9321 - accuracy: 0.6068"
     ]
    },
    {
     "name": "stderr",
     "output_type": "stream",
     "text": [
      "2024-03-12 03:44 INFO End of Epoch 1565 - Loss: 2.9321\n"
     ]
    },
    {
     "name": "stdout",
     "output_type": "stream",
     "text": [
      "71/71 [==============================] - 21s 290ms/step - loss: 2.9321 - accuracy: 0.6068\n",
      "Epoch 1566/1600\n",
      "71/71 [==============================] - ETA: 0s - loss: 1.9585 - accuracy: 0.6276"
     ]
    },
    {
     "name": "stderr",
     "output_type": "stream",
     "text": [
      "2024-03-12 03:44 INFO End of Epoch 1566 - Loss: 1.9585\n"
     ]
    },
    {
     "name": "stdout",
     "output_type": "stream",
     "text": [
      "71/71 [==============================] - 20s 288ms/step - loss: 1.9585 - accuracy: 0.6276\n",
      "Epoch 1567/1600\n",
      "71/71 [==============================] - ETA: 0s - loss: 1.7495 - accuracy: 0.6687"
     ]
    },
    {
     "name": "stderr",
     "output_type": "stream",
     "text": [
      "2024-03-12 03:45 INFO End of Epoch 1567 - Loss: 1.7495\n"
     ]
    },
    {
     "name": "stdout",
     "output_type": "stream",
     "text": [
      "71/71 [==============================] - 20s 289ms/step - loss: 1.7495 - accuracy: 0.6687\n",
      "Epoch 1568/1600\n",
      "71/71 [==============================] - ETA: 0s - loss: 2.2347 - accuracy: 0.6340"
     ]
    },
    {
     "name": "stderr",
     "output_type": "stream",
     "text": [
      "2024-03-12 03:45 INFO End of Epoch 1568 - Loss: 2.2347\n"
     ]
    },
    {
     "name": "stdout",
     "output_type": "stream",
     "text": [
      "71/71 [==============================] - 20s 287ms/step - loss: 2.2347 - accuracy: 0.6340\n",
      "Epoch 1569/1600\n",
      "71/71 [==============================] - ETA: 0s - loss: 3.2442 - accuracy: 0.6819"
     ]
    },
    {
     "name": "stderr",
     "output_type": "stream",
     "text": [
      "2024-03-12 03:45 INFO End of Epoch 1569 - Loss: 3.2442\n"
     ]
    },
    {
     "name": "stdout",
     "output_type": "stream",
     "text": [
      "71/71 [==============================] - 20s 288ms/step - loss: 3.2442 - accuracy: 0.6819\n",
      "Epoch 1570/1600\n",
      "71/71 [==============================] - ETA: 0s - loss: 5.7968 - accuracy: 0.6637"
     ]
    },
    {
     "name": "stderr",
     "output_type": "stream",
     "text": [
      "2024-03-12 03:46 INFO End of Epoch 1570 - Loss: 5.7968\n"
     ]
    },
    {
     "name": "stdout",
     "output_type": "stream",
     "text": [
      "71/71 [==============================] - 20s 287ms/step - loss: 5.7968 - accuracy: 0.6637\n",
      "Epoch 1571/1600\n",
      "71/71 [==============================] - ETA: 0s - loss: 6.3952 - accuracy: 0.6448"
     ]
    },
    {
     "name": "stderr",
     "output_type": "stream",
     "text": [
      "2024-03-12 03:46 INFO End of Epoch 1571 - Loss: 6.3952\n"
     ]
    },
    {
     "name": "stdout",
     "output_type": "stream",
     "text": [
      "71/71 [==============================] - 21s 289ms/step - loss: 6.3952 - accuracy: 0.6448\n",
      "Epoch 1572/1600\n",
      "71/71 [==============================] - ETA: 0s - loss: 4.8751 - accuracy: 0.6750"
     ]
    },
    {
     "name": "stderr",
     "output_type": "stream",
     "text": [
      "2024-03-12 03:47 INFO End of Epoch 1572 - Loss: 4.8751\n"
     ]
    },
    {
     "name": "stdout",
     "output_type": "stream",
     "text": [
      "71/71 [==============================] - 20s 285ms/step - loss: 4.8751 - accuracy: 0.6750\n",
      "Epoch 1573/1600\n",
      "71/71 [==============================] - ETA: 0s - loss: 4.8478 - accuracy: 0.6708"
     ]
    },
    {
     "name": "stderr",
     "output_type": "stream",
     "text": [
      "2024-03-12 03:47 INFO End of Epoch 1573 - Loss: 4.8478\n"
     ]
    },
    {
     "name": "stdout",
     "output_type": "stream",
     "text": [
      "71/71 [==============================] - 21s 291ms/step - loss: 4.8478 - accuracy: 0.6708\n",
      "Epoch 1574/1600\n",
      "71/71 [==============================] - ETA: 0s - loss: 7.6568 - accuracy: 0.6422"
     ]
    },
    {
     "name": "stderr",
     "output_type": "stream",
     "text": [
      "2024-03-12 03:48 INFO End of Epoch 1574 - Loss: 7.6568\n"
     ]
    },
    {
     "name": "stdout",
     "output_type": "stream",
     "text": [
      "71/71 [==============================] - 20s 287ms/step - loss: 7.6568 - accuracy: 0.6422\n",
      "Epoch 1575/1600\n",
      "71/71 [==============================] - ETA: 0s - loss: 13.0201 - accuracy: 0.6465"
     ]
    },
    {
     "name": "stderr",
     "output_type": "stream",
     "text": [
      "2024-03-12 03:48 INFO End of Epoch 1575 - Loss: 13.0201\n"
     ]
    },
    {
     "name": "stdout",
     "output_type": "stream",
     "text": [
      "71/71 [==============================] - 20s 288ms/step - loss: 13.0201 - accuracy: 0.6465\n",
      "Epoch 1576/1600\n",
      "71/71 [==============================] - ETA: 0s - loss: 15.1022 - accuracy: 0.6430"
     ]
    },
    {
     "name": "stderr",
     "output_type": "stream",
     "text": [
      "2024-03-12 03:48 INFO End of Epoch 1576 - Loss: 15.1022\n"
     ]
    },
    {
     "name": "stdout",
     "output_type": "stream",
     "text": [
      "71/71 [==============================] - 20s 286ms/step - loss: 15.1022 - accuracy: 0.6430\n",
      "Epoch 1577/1600\n",
      "71/71 [==============================] - ETA: 0s - loss: 10.6340 - accuracy: 0.6296"
     ]
    },
    {
     "name": "stderr",
     "output_type": "stream",
     "text": [
      "2024-03-12 03:49 INFO End of Epoch 1577 - Loss: 10.6340\n"
     ]
    },
    {
     "name": "stdout",
     "output_type": "stream",
     "text": [
      "71/71 [==============================] - 20s 287ms/step - loss: 10.6340 - accuracy: 0.6296\n",
      "Epoch 1578/1600\n",
      "71/71 [==============================] - ETA: 0s - loss: 5.9065 - accuracy: 0.6627"
     ]
    },
    {
     "name": "stderr",
     "output_type": "stream",
     "text": [
      "2024-03-12 03:49 INFO End of Epoch 1578 - Loss: 5.9065\n"
     ]
    },
    {
     "name": "stdout",
     "output_type": "stream",
     "text": [
      "71/71 [==============================] - 20s 287ms/step - loss: 5.9065 - accuracy: 0.6627\n",
      "Epoch 1579/1600\n",
      "71/71 [==============================] - ETA: 0s - loss: 3.9743 - accuracy: 0.6536"
     ]
    },
    {
     "name": "stderr",
     "output_type": "stream",
     "text": [
      "2024-03-12 03:50 INFO End of Epoch 1579 - Loss: 3.9743\n"
     ]
    },
    {
     "name": "stdout",
     "output_type": "stream",
     "text": [
      "71/71 [==============================] - 20s 288ms/step - loss: 3.9743 - accuracy: 0.6536\n",
      "Epoch 1580/1600\n",
      "71/71 [==============================] - ETA: 0s - loss: 5.1309 - accuracy: 0.6671"
     ]
    },
    {
     "name": "stderr",
     "output_type": "stream",
     "text": [
      "2024-03-12 03:50 INFO End of Epoch 1580 - Loss: 5.1309\n"
     ]
    },
    {
     "name": "stdout",
     "output_type": "stream",
     "text": [
      "71/71 [==============================] - 20s 288ms/step - loss: 5.1309 - accuracy: 0.6671\n",
      "Epoch 1581/1600\n",
      "71/71 [==============================] - ETA: 0s - loss: 4.2624 - accuracy: 0.6555"
     ]
    },
    {
     "name": "stderr",
     "output_type": "stream",
     "text": [
      "2024-03-12 03:51 INFO End of Epoch 1581 - Loss: 4.2624\n"
     ]
    },
    {
     "name": "stdout",
     "output_type": "stream",
     "text": [
      "71/71 [==============================] - 21s 290ms/step - loss: 4.2624 - accuracy: 0.6555\n",
      "Epoch 1582/1600\n",
      "71/71 [==============================] - ETA: 0s - loss: 3.7367 - accuracy: 0.6647"
     ]
    },
    {
     "name": "stderr",
     "output_type": "stream",
     "text": [
      "2024-03-12 03:51 INFO End of Epoch 1582 - Loss: 3.7367\n"
     ]
    },
    {
     "name": "stdout",
     "output_type": "stream",
     "text": [
      "71/71 [==============================] - 20s 283ms/step - loss: 3.7367 - accuracy: 0.6647\n",
      "Epoch 1583/1600\n",
      "71/71 [==============================] - ETA: 0s - loss: 3.7800 - accuracy: 0.6499"
     ]
    },
    {
     "name": "stderr",
     "output_type": "stream",
     "text": [
      "2024-03-12 03:52 INFO End of Epoch 1583 - Loss: 3.7800\n"
     ]
    },
    {
     "name": "stdout",
     "output_type": "stream",
     "text": [
      "71/71 [==============================] - 20s 283ms/step - loss: 3.7800 - accuracy: 0.6499\n",
      "Epoch 1584/1600\n",
      "71/71 [==============================] - ETA: 0s - loss: 3.1476 - accuracy: 0.6723"
     ]
    },
    {
     "name": "stderr",
     "output_type": "stream",
     "text": [
      "2024-03-12 03:52 INFO End of Epoch 1584 - Loss: 3.1476\n"
     ]
    },
    {
     "name": "stdout",
     "output_type": "stream",
     "text": [
      "71/71 [==============================] - 21s 290ms/step - loss: 3.1476 - accuracy: 0.6723\n",
      "Epoch 1585/1600\n",
      "71/71 [==============================] - ETA: 0s - loss: 3.5077 - accuracy: 0.6712"
     ]
    },
    {
     "name": "stderr",
     "output_type": "stream",
     "text": [
      "2024-03-12 03:52 INFO End of Epoch 1585 - Loss: 3.5077\n"
     ]
    },
    {
     "name": "stdout",
     "output_type": "stream",
     "text": [
      "71/71 [==============================] - 20s 286ms/step - loss: 3.5077 - accuracy: 0.6712\n",
      "Epoch 1586/1600\n",
      "71/71 [==============================] - ETA: 0s - loss: 3.1874 - accuracy: 0.6718"
     ]
    },
    {
     "name": "stderr",
     "output_type": "stream",
     "text": [
      "2024-03-12 03:53 INFO End of Epoch 1586 - Loss: 3.1874\n"
     ]
    },
    {
     "name": "stdout",
     "output_type": "stream",
     "text": [
      "71/71 [==============================] - 20s 288ms/step - loss: 3.1874 - accuracy: 0.6718\n",
      "Epoch 1587/1600\n",
      "71/71 [==============================] - ETA: 0s - loss: 3.3216 - accuracy: 0.6748"
     ]
    },
    {
     "name": "stderr",
     "output_type": "stream",
     "text": [
      "2024-03-12 03:53 INFO End of Epoch 1587 - Loss: 3.3216\n"
     ]
    },
    {
     "name": "stdout",
     "output_type": "stream",
     "text": [
      "71/71 [==============================] - 20s 285ms/step - loss: 3.3216 - accuracy: 0.6748\n",
      "Epoch 1588/1600\n",
      "71/71 [==============================] - ETA: 0s - loss: 4.2119 - accuracy: 0.6871"
     ]
    },
    {
     "name": "stderr",
     "output_type": "stream",
     "text": [
      "2024-03-12 03:54 INFO End of Epoch 1588 - Loss: 4.2119\n"
     ]
    },
    {
     "name": "stdout",
     "output_type": "stream",
     "text": [
      "71/71 [==============================] - 20s 287ms/step - loss: 4.2119 - accuracy: 0.6871\n",
      "Epoch 1589/1600\n",
      "71/71 [==============================] - ETA: 0s - loss: 6.3101 - accuracy: 0.6671"
     ]
    },
    {
     "name": "stderr",
     "output_type": "stream",
     "text": [
      "2024-03-12 03:54 INFO End of Epoch 1589 - Loss: 6.3101\n"
     ]
    },
    {
     "name": "stdout",
     "output_type": "stream",
     "text": [
      "71/71 [==============================] - 20s 288ms/step - loss: 6.3101 - accuracy: 0.6671\n",
      "Epoch 1590/1600\n",
      "71/71 [==============================] - ETA: 0s - loss: 7.7694 - accuracy: 0.6543"
     ]
    },
    {
     "name": "stderr",
     "output_type": "stream",
     "text": [
      "2024-03-12 03:55 INFO End of Epoch 1590 - Loss: 7.7694\n"
     ]
    },
    {
     "name": "stdout",
     "output_type": "stream",
     "text": [
      "71/71 [==============================] - 20s 287ms/step - loss: 7.7694 - accuracy: 0.6543\n",
      "Epoch 1591/1600\n",
      "71/71 [==============================] - ETA: 0s - loss: 9.0763 - accuracy: 0.6378"
     ]
    },
    {
     "name": "stderr",
     "output_type": "stream",
     "text": [
      "2024-03-12 03:55 INFO End of Epoch 1591 - Loss: 9.0763\n"
     ]
    },
    {
     "name": "stdout",
     "output_type": "stream",
     "text": [
      "71/71 [==============================] - 20s 288ms/step - loss: 9.0763 - accuracy: 0.6378\n",
      "Epoch 1592/1600\n",
      "71/71 [==============================] - ETA: 0s - loss: 6.3550 - accuracy: 0.6529"
     ]
    },
    {
     "name": "stderr",
     "output_type": "stream",
     "text": [
      "2024-03-12 03:55 INFO End of Epoch 1592 - Loss: 6.3550\n"
     ]
    },
    {
     "name": "stdout",
     "output_type": "stream",
     "text": [
      "71/71 [==============================] - 20s 286ms/step - loss: 6.3550 - accuracy: 0.6529\n",
      "Epoch 1593/1600\n",
      "71/71 [==============================] - ETA: 0s - loss: 3.8303 - accuracy: 0.6614"
     ]
    },
    {
     "name": "stderr",
     "output_type": "stream",
     "text": [
      "2024-03-12 03:56 INFO End of Epoch 1593 - Loss: 3.8303\n"
     ]
    },
    {
     "name": "stdout",
     "output_type": "stream",
     "text": [
      "71/71 [==============================] - 20s 287ms/step - loss: 3.8303 - accuracy: 0.6614\n",
      "Epoch 1594/1600\n",
      "71/71 [==============================] - ETA: 0s - loss: 4.0910 - accuracy: 0.6712"
     ]
    },
    {
     "name": "stderr",
     "output_type": "stream",
     "text": [
      "2024-03-12 03:56 INFO End of Epoch 1594 - Loss: 4.0910\n"
     ]
    },
    {
     "name": "stdout",
     "output_type": "stream",
     "text": [
      "71/71 [==============================] - 20s 288ms/step - loss: 4.0910 - accuracy: 0.6712\n",
      "Epoch 1595/1600\n",
      "71/71 [==============================] - ETA: 0s - loss: 3.7388 - accuracy: 0.6756"
     ]
    },
    {
     "name": "stderr",
     "output_type": "stream",
     "text": [
      "2024-03-12 03:57 INFO End of Epoch 1595 - Loss: 3.7388\n"
     ]
    },
    {
     "name": "stdout",
     "output_type": "stream",
     "text": [
      "71/71 [==============================] - 20s 287ms/step - loss: 3.7388 - accuracy: 0.6756\n",
      "Epoch 1596/1600\n",
      "71/71 [==============================] - ETA: 0s - loss: 3.2346 - accuracy: 0.6789"
     ]
    },
    {
     "name": "stderr",
     "output_type": "stream",
     "text": [
      "2024-03-12 03:57 INFO End of Epoch 1596 - Loss: 3.2346\n"
     ]
    },
    {
     "name": "stdout",
     "output_type": "stream",
     "text": [
      "71/71 [==============================] - 20s 286ms/step - loss: 3.2346 - accuracy: 0.6789\n",
      "Epoch 1597/1600\n",
      "71/71 [==============================] - ETA: 0s - loss: 4.5257 - accuracy: 0.6704"
     ]
    },
    {
     "name": "stderr",
     "output_type": "stream",
     "text": [
      "2024-03-12 03:58 INFO End of Epoch 1597 - Loss: 4.5257\n"
     ]
    },
    {
     "name": "stdout",
     "output_type": "stream",
     "text": [
      "71/71 [==============================] - 21s 290ms/step - loss: 4.5257 - accuracy: 0.6704\n",
      "Epoch 1598/1600\n",
      "71/71 [==============================] - ETA: 0s - loss: 8.7491 - accuracy: 0.6288"
     ]
    },
    {
     "name": "stderr",
     "output_type": "stream",
     "text": [
      "2024-03-12 03:58 INFO End of Epoch 1598 - Loss: 8.7491\n"
     ]
    },
    {
     "name": "stdout",
     "output_type": "stream",
     "text": [
      "71/71 [==============================] - 21s 290ms/step - loss: 8.7491 - accuracy: 0.6288\n",
      "Epoch 1599/1600\n",
      "71/71 [==============================] - ETA: 0s - loss: 5.9557 - accuracy: 0.6455"
     ]
    },
    {
     "name": "stderr",
     "output_type": "stream",
     "text": [
      "2024-03-12 03:59 INFO End of Epoch 1599 - Loss: 5.9557\n"
     ]
    },
    {
     "name": "stdout",
     "output_type": "stream",
     "text": [
      "71/71 [==============================] - 20s 285ms/step - loss: 5.9557 - accuracy: 0.6455\n",
      "Epoch 1600/1600\n",
      "71/71 [==============================] - ETA: 0s - loss: 3.9879 - accuracy: 0.6685"
     ]
    },
    {
     "name": "stderr",
     "output_type": "stream",
     "text": [
      "2024-03-12 03:59 INFO End of Epoch 1600 - Loss: 3.9879\n"
     ]
    },
    {
     "name": "stdout",
     "output_type": "stream",
     "text": [
      "71/71 [==============================] - 21s 289ms/step - loss: 3.9879 - accuracy: 0.6685\n"
     ]
    }
   ],
   "source": [
    "input_shape = (input_height, input_width)\n",
    "\n",
    "strategy = tf.distribute.MirroredStrategy(devices=[f'/gpu:{i}' for i in range(3)])\n",
    "with strategy.scope():\n",
    "    model = Complex_SCNN18_Sigmoid(input_shape, nb_classes).model()\n",
    "\n",
    "    optimizer = get_optimizer('adam', lr)\n",
    "\n",
    "    # model.compile(optimizer=optimizer, loss='categorical_crossentropy', metrics=['accuracy'])\n",
    "    model.compile(optimizer=optimizer, loss='binary_crossentropy', metrics=['accuracy'])\n",
    "\n",
    "    model.summary(line_length=250, print_fn=LOG.info)\n",
    "\n",
    "training_step_logger = TrainingStepLogger()\n",
    "model.fit(train_ds,\n",
    "          epochs=max_epochs,\n",
    "          callbacks=[training_step_logger])\n",
    "\n",
    "model.save_weights(os.path.join(WEIGHT_DIR, f\"{str(datetime.date.today())}_Complex_SCNN18_Sigmoid_twoSecond_oneOutput_square_training_0.1LR.h5\"))"
   ]
  }
 ],
 "metadata": {
  "kernelspec": {
   "display_name": "Python 3",
   "language": "python",
   "name": "python3"
  },
  "language_info": {
   "codemirror_mode": {
    "name": "ipython",
    "version": 3
   },
   "file_extension": ".py",
   "mimetype": "text/x-python",
   "name": "python",
   "nbconvert_exporter": "python",
   "pygments_lexer": "ipython3",
   "version": "3.8.10"
  }
 },
 "nbformat": 4,
 "nbformat_minor": 2
}
